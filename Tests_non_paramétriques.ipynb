{
  "nbformat": 4,
  "nbformat_minor": 0,
  "metadata": {
    "colab": {
      "provenance": [],
      "authorship_tag": "ABX9TyPmTzZEbtHlbfqO8Kup2psP",
      "include_colab_link": true
    },
    "kernelspec": {
      "name": "python3",
      "display_name": "Python 3"
    },
    "language_info": {
      "name": "python"
    }
  },
  "cells": [
    {
      "cell_type": "markdown",
      "metadata": {
        "id": "view-in-github",
        "colab_type": "text"
      },
      "source": [
        "<a href=\"https://colab.research.google.com/github/othniel77/datascience/blob/main/Tests_non_param%C3%A9triques.ipynb\" target=\"_parent\"><img src=\"https://colab.research.google.com/assets/colab-badge.svg\" alt=\"Open In Colab\"/></a>"
      ]
    },
    {
      "cell_type": "code",
      "execution_count": null,
      "metadata": {
        "id": "mF9KWqoE5Zgd"
      },
      "outputs": [],
      "source": [
        "import pandas as pd"
      ]
    },
    {
      "cell_type": "code",
      "source": [
        "from google.colab import files\n",
        "data_to_load = files.upload()"
      ],
      "metadata": {
        "colab": {
          "base_uri": "https://localhost:8080/",
          "height": 73
        },
        "id": "RAze6R8N50Po",
        "outputId": "ae4eca41-f0f5-4d69-dfe0-64a35db59d4f"
      },
      "execution_count": null,
      "outputs": [
        {
          "output_type": "display_data",
          "data": {
            "text/plain": [
              "<IPython.core.display.HTML object>"
            ],
            "text/html": [
              "\n",
              "     <input type=\"file\" id=\"files-24f9c64a-afd5-41fb-b7ac-6b4c139ac139\" name=\"files[]\" multiple disabled\n",
              "        style=\"border:none\" />\n",
              "     <output id=\"result-24f9c64a-afd5-41fb-b7ac-6b4c139ac139\">\n",
              "      Upload widget is only available when the cell has been executed in the\n",
              "      current browser session. Please rerun this cell to enable.\n",
              "      </output>\n",
              "      <script>// Copyright 2017 Google LLC\n",
              "//\n",
              "// Licensed under the Apache License, Version 2.0 (the \"License\");\n",
              "// you may not use this file except in compliance with the License.\n",
              "// You may obtain a copy of the License at\n",
              "//\n",
              "//      http://www.apache.org/licenses/LICENSE-2.0\n",
              "//\n",
              "// Unless required by applicable law or agreed to in writing, software\n",
              "// distributed under the License is distributed on an \"AS IS\" BASIS,\n",
              "// WITHOUT WARRANTIES OR CONDITIONS OF ANY KIND, either express or implied.\n",
              "// See the License for the specific language governing permissions and\n",
              "// limitations under the License.\n",
              "\n",
              "/**\n",
              " * @fileoverview Helpers for google.colab Python module.\n",
              " */\n",
              "(function(scope) {\n",
              "function span(text, styleAttributes = {}) {\n",
              "  const element = document.createElement('span');\n",
              "  element.textContent = text;\n",
              "  for (const key of Object.keys(styleAttributes)) {\n",
              "    element.style[key] = styleAttributes[key];\n",
              "  }\n",
              "  return element;\n",
              "}\n",
              "\n",
              "// Max number of bytes which will be uploaded at a time.\n",
              "const MAX_PAYLOAD_SIZE = 100 * 1024;\n",
              "\n",
              "function _uploadFiles(inputId, outputId) {\n",
              "  const steps = uploadFilesStep(inputId, outputId);\n",
              "  const outputElement = document.getElementById(outputId);\n",
              "  // Cache steps on the outputElement to make it available for the next call\n",
              "  // to uploadFilesContinue from Python.\n",
              "  outputElement.steps = steps;\n",
              "\n",
              "  return _uploadFilesContinue(outputId);\n",
              "}\n",
              "\n",
              "// This is roughly an async generator (not supported in the browser yet),\n",
              "// where there are multiple asynchronous steps and the Python side is going\n",
              "// to poll for completion of each step.\n",
              "// This uses a Promise to block the python side on completion of each step,\n",
              "// then passes the result of the previous step as the input to the next step.\n",
              "function _uploadFilesContinue(outputId) {\n",
              "  const outputElement = document.getElementById(outputId);\n",
              "  const steps = outputElement.steps;\n",
              "\n",
              "  const next = steps.next(outputElement.lastPromiseValue);\n",
              "  return Promise.resolve(next.value.promise).then((value) => {\n",
              "    // Cache the last promise value to make it available to the next\n",
              "    // step of the generator.\n",
              "    outputElement.lastPromiseValue = value;\n",
              "    return next.value.response;\n",
              "  });\n",
              "}\n",
              "\n",
              "/**\n",
              " * Generator function which is called between each async step of the upload\n",
              " * process.\n",
              " * @param {string} inputId Element ID of the input file picker element.\n",
              " * @param {string} outputId Element ID of the output display.\n",
              " * @return {!Iterable<!Object>} Iterable of next steps.\n",
              " */\n",
              "function* uploadFilesStep(inputId, outputId) {\n",
              "  const inputElement = document.getElementById(inputId);\n",
              "  inputElement.disabled = false;\n",
              "\n",
              "  const outputElement = document.getElementById(outputId);\n",
              "  outputElement.innerHTML = '';\n",
              "\n",
              "  const pickedPromise = new Promise((resolve) => {\n",
              "    inputElement.addEventListener('change', (e) => {\n",
              "      resolve(e.target.files);\n",
              "    });\n",
              "  });\n",
              "\n",
              "  const cancel = document.createElement('button');\n",
              "  inputElement.parentElement.appendChild(cancel);\n",
              "  cancel.textContent = 'Cancel upload';\n",
              "  const cancelPromise = new Promise((resolve) => {\n",
              "    cancel.onclick = () => {\n",
              "      resolve(null);\n",
              "    };\n",
              "  });\n",
              "\n",
              "  // Wait for the user to pick the files.\n",
              "  const files = yield {\n",
              "    promise: Promise.race([pickedPromise, cancelPromise]),\n",
              "    response: {\n",
              "      action: 'starting',\n",
              "    }\n",
              "  };\n",
              "\n",
              "  cancel.remove();\n",
              "\n",
              "  // Disable the input element since further picks are not allowed.\n",
              "  inputElement.disabled = true;\n",
              "\n",
              "  if (!files) {\n",
              "    return {\n",
              "      response: {\n",
              "        action: 'complete',\n",
              "      }\n",
              "    };\n",
              "  }\n",
              "\n",
              "  for (const file of files) {\n",
              "    const li = document.createElement('li');\n",
              "    li.append(span(file.name, {fontWeight: 'bold'}));\n",
              "    li.append(span(\n",
              "        `(${file.type || 'n/a'}) - ${file.size} bytes, ` +\n",
              "        `last modified: ${\n",
              "            file.lastModifiedDate ? file.lastModifiedDate.toLocaleDateString() :\n",
              "                                    'n/a'} - `));\n",
              "    const percent = span('0% done');\n",
              "    li.appendChild(percent);\n",
              "\n",
              "    outputElement.appendChild(li);\n",
              "\n",
              "    const fileDataPromise = new Promise((resolve) => {\n",
              "      const reader = new FileReader();\n",
              "      reader.onload = (e) => {\n",
              "        resolve(e.target.result);\n",
              "      };\n",
              "      reader.readAsArrayBuffer(file);\n",
              "    });\n",
              "    // Wait for the data to be ready.\n",
              "    let fileData = yield {\n",
              "      promise: fileDataPromise,\n",
              "      response: {\n",
              "        action: 'continue',\n",
              "      }\n",
              "    };\n",
              "\n",
              "    // Use a chunked sending to avoid message size limits. See b/62115660.\n",
              "    let position = 0;\n",
              "    do {\n",
              "      const length = Math.min(fileData.byteLength - position, MAX_PAYLOAD_SIZE);\n",
              "      const chunk = new Uint8Array(fileData, position, length);\n",
              "      position += length;\n",
              "\n",
              "      const base64 = btoa(String.fromCharCode.apply(null, chunk));\n",
              "      yield {\n",
              "        response: {\n",
              "          action: 'append',\n",
              "          file: file.name,\n",
              "          data: base64,\n",
              "        },\n",
              "      };\n",
              "\n",
              "      let percentDone = fileData.byteLength === 0 ?\n",
              "          100 :\n",
              "          Math.round((position / fileData.byteLength) * 100);\n",
              "      percent.textContent = `${percentDone}% done`;\n",
              "\n",
              "    } while (position < fileData.byteLength);\n",
              "  }\n",
              "\n",
              "  // All done.\n",
              "  yield {\n",
              "    response: {\n",
              "      action: 'complete',\n",
              "    }\n",
              "  };\n",
              "}\n",
              "\n",
              "scope.google = scope.google || {};\n",
              "scope.google.colab = scope.google.colab || {};\n",
              "scope.google.colab._files = {\n",
              "  _uploadFiles,\n",
              "  _uploadFilesContinue,\n",
              "};\n",
              "})(self);\n",
              "</script> "
            ]
          },
          "metadata": {}
        },
        {
          "output_type": "stream",
          "name": "stdout",
          "text": [
            "Saving stack_overflow.feather to stack_overflow.feather\n"
          ]
        }
      ]
    },
    {
      "cell_type": "markdown",
      "source": [
        "# **Tests non - paramétrique**"
      ],
      "metadata": {
        "id": "FUT8djZP6ntK"
      }
    },
    {
      "cell_type": "markdown",
      "source": [
        "# **Tests paramétriques**\n",
        "\n",
        "Le test z, le test t et l'ANOVA sont tous des tests paramétriques.\n",
        "\n",
        "Supposons une distribution normale\n",
        "\n",
        "Exiger des échantillons de taille suffisamment grande"
      ],
      "metadata": {
        "id": "B2HP6UR567ON"
      }
    },
    {
      "cell_type": "markdown",
      "source": [
        "Données sur les votes républicains plus petits\n"
      ],
      "metadata": {
        "id": "XZ9K4UNG7ZPb"
      }
    },
    {
      "cell_type": "code",
      "source": [
        "repub_votes_small = pd.read_feather('/content/repub_votes_potus_08_12.feather')\n",
        "print(repub_votes_small.head())"
      ],
      "metadata": {
        "colab": {
          "base_uri": "https://localhost:8080/"
        },
        "id": "jUUSHnXR7jqq",
        "outputId": "5b1f5440-8a54-4c98-b4e8-03fb0deb2986"
      },
      "execution_count": null,
      "outputs": [
        {
          "output_type": "stream",
          "name": "stdout",
          "text": [
            "        state   county  repub_percent_08  repub_percent_12\n",
            "0     Alabama     Hale         38.957877         37.139882\n",
            "1    Arkansas   Nevada         56.726272         58.983452\n",
            "2  California     Lake         38.896719         39.331367\n",
            "3  California  Ventura         42.923190         45.250693\n",
            "4    Colorado  Lincoln         74.522569         73.764757\n"
          ]
        }
      ]
    },
    {
      "cell_type": "code",
      "source": [
        "print(repub_votes_small)"
      ],
      "metadata": {
        "colab": {
          "base_uri": "https://localhost:8080/"
        },
        "id": "JP-GS2FQ7UtA",
        "outputId": "ec02a4d5-1fe4-40c8-87a2-b95c82d1b4d3"
      },
      "execution_count": null,
      "outputs": [
        {
          "output_type": "stream",
          "name": "stdout",
          "text": [
            "         state       county  repub_percent_08  repub_percent_12\n",
            "0      Alabama         Hale         38.957877         37.139882\n",
            "1     Arkansas       Nevada         56.726272         58.983452\n",
            "2   California         Lake         38.896719         39.331367\n",
            "3   California      Ventura         42.923190         45.250693\n",
            "4     Colorado      Lincoln         74.522569         73.764757\n",
            "..         ...          ...               ...               ...\n",
            "95   Wisconsin      Burnett         48.342541         52.437478\n",
            "96   Wisconsin    La Crosse         37.490904         40.577038\n",
            "97   Wisconsin    Lafayette         38.104967         41.675050\n",
            "98     Wyoming       Weston         76.684241         83.983328\n",
            "99      Alaska  District 34         77.063259         40.789626\n",
            "\n",
            "[100 rows x 4 columns]\n"
          ]
        }
      ]
    },
    {
      "cell_type": "markdown",
      "source": [
        "## **Résultats avec pingouin.ttest()**\n",
        "\n",
        "  - 5 paires ne suffisent pas pour remplir la condition de taille d’échantillon pour le test t apparié :\n",
        "\n",
        "         - Au moins 30 paires d'observations dans les échantillons."
      ],
      "metadata": {
        "id": "FK6dLNdP8FIE"
      }
    },
    {
      "cell_type": "code",
      "source": [
        "! pip install pingouin"
      ],
      "metadata": {
        "colab": {
          "base_uri": "https://localhost:8080/"
        },
        "id": "pl55mE5X80ub",
        "outputId": "40c64282-af9f-44d6-8306-3d3ac7c50d17"
      },
      "execution_count": null,
      "outputs": [
        {
          "output_type": "stream",
          "name": "stdout",
          "text": [
            "Collecting pingouin\n",
            "  Downloading pingouin-0.5.4-py2.py3-none-any.whl (198 kB)\n",
            "\u001b[?25l     \u001b[90m━━━━━━━━━━━━━━━━━━━━━━━━━━━━━━━━━━━━━━━━\u001b[0m \u001b[32m0.0/198.9 kB\u001b[0m \u001b[31m?\u001b[0m eta \u001b[36m-:--:--\u001b[0m\r\u001b[2K     \u001b[91m━━━━━━━━━━━━━━━━\u001b[0m\u001b[90m╺\u001b[0m\u001b[90m━━━━━━━━━━━━━━━━━━━━━━━\u001b[0m \u001b[32m81.9/198.9 kB\u001b[0m \u001b[31m2.5 MB/s\u001b[0m eta \u001b[36m0:00:01\u001b[0m\r\u001b[2K     \u001b[90m━━━━━━━━━━━━━━━━━━━━━━━━━━━━━━━━━━━━━━━━\u001b[0m \u001b[32m198.9/198.9 kB\u001b[0m \u001b[31m3.6 MB/s\u001b[0m eta \u001b[36m0:00:00\u001b[0m\n",
            "\u001b[?25hRequirement already satisfied: numpy in /usr/local/lib/python3.10/dist-packages (from pingouin) (1.23.5)\n",
            "Requirement already satisfied: scipy in /usr/local/lib/python3.10/dist-packages (from pingouin) (1.11.4)\n",
            "Requirement already satisfied: pandas>=1.5 in /usr/local/lib/python3.10/dist-packages (from pingouin) (1.5.3)\n",
            "Requirement already satisfied: matplotlib in /usr/local/lib/python3.10/dist-packages (from pingouin) (3.7.1)\n",
            "Requirement already satisfied: seaborn in /usr/local/lib/python3.10/dist-packages (from pingouin) (0.13.1)\n",
            "Requirement already satisfied: statsmodels in /usr/local/lib/python3.10/dist-packages (from pingouin) (0.14.1)\n",
            "Requirement already satisfied: scikit-learn in /usr/local/lib/python3.10/dist-packages (from pingouin) (1.2.2)\n",
            "Collecting pandas-flavor (from pingouin)\n",
            "  Downloading pandas_flavor-0.6.0-py3-none-any.whl (7.2 kB)\n",
            "Requirement already satisfied: tabulate in /usr/local/lib/python3.10/dist-packages (from pingouin) (0.9.0)\n",
            "Requirement already satisfied: python-dateutil>=2.8.1 in /usr/local/lib/python3.10/dist-packages (from pandas>=1.5->pingouin) (2.8.2)\n",
            "Requirement already satisfied: pytz>=2020.1 in /usr/local/lib/python3.10/dist-packages (from pandas>=1.5->pingouin) (2023.3.post1)\n",
            "Requirement already satisfied: contourpy>=1.0.1 in /usr/local/lib/python3.10/dist-packages (from matplotlib->pingouin) (1.2.0)\n",
            "Requirement already satisfied: cycler>=0.10 in /usr/local/lib/python3.10/dist-packages (from matplotlib->pingouin) (0.12.1)\n",
            "Requirement already satisfied: fonttools>=4.22.0 in /usr/local/lib/python3.10/dist-packages (from matplotlib->pingouin) (4.47.2)\n",
            "Requirement already satisfied: kiwisolver>=1.0.1 in /usr/local/lib/python3.10/dist-packages (from matplotlib->pingouin) (1.4.5)\n",
            "Requirement already satisfied: packaging>=20.0 in /usr/local/lib/python3.10/dist-packages (from matplotlib->pingouin) (23.2)\n",
            "Requirement already satisfied: pillow>=6.2.0 in /usr/local/lib/python3.10/dist-packages (from matplotlib->pingouin) (9.4.0)\n",
            "Requirement already satisfied: pyparsing>=2.3.1 in /usr/local/lib/python3.10/dist-packages (from matplotlib->pingouin) (3.1.1)\n",
            "Requirement already satisfied: xarray in /usr/local/lib/python3.10/dist-packages (from pandas-flavor->pingouin) (2023.7.0)\n",
            "Requirement already satisfied: joblib>=1.1.1 in /usr/local/lib/python3.10/dist-packages (from scikit-learn->pingouin) (1.3.2)\n",
            "Requirement already satisfied: threadpoolctl>=2.0.0 in /usr/local/lib/python3.10/dist-packages (from scikit-learn->pingouin) (3.2.0)\n",
            "Requirement already satisfied: patsy>=0.5.4 in /usr/local/lib/python3.10/dist-packages (from statsmodels->pingouin) (0.5.6)\n",
            "Requirement already satisfied: six in /usr/local/lib/python3.10/dist-packages (from patsy>=0.5.4->statsmodels->pingouin) (1.16.0)\n",
            "Installing collected packages: pandas-flavor, pingouin\n",
            "Successfully installed pandas-flavor-0.6.0 pingouin-0.5.4\n"
          ]
        }
      ]
    },
    {
      "cell_type": "code",
      "source": [
        "repub_votes_potus_08_12_small = repub_votes_small"
      ],
      "metadata": {
        "id": "DjcHaq5-9GGQ"
      },
      "execution_count": null,
      "outputs": []
    },
    {
      "cell_type": "code",
      "source": [
        "alpha = 0.01\n",
        "import pingouin\n",
        "pingouin.ttest(x=repub_votes_potus_08_12_small['repub_percent_08'],y=repub_votes_potus_08_12_small['repub_percent_12'],\n",
        "               paired=True,alternative=\"less\")"
      ],
      "metadata": {
        "colab": {
          "base_uri": "https://localhost:8080/",
          "height": 81
        },
        "id": "i4a-wsCo8ULx",
        "outputId": "3eca4430-6a75-417a-8256-bc43a9a3d044"
      },
      "execution_count": null,
      "outputs": [
        {
          "output_type": "execute_result",
          "data": {
            "text/plain": [
              "               T  dof alternative         p-val          CI95%   cohen-d  \\\n",
              "T-test -5.601043   99        less  9.572537e-08  [-inf, -2.02]  0.217364   \n",
              "\n",
              "             BF10     power  \n",
              "T-test  1.323e+05  0.696338  "
            ],
            "text/html": [
              "\n",
              "  <div id=\"df-7d194fcf-d987-4b9a-8380-666f0a57b719\" class=\"colab-df-container\">\n",
              "    <div>\n",
              "<style scoped>\n",
              "    .dataframe tbody tr th:only-of-type {\n",
              "        vertical-align: middle;\n",
              "    }\n",
              "\n",
              "    .dataframe tbody tr th {\n",
              "        vertical-align: top;\n",
              "    }\n",
              "\n",
              "    .dataframe thead th {\n",
              "        text-align: right;\n",
              "    }\n",
              "</style>\n",
              "<table border=\"1\" class=\"dataframe\">\n",
              "  <thead>\n",
              "    <tr style=\"text-align: right;\">\n",
              "      <th></th>\n",
              "      <th>T</th>\n",
              "      <th>dof</th>\n",
              "      <th>alternative</th>\n",
              "      <th>p-val</th>\n",
              "      <th>CI95%</th>\n",
              "      <th>cohen-d</th>\n",
              "      <th>BF10</th>\n",
              "      <th>power</th>\n",
              "    </tr>\n",
              "  </thead>\n",
              "  <tbody>\n",
              "    <tr>\n",
              "      <th>T-test</th>\n",
              "      <td>-5.601043</td>\n",
              "      <td>99</td>\n",
              "      <td>less</td>\n",
              "      <td>9.572537e-08</td>\n",
              "      <td>[-inf, -2.02]</td>\n",
              "      <td>0.217364</td>\n",
              "      <td>1.323e+05</td>\n",
              "      <td>0.696338</td>\n",
              "    </tr>\n",
              "  </tbody>\n",
              "</table>\n",
              "</div>\n",
              "    <div class=\"colab-df-buttons\">\n",
              "\n",
              "  <div class=\"colab-df-container\">\n",
              "    <button class=\"colab-df-convert\" onclick=\"convertToInteractive('df-7d194fcf-d987-4b9a-8380-666f0a57b719')\"\n",
              "            title=\"Convert this dataframe to an interactive table.\"\n",
              "            style=\"display:none;\">\n",
              "\n",
              "  <svg xmlns=\"http://www.w3.org/2000/svg\" height=\"24px\" viewBox=\"0 -960 960 960\">\n",
              "    <path d=\"M120-120v-720h720v720H120Zm60-500h600v-160H180v160Zm220 220h160v-160H400v160Zm0 220h160v-160H400v160ZM180-400h160v-160H180v160Zm440 0h160v-160H620v160ZM180-180h160v-160H180v160Zm440 0h160v-160H620v160Z\"/>\n",
              "  </svg>\n",
              "    </button>\n",
              "\n",
              "  <style>\n",
              "    .colab-df-container {\n",
              "      display:flex;\n",
              "      gap: 12px;\n",
              "    }\n",
              "\n",
              "    .colab-df-convert {\n",
              "      background-color: #E8F0FE;\n",
              "      border: none;\n",
              "      border-radius: 50%;\n",
              "      cursor: pointer;\n",
              "      display: none;\n",
              "      fill: #1967D2;\n",
              "      height: 32px;\n",
              "      padding: 0 0 0 0;\n",
              "      width: 32px;\n",
              "    }\n",
              "\n",
              "    .colab-df-convert:hover {\n",
              "      background-color: #E2EBFA;\n",
              "      box-shadow: 0px 1px 2px rgba(60, 64, 67, 0.3), 0px 1px 3px 1px rgba(60, 64, 67, 0.15);\n",
              "      fill: #174EA6;\n",
              "    }\n",
              "\n",
              "    .colab-df-buttons div {\n",
              "      margin-bottom: 4px;\n",
              "    }\n",
              "\n",
              "    [theme=dark] .colab-df-convert {\n",
              "      background-color: #3B4455;\n",
              "      fill: #D2E3FC;\n",
              "    }\n",
              "\n",
              "    [theme=dark] .colab-df-convert:hover {\n",
              "      background-color: #434B5C;\n",
              "      box-shadow: 0px 1px 3px 1px rgba(0, 0, 0, 0.15);\n",
              "      filter: drop-shadow(0px 1px 2px rgba(0, 0, 0, 0.3));\n",
              "      fill: #FFFFFF;\n",
              "    }\n",
              "  </style>\n",
              "\n",
              "    <script>\n",
              "      const buttonEl =\n",
              "        document.querySelector('#df-7d194fcf-d987-4b9a-8380-666f0a57b719 button.colab-df-convert');\n",
              "      buttonEl.style.display =\n",
              "        google.colab.kernel.accessAllowed ? 'block' : 'none';\n",
              "\n",
              "      async function convertToInteractive(key) {\n",
              "        const element = document.querySelector('#df-7d194fcf-d987-4b9a-8380-666f0a57b719');\n",
              "        const dataTable =\n",
              "          await google.colab.kernel.invokeFunction('convertToInteractive',\n",
              "                                                    [key], {});\n",
              "        if (!dataTable) return;\n",
              "\n",
              "        const docLinkHtml = 'Like what you see? Visit the ' +\n",
              "          '<a target=\"_blank\" href=https://colab.research.google.com/notebooks/data_table.ipynb>data table notebook</a>'\n",
              "          + ' to learn more about interactive tables.';\n",
              "        element.innerHTML = '';\n",
              "        dataTable['output_type'] = 'display_data';\n",
              "        await google.colab.output.renderOutput(dataTable, element);\n",
              "        const docLink = document.createElement('div');\n",
              "        docLink.innerHTML = docLinkHtml;\n",
              "        element.appendChild(docLink);\n",
              "      }\n",
              "    </script>\n",
              "  </div>\n",
              "\n",
              "    </div>\n",
              "  </div>\n"
            ]
          },
          "metadata": {},
          "execution_count": 7
        }
      ]
    },
    {
      "cell_type": "markdown",
      "source": [
        "## **Tests non paramétriques**\n",
        "\n",
        "Les tests non paramétriques évitent les hypothèses et conditions paramétriques\n",
        "\n",
        "De nombreux tests non paramétriques utilisent les rangs des données"
      ],
      "metadata": {
        "id": "sz9IHZyU9gyh"
      }
    },
    {
      "cell_type": "code",
      "source": [
        "x = [1, 15, 3, 10, 6]\n"
      ],
      "metadata": {
        "id": "rBj-GXCg9v5b"
      },
      "execution_count": null,
      "outputs": []
    },
    {
      "cell_type": "code",
      "source": [
        "from scipy.stats import rankdata\n",
        "rankdata(x)"
      ],
      "metadata": {
        "colab": {
          "base_uri": "https://localhost:8080/"
        },
        "id": "KVzZOhEl91Hz",
        "outputId": "ab1399a9-346a-4027-df84-cbe2a37f9502"
      },
      "execution_count": null,
      "outputs": [
        {
          "output_type": "execute_result",
          "data": {
            "text/plain": [
              "array([1., 5., 2., 4., 3.])"
            ]
          },
          "metadata": {},
          "execution_count": 9
        }
      ]
    },
    {
      "cell_type": "markdown",
      "source": [
        "Les tests non paramétriques sont plus fiables que les tests paramétriques pour les petits échantillons et quand les\n",
        "données ne sont pas normalement distribuées"
      ],
      "metadata": {
        "id": "BcDa-HxL-3iH"
      }
    },
    {
      "cell_type": "markdown",
      "source": [
        "### **Test de classement signé par Wilcoxon**\n",
        "\n",
        "Travaille sur les différences absolues classées entre les paires de données"
      ],
      "metadata": {
        "id": "-vZS2ox5_KFU"
      }
    },
    {
      "cell_type": "code",
      "source": [
        "repub_votes_small['diff'] = repub_votes_small['repub_percent_08'] - repub_votes_small['repub_percent_12']\n",
        "print(repub_votes_small)"
      ],
      "metadata": {
        "colab": {
          "base_uri": "https://localhost:8080/"
        },
        "id": "vutpYCZL_Znd",
        "outputId": "26804740-7900-4c04-94b4-bb84abe644fc"
      },
      "execution_count": null,
      "outputs": [
        {
          "output_type": "stream",
          "name": "stdout",
          "text": [
            "         state       county  repub_percent_08  repub_percent_12       diff\n",
            "0      Alabama         Hale         38.957877         37.139882   1.817995\n",
            "1     Arkansas       Nevada         56.726272         58.983452  -2.257179\n",
            "2   California         Lake         38.896719         39.331367  -0.434648\n",
            "3   California      Ventura         42.923190         45.250693  -2.327503\n",
            "4     Colorado      Lincoln         74.522569         73.764757   0.757812\n",
            "..         ...          ...               ...               ...        ...\n",
            "95   Wisconsin      Burnett         48.342541         52.437478  -4.094937\n",
            "96   Wisconsin    La Crosse         37.490904         40.577038  -3.086134\n",
            "97   Wisconsin    Lafayette         38.104967         41.675050  -3.570083\n",
            "98     Wyoming       Weston         76.684241         83.983328  -7.299087\n",
            "99      Alaska  District 34         77.063259         40.789626  36.273633\n",
            "\n",
            "[100 rows x 5 columns]\n"
          ]
        }
      ]
    },
    {
      "cell_type": "code",
      "source": [
        "repub_votes_small['abs_diff'] = repub_votes_small['diff'].abs()\n",
        "print(repub_votes_small)"
      ],
      "metadata": {
        "colab": {
          "base_uri": "https://localhost:8080/"
        },
        "id": "P-2iXJlU_yyR",
        "outputId": "fe7c4309-2b6a-4eaa-e1ea-1947c31ef4c3"
      },
      "execution_count": null,
      "outputs": [
        {
          "output_type": "stream",
          "name": "stdout",
          "text": [
            "         state       county  repub_percent_08  repub_percent_12       diff  \\\n",
            "0      Alabama         Hale         38.957877         37.139882   1.817995   \n",
            "1     Arkansas       Nevada         56.726272         58.983452  -2.257179   \n",
            "2   California         Lake         38.896719         39.331367  -0.434648   \n",
            "3   California      Ventura         42.923190         45.250693  -2.327503   \n",
            "4     Colorado      Lincoln         74.522569         73.764757   0.757812   \n",
            "..         ...          ...               ...               ...        ...   \n",
            "95   Wisconsin      Burnett         48.342541         52.437478  -4.094937   \n",
            "96   Wisconsin    La Crosse         37.490904         40.577038  -3.086134   \n",
            "97   Wisconsin    Lafayette         38.104967         41.675050  -3.570083   \n",
            "98     Wyoming       Weston         76.684241         83.983328  -7.299087   \n",
            "99      Alaska  District 34         77.063259         40.789626  36.273633   \n",
            "\n",
            "     abs_diff  \n",
            "0    1.817995  \n",
            "1    2.257179  \n",
            "2    0.434648  \n",
            "3    2.327503  \n",
            "4    0.757812  \n",
            "..        ...  \n",
            "95   4.094937  \n",
            "96   3.086134  \n",
            "97   3.570083  \n",
            "98   7.299087  \n",
            "99  36.273633  \n",
            "\n",
            "[100 rows x 6 columns]\n"
          ]
        }
      ]
    },
    {
      "cell_type": "code",
      "source": [
        "from scipy.stats import rankdata\n",
        "repub_votes_small['rank_abs_diff'] = rankdata(repub_votes_small['abs_diff'])\n",
        "print(repub_votes_small)\n"
      ],
      "metadata": {
        "colab": {
          "base_uri": "https://localhost:8080/"
        },
        "id": "iarr3COG__bW",
        "outputId": "59aeae42-c986-4017-af2e-e90991cac587"
      },
      "execution_count": null,
      "outputs": [
        {
          "output_type": "stream",
          "name": "stdout",
          "text": [
            "         state       county  repub_percent_08  repub_percent_12       diff  \\\n",
            "0      Alabama         Hale         38.957877         37.139882   1.817995   \n",
            "1     Arkansas       Nevada         56.726272         58.983452  -2.257179   \n",
            "2   California         Lake         38.896719         39.331367  -0.434648   \n",
            "3   California      Ventura         42.923190         45.250693  -2.327503   \n",
            "4     Colorado      Lincoln         74.522569         73.764757   0.757812   \n",
            "..         ...          ...               ...               ...        ...   \n",
            "95   Wisconsin      Burnett         48.342541         52.437478  -4.094937   \n",
            "96   Wisconsin    La Crosse         37.490904         40.577038  -3.086134   \n",
            "97   Wisconsin    Lafayette         38.104967         41.675050  -3.570083   \n",
            "98     Wyoming       Weston         76.684241         83.983328  -7.299087   \n",
            "99      Alaska  District 34         77.063259         40.789626  36.273633   \n",
            "\n",
            "     abs_diff  rank_abs_diff  \n",
            "0    1.817995           33.0  \n",
            "1    2.257179           42.0  \n",
            "2    0.434648           10.0  \n",
            "3    2.327503           44.0  \n",
            "4    0.757812           16.0  \n",
            "..        ...            ...  \n",
            "95   4.094937           63.0  \n",
            "96   3.086134           50.0  \n",
            "97   3.570083           54.0  \n",
            "98   7.299087           87.0  \n",
            "99  36.273633          100.0  \n",
            "\n",
            "[100 rows x 7 columns]\n"
          ]
        }
      ]
    },
    {
      "cell_type": "markdown",
      "source": [
        "Incorporer la somme des rangs pour les différences négatives et positives"
      ],
      "metadata": {
        "id": "qblwtkbjASYQ"
      }
    },
    {
      "cell_type": "code",
      "source": [
        "import numpy as np"
      ],
      "metadata": {
        "id": "_xiaUV4kAZ1g"
      },
      "execution_count": null,
      "outputs": []
    },
    {
      "cell_type": "code",
      "source": [
        "T_minus = 1 + 4 + 5 + 2 + 3\n",
        "T_plus = 0\n",
        "W = np.min([T_minus, T_plus])\n",
        "W\n"
      ],
      "metadata": {
        "colab": {
          "base_uri": "https://localhost:8080/"
        },
        "id": "tvgAJa77ATGr",
        "outputId": "2ba647ba-d3fb-46bf-d9d8-b849f9d6e443"
      },
      "execution_count": null,
      "outputs": [
        {
          "output_type": "execute_result",
          "data": {
            "text/plain": [
              "0"
            ]
          },
          "metadata": {},
          "execution_count": 17
        }
      ]
    },
    {
      "cell_type": "code",
      "source": [
        "alpha = 0.01\n",
        "pingouin.wilcoxon(x=repub_votes_potus_08_12_small['repub_percent_08'],y=repub_votes_potus_08_12_small['repub_percent_12'],\n",
        "                  alternative=\"less\")"
      ],
      "metadata": {
        "colab": {
          "base_uri": "https://localhost:8080/",
          "height": 81
        },
        "id": "GXAV_hx1AkM9",
        "outputId": "fa258d07-a23b-429e-e02b-b1b666d28c32"
      },
      "execution_count": null,
      "outputs": [
        {
          "output_type": "execute_result",
          "data": {
            "text/plain": [
              "          W-val alternative         p-val       RBC    CLES\n",
              "Wilcoxon  386.0        less  9.700674e-14 -0.847129  0.5729"
            ],
            "text/html": [
              "\n",
              "  <div id=\"df-661742b2-af4c-4cab-9c0b-260b49244de4\" class=\"colab-df-container\">\n",
              "    <div>\n",
              "<style scoped>\n",
              "    .dataframe tbody tr th:only-of-type {\n",
              "        vertical-align: middle;\n",
              "    }\n",
              "\n",
              "    .dataframe tbody tr th {\n",
              "        vertical-align: top;\n",
              "    }\n",
              "\n",
              "    .dataframe thead th {\n",
              "        text-align: right;\n",
              "    }\n",
              "</style>\n",
              "<table border=\"1\" class=\"dataframe\">\n",
              "  <thead>\n",
              "    <tr style=\"text-align: right;\">\n",
              "      <th></th>\n",
              "      <th>W-val</th>\n",
              "      <th>alternative</th>\n",
              "      <th>p-val</th>\n",
              "      <th>RBC</th>\n",
              "      <th>CLES</th>\n",
              "    </tr>\n",
              "  </thead>\n",
              "  <tbody>\n",
              "    <tr>\n",
              "      <th>Wilcoxon</th>\n",
              "      <td>386.0</td>\n",
              "      <td>less</td>\n",
              "      <td>9.700674e-14</td>\n",
              "      <td>-0.847129</td>\n",
              "      <td>0.5729</td>\n",
              "    </tr>\n",
              "  </tbody>\n",
              "</table>\n",
              "</div>\n",
              "    <div class=\"colab-df-buttons\">\n",
              "\n",
              "  <div class=\"colab-df-container\">\n",
              "    <button class=\"colab-df-convert\" onclick=\"convertToInteractive('df-661742b2-af4c-4cab-9c0b-260b49244de4')\"\n",
              "            title=\"Convert this dataframe to an interactive table.\"\n",
              "            style=\"display:none;\">\n",
              "\n",
              "  <svg xmlns=\"http://www.w3.org/2000/svg\" height=\"24px\" viewBox=\"0 -960 960 960\">\n",
              "    <path d=\"M120-120v-720h720v720H120Zm60-500h600v-160H180v160Zm220 220h160v-160H400v160Zm0 220h160v-160H400v160ZM180-400h160v-160H180v160Zm440 0h160v-160H620v160ZM180-180h160v-160H180v160Zm440 0h160v-160H620v160Z\"/>\n",
              "  </svg>\n",
              "    </button>\n",
              "\n",
              "  <style>\n",
              "    .colab-df-container {\n",
              "      display:flex;\n",
              "      gap: 12px;\n",
              "    }\n",
              "\n",
              "    .colab-df-convert {\n",
              "      background-color: #E8F0FE;\n",
              "      border: none;\n",
              "      border-radius: 50%;\n",
              "      cursor: pointer;\n",
              "      display: none;\n",
              "      fill: #1967D2;\n",
              "      height: 32px;\n",
              "      padding: 0 0 0 0;\n",
              "      width: 32px;\n",
              "    }\n",
              "\n",
              "    .colab-df-convert:hover {\n",
              "      background-color: #E2EBFA;\n",
              "      box-shadow: 0px 1px 2px rgba(60, 64, 67, 0.3), 0px 1px 3px 1px rgba(60, 64, 67, 0.15);\n",
              "      fill: #174EA6;\n",
              "    }\n",
              "\n",
              "    .colab-df-buttons div {\n",
              "      margin-bottom: 4px;\n",
              "    }\n",
              "\n",
              "    [theme=dark] .colab-df-convert {\n",
              "      background-color: #3B4455;\n",
              "      fill: #D2E3FC;\n",
              "    }\n",
              "\n",
              "    [theme=dark] .colab-df-convert:hover {\n",
              "      background-color: #434B5C;\n",
              "      box-shadow: 0px 1px 3px 1px rgba(0, 0, 0, 0.15);\n",
              "      filter: drop-shadow(0px 1px 2px rgba(0, 0, 0, 0.3));\n",
              "      fill: #FFFFFF;\n",
              "    }\n",
              "  </style>\n",
              "\n",
              "    <script>\n",
              "      const buttonEl =\n",
              "        document.querySelector('#df-661742b2-af4c-4cab-9c0b-260b49244de4 button.colab-df-convert');\n",
              "      buttonEl.style.display =\n",
              "        google.colab.kernel.accessAllowed ? 'block' : 'none';\n",
              "\n",
              "      async function convertToInteractive(key) {\n",
              "        const element = document.querySelector('#df-661742b2-af4c-4cab-9c0b-260b49244de4');\n",
              "        const dataTable =\n",
              "          await google.colab.kernel.invokeFunction('convertToInteractive',\n",
              "                                                    [key], {});\n",
              "        if (!dataTable) return;\n",
              "\n",
              "        const docLinkHtml = 'Like what you see? Visit the ' +\n",
              "          '<a target=\"_blank\" href=https://colab.research.google.com/notebooks/data_table.ipynb>data table notebook</a>'\n",
              "          + ' to learn more about interactive tables.';\n",
              "        element.innerHTML = '';\n",
              "        dataTable['output_type'] = 'display_data';\n",
              "        await google.colab.output.renderOutput(dataTable, element);\n",
              "        const docLink = document.createElement('div');\n",
              "        docLink.innerHTML = docLinkHtml;\n",
              "        element.appendChild(docLink);\n",
              "      }\n",
              "    </script>\n",
              "  </div>\n",
              "\n",
              "    </div>\n",
              "  </div>\n"
            ]
          },
          "metadata": {},
          "execution_count": 18
        }
      ]
    },
    {
      "cell_type": "markdown",
      "source": [
        "Ne pas rejeterH0, puisque p-val = 0,03125 > 0,01\n"
      ],
      "metadata": {
        "id": "vUtjxTnVBBCK"
      }
    },
    {
      "cell_type": "markdown",
      "source": [
        "# **tests t non appariés etNon paramétrique ANOVA**"
      ],
      "metadata": {
        "id": "CM-ghjzOBVXJ"
      }
    },
    {
      "cell_type": "markdown",
      "source": [
        "### **Test de Wilcoxon-Mann-Whitney**\n",
        "\n",
        "Connu aussi sous le nom deTest Mann Whitney U  :\n",
        "\n",
        " - est un test t sur les rangs de la saisie numérique\n",
        "\n",
        " -  fonctionne sur des données non appariées\n"
      ],
      "metadata": {
        "id": "OruVL2_1Bl41"
      }
    },
    {
      "cell_type": "code",
      "source": [
        "stack_overflow = pd.read_feather('/content/stack_overflow.feather')\n",
        "print(stack_overflow.head())"
      ],
      "metadata": {
        "colab": {
          "base_uri": "https://localhost:8080/"
        },
        "id": "HfYiDl7qCTUE",
        "outputId": "c19897de-adbb-4abf-e0cb-6c2cad251391"
      },
      "execution_count": null,
      "outputs": [
        {
          "output_type": "stream",
          "name": "stdout",
          "text": [
            "   respondent                                        main_branch hobbyist  \\\n",
            "0        36.0  I am not primarily a developer, but I write co...      Yes   \n",
            "1        47.0                     I am a developer by profession      Yes   \n",
            "2        69.0                     I am a developer by profession      Yes   \n",
            "3       125.0  I am not primarily a developer, but I write co...      Yes   \n",
            "4       147.0  I am not primarily a developer, but I write co...       No   \n",
            "\n",
            "    age  age_1st_code age_first_code_cut comp_freq  comp_total  \\\n",
            "0  34.0          30.0              adult    Yearly     60000.0   \n",
            "1  53.0          10.0              child    Yearly     58000.0   \n",
            "2  25.0          12.0              child    Yearly    550000.0   \n",
            "3  41.0          30.0              adult   Monthly    200000.0   \n",
            "4  28.0          15.0              adult    Yearly     50000.0   \n",
            "\n",
            "   converted_comp         country  ...          survey_length trans  \\\n",
            "0         77556.0  United Kingdom  ...  Appropriate in length    No   \n",
            "1         74970.0  United Kingdom  ...  Appropriate in length    No   \n",
            "2        594539.0          France  ...              Too short    No   \n",
            "3       2000000.0   United States  ...  Appropriate in length    No   \n",
            "4         37816.0          Canada  ...  Appropriate in length    No   \n",
            "\n",
            "                                     undergrad_major  \\\n",
            "0  Computer science, computer engineering, or sof...   \n",
            "1  A natural science (such as biology, chemistry,...   \n",
            "2  Computer science, computer engineering, or sof...   \n",
            "3                                               None   \n",
            "4  Another engineering discipline (such as civil,...   \n",
            "\n",
            "  webframe_desire_next_year webframe_worked_with  \\\n",
            "0          Express;React.js     Express;React.js   \n",
            "1              Flask;Spring         Flask;Spring   \n",
            "2              Django;Flask         Django;Flask   \n",
            "3                      None                 None   \n",
            "4                      None        Express;Flask   \n",
            "\n",
            "                            welcome_change work_week_hrs years_code  \\\n",
            "0  Just as welcome now as I felt last year          40.0        4.0   \n",
            "1  Just as welcome now as I felt last year          40.0       43.0   \n",
            "2  Just as welcome now as I felt last year          40.0       13.0   \n",
            "3  Just as welcome now as I felt last year          40.0       11.0   \n",
            "4  Just as welcome now as I felt last year          40.0        5.0   \n",
            "\n",
            "  years_code_pro      age_cat  \n",
            "0            3.0  At least 30  \n",
            "1           28.0  At least 30  \n",
            "2            3.0     Under 30  \n",
            "3           11.0  At least 30  \n",
            "4            3.0     Under 30  \n",
            "\n",
            "[5 rows x 63 columns]\n"
          ]
        }
      ]
    },
    {
      "cell_type": "code",
      "source": [
        "age_vs_comp = stack_overflow[['converted_comp','age_first_code_cut']]"
      ],
      "metadata": {
        "id": "H5d2eQjtBHk7"
      },
      "execution_count": null,
      "outputs": []
    },
    {
      "cell_type": "code",
      "source": [
        "age_vs_comp_wide = age_vs_comp.pivot(columns='age_first_code_cut',values='converted_comp')\n"
      ],
      "metadata": {
        "id": "1ZktbqNQCDOB"
      },
      "execution_count": null,
      "outputs": []
    },
    {
      "cell_type": "code",
      "source": [
        "alpha=0.01"
      ],
      "metadata": {
        "id": "kaM7T1DWDJaf"
      },
      "execution_count": null,
      "outputs": []
    },
    {
      "cell_type": "code",
      "source": [
        "import pingouin\n",
        "pingouin.mwu(x=age_vs_comp_wide['child'],y=age_vs_comp_wide['adult'],alternative='greater')"
      ],
      "metadata": {
        "colab": {
          "base_uri": "https://localhost:8080/",
          "height": 81
        },
        "id": "zjiC7tJwDKi-",
        "outputId": "784bdd24-34ba-43ff-fdc8-2972c55ebf61"
      },
      "execution_count": null,
      "outputs": [
        {
          "output_type": "execute_result",
          "data": {
            "text/plain": [
              "        U-val alternative         p-val       RBC      CLES\n",
              "MWU  744365.5     greater  1.902723e-19 -0.222516  0.611258"
            ],
            "text/html": [
              "\n",
              "  <div id=\"df-e889b874-7b8b-4d91-a6a5-8bb240bbfd56\" class=\"colab-df-container\">\n",
              "    <div>\n",
              "<style scoped>\n",
              "    .dataframe tbody tr th:only-of-type {\n",
              "        vertical-align: middle;\n",
              "    }\n",
              "\n",
              "    .dataframe tbody tr th {\n",
              "        vertical-align: top;\n",
              "    }\n",
              "\n",
              "    .dataframe thead th {\n",
              "        text-align: right;\n",
              "    }\n",
              "</style>\n",
              "<table border=\"1\" class=\"dataframe\">\n",
              "  <thead>\n",
              "    <tr style=\"text-align: right;\">\n",
              "      <th></th>\n",
              "      <th>U-val</th>\n",
              "      <th>alternative</th>\n",
              "      <th>p-val</th>\n",
              "      <th>RBC</th>\n",
              "      <th>CLES</th>\n",
              "    </tr>\n",
              "  </thead>\n",
              "  <tbody>\n",
              "    <tr>\n",
              "      <th>MWU</th>\n",
              "      <td>744365.5</td>\n",
              "      <td>greater</td>\n",
              "      <td>1.902723e-19</td>\n",
              "      <td>-0.222516</td>\n",
              "      <td>0.611258</td>\n",
              "    </tr>\n",
              "  </tbody>\n",
              "</table>\n",
              "</div>\n",
              "    <div class=\"colab-df-buttons\">\n",
              "\n",
              "  <div class=\"colab-df-container\">\n",
              "    <button class=\"colab-df-convert\" onclick=\"convertToInteractive('df-e889b874-7b8b-4d91-a6a5-8bb240bbfd56')\"\n",
              "            title=\"Convert this dataframe to an interactive table.\"\n",
              "            style=\"display:none;\">\n",
              "\n",
              "  <svg xmlns=\"http://www.w3.org/2000/svg\" height=\"24px\" viewBox=\"0 -960 960 960\">\n",
              "    <path d=\"M120-120v-720h720v720H120Zm60-500h600v-160H180v160Zm220 220h160v-160H400v160Zm0 220h160v-160H400v160ZM180-400h160v-160H180v160Zm440 0h160v-160H620v160ZM180-180h160v-160H180v160Zm440 0h160v-160H620v160Z\"/>\n",
              "  </svg>\n",
              "    </button>\n",
              "\n",
              "  <style>\n",
              "    .colab-df-container {\n",
              "      display:flex;\n",
              "      gap: 12px;\n",
              "    }\n",
              "\n",
              "    .colab-df-convert {\n",
              "      background-color: #E8F0FE;\n",
              "      border: none;\n",
              "      border-radius: 50%;\n",
              "      cursor: pointer;\n",
              "      display: none;\n",
              "      fill: #1967D2;\n",
              "      height: 32px;\n",
              "      padding: 0 0 0 0;\n",
              "      width: 32px;\n",
              "    }\n",
              "\n",
              "    .colab-df-convert:hover {\n",
              "      background-color: #E2EBFA;\n",
              "      box-shadow: 0px 1px 2px rgba(60, 64, 67, 0.3), 0px 1px 3px 1px rgba(60, 64, 67, 0.15);\n",
              "      fill: #174EA6;\n",
              "    }\n",
              "\n",
              "    .colab-df-buttons div {\n",
              "      margin-bottom: 4px;\n",
              "    }\n",
              "\n",
              "    [theme=dark] .colab-df-convert {\n",
              "      background-color: #3B4455;\n",
              "      fill: #D2E3FC;\n",
              "    }\n",
              "\n",
              "    [theme=dark] .colab-df-convert:hover {\n",
              "      background-color: #434B5C;\n",
              "      box-shadow: 0px 1px 3px 1px rgba(0, 0, 0, 0.15);\n",
              "      filter: drop-shadow(0px 1px 2px rgba(0, 0, 0, 0.3));\n",
              "      fill: #FFFFFF;\n",
              "    }\n",
              "  </style>\n",
              "\n",
              "    <script>\n",
              "      const buttonEl =\n",
              "        document.querySelector('#df-e889b874-7b8b-4d91-a6a5-8bb240bbfd56 button.colab-df-convert');\n",
              "      buttonEl.style.display =\n",
              "        google.colab.kernel.accessAllowed ? 'block' : 'none';\n",
              "\n",
              "      async function convertToInteractive(key) {\n",
              "        const element = document.querySelector('#df-e889b874-7b8b-4d91-a6a5-8bb240bbfd56');\n",
              "        const dataTable =\n",
              "          await google.colab.kernel.invokeFunction('convertToInteractive',\n",
              "                                                    [key], {});\n",
              "        if (!dataTable) return;\n",
              "\n",
              "        const docLinkHtml = 'Like what you see? Visit the ' +\n",
              "          '<a target=\"_blank\" href=https://colab.research.google.com/notebooks/data_table.ipynb>data table notebook</a>'\n",
              "          + ' to learn more about interactive tables.';\n",
              "        element.innerHTML = '';\n",
              "        dataTable['output_type'] = 'display_data';\n",
              "        await google.colab.output.renderOutput(dataTable, element);\n",
              "        const docLink = document.createElement('div');\n",
              "        docLink.innerHTML = docLinkHtml;\n",
              "        element.appendChild(docLink);\n",
              "      }\n",
              "    </script>\n",
              "  </div>\n",
              "\n",
              "    </div>\n",
              "  </div>\n"
            ]
          },
          "metadata": {},
          "execution_count": 24
        }
      ]
    },
    {
      "cell_type": "markdown",
      "source": [
        "## **Test de Kruskal-Wallis**"
      ],
      "metadata": {
        "id": "G4mMQIsYDgVc"
      }
    },
    {
      "cell_type": "code",
      "source": [
        "alpha=0.01"
      ],
      "metadata": {
        "id": "6AAh7CqeDkcR"
      },
      "execution_count": null,
      "outputs": []
    },
    {
      "cell_type": "code",
      "source": [
        "pingouin.kruskal(data=stack_overflow,dv='converted_comp',between='job_sat')"
      ],
      "metadata": {
        "colab": {
          "base_uri": "https://localhost:8080/",
          "height": 81
        },
        "id": "kgHN7FWODo8W",
        "outputId": "d4f4cdf7-b7d9-4ad0-ea37-8651cda7be0f"
      },
      "execution_count": null,
      "outputs": [
        {
          "output_type": "execute_result",
          "data": {
            "text/plain": [
              "          Source  ddof1          H         p-unc\n",
              "Kruskal  job_sat      4  72.814939  5.772915e-15"
            ],
            "text/html": [
              "\n",
              "  <div id=\"df-f739b8f2-08d3-40f1-a50f-d7475ad34ef3\" class=\"colab-df-container\">\n",
              "    <div>\n",
              "<style scoped>\n",
              "    .dataframe tbody tr th:only-of-type {\n",
              "        vertical-align: middle;\n",
              "    }\n",
              "\n",
              "    .dataframe tbody tr th {\n",
              "        vertical-align: top;\n",
              "    }\n",
              "\n",
              "    .dataframe thead th {\n",
              "        text-align: right;\n",
              "    }\n",
              "</style>\n",
              "<table border=\"1\" class=\"dataframe\">\n",
              "  <thead>\n",
              "    <tr style=\"text-align: right;\">\n",
              "      <th></th>\n",
              "      <th>Source</th>\n",
              "      <th>ddof1</th>\n",
              "      <th>H</th>\n",
              "      <th>p-unc</th>\n",
              "    </tr>\n",
              "  </thead>\n",
              "  <tbody>\n",
              "    <tr>\n",
              "      <th>Kruskal</th>\n",
              "      <td>job_sat</td>\n",
              "      <td>4</td>\n",
              "      <td>72.814939</td>\n",
              "      <td>5.772915e-15</td>\n",
              "    </tr>\n",
              "  </tbody>\n",
              "</table>\n",
              "</div>\n",
              "    <div class=\"colab-df-buttons\">\n",
              "\n",
              "  <div class=\"colab-df-container\">\n",
              "    <button class=\"colab-df-convert\" onclick=\"convertToInteractive('df-f739b8f2-08d3-40f1-a50f-d7475ad34ef3')\"\n",
              "            title=\"Convert this dataframe to an interactive table.\"\n",
              "            style=\"display:none;\">\n",
              "\n",
              "  <svg xmlns=\"http://www.w3.org/2000/svg\" height=\"24px\" viewBox=\"0 -960 960 960\">\n",
              "    <path d=\"M120-120v-720h720v720H120Zm60-500h600v-160H180v160Zm220 220h160v-160H400v160Zm0 220h160v-160H400v160ZM180-400h160v-160H180v160Zm440 0h160v-160H620v160ZM180-180h160v-160H180v160Zm440 0h160v-160H620v160Z\"/>\n",
              "  </svg>\n",
              "    </button>\n",
              "\n",
              "  <style>\n",
              "    .colab-df-container {\n",
              "      display:flex;\n",
              "      gap: 12px;\n",
              "    }\n",
              "\n",
              "    .colab-df-convert {\n",
              "      background-color: #E8F0FE;\n",
              "      border: none;\n",
              "      border-radius: 50%;\n",
              "      cursor: pointer;\n",
              "      display: none;\n",
              "      fill: #1967D2;\n",
              "      height: 32px;\n",
              "      padding: 0 0 0 0;\n",
              "      width: 32px;\n",
              "    }\n",
              "\n",
              "    .colab-df-convert:hover {\n",
              "      background-color: #E2EBFA;\n",
              "      box-shadow: 0px 1px 2px rgba(60, 64, 67, 0.3), 0px 1px 3px 1px rgba(60, 64, 67, 0.15);\n",
              "      fill: #174EA6;\n",
              "    }\n",
              "\n",
              "    .colab-df-buttons div {\n",
              "      margin-bottom: 4px;\n",
              "    }\n",
              "\n",
              "    [theme=dark] .colab-df-convert {\n",
              "      background-color: #3B4455;\n",
              "      fill: #D2E3FC;\n",
              "    }\n",
              "\n",
              "    [theme=dark] .colab-df-convert:hover {\n",
              "      background-color: #434B5C;\n",
              "      box-shadow: 0px 1px 3px 1px rgba(0, 0, 0, 0.15);\n",
              "      filter: drop-shadow(0px 1px 2px rgba(0, 0, 0, 0.3));\n",
              "      fill: #FFFFFF;\n",
              "    }\n",
              "  </style>\n",
              "\n",
              "    <script>\n",
              "      const buttonEl =\n",
              "        document.querySelector('#df-f739b8f2-08d3-40f1-a50f-d7475ad34ef3 button.colab-df-convert');\n",
              "      buttonEl.style.display =\n",
              "        google.colab.kernel.accessAllowed ? 'block' : 'none';\n",
              "\n",
              "      async function convertToInteractive(key) {\n",
              "        const element = document.querySelector('#df-f739b8f2-08d3-40f1-a50f-d7475ad34ef3');\n",
              "        const dataTable =\n",
              "          await google.colab.kernel.invokeFunction('convertToInteractive',\n",
              "                                                    [key], {});\n",
              "        if (!dataTable) return;\n",
              "\n",
              "        const docLinkHtml = 'Like what you see? Visit the ' +\n",
              "          '<a target=\"_blank\" href=https://colab.research.google.com/notebooks/data_table.ipynb>data table notebook</a>'\n",
              "          + ' to learn more about interactive tables.';\n",
              "        element.innerHTML = '';\n",
              "        dataTable['output_type'] = 'display_data';\n",
              "        await google.colab.output.renderOutput(dataTable, element);\n",
              "        const docLink = document.createElement('div');\n",
              "        docLink.innerHTML = docLinkHtml;\n",
              "        element.appendChild(docLink);\n",
              "      }\n",
              "    </script>\n",
              "  </div>\n",
              "\n",
              "    </div>\n",
              "  </div>\n"
            ]
          },
          "metadata": {},
          "execution_count": 26
        }
      ]
    }
  ]
}