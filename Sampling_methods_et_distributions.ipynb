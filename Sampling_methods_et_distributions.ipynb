{
  "nbformat": 4,
  "nbformat_minor": 0,
  "metadata": {
    "colab": {
      "provenance": [],
      "authorship_tag": "ABX9TyPRNa3fNbcHWXG45IQy+58+",
      "include_colab_link": true
    },
    "kernelspec": {
      "name": "python3",
      "display_name": "Python 3"
    },
    "language_info": {
      "name": "python"
    }
  },
  "cells": [
    {
      "cell_type": "markdown",
      "metadata": {
        "id": "view-in-github",
        "colab_type": "text"
      },
      "source": [
        "<a href=\"https://colab.research.google.com/github/othniel77/datascience/blob/main/Sampling_methods_et_distributions.ipynb\" target=\"_parent\"><img src=\"https://colab.research.google.com/assets/colab-badge.svg\" alt=\"Open In Colab\"/></a>"
      ]
    },
    {
      "cell_type": "code",
      "execution_count": null,
      "metadata": {
        "id": "YcjtK1nOkZ8c"
      },
      "outputs": [],
      "source": [
        "import pandas as pd"
      ]
    },
    {
      "cell_type": "code",
      "source": [
        "from google.colab import files\n",
        "data_to_load = files.upload()"
      ],
      "metadata": {
        "colab": {
          "base_uri": "https://localhost:8080/",
          "height": 73
        },
        "id": "SRZfp9iIkp-k",
        "outputId": "78816384-c654-4ae0-82a5-8b176ce8b39f"
      },
      "execution_count": null,
      "outputs": [
        {
          "output_type": "display_data",
          "data": {
            "text/plain": [
              "<IPython.core.display.HTML object>"
            ],
            "text/html": [
              "\n",
              "     <input type=\"file\" id=\"files-4286d276-a709-4ab5-be2e-1b0d496f42df\" name=\"files[]\" multiple disabled\n",
              "        style=\"border:none\" />\n",
              "     <output id=\"result-4286d276-a709-4ab5-be2e-1b0d496f42df\">\n",
              "      Upload widget is only available when the cell has been executed in the\n",
              "      current browser session. Please rerun this cell to enable.\n",
              "      </output>\n",
              "      <script>// Copyright 2017 Google LLC\n",
              "//\n",
              "// Licensed under the Apache License, Version 2.0 (the \"License\");\n",
              "// you may not use this file except in compliance with the License.\n",
              "// You may obtain a copy of the License at\n",
              "//\n",
              "//      http://www.apache.org/licenses/LICENSE-2.0\n",
              "//\n",
              "// Unless required by applicable law or agreed to in writing, software\n",
              "// distributed under the License is distributed on an \"AS IS\" BASIS,\n",
              "// WITHOUT WARRANTIES OR CONDITIONS OF ANY KIND, either express or implied.\n",
              "// See the License for the specific language governing permissions and\n",
              "// limitations under the License.\n",
              "\n",
              "/**\n",
              " * @fileoverview Helpers for google.colab Python module.\n",
              " */\n",
              "(function(scope) {\n",
              "function span(text, styleAttributes = {}) {\n",
              "  const element = document.createElement('span');\n",
              "  element.textContent = text;\n",
              "  for (const key of Object.keys(styleAttributes)) {\n",
              "    element.style[key] = styleAttributes[key];\n",
              "  }\n",
              "  return element;\n",
              "}\n",
              "\n",
              "// Max number of bytes which will be uploaded at a time.\n",
              "const MAX_PAYLOAD_SIZE = 100 * 1024;\n",
              "\n",
              "function _uploadFiles(inputId, outputId) {\n",
              "  const steps = uploadFilesStep(inputId, outputId);\n",
              "  const outputElement = document.getElementById(outputId);\n",
              "  // Cache steps on the outputElement to make it available for the next call\n",
              "  // to uploadFilesContinue from Python.\n",
              "  outputElement.steps = steps;\n",
              "\n",
              "  return _uploadFilesContinue(outputId);\n",
              "}\n",
              "\n",
              "// This is roughly an async generator (not supported in the browser yet),\n",
              "// where there are multiple asynchronous steps and the Python side is going\n",
              "// to poll for completion of each step.\n",
              "// This uses a Promise to block the python side on completion of each step,\n",
              "// then passes the result of the previous step as the input to the next step.\n",
              "function _uploadFilesContinue(outputId) {\n",
              "  const outputElement = document.getElementById(outputId);\n",
              "  const steps = outputElement.steps;\n",
              "\n",
              "  const next = steps.next(outputElement.lastPromiseValue);\n",
              "  return Promise.resolve(next.value.promise).then((value) => {\n",
              "    // Cache the last promise value to make it available to the next\n",
              "    // step of the generator.\n",
              "    outputElement.lastPromiseValue = value;\n",
              "    return next.value.response;\n",
              "  });\n",
              "}\n",
              "\n",
              "/**\n",
              " * Generator function which is called between each async step of the upload\n",
              " * process.\n",
              " * @param {string} inputId Element ID of the input file picker element.\n",
              " * @param {string} outputId Element ID of the output display.\n",
              " * @return {!Iterable<!Object>} Iterable of next steps.\n",
              " */\n",
              "function* uploadFilesStep(inputId, outputId) {\n",
              "  const inputElement = document.getElementById(inputId);\n",
              "  inputElement.disabled = false;\n",
              "\n",
              "  const outputElement = document.getElementById(outputId);\n",
              "  outputElement.innerHTML = '';\n",
              "\n",
              "  const pickedPromise = new Promise((resolve) => {\n",
              "    inputElement.addEventListener('change', (e) => {\n",
              "      resolve(e.target.files);\n",
              "    });\n",
              "  });\n",
              "\n",
              "  const cancel = document.createElement('button');\n",
              "  inputElement.parentElement.appendChild(cancel);\n",
              "  cancel.textContent = 'Cancel upload';\n",
              "  const cancelPromise = new Promise((resolve) => {\n",
              "    cancel.onclick = () => {\n",
              "      resolve(null);\n",
              "    };\n",
              "  });\n",
              "\n",
              "  // Wait for the user to pick the files.\n",
              "  const files = yield {\n",
              "    promise: Promise.race([pickedPromise, cancelPromise]),\n",
              "    response: {\n",
              "      action: 'starting',\n",
              "    }\n",
              "  };\n",
              "\n",
              "  cancel.remove();\n",
              "\n",
              "  // Disable the input element since further picks are not allowed.\n",
              "  inputElement.disabled = true;\n",
              "\n",
              "  if (!files) {\n",
              "    return {\n",
              "      response: {\n",
              "        action: 'complete',\n",
              "      }\n",
              "    };\n",
              "  }\n",
              "\n",
              "  for (const file of files) {\n",
              "    const li = document.createElement('li');\n",
              "    li.append(span(file.name, {fontWeight: 'bold'}));\n",
              "    li.append(span(\n",
              "        `(${file.type || 'n/a'}) - ${file.size} bytes, ` +\n",
              "        `last modified: ${\n",
              "            file.lastModifiedDate ? file.lastModifiedDate.toLocaleDateString() :\n",
              "                                    'n/a'} - `));\n",
              "    const percent = span('0% done');\n",
              "    li.appendChild(percent);\n",
              "\n",
              "    outputElement.appendChild(li);\n",
              "\n",
              "    const fileDataPromise = new Promise((resolve) => {\n",
              "      const reader = new FileReader();\n",
              "      reader.onload = (e) => {\n",
              "        resolve(e.target.result);\n",
              "      };\n",
              "      reader.readAsArrayBuffer(file);\n",
              "    });\n",
              "    // Wait for the data to be ready.\n",
              "    let fileData = yield {\n",
              "      promise: fileDataPromise,\n",
              "      response: {\n",
              "        action: 'continue',\n",
              "      }\n",
              "    };\n",
              "\n",
              "    // Use a chunked sending to avoid message size limits. See b/62115660.\n",
              "    let position = 0;\n",
              "    do {\n",
              "      const length = Math.min(fileData.byteLength - position, MAX_PAYLOAD_SIZE);\n",
              "      const chunk = new Uint8Array(fileData, position, length);\n",
              "      position += length;\n",
              "\n",
              "      const base64 = btoa(String.fromCharCode.apply(null, chunk));\n",
              "      yield {\n",
              "        response: {\n",
              "          action: 'append',\n",
              "          file: file.name,\n",
              "          data: base64,\n",
              "        },\n",
              "      };\n",
              "\n",
              "      let percentDone = fileData.byteLength === 0 ?\n",
              "          100 :\n",
              "          Math.round((position / fileData.byteLength) * 100);\n",
              "      percent.textContent = `${percentDone}% done`;\n",
              "\n",
              "    } while (position < fileData.byteLength);\n",
              "  }\n",
              "\n",
              "  // All done.\n",
              "  yield {\n",
              "    response: {\n",
              "      action: 'complete',\n",
              "    }\n",
              "  };\n",
              "}\n",
              "\n",
              "scope.google = scope.google || {};\n",
              "scope.google.colab = scope.google.colab || {};\n",
              "scope.google.colab._files = {\n",
              "  _uploadFiles,\n",
              "  _uploadFilesContinue,\n",
              "};\n",
              "})(self);\n",
              "</script> "
            ]
          },
          "metadata": {}
        },
        {
          "output_type": "stream",
          "name": "stdout",
          "text": [
            "Saving coffee_ratings_full.feather to coffee_ratings_full.feather\n"
          ]
        }
      ]
    },
    {
      "cell_type": "code",
      "source": [
        " attrition_pop = pd.read_feather('/content/attrition (1).feather')\n",
        " print(attrition_pop.describe)"
      ],
      "metadata": {
        "colab": {
          "base_uri": "https://localhost:8080/"
        },
        "id": "EM-KJoPGk2oo",
        "outputId": "b726c57e-222a-4d58-c716-425c335c56dc"
      },
      "execution_count": null,
      "outputs": [
        {
          "output_type": "stream",
          "name": "stdout",
          "text": [
            "<bound method NDFrame.describe of       Age  Attrition     BusinessTravel  DailyRate            Department  \\\n",
            "0      21        0.0      Travel_Rarely        391  Research_Development   \n",
            "1      19        1.0      Travel_Rarely        528                 Sales   \n",
            "2      18        1.0      Travel_Rarely        230  Research_Development   \n",
            "3      18        0.0      Travel_Rarely        812                 Sales   \n",
            "4      18        1.0  Travel_Frequently       1306                 Sales   \n",
            "...   ...        ...                ...        ...                   ...   \n",
            "1465   55        0.0      Travel_Rarely       1117                 Sales   \n",
            "1466   58        0.0         Non-Travel        350                 Sales   \n",
            "1467   58        0.0      Travel_Rarely        682                 Sales   \n",
            "1468   58        1.0      Travel_Rarely        147  Research_Development   \n",
            "1469   58        1.0      Travel_Rarely        286  Research_Development   \n",
            "\n",
            "      DistanceFromHome      Education EducationField EnvironmentSatisfaction  \\\n",
            "0                   15        College  Life_Sciences                    High   \n",
            "1                   22  Below_College      Marketing               Very_High   \n",
            "2                    3       Bachelor  Life_Sciences                    High   \n",
            "3                   10       Bachelor        Medical               Very_High   \n",
            "4                    5       Bachelor      Marketing                  Medium   \n",
            "...                ...            ...            ...                     ...   \n",
            "1465                18         Doctor  Life_Sciences                     Low   \n",
            "1466                 2       Bachelor        Medical                  Medium   \n",
            "1467                10         Master        Medical               Very_High   \n",
            "1468                23         Master        Medical               Very_High   \n",
            "1469                 2         Master  Life_Sciences               Very_High   \n",
            "\n",
            "      Gender  ...  PerformanceRating RelationshipSatisfaction  \\\n",
            "0       Male  ...          Excellent                Very_High   \n",
            "1       Male  ...          Excellent                Very_High   \n",
            "2       Male  ...          Excellent                     High   \n",
            "3     Female  ...          Excellent                      Low   \n",
            "4       Male  ...          Excellent                Very_High   \n",
            "...      ...  ...                ...                      ...   \n",
            "1465  Female  ...        Outstanding                Very_High   \n",
            "1466    Male  ...        Outstanding                Very_High   \n",
            "1467    Male  ...          Excellent                     High   \n",
            "1468  Female  ...          Excellent                Very_High   \n",
            "1469    Male  ...          Excellent                Very_High   \n",
            "\n",
            "      StockOptionLevel TotalWorkingYears TrainingTimesLastYear  \\\n",
            "0                    0                 0                     6   \n",
            "1                    0                 0                     2   \n",
            "2                    0                 0                     2   \n",
            "3                    0                 0                     2   \n",
            "4                    0                 0                     3   \n",
            "...                ...               ...                   ...   \n",
            "1465                 0                37                     2   \n",
            "1466                 1                37                     0   \n",
            "1467                 0                38                     1   \n",
            "1468                 1                40                     3   \n",
            "1469                 0                40                     2   \n",
            "\n",
            "     WorkLifeBalance  YearsAtCompany  YearsInCurrentRole  \\\n",
            "0             Better               0                   0   \n",
            "1               Good               0                   0   \n",
            "2             Better               0                   0   \n",
            "3             Better               0                   0   \n",
            "4             Better               0                   0   \n",
            "...              ...             ...                 ...   \n",
            "1465          Better              10                   9   \n",
            "1466            Good              16                   9   \n",
            "1467            Good              37                  10   \n",
            "1468            Good              40                  10   \n",
            "1469          Better              31                  15   \n",
            "\n",
            "      YearsSinceLastPromotion YearsWithCurrManager  \n",
            "0                           0                    0  \n",
            "1                           0                    0  \n",
            "2                           0                    0  \n",
            "3                           0                    0  \n",
            "4                           0                    0  \n",
            "...                       ...                  ...  \n",
            "1465                        7                    7  \n",
            "1466                       14                   14  \n",
            "1467                        1                    8  \n",
            "1468                       15                    6  \n",
            "1469                       13                    8  \n",
            "\n",
            "[1470 rows x 31 columns]>\n"
          ]
        }
      ]
    },
    {
      "cell_type": "code",
      "source": [],
      "metadata": {
        "id": "9C-Ha5Fyk2fR"
      },
      "execution_count": null,
      "outputs": []
    },
    {
      "cell_type": "code",
      "source": [
        "# Sample 70 rows using simple random sampling and set the seed\n",
        "attrition_samp = attrition_pop.sample(n=70,random_state=18900217)\n",
        "\n",
        "# Print the sample\n",
        "print(attrition_samp)"
      ],
      "metadata": {
        "colab": {
          "base_uri": "https://localhost:8080/"
        },
        "id": "-rTfVx7Xk2XS",
        "outputId": "9bf058ba-9716-45a7-c20a-fb80fcdc262e"
      },
      "execution_count": null,
      "outputs": [
        {
          "output_type": "stream",
          "name": "stdout",
          "text": [
            "      Age  Attrition     BusinessTravel  DailyRate            Department  \\\n",
            "1134   35        0.0      Travel_Rarely        583  Research_Development   \n",
            "1150   52        0.0         Non-Travel        585                 Sales   \n",
            "531    33        0.0      Travel_Rarely        931  Research_Development   \n",
            "395    31        0.0      Travel_Rarely       1332  Research_Development   \n",
            "392    29        0.0      Travel_Rarely        942  Research_Development   \n",
            "...   ...        ...                ...        ...                   ...   \n",
            "361    27        0.0  Travel_Frequently       1410                 Sales   \n",
            "1180   36        0.0      Travel_Rarely        530                 Sales   \n",
            "230    26        0.0      Travel_Rarely       1443                 Sales   \n",
            "211    29        0.0  Travel_Frequently        410  Research_Development   \n",
            "890    30        0.0  Travel_Frequently       1312  Research_Development   \n",
            "\n",
            "      DistanceFromHome      Education    EducationField  \\\n",
            "1134                25         Master           Medical   \n",
            "1150                29         Master     Life_Sciences   \n",
            "531                 14       Bachelor           Medical   \n",
            "395                 11        College           Medical   \n",
            "392                 15  Below_College     Life_Sciences   \n",
            "...                ...            ...               ...   \n",
            "361                  3  Below_College           Medical   \n",
            "1180                 2         Master     Life_Sciences   \n",
            "230                 23       Bachelor         Marketing   \n",
            "211                  2  Below_College     Life_Sciences   \n",
            "890                  2         Master  Technical_Degree   \n",
            "\n",
            "     EnvironmentSatisfaction  Gender  ...  PerformanceRating  \\\n",
            "1134                    High  Female  ...          Excellent   \n",
            "1150                     Low    Male  ...          Excellent   \n",
            "531                Very_High  Female  ...          Excellent   \n",
            "395                     High    Male  ...          Excellent   \n",
            "392                   Medium  Female  ...          Excellent   \n",
            "...                      ...     ...  ...                ...   \n",
            "361                Very_High  Female  ...        Outstanding   \n",
            "1180                    High  Female  ...          Excellent   \n",
            "230                     High  Female  ...          Excellent   \n",
            "211                Very_High  Female  ...          Excellent   \n",
            "890                Very_High  Female  ...          Excellent   \n",
            "\n",
            "     RelationshipSatisfaction  StockOptionLevel TotalWorkingYears  \\\n",
            "1134                     High                 1                16   \n",
            "1150                   Medium                 2                16   \n",
            "531                 Very_High                 1                 8   \n",
            "395                 Very_High                 0                 6   \n",
            "392                       Low                 1                 6   \n",
            "...                       ...               ...               ...   \n",
            "361                    Medium                 2                 6   \n",
            "1180                     High                 0                17   \n",
            "230                      High                 1                 5   \n",
            "211                      High                 3                 4   \n",
            "890                 Very_High                 0                10   \n",
            "\n",
            "     TrainingTimesLastYear WorkLifeBalance  YearsAtCompany  \\\n",
            "1134                     3            Good              16   \n",
            "1150                     3            Good               9   \n",
            "531                      5          Better               8   \n",
            "395                      2            Good               6   \n",
            "392                      2            Good               5   \n",
            "...                    ...             ...             ...   \n",
            "361                      3          Better               6   \n",
            "1180                     2            Good              13   \n",
            "230                      2            Good               2   \n",
            "211                      3          Better               3   \n",
            "890                      2          Better               9   \n",
            "\n",
            "      YearsInCurrentRole  YearsSinceLastPromotion YearsWithCurrManager  \n",
            "1134                  10                       10                    1  \n",
            "1150                   8                        0                    0  \n",
            "531                    7                        1                    6  \n",
            "395                    5                        0                    1  \n",
            "392                    4                        1                    3  \n",
            "...                  ...                      ...                  ...  \n",
            "361                    5                        0                    4  \n",
            "1180                   7                        6                    7  \n",
            "230                    2                        0                    0  \n",
            "211                    2                        0                    2  \n",
            "890                    7                        0                    7  \n",
            "\n",
            "[70 rows x 31 columns]\n"
          ]
        }
      ]
    },
    {
      "cell_type": "markdown",
      "source": [
        " the indexes in the sample aren't always in increasing order. They are just random."
      ],
      "metadata": {
        "id": "Y_9hdMklmxHi"
      }
    },
    {
      "cell_type": "code",
      "source": [
        "# Set the sample size to 70\n",
        "sample_size = 70\n",
        "\n",
        "# Calculate the population size from attrition_pop\n",
        "pop_size = len(attrition_pop)\n",
        "\n",
        "# Calculate the interval\n",
        "interval = pop_size // sample_size\n",
        "\n",
        "# Systematically sample 70 rows\n",
        "attrition_sys_samp = attrition_pop.iloc[::interval]\n",
        "\n",
        "# Print the sample\n",
        "print(attrition_sys_samp)"
      ],
      "metadata": {
        "colab": {
          "base_uri": "https://localhost:8080/"
        },
        "id": "Tb1kzq7XmkM6",
        "outputId": "4343747f-dac7-4866-e5f2-4c034087b952"
      },
      "execution_count": null,
      "outputs": [
        {
          "output_type": "stream",
          "name": "stdout",
          "text": [
            "      Age  Attrition BusinessTravel  DailyRate            Department  \\\n",
            "0      21        0.0  Travel_Rarely        391  Research_Development   \n",
            "21     19        0.0  Travel_Rarely       1181  Research_Development   \n",
            "42     45        0.0  Travel_Rarely        252  Research_Development   \n",
            "63     23        0.0  Travel_Rarely        373  Research_Development   \n",
            "84     30        1.0  Travel_Rarely        945                 Sales   \n",
            "...   ...        ...            ...        ...                   ...   \n",
            "1365   48        0.0  Travel_Rarely        715  Research_Development   \n",
            "1386   48        0.0  Travel_Rarely       1355  Research_Development   \n",
            "1407   50        0.0  Travel_Rarely        989  Research_Development   \n",
            "1428   50        0.0     Non-Travel        881  Research_Development   \n",
            "1449   52        0.0  Travel_Rarely        699  Research_Development   \n",
            "\n",
            "      DistanceFromHome      Education EducationField EnvironmentSatisfaction  \\\n",
            "0                   15        College  Life_Sciences                    High   \n",
            "21                   3  Below_College        Medical                  Medium   \n",
            "42                   2       Bachelor  Life_Sciences                  Medium   \n",
            "63                   1        College  Life_Sciences               Very_High   \n",
            "84                   9       Bachelor        Medical                  Medium   \n",
            "...                ...            ...            ...                     ...   \n",
            "1365                 1       Bachelor  Life_Sciences               Very_High   \n",
            "1386                 4         Master  Life_Sciences                    High   \n",
            "1407                 7        College        Medical                  Medium   \n",
            "1428                 2         Master  Life_Sciences                     Low   \n",
            "1449                 1         Master  Life_Sciences                    High   \n",
            "\n",
            "      Gender  ...  PerformanceRating RelationshipSatisfaction  \\\n",
            "0       Male  ...          Excellent                Very_High   \n",
            "21    Female  ...          Excellent                Very_High   \n",
            "42    Female  ...          Excellent                Very_High   \n",
            "63      Male  ...        Outstanding                Very_High   \n",
            "84      Male  ...          Excellent                     High   \n",
            "...      ...  ...                ...                      ...   \n",
            "1365    Male  ...          Excellent                     High   \n",
            "1386    Male  ...          Excellent                   Medium   \n",
            "1407  Female  ...          Excellent                Very_High   \n",
            "1428    Male  ...          Excellent                Very_High   \n",
            "1449    Male  ...          Excellent                      Low   \n",
            "\n",
            "      StockOptionLevel TotalWorkingYears TrainingTimesLastYear  \\\n",
            "0                    0                 0                     6   \n",
            "21                   0                 1                     3   \n",
            "42                   0                 1                     3   \n",
            "63                   1                 1                     2   \n",
            "84                   0                 1                     3   \n",
            "...                ...               ...                   ...   \n",
            "1365                 0                25                     3   \n",
            "1386                 0                27                     3   \n",
            "1407                 1                29                     2   \n",
            "1428                 1                31                     3   \n",
            "1449                 1                34                     5   \n",
            "\n",
            "     WorkLifeBalance  YearsAtCompany  YearsInCurrentRole  \\\n",
            "0             Better               0                   0   \n",
            "21            Better               1                   0   \n",
            "42            Better               1                   0   \n",
            "63            Better               1                   0   \n",
            "84              Good               1                   0   \n",
            "...              ...             ...                 ...   \n",
            "1365            Best               1                   0   \n",
            "1386          Better              15                  11   \n",
            "1407            Good              27                   3   \n",
            "1428          Better              31                   6   \n",
            "1449          Better              33                  18   \n",
            "\n",
            "      YearsSinceLastPromotion YearsWithCurrManager  \n",
            "0                           0                    0  \n",
            "21                          0                    0  \n",
            "42                          0                    0  \n",
            "63                          0                    1  \n",
            "84                          0                    0  \n",
            "...                       ...                  ...  \n",
            "1365                        0                    0  \n",
            "1386                        4                    8  \n",
            "1407                       13                    8  \n",
            "1428                       14                    7  \n",
            "1449                       11                    9  \n",
            "\n",
            "[70 rows x 31 columns]\n"
          ]
        }
      ]
    },
    {
      "cell_type": "markdown",
      "source": [
        "Systematic sampling avoids randomness by picking rows at regular intervals."
      ],
      "metadata": {
        "id": "PTDqYs2RnYNK"
      }
    },
    {
      "cell_type": "code",
      "source": [
        "import matplotlib.pyplot as plt"
      ],
      "metadata": {
        "id": "4zhleIT_nhWV"
      },
      "execution_count": null,
      "outputs": []
    },
    {
      "cell_type": "code",
      "source": [
        "# Add an index column to attrition_pop\n",
        "attrition_pop_id = attrition_pop.reset_index()\n",
        "\n",
        "# Plot YearsAtCompany vs. index for attrition_pop_id\n",
        "attrition_pop_id.plot(x=\"index\",y=\"YearsAtCompany\",kind=\"scatter\")\n",
        "plt.show()"
      ],
      "metadata": {
        "colab": {
          "base_uri": "https://localhost:8080/",
          "height": 449
        },
        "id": "EwCpe4J1nZLH",
        "outputId": "bd4e1503-7fb9-4f1c-d46f-4ab32edc7e92"
      },
      "execution_count": null,
      "outputs": [
        {
          "output_type": "display_data",
          "data": {
            "text/plain": [
              "<Figure size 640x480 with 1 Axes>"
            ],
            "image/png": "[encoded data removed]"
          },
          "metadata": {}
        }
      ]
    },
    {
      "cell_type": "code",
      "source": [
        "# Shuffle the rows of attrition_pop\n",
        "attrition_shuffled = attrition_pop.sample(frac=1)\n",
        "\n",
        "# Reset the row indexes and create an index column\n",
        "attrition_shuffled = attrition_shuffled.reset_index(drop=True).reset_index()\n",
        "\n",
        "# Plot YearsAtCompany vs. index for attrition_shuffled\n",
        "attrition_shuffled.plot(x=\"index\",y=\"YearsAtCompany\",kind=\"scatter\")\n",
        "plt.show()"
      ],
      "metadata": {
        "colab": {
          "base_uri": "https://localhost:8080/",
          "height": 449
        },
        "id": "NVn8u-83n0JH",
        "outputId": "57d4ba2b-448b-42b7-e43a-de12f55be9cf"
      },
      "execution_count": null,
      "outputs": [
        {
          "output_type": "display_data",
          "data": {
            "text/plain": [
              "<Figure size 640x480 with 1 Axes>"
            ],
            "image/png": "[encoded data removed]"
          },
          "metadata": {}
        }
      ]
    },
    {
      "cell_type": "markdown",
      "source": [
        "sampling has problems when the data are sorted or contain a pattern. Shuffling the rows makes it equivalent to simple random sampling."
      ],
      "metadata": {
        "id": "PJwe9tY7n_IK"
      }
    },
    {
      "cell_type": "code",
      "source": [
        "# Proportion of employees by Education level\n",
        "education_counts_pop = attrition_pop[\"Education\"].value_counts(normalize=True)\n",
        "\n",
        "# Print education_counts_pop\n",
        "print(education_counts_pop)"
      ],
      "metadata": {
        "colab": {
          "base_uri": "https://localhost:8080/"
        },
        "id": "EhO7qcmOoCux",
        "outputId": "435d3765-14fc-42be-d97c-9728821c5b15"
      },
      "execution_count": null,
      "outputs": [
        {
          "output_type": "stream",
          "name": "stdout",
          "text": [
            "Bachelor         0.389116\n",
            "Master           0.270748\n",
            "College          0.191837\n",
            "Below_College    0.115646\n",
            "Doctor           0.032653\n",
            "Name: Education, dtype: float64\n"
          ]
        }
      ]
    },
    {
      "cell_type": "code",
      "source": [
        "# Proportional stratified sampling for 40% of each Education group\n",
        "attrition_strat = attrition_pop.groupby(\"Education\").sample(frac=0.4,random_state=2022)\n",
        "\n",
        "\n",
        "# Print the sample\n",
        "print(attrition_strat)"
      ],
      "metadata": {
        "colab": {
          "base_uri": "https://localhost:8080/"
        },
        "id": "C5iaf82qoptT",
        "outputId": "3b3a8cff-0973-4a2f-e609-6e7027a20805"
      },
      "execution_count": null,
      "outputs": [
        {
          "output_type": "stream",
          "name": "stdout",
          "text": [
            "      Age  Attrition     BusinessTravel  DailyRate            Department  \\\n",
            "1191   53        0.0      Travel_Rarely        238                 Sales   \n",
            "407    29        0.0  Travel_Frequently        995  Research_Development   \n",
            "1233   59        0.0  Travel_Frequently       1225                 Sales   \n",
            "366    37        0.0      Travel_Rarely        571  Research_Development   \n",
            "702    31        0.0  Travel_Frequently        163  Research_Development   \n",
            "...   ...        ...                ...        ...                   ...   \n",
            "733    38        0.0  Travel_Frequently        653  Research_Development   \n",
            "1061   44        0.0  Travel_Frequently        602       Human_Resources   \n",
            "1307   41        0.0      Travel_Rarely       1276                 Sales   \n",
            "1060   33        0.0      Travel_Rarely        516  Research_Development   \n",
            "177    29        0.0      Travel_Rarely        738  Research_Development   \n",
            "\n",
            "      DistanceFromHome      Education    EducationField  \\\n",
            "1191                 1  Below_College           Medical   \n",
            "407                  2  Below_College     Life_Sciences   \n",
            "1233                 1  Below_College     Life_Sciences   \n",
            "366                 10  Below_College     Life_Sciences   \n",
            "702                 24  Below_College  Technical_Degree   \n",
            "...                ...            ...               ...   \n",
            "733                 29         Doctor     Life_Sciences   \n",
            "1061                 1         Doctor   Human_Resources   \n",
            "1307                 2         Doctor     Life_Sciences   \n",
            "1060                 8         Doctor     Life_Sciences   \n",
            "177                  9         Doctor             Other   \n",
            "\n",
            "     EnvironmentSatisfaction  Gender  ...  PerformanceRating  \\\n",
            "1191               Very_High  Female  ...        Outstanding   \n",
            "407                      Low    Male  ...          Excellent   \n",
            "1233                     Low  Female  ...          Excellent   \n",
            "366                Very_High  Female  ...          Excellent   \n",
            "702                Very_High  Female  ...        Outstanding   \n",
            "...                      ...     ...  ...                ...   \n",
            "733                Very_High  Female  ...          Excellent   \n",
            "1061                     Low    Male  ...          Excellent   \n",
            "1307                  Medium  Female  ...          Excellent   \n",
            "1060               Very_High    Male  ...          Excellent   \n",
            "177                   Medium    Male  ...          Excellent   \n",
            "\n",
            "     RelationshipSatisfaction  StockOptionLevel TotalWorkingYears  \\\n",
            "1191                Very_High                 0                18   \n",
            "407                 Very_High                 1                 6   \n",
            "1233                Very_High                 0                20   \n",
            "366                    Medium                 2                 6   \n",
            "702                 Very_High                 0                 9   \n",
            "...                       ...               ...               ...   \n",
            "733                 Very_High                 0                10   \n",
            "1061                     High                 0                14   \n",
            "1307                   Medium                 1                22   \n",
            "1060                      Low                 0                14   \n",
            "177                      High                 0                 4   \n",
            "\n",
            "     TrainingTimesLastYear WorkLifeBalance  YearsAtCompany  \\\n",
            "1191                     2            Best              14   \n",
            "407                      0            Best               6   \n",
            "1233                     2            Good               4   \n",
            "366                      3            Good               5   \n",
            "702                      3            Good               5   \n",
            "...                    ...             ...             ...   \n",
            "733                      2          Better              10   \n",
            "1061                     3          Better              10   \n",
            "1307                     2          Better              18   \n",
            "1060                     6          Better               0   \n",
            "177                      2          Better               3   \n",
            "\n",
            "      YearsInCurrentRole  YearsSinceLastPromotion YearsWithCurrManager  \n",
            "1191                   7                        8                   10  \n",
            "407                    4                        1                    3  \n",
            "1233                   3                        1                    3  \n",
            "366                    3                        4                    3  \n",
            "702                    4                        1                    4  \n",
            "...                  ...                      ...                  ...  \n",
            "733                    3                        9                    9  \n",
            "1061                   7                        0                    2  \n",
            "1307                  16                       11                    8  \n",
            "1060                   0                        0                    0  \n",
            "177                    2                        2                    2  \n",
            "\n",
            "[588 rows x 31 columns]\n"
          ]
        }
      ]
    },
    {
      "cell_type": "code",
      "source": [
        "# Calculate the Education level proportions from attrition_strat\n",
        "education_counts_strat = attrition_strat['Education'].value_counts(normalize=True)\n",
        "\n",
        "# Print education_counts_strat\n",
        "print(education_counts_strat)"
      ],
      "metadata": {
        "colab": {
          "base_uri": "https://localhost:8080/"
        },
        "id": "39emlIyAo-V0",
        "outputId": "82efcdfb-8541-4b83-f8e0-89646224238c"
      },
      "execution_count": null,
      "outputs": [
        {
          "output_type": "stream",
          "name": "stdout",
          "text": [
            "Bachelor         0.389456\n",
            "Master           0.270408\n",
            "College          0.192177\n",
            "Below_College    0.115646\n",
            "Doctor           0.032313\n",
            "Name: Education, dtype: float64\n"
          ]
        }
      ]
    },
    {
      "cell_type": "markdown",
      "source": [
        "the size of each group in the sample is representative of the size of the sample in the population."
      ],
      "metadata": {
        "id": "LlNywWrqpYDz"
      }
    },
    {
      "cell_type": "code",
      "source": [
        "# Get 30 employees from each Education group\n",
        "attrition_eq = attrition_pop.groupby(\"Education\").sample(n=30,random_state=2022)\n",
        "\n",
        "\n",
        "# Print the sample\n",
        "print(attrition_eq)"
      ],
      "metadata": {
        "colab": {
          "base_uri": "https://localhost:8080/"
        },
        "id": "UoLkRcyTpZQ6",
        "outputId": "6332628e-db63-4a43-a9b1-743198c2a464"
      },
      "execution_count": null,
      "outputs": [
        {
          "output_type": "stream",
          "name": "stdout",
          "text": [
            "      Age  Attrition     BusinessTravel  DailyRate            Department  \\\n",
            "1191   53        0.0      Travel_Rarely        238                 Sales   \n",
            "407    29        0.0  Travel_Frequently        995  Research_Development   \n",
            "1233   59        0.0  Travel_Frequently       1225                 Sales   \n",
            "366    37        0.0      Travel_Rarely        571  Research_Development   \n",
            "702    31        0.0  Travel_Frequently        163  Research_Development   \n",
            "...   ...        ...                ...        ...                   ...   \n",
            "774    33        0.0      Travel_Rarely        922  Research_Development   \n",
            "869    45        0.0      Travel_Rarely       1015  Research_Development   \n",
            "530    32        0.0      Travel_Rarely        120  Research_Development   \n",
            "1049   48        0.0      Travel_Rarely        163                 Sales   \n",
            "350    29        1.0      Travel_Rarely        408  Research_Development   \n",
            "\n",
            "      DistanceFromHome      Education    EducationField  \\\n",
            "1191                 1  Below_College           Medical   \n",
            "407                  2  Below_College     Life_Sciences   \n",
            "1233                 1  Below_College     Life_Sciences   \n",
            "366                 10  Below_College     Life_Sciences   \n",
            "702                 24  Below_College  Technical_Degree   \n",
            "...                ...            ...               ...   \n",
            "774                  1         Doctor           Medical   \n",
            "869                  5         Doctor           Medical   \n",
            "530                  6         Doctor     Life_Sciences   \n",
            "1049                 2         Doctor         Marketing   \n",
            "350                 25         Doctor  Technical_Degree   \n",
            "\n",
            "     EnvironmentSatisfaction  Gender  ...  PerformanceRating  \\\n",
            "1191               Very_High  Female  ...        Outstanding   \n",
            "407                      Low    Male  ...          Excellent   \n",
            "1233                     Low  Female  ...          Excellent   \n",
            "366                Very_High  Female  ...          Excellent   \n",
            "702                Very_High  Female  ...        Outstanding   \n",
            "...                      ...     ...  ...                ...   \n",
            "774                      Low  Female  ...          Excellent   \n",
            "869                     High  Female  ...          Excellent   \n",
            "530                     High    Male  ...        Outstanding   \n",
            "1049                  Medium  Female  ...          Excellent   \n",
            "350                     High  Female  ...          Excellent   \n",
            "\n",
            "     RelationshipSatisfaction  StockOptionLevel TotalWorkingYears  \\\n",
            "1191                Very_High                 0                18   \n",
            "407                 Very_High                 1                 6   \n",
            "1233                Very_High                 0                20   \n",
            "366                    Medium                 2                 6   \n",
            "702                 Very_High                 0                 9   \n",
            "...                       ...               ...               ...   \n",
            "774                      High                 1                10   \n",
            "869                       Low                 0                10   \n",
            "530                       Low                 0                 8   \n",
            "1049                      Low                 1                14   \n",
            "350                    Medium                 0                 6   \n",
            "\n",
            "     TrainingTimesLastYear WorkLifeBalance  YearsAtCompany  \\\n",
            "1191                     2            Best              14   \n",
            "407                      0            Best               6   \n",
            "1233                     2            Good               4   \n",
            "366                      3            Good               5   \n",
            "702                      3            Good               5   \n",
            "...                    ...             ...             ...   \n",
            "774                      2          Better               6   \n",
            "869                      3          Better              10   \n",
            "530                      2          Better               5   \n",
            "1049                     2          Better               9   \n",
            "350                      2            Best               2   \n",
            "\n",
            "      YearsInCurrentRole  YearsSinceLastPromotion YearsWithCurrManager  \n",
            "1191                   7                        8                   10  \n",
            "407                    4                        1                    3  \n",
            "1233                   3                        1                    3  \n",
            "366                    3                        4                    3  \n",
            "702                    4                        1                    4  \n",
            "...                  ...                      ...                  ...  \n",
            "774                    1                        0                    5  \n",
            "869                    7                        1                    4  \n",
            "530                    4                        1                    4  \n",
            "1049                   7                        6                    7  \n",
            "350                    2                        1                    1  \n",
            "\n",
            "[150 rows x 31 columns]\n"
          ]
        }
      ]
    },
    {
      "cell_type": "code",
      "source": [
        "# Get the proportions from attrition_eq\n",
        "education_counts_eq = attrition_eq['Education'].value_counts(normalize=True)\n",
        "\n",
        "# Print the results\n",
        "print(education_counts_eq)"
      ],
      "metadata": {
        "colab": {
          "base_uri": "https://localhost:8080/"
        },
        "id": "D0uPZHK-poxi",
        "outputId": "3f24e455-61c4-4ab6-efc3-c38f77804dad"
      },
      "execution_count": null,
      "outputs": [
        {
          "output_type": "stream",
          "name": "stdout",
          "text": [
            "Below_College    0.2\n",
            "College          0.2\n",
            "Bachelor         0.2\n",
            "Master           0.2\n",
            "Doctor           0.2\n",
            "Name: Education, dtype: float64\n"
          ]
        }
      ]
    },
    {
      "cell_type": "markdown",
      "source": [
        "you want each subgroup to have equal weight in your analysis, then equal counts stratified sampling is the appropriate technique."
      ],
      "metadata": {
        "id": "CDi5E5BQqHuZ"
      }
    },
    {
      "cell_type": "code",
      "source": [
        "import numpy as np"
      ],
      "metadata": {
        "id": "NmJxKFaeqW_D"
      },
      "execution_count": null,
      "outputs": []
    },
    {
      "cell_type": "code",
      "source": [
        "# Plot YearsAtCompany from attrition_pop as a histogram\n",
        "attrition_pop[\"YearsAtCompany\"].hist(bins=np.arange(0,41,1))\n",
        "plt.show()"
      ],
      "metadata": {
        "colab": {
          "base_uri": "https://localhost:8080/",
          "height": 430
        },
        "id": "TC9Hjl45qIus",
        "outputId": "aa4f28b4-9ed5-4b1a-b80b-7e7e46184d81"
      },
      "execution_count": null,
      "outputs": [
        {
          "output_type": "display_data",
          "data": {
            "text/plain": [
              "<Figure size 640x480 with 1 Axes>"
            ],
            "image/png": "[encoded data removed]"
          },
          "metadata": {}
        }
      ]
    },
    {
      "cell_type": "code",
      "source": [
        "# Sample 400 employees weighted by YearsAtCompany\n",
        "attrition_weight = attrition_pop.sample(n=400,weights=\"YearsAtCompany\")\n",
        "# Print the sample\n",
        "print(attrition_weight)"
      ],
      "metadata": {
        "colab": {
          "base_uri": "https://localhost:8080/"
        },
        "id": "i6Nu2sLwqUDt",
        "outputId": "06b9d0ee-48e0-4493-89eb-4c987cfd02f4"
      },
      "execution_count": null,
      "outputs": [
        {
          "output_type": "stream",
          "name": "stdout",
          "text": [
            "      Age  Attrition BusinessTravel  DailyRate            Department  \\\n",
            "1251   44        0.0  Travel_Rarely        200  Research_Development   \n",
            "182    31        0.0  Travel_Rarely        329  Research_Development   \n",
            "1469   58        1.0  Travel_Rarely        286  Research_Development   \n",
            "860    37        0.0  Travel_Rarely        674  Research_Development   \n",
            "1030   59        0.0  Travel_Rarely        326                 Sales   \n",
            "...   ...        ...            ...        ...                   ...   \n",
            "1372   53        0.0  Travel_Rarely       1282  Research_Development   \n",
            "346    34        0.0     Non-Travel       1381                 Sales   \n",
            "1104   38        0.0  Travel_Rarely        833  Research_Development   \n",
            "419    31        0.0  Travel_Rarely       1003                 Sales   \n",
            "282    25        0.0  Travel_Rarely       1356                 Sales   \n",
            "\n",
            "      DistanceFromHome Education    EducationField EnvironmentSatisfaction  \\\n",
            "1251                29    Master             Other               Very_High   \n",
            "182                  1   College     Life_Sciences               Very_High   \n",
            "1469                 2    Master     Life_Sciences               Very_High   \n",
            "860                 13  Bachelor           Medical                     Low   \n",
            "1030                 3  Bachelor     Life_Sciences                    High   \n",
            "...                ...       ...               ...                     ...   \n",
            "1372                 5  Bachelor             Other                    High   \n",
            "346                  4    Master         Marketing                    High   \n",
            "1104                18  Bachelor           Medical                  Medium   \n",
            "419                  5  Bachelor  Technical_Degree                     Low   \n",
            "282                 10    Master     Life_Sciences                    High   \n",
            "\n",
            "      Gender  ...  PerformanceRating RelationshipSatisfaction  \\\n",
            "1251    Male  ...        Outstanding                   Medium   \n",
            "182     Male  ...          Excellent                     High   \n",
            "1469    Male  ...          Excellent                Very_High   \n",
            "860     Male  ...          Excellent                      Low   \n",
            "1030  Female  ...          Excellent                Very_High   \n",
            "...      ...  ...                ...                      ...   \n",
            "1372  Female  ...          Excellent                Very_High   \n",
            "346   Female  ...          Excellent                      Low   \n",
            "1104    Male  ...          Excellent                     High   \n",
            "419     Male  ...          Excellent                     High   \n",
            "282     Male  ...          Excellent                   Medium   \n",
            "\n",
            "      StockOptionLevel TotalWorkingYears TrainingTimesLastYear  \\\n",
            "1251                 0                20                     3   \n",
            "182                  1                 4                     3   \n",
            "1469                 0                40                     2   \n",
            "860                  0                10                     2   \n",
            "1030                 0                13                     2   \n",
            "...                ...               ...                   ...   \n",
            "1372                 1                26                     3   \n",
            "346                  1                 6                     3   \n",
            "1104                 1                15                     2   \n",
            "419                  1                 6                     3   \n",
            "282                  0                 5                     4   \n",
            "\n",
            "     WorkLifeBalance  YearsAtCompany  YearsInCurrentRole  \\\n",
            "1251          Better              20                  11   \n",
            "182           Better               4                   2   \n",
            "1469          Better              31                  15   \n",
            "860           Better              10                   8   \n",
            "1030          Better               6                   1   \n",
            "...              ...             ...                 ...   \n",
            "1372            Good              14                  13   \n",
            "346           Better               3                   2   \n",
            "1104          Better               1                   0   \n",
            "419           Better               5                   2   \n",
            "282           Better               4                   3   \n",
            "\n",
            "      YearsSinceLastPromotion YearsWithCurrManager  \n",
            "1251                       13                   17  \n",
            "182                         3                    2  \n",
            "1469                       13                    8  \n",
            "860                         3                    7  \n",
            "1030                        0                    5  \n",
            "...                       ...                  ...  \n",
            "1372                        4                    8  \n",
            "346                         1                    2  \n",
            "1104                        1                    0  \n",
            "419                         0                    2  \n",
            "282                         1                    1  \n",
            "\n",
            "[400 rows x 31 columns]\n"
          ]
        }
      ]
    },
    {
      "cell_type": "code",
      "source": [
        "# Plot YearsAtCompany from attrition_pop as a histogram\n",
        "attrition_pop['YearsAtCompany'].hist(bins=np.arange(0, 41, 1))\n",
        "plt.show()\n",
        "\n",
        "# Sample 400 employees weighted by YearsAtCompany\n",
        "attrition_weight = attrition_pop.sample(n=400, weights=\"YearsAtCompany\")\n",
        "\n",
        "# Plot YearsAtCompany from attrition_weight as a histogram\n",
        "attrition_weight[\"YearsAtCompany\"].hist(bins=np.arange(0,41,1))\n",
        "plt.show()"
      ],
      "metadata": {
        "colab": {
          "base_uri": "https://localhost:8080/",
          "height": 843
        },
        "id": "9ATxkAplqdKc",
        "outputId": "37e67a08-fcb8-44db-f423-de5d61cd4606"
      },
      "execution_count": null,
      "outputs": [
        {
          "output_type": "display_data",
          "data": {
            "text/plain": [
              "<Figure size 640x480 with 1 Axes>"
            ],
            "image/png": "[encoded data removed]"
          },
          "metadata": {}
        },
        {
          "output_type": "display_data",
          "data": {
            "text/plain": [
              "<Figure size 640x480 with 1 Axes>"
            ],
            "image/png": "[encoded data removed]"
          },
          "metadata": {}
        }
      ]
    },
    {
      "cell_type": "markdown",
      "source": [
        "The fact that the two numbers are different means that the weighted simple random sample is biased."
      ],
      "metadata": {
        "id": "NOZRLVt7qvGR"
      }
    },
    {
      "cell_type": "markdown",
      "source": [
        "# **Cluster sampling**"
      ],
      "metadata": {
        "id": "XpDQEygxqz7v"
      }
    },
    {
      "cell_type": "code",
      "source": [
        "import random"
      ],
      "metadata": {
        "id": "wJ_k1nZAsBFi"
      },
      "execution_count": null,
      "outputs": []
    },
    {
      "cell_type": "code",
      "source": [
        "# Create a list of unique JobRole values\n",
        "job_roles_pop = list(attrition_pop['JobRole'].unique())\n",
        "\n",
        "# Randomly sample four JobRole values\n",
        "job_roles_samp =random.sample(job_roles_pop,k=4)\n",
        "\n",
        "# Print the result\n",
        "print(job_roles_samp)"
      ],
      "metadata": {
        "colab": {
          "base_uri": "https://localhost:8080/"
        },
        "id": "FLR6LUPJqwAn",
        "outputId": "f3f0635f-b484-42ac-ea0e-b262772b306e"
      },
      "execution_count": null,
      "outputs": [
        {
          "output_type": "stream",
          "name": "stdout",
          "text": [
            "['Research_Scientist', 'Healthcare_Representative', 'Research_Director', 'Sales_Executive']\n"
          ]
        }
      ]
    },
    {
      "cell_type": "code",
      "source": [
        "# Create a list of unique JobRole values\n",
        "job_roles_pop = list(attrition_pop['JobRole'].unique())\n",
        "\n",
        "# Randomly sample four JobRole values\n",
        "job_roles_samp = random.sample(job_roles_pop, k=4)\n",
        "\n",
        "# Filter for rows where JobRole is in job_roles_samp\n",
        "jobrole_condition = attrition_pop['JobRole'].isin(job_roles_samp)\n",
        "attrition_filtered = attrition_pop[jobrole_condition]\n",
        "\n",
        "# Print the result\n",
        "print(attrition_filtered)"
      ],
      "metadata": {
        "colab": {
          "base_uri": "https://localhost:8080/"
        },
        "id": "zkRcBn_is6Fw",
        "outputId": "b29c2147-e8ed-4257-a5c1-0b90e1d947ae"
      },
      "execution_count": null,
      "outputs": [
        {
          "output_type": "stream",
          "name": "stdout",
          "text": [
            "      Age  Attrition     BusinessTravel  DailyRate            Department  \\\n",
            "1      19        1.0      Travel_Rarely        528                 Sales   \n",
            "3      18        0.0      Travel_Rarely        812                 Sales   \n",
            "4      18        1.0  Travel_Frequently       1306                 Sales   \n",
            "9      18        1.0  Travel_Frequently        544                 Sales   \n",
            "23     19        1.0  Travel_Frequently        602                 Sales   \n",
            "...   ...        ...                ...        ...                   ...   \n",
            "1462   54        0.0      Travel_Rarely        584  Research_Development   \n",
            "1464   55        0.0      Travel_Rarely        452  Research_Development   \n",
            "1465   55        0.0      Travel_Rarely       1117                 Sales   \n",
            "1466   58        0.0         Non-Travel        350                 Sales   \n",
            "1469   58        1.0      Travel_Rarely        286  Research_Development   \n",
            "\n",
            "      DistanceFromHome      Education    EducationField  \\\n",
            "1                   22  Below_College         Marketing   \n",
            "3                   10       Bachelor           Medical   \n",
            "4                    5       Bachelor         Marketing   \n",
            "9                    3        College           Medical   \n",
            "23                   1  Below_College  Technical_Degree   \n",
            "...                ...            ...               ...   \n",
            "1462                22         Doctor           Medical   \n",
            "1464                 1       Bachelor           Medical   \n",
            "1465                18         Doctor     Life_Sciences   \n",
            "1466                 2       Bachelor           Medical   \n",
            "1469                 2         Master     Life_Sciences   \n",
            "\n",
            "     EnvironmentSatisfaction  Gender  ...  PerformanceRating  \\\n",
            "1                  Very_High    Male  ...          Excellent   \n",
            "3                  Very_High  Female  ...          Excellent   \n",
            "4                     Medium    Male  ...          Excellent   \n",
            "9                     Medium  Female  ...          Excellent   \n",
            "23                      High  Female  ...        Outstanding   \n",
            "...                      ...     ...  ...                ...   \n",
            "1462                  Medium  Female  ...        Outstanding   \n",
            "1464               Very_High    Male  ...          Excellent   \n",
            "1465                     Low  Female  ...        Outstanding   \n",
            "1466                  Medium    Male  ...        Outstanding   \n",
            "1469               Very_High    Male  ...          Excellent   \n",
            "\n",
            "     RelationshipSatisfaction  StockOptionLevel TotalWorkingYears  \\\n",
            "1                   Very_High                 0                 0   \n",
            "3                         Low                 0                 0   \n",
            "4                   Very_High                 0                 0   \n",
            "9                        High                 0                 0   \n",
            "23                        Low                 0                 1   \n",
            "...                       ...               ...               ...   \n",
            "1462                     High                 1                36   \n",
            "1464                     High                 0                37   \n",
            "1465                Very_High                 0                37   \n",
            "1466                Very_High                 1                37   \n",
            "1469                Very_High                 0                40   \n",
            "\n",
            "     TrainingTimesLastYear WorkLifeBalance  YearsAtCompany  \\\n",
            "1                        2            Good               0   \n",
            "3                        2          Better               0   \n",
            "4                        3          Better               0   \n",
            "9                        2            Best               0   \n",
            "23                       5            Best               0   \n",
            "...                    ...             ...             ...   \n",
            "1462                     6          Better              10   \n",
            "1464                     2          Better              36   \n",
            "1465                     2          Better              10   \n",
            "1466                     0            Good              16   \n",
            "1469                     2          Better              31   \n",
            "\n",
            "      YearsInCurrentRole  YearsSinceLastPromotion YearsWithCurrManager  \n",
            "1                      0                        0                    0  \n",
            "3                      0                        0                    0  \n",
            "4                      0                        0                    0  \n",
            "9                      0                        0                    0  \n",
            "23                     0                        0                    0  \n",
            "...                  ...                      ...                  ...  \n",
            "1462                   8                        4                    7  \n",
            "1464                  10                        4                   13  \n",
            "1465                   9                        7                    7  \n",
            "1466                   9                       14                   14  \n",
            "1469                  15                       13                    8  \n",
            "\n",
            "[317 rows x 31 columns]\n"
          ]
        }
      ]
    },
    {
      "cell_type": "code",
      "source": [
        "# Remove categories with no rows\n",
        "attrition_filtered['JobRole'] = attrition_filtered['JobRole'].cat.remove_unused_categories()\n",
        "\n",
        "# Randomly sample 10 employees from each sampled job role\n",
        "attrition_clust = attrition_filtered.groupby(\"JobRole\").sample(n=10,random_state=2022)\n",
        "\n",
        "\n",
        "# Print the sample\n",
        "print(attrition_clust)"
      ],
      "metadata": {
        "colab": {
          "base_uri": "https://localhost:8080/"
        },
        "id": "Z1LsnYvQs802",
        "outputId": "83a06d80-c33c-47fa-c53d-63381efd1d22"
      },
      "execution_count": null,
      "outputs": [
        {
          "output_type": "stream",
          "name": "stdout",
          "text": [
            "      Age  Attrition     BusinessTravel  DailyRate            Department  \\\n",
            "1348   44        1.0      Travel_Rarely       1376       Human_Resources   \n",
            "886    41        0.0         Non-Travel        552       Human_Resources   \n",
            "983    39        0.0      Travel_Rarely        141       Human_Resources   \n",
            "88     27        1.0  Travel_Frequently       1337       Human_Resources   \n",
            "189    34        0.0      Travel_Rarely        829       Human_Resources   \n",
            "160    24        0.0  Travel_Frequently        897       Human_Resources   \n",
            "839    46        0.0      Travel_Rarely        991       Human_Resources   \n",
            "966    30        0.0      Travel_Rarely       1240       Human_Resources   \n",
            "162    28        0.0         Non-Travel        280       Human_Resources   \n",
            "1231   37        0.0      Travel_Rarely       1239       Human_Resources   \n",
            "1375   44        0.0      Travel_Rarely       1315  Research_Development   \n",
            "1462   54        0.0      Travel_Rarely        584  Research_Development   \n",
            "1316   45        0.0  Travel_Frequently        364  Research_Development   \n",
            "1356   48        0.0  Travel_Frequently        117  Research_Development   \n",
            "1387   48        0.0         Non-Travel       1262  Research_Development   \n",
            "1321   54        0.0         Non-Travel        142       Human_Resources   \n",
            "1266   50        0.0      Travel_Rarely       1452  Research_Development   \n",
            "1330   46        0.0      Travel_Rarely        406                 Sales   \n",
            "1052   59        0.0      Travel_Rarely       1089                 Sales   \n",
            "1449   52        0.0      Travel_Rarely        699  Research_Development   \n",
            "1439   58        0.0      Travel_Rarely       1055  Research_Development   \n",
            "1339   58        0.0  Travel_Frequently       1216  Research_Development   \n",
            "1426   49        0.0      Travel_Rarely       1245  Research_Development   \n",
            "1415   48        0.0      Travel_Rarely       1224  Research_Development   \n",
            "1322   51        0.0      Travel_Rarely        684  Research_Development   \n",
            "1284   40        0.0      Travel_Rarely       1308  Research_Development   \n",
            "1149   37        0.0      Travel_Rarely        161  Research_Development   \n",
            "1126   42        0.0      Travel_Rarely        810  Research_Development   \n",
            "1374   46        0.0      Travel_Rarely       1009  Research_Development   \n",
            "1050   33        0.0      Travel_Rarely        213  Research_Development   \n",
            "47     25        1.0      Travel_Rarely        867                 Sales   \n",
            "468    25        0.0      Travel_Rarely        622                 Sales   \n",
            "1228   48        1.0  Travel_Frequently        708                 Sales   \n",
            "709    27        0.0      Travel_Rarely        728                 Sales   \n",
            "3      18        0.0      Travel_Rarely        812                 Sales   \n",
            "150    31        0.0  Travel_Frequently        793                 Sales   \n",
            "133    34        1.0  Travel_Frequently        296                 Sales   \n",
            "153    31        1.0  Travel_Frequently       1060                 Sales   \n",
            "109    20        0.0      Travel_Rarely        654                 Sales   \n",
            "294    28        1.0  Travel_Frequently       1496                 Sales   \n",
            "\n",
            "      DistanceFromHome      Education    EducationField  \\\n",
            "1348                 1        College           Medical   \n",
            "886                  4       Bachelor   Human_Resources   \n",
            "983                  3       Bachelor   Human_Resources   \n",
            "88                  22       Bachelor   Human_Resources   \n",
            "189                  3        College   Human_Resources   \n",
            "160                 10       Bachelor           Medical   \n",
            "839                  1        College     Life_Sciences   \n",
            "966                  9       Bachelor   Human_Resources   \n",
            "162                  1        College     Life_Sciences   \n",
            "1231                 8        College             Other   \n",
            "1375                 3         Master             Other   \n",
            "1462                22         Doctor           Medical   \n",
            "1316                25       Bachelor           Medical   \n",
            "1356                22       Bachelor           Medical   \n",
            "1387                 1         Master           Medical   \n",
            "1321                26       Bachelor   Human_Resources   \n",
            "1266                11       Bachelor     Life_Sciences   \n",
            "1330                 3  Below_College         Marketing   \n",
            "1052                 1        College  Technical_Degree   \n",
            "1449                 1         Master     Life_Sciences   \n",
            "1439                 1       Bachelor           Medical   \n",
            "1339                15         Master     Life_Sciences   \n",
            "1426                18         Master     Life_Sciences   \n",
            "1415                10       Bachelor     Life_Sciences   \n",
            "1322                 6       Bachelor     Life_Sciences   \n",
            "1284                14       Bachelor           Medical   \n",
            "1149                10       Bachelor     Life_Sciences   \n",
            "1126                23         Doctor     Life_Sciences   \n",
            "1374                 2       Bachelor     Life_Sciences   \n",
            "1050                 7       Bachelor           Medical   \n",
            "47                  19        College         Marketing   \n",
            "468                 13  Below_College           Medical   \n",
            "1228                 7        College           Medical   \n",
            "709                 23  Below_College           Medical   \n",
            "3                   10       Bachelor           Medical   \n",
            "150                 20       Bachelor     Life_Sciences   \n",
            "133                  6        College         Marketing   \n",
            "153                  1       Bachelor     Life_Sciences   \n",
            "109                 21       Bachelor         Marketing   \n",
            "294                  1       Bachelor  Technical_Degree   \n",
            "\n",
            "     EnvironmentSatisfaction  Gender  ...  PerformanceRating  \\\n",
            "1348                  Medium    Male  ...          Excellent   \n",
            "886                     High    Male  ...          Excellent   \n",
            "983                     High  Female  ...          Excellent   \n",
            "88                       Low  Female  ...          Excellent   \n",
            "189                     High    Male  ...          Excellent   \n",
            "160                      Low    Male  ...          Excellent   \n",
            "839                Very_High  Female  ...          Excellent   \n",
            "966                     High    Male  ...          Excellent   \n",
            "162                     High    Male  ...          Excellent   \n",
            "1231                    High    Male  ...          Excellent   \n",
            "1375               Very_High    Male  ...          Excellent   \n",
            "1462                  Medium  Female  ...        Outstanding   \n",
            "1316                  Medium  Female  ...        Outstanding   \n",
            "1356               Very_High  Female  ...          Excellent   \n",
            "1387                     Low    Male  ...        Outstanding   \n",
            "1321               Very_High  Female  ...          Excellent   \n",
            "1266                    High  Female  ...          Excellent   \n",
            "1330                     Low    Male  ...          Excellent   \n",
            "1052                  Medium    Male  ...          Excellent   \n",
            "1449                    High    Male  ...          Excellent   \n",
            "1439               Very_High  Female  ...        Outstanding   \n",
            "1339                     Low    Male  ...          Excellent   \n",
            "1426               Very_High    Male  ...          Excellent   \n",
            "1415               Very_High    Male  ...          Excellent   \n",
            "1322                     Low    Male  ...          Excellent   \n",
            "1284                    High    Male  ...          Excellent   \n",
            "1149                    High  Female  ...        Outstanding   \n",
            "1126                     Low  Female  ...          Excellent   \n",
            "1374                     Low    Male  ...          Excellent   \n",
            "1050                    High    Male  ...          Excellent   \n",
            "47                      High    Male  ...          Excellent   \n",
            "468                   Medium    Male  ...          Excellent   \n",
            "1228               Very_High  Female  ...          Excellent   \n",
            "709                   Medium  Female  ...        Outstanding   \n",
            "3                  Very_High  Female  ...          Excellent   \n",
            "150                     High    Male  ...          Excellent   \n",
            "133                Very_High  Female  ...          Excellent   \n",
            "153                Very_High  Female  ...          Excellent   \n",
            "109                     High    Male  ...          Excellent   \n",
            "294                      Low    Male  ...          Excellent   \n",
            "\n",
            "     RelationshipSatisfaction  StockOptionLevel TotalWorkingYears  \\\n",
            "1348                Very_High                 1                24   \n",
            "886                    Medium                 1                10   \n",
            "983                      High                 1                12   \n",
            "88                        Low                 0                 1   \n",
            "189                      High                 1                 4   \n",
            "160                 Very_High                 1                 3   \n",
            "839                      High                 0                10   \n",
            "966                 Very_High                 0                12   \n",
            "162                    Medium                 1                 3   \n",
            "1231                     High                 0                19   \n",
            "1375                      Low                 1                26   \n",
            "1462                     High                 1                36   \n",
            "1316                     High                 0                22   \n",
            "1356                   Medium                 1                24   \n",
            "1387                     High                 0                27   \n",
            "1321                     High                 0                23   \n",
            "1266                   Medium                 0                21   \n",
            "1330                Very_High                 1                23   \n",
            "1052                     High                 1                14   \n",
            "1449                      Low                 1                34   \n",
            "1439                     High                 1                32   \n",
            "1339                   Medium                 0                23   \n",
            "1426                     High                 1                31   \n",
            "1415                Very_High                 0                29   \n",
            "1322                     High                 0                23   \n",
            "1284                      Low                 0                21   \n",
            "1149                      Low                 1                16   \n",
            "1126                   Medium                 0                16   \n",
            "1374                     High                 0                26   \n",
            "1050                Very_High                 0                14   \n",
            "47                       High                 3                 1   \n",
            "468                      High                 0                 7   \n",
            "1228                     High                 2                19   \n",
            "709                 Very_High                 1                 9   \n",
            "3                         Low                 0                 0   \n",
            "150                       Low                 1                 3   \n",
            "133                 Very_High                 1                 3   \n",
            "153                       Low                 0                 3   \n",
            "109                 Very_High                 0                 2   \n",
            "294                 Very_High                 1                 5   \n",
            "\n",
            "     TrainingTimesLastYear WorkLifeBalance  YearsAtCompany  \\\n",
            "1348                     1          Better              20   \n",
            "886                      4          Better               3   \n",
            "983                      3             Bad               8   \n",
            "88                       2          Better               1   \n",
            "189                      1             Bad               3   \n",
            "160                      2          Better               2   \n",
            "839                      3            Best               7   \n",
            "966                      2             Bad              11   \n",
            "162                      2          Better               3   \n",
            "1231                     4            Good              10   \n",
            "1375                     2            Best               2   \n",
            "1462                     6          Better              10   \n",
            "1316                     4          Better               0   \n",
            "1356                     3          Better              22   \n",
            "1387                     3            Good               5   \n",
            "1321                     3          Better               5   \n",
            "1266                     5          Better               5   \n",
            "1330                     3          Better              12   \n",
            "1052                     1             Bad               6   \n",
            "1449                     5          Better              33   \n",
            "1439                     3          Better               9   \n",
            "1339                     3          Better               2   \n",
            "1426                     5          Better              31   \n",
            "1415                     3          Better              22   \n",
            "1322                     5          Better              20   \n",
            "1284                     2            Best              20   \n",
            "1149                     2          Better              16   \n",
            "1126                     2          Better               1   \n",
            "1374                     2             Bad               3   \n",
            "1050                     3            Best              13   \n",
            "47                       2          Better               1   \n",
            "468                      1          Better               7   \n",
            "1228                     3          Better               9   \n",
            "709                      5          Better               9   \n",
            "3                        2          Better               0   \n",
            "150                      4          Better               2   \n",
            "133                      3            Good               2   \n",
            "153                      2            Best               3   \n",
            "109                      2          Better               2   \n",
            "294                      3            Best               3   \n",
            "\n",
            "      YearsInCurrentRole  YearsSinceLastPromotion YearsWithCurrManager  \n",
            "1348                   6                        3                    6  \n",
            "886                    2                        1                    2  \n",
            "983                    3                        3                    6  \n",
            "88                     0                        0                    0  \n",
            "189                    2                        0                    2  \n",
            "160                    2                        2                    1  \n",
            "839                    6                        5                    7  \n",
            "966                    9                        4                    7  \n",
            "162                    2                        2                    2  \n",
            "1231                   0                        4                    7  \n",
            "1375                   2                        0                    1  \n",
            "1462                   8                        4                    7  \n",
            "1316                   0                        0                    0  \n",
            "1356                  17                        4                    7  \n",
            "1387                   4                        2                    1  \n",
            "1321                   3                        4                    4  \n",
            "1266                   4                        4                    4  \n",
            "1330                   9                        4                    9  \n",
            "1052                   4                        0                    4  \n",
            "1449                  18                       11                    9  \n",
            "1439                   8                        1                    5  \n",
            "1339                   2                        2                    2  \n",
            "1426                   9                        0                    9  \n",
            "1415                  10                       12                    9  \n",
            "1322                  18                       15                   15  \n",
            "1284                   7                        4                    9  \n",
            "1149                  11                        6                    8  \n",
            "1126                   0                        0                    0  \n",
            "1374                   2                        0                    1  \n",
            "1050                   9                        3                    7  \n",
            "47                     0                        0                    0  \n",
            "468                    4                        0                    6  \n",
            "1228                   7                        7                    7  \n",
            "709                    8                        5                    8  \n",
            "3                      0                        0                    0  \n",
            "150                    2                        2                    2  \n",
            "133                    2                        1                    0  \n",
            "153                    2                        2                    2  \n",
            "109                    1                        2                    2  \n",
            "294                    2                        1                    2  \n",
            "\n",
            "[40 rows x 31 columns]\n"
          ]
        },
        {
          "output_type": "stream",
          "name": "stderr",
          "text": [
            "<ipython-input-48-67afa2d2f050>:2: SettingWithCopyWarning: \n",
            "A value is trying to be set on a copy of a slice from a DataFrame.\n",
            "Try using .loc[row_indexer,col_indexer] = value instead\n",
            "\n",
            "See the caveats in the documentation: https://pandas.pydata.org/pandas-docs/stable/user_guide/indexing.html#returning-a-view-versus-a-copy\n",
            "  attrition_filtered['JobRole'] = attrition_filtered['JobRole'].cat.remove_unused_categories()\n"
          ]
        }
      ]
    },
    {
      "cell_type": "markdown",
      "source": [
        "The two-stage sampling technique gives you control over sampling both between subgroups and within subgroups."
      ],
      "metadata": {
        "id": "nrxoZjqvtRCM"
      }
    },
    {
      "cell_type": "code",
      "source": [
        "# Perform simple random sampling to get 0.25 of the population\n",
        "attrition_srs = attrition_pop.sample(frac=0.25,random_state=2022)"
      ],
      "metadata": {
        "id": "0BKu0ERVtR_u"
      },
      "execution_count": null,
      "outputs": []
    },
    {
      "cell_type": "code",
      "source": [
        "# Perform stratified sampling to get 0.25 of each relationship group\n",
        "attrition_strat =attrition_pop.groupby(\"RelationshipSatisfaction\").sample(frac=0.25,random_state=2022)"
      ],
      "metadata": {
        "id": "SsfFYPgutcIv"
      },
      "execution_count": null,
      "outputs": []
    },
    {
      "cell_type": "code",
      "source": [
        "# Create a list of unique RelationshipSatisfaction values\n",
        "satisfaction_unique = list(attrition_pop[\"RelationshipSatisfaction\"].unique())\n",
        "\n",
        "# Randomly sample 2 unique satisfaction values\n",
        "satisfaction_samp = random.sample(satisfaction_unique,k=2)\n",
        "\n",
        "# Filter for satisfaction_samp and clear unused categories from RelationshipSatisfaction\n",
        "satis_condition = attrition_pop[\"RelationshipSatisfaction\"].isin(satisfaction_samp)\n",
        "attrition_clust_prep = attrition_pop[satis_condition]\n",
        "attrition_clust_prep['RelationshipSatisfaction'] = attrition_clust_prep['RelationshipSatisfaction'].cat.remove_unused_categories()\n",
        "\n",
        "# Perform cluster sampling on the selected group, getting 0.25 of attrition_pop\n",
        "attrition_clust = attrition_clust_prep.groupby(\"RelationshipSatisfaction\").sample(n=len(attrition_pop)//4,random_state=2022)\n"
      ],
      "metadata": {
        "colab": {
          "base_uri": "https://localhost:8080/"
        },
        "id": "qHPzBR2stuOX",
        "outputId": "b50c0894-91d2-4ce5-8dc9-3e6fc19f7051"
      },
      "execution_count": null,
      "outputs": [
        {
          "output_type": "stream",
          "name": "stderr",
          "text": [
            "<ipython-input-51-e0457cc3c110>:10: SettingWithCopyWarning: \n",
            "A value is trying to be set on a copy of a slice from a DataFrame.\n",
            "Try using .loc[row_indexer,col_indexer] = value instead\n",
            "\n",
            "See the caveats in the documentation: https://pandas.pydata.org/pandas-docs/stable/user_guide/indexing.html#returning-a-view-versus-a-copy\n",
            "  attrition_clust_prep['RelationshipSatisfaction'] = attrition_clust_prep['RelationshipSatisfaction'].cat.remove_unused_categories()\n"
          ]
        }
      ]
    },
    {
      "cell_type": "markdown",
      "source": [
        "Now we have the three samples set up, let's calculate some summary statistics."
      ],
      "metadata": {
        "id": "C44Hentot7Wk"
      }
    },
    {
      "cell_type": "code",
      "source": [
        "# Mean Attrition by RelationshipSatisfaction group\n",
        "mean_attrition_pop = attrition_pop.groupby(\"RelationshipSatisfaction\")[\"Attrition\"].mean()\n",
        "\n",
        "# Print the result\n",
        "print(mean_attrition_pop)"
      ],
      "metadata": {
        "colab": {
          "base_uri": "https://localhost:8080/"
        },
        "id": "1zsxNV53t8bS",
        "outputId": "12533b0d-7990-45c1-df20-7298b83c937a"
      },
      "execution_count": null,
      "outputs": [
        {
          "output_type": "stream",
          "name": "stdout",
          "text": [
            "RelationshipSatisfaction\n",
            "Low          0.206522\n",
            "Medium       0.148515\n",
            "High         0.154684\n",
            "Very_High    0.148148\n",
            "Name: Attrition, dtype: float64\n"
          ]
        }
      ]
    },
    {
      "cell_type": "code",
      "source": [
        "# Calculate the same thing for the simple random sample\n",
        "mean_attrition_srs = attrition_srs.groupby('RelationshipSatisfaction')['Attrition'].mean()\n",
        "\n",
        "# Print the result\n",
        "print(mean_attrition_srs)"
      ],
      "metadata": {
        "colab": {
          "base_uri": "https://localhost:8080/"
        },
        "id": "bjMzHaxZuCeo",
        "outputId": "b228dc94-04ef-462b-c361-a4ce1477f8e1"
      },
      "execution_count": null,
      "outputs": [
        {
          "output_type": "stream",
          "name": "stdout",
          "text": [
            "RelationshipSatisfaction\n",
            "Low          0.134328\n",
            "Medium       0.164179\n",
            "High         0.160000\n",
            "Very_High    0.155963\n",
            "Name: Attrition, dtype: float64\n"
          ]
        }
      ]
    },
    {
      "cell_type": "code",
      "source": [
        "# Calculate the same thing for the stratified sample\n",
        "mean_attrition_strat = attrition_strat.groupby('RelationshipSatisfaction')['Attrition'].mean()\n",
        "\n",
        "# Print the result\n",
        "print(mean_attrition_strat)"
      ],
      "metadata": {
        "colab": {
          "base_uri": "https://localhost:8080/"
        },
        "id": "iIUc1laAuSs5",
        "outputId": "d7f8697c-67b0-42fc-b93c-88cc1c74267e"
      },
      "execution_count": null,
      "outputs": [
        {
          "output_type": "stream",
          "name": "stdout",
          "text": [
            "RelationshipSatisfaction\n",
            "Low          0.144928\n",
            "Medium       0.078947\n",
            "High         0.165217\n",
            "Very_High    0.129630\n",
            "Name: Attrition, dtype: float64\n"
          ]
        }
      ]
    },
    {
      "cell_type": "code",
      "source": [
        "# Calculate the same thing for the cluster sample\n",
        "mean_attrition_clust =attrition_clust.groupby('RelationshipSatisfaction')['Attrition'].mean()\n",
        "\n",
        "# Print the result\n",
        "print(mean_attrition_clust)"
      ],
      "metadata": {
        "colab": {
          "base_uri": "https://localhost:8080/"
        },
        "id": "I5XpQrmJueE7",
        "outputId": "f041a042-2e0c-49ef-a897-1004b5a203f0"
      },
      "execution_count": null,
      "outputs": [
        {
          "output_type": "stream",
          "name": "stdout",
          "text": [
            "RelationshipSatisfaction\n",
            "High         0.149864\n",
            "Very_High    0.160763\n",
            "Name: Attrition, dtype: float64\n"
          ]
        }
      ]
    },
    {
      "cell_type": "markdown",
      "source": [
        "The numbers are all fairly similar, with the notable exception that cluster sampling only gives results for the clusters included in the sample"
      ],
      "metadata": {
        "id": "swA-vqh2uqdh"
      }
    },
    {
      "cell_type": "markdown",
      "source": [
        "# **Chap 3 : sampling distribution**"
      ],
      "metadata": {
        "id": "fG2Rqn7RKeoc"
      }
    },
    {
      "cell_type": "code",
      "source": [
        "\n",
        "\n",
        "# Generate a simple random sample of 50 rows, with seed 2022\n",
        "attrition_srs50 = attrition_pop.sample(n=50,random_state=2022)\n",
        "\n",
        "# Calculate the mean employee attrition in the sample\n",
        "mean_attrition_srs50 = attrition_srs50['Attrition'].mean()\n",
        "\n",
        "# Calculate the relative error percentage\n",
        "rel_error_pct50 =100*abs(mean_attrition_pop-mean_attrition_srs50)/mean_attrition_pop\n",
        "\n",
        "# Print rel_error_pct50\n",
        "print(rel_error_pct50)"
      ],
      "metadata": {
        "id": "egLI7lvLuvmk",
        "colab": {
          "base_uri": "https://localhost:8080/"
        },
        "outputId": "691e9a27-636a-4cf4-ff3a-6bbb6b068e29"
      },
      "execution_count": null,
      "outputs": [
        {
          "output_type": "stream",
          "name": "stdout",
          "text": [
            "RelationshipSatisfaction\n",
            "Low          70.947368\n",
            "Medium       59.600000\n",
            "High         61.211268\n",
            "Very_High    59.500000\n",
            "Name: Attrition, dtype: float64\n"
          ]
        }
      ]
    },
    {
      "cell_type": "code",
      "source": [
        "# Generate a simple random sample of 100 rows, with seed 2022\n",
        "attrition_srs100 = attrition_pop.sample(n=100,random_state=2022)\n",
        "\n",
        "\n",
        "# Calculate the mean employee attrition in the sample\n",
        "mean_attrition_srs100 = attrition_srs100['Attrition'].mean()\n",
        "\n",
        "# Calculate the relative error percentage\n",
        "rel_error_pct100 = 100*abs(mean_attrition_pop-mean_attrition_srs100)/mean_attrition_pop\n",
        "\n",
        "# Print rel_error_pct100\n",
        "print(rel_error_pct100)\n"
      ],
      "metadata": {
        "colab": {
          "base_uri": "https://localhost:8080/"
        },
        "id": "pF4TCpMOLKCQ",
        "outputId": "8840c388-5d82-432e-af70-c30bbcb2f87e"
      },
      "execution_count": null,
      "outputs": [
        {
          "output_type": "stream",
          "name": "stdout",
          "text": [
            "RelationshipSatisfaction\n",
            "Low          27.368421\n",
            "Medium        1.000000\n",
            "High          3.028169\n",
            "Very_High     1.250000\n",
            "Name: Attrition, dtype: float64\n"
          ]
        }
      ]
    },
    {
      "cell_type": "markdown",
      "source": [
        "you increase the sample size, the sample mean generally gets closer to the population mean, and the relative error decreases."
      ],
      "metadata": {
        "id": "Mg4AI6JnLb4I"
      }
    },
    {
      "cell_type": "code",
      "source": [
        "# Create an empty list\n",
        "mean_attritions = []\n",
        "# Loop 500 times to create 500 sample means\n",
        "for i in range(500):\n",
        "\tmean_attritions.append(\n",
        "    \tattrition_pop.sample(n=60)['Attrition'].mean()\n",
        "\t)\n",
        "\n",
        "# Print out the first few entries of the list\n",
        "print(mean_attritions[0:5])"
      ],
      "metadata": {
        "colab": {
          "base_uri": "https://localhost:8080/"
        },
        "id": "lpS4gBunLREl",
        "outputId": "270f1a06-8422-436b-ecc8-1a5e53ac232e"
      },
      "execution_count": null,
      "outputs": [
        {
          "output_type": "stream",
          "name": "stdout",
          "text": [
            "[0.2, 0.13333333333333333, 0.2, 0.15, 0.2]\n"
          ]
        }
      ]
    },
    {
      "cell_type": "code",
      "source": [
        "# Create an empty list\n",
        "mean_attritions = []\n",
        "# Loop 500 times to create 500 sample means\n",
        "for i in range(500):\n",
        "\tmean_attritions.append(\n",
        "    \tattrition_pop.sample(n=60)['Attrition'].mean()\n",
        "\t)\n",
        "\n",
        "# Create a histogram of the 500 sample means\n",
        "plt.hist(mean_attritions,bins=16)\n",
        "plt.show()"
      ],
      "metadata": {
        "colab": {
          "base_uri": "https://localhost:8080/",
          "height": 430
        },
        "id": "-KZE6RfpLlcF",
        "outputId": "494922d7-0fe5-458d-e726-cb809aa7428f"
      },
      "execution_count": null,
      "outputs": [
        {
          "output_type": "display_data",
          "data": {
            "text/plain": [
              "<Figure size 640x480 with 1 Axes>"
            ],
            "image/png": "[encoded data removed]"
          },
          "metadata": {}
        }
      ]
    },
    {
      "cell_type": "markdown",
      "source": [
        "the sample statistic many times with different samples, you can quantify the amount of variation in those statistics."
      ],
      "metadata": {
        "id": "r-VB_NffL6ex"
      }
    },
    {
      "cell_type": "code",
      "source": [
        "import numpy as np"
      ],
      "metadata": {
        "id": "saK8Mg9uQjJi"
      },
      "execution_count": null,
      "outputs": []
    },
    {
      "cell_type": "code",
      "source": [
        "# Sample one to eight, five times, with replacement\n",
        "five_rolls = np.random.choice(list(range(1,9)),size=5, replace=True)\n",
        "\n",
        "# Print the mean of five_rolls\n",
        "print(five_rolls.mean())"
      ],
      "metadata": {
        "colab": {
          "base_uri": "https://localhost:8080/"
        },
        "id": "aUA6ZEpaLrBa",
        "outputId": "827201e9-b743-4cfa-e908-b36718ccdb61"
      },
      "execution_count": null,
      "outputs": [
        {
          "output_type": "stream",
          "name": "stdout",
          "text": [
            "2.2\n"
          ]
        }
      ]
    },
    {
      "cell_type": "code",
      "source": [
        "# Replicate the sampling code 1000 times\n",
        "sample_means_1000 = []\n",
        "for i in range(1000):\n",
        "    sample_means_1000.append(\n",
        "  \t\tnp.random.choice(list(range(1, 9)), size=5, replace=True).mean()\n",
        "    )\n",
        "\n",
        "# Print the first 10 entries of the result\n",
        "print(sample_means_1000[0:10])"
      ],
      "metadata": {
        "colab": {
          "base_uri": "https://localhost:8080/"
        },
        "id": "bWN_tLiCRfyv",
        "outputId": "bd808256-e000-447b-d5af-d8fb0683bc07"
      },
      "execution_count": null,
      "outputs": [
        {
          "output_type": "stream",
          "name": "stdout",
          "text": [
            "[5.6, 4.4, 3.0, 5.2, 4.0, 4.4, 6.2, 4.8, 6.6, 4.2]\n"
          ]
        }
      ]
    },
    {
      "cell_type": "code",
      "source": [
        "# Replicate the sampling code 1000 times\n",
        "sample_means_1000 = []\n",
        "for i in range(1000):\n",
        "    sample_means_1000.append(\n",
        "  \t\tnp.random.choice(list(range(1, 9)), size=5, replace=True).mean()\n",
        "    )\n",
        "\n",
        "# Draw a histogram of sample_means_1000 with 20 bins\n",
        "plt.hist(sample_means_1000,bins=20)\n",
        "plt.show()"
      ],
      "metadata": {
        "colab": {
          "base_uri": "https://localhost:8080/",
          "height": 430
        },
        "id": "BGtYq7zVR6KO",
        "outputId": "6fd3a73f-d321-4174-8267-e72d3d2cf640"
      },
      "execution_count": null,
      "outputs": [
        {
          "output_type": "display_data",
          "data": {
            "text/plain": [
              "<Figure size 640x480 with 1 Axes>"
            ],
            "image/png": "[encoded data removed]"
          },
          "metadata": {}
        }
      ]
    },
    {
      "cell_type": "markdown",
      "source": [
        "Once your dataset gets sufficiently big, exact sampling distributions cannot be calculated, so an approximate sampling distribution must be used"
      ],
      "metadata": {
        "id": "4-lR3UcuSCyC"
      }
    }
  ]
}