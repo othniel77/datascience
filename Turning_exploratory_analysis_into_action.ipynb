{
  "nbformat": 4,
  "nbformat_minor": 0,
  "metadata": {
    "colab": {
      "provenance": [],
      "authorship_tag": "ABX9TyNBryuJL46eB12kffN0gGE9",
      "include_colab_link": true
    },
    "kernelspec": {
      "name": "python3",
      "display_name": "Python 3"
    },
    "language_info": {
      "name": "python"
    }
  },
  "cells": [
    {
      "cell_type": "markdown",
      "metadata": {
        "id": "view-in-github",
        "colab_type": "text"
      },
      "source": [
        "<a href=\"https://colab.research.google.com/github/othniel77/datascience/blob/main/Turning_exploratory_analysis_into_action.ipynb\" target=\"_parent\"><img src=\"https://colab.research.google.com/assets/colab-badge.svg\" alt=\"Open In Colab\"/></a>"
      ]
    },
    {
      "cell_type": "code",
      "execution_count": null,
      "metadata": {
        "id": "mEdtYQO7ByLD"
      },
      "outputs": [],
      "source": [
        "import pandas as pd"
      ]
    },
    {
      "cell_type": "code",
      "source": [
        "from google.colab import files\n",
        "data_to_load = files.upload()"
      ],
      "metadata": {
        "colab": {
          "base_uri": "https://localhost:8080/",
          "height": 73
        },
        "id": "ETxoq1tYB4SO",
        "outputId": "22fe5517-6cde-4591-89e7-10ef30d59cf1"
      },
      "execution_count": null,
      "outputs": [
        {
          "output_type": "display_data",
          "data": {
            "text/plain": [
              "<IPython.core.display.HTML object>"
            ],
            "text/html": [
              "\n",
              "     <input type=\"file\" id=\"files-4de4dc9f-ba95-4922-b38e-cf99f4d0c237\" name=\"files[]\" multiple disabled\n",
              "        style=\"border:none\" />\n",
              "     <output id=\"result-4de4dc9f-ba95-4922-b38e-cf99f4d0c237\">\n",
              "      Upload widget is only available when the cell has been executed in the\n",
              "      current browser session. Please rerun this cell to enable.\n",
              "      </output>\n",
              "      <script>// Copyright 2017 Google LLC\n",
              "//\n",
              "// Licensed under the Apache License, Version 2.0 (the \"License\");\n",
              "// you may not use this file except in compliance with the License.\n",
              "// You may obtain a copy of the License at\n",
              "//\n",
              "//      http://www.apache.org/licenses/LICENSE-2.0\n",
              "//\n",
              "// Unless required by applicable law or agreed to in writing, software\n",
              "// distributed under the License is distributed on an \"AS IS\" BASIS,\n",
              "// WITHOUT WARRANTIES OR CONDITIONS OF ANY KIND, either express or implied.\n",
              "// See the License for the specific language governing permissions and\n",
              "// limitations under the License.\n",
              "\n",
              "/**\n",
              " * @fileoverview Helpers for google.colab Python module.\n",
              " */\n",
              "(function(scope) {\n",
              "function span(text, styleAttributes = {}) {\n",
              "  const element = document.createElement('span');\n",
              "  element.textContent = text;\n",
              "  for (const key of Object.keys(styleAttributes)) {\n",
              "    element.style[key] = styleAttributes[key];\n",
              "  }\n",
              "  return element;\n",
              "}\n",
              "\n",
              "// Max number of bytes which will be uploaded at a time.\n",
              "const MAX_PAYLOAD_SIZE = 100 * 1024;\n",
              "\n",
              "function _uploadFiles(inputId, outputId) {\n",
              "  const steps = uploadFilesStep(inputId, outputId);\n",
              "  const outputElement = document.getElementById(outputId);\n",
              "  // Cache steps on the outputElement to make it available for the next call\n",
              "  // to uploadFilesContinue from Python.\n",
              "  outputElement.steps = steps;\n",
              "\n",
              "  return _uploadFilesContinue(outputId);\n",
              "}\n",
              "\n",
              "// This is roughly an async generator (not supported in the browser yet),\n",
              "// where there are multiple asynchronous steps and the Python side is going\n",
              "// to poll for completion of each step.\n",
              "// This uses a Promise to block the python side on completion of each step,\n",
              "// then passes the result of the previous step as the input to the next step.\n",
              "function _uploadFilesContinue(outputId) {\n",
              "  const outputElement = document.getElementById(outputId);\n",
              "  const steps = outputElement.steps;\n",
              "\n",
              "  const next = steps.next(outputElement.lastPromiseValue);\n",
              "  return Promise.resolve(next.value.promise).then((value) => {\n",
              "    // Cache the last promise value to make it available to the next\n",
              "    // step of the generator.\n",
              "    outputElement.lastPromiseValue = value;\n",
              "    return next.value.response;\n",
              "  });\n",
              "}\n",
              "\n",
              "/**\n",
              " * Generator function which is called between each async step of the upload\n",
              " * process.\n",
              " * @param {string} inputId Element ID of the input file picker element.\n",
              " * @param {string} outputId Element ID of the output display.\n",
              " * @return {!Iterable<!Object>} Iterable of next steps.\n",
              " */\n",
              "function* uploadFilesStep(inputId, outputId) {\n",
              "  const inputElement = document.getElementById(inputId);\n",
              "  inputElement.disabled = false;\n",
              "\n",
              "  const outputElement = document.getElementById(outputId);\n",
              "  outputElement.innerHTML = '';\n",
              "\n",
              "  const pickedPromise = new Promise((resolve) => {\n",
              "    inputElement.addEventListener('change', (e) => {\n",
              "      resolve(e.target.files);\n",
              "    });\n",
              "  });\n",
              "\n",
              "  const cancel = document.createElement('button');\n",
              "  inputElement.parentElement.appendChild(cancel);\n",
              "  cancel.textContent = 'Cancel upload';\n",
              "  const cancelPromise = new Promise((resolve) => {\n",
              "    cancel.onclick = () => {\n",
              "      resolve(null);\n",
              "    };\n",
              "  });\n",
              "\n",
              "  // Wait for the user to pick the files.\n",
              "  const files = yield {\n",
              "    promise: Promise.race([pickedPromise, cancelPromise]),\n",
              "    response: {\n",
              "      action: 'starting',\n",
              "    }\n",
              "  };\n",
              "\n",
              "  cancel.remove();\n",
              "\n",
              "  // Disable the input element since further picks are not allowed.\n",
              "  inputElement.disabled = true;\n",
              "\n",
              "  if (!files) {\n",
              "    return {\n",
              "      response: {\n",
              "        action: 'complete',\n",
              "      }\n",
              "    };\n",
              "  }\n",
              "\n",
              "  for (const file of files) {\n",
              "    const li = document.createElement('li');\n",
              "    li.append(span(file.name, {fontWeight: 'bold'}));\n",
              "    li.append(span(\n",
              "        `(${file.type || 'n/a'}) - ${file.size} bytes, ` +\n",
              "        `last modified: ${\n",
              "            file.lastModifiedDate ? file.lastModifiedDate.toLocaleDateString() :\n",
              "                                    'n/a'} - `));\n",
              "    const percent = span('0% done');\n",
              "    li.appendChild(percent);\n",
              "\n",
              "    outputElement.appendChild(li);\n",
              "\n",
              "    const fileDataPromise = new Promise((resolve) => {\n",
              "      const reader = new FileReader();\n",
              "      reader.onload = (e) => {\n",
              "        resolve(e.target.result);\n",
              "      };\n",
              "      reader.readAsArrayBuffer(file);\n",
              "    });\n",
              "    // Wait for the data to be ready.\n",
              "    let fileData = yield {\n",
              "      promise: fileDataPromise,\n",
              "      response: {\n",
              "        action: 'continue',\n",
              "      }\n",
              "    };\n",
              "\n",
              "    // Use a chunked sending to avoid message size limits. See b/62115660.\n",
              "    let position = 0;\n",
              "    do {\n",
              "      const length = Math.min(fileData.byteLength - position, MAX_PAYLOAD_SIZE);\n",
              "      const chunk = new Uint8Array(fileData, position, length);\n",
              "      position += length;\n",
              "\n",
              "      const base64 = btoa(String.fromCharCode.apply(null, chunk));\n",
              "      yield {\n",
              "        response: {\n",
              "          action: 'append',\n",
              "          file: file.name,\n",
              "          data: base64,\n",
              "        },\n",
              "      };\n",
              "\n",
              "      let percentDone = fileData.byteLength === 0 ?\n",
              "          100 :\n",
              "          Math.round((position / fileData.byteLength) * 100);\n",
              "      percent.textContent = `${percentDone}% done`;\n",
              "\n",
              "    } while (position < fileData.byteLength);\n",
              "  }\n",
              "\n",
              "  // All done.\n",
              "  yield {\n",
              "    response: {\n",
              "      action: 'complete',\n",
              "    }\n",
              "  };\n",
              "}\n",
              "\n",
              "scope.google = scope.google || {};\n",
              "scope.google.colab = scope.google.colab || {};\n",
              "scope.google.colab._files = {\n",
              "  _uploadFiles,\n",
              "  _uploadFilesContinue,\n",
              "};\n",
              "})(self);\n",
              "</script> "
            ]
          },
          "metadata": {}
        },
        {
          "output_type": "stream",
          "name": "stdout",
          "text": [
            "Saving ds_salaries_clean.csv to ds_salaries_clean.csv\n"
          ]
        }
      ]
    },
    {
      "cell_type": "code",
      "source": [
        "salaries = pd.read_csv('/content/ds_salaries_clean.csv')\n",
        "print(salaries.head())"
      ],
      "metadata": {
        "colab": {
          "base_uri": "https://localhost:8080/"
        },
        "id": "vYnWTqVODile",
        "outputId": "01f20b71-ae3c-4aa5-e0db-f34ccb98961f"
      },
      "execution_count": null,
      "outputs": [
        {
          "output_type": "stream",
          "name": "stdout",
          "text": [
            "   Working_Year                 Designation Experience Employment_Status  \\\n",
            "0          2020              Data Scientist        Mid                FT   \n",
            "1          2020  Machine Learning Scientist     Senior                FT   \n",
            "2          2020           Big Data Engineer     Senior                FT   \n",
            "3          2020        Product Data Analyst        Mid                FT   \n",
            "4          2020   Machine Learning Engineer     Senior                FT   \n",
            "\n",
            "  Employee_Location Company_Size  Remote_Working_Ratio  Salary_USD  \n",
            "0                DE            L                     0     76227.0  \n",
            "1                JP            S                     0    248257.0  \n",
            "2                GB            M                    50    104100.0  \n",
            "3                HN            S                     0     19097.0  \n",
            "4                US            L                    50    143225.0  \n"
          ]
        }
      ]
    },
    {
      "cell_type": "code",
      "source": [
        "salaries.info()"
      ],
      "metadata": {
        "colab": {
          "base_uri": "https://localhost:8080/"
        },
        "id": "Vag5L75KDiYh",
        "outputId": "8a70eef5-b2f4-4126-cb7a-b2405060b9fd"
      },
      "execution_count": null,
      "outputs": [
        {
          "output_type": "stream",
          "name": "stdout",
          "text": [
            "<class 'pandas.core.frame.DataFrame'>\n",
            "RangeIndex: 607 entries, 0 to 606\n",
            "Data columns (total 8 columns):\n",
            " #   Column                Non-Null Count  Dtype  \n",
            "---  ------                --------------  -----  \n",
            " 0   Working_Year          607 non-null    int64  \n",
            " 1   Designation           607 non-null    object \n",
            " 2   Experience            607 non-null    object \n",
            " 3   Employment_Status     607 non-null    object \n",
            " 4   Employee_Location     607 non-null    object \n",
            " 5   Company_Size          607 non-null    object \n",
            " 6   Remote_Working_Ratio  607 non-null    int64  \n",
            " 7   Salary_USD            607 non-null    float64\n",
            "dtypes: float64(1), int64(2), object(5)\n",
            "memory usage: 38.1+ KB\n"
          ]
        }
      ]
    },
    {
      "cell_type": "code",
      "source": [
        "# Afficher la fréquence relative de la designation ou catégorie de l'emploi\n",
        "print(salaries[\"Designation\"].value_counts(normalize=True))\n"
      ],
      "metadata": {
        "colab": {
          "base_uri": "https://localhost:8080/"
        },
        "id": "WQvnVgSRDiGu",
        "outputId": "ad044a61-49c1-479b-d033-7ed244b9d76d"
      },
      "execution_count": null,
      "outputs": [
        {
          "output_type": "stream",
          "name": "stdout",
          "text": [
            "Data Scientist                              0.235585\n",
            "Data Engineer                               0.217463\n",
            "Data Analyst                                0.159802\n",
            "Machine Learning Engineer                   0.067545\n",
            "Research Scientist                          0.026359\n",
            "Data Science Manager                        0.019769\n",
            "Data Architect                              0.018122\n",
            "Big Data Engineer                           0.013180\n",
            "Machine Learning Scientist                  0.013180\n",
            "Principal Data Scientist                    0.011532\n",
            "AI Scientist                                0.011532\n",
            "Data Science Consultant                     0.011532\n",
            "Director of Data Science                    0.011532\n",
            "Data Analytics Manager                      0.011532\n",
            "ML Engineer                                 0.009885\n",
            "Computer Vision Engineer                    0.009885\n",
            "BI Data Analyst                             0.009885\n",
            "Lead Data Engineer                          0.009885\n",
            "Data Engineering Manager                    0.008237\n",
            "Business Data Analyst                       0.008237\n",
            "Head of Data                                0.008237\n",
            "Applied Data Scientist                      0.008237\n",
            "Applied Machine Learning Scientist          0.006590\n",
            "Head of Data Science                        0.006590\n",
            "Analytics Engineer                          0.006590\n",
            "Data Analytics Engineer                     0.006590\n",
            "Machine Learning Developer                  0.004942\n",
            "Machine Learning Infrastructure Engineer    0.004942\n",
            "Lead Data Scientist                         0.004942\n",
            "Computer Vision Software Engineer           0.004942\n",
            "Lead Data Analyst                           0.004942\n",
            "Data Science Engineer                       0.004942\n",
            "Principal Data Engineer                     0.004942\n",
            "Principal Data Analyst                      0.003295\n",
            "ETL Developer                               0.003295\n",
            "Product Data Analyst                        0.003295\n",
            "Director of Data Engineering                0.003295\n",
            "Financial Data Analyst                      0.003295\n",
            "Cloud Data Engineer                         0.003295\n",
            "Lead Machine Learning Engineer              0.001647\n",
            "NLP Engineer                                0.001647\n",
            "Head of Machine Learning                    0.001647\n",
            "3D Computer Vision Researcher               0.001647\n",
            "Data Specialist                             0.001647\n",
            "Staff Data Scientist                        0.001647\n",
            "Big Data Architect                          0.001647\n",
            "Finance Data Analyst                        0.001647\n",
            "Marketing Data Analyst                      0.001647\n",
            "Machine Learning Manager                    0.001647\n",
            "Data Analytics Lead                         0.001647\n",
            "Name: Designation, dtype: float64\n"
          ]
        }
      ]
    },
    {
      "cell_type": "markdown",
      "source": [
        "Il semble que la science des données soit la classe la plus populaire et ait une représentation similaire. Néanmoins, les autres catégories ont des fréquences relatives assez différentes, ce qui n’est peut-être pas surprenant étant donné que le public cible est constitué de data scientists ! Compte tenu de la différence de fréquences relatives, pouvez-vous faire confiance au DataFrame des salaires pour représenter avec précision les rôles de direction ?"
      ],
      "metadata": {
        "id": "uUKZ4hFfhEQ6"
      }
    },
    {
      "cell_type": "markdown",
      "source": [
        "### 4.1.2. **Tableau croisé**"
      ],
      "metadata": {
        "id": "UVTQ6-eCI3wP"
      }
    },
    {
      "cell_type": "code",
      "source": [
        "# Tableau croisé\texpérience et taille de l'entreprise\n",
        "print(pd.crosstab(salaries[\"Company_Size\"], salaries[\"Experience\"]))\n"
      ],
      "metadata": {
        "colab": {
          "base_uri": "https://localhost:8080/"
        },
        "id": "m9bjLXtSJD2S",
        "outputId": "4087adb6-4fa9-44dc-97af-4d1fd892e3c3"
      },
      "execution_count": null,
      "outputs": [
        {
          "output_type": "stream",
          "name": "stdout",
          "text": [
            "Experience    Entry  Executive  Mid  Senior\n",
            "Company_Size                               \n",
            "L                29         11   86      72\n",
            "M                30         12   98     186\n",
            "S                29          3   29      22\n"
          ]
        }
      ]
    },
    {
      "cell_type": "code",
      "source": [
        "#  Tableau croisé\tla catégorie de l'emploi et taille de l'entreprise\n",
        "print(pd.crosstab(salaries[\"Designation\"], salaries[\"Company_Size\"]))"
      ],
      "metadata": {
        "colab": {
          "base_uri": "https://localhost:8080/"
        },
        "id": "5CV5BR1GJhb4",
        "outputId": "0035726d-0565-4cf3-a492-560f107c88ce"
      },
      "execution_count": null,
      "outputs": [
        {
          "output_type": "stream",
          "name": "stdout",
          "text": [
            "Company_Size                               L   M   S\n",
            "Designation                                         \n",
            "3D Computer Vision Researcher              0   1   0\n",
            "AI Scientist                               2   2   3\n",
            "Analytics Engineer                         0   4   0\n",
            "Applied Data Scientist                     5   0   0\n",
            "Applied Machine Learning Scientist         2   2   0\n",
            "BI Data Analyst                            2   2   2\n",
            "Big Data Architect                         0   1   0\n",
            "Big Data Engineer                          4   2   2\n",
            "Business Data Analyst                      4   1   0\n",
            "Cloud Data Engineer                        1   0   1\n",
            "Computer Vision Engineer                   0   4   2\n",
            "Computer Vision Software Engineer          0   1   2\n",
            "Data Analyst                              13  76   8\n",
            "Data Analytics Engineer                    2   2   0\n",
            "Data Analytics Lead                        1   0   0\n",
            "Data Analytics Manager                     2   5   0\n",
            "Data Architect                             3   8   0\n",
            "Data Engineer                             37  89   6\n",
            "Data Engineering Manager                   4   0   1\n",
            "Data Science Consultant                    3   1   3\n",
            "Data Science Engineer                      2   1   0\n",
            "Data Science Manager                       6   6   0\n",
            "Data Scientist                            45  77  21\n",
            "Data Specialist                            1   0   0\n",
            "Director of Data Engineering               1   1   0\n",
            "Director of Data Science                   5   1   1\n",
            "ETL Developer                              0   2   0\n",
            "Finance Data Analyst                       1   0   0\n",
            "Financial Data Analyst                     2   0   0\n",
            "Head of Data                               3   1   1\n",
            "Head of Data Science                       0   3   1\n",
            "Head of Machine Learning                   1   0   0\n",
            "Lead Data Analyst                          3   0   0\n",
            "Lead Data Engineer                         1   1   4\n",
            "Lead Data Scientist                        2   0   1\n",
            "Lead Machine Learning Engineer             0   1   0\n",
            "ML Engineer                                2   0   4\n",
            "Machine Learning Developer                 0   2   1\n",
            "Machine Learning Engineer                 13  16  12\n",
            "Machine Learning Infrastructure Engineer   1   2   0\n",
            "Machine Learning Manager                   1   0   0\n",
            "Machine Learning Scientist                 4   2   2\n",
            "Marketing Data Analyst                     1   0   0\n",
            "NLP Engineer                               1   0   0\n",
            "Principal Data Analyst                     0   1   1\n",
            "Principal Data Engineer                    2   1   0\n",
            "Principal Data Scientist                   3   3   1\n",
            "Product Data Analyst                       1   0   1\n",
            "Research Scientist                        11   3   2\n",
            "Staff Data Scientist                       0   1   0\n"
          ]
        }
      ]
    },
    {
      "cell_type": "code",
      "source": [
        "# #\tCroisez la catégorie d'emploi et la taille de l'entreprise\n",
        "print(pd.crosstab(salaries[\"Designation\"], salaries[\"Company_Size\"],\n",
        "            values=salaries[\"Salary_USD\"], aggfunc=\"mean\"))"
      ],
      "metadata": {
        "colab": {
          "base_uri": "https://localhost:8080/"
        },
        "id": "mUPmAnkkiRyu",
        "outputId": "6aa6d64f-9d0c-4e91-991b-f08287e934f8"
      },
      "execution_count": null,
      "outputs": [
        {
          "output_type": "stream",
          "name": "stdout",
          "text": [
            "Company_Size                                          L              M  \\\n",
            "Designation                                                              \n",
            "3D Computer Vision Researcher                       NaN    5165.000000   \n",
            "AI Scientist                              121741.500000   63019.000000   \n",
            "Analytics Engineer                                  NaN  167096.000000   \n",
            "Applied Data Scientist                    167721.400000            NaN   \n",
            "Applied Machine Learning Scientist        237754.000000   33550.500000   \n",
            "BI Data Analyst                            88923.000000   94528.500000   \n",
            "Big Data Architect                                  NaN   95200.000000   \n",
            "Big Data Engineer                          27384.750000   80695.000000   \n",
            "Business Data Analyst                      87132.000000   17609.000000   \n",
            "Cloud Data Engineer                        85261.000000            NaN   \n",
            "Computer Vision Engineer                            NaN   42467.750000   \n",
            "Computer Vision Software Engineer                   NaN   66838.000000   \n",
            "Data Analyst                               78084.230769   95049.368421   \n",
            "Data Analytics Engineer                    90326.000000   33419.500000   \n",
            "Data Analytics Lead                       386708.000000            NaN   \n",
            "Data Analytics Manager                    124128.500000  120297.600000   \n",
            "Data Architect                            159139.000000  173852.875000   \n",
            "Data Engineer                              99547.162162  113981.134831   \n",
            "Data Engineering Manager                  132920.750000            NaN   \n",
            "Data Science Consultant                    77553.000000    5449.000000   \n",
            "Data Science Engineer                      89382.500000   38374.000000   \n",
            "Data Science Manager                      136662.000000  165692.833333   \n",
            "Data Scientist                             98647.177778  120672.623377   \n",
            "Data Specialist                           157548.000000            NaN   \n",
            "Director of Data Engineering              190967.000000  108351.000000   \n",
            "Director of Data Science                  203855.200000  124153.000000   \n",
            "ETL Developer                                       NaN   52475.000000   \n",
            "Finance Data Analyst                       59100.000000            NaN   \n",
            "Financial Data Analyst                    262579.000000            NaN   \n",
            "Head of Data                              180730.666667  190967.000000   \n",
            "Head of Data Science                                NaN  151779.000000   \n",
            "Head of Machine Learning                   75469.000000            NaN   \n",
            "Lead Data Analyst                          88038.666667            NaN   \n",
            "Lead Data Engineer                        263534.000000   53471.000000   \n",
            "Lead Data Scientist                        74272.000000            NaN   \n",
            "Lead Machine Learning Engineer                      NaN   83960.000000   \n",
            "ML Engineer                               139397.500000            NaN   \n",
            "Machine Learning Developer                          NaN   75232.000000   \n",
            "Machine Learning Engineer                  94016.615385  121007.875000   \n",
            "Machine Learning Infrastructure Engineer   55624.000000  117053.500000   \n",
            "Machine Learning Manager                  111815.000000            NaN   \n",
            "Machine Learning Scientist                172419.250000   78774.000000   \n",
            "Marketing Data Analyst                     84650.000000            NaN   \n",
            "NLP Engineer                               35554.000000            NaN   \n",
            "Principal Data Analyst                              NaN  162322.000000   \n",
            "Principal Data Engineer                   374772.000000  190967.000000   \n",
            "Principal Data Scientist                  192876.333333  154268.666667   \n",
            "Product Data Analyst                        5798.000000            NaN   \n",
            "Research Scientist                         92108.000000  183474.000000   \n",
            "Staff Data Scientist                                NaN  100258.000000   \n",
            "\n",
            "Company_Size                                          S  \n",
            "Designation                                              \n",
            "3D Computer Vision Researcher                       NaN  \n",
            "AI Scientist                               24173.000000  \n",
            "Analytics Engineer                                  NaN  \n",
            "Applied Data Scientist                              NaN  \n",
            "Applied Machine Learning Scientist                  NaN  \n",
            "BI Data Analyst                            30684.500000  \n",
            "Big Data Architect                                  NaN  \n",
            "Big Data Engineer                          63041.500000  \n",
            "Business Data Analyst                               NaN  \n",
            "Cloud Data Engineer                       152773.000000  \n",
            "Computer Vision Engineer                   42303.500000  \n",
            "Computer Vision Software Engineer         117323.500000  \n",
            "Data Analyst                               45601.875000  \n",
            "Data Analytics Engineer                             NaN  \n",
            "Data Analytics Lead                                 NaN  \n",
            "Data Analytics Manager                              NaN  \n",
            "Data Architect                                      NaN  \n",
            "Data Engineer                              63346.000000  \n",
            "Data Engineering Manager                   56625.000000  \n",
            "Data Science Consultant                    75296.333333  \n",
            "Data Science Engineer                               NaN  \n",
            "Data Science Manager                                NaN  \n",
            "Data Scientist                             49580.428571  \n",
            "Data Specialist                                     NaN  \n",
            "Director of Data Engineering                        NaN  \n",
            "Director of Data Science                  160412.000000  \n",
            "ETL Developer                                       NaN  \n",
            "Finance Data Analyst                                NaN  \n",
            "Financial Data Analyst                              NaN  \n",
            "Head of Data                               31485.000000  \n",
            "Head of Data Science                      105032.000000  \n",
            "Head of Machine Learning                            NaN  \n",
            "Lead Data Analyst                                   NaN  \n",
            "Lead Data Engineer                        120869.250000  \n",
            "Lead Data Scientist                       181418.000000  \n",
            "Lead Machine Learning Engineer                      NaN  \n",
            "ML Engineer                                98596.500000  \n",
            "Machine Learning Developer                 95483.000000  \n",
            "Machine Learning Engineer                  78960.333333  \n",
            "Machine Learning Infrastructure Engineer            NaN  \n",
            "Machine Learning Manager                            NaN  \n",
            "Machine Learning Scientist                181418.500000  \n",
            "Marketing Data Analyst                              NaN  \n",
            "NLP Engineer                                        NaN  \n",
            "Principal Data Analyst                     71613.000000  \n",
            "Principal Data Engineer                             NaN  \n",
            "Principal Data Scientist                  397211.000000  \n",
            "Product Data Analyst                       19097.000000  \n",
            "Research Scientist                         50958.500000  \n",
            "Staff Data Scientist                                NaN  \n"
          ]
        }
      ]
    },
    {
      "cell_type": "markdown",
      "source": [
        "il s'agit d'une fonction pratique pour examiner la combinaison de fréquences et trouver des statistiques agrégées. Il semble que le salaire moyen le plus élevé concerne les postes de gestion des données dans les grandes entreprises !"
      ],
      "metadata": {
        "id": "lPt9D9OzLKkK"
      }
    },
    {
      "cell_type": "markdown",
      "source": [
        ":# 4.2. **Extraction de fonctionnalités pour la corrélation**"
      ],
      "metadata": {
        "id": "f-4lxKOMMFoH"
      }
    },
    {
      "cell_type": "code",
      "source": [
        "import matplotlib.pyplot as plt\n",
        "import seaborn as sns"
      ],
      "metadata": {
        "id": "5x84SIDqi6Ig"
      },
      "execution_count": null,
      "outputs": []
    },
    {
      "cell_type": "code",
      "source": [
        "# Obtenez le mois\n",
        "#salaries[\"month\"] = salaries[\"date_of_response\"].dt.month\n",
        "\n",
        "# Extraire le jour de la semaine\n",
        "#salaries[\"weekday\"] = salaries[\"date_of_response\"].dt.weekday\n",
        "\n",
        "# #\tCréez une carte thermique ou heatmap\n",
        "sns.heatmap(salaries.corr(), annot=True)\n",
        "plt.show()"
      ],
      "metadata": {
        "colab": {
          "base_uri": "https://localhost:8080/",
          "height": 490
        },
        "id": "vYKDKZ9ji279",
        "outputId": "0e8e985a-0b46-44c8-9d83-b3223a3f5d37"
      },
      "execution_count": null,
      "outputs": [
        {
          "output_type": "stream",
          "name": "stderr",
          "text": [
            "<ipython-input-11-e6336b57591e>:8: FutureWarning: The default value of numeric_only in DataFrame.corr is deprecated. In a future version, it will default to False. Select only valid columns or specify the value of numeric_only to silence this warning.\n",
            "  sns.heatmap(salaries.corr(), annot=True)\n"
          ]
        },
        {
          "output_type": "display_data",
          "data": {
            "text/plain": [
              "<Figure size 640x480 with 2 Axes>"
            ],
            "image/png": "[encoded data removed]"
          },
          "metadata": {}
        }
      ]
    },
    {
      "cell_type": "markdown",
      "source": [
        "On dirait qu'il n'y a pas de relations significatives\tentre nos variables numériques, voyons donc si la conversion de données numériques en classes offre\n",
        "des informations supplémentaires.\n"
      ],
      "metadata": {
        "id": "3geQvDyXjUrl"
      }
    },
    {
      "cell_type": "code",
      "source": [
        "# Trouver le 25ème percentile\n",
        "twenty_fifth = salaries[\"Salary_USD\"].quantile(0.25)\n",
        "\n",
        "# enregistrer la mediane\n",
        "salaries_median = salaries[\"Salary_USD\"].median()\n",
        "\n",
        "# Rassemblez le 75e centile\n",
        "seventy_fifth = salaries[\"Salary_USD\"].quantile(0.75)\n",
        "print(twenty_fifth, salaries_median, seventy_fifth)"
      ],
      "metadata": {
        "colab": {
          "base_uri": "https://localhost:8080/"
        },
        "id": "x0s49heGjZJ6",
        "outputId": "1a2b754c-6446-4fe5-ef4f-e6e8ce805348"
      },
      "execution_count": null,
      "outputs": [
        {
          "output_type": "stream",
          "name": "stdout",
          "text": [
            "59893.0 96982.0 143225.0\n"
          ]
        }
      ]
    },
    {
      "cell_type": "markdown",
      "source": [
        "On dirait que l’écart interquartile se situe entre 59 893 et 143 225 dollars !"
      ],
      "metadata": {
        "id": "9FxLojZEjmfy"
      }
    },
    {
      "cell_type": "code",
      "source": [
        "# Créer des étiquettes de salaire\n",
        "salary_labels = [\"entry\", \"mid\", \"senior\",\"exec\"]\n",
        "# Créer la liste des échelles salariales\n",
        "salary_ranges = [0, twenty_fifth, salaries_median, seventy_fifth, salaries[\"Salary_USD\"].max()]\n",
        "\n",
        "# # Créer un niveau de salaire\n",
        "salaries[\"salary_level\"] = pd.cut(salaries[\"Salary_USD\"],\n",
        "                                  bins=salary_ranges,\n",
        "                                  labels=salary_labels)\n",
        "\n",
        "# Tracez le décompte des niveaux de salaire dans des entreprises de différentes tailles\n",
        "sns.countplot(data=salaries, x=\"Company_Size\", hue=\"salary_level\")\n",
        "plt.show()"
      ],
      "metadata": {
        "colab": {
          "base_uri": "https://localhost:8080/",
          "height": 450
        },
        "id": "jD80Rbi0j2YB",
        "outputId": "dff48383-06ac-4c66-c48d-395db915803c"
      },
      "execution_count": null,
      "outputs": [
        {
          "output_type": "display_data",
          "data": {
            "text/plain": [
              "<Figure size 640x480 with 1 Axes>"
            ],
            "image/png": "[encoded data removed]"
          },
          "metadata": {}
        }
      ]
    },
    {
      "cell_type": "markdown",
      "source": [
        "En utilisant pd.cut() pour diviser les données numériques en catégories, vous pouvez voir qu'une grande proportion de travailleurs dans les petites entreprises reçoivent des salaires de niveau « d'entrée », tandis qu'un plus grand nombre de membres du personnel des entreprises de taille moyenne sont récompensés par un niveau « senior » de salaire."
      ],
      "metadata": {
        "id": "4K9Pyu-KkxqQ"
      }
    },
    {
      "cell_type": "markdown",
      "source": [
        "## **Comparing salaries (Comparer les salaires)**"
      ],
      "metadata": {
        "id": "k0yGp4e7lYVt"
      }
    },
    {
      "cell_type": "code",
      "source": [
        "# Filtrer pour les employés aux États-Unis ou en Grande-Bretagne\n",
        "usa_and_gb = salaries[salaries[\"Employee_Location\"].isin([\"US\", \"GB\"])]\n",
        "\n",
        "# #\tCréez un barplot des salaires par emplacement\n",
        "sns.barplot(data=usa_and_gb, x=\"Employee_Location\", y=\"Salary_USD\")\n",
        "plt.show()"
      ],
      "metadata": {
        "colab": {
          "base_uri": "https://localhost:8080/",
          "height": 450
        },
        "id": "JV_3xybBlJf4",
        "outputId": "4c86b546-f1dc-4dce-e1de-bc91c789a7e6"
      },
      "execution_count": null,
      "outputs": [
        {
          "output_type": "display_data",
          "data": {
            "text/plain": [
              "<Figure size 640x480 with 1 Axes>"
            ],
            "image/png": "[encoded data removed]"
          },
          "metadata": {}
        }
      ]
    },
    {
      "cell_type": "markdown",
      "source": [
        "En sous-regroupant les données, vous avez pu comparer directement les salaires entre les États-Unis et la Grande-Bretagne. La visualisation suggère que vous avez généré une hypothèse qui mérite d'être étudiée formellement pour déterminer s'il existe une réelle différence ou non."
      ],
      "metadata": {
        "id": "zpdiU31wlrRL"
      }
    },
    {
      "cell_type": "markdown",
      "source": [
        "# **Choosing a hypothesis (Choisir une hypothèse)**"
      ],
      "metadata": {
        "id": "MWnAcBQpl5zk"
      }
    },
    {
      "cell_type": "code",
      "source": [
        "# Créez un graphique à barres du salaire en fonction de la taille de l'entreprise, en tenant compte du statut d'emploi\n",
        "sns.barplot(data=salaries, x=\"Company_Size\", y=\"Salary_USD\", hue=\"Employment_Status\")\n",
        "plt.show()"
      ],
      "metadata": {
        "colab": {
          "base_uri": "https://localhost:8080/",
          "height": 450
        },
        "id": "DN5zFf4hl1cf",
        "outputId": "2b5e6a3b-da1c-4b21-c6f0-cf0af4003db5"
      },
      "execution_count": null,
      "outputs": [
        {
          "output_type": "display_data",
          "data": {
            "text/plain": [
              "<Figure size 640x480 with 1 Axes>"
            ],
            "image/png": "[encoded data removed]"
          },
          "metadata": {}
        }
      ]
    },
    {
      "cell_type": "markdown",
      "source": [
        "Les entrepreneurs semblent être payés en moyenne davantage par les grandes entreprises, d'après les données, il s'agit donc d'une hypothèse raisonnable."
      ],
      "metadata": {
        "id": "wkHZMm5XmSa2"
      }
    },
    {
      "cell_type": "code",
      "source": [],
      "metadata": {
        "id": "-4hwMwXAmT0a"
      },
      "execution_count": null,
      "outputs": []
    }
  ]
}