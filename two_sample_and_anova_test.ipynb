{
  "nbformat": 4,
  "nbformat_minor": 0,
  "metadata": {
    "colab": {
      "provenance": [],
      "authorship_tag": "ABX9TyPalTbr/HEcwra/BHPeEuOz",
      "include_colab_link": true
    },
    "kernelspec": {
      "name": "python3",
      "display_name": "Python 3"
    },
    "language_info": {
      "name": "python"
    }
  },
  "cells": [
    {
      "cell_type": "markdown",
      "metadata": {
        "id": "view-in-github",
        "colab_type": "text"
      },
      "source": [
        "<a href=\"https://colab.research.google.com/github/othniel77/datascience/blob/main/two_sample_and_anova_test.ipynb\" target=\"_parent\"><img src=\"https://colab.research.google.com/assets/colab-badge.svg\" alt=\"Open In Colab\"/></a>"
      ]
    },
    {
      "cell_type": "code",
      "execution_count": null,
      "metadata": {
        "id": "ZtFF_OUJ0C82"
      },
      "outputs": [],
      "source": [
        "import pandas as pd"
      ]
    },
    {
      "cell_type": "code",
      "source": [
        "from google.colab import files\n",
        "data_to_load = files.upload()"
      ],
      "metadata": {
        "colab": {
          "base_uri": "https://localhost:8080/",
          "height": 73
        },
        "id": "l_46Xbt60b0X",
        "outputId": "316bdba7-50d8-426d-fd81-e2bcfba8fa5d"
      },
      "execution_count": null,
      "outputs": [
        {
          "output_type": "display_data",
          "data": {
            "text/plain": [
              "<IPython.core.display.HTML object>"
            ],
            "text/html": [
              "\n",
              "     <input type=\"file\" id=\"files-ad228f20-f7d2-4efb-942b-9adb6f5b37aa\" name=\"files[]\" multiple disabled\n",
              "        style=\"border:none\" />\n",
              "     <output id=\"result-ad228f20-f7d2-4efb-942b-9adb6f5b37aa\">\n",
              "      Upload widget is only available when the cell has been executed in the\n",
              "      current browser session. Please rerun this cell to enable.\n",
              "      </output>\n",
              "      <script>// Copyright 2017 Google LLC\n",
              "//\n",
              "// Licensed under the Apache License, Version 2.0 (the \"License\");\n",
              "// you may not use this file except in compliance with the License.\n",
              "// You may obtain a copy of the License at\n",
              "//\n",
              "//      http://www.apache.org/licenses/LICENSE-2.0\n",
              "//\n",
              "// Unless required by applicable law or agreed to in writing, software\n",
              "// distributed under the License is distributed on an \"AS IS\" BASIS,\n",
              "// WITHOUT WARRANTIES OR CONDITIONS OF ANY KIND, either express or implied.\n",
              "// See the License for the specific language governing permissions and\n",
              "// limitations under the License.\n",
              "\n",
              "/**\n",
              " * @fileoverview Helpers for google.colab Python module.\n",
              " */\n",
              "(function(scope) {\n",
              "function span(text, styleAttributes = {}) {\n",
              "  const element = document.createElement('span');\n",
              "  element.textContent = text;\n",
              "  for (const key of Object.keys(styleAttributes)) {\n",
              "    element.style[key] = styleAttributes[key];\n",
              "  }\n",
              "  return element;\n",
              "}\n",
              "\n",
              "// Max number of bytes which will be uploaded at a time.\n",
              "const MAX_PAYLOAD_SIZE = 100 * 1024;\n",
              "\n",
              "function _uploadFiles(inputId, outputId) {\n",
              "  const steps = uploadFilesStep(inputId, outputId);\n",
              "  const outputElement = document.getElementById(outputId);\n",
              "  // Cache steps on the outputElement to make it available for the next call\n",
              "  // to uploadFilesContinue from Python.\n",
              "  outputElement.steps = steps;\n",
              "\n",
              "  return _uploadFilesContinue(outputId);\n",
              "}\n",
              "\n",
              "// This is roughly an async generator (not supported in the browser yet),\n",
              "// where there are multiple asynchronous steps and the Python side is going\n",
              "// to poll for completion of each step.\n",
              "// This uses a Promise to block the python side on completion of each step,\n",
              "// then passes the result of the previous step as the input to the next step.\n",
              "function _uploadFilesContinue(outputId) {\n",
              "  const outputElement = document.getElementById(outputId);\n",
              "  const steps = outputElement.steps;\n",
              "\n",
              "  const next = steps.next(outputElement.lastPromiseValue);\n",
              "  return Promise.resolve(next.value.promise).then((value) => {\n",
              "    // Cache the last promise value to make it available to the next\n",
              "    // step of the generator.\n",
              "    outputElement.lastPromiseValue = value;\n",
              "    return next.value.response;\n",
              "  });\n",
              "}\n",
              "\n",
              "/**\n",
              " * Generator function which is called between each async step of the upload\n",
              " * process.\n",
              " * @param {string} inputId Element ID of the input file picker element.\n",
              " * @param {string} outputId Element ID of the output display.\n",
              " * @return {!Iterable<!Object>} Iterable of next steps.\n",
              " */\n",
              "function* uploadFilesStep(inputId, outputId) {\n",
              "  const inputElement = document.getElementById(inputId);\n",
              "  inputElement.disabled = false;\n",
              "\n",
              "  const outputElement = document.getElementById(outputId);\n",
              "  outputElement.innerHTML = '';\n",
              "\n",
              "  const pickedPromise = new Promise((resolve) => {\n",
              "    inputElement.addEventListener('change', (e) => {\n",
              "      resolve(e.target.files);\n",
              "    });\n",
              "  });\n",
              "\n",
              "  const cancel = document.createElement('button');\n",
              "  inputElement.parentElement.appendChild(cancel);\n",
              "  cancel.textContent = 'Cancel upload';\n",
              "  const cancelPromise = new Promise((resolve) => {\n",
              "    cancel.onclick = () => {\n",
              "      resolve(null);\n",
              "    };\n",
              "  });\n",
              "\n",
              "  // Wait for the user to pick the files.\n",
              "  const files = yield {\n",
              "    promise: Promise.race([pickedPromise, cancelPromise]),\n",
              "    response: {\n",
              "      action: 'starting',\n",
              "    }\n",
              "  };\n",
              "\n",
              "  cancel.remove();\n",
              "\n",
              "  // Disable the input element since further picks are not allowed.\n",
              "  inputElement.disabled = true;\n",
              "\n",
              "  if (!files) {\n",
              "    return {\n",
              "      response: {\n",
              "        action: 'complete',\n",
              "      }\n",
              "    };\n",
              "  }\n",
              "\n",
              "  for (const file of files) {\n",
              "    const li = document.createElement('li');\n",
              "    li.append(span(file.name, {fontWeight: 'bold'}));\n",
              "    li.append(span(\n",
              "        `(${file.type || 'n/a'}) - ${file.size} bytes, ` +\n",
              "        `last modified: ${\n",
              "            file.lastModifiedDate ? file.lastModifiedDate.toLocaleDateString() :\n",
              "                                    'n/a'} - `));\n",
              "    const percent = span('0% done');\n",
              "    li.appendChild(percent);\n",
              "\n",
              "    outputElement.appendChild(li);\n",
              "\n",
              "    const fileDataPromise = new Promise((resolve) => {\n",
              "      const reader = new FileReader();\n",
              "      reader.onload = (e) => {\n",
              "        resolve(e.target.result);\n",
              "      };\n",
              "      reader.readAsArrayBuffer(file);\n",
              "    });\n",
              "    // Wait for the data to be ready.\n",
              "    let fileData = yield {\n",
              "      promise: fileDataPromise,\n",
              "      response: {\n",
              "        action: 'continue',\n",
              "      }\n",
              "    };\n",
              "\n",
              "    // Use a chunked sending to avoid message size limits. See b/62115660.\n",
              "    let position = 0;\n",
              "    do {\n",
              "      const length = Math.min(fileData.byteLength - position, MAX_PAYLOAD_SIZE);\n",
              "      const chunk = new Uint8Array(fileData, position, length);\n",
              "      position += length;\n",
              "\n",
              "      const base64 = btoa(String.fromCharCode.apply(null, chunk));\n",
              "      yield {\n",
              "        response: {\n",
              "          action: 'append',\n",
              "          file: file.name,\n",
              "          data: base64,\n",
              "        },\n",
              "      };\n",
              "\n",
              "      let percentDone = fileData.byteLength === 0 ?\n",
              "          100 :\n",
              "          Math.round((position / fileData.byteLength) * 100);\n",
              "      percent.textContent = `${percentDone}% done`;\n",
              "\n",
              "    } while (position < fileData.byteLength);\n",
              "  }\n",
              "\n",
              "  // All done.\n",
              "  yield {\n",
              "    response: {\n",
              "      action: 'complete',\n",
              "    }\n",
              "  };\n",
              "}\n",
              "\n",
              "scope.google = scope.google || {};\n",
              "scope.google.colab = scope.google.colab || {};\n",
              "scope.google.colab._files = {\n",
              "  _uploadFiles,\n",
              "  _uploadFilesContinue,\n",
              "};\n",
              "})(self);\n",
              "</script> "
            ]
          },
          "metadata": {}
        },
        {
          "output_type": "stream",
          "name": "stdout",
          "text": [
            "Saving repub_votes_potus_08_12.feather to repub_votes_potus_08_12.feather\n"
          ]
        }
      ]
    },
    {
      "cell_type": "markdown",
      "source": [
        "# **Effectuer des tests t**"
      ],
      "metadata": {
        "id": "crn_EMRP1P5M"
      }
    },
    {
      "cell_type": "markdown",
      "source": [
        "## **Problèmes à deux échantillons**\n",
        "Comparer des exemples de statistiques sur des groupes d'une variable\n",
        "\n",
        "converti_comp est une variable numérique\n",
        "\n",
        "age_first_code_cut est une variable catégorielle avec des niveaux ( \"enfant\"et \"adulte\")\n",
        "\n",
        "Les utilisateurs qui ont programmé pour la première fois lorsqu’ils étaient enfants sont-ils mieux rémunérés que ceux qui ont commencé à l’âge\n",
        "adulte ?"
      ],
      "metadata": {
        "id": "Kxe1iGyZ1Ssd"
      }
    },
    {
      "cell_type": "markdown",
      "source": [
        "## **Hypothèses**\n",
        "\n",
        "H0: La rémunération moyenne (en USD) est le même pour ceux qui ont codé pour la première fois en tant qu’enfant et ceux qui ont codé pour la première fois en tant qu’adulte.\n",
        "\n",
        "H0:µenfant=µadulte\n",
        "\n",
        "H0:µenfant−µadulte=0\n",
        "\n",
        "H1: La rémunération moyenne (en USD) estplus grandpour ceux qui ont codé pour la première fois en tant qu’enfant, par rapport à ceux qui ont codé pour la première fois en tant qu’adulte.\n",
        "\n",
        "H1:µenfant>µadulte\n",
        "\n",
        "H1:µenfant−µadulte>0\n"
      ],
      "metadata": {
        "id": "Dd3uZKzf1535"
      }
    },
    {
      "cell_type": "markdown",
      "source": [
        "## **Calcul des statistiques récapitulatives par groupe**"
      ],
      "metadata": {
        "id": "wd2KR1MY2Yq3"
      }
    },
    {
      "cell_type": "code",
      "source": [
        "stack_overflow = pd.read_feather('/content/stack_overflow.feather')\n",
        "stack_overflow.head()"
      ],
      "metadata": {
        "colab": {
          "base_uri": "https://localhost:8080/",
          "height": 550
        },
        "id": "duieRs3F2sid",
        "outputId": "213af1a3-0b39-4880-b669-73f8d56fe640"
      },
      "execution_count": null,
      "outputs": [
        {
          "output_type": "execute_result",
          "data": {
            "text/plain": [
              "   respondent                                        main_branch hobbyist  \\\n",
              "0        36.0  I am not primarily a developer, but I write co...      Yes   \n",
              "1        47.0                     I am a developer by profession      Yes   \n",
              "2        69.0                     I am a developer by profession      Yes   \n",
              "3       125.0  I am not primarily a developer, but I write co...      Yes   \n",
              "4       147.0  I am not primarily a developer, but I write co...       No   \n",
              "\n",
              "    age  age_1st_code age_first_code_cut comp_freq  comp_total  \\\n",
              "0  34.0          30.0              adult    Yearly     60000.0   \n",
              "1  53.0          10.0              child    Yearly     58000.0   \n",
              "2  25.0          12.0              child    Yearly    550000.0   \n",
              "3  41.0          30.0              adult   Monthly    200000.0   \n",
              "4  28.0          15.0              adult    Yearly     50000.0   \n",
              "\n",
              "   converted_comp         country  ...          survey_length trans  \\\n",
              "0         77556.0  United Kingdom  ...  Appropriate in length    No   \n",
              "1         74970.0  United Kingdom  ...  Appropriate in length    No   \n",
              "2        594539.0          France  ...              Too short    No   \n",
              "3       2000000.0   United States  ...  Appropriate in length    No   \n",
              "4         37816.0          Canada  ...  Appropriate in length    No   \n",
              "\n",
              "                                     undergrad_major  \\\n",
              "0  Computer science, computer engineering, or sof...   \n",
              "1  A natural science (such as biology, chemistry,...   \n",
              "2  Computer science, computer engineering, or sof...   \n",
              "3                                               None   \n",
              "4  Another engineering discipline (such as civil,...   \n",
              "\n",
              "  webframe_desire_next_year webframe_worked_with  \\\n",
              "0          Express;React.js     Express;React.js   \n",
              "1              Flask;Spring         Flask;Spring   \n",
              "2              Django;Flask         Django;Flask   \n",
              "3                      None                 None   \n",
              "4                      None        Express;Flask   \n",
              "\n",
              "                            welcome_change work_week_hrs years_code  \\\n",
              "0  Just as welcome now as I felt last year          40.0        4.0   \n",
              "1  Just as welcome now as I felt last year          40.0       43.0   \n",
              "2  Just as welcome now as I felt last year          40.0       13.0   \n",
              "3  Just as welcome now as I felt last year          40.0       11.0   \n",
              "4  Just as welcome now as I felt last year          40.0        5.0   \n",
              "\n",
              "  years_code_pro      age_cat  \n",
              "0            3.0  At least 30  \n",
              "1           28.0  At least 30  \n",
              "2            3.0     Under 30  \n",
              "3           11.0  At least 30  \n",
              "4            3.0     Under 30  \n",
              "\n",
              "[5 rows x 63 columns]"
            ],
            "text/html": [
              "\n",
              "  <div id=\"df-e4c428e9-6512-46f5-b432-d910e6a638a1\" class=\"colab-df-container\">\n",
              "    <div>\n",
              "<style scoped>\n",
              "    .dataframe tbody tr th:only-of-type {\n",
              "        vertical-align: middle;\n",
              "    }\n",
              "\n",
              "    .dataframe tbody tr th {\n",
              "        vertical-align: top;\n",
              "    }\n",
              "\n",
              "    .dataframe thead th {\n",
              "        text-align: right;\n",
              "    }\n",
              "</style>\n",
              "<table border=\"1\" class=\"dataframe\">\n",
              "  <thead>\n",
              "    <tr style=\"text-align: right;\">\n",
              "      <th></th>\n",
              "      <th>respondent</th>\n",
              "      <th>main_branch</th>\n",
              "      <th>hobbyist</th>\n",
              "      <th>age</th>\n",
              "      <th>age_1st_code</th>\n",
              "      <th>age_first_code_cut</th>\n",
              "      <th>comp_freq</th>\n",
              "      <th>comp_total</th>\n",
              "      <th>converted_comp</th>\n",
              "      <th>country</th>\n",
              "      <th>...</th>\n",
              "      <th>survey_length</th>\n",
              "      <th>trans</th>\n",
              "      <th>undergrad_major</th>\n",
              "      <th>webframe_desire_next_year</th>\n",
              "      <th>webframe_worked_with</th>\n",
              "      <th>welcome_change</th>\n",
              "      <th>work_week_hrs</th>\n",
              "      <th>years_code</th>\n",
              "      <th>years_code_pro</th>\n",
              "      <th>age_cat</th>\n",
              "    </tr>\n",
              "  </thead>\n",
              "  <tbody>\n",
              "    <tr>\n",
              "      <th>0</th>\n",
              "      <td>36.0</td>\n",
              "      <td>I am not primarily a developer, but I write co...</td>\n",
              "      <td>Yes</td>\n",
              "      <td>34.0</td>\n",
              "      <td>30.0</td>\n",
              "      <td>adult</td>\n",
              "      <td>Yearly</td>\n",
              "      <td>60000.0</td>\n",
              "      <td>77556.0</td>\n",
              "      <td>United Kingdom</td>\n",
              "      <td>...</td>\n",
              "      <td>Appropriate in length</td>\n",
              "      <td>No</td>\n",
              "      <td>Computer science, computer engineering, or sof...</td>\n",
              "      <td>Express;React.js</td>\n",
              "      <td>Express;React.js</td>\n",
              "      <td>Just as welcome now as I felt last year</td>\n",
              "      <td>40.0</td>\n",
              "      <td>4.0</td>\n",
              "      <td>3.0</td>\n",
              "      <td>At least 30</td>\n",
              "    </tr>\n",
              "    <tr>\n",
              "      <th>1</th>\n",
              "      <td>47.0</td>\n",
              "      <td>I am a developer by profession</td>\n",
              "      <td>Yes</td>\n",
              "      <td>53.0</td>\n",
              "      <td>10.0</td>\n",
              "      <td>child</td>\n",
              "      <td>Yearly</td>\n",
              "      <td>58000.0</td>\n",
              "      <td>74970.0</td>\n",
              "      <td>United Kingdom</td>\n",
              "      <td>...</td>\n",
              "      <td>Appropriate in length</td>\n",
              "      <td>No</td>\n",
              "      <td>A natural science (such as biology, chemistry,...</td>\n",
              "      <td>Flask;Spring</td>\n",
              "      <td>Flask;Spring</td>\n",
              "      <td>Just as welcome now as I felt last year</td>\n",
              "      <td>40.0</td>\n",
              "      <td>43.0</td>\n",
              "      <td>28.0</td>\n",
              "      <td>At least 30</td>\n",
              "    </tr>\n",
              "    <tr>\n",
              "      <th>2</th>\n",
              "      <td>69.0</td>\n",
              "      <td>I am a developer by profession</td>\n",
              "      <td>Yes</td>\n",
              "      <td>25.0</td>\n",
              "      <td>12.0</td>\n",
              "      <td>child</td>\n",
              "      <td>Yearly</td>\n",
              "      <td>550000.0</td>\n",
              "      <td>594539.0</td>\n",
              "      <td>France</td>\n",
              "      <td>...</td>\n",
              "      <td>Too short</td>\n",
              "      <td>No</td>\n",
              "      <td>Computer science, computer engineering, or sof...</td>\n",
              "      <td>Django;Flask</td>\n",
              "      <td>Django;Flask</td>\n",
              "      <td>Just as welcome now as I felt last year</td>\n",
              "      <td>40.0</td>\n",
              "      <td>13.0</td>\n",
              "      <td>3.0</td>\n",
              "      <td>Under 30</td>\n",
              "    </tr>\n",
              "    <tr>\n",
              "      <th>3</th>\n",
              "      <td>125.0</td>\n",
              "      <td>I am not primarily a developer, but I write co...</td>\n",
              "      <td>Yes</td>\n",
              "      <td>41.0</td>\n",
              "      <td>30.0</td>\n",
              "      <td>adult</td>\n",
              "      <td>Monthly</td>\n",
              "      <td>200000.0</td>\n",
              "      <td>2000000.0</td>\n",
              "      <td>United States</td>\n",
              "      <td>...</td>\n",
              "      <td>Appropriate in length</td>\n",
              "      <td>No</td>\n",
              "      <td>None</td>\n",
              "      <td>None</td>\n",
              "      <td>None</td>\n",
              "      <td>Just as welcome now as I felt last year</td>\n",
              "      <td>40.0</td>\n",
              "      <td>11.0</td>\n",
              "      <td>11.0</td>\n",
              "      <td>At least 30</td>\n",
              "    </tr>\n",
              "    <tr>\n",
              "      <th>4</th>\n",
              "      <td>147.0</td>\n",
              "      <td>I am not primarily a developer, but I write co...</td>\n",
              "      <td>No</td>\n",
              "      <td>28.0</td>\n",
              "      <td>15.0</td>\n",
              "      <td>adult</td>\n",
              "      <td>Yearly</td>\n",
              "      <td>50000.0</td>\n",
              "      <td>37816.0</td>\n",
              "      <td>Canada</td>\n",
              "      <td>...</td>\n",
              "      <td>Appropriate in length</td>\n",
              "      <td>No</td>\n",
              "      <td>Another engineering discipline (such as civil,...</td>\n",
              "      <td>None</td>\n",
              "      <td>Express;Flask</td>\n",
              "      <td>Just as welcome now as I felt last year</td>\n",
              "      <td>40.0</td>\n",
              "      <td>5.0</td>\n",
              "      <td>3.0</td>\n",
              "      <td>Under 30</td>\n",
              "    </tr>\n",
              "  </tbody>\n",
              "</table>\n",
              "<p>5 rows × 63 columns</p>\n",
              "</div>\n",
              "    <div class=\"colab-df-buttons\">\n",
              "\n",
              "  <div class=\"colab-df-container\">\n",
              "    <button class=\"colab-df-convert\" onclick=\"convertToInteractive('df-e4c428e9-6512-46f5-b432-d910e6a638a1')\"\n",
              "            title=\"Convert this dataframe to an interactive table.\"\n",
              "            style=\"display:none;\">\n",
              "\n",
              "  <svg xmlns=\"http://www.w3.org/2000/svg\" height=\"24px\" viewBox=\"0 -960 960 960\">\n",
              "    <path d=\"M120-120v-720h720v720H120Zm60-500h600v-160H180v160Zm220 220h160v-160H400v160Zm0 220h160v-160H400v160ZM180-400h160v-160H180v160Zm440 0h160v-160H620v160ZM180-180h160v-160H180v160Zm440 0h160v-160H620v160Z\"/>\n",
              "  </svg>\n",
              "    </button>\n",
              "\n",
              "  <style>\n",
              "    .colab-df-container {\n",
              "      display:flex;\n",
              "      gap: 12px;\n",
              "    }\n",
              "\n",
              "    .colab-df-convert {\n",
              "      background-color: #E8F0FE;\n",
              "      border: none;\n",
              "      border-radius: 50%;\n",
              "      cursor: pointer;\n",
              "      display: none;\n",
              "      fill: #1967D2;\n",
              "      height: 32px;\n",
              "      padding: 0 0 0 0;\n",
              "      width: 32px;\n",
              "    }\n",
              "\n",
              "    .colab-df-convert:hover {\n",
              "      background-color: #E2EBFA;\n",
              "      box-shadow: 0px 1px 2px rgba(60, 64, 67, 0.3), 0px 1px 3px 1px rgba(60, 64, 67, 0.15);\n",
              "      fill: #174EA6;\n",
              "    }\n",
              "\n",
              "    .colab-df-buttons div {\n",
              "      margin-bottom: 4px;\n",
              "    }\n",
              "\n",
              "    [theme=dark] .colab-df-convert {\n",
              "      background-color: #3B4455;\n",
              "      fill: #D2E3FC;\n",
              "    }\n",
              "\n",
              "    [theme=dark] .colab-df-convert:hover {\n",
              "      background-color: #434B5C;\n",
              "      box-shadow: 0px 1px 3px 1px rgba(0, 0, 0, 0.15);\n",
              "      filter: drop-shadow(0px 1px 2px rgba(0, 0, 0, 0.3));\n",
              "      fill: #FFFFFF;\n",
              "    }\n",
              "  </style>\n",
              "\n",
              "    <script>\n",
              "      const buttonEl =\n",
              "        document.querySelector('#df-e4c428e9-6512-46f5-b432-d910e6a638a1 button.colab-df-convert');\n",
              "      buttonEl.style.display =\n",
              "        google.colab.kernel.accessAllowed ? 'block' : 'none';\n",
              "\n",
              "      async function convertToInteractive(key) {\n",
              "        const element = document.querySelector('#df-e4c428e9-6512-46f5-b432-d910e6a638a1');\n",
              "        const dataTable =\n",
              "          await google.colab.kernel.invokeFunction('convertToInteractive',\n",
              "                                                    [key], {});\n",
              "        if (!dataTable) return;\n",
              "\n",
              "        const docLinkHtml = 'Like what you see? Visit the ' +\n",
              "          '<a target=\"_blank\" href=https://colab.research.google.com/notebooks/data_table.ipynb>data table notebook</a>'\n",
              "          + ' to learn more about interactive tables.';\n",
              "        element.innerHTML = '';\n",
              "        dataTable['output_type'] = 'display_data';\n",
              "        await google.colab.output.renderOutput(dataTable, element);\n",
              "        const docLink = document.createElement('div');\n",
              "        docLink.innerHTML = docLinkHtml;\n",
              "        element.appendChild(docLink);\n",
              "      }\n",
              "    </script>\n",
              "  </div>\n",
              "\n",
              "\n",
              "<div id=\"df-f822b1ec-2bfe-44f2-883c-84440687df45\">\n",
              "  <button class=\"colab-df-quickchart\" onclick=\"quickchart('df-f822b1ec-2bfe-44f2-883c-84440687df45')\"\n",
              "            title=\"Suggest charts\"\n",
              "            style=\"display:none;\">\n",
              "\n",
              "<svg xmlns=\"http://www.w3.org/2000/svg\" height=\"24px\"viewBox=\"0 0 24 24\"\n",
              "     width=\"24px\">\n",
              "    <g>\n",
              "        <path d=\"M19 3H5c-1.1 0-2 .9-2 2v14c0 1.1.9 2 2 2h14c1.1 0 2-.9 2-2V5c0-1.1-.9-2-2-2zM9 17H7v-7h2v7zm4 0h-2V7h2v10zm4 0h-2v-4h2v4z\"/>\n",
              "    </g>\n",
              "</svg>\n",
              "  </button>\n",
              "\n",
              "<style>\n",
              "  .colab-df-quickchart {\n",
              "      --bg-color: #E8F0FE;\n",
              "      --fill-color: #1967D2;\n",
              "      --hover-bg-color: #E2EBFA;\n",
              "      --hover-fill-color: #174EA6;\n",
              "      --disabled-fill-color: #AAA;\n",
              "      --disabled-bg-color: #DDD;\n",
              "  }\n",
              "\n",
              "  [theme=dark] .colab-df-quickchart {\n",
              "      --bg-color: #3B4455;\n",
              "      --fill-color: #D2E3FC;\n",
              "      --hover-bg-color: #434B5C;\n",
              "      --hover-fill-color: #FFFFFF;\n",
              "      --disabled-bg-color: #3B4455;\n",
              "      --disabled-fill-color: #666;\n",
              "  }\n",
              "\n",
              "  .colab-df-quickchart {\n",
              "    background-color: var(--bg-color);\n",
              "    border: none;\n",
              "    border-radius: 50%;\n",
              "    cursor: pointer;\n",
              "    display: none;\n",
              "    fill: var(--fill-color);\n",
              "    height: 32px;\n",
              "    padding: 0;\n",
              "    width: 32px;\n",
              "  }\n",
              "\n",
              "  .colab-df-quickchart:hover {\n",
              "    background-color: var(--hover-bg-color);\n",
              "    box-shadow: 0 1px 2px rgba(60, 64, 67, 0.3), 0 1px 3px 1px rgba(60, 64, 67, 0.15);\n",
              "    fill: var(--button-hover-fill-color);\n",
              "  }\n",
              "\n",
              "  .colab-df-quickchart-complete:disabled,\n",
              "  .colab-df-quickchart-complete:disabled:hover {\n",
              "    background-color: var(--disabled-bg-color);\n",
              "    fill: var(--disabled-fill-color);\n",
              "    box-shadow: none;\n",
              "  }\n",
              "\n",
              "  .colab-df-spinner {\n",
              "    border: 2px solid var(--fill-color);\n",
              "    border-color: transparent;\n",
              "    border-bottom-color: var(--fill-color);\n",
              "    animation:\n",
              "      spin 1s steps(1) infinite;\n",
              "  }\n",
              "\n",
              "  @keyframes spin {\n",
              "    0% {\n",
              "      border-color: transparent;\n",
              "      border-bottom-color: var(--fill-color);\n",
              "      border-left-color: var(--fill-color);\n",
              "    }\n",
              "    20% {\n",
              "      border-color: transparent;\n",
              "      border-left-color: var(--fill-color);\n",
              "      border-top-color: var(--fill-color);\n",
              "    }\n",
              "    30% {\n",
              "      border-color: transparent;\n",
              "      border-left-color: var(--fill-color);\n",
              "      border-top-color: var(--fill-color);\n",
              "      border-right-color: var(--fill-color);\n",
              "    }\n",
              "    40% {\n",
              "      border-color: transparent;\n",
              "      border-right-color: var(--fill-color);\n",
              "      border-top-color: var(--fill-color);\n",
              "    }\n",
              "    60% {\n",
              "      border-color: transparent;\n",
              "      border-right-color: var(--fill-color);\n",
              "    }\n",
              "    80% {\n",
              "      border-color: transparent;\n",
              "      border-right-color: var(--fill-color);\n",
              "      border-bottom-color: var(--fill-color);\n",
              "    }\n",
              "    90% {\n",
              "      border-color: transparent;\n",
              "      border-bottom-color: var(--fill-color);\n",
              "    }\n",
              "  }\n",
              "</style>\n",
              "\n",
              "  <script>\n",
              "    async function quickchart(key) {\n",
              "      const quickchartButtonEl =\n",
              "        document.querySelector('#' + key + ' button');\n",
              "      quickchartButtonEl.disabled = true;  // To prevent multiple clicks.\n",
              "      quickchartButtonEl.classList.add('colab-df-spinner');\n",
              "      try {\n",
              "        const charts = await google.colab.kernel.invokeFunction(\n",
              "            'suggestCharts', [key], {});\n",
              "      } catch (error) {\n",
              "        console.error('Error during call to suggestCharts:', error);\n",
              "      }\n",
              "      quickchartButtonEl.classList.remove('colab-df-spinner');\n",
              "      quickchartButtonEl.classList.add('colab-df-quickchart-complete');\n",
              "    }\n",
              "    (() => {\n",
              "      let quickchartButtonEl =\n",
              "        document.querySelector('#df-f822b1ec-2bfe-44f2-883c-84440687df45 button');\n",
              "      quickchartButtonEl.style.display =\n",
              "        google.colab.kernel.accessAllowed ? 'block' : 'none';\n",
              "    })();\n",
              "  </script>\n",
              "</div>\n",
              "    </div>\n",
              "  </div>\n"
            ]
          },
          "metadata": {},
          "execution_count": 3
        }
      ]
    },
    {
      "cell_type": "code",
      "source": [
        "stack_overflow.groupby('age_first_code_cut')['converted_comp'].mean()"
      ],
      "metadata": {
        "colab": {
          "base_uri": "https://localhost:8080/"
        },
        "id": "k4PTbXC81olk",
        "outputId": "4ac63cf1-24b0-4fc8-e903-9c6ea4100231"
      },
      "execution_count": null,
      "outputs": [
        {
          "output_type": "execute_result",
          "data": {
            "text/plain": [
              "age_first_code_cut\n",
              "adult    111313.311047\n",
              "child    132419.570621\n",
              "Name: converted_comp, dtype: float64"
            ]
          },
          "metadata": {},
          "execution_count": 4
        }
      ]
    },
    {
      "cell_type": "markdown",
      "source": [
        "## **Statistiques des tests**\n",
        "\n",
        "La moyenne de l'échantillon estime la moyenne de la population\n",
        "\n",
        "X- une moyenne d'échantillon\n",
        "\n",
        "Xenfant-exemple de compensation moyenne pour avoir codé d'abord en tant qu'enfant\n",
        "\n",
        "Xadulte-exemple de compensation moyenne pour avoir codé d'abord en tant qu'adulte\n",
        "\n",
        "Xenfant−Xadulte-unstatistique de test\n",
        "\n",
        "z-score - une statistique de test (standardisée)"
      ],
      "metadata": {
        "id": "HRBDkoc23OHf"
      }
    },
    {
      "cell_type": "markdown",
      "source": [
        "## **Standardisation des statistiques de test**\n",
        "\n",
        "## **Erreur standard**\n",
        "\n",
        "s est l'écart type de la variable\n",
        "\n",
        "\n",
        "n est la taille de l'échantillon (nombre d'observations/lignes dans l'échantillon)"
      ],
      "metadata": {
        "id": "pmrhN7Jr3ejx"
      }
    },
    {
      "cell_type": "markdown",
      "source": [
        "## **En supposant que l'hypothèse nulle est vraie**\n",
        "\n",
        "## **Calculs supposant que l'hypothèse nulle est vraie**"
      ],
      "metadata": {
        "id": "blw1Tzf54Tq4"
      }
    },
    {
      "cell_type": "code",
      "source": [
        "xbar = stack_overflow.groupby('age_first_code_cut')['converted_comp'].mean()\n",
        "xbar"
      ],
      "metadata": {
        "colab": {
          "base_uri": "https://localhost:8080/"
        },
        "id": "D2l_sKGj3ZTW",
        "outputId": "cbb8abcb-22fe-474a-abc9-de9cc70d2660"
      },
      "execution_count": null,
      "outputs": [
        {
          "output_type": "execute_result",
          "data": {
            "text/plain": [
              "age_first_code_cut\n",
              "adult    111313.311047\n",
              "child    132419.570621\n",
              "Name: converted_comp, dtype: float64"
            ]
          },
          "metadata": {},
          "execution_count": 6
        }
      ]
    },
    {
      "cell_type": "code",
      "source": [
        "s = stack_overflow.groupby('age_first_code_cut')['converted_comp'].std()\n",
        "s"
      ],
      "metadata": {
        "colab": {
          "base_uri": "https://localhost:8080/"
        },
        "id": "peH7S6u-5uE7",
        "outputId": "014b2838-2398-4ffe-cb0a-787f428ec0e5"
      },
      "execution_count": null,
      "outputs": [
        {
          "output_type": "execute_result",
          "data": {
            "text/plain": [
              "age_first_code_cut\n",
              "adult    271546.521729\n",
              "child    255585.240115\n",
              "Name: converted_comp, dtype: float64"
            ]
          },
          "metadata": {},
          "execution_count": 8
        }
      ]
    },
    {
      "cell_type": "code",
      "source": [
        "n = stack_overflow.groupby('age_first_code_cut')['converted_comp'].count()\n",
        "n"
      ],
      "metadata": {
        "colab": {
          "base_uri": "https://localhost:8080/"
        },
        "id": "L3jNNA-258MO",
        "outputId": "fa461aff-259f-4af2-a707-48e487e42fa6"
      },
      "execution_count": null,
      "outputs": [
        {
          "output_type": "execute_result",
          "data": {
            "text/plain": [
              "age_first_code_cut\n",
              "adult    1376\n",
              "child     885\n",
              "Name: converted_comp, dtype: int64"
            ]
          },
          "metadata": {},
          "execution_count": 10
        }
      ]
    },
    {
      "cell_type": "markdown",
      "source": [
        "## **Calcul de la statistique du test**"
      ],
      "metadata": {
        "id": "bTYcSI2w6Mca"
      }
    },
    {
      "cell_type": "code",
      "source": [
        "prop_child_samp = (stack_overflow['age_first_code_cut'] == \"child\").mean()"
      ],
      "metadata": {
        "id": "MZqwseZ7F5Il"
      },
      "execution_count": null,
      "outputs": []
    },
    {
      "cell_type": "code",
      "source": [
        "xbar_child = stack_overflow.groupby('age_first_code_cut')['converted_comp'].get_group('child').mean()\n",
        "xbar_child\n",
        "xbar_adult = stack_overflow.groupby('age_first_code_cut')['converted_comp'].get_group('adult').mean()\n",
        "xbar_adult"
      ],
      "metadata": {
        "colab": {
          "base_uri": "https://localhost:8080/"
        },
        "id": "_i44wj3YKILx",
        "outputId": "8808a2df-0222-4fcd-aa5e-7a4d30e43f61"
      },
      "execution_count": null,
      "outputs": [
        {
          "output_type": "execute_result",
          "data": {
            "text/plain": [
              "111313.31104651163"
            ]
          },
          "metadata": {},
          "execution_count": 18
        }
      ]
    },
    {
      "cell_type": "code",
      "source": [
        "s_child = stack_overflow.groupby('age_first_code_cut')['converted_comp'].get_group('child').std()\n",
        "s_child\n",
        "s_adult = stack_overflow.groupby('age_first_code_cut')['converted_comp'].get_group('adult').std()\n",
        "s_adult"
      ],
      "metadata": {
        "colab": {
          "base_uri": "https://localhost:8080/"
        },
        "id": "FiJNcaA9GF2N",
        "outputId": "a18be863-5277-4786-aac6-b3ff511ad3b2"
      },
      "execution_count": null,
      "outputs": [
        {
          "output_type": "execute_result",
          "data": {
            "text/plain": [
              "271546.5217287419"
            ]
          },
          "metadata": {},
          "execution_count": 19
        }
      ]
    },
    {
      "cell_type": "code",
      "source": [
        "n_child = stack_overflow.groupby('age_first_code_cut')['converted_comp'].get_group('child').count()\n",
        "n_child\n",
        "n_adult = stack_overflow.groupby('age_first_code_cut')['converted_comp'].get_group('adult').count()\n",
        "n_adult"
      ],
      "metadata": {
        "colab": {
          "base_uri": "https://localhost:8080/"
        },
        "id": "ckIzuJMfLbNe",
        "outputId": "943f1391-db12-4c14-e5cc-45ccc8f25795"
      },
      "execution_count": null,
      "outputs": [
        {
          "output_type": "execute_result",
          "data": {
            "text/plain": [
              "1376"
            ]
          },
          "metadata": {},
          "execution_count": 20
        }
      ]
    },
    {
      "cell_type": "code",
      "source": [
        "import numpy as np\n",
        "numerator = xbar_child - xbar_adult\n",
        "denominator = np.sqrt(s_child ** 2 / n_child + s_adult ** 2 / n_adult)\n",
        "t_stat = numerator / denominator\n",
        "t_stat"
      ],
      "metadata": {
        "colab": {
          "base_uri": "https://localhost:8080/"
        },
        "id": "XZY_BSak6P_f",
        "outputId": "bc4e0839-2cb2-485a-c8d1-fd7eee1621c2"
      },
      "execution_count": null,
      "outputs": [
        {
          "output_type": "execute_result",
          "data": {
            "text/plain": [
              "1.869931331622183"
            ]
          },
          "metadata": {},
          "execution_count": 22
        }
      ]
    },
    {
      "cell_type": "markdown",
      "source": [
        "# **Calcul des p value à partir des statistiques T**"
      ],
      "metadata": {
        "id": "WI7zVz4dMjle"
      }
    },
    {
      "cell_type": "markdown",
      "source": [
        "## **distributions t**\n",
        "\n",
        "la statistique t suit une distribution t\n",
        "\n",
        "A un paramètre nommé degrés de liberté, ou df\n",
        "\n",
        "il ressemble à des distributions normales, avec des queues plus\n",
        "grosses\n"
      ],
      "metadata": {
        "id": "Hhnm9BwPM2U1"
      }
    },
    {
      "cell_type": "markdown",
      "source": [
        "# **Degrés de liberté**\n",
        "\n",
        "Degrés de liberté plus grands→La distribution t se rapproche de la distribution normale\n",
        "\n",
        "Distribution normale→distribution t avec df infini\n",
        "\n",
        "Degrés de liberté : nombre maximum de valeurs logiquement indépendantes dans l'échantillon de données"
      ],
      "metadata": {
        "id": "JozYCcIbNejb"
      }
    },
    {
      "cell_type": "markdown",
      "source": [
        "## **Hypothèses**\n",
        "\n",
        "H0: La rémunération moyenne (en USD) est le même pour ceux qui ont codé en premier en tant qu’enfant et ceux qui ont codé en premier en tant qu’adulte\n",
        "\n",
        "H1: La rémunération moyenne (en USD) est plus grand pour ceux qui ont codé pour la première fois en tant qu'enfant, par rapport à ceux qui ont codé pour la première fois en tant qu'adulte\n",
        "\n",
        "Utiliser un test à droite"
      ],
      "metadata": {
        "id": "YSGTQyycN6MU"
      }
    },
    {
      "cell_type": "markdown",
      "source": [
        "## **Calcul des valeurs p : deux moyennes de groupes différents**\n"
      ],
      "metadata": {
        "id": "lV47-8jFOXE8"
      }
    },
    {
      "cell_type": "code",
      "source": [
        "numerator = xbar_child - xbar_adult\n",
        "denominator = np.sqrt(s_child ** 2 / n_child + s_adult ** 2 / n_adult)\n",
        "t_stat = numerator / denominator"
      ],
      "metadata": {
        "id": "wcLbmDJCMt2I"
      },
      "execution_count": null,
      "outputs": []
    },
    {
      "cell_type": "code",
      "source": [
        "degrees_of_freedom = n_child + n_adult - 2\n",
        "degrees_of_freedom"
      ],
      "metadata": {
        "colab": {
          "base_uri": "https://localhost:8080/"
        },
        "id": "T5rwwXCQPR6M",
        "outputId": "c083c8ff-47b3-4809-f772-104a111041f2"
      },
      "execution_count": null,
      "outputs": [
        {
          "output_type": "execute_result",
          "data": {
            "text/plain": [
              "2259"
            ]
          },
          "metadata": {},
          "execution_count": 24
        }
      ]
    },
    {
      "cell_type": "markdown",
      "source": [
        "Utiliser le CDF de distribution t et non le CDF normal"
      ],
      "metadata": {
        "id": "znLGGV7qPr15"
      }
    },
    {
      "cell_type": "code",
      "source": [
        "from scipy.stats import t\n",
        "1 - t.cdf(t_stat, df= degrees_of_freedom)"
      ],
      "metadata": {
        "colab": {
          "base_uri": "https://localhost:8080/"
        },
        "id": "DuqQBkVBPfyA",
        "outputId": "6d214591-354f-4248-9207-2ec869ff5779"
      },
      "execution_count": null,
      "outputs": [
        {
          "output_type": "execute_result",
          "data": {
            "text/plain": [
              "0.030811302165157706"
            ]
          },
          "metadata": {},
          "execution_count": 25
        }
      ]
    },
    {
      "cell_type": "markdown",
      "source": [
        "Preuve que les data scientists de Stack Overflow qui ont commencé à coder lorsqu'ils étaient enfants gagnent plus.\n"
      ],
      "metadata": {
        "id": "FxilxJsoPtas"
      }
    },
    {
      "cell_type": "markdown",
      "source": [
        "# **Tests t appariés**"
      ],
      "metadata": {
        "id": "XgSfy3lpP7mZ"
      }
    },
    {
      "cell_type": "markdown",
      "source": [
        "### **Ensemble de données sur les présidents républicains américains**"
      ],
      "metadata": {
        "id": "Lvwq3bEHQCDw"
      }
    },
    {
      "cell_type": "markdown",
      "source": [
        "## **De deux échantillons à un**"
      ],
      "metadata": {
        "id": "wSzQ4_USRWGw"
      }
    },
    {
      "cell_type": "code",
      "source": [
        "repub_votes_potus_08_12 = pd.read_feather('/content/repub_votes_potus_08_12.feather')\n",
        "print(repub_votes_potus_08_12.head())"
      ],
      "metadata": {
        "colab": {
          "base_uri": "https://localhost:8080/"
        },
        "id": "QMT6utRSR1tU",
        "outputId": "2f14231a-ab30-4c91-d37f-11072b65c17c"
      },
      "execution_count": null,
      "outputs": [
        {
          "output_type": "stream",
          "name": "stdout",
          "text": [
            "        state   county  repub_percent_08  repub_percent_12\n",
            "0     Alabama     Hale         38.957877         37.139882\n",
            "1    Arkansas   Nevada         56.726272         58.983452\n",
            "2  California     Lake         38.896719         39.331367\n",
            "3  California  Ventura         42.923190         45.250693\n",
            "4    Colorado  Lincoln         74.522569         73.764757\n"
          ]
        }
      ]
    },
    {
      "cell_type": "code",
      "source": [
        "sample_data = repub_votes_potus_08_12\n",
        "sample_data['diff'] = sample_data['repub_percent_08'] - sample_data['repub_percent_12']"
      ],
      "metadata": {
        "id": "BV9Dl8bKQKkG"
      },
      "execution_count": null,
      "outputs": []
    },
    {
      "cell_type": "code",
      "source": [
        "import matplotlib.pyplot as plt\n",
        "\n",
        "sample_data['diff'].hist(bins=20)\n"
      ],
      "metadata": {
        "colab": {
          "base_uri": "https://localhost:8080/",
          "height": 447
        },
        "id": "ejEROzchSMkd",
        "outputId": "e3dbcd6f-a1a6-4245-fb34-11ff1f940439"
      },
      "execution_count": null,
      "outputs": [
        {
          "output_type": "execute_result",
          "data": {
            "text/plain": [
              "<Axes: >"
            ]
          },
          "metadata": {},
          "execution_count": 29
        },
        {
          "output_type": "display_data",
          "data": {
            "text/plain": [
              "<Figure size 640x480 with 1 Axes>"
            ],
            "image/png": "[encoded data removed]"
          },
          "metadata": {}
        }
      ]
    },
    {
      "cell_type": "markdown",
      "source": [
        "## **Calculer des exemples de statistiques de la différence**"
      ],
      "metadata": {
        "id": "PmvdqqmaSkVJ"
      }
    },
    {
      "cell_type": "code",
      "source": [
        "xbar_diff = sample_data['diff'].mean()"
      ],
      "metadata": {
        "id": "UNiUJjOjSn7E"
      },
      "execution_count": null,
      "outputs": []
    },
    {
      "cell_type": "markdown",
      "source": [
        "## **Calcul de la valeur p**"
      ],
      "metadata": {
        "id": "QUHILiveS3Nu"
      }
    },
    {
      "cell_type": "code",
      "source": [
        "n_diff = len(sample_data)"
      ],
      "metadata": {
        "id": "g75yswpeS6RM"
      },
      "execution_count": null,
      "outputs": []
    },
    {
      "cell_type": "code",
      "source": [
        "s_diff = sample_data['diff'].std()\n"
      ],
      "metadata": {
        "id": "BH6R5X4BTB64"
      },
      "execution_count": null,
      "outputs": []
    },
    {
      "cell_type": "code",
      "source": [
        "t_stat = (xbar_diff-0) / np.sqrt(s_diff**2/n_diff)"
      ],
      "metadata": {
        "id": "keJynfmkTKjT"
      },
      "execution_count": null,
      "outputs": []
    },
    {
      "cell_type": "code",
      "source": [
        "degrees_of_freedom = n_diff - 1"
      ],
      "metadata": {
        "id": "1E_OKNU4TVUr"
      },
      "execution_count": null,
      "outputs": []
    },
    {
      "cell_type": "code",
      "source": [
        "from scipy.stats import t\n",
        "p_value = t.cdf(t_stat, df=n_diff-1)\n",
        "p_value"
      ],
      "metadata": {
        "colab": {
          "base_uri": "https://localhost:8080/"
        },
        "id": "6mI6joYXTcXT",
        "outputId": "93fd9104-099d-4be5-d43a-5fb2e55f3701"
      },
      "execution_count": null,
      "outputs": [
        {
          "output_type": "execute_result",
          "data": {
            "text/plain": [
              "9.572537285272411e-08"
            ]
          },
          "metadata": {},
          "execution_count": 35
        }
      ]
    },
    {
      "cell_type": "markdown",
      "source": [
        "## **Tester les différences entre deux moyennes en utilisant ttest()**"
      ],
      "metadata": {
        "id": "t0OlayRrTxRd"
      }
    },
    {
      "cell_type": "code",
      "source": [
        "\n",
        "\n",
        "!pip install pingouin"
      ],
      "metadata": {
        "colab": {
          "base_uri": "https://localhost:8080/"
        },
        "id": "wOxIR3csT0ir",
        "outputId": "03beb79e-6259-44cc-9554-f5a6caf69737"
      },
      "execution_count": null,
      "outputs": [
        {
          "output_type": "stream",
          "name": "stdout",
          "text": [
            "Collecting pingouin\n",
            "  Downloading pingouin-0.5.4-py2.py3-none-any.whl (198 kB)\n",
            "\u001b[2K     \u001b[90m━━━━━━━━━━━━━━━━━━━━━━━━━━━━━━━━━━━━━━━━\u001b[0m \u001b[32m198.9/198.9 kB\u001b[0m \u001b[31m1.6 MB/s\u001b[0m eta \u001b[36m0:00:00\u001b[0m\n",
            "\u001b[?25hRequirement already satisfied: numpy in /usr/local/lib/python3.10/dist-packages (from pingouin) (1.23.5)\n",
            "Requirement already satisfied: scipy in /usr/local/lib/python3.10/dist-packages (from pingouin) (1.11.4)\n",
            "Requirement already satisfied: pandas>=1.5 in /usr/local/lib/python3.10/dist-packages (from pingouin) (1.5.3)\n",
            "Requirement already satisfied: matplotlib in /usr/local/lib/python3.10/dist-packages (from pingouin) (3.7.1)\n",
            "Requirement already satisfied: seaborn in /usr/local/lib/python3.10/dist-packages (from pingouin) (0.13.1)\n",
            "Requirement already satisfied: statsmodels in /usr/local/lib/python3.10/dist-packages (from pingouin) (0.14.1)\n",
            "Requirement already satisfied: scikit-learn in /usr/local/lib/python3.10/dist-packages (from pingouin) (1.2.2)\n",
            "Collecting pandas-flavor (from pingouin)\n",
            "  Downloading pandas_flavor-0.6.0-py3-none-any.whl (7.2 kB)\n",
            "Requirement already satisfied: tabulate in /usr/local/lib/python3.10/dist-packages (from pingouin) (0.9.0)\n",
            "Requirement already satisfied: python-dateutil>=2.8.1 in /usr/local/lib/python3.10/dist-packages (from pandas>=1.5->pingouin) (2.8.2)\n",
            "Requirement already satisfied: pytz>=2020.1 in /usr/local/lib/python3.10/dist-packages (from pandas>=1.5->pingouin) (2023.3.post1)\n",
            "Requirement already satisfied: contourpy>=1.0.1 in /usr/local/lib/python3.10/dist-packages (from matplotlib->pingouin) (1.2.0)\n",
            "Requirement already satisfied: cycler>=0.10 in /usr/local/lib/python3.10/dist-packages (from matplotlib->pingouin) (0.12.1)\n",
            "Requirement already satisfied: fonttools>=4.22.0 in /usr/local/lib/python3.10/dist-packages (from matplotlib->pingouin) (4.47.2)\n",
            "Requirement already satisfied: kiwisolver>=1.0.1 in /usr/local/lib/python3.10/dist-packages (from matplotlib->pingouin) (1.4.5)\n",
            "Requirement already satisfied: packaging>=20.0 in /usr/local/lib/python3.10/dist-packages (from matplotlib->pingouin) (23.2)\n",
            "Requirement already satisfied: pillow>=6.2.0 in /usr/local/lib/python3.10/dist-packages (from matplotlib->pingouin) (9.4.0)\n",
            "Requirement already satisfied: pyparsing>=2.3.1 in /usr/local/lib/python3.10/dist-packages (from matplotlib->pingouin) (3.1.1)\n",
            "Requirement already satisfied: xarray in /usr/local/lib/python3.10/dist-packages (from pandas-flavor->pingouin) (2023.7.0)\n",
            "Requirement already satisfied: joblib>=1.1.1 in /usr/local/lib/python3.10/dist-packages (from scikit-learn->pingouin) (1.3.2)\n",
            "Requirement already satisfied: threadpoolctl>=2.0.0 in /usr/local/lib/python3.10/dist-packages (from scikit-learn->pingouin) (3.2.0)\n",
            "Requirement already satisfied: patsy>=0.5.4 in /usr/local/lib/python3.10/dist-packages (from statsmodels->pingouin) (0.5.6)\n",
            "Requirement already satisfied: six in /usr/local/lib/python3.10/dist-packages (from patsy>=0.5.4->statsmodels->pingouin) (1.16.0)\n",
            "Installing collected packages: pandas-flavor, pingouin\n",
            "Successfully installed pandas-flavor-0.6.0 pingouin-0.5.4\n"
          ]
        }
      ]
    },
    {
      "cell_type": "code",
      "source": [
        "import pingouin"
      ],
      "metadata": {
        "id": "ktXL6g4tUZEa"
      },
      "execution_count": null,
      "outputs": []
    },
    {
      "cell_type": "code",
      "source": [
        "pingouin.ttest(x=sample_data['diff'],y=0,alternative=\"less\")"
      ],
      "metadata": {
        "colab": {
          "base_uri": "https://localhost:8080/",
          "height": 81
        },
        "id": "a4E4jy_ZUeM-",
        "outputId": "07656473-a822-4c2a-ecc1-3b16f3b6fc3b"
      },
      "execution_count": null,
      "outputs": [
        {
          "output_type": "execute_result",
          "data": {
            "text/plain": [
              "               T  dof alternative         p-val          CI95%   cohen-d  \\\n",
              "T-test -5.601043   99        less  9.572537e-08  [-inf, -2.02]  0.560104   \n",
              "\n",
              "             BF10     power  \n",
              "T-test  1.323e+05  0.999955  "
            ],
            "text/html": [
              "\n",
              "  <div id=\"df-3f54e7a8-dda1-4ef7-85e4-c5a2b9b7fc08\" class=\"colab-df-container\">\n",
              "    <div>\n",
              "<style scoped>\n",
              "    .dataframe tbody tr th:only-of-type {\n",
              "        vertical-align: middle;\n",
              "    }\n",
              "\n",
              "    .dataframe tbody tr th {\n",
              "        vertical-align: top;\n",
              "    }\n",
              "\n",
              "    .dataframe thead th {\n",
              "        text-align: right;\n",
              "    }\n",
              "</style>\n",
              "<table border=\"1\" class=\"dataframe\">\n",
              "  <thead>\n",
              "    <tr style=\"text-align: right;\">\n",
              "      <th></th>\n",
              "      <th>T</th>\n",
              "      <th>dof</th>\n",
              "      <th>alternative</th>\n",
              "      <th>p-val</th>\n",
              "      <th>CI95%</th>\n",
              "      <th>cohen-d</th>\n",
              "      <th>BF10</th>\n",
              "      <th>power</th>\n",
              "    </tr>\n",
              "  </thead>\n",
              "  <tbody>\n",
              "    <tr>\n",
              "      <th>T-test</th>\n",
              "      <td>-5.601043</td>\n",
              "      <td>99</td>\n",
              "      <td>less</td>\n",
              "      <td>9.572537e-08</td>\n",
              "      <td>[-inf, -2.02]</td>\n",
              "      <td>0.560104</td>\n",
              "      <td>1.323e+05</td>\n",
              "      <td>0.999955</td>\n",
              "    </tr>\n",
              "  </tbody>\n",
              "</table>\n",
              "</div>\n",
              "    <div class=\"colab-df-buttons\">\n",
              "\n",
              "  <div class=\"colab-df-container\">\n",
              "    <button class=\"colab-df-convert\" onclick=\"convertToInteractive('df-3f54e7a8-dda1-4ef7-85e4-c5a2b9b7fc08')\"\n",
              "            title=\"Convert this dataframe to an interactive table.\"\n",
              "            style=\"display:none;\">\n",
              "\n",
              "  <svg xmlns=\"http://www.w3.org/2000/svg\" height=\"24px\" viewBox=\"0 -960 960 960\">\n",
              "    <path d=\"M120-120v-720h720v720H120Zm60-500h600v-160H180v160Zm220 220h160v-160H400v160Zm0 220h160v-160H400v160ZM180-400h160v-160H180v160Zm440 0h160v-160H620v160ZM180-180h160v-160H180v160Zm440 0h160v-160H620v160Z\"/>\n",
              "  </svg>\n",
              "    </button>\n",
              "\n",
              "  <style>\n",
              "    .colab-df-container {\n",
              "      display:flex;\n",
              "      gap: 12px;\n",
              "    }\n",
              "\n",
              "    .colab-df-convert {\n",
              "      background-color: #E8F0FE;\n",
              "      border: none;\n",
              "      border-radius: 50%;\n",
              "      cursor: pointer;\n",
              "      display: none;\n",
              "      fill: #1967D2;\n",
              "      height: 32px;\n",
              "      padding: 0 0 0 0;\n",
              "      width: 32px;\n",
              "    }\n",
              "\n",
              "    .colab-df-convert:hover {\n",
              "      background-color: #E2EBFA;\n",
              "      box-shadow: 0px 1px 2px rgba(60, 64, 67, 0.3), 0px 1px 3px 1px rgba(60, 64, 67, 0.15);\n",
              "      fill: #174EA6;\n",
              "    }\n",
              "\n",
              "    .colab-df-buttons div {\n",
              "      margin-bottom: 4px;\n",
              "    }\n",
              "\n",
              "    [theme=dark] .colab-df-convert {\n",
              "      background-color: #3B4455;\n",
              "      fill: #D2E3FC;\n",
              "    }\n",
              "\n",
              "    [theme=dark] .colab-df-convert:hover {\n",
              "      background-color: #434B5C;\n",
              "      box-shadow: 0px 1px 3px 1px rgba(0, 0, 0, 0.15);\n",
              "      filter: drop-shadow(0px 1px 2px rgba(0, 0, 0, 0.3));\n",
              "      fill: #FFFFFF;\n",
              "    }\n",
              "  </style>\n",
              "\n",
              "    <script>\n",
              "      const buttonEl =\n",
              "        document.querySelector('#df-3f54e7a8-dda1-4ef7-85e4-c5a2b9b7fc08 button.colab-df-convert');\n",
              "      buttonEl.style.display =\n",
              "        google.colab.kernel.accessAllowed ? 'block' : 'none';\n",
              "\n",
              "      async function convertToInteractive(key) {\n",
              "        const element = document.querySelector('#df-3f54e7a8-dda1-4ef7-85e4-c5a2b9b7fc08');\n",
              "        const dataTable =\n",
              "          await google.colab.kernel.invokeFunction('convertToInteractive',\n",
              "                                                    [key], {});\n",
              "        if (!dataTable) return;\n",
              "\n",
              "        const docLinkHtml = 'Like what you see? Visit the ' +\n",
              "          '<a target=\"_blank\" href=https://colab.research.google.com/notebooks/data_table.ipynb>data table notebook</a>'\n",
              "          + ' to learn more about interactive tables.';\n",
              "        element.innerHTML = '';\n",
              "        dataTable['output_type'] = 'display_data';\n",
              "        await google.colab.output.renderOutput(dataTable, element);\n",
              "        const docLink = document.createElement('div');\n",
              "        docLink.innerHTML = docLinkHtml;\n",
              "        element.appendChild(docLink);\n",
              "      }\n",
              "    </script>\n",
              "  </div>\n",
              "\n",
              "    </div>\n",
              "  </div>\n"
            ]
          },
          "metadata": {},
          "execution_count": 40
        }
      ]
    },
    {
      "cell_type": "markdown",
      "source": [
        "## **ttest() avec paired=True**"
      ],
      "metadata": {
        "id": "AHWomp65Uq96"
      }
    },
    {
      "cell_type": "code",
      "source": [
        "pingouin.ttest(x=sample_data['repub_percent_08'],y=sample_data['repub_percent_12'],paired=True,alternative=\"less\")"
      ],
      "metadata": {
        "colab": {
          "base_uri": "https://localhost:8080/",
          "height": 81
        },
        "id": "upi8Nwn8Uwzx",
        "outputId": "ef65a184-00a3-454e-8645-683cf79d2308"
      },
      "execution_count": null,
      "outputs": [
        {
          "output_type": "execute_result",
          "data": {
            "text/plain": [
              "               T  dof alternative         p-val          CI95%   cohen-d  \\\n",
              "T-test -5.601043   99        less  9.572537e-08  [-inf, -2.02]  0.217364   \n",
              "\n",
              "             BF10     power  \n",
              "T-test  1.323e+05  0.696338  "
            ],
            "text/html": [
              "\n",
              "  <div id=\"df-708444a8-9932-41a2-a1d8-7f5b741ed5c0\" class=\"colab-df-container\">\n",
              "    <div>\n",
              "<style scoped>\n",
              "    .dataframe tbody tr th:only-of-type {\n",
              "        vertical-align: middle;\n",
              "    }\n",
              "\n",
              "    .dataframe tbody tr th {\n",
              "        vertical-align: top;\n",
              "    }\n",
              "\n",
              "    .dataframe thead th {\n",
              "        text-align: right;\n",
              "    }\n",
              "</style>\n",
              "<table border=\"1\" class=\"dataframe\">\n",
              "  <thead>\n",
              "    <tr style=\"text-align: right;\">\n",
              "      <th></th>\n",
              "      <th>T</th>\n",
              "      <th>dof</th>\n",
              "      <th>alternative</th>\n",
              "      <th>p-val</th>\n",
              "      <th>CI95%</th>\n",
              "      <th>cohen-d</th>\n",
              "      <th>BF10</th>\n",
              "      <th>power</th>\n",
              "    </tr>\n",
              "  </thead>\n",
              "  <tbody>\n",
              "    <tr>\n",
              "      <th>T-test</th>\n",
              "      <td>-5.601043</td>\n",
              "      <td>99</td>\n",
              "      <td>less</td>\n",
              "      <td>9.572537e-08</td>\n",
              "      <td>[-inf, -2.02]</td>\n",
              "      <td>0.217364</td>\n",
              "      <td>1.323e+05</td>\n",
              "      <td>0.696338</td>\n",
              "    </tr>\n",
              "  </tbody>\n",
              "</table>\n",
              "</div>\n",
              "    <div class=\"colab-df-buttons\">\n",
              "\n",
              "  <div class=\"colab-df-container\">\n",
              "    <button class=\"colab-df-convert\" onclick=\"convertToInteractive('df-708444a8-9932-41a2-a1d8-7f5b741ed5c0')\"\n",
              "            title=\"Convert this dataframe to an interactive table.\"\n",
              "            style=\"display:none;\">\n",
              "\n",
              "  <svg xmlns=\"http://www.w3.org/2000/svg\" height=\"24px\" viewBox=\"0 -960 960 960\">\n",
              "    <path d=\"M120-120v-720h720v720H120Zm60-500h600v-160H180v160Zm220 220h160v-160H400v160Zm0 220h160v-160H400v160ZM180-400h160v-160H180v160Zm440 0h160v-160H620v160ZM180-180h160v-160H180v160Zm440 0h160v-160H620v160Z\"/>\n",
              "  </svg>\n",
              "    </button>\n",
              "\n",
              "  <style>\n",
              "    .colab-df-container {\n",
              "      display:flex;\n",
              "      gap: 12px;\n",
              "    }\n",
              "\n",
              "    .colab-df-convert {\n",
              "      background-color: #E8F0FE;\n",
              "      border: none;\n",
              "      border-radius: 50%;\n",
              "      cursor: pointer;\n",
              "      display: none;\n",
              "      fill: #1967D2;\n",
              "      height: 32px;\n",
              "      padding: 0 0 0 0;\n",
              "      width: 32px;\n",
              "    }\n",
              "\n",
              "    .colab-df-convert:hover {\n",
              "      background-color: #E2EBFA;\n",
              "      box-shadow: 0px 1px 2px rgba(60, 64, 67, 0.3), 0px 1px 3px 1px rgba(60, 64, 67, 0.15);\n",
              "      fill: #174EA6;\n",
              "    }\n",
              "\n",
              "    .colab-df-buttons div {\n",
              "      margin-bottom: 4px;\n",
              "    }\n",
              "\n",
              "    [theme=dark] .colab-df-convert {\n",
              "      background-color: #3B4455;\n",
              "      fill: #D2E3FC;\n",
              "    }\n",
              "\n",
              "    [theme=dark] .colab-df-convert:hover {\n",
              "      background-color: #434B5C;\n",
              "      box-shadow: 0px 1px 3px 1px rgba(0, 0, 0, 0.15);\n",
              "      filter: drop-shadow(0px 1px 2px rgba(0, 0, 0, 0.3));\n",
              "      fill: #FFFFFF;\n",
              "    }\n",
              "  </style>\n",
              "\n",
              "    <script>\n",
              "      const buttonEl =\n",
              "        document.querySelector('#df-708444a8-9932-41a2-a1d8-7f5b741ed5c0 button.colab-df-convert');\n",
              "      buttonEl.style.display =\n",
              "        google.colab.kernel.accessAllowed ? 'block' : 'none';\n",
              "\n",
              "      async function convertToInteractive(key) {\n",
              "        const element = document.querySelector('#df-708444a8-9932-41a2-a1d8-7f5b741ed5c0');\n",
              "        const dataTable =\n",
              "          await google.colab.kernel.invokeFunction('convertToInteractive',\n",
              "                                                    [key], {});\n",
              "        if (!dataTable) return;\n",
              "\n",
              "        const docLinkHtml = 'Like what you see? Visit the ' +\n",
              "          '<a target=\"_blank\" href=https://colab.research.google.com/notebooks/data_table.ipynb>data table notebook</a>'\n",
              "          + ' to learn more about interactive tables.';\n",
              "        element.innerHTML = '';\n",
              "        dataTable['output_type'] = 'display_data';\n",
              "        await google.colab.output.renderOutput(dataTable, element);\n",
              "        const docLink = document.createElement('div');\n",
              "        docLink.innerHTML = docLinkHtml;\n",
              "        element.appendChild(docLink);\n",
              "      }\n",
              "    </script>\n",
              "  </div>\n",
              "\n",
              "    </div>\n",
              "  </div>\n"
            ]
          },
          "metadata": {},
          "execution_count": 41
        }
      ]
    },
    {
      "cell_type": "markdown",
      "source": [
        "## **Test non apparié()**\n"
      ],
      "metadata": {
        "id": "BF813hH8VHTW"
      }
    },
    {
      "cell_type": "code",
      "source": [
        "pingouin.ttest(x=sample_data['repub_percent_08'],y=sample_data['repub_percent_12'],paired=False, alternative=\"less\")"
      ],
      "metadata": {
        "colab": {
          "base_uri": "https://localhost:8080/",
          "height": 81
        },
        "id": "_DIZ7ibAVKRf",
        "outputId": "5e121c85-4e25-428c-b5bc-64fbabe09797"
      },
      "execution_count": null,
      "outputs": [
        {
          "output_type": "execute_result",
          "data": {
            "text/plain": [
              "               T  dof alternative     p-val         CI95%   cohen-d   BF10  \\\n",
              "T-test -1.536997  198        less  0.062945  [-inf, 0.22]  0.217364  0.927   \n",
              "\n",
              "           power  \n",
              "T-test  0.454972  "
            ],
            "text/html": [
              "\n",
              "  <div id=\"df-bbdc9979-6b9e-4073-a8d3-549bbfb27053\" class=\"colab-df-container\">\n",
              "    <div>\n",
              "<style scoped>\n",
              "    .dataframe tbody tr th:only-of-type {\n",
              "        vertical-align: middle;\n",
              "    }\n",
              "\n",
              "    .dataframe tbody tr th {\n",
              "        vertical-align: top;\n",
              "    }\n",
              "\n",
              "    .dataframe thead th {\n",
              "        text-align: right;\n",
              "    }\n",
              "</style>\n",
              "<table border=\"1\" class=\"dataframe\">\n",
              "  <thead>\n",
              "    <tr style=\"text-align: right;\">\n",
              "      <th></th>\n",
              "      <th>T</th>\n",
              "      <th>dof</th>\n",
              "      <th>alternative</th>\n",
              "      <th>p-val</th>\n",
              "      <th>CI95%</th>\n",
              "      <th>cohen-d</th>\n",
              "      <th>BF10</th>\n",
              "      <th>power</th>\n",
              "    </tr>\n",
              "  </thead>\n",
              "  <tbody>\n",
              "    <tr>\n",
              "      <th>T-test</th>\n",
              "      <td>-1.536997</td>\n",
              "      <td>198</td>\n",
              "      <td>less</td>\n",
              "      <td>0.062945</td>\n",
              "      <td>[-inf, 0.22]</td>\n",
              "      <td>0.217364</td>\n",
              "      <td>0.927</td>\n",
              "      <td>0.454972</td>\n",
              "    </tr>\n",
              "  </tbody>\n",
              "</table>\n",
              "</div>\n",
              "    <div class=\"colab-df-buttons\">\n",
              "\n",
              "  <div class=\"colab-df-container\">\n",
              "    <button class=\"colab-df-convert\" onclick=\"convertToInteractive('df-bbdc9979-6b9e-4073-a8d3-549bbfb27053')\"\n",
              "            title=\"Convert this dataframe to an interactive table.\"\n",
              "            style=\"display:none;\">\n",
              "\n",
              "  <svg xmlns=\"http://www.w3.org/2000/svg\" height=\"24px\" viewBox=\"0 -960 960 960\">\n",
              "    <path d=\"M120-120v-720h720v720H120Zm60-500h600v-160H180v160Zm220 220h160v-160H400v160Zm0 220h160v-160H400v160ZM180-400h160v-160H180v160Zm440 0h160v-160H620v160ZM180-180h160v-160H180v160Zm440 0h160v-160H620v160Z\"/>\n",
              "  </svg>\n",
              "    </button>\n",
              "\n",
              "  <style>\n",
              "    .colab-df-container {\n",
              "      display:flex;\n",
              "      gap: 12px;\n",
              "    }\n",
              "\n",
              "    .colab-df-convert {\n",
              "      background-color: #E8F0FE;\n",
              "      border: none;\n",
              "      border-radius: 50%;\n",
              "      cursor: pointer;\n",
              "      display: none;\n",
              "      fill: #1967D2;\n",
              "      height: 32px;\n",
              "      padding: 0 0 0 0;\n",
              "      width: 32px;\n",
              "    }\n",
              "\n",
              "    .colab-df-convert:hover {\n",
              "      background-color: #E2EBFA;\n",
              "      box-shadow: 0px 1px 2px rgba(60, 64, 67, 0.3), 0px 1px 3px 1px rgba(60, 64, 67, 0.15);\n",
              "      fill: #174EA6;\n",
              "    }\n",
              "\n",
              "    .colab-df-buttons div {\n",
              "      margin-bottom: 4px;\n",
              "    }\n",
              "\n",
              "    [theme=dark] .colab-df-convert {\n",
              "      background-color: #3B4455;\n",
              "      fill: #D2E3FC;\n",
              "    }\n",
              "\n",
              "    [theme=dark] .colab-df-convert:hover {\n",
              "      background-color: #434B5C;\n",
              "      box-shadow: 0px 1px 3px 1px rgba(0, 0, 0, 0.15);\n",
              "      filter: drop-shadow(0px 1px 2px rgba(0, 0, 0, 0.3));\n",
              "      fill: #FFFFFF;\n",
              "    }\n",
              "  </style>\n",
              "\n",
              "    <script>\n",
              "      const buttonEl =\n",
              "        document.querySelector('#df-bbdc9979-6b9e-4073-a8d3-549bbfb27053 button.colab-df-convert');\n",
              "      buttonEl.style.display =\n",
              "        google.colab.kernel.accessAllowed ? 'block' : 'none';\n",
              "\n",
              "      async function convertToInteractive(key) {\n",
              "        const element = document.querySelector('#df-bbdc9979-6b9e-4073-a8d3-549bbfb27053');\n",
              "        const dataTable =\n",
              "          await google.colab.kernel.invokeFunction('convertToInteractive',\n",
              "                                                    [key], {});\n",
              "        if (!dataTable) return;\n",
              "\n",
              "        const docLinkHtml = 'Like what you see? Visit the ' +\n",
              "          '<a target=\"_blank\" href=https://colab.research.google.com/notebooks/data_table.ipynb>data table notebook</a>'\n",
              "          + ' to learn more about interactive tables.';\n",
              "        element.innerHTML = '';\n",
              "        dataTable['output_type'] = 'display_data';\n",
              "        await google.colab.output.renderOutput(dataTable, element);\n",
              "        const docLink = document.createElement('div');\n",
              "        docLink.innerHTML = docLinkHtml;\n",
              "        element.appendChild(docLink);\n",
              "      }\n",
              "    </script>\n",
              "  </div>\n",
              "\n",
              "    </div>\n",
              "  </div>\n"
            ]
          },
          "metadata": {},
          "execution_count": 42
        }
      ]
    },
    {
      "cell_type": "markdown",
      "source": [
        "# **Tests ANOVA**"
      ],
      "metadata": {
        "id": "MHO3BVTFVj1B"
      }
    },
    {
      "cell_type": "markdown",
      "source": [
        "## **Satisfaction au travail : 5 catégories**"
      ],
      "metadata": {
        "id": "0334MbTUVteL"
      }
    },
    {
      "cell_type": "code",
      "source": [
        "stack_overflow['job_sat'].value_counts()\n"
      ],
      "metadata": {
        "colab": {
          "base_uri": "https://localhost:8080/"
        },
        "id": "PTYqLIErVnEK",
        "outputId": "7c6a1404-c3da-4b9a-93ce-e63b8a8267c4"
      },
      "execution_count": null,
      "outputs": [
        {
          "output_type": "execute_result",
          "data": {
            "text/plain": [
              "Very satisfied           879\n",
              "Slightly satisfied       680\n",
              "Slightly dissatisfied    342\n",
              "Neither                  201\n",
              "Very dissatisfied        159\n",
              "Name: job_sat, dtype: int64"
            ]
          },
          "metadata": {},
          "execution_count": 43
        }
      ]
    },
    {
      "cell_type": "markdown",
      "source": [
        "## **Visualiser plusieurs distributions**\n"
      ],
      "metadata": {
        "id": "WpBlUqecWABA"
      }
    },
    {
      "cell_type": "markdown",
      "source": [
        "La rémunération annuelle moyenne est-elle différente selon les\n",
        "différents niveaux de satisfaction au travail ?"
      ],
      "metadata": {
        "id": "ZxY6-PbuWKC0"
      }
    },
    {
      "cell_type": "code",
      "source": [
        "import seaborn as sns\n",
        "import matplotlib.pyplot as plt\n",
        "sns.boxplot(x=\"converted_comp\",y=\"job_sat\",data=stack_overflow)\n",
        "plt.show()\n"
      ],
      "metadata": {
        "colab": {
          "base_uri": "https://localhost:8080/",
          "height": 450
        },
        "id": "RhBaezSKWGN1",
        "outputId": "c36ead90-35f3-408e-a862-fcf62e9b275c"
      },
      "execution_count": null,
      "outputs": [
        {
          "output_type": "display_data",
          "data": {
            "text/plain": [
              "<Figure size 640x480 with 1 Axes>"
            ],
            "image/png": "[encoded data removed]"
          },
          "metadata": {}
        }
      ]
    },
    {
      "cell_type": "markdown",
      "source": [
        "# **Analyse de variance (ANOVA)**"
      ],
      "metadata": {
        "id": "JtrL9P07Wtyn"
      }
    },
    {
      "cell_type": "markdown",
      "source": [
        "# **Un test de différences entre groupes**"
      ],
      "metadata": {
        "id": "PO65OV9rW0CO"
      }
    },
    {
      "cell_type": "code",
      "source": [
        "alpha = 0.2\n",
        "pingouin.anova(data=stack_overflow,dv=\"converted_comp\",between=\"job_sat\")\n"
      ],
      "metadata": {
        "colab": {
          "base_uri": "https://localhost:8080/",
          "height": 81
        },
        "id": "zFi0Ql8ZWx5J",
        "outputId": "10314591-dfbb-4a72-870c-1c5fcbc83968"
      },
      "execution_count": null,
      "outputs": [
        {
          "output_type": "execute_result",
          "data": {
            "text/plain": [
              "    Source  ddof1  ddof2         F     p-unc       np2\n",
              "0  job_sat      4   2256  4.480485  0.001315  0.007882"
            ],
            "text/html": [
              "\n",
              "  <div id=\"df-b8fcc2a5-7d2d-4fe3-b3de-a6abf70e8ba7\" class=\"colab-df-container\">\n",
              "    <div>\n",
              "<style scoped>\n",
              "    .dataframe tbody tr th:only-of-type {\n",
              "        vertical-align: middle;\n",
              "    }\n",
              "\n",
              "    .dataframe tbody tr th {\n",
              "        vertical-align: top;\n",
              "    }\n",
              "\n",
              "    .dataframe thead th {\n",
              "        text-align: right;\n",
              "    }\n",
              "</style>\n",
              "<table border=\"1\" class=\"dataframe\">\n",
              "  <thead>\n",
              "    <tr style=\"text-align: right;\">\n",
              "      <th></th>\n",
              "      <th>Source</th>\n",
              "      <th>ddof1</th>\n",
              "      <th>ddof2</th>\n",
              "      <th>F</th>\n",
              "      <th>p-unc</th>\n",
              "      <th>np2</th>\n",
              "    </tr>\n",
              "  </thead>\n",
              "  <tbody>\n",
              "    <tr>\n",
              "      <th>0</th>\n",
              "      <td>job_sat</td>\n",
              "      <td>4</td>\n",
              "      <td>2256</td>\n",
              "      <td>4.480485</td>\n",
              "      <td>0.001315</td>\n",
              "      <td>0.007882</td>\n",
              "    </tr>\n",
              "  </tbody>\n",
              "</table>\n",
              "</div>\n",
              "    <div class=\"colab-df-buttons\">\n",
              "\n",
              "  <div class=\"colab-df-container\">\n",
              "    <button class=\"colab-df-convert\" onclick=\"convertToInteractive('df-b8fcc2a5-7d2d-4fe3-b3de-a6abf70e8ba7')\"\n",
              "            title=\"Convert this dataframe to an interactive table.\"\n",
              "            style=\"display:none;\">\n",
              "\n",
              "  <svg xmlns=\"http://www.w3.org/2000/svg\" height=\"24px\" viewBox=\"0 -960 960 960\">\n",
              "    <path d=\"M120-120v-720h720v720H120Zm60-500h600v-160H180v160Zm220 220h160v-160H400v160Zm0 220h160v-160H400v160ZM180-400h160v-160H180v160Zm440 0h160v-160H620v160ZM180-180h160v-160H180v160Zm440 0h160v-160H620v160Z\"/>\n",
              "  </svg>\n",
              "    </button>\n",
              "\n",
              "  <style>\n",
              "    .colab-df-container {\n",
              "      display:flex;\n",
              "      gap: 12px;\n",
              "    }\n",
              "\n",
              "    .colab-df-convert {\n",
              "      background-color: #E8F0FE;\n",
              "      border: none;\n",
              "      border-radius: 50%;\n",
              "      cursor: pointer;\n",
              "      display: none;\n",
              "      fill: #1967D2;\n",
              "      height: 32px;\n",
              "      padding: 0 0 0 0;\n",
              "      width: 32px;\n",
              "    }\n",
              "\n",
              "    .colab-df-convert:hover {\n",
              "      background-color: #E2EBFA;\n",
              "      box-shadow: 0px 1px 2px rgba(60, 64, 67, 0.3), 0px 1px 3px 1px rgba(60, 64, 67, 0.15);\n",
              "      fill: #174EA6;\n",
              "    }\n",
              "\n",
              "    .colab-df-buttons div {\n",
              "      margin-bottom: 4px;\n",
              "    }\n",
              "\n",
              "    [theme=dark] .colab-df-convert {\n",
              "      background-color: #3B4455;\n",
              "      fill: #D2E3FC;\n",
              "    }\n",
              "\n",
              "    [theme=dark] .colab-df-convert:hover {\n",
              "      background-color: #434B5C;\n",
              "      box-shadow: 0px 1px 3px 1px rgba(0, 0, 0, 0.15);\n",
              "      filter: drop-shadow(0px 1px 2px rgba(0, 0, 0, 0.3));\n",
              "      fill: #FFFFFF;\n",
              "    }\n",
              "  </style>\n",
              "\n",
              "    <script>\n",
              "      const buttonEl =\n",
              "        document.querySelector('#df-b8fcc2a5-7d2d-4fe3-b3de-a6abf70e8ba7 button.colab-df-convert');\n",
              "      buttonEl.style.display =\n",
              "        google.colab.kernel.accessAllowed ? 'block' : 'none';\n",
              "\n",
              "      async function convertToInteractive(key) {\n",
              "        const element = document.querySelector('#df-b8fcc2a5-7d2d-4fe3-b3de-a6abf70e8ba7');\n",
              "        const dataTable =\n",
              "          await google.colab.kernel.invokeFunction('convertToInteractive',\n",
              "                                                    [key], {});\n",
              "        if (!dataTable) return;\n",
              "\n",
              "        const docLinkHtml = 'Like what you see? Visit the ' +\n",
              "          '<a target=\"_blank\" href=https://colab.research.google.com/notebooks/data_table.ipynb>data table notebook</a>'\n",
              "          + ' to learn more about interactive tables.';\n",
              "        element.innerHTML = '';\n",
              "        dataTable['output_type'] = 'display_data';\n",
              "        await google.colab.output.renderOutput(dataTable, element);\n",
              "        const docLink = document.createElement('div');\n",
              "        docLink.innerHTML = docLinkHtml;\n",
              "        element.appendChild(docLink);\n",
              "      }\n",
              "    </script>\n",
              "  </div>\n",
              "\n",
              "    </div>\n",
              "  </div>\n"
            ]
          },
          "metadata": {},
          "execution_count": 45
        }
      ]
    },
    {
      "cell_type": "markdown",
      "source": [
        "## **paires_tests()**\n"
      ],
      "metadata": {
        "id": "V-qOSNRtXMxJ"
      }
    },
    {
      "cell_type": "code",
      "source": [
        "pingouin.pairwise_tests(data=stack_overflow,dv=\"converted_comp\",between=\"job_sat\",padjust=\"none\")"
      ],
      "metadata": {
        "colab": {
          "base_uri": "https://localhost:8080/",
          "height": 363
        },
        "id": "d-HX-aEFXQFR",
        "outputId": "a3902bfd-c363-4596-c442-d6bf976faacb"
      },
      "execution_count": null,
      "outputs": [
        {
          "output_type": "execute_result",
          "data": {
            "text/plain": [
              "  Contrast                   A                      B  Paired  Parametric  \\\n",
              "0  job_sat  Slightly satisfied         Very satisfied   False        True   \n",
              "1  job_sat  Slightly satisfied                Neither   False        True   \n",
              "2  job_sat  Slightly satisfied      Very dissatisfied   False        True   \n",
              "3  job_sat  Slightly satisfied  Slightly dissatisfied   False        True   \n",
              "4  job_sat      Very satisfied                Neither   False        True   \n",
              "5  job_sat      Very satisfied      Very dissatisfied   False        True   \n",
              "6  job_sat      Very satisfied  Slightly dissatisfied   False        True   \n",
              "7  job_sat             Neither      Very dissatisfied   False        True   \n",
              "8  job_sat             Neither  Slightly dissatisfied   False        True   \n",
              "9  job_sat   Very dissatisfied  Slightly dissatisfied   False        True   \n",
              "\n",
              "          T          dof alternative     p-unc     BF10    hedges  \n",
              "0 -4.009935  1478.622799   two-sided  0.000064  158.564 -0.192931  \n",
              "1 -0.700752   258.204546   two-sided  0.484088    0.114 -0.068513  \n",
              "2 -1.243665   187.153329   two-sided  0.215179    0.208 -0.145624  \n",
              "3 -0.038264   569.926329   two-sided  0.969491    0.074 -0.002719  \n",
              "4  1.662901   328.326639   two-sided  0.097286    0.337  0.120115  \n",
              "5  0.747379   221.666205   two-sided  0.455627    0.126  0.063479  \n",
              "6  3.076222   821.303063   two-sided  0.002166     7.43  0.173247  \n",
              "7 -0.545948   321.165726   two-sided  0.585481    0.135 -0.058537  \n",
              "8  0.602209   367.730081   two-sided  0.547406    0.118  0.055707  \n",
              "9  1.129951   247.570187   two-sided  0.259590    0.197  0.119131  "
            ],
            "text/html": [
              "\n",
              "  <div id=\"df-7a390f9b-1a51-4ca1-b117-7475152485d4\" class=\"colab-df-container\">\n",
              "    <div>\n",
              "<style scoped>\n",
              "    .dataframe tbody tr th:only-of-type {\n",
              "        vertical-align: middle;\n",
              "    }\n",
              "\n",
              "    .dataframe tbody tr th {\n",
              "        vertical-align: top;\n",
              "    }\n",
              "\n",
              "    .dataframe thead th {\n",
              "        text-align: right;\n",
              "    }\n",
              "</style>\n",
              "<table border=\"1\" class=\"dataframe\">\n",
              "  <thead>\n",
              "    <tr style=\"text-align: right;\">\n",
              "      <th></th>\n",
              "      <th>Contrast</th>\n",
              "      <th>A</th>\n",
              "      <th>B</th>\n",
              "      <th>Paired</th>\n",
              "      <th>Parametric</th>\n",
              "      <th>T</th>\n",
              "      <th>dof</th>\n",
              "      <th>alternative</th>\n",
              "      <th>p-unc</th>\n",
              "      <th>BF10</th>\n",
              "      <th>hedges</th>\n",
              "    </tr>\n",
              "  </thead>\n",
              "  <tbody>\n",
              "    <tr>\n",
              "      <th>0</th>\n",
              "      <td>job_sat</td>\n",
              "      <td>Slightly satisfied</td>\n",
              "      <td>Very satisfied</td>\n",
              "      <td>False</td>\n",
              "      <td>True</td>\n",
              "      <td>-4.009935</td>\n",
              "      <td>1478.622799</td>\n",
              "      <td>two-sided</td>\n",
              "      <td>0.000064</td>\n",
              "      <td>158.564</td>\n",
              "      <td>-0.192931</td>\n",
              "    </tr>\n",
              "    <tr>\n",
              "      <th>1</th>\n",
              "      <td>job_sat</td>\n",
              "      <td>Slightly satisfied</td>\n",
              "      <td>Neither</td>\n",
              "      <td>False</td>\n",
              "      <td>True</td>\n",
              "      <td>-0.700752</td>\n",
              "      <td>258.204546</td>\n",
              "      <td>two-sided</td>\n",
              "      <td>0.484088</td>\n",
              "      <td>0.114</td>\n",
              "      <td>-0.068513</td>\n",
              "    </tr>\n",
              "    <tr>\n",
              "      <th>2</th>\n",
              "      <td>job_sat</td>\n",
              "      <td>Slightly satisfied</td>\n",
              "      <td>Very dissatisfied</td>\n",
              "      <td>False</td>\n",
              "      <td>True</td>\n",
              "      <td>-1.243665</td>\n",
              "      <td>187.153329</td>\n",
              "      <td>two-sided</td>\n",
              "      <td>0.215179</td>\n",
              "      <td>0.208</td>\n",
              "      <td>-0.145624</td>\n",
              "    </tr>\n",
              "    <tr>\n",
              "      <th>3</th>\n",
              "      <td>job_sat</td>\n",
              "      <td>Slightly satisfied</td>\n",
              "      <td>Slightly dissatisfied</td>\n",
              "      <td>False</td>\n",
              "      <td>True</td>\n",
              "      <td>-0.038264</td>\n",
              "      <td>569.926329</td>\n",
              "      <td>two-sided</td>\n",
              "      <td>0.969491</td>\n",
              "      <td>0.074</td>\n",
              "      <td>-0.002719</td>\n",
              "    </tr>\n",
              "    <tr>\n",
              "      <th>4</th>\n",
              "      <td>job_sat</td>\n",
              "      <td>Very satisfied</td>\n",
              "      <td>Neither</td>\n",
              "      <td>False</td>\n",
              "      <td>True</td>\n",
              "      <td>1.662901</td>\n",
              "      <td>328.326639</td>\n",
              "      <td>two-sided</td>\n",
              "      <td>0.097286</td>\n",
              "      <td>0.337</td>\n",
              "      <td>0.120115</td>\n",
              "    </tr>\n",
              "    <tr>\n",
              "      <th>5</th>\n",
              "      <td>job_sat</td>\n",
              "      <td>Very satisfied</td>\n",
              "      <td>Very dissatisfied</td>\n",
              "      <td>False</td>\n",
              "      <td>True</td>\n",
              "      <td>0.747379</td>\n",
              "      <td>221.666205</td>\n",
              "      <td>two-sided</td>\n",
              "      <td>0.455627</td>\n",
              "      <td>0.126</td>\n",
              "      <td>0.063479</td>\n",
              "    </tr>\n",
              "    <tr>\n",
              "      <th>6</th>\n",
              "      <td>job_sat</td>\n",
              "      <td>Very satisfied</td>\n",
              "      <td>Slightly dissatisfied</td>\n",
              "      <td>False</td>\n",
              "      <td>True</td>\n",
              "      <td>3.076222</td>\n",
              "      <td>821.303063</td>\n",
              "      <td>two-sided</td>\n",
              "      <td>0.002166</td>\n",
              "      <td>7.43</td>\n",
              "      <td>0.173247</td>\n",
              "    </tr>\n",
              "    <tr>\n",
              "      <th>7</th>\n",
              "      <td>job_sat</td>\n",
              "      <td>Neither</td>\n",
              "      <td>Very dissatisfied</td>\n",
              "      <td>False</td>\n",
              "      <td>True</td>\n",
              "      <td>-0.545948</td>\n",
              "      <td>321.165726</td>\n",
              "      <td>two-sided</td>\n",
              "      <td>0.585481</td>\n",
              "      <td>0.135</td>\n",
              "      <td>-0.058537</td>\n",
              "    </tr>\n",
              "    <tr>\n",
              "      <th>8</th>\n",
              "      <td>job_sat</td>\n",
              "      <td>Neither</td>\n",
              "      <td>Slightly dissatisfied</td>\n",
              "      <td>False</td>\n",
              "      <td>True</td>\n",
              "      <td>0.602209</td>\n",
              "      <td>367.730081</td>\n",
              "      <td>two-sided</td>\n",
              "      <td>0.547406</td>\n",
              "      <td>0.118</td>\n",
              "      <td>0.055707</td>\n",
              "    </tr>\n",
              "    <tr>\n",
              "      <th>9</th>\n",
              "      <td>job_sat</td>\n",
              "      <td>Very dissatisfied</td>\n",
              "      <td>Slightly dissatisfied</td>\n",
              "      <td>False</td>\n",
              "      <td>True</td>\n",
              "      <td>1.129951</td>\n",
              "      <td>247.570187</td>\n",
              "      <td>two-sided</td>\n",
              "      <td>0.259590</td>\n",
              "      <td>0.197</td>\n",
              "      <td>0.119131</td>\n",
              "    </tr>\n",
              "  </tbody>\n",
              "</table>\n",
              "</div>\n",
              "    <div class=\"colab-df-buttons\">\n",
              "\n",
              "  <div class=\"colab-df-container\">\n",
              "    <button class=\"colab-df-convert\" onclick=\"convertToInteractive('df-7a390f9b-1a51-4ca1-b117-7475152485d4')\"\n",
              "            title=\"Convert this dataframe to an interactive table.\"\n",
              "            style=\"display:none;\">\n",
              "\n",
              "  <svg xmlns=\"http://www.w3.org/2000/svg\" height=\"24px\" viewBox=\"0 -960 960 960\">\n",
              "    <path d=\"M120-120v-720h720v720H120Zm60-500h600v-160H180v160Zm220 220h160v-160H400v160Zm0 220h160v-160H400v160ZM180-400h160v-160H180v160Zm440 0h160v-160H620v160ZM180-180h160v-160H180v160Zm440 0h160v-160H620v160Z\"/>\n",
              "  </svg>\n",
              "    </button>\n",
              "\n",
              "  <style>\n",
              "    .colab-df-container {\n",
              "      display:flex;\n",
              "      gap: 12px;\n",
              "    }\n",
              "\n",
              "    .colab-df-convert {\n",
              "      background-color: #E8F0FE;\n",
              "      border: none;\n",
              "      border-radius: 50%;\n",
              "      cursor: pointer;\n",
              "      display: none;\n",
              "      fill: #1967D2;\n",
              "      height: 32px;\n",
              "      padding: 0 0 0 0;\n",
              "      width: 32px;\n",
              "    }\n",
              "\n",
              "    .colab-df-convert:hover {\n",
              "      background-color: #E2EBFA;\n",
              "      box-shadow: 0px 1px 2px rgba(60, 64, 67, 0.3), 0px 1px 3px 1px rgba(60, 64, 67, 0.15);\n",
              "      fill: #174EA6;\n",
              "    }\n",
              "\n",
              "    .colab-df-buttons div {\n",
              "      margin-bottom: 4px;\n",
              "    }\n",
              "\n",
              "    [theme=dark] .colab-df-convert {\n",
              "      background-color: #3B4455;\n",
              "      fill: #D2E3FC;\n",
              "    }\n",
              "\n",
              "    [theme=dark] .colab-df-convert:hover {\n",
              "      background-color: #434B5C;\n",
              "      box-shadow: 0px 1px 3px 1px rgba(0, 0, 0, 0.15);\n",
              "      filter: drop-shadow(0px 1px 2px rgba(0, 0, 0, 0.3));\n",
              "      fill: #FFFFFF;\n",
              "    }\n",
              "  </style>\n",
              "\n",
              "    <script>\n",
              "      const buttonEl =\n",
              "        document.querySelector('#df-7a390f9b-1a51-4ca1-b117-7475152485d4 button.colab-df-convert');\n",
              "      buttonEl.style.display =\n",
              "        google.colab.kernel.accessAllowed ? 'block' : 'none';\n",
              "\n",
              "      async function convertToInteractive(key) {\n",
              "        const element = document.querySelector('#df-7a390f9b-1a51-4ca1-b117-7475152485d4');\n",
              "        const dataTable =\n",
              "          await google.colab.kernel.invokeFunction('convertToInteractive',\n",
              "                                                    [key], {});\n",
              "        if (!dataTable) return;\n",
              "\n",
              "        const docLinkHtml = 'Like what you see? Visit the ' +\n",
              "          '<a target=\"_blank\" href=https://colab.research.google.com/notebooks/data_table.ipynb>data table notebook</a>'\n",
              "          + ' to learn more about interactive tables.';\n",
              "        element.innerHTML = '';\n",
              "        dataTable['output_type'] = 'display_data';\n",
              "        await google.colab.output.renderOutput(dataTable, element);\n",
              "        const docLink = document.createElement('div');\n",
              "        docLink.innerHTML = docLinkHtml;\n",
              "        element.appendChild(docLink);\n",
              "      }\n",
              "    </script>\n",
              "  </div>\n",
              "\n",
              "\n",
              "<div id=\"df-b114c437-1234-4ebe-a24a-52e564b4f8f7\">\n",
              "  <button class=\"colab-df-quickchart\" onclick=\"quickchart('df-b114c437-1234-4ebe-a24a-52e564b4f8f7')\"\n",
              "            title=\"Suggest charts\"\n",
              "            style=\"display:none;\">\n",
              "\n",
              "<svg xmlns=\"http://www.w3.org/2000/svg\" height=\"24px\"viewBox=\"0 0 24 24\"\n",
              "     width=\"24px\">\n",
              "    <g>\n",
              "        <path d=\"M19 3H5c-1.1 0-2 .9-2 2v14c0 1.1.9 2 2 2h14c1.1 0 2-.9 2-2V5c0-1.1-.9-2-2-2zM9 17H7v-7h2v7zm4 0h-2V7h2v10zm4 0h-2v-4h2v4z\"/>\n",
              "    </g>\n",
              "</svg>\n",
              "  </button>\n",
              "\n",
              "<style>\n",
              "  .colab-df-quickchart {\n",
              "      --bg-color: #E8F0FE;\n",
              "      --fill-color: #1967D2;\n",
              "      --hover-bg-color: #E2EBFA;\n",
              "      --hover-fill-color: #174EA6;\n",
              "      --disabled-fill-color: #AAA;\n",
              "      --disabled-bg-color: #DDD;\n",
              "  }\n",
              "\n",
              "  [theme=dark] .colab-df-quickchart {\n",
              "      --bg-color: #3B4455;\n",
              "      --fill-color: #D2E3FC;\n",
              "      --hover-bg-color: #434B5C;\n",
              "      --hover-fill-color: #FFFFFF;\n",
              "      --disabled-bg-color: #3B4455;\n",
              "      --disabled-fill-color: #666;\n",
              "  }\n",
              "\n",
              "  .colab-df-quickchart {\n",
              "    background-color: var(--bg-color);\n",
              "    border: none;\n",
              "    border-radius: 50%;\n",
              "    cursor: pointer;\n",
              "    display: none;\n",
              "    fill: var(--fill-color);\n",
              "    height: 32px;\n",
              "    padding: 0;\n",
              "    width: 32px;\n",
              "  }\n",
              "\n",
              "  .colab-df-quickchart:hover {\n",
              "    background-color: var(--hover-bg-color);\n",
              "    box-shadow: 0 1px 2px rgba(60, 64, 67, 0.3), 0 1px 3px 1px rgba(60, 64, 67, 0.15);\n",
              "    fill: var(--button-hover-fill-color);\n",
              "  }\n",
              "\n",
              "  .colab-df-quickchart-complete:disabled,\n",
              "  .colab-df-quickchart-complete:disabled:hover {\n",
              "    background-color: var(--disabled-bg-color);\n",
              "    fill: var(--disabled-fill-color);\n",
              "    box-shadow: none;\n",
              "  }\n",
              "\n",
              "  .colab-df-spinner {\n",
              "    border: 2px solid var(--fill-color);\n",
              "    border-color: transparent;\n",
              "    border-bottom-color: var(--fill-color);\n",
              "    animation:\n",
              "      spin 1s steps(1) infinite;\n",
              "  }\n",
              "\n",
              "  @keyframes spin {\n",
              "    0% {\n",
              "      border-color: transparent;\n",
              "      border-bottom-color: var(--fill-color);\n",
              "      border-left-color: var(--fill-color);\n",
              "    }\n",
              "    20% {\n",
              "      border-color: transparent;\n",
              "      border-left-color: var(--fill-color);\n",
              "      border-top-color: var(--fill-color);\n",
              "    }\n",
              "    30% {\n",
              "      border-color: transparent;\n",
              "      border-left-color: var(--fill-color);\n",
              "      border-top-color: var(--fill-color);\n",
              "      border-right-color: var(--fill-color);\n",
              "    }\n",
              "    40% {\n",
              "      border-color: transparent;\n",
              "      border-right-color: var(--fill-color);\n",
              "      border-top-color: var(--fill-color);\n",
              "    }\n",
              "    60% {\n",
              "      border-color: transparent;\n",
              "      border-right-color: var(--fill-color);\n",
              "    }\n",
              "    80% {\n",
              "      border-color: transparent;\n",
              "      border-right-color: var(--fill-color);\n",
              "      border-bottom-color: var(--fill-color);\n",
              "    }\n",
              "    90% {\n",
              "      border-color: transparent;\n",
              "      border-bottom-color: var(--fill-color);\n",
              "    }\n",
              "  }\n",
              "</style>\n",
              "\n",
              "  <script>\n",
              "    async function quickchart(key) {\n",
              "      const quickchartButtonEl =\n",
              "        document.querySelector('#' + key + ' button');\n",
              "      quickchartButtonEl.disabled = true;  // To prevent multiple clicks.\n",
              "      quickchartButtonEl.classList.add('colab-df-spinner');\n",
              "      try {\n",
              "        const charts = await google.colab.kernel.invokeFunction(\n",
              "            'suggestCharts', [key], {});\n",
              "      } catch (error) {\n",
              "        console.error('Error during call to suggestCharts:', error);\n",
              "      }\n",
              "      quickchartButtonEl.classList.remove('colab-df-spinner');\n",
              "      quickchartButtonEl.classList.add('colab-df-quickchart-complete');\n",
              "    }\n",
              "    (() => {\n",
              "      let quickchartButtonEl =\n",
              "        document.querySelector('#df-b114c437-1234-4ebe-a24a-52e564b4f8f7 button');\n",
              "      quickchartButtonEl.style.display =\n",
              "        google.colab.kernel.accessAllowed ? 'block' : 'none';\n",
              "    })();\n",
              "  </script>\n",
              "</div>\n",
              "    </div>\n",
              "  </div>\n"
            ]
          },
          "metadata": {},
          "execution_count": 46
        }
      ]
    },
    {
      "cell_type": "markdown",
      "source": [
        "**Correction de Bonferroni**\n"
      ],
      "metadata": {
        "id": "O-kZIhz4XiNx"
      }
    },
    {
      "cell_type": "code",
      "source": [
        "pingouin.pairwise_tests(data=stack_overflow,dv=\"converted_comp\",between=\"job_sat\",padjust=\"bonf\")\n"
      ],
      "metadata": {
        "colab": {
          "base_uri": "https://localhost:8080/",
          "height": 554
        },
        "id": "VrdL_GRoXkSX",
        "outputId": "238bba88-0f0d-4126-a139-3f90346247c8"
      },
      "execution_count": null,
      "outputs": [
        {
          "output_type": "execute_result",
          "data": {
            "text/plain": [
              "  Contrast                   A                      B  Paired  Parametric  \\\n",
              "0  job_sat  Slightly satisfied         Very satisfied   False        True   \n",
              "1  job_sat  Slightly satisfied                Neither   False        True   \n",
              "2  job_sat  Slightly satisfied      Very dissatisfied   False        True   \n",
              "3  job_sat  Slightly satisfied  Slightly dissatisfied   False        True   \n",
              "4  job_sat      Very satisfied                Neither   False        True   \n",
              "5  job_sat      Very satisfied      Very dissatisfied   False        True   \n",
              "6  job_sat      Very satisfied  Slightly dissatisfied   False        True   \n",
              "7  job_sat             Neither      Very dissatisfied   False        True   \n",
              "8  job_sat             Neither  Slightly dissatisfied   False        True   \n",
              "9  job_sat   Very dissatisfied  Slightly dissatisfied   False        True   \n",
              "\n",
              "          T          dof alternative     p-unc    p-corr p-adjust     BF10  \\\n",
              "0 -4.009935  1478.622799   two-sided  0.000064  0.000638     bonf  158.564   \n",
              "1 -0.700752   258.204546   two-sided  0.484088  1.000000     bonf    0.114   \n",
              "2 -1.243665   187.153329   two-sided  0.215179  1.000000     bonf    0.208   \n",
              "3 -0.038264   569.926329   two-sided  0.969491  1.000000     bonf    0.074   \n",
              "4  1.662901   328.326639   two-sided  0.097286  0.972864     bonf    0.337   \n",
              "5  0.747379   221.666205   two-sided  0.455627  1.000000     bonf    0.126   \n",
              "6  3.076222   821.303063   two-sided  0.002166  0.021659     bonf     7.43   \n",
              "7 -0.545948   321.165726   two-sided  0.585481  1.000000     bonf    0.135   \n",
              "8  0.602209   367.730081   two-sided  0.547406  1.000000     bonf    0.118   \n",
              "9  1.129951   247.570187   two-sided  0.259590  1.000000     bonf    0.197   \n",
              "\n",
              "     hedges  \n",
              "0 -0.192931  \n",
              "1 -0.068513  \n",
              "2 -0.145624  \n",
              "3 -0.002719  \n",
              "4  0.120115  \n",
              "5  0.063479  \n",
              "6  0.173247  \n",
              "7 -0.058537  \n",
              "8  0.055707  \n",
              "9  0.119131  "
            ],
            "text/html": [
              "\n",
              "  <div id=\"df-833993ee-0b6b-4005-be9b-a5c42fae0956\" class=\"colab-df-container\">\n",
              "    <div>\n",
              "<style scoped>\n",
              "    .dataframe tbody tr th:only-of-type {\n",
              "        vertical-align: middle;\n",
              "    }\n",
              "\n",
              "    .dataframe tbody tr th {\n",
              "        vertical-align: top;\n",
              "    }\n",
              "\n",
              "    .dataframe thead th {\n",
              "        text-align: right;\n",
              "    }\n",
              "</style>\n",
              "<table border=\"1\" class=\"dataframe\">\n",
              "  <thead>\n",
              "    <tr style=\"text-align: right;\">\n",
              "      <th></th>\n",
              "      <th>Contrast</th>\n",
              "      <th>A</th>\n",
              "      <th>B</th>\n",
              "      <th>Paired</th>\n",
              "      <th>Parametric</th>\n",
              "      <th>T</th>\n",
              "      <th>dof</th>\n",
              "      <th>alternative</th>\n",
              "      <th>p-unc</th>\n",
              "      <th>p-corr</th>\n",
              "      <th>p-adjust</th>\n",
              "      <th>BF10</th>\n",
              "      <th>hedges</th>\n",
              "    </tr>\n",
              "  </thead>\n",
              "  <tbody>\n",
              "    <tr>\n",
              "      <th>0</th>\n",
              "      <td>job_sat</td>\n",
              "      <td>Slightly satisfied</td>\n",
              "      <td>Very satisfied</td>\n",
              "      <td>False</td>\n",
              "      <td>True</td>\n",
              "      <td>-4.009935</td>\n",
              "      <td>1478.622799</td>\n",
              "      <td>two-sided</td>\n",
              "      <td>0.000064</td>\n",
              "      <td>0.000638</td>\n",
              "      <td>bonf</td>\n",
              "      <td>158.564</td>\n",
              "      <td>-0.192931</td>\n",
              "    </tr>\n",
              "    <tr>\n",
              "      <th>1</th>\n",
              "      <td>job_sat</td>\n",
              "      <td>Slightly satisfied</td>\n",
              "      <td>Neither</td>\n",
              "      <td>False</td>\n",
              "      <td>True</td>\n",
              "      <td>-0.700752</td>\n",
              "      <td>258.204546</td>\n",
              "      <td>two-sided</td>\n",
              "      <td>0.484088</td>\n",
              "      <td>1.000000</td>\n",
              "      <td>bonf</td>\n",
              "      <td>0.114</td>\n",
              "      <td>-0.068513</td>\n",
              "    </tr>\n",
              "    <tr>\n",
              "      <th>2</th>\n",
              "      <td>job_sat</td>\n",
              "      <td>Slightly satisfied</td>\n",
              "      <td>Very dissatisfied</td>\n",
              "      <td>False</td>\n",
              "      <td>True</td>\n",
              "      <td>-1.243665</td>\n",
              "      <td>187.153329</td>\n",
              "      <td>two-sided</td>\n",
              "      <td>0.215179</td>\n",
              "      <td>1.000000</td>\n",
              "      <td>bonf</td>\n",
              "      <td>0.208</td>\n",
              "      <td>-0.145624</td>\n",
              "    </tr>\n",
              "    <tr>\n",
              "      <th>3</th>\n",
              "      <td>job_sat</td>\n",
              "      <td>Slightly satisfied</td>\n",
              "      <td>Slightly dissatisfied</td>\n",
              "      <td>False</td>\n",
              "      <td>True</td>\n",
              "      <td>-0.038264</td>\n",
              "      <td>569.926329</td>\n",
              "      <td>two-sided</td>\n",
              "      <td>0.969491</td>\n",
              "      <td>1.000000</td>\n",
              "      <td>bonf</td>\n",
              "      <td>0.074</td>\n",
              "      <td>-0.002719</td>\n",
              "    </tr>\n",
              "    <tr>\n",
              "      <th>4</th>\n",
              "      <td>job_sat</td>\n",
              "      <td>Very satisfied</td>\n",
              "      <td>Neither</td>\n",
              "      <td>False</td>\n",
              "      <td>True</td>\n",
              "      <td>1.662901</td>\n",
              "      <td>328.326639</td>\n",
              "      <td>two-sided</td>\n",
              "      <td>0.097286</td>\n",
              "      <td>0.972864</td>\n",
              "      <td>bonf</td>\n",
              "      <td>0.337</td>\n",
              "      <td>0.120115</td>\n",
              "    </tr>\n",
              "    <tr>\n",
              "      <th>5</th>\n",
              "      <td>job_sat</td>\n",
              "      <td>Very satisfied</td>\n",
              "      <td>Very dissatisfied</td>\n",
              "      <td>False</td>\n",
              "      <td>True</td>\n",
              "      <td>0.747379</td>\n",
              "      <td>221.666205</td>\n",
              "      <td>two-sided</td>\n",
              "      <td>0.455627</td>\n",
              "      <td>1.000000</td>\n",
              "      <td>bonf</td>\n",
              "      <td>0.126</td>\n",
              "      <td>0.063479</td>\n",
              "    </tr>\n",
              "    <tr>\n",
              "      <th>6</th>\n",
              "      <td>job_sat</td>\n",
              "      <td>Very satisfied</td>\n",
              "      <td>Slightly dissatisfied</td>\n",
              "      <td>False</td>\n",
              "      <td>True</td>\n",
              "      <td>3.076222</td>\n",
              "      <td>821.303063</td>\n",
              "      <td>two-sided</td>\n",
              "      <td>0.002166</td>\n",
              "      <td>0.021659</td>\n",
              "      <td>bonf</td>\n",
              "      <td>7.43</td>\n",
              "      <td>0.173247</td>\n",
              "    </tr>\n",
              "    <tr>\n",
              "      <th>7</th>\n",
              "      <td>job_sat</td>\n",
              "      <td>Neither</td>\n",
              "      <td>Very dissatisfied</td>\n",
              "      <td>False</td>\n",
              "      <td>True</td>\n",
              "      <td>-0.545948</td>\n",
              "      <td>321.165726</td>\n",
              "      <td>two-sided</td>\n",
              "      <td>0.585481</td>\n",
              "      <td>1.000000</td>\n",
              "      <td>bonf</td>\n",
              "      <td>0.135</td>\n",
              "      <td>-0.058537</td>\n",
              "    </tr>\n",
              "    <tr>\n",
              "      <th>8</th>\n",
              "      <td>job_sat</td>\n",
              "      <td>Neither</td>\n",
              "      <td>Slightly dissatisfied</td>\n",
              "      <td>False</td>\n",
              "      <td>True</td>\n",
              "      <td>0.602209</td>\n",
              "      <td>367.730081</td>\n",
              "      <td>two-sided</td>\n",
              "      <td>0.547406</td>\n",
              "      <td>1.000000</td>\n",
              "      <td>bonf</td>\n",
              "      <td>0.118</td>\n",
              "      <td>0.055707</td>\n",
              "    </tr>\n",
              "    <tr>\n",
              "      <th>9</th>\n",
              "      <td>job_sat</td>\n",
              "      <td>Very dissatisfied</td>\n",
              "      <td>Slightly dissatisfied</td>\n",
              "      <td>False</td>\n",
              "      <td>True</td>\n",
              "      <td>1.129951</td>\n",
              "      <td>247.570187</td>\n",
              "      <td>two-sided</td>\n",
              "      <td>0.259590</td>\n",
              "      <td>1.000000</td>\n",
              "      <td>bonf</td>\n",
              "      <td>0.197</td>\n",
              "      <td>0.119131</td>\n",
              "    </tr>\n",
              "  </tbody>\n",
              "</table>\n",
              "</div>\n",
              "    <div class=\"colab-df-buttons\">\n",
              "\n",
              "  <div class=\"colab-df-container\">\n",
              "    <button class=\"colab-df-convert\" onclick=\"convertToInteractive('df-833993ee-0b6b-4005-be9b-a5c42fae0956')\"\n",
              "            title=\"Convert this dataframe to an interactive table.\"\n",
              "            style=\"display:none;\">\n",
              "\n",
              "  <svg xmlns=\"http://www.w3.org/2000/svg\" height=\"24px\" viewBox=\"0 -960 960 960\">\n",
              "    <path d=\"M120-120v-720h720v720H120Zm60-500h600v-160H180v160Zm220 220h160v-160H400v160Zm0 220h160v-160H400v160ZM180-400h160v-160H180v160Zm440 0h160v-160H620v160ZM180-180h160v-160H180v160Zm440 0h160v-160H620v160Z\"/>\n",
              "  </svg>\n",
              "    </button>\n",
              "\n",
              "  <style>\n",
              "    .colab-df-container {\n",
              "      display:flex;\n",
              "      gap: 12px;\n",
              "    }\n",
              "\n",
              "    .colab-df-convert {\n",
              "      background-color: #E8F0FE;\n",
              "      border: none;\n",
              "      border-radius: 50%;\n",
              "      cursor: pointer;\n",
              "      display: none;\n",
              "      fill: #1967D2;\n",
              "      height: 32px;\n",
              "      padding: 0 0 0 0;\n",
              "      width: 32px;\n",
              "    }\n",
              "\n",
              "    .colab-df-convert:hover {\n",
              "      background-color: #E2EBFA;\n",
              "      box-shadow: 0px 1px 2px rgba(60, 64, 67, 0.3), 0px 1px 3px 1px rgba(60, 64, 67, 0.15);\n",
              "      fill: #174EA6;\n",
              "    }\n",
              "\n",
              "    .colab-df-buttons div {\n",
              "      margin-bottom: 4px;\n",
              "    }\n",
              "\n",
              "    [theme=dark] .colab-df-convert {\n",
              "      background-color: #3B4455;\n",
              "      fill: #D2E3FC;\n",
              "    }\n",
              "\n",
              "    [theme=dark] .colab-df-convert:hover {\n",
              "      background-color: #434B5C;\n",
              "      box-shadow: 0px 1px 3px 1px rgba(0, 0, 0, 0.15);\n",
              "      filter: drop-shadow(0px 1px 2px rgba(0, 0, 0, 0.3));\n",
              "      fill: #FFFFFF;\n",
              "    }\n",
              "  </style>\n",
              "\n",
              "    <script>\n",
              "      const buttonEl =\n",
              "        document.querySelector('#df-833993ee-0b6b-4005-be9b-a5c42fae0956 button.colab-df-convert');\n",
              "      buttonEl.style.display =\n",
              "        google.colab.kernel.accessAllowed ? 'block' : 'none';\n",
              "\n",
              "      async function convertToInteractive(key) {\n",
              "        const element = document.querySelector('#df-833993ee-0b6b-4005-be9b-a5c42fae0956');\n",
              "        const dataTable =\n",
              "          await google.colab.kernel.invokeFunction('convertToInteractive',\n",
              "                                                    [key], {});\n",
              "        if (!dataTable) return;\n",
              "\n",
              "        const docLinkHtml = 'Like what you see? Visit the ' +\n",
              "          '<a target=\"_blank\" href=https://colab.research.google.com/notebooks/data_table.ipynb>data table notebook</a>'\n",
              "          + ' to learn more about interactive tables.';\n",
              "        element.innerHTML = '';\n",
              "        dataTable['output_type'] = 'display_data';\n",
              "        await google.colab.output.renderOutput(dataTable, element);\n",
              "        const docLink = document.createElement('div');\n",
              "        docLink.innerHTML = docLinkHtml;\n",
              "        element.appendChild(docLink);\n",
              "      }\n",
              "    </script>\n",
              "  </div>\n",
              "\n",
              "\n",
              "<div id=\"df-985bda2c-9eeb-4a58-80a2-2965f9a139f8\">\n",
              "  <button class=\"colab-df-quickchart\" onclick=\"quickchart('df-985bda2c-9eeb-4a58-80a2-2965f9a139f8')\"\n",
              "            title=\"Suggest charts\"\n",
              "            style=\"display:none;\">\n",
              "\n",
              "<svg xmlns=\"http://www.w3.org/2000/svg\" height=\"24px\"viewBox=\"0 0 24 24\"\n",
              "     width=\"24px\">\n",
              "    <g>\n",
              "        <path d=\"M19 3H5c-1.1 0-2 .9-2 2v14c0 1.1.9 2 2 2h14c1.1 0 2-.9 2-2V5c0-1.1-.9-2-2-2zM9 17H7v-7h2v7zm4 0h-2V7h2v10zm4 0h-2v-4h2v4z\"/>\n",
              "    </g>\n",
              "</svg>\n",
              "  </button>\n",
              "\n",
              "<style>\n",
              "  .colab-df-quickchart {\n",
              "      --bg-color: #E8F0FE;\n",
              "      --fill-color: #1967D2;\n",
              "      --hover-bg-color: #E2EBFA;\n",
              "      --hover-fill-color: #174EA6;\n",
              "      --disabled-fill-color: #AAA;\n",
              "      --disabled-bg-color: #DDD;\n",
              "  }\n",
              "\n",
              "  [theme=dark] .colab-df-quickchart {\n",
              "      --bg-color: #3B4455;\n",
              "      --fill-color: #D2E3FC;\n",
              "      --hover-bg-color: #434B5C;\n",
              "      --hover-fill-color: #FFFFFF;\n",
              "      --disabled-bg-color: #3B4455;\n",
              "      --disabled-fill-color: #666;\n",
              "  }\n",
              "\n",
              "  .colab-df-quickchart {\n",
              "    background-color: var(--bg-color);\n",
              "    border: none;\n",
              "    border-radius: 50%;\n",
              "    cursor: pointer;\n",
              "    display: none;\n",
              "    fill: var(--fill-color);\n",
              "    height: 32px;\n",
              "    padding: 0;\n",
              "    width: 32px;\n",
              "  }\n",
              "\n",
              "  .colab-df-quickchart:hover {\n",
              "    background-color: var(--hover-bg-color);\n",
              "    box-shadow: 0 1px 2px rgba(60, 64, 67, 0.3), 0 1px 3px 1px rgba(60, 64, 67, 0.15);\n",
              "    fill: var(--button-hover-fill-color);\n",
              "  }\n",
              "\n",
              "  .colab-df-quickchart-complete:disabled,\n",
              "  .colab-df-quickchart-complete:disabled:hover {\n",
              "    background-color: var(--disabled-bg-color);\n",
              "    fill: var(--disabled-fill-color);\n",
              "    box-shadow: none;\n",
              "  }\n",
              "\n",
              "  .colab-df-spinner {\n",
              "    border: 2px solid var(--fill-color);\n",
              "    border-color: transparent;\n",
              "    border-bottom-color: var(--fill-color);\n",
              "    animation:\n",
              "      spin 1s steps(1) infinite;\n",
              "  }\n",
              "\n",
              "  @keyframes spin {\n",
              "    0% {\n",
              "      border-color: transparent;\n",
              "      border-bottom-color: var(--fill-color);\n",
              "      border-left-color: var(--fill-color);\n",
              "    }\n",
              "    20% {\n",
              "      border-color: transparent;\n",
              "      border-left-color: var(--fill-color);\n",
              "      border-top-color: var(--fill-color);\n",
              "    }\n",
              "    30% {\n",
              "      border-color: transparent;\n",
              "      border-left-color: var(--fill-color);\n",
              "      border-top-color: var(--fill-color);\n",
              "      border-right-color: var(--fill-color);\n",
              "    }\n",
              "    40% {\n",
              "      border-color: transparent;\n",
              "      border-right-color: var(--fill-color);\n",
              "      border-top-color: var(--fill-color);\n",
              "    }\n",
              "    60% {\n",
              "      border-color: transparent;\n",
              "      border-right-color: var(--fill-color);\n",
              "    }\n",
              "    80% {\n",
              "      border-color: transparent;\n",
              "      border-right-color: var(--fill-color);\n",
              "      border-bottom-color: var(--fill-color);\n",
              "    }\n",
              "    90% {\n",
              "      border-color: transparent;\n",
              "      border-bottom-color: var(--fill-color);\n",
              "    }\n",
              "  }\n",
              "</style>\n",
              "\n",
              "  <script>\n",
              "    async function quickchart(key) {\n",
              "      const quickchartButtonEl =\n",
              "        document.querySelector('#' + key + ' button');\n",
              "      quickchartButtonEl.disabled = true;  // To prevent multiple clicks.\n",
              "      quickchartButtonEl.classList.add('colab-df-spinner');\n",
              "      try {\n",
              "        const charts = await google.colab.kernel.invokeFunction(\n",
              "            'suggestCharts', [key], {});\n",
              "      } catch (error) {\n",
              "        console.error('Error during call to suggestCharts:', error);\n",
              "      }\n",
              "      quickchartButtonEl.classList.remove('colab-df-spinner');\n",
              "      quickchartButtonEl.classList.add('colab-df-quickchart-complete');\n",
              "    }\n",
              "    (() => {\n",
              "      let quickchartButtonEl =\n",
              "        document.querySelector('#df-985bda2c-9eeb-4a58-80a2-2965f9a139f8 button');\n",
              "      quickchartButtonEl.style.display =\n",
              "        google.colab.kernel.accessAllowed ? 'block' : 'none';\n",
              "    })();\n",
              "  </script>\n",
              "</div>\n",
              "    </div>\n",
              "  </div>\n"
            ]
          },
          "metadata": {},
          "execution_count": 47
        }
      ]
    },
    {
      "cell_type": "markdown",
      "source": [
        " Après application de l’ajustement de Bonferroni, les valeurs de p pour les tests t entre chacun des trois groupes sont toutes inférieures à 0,1."
      ],
      "metadata": {
        "id": "SY28xGiiY_yI"
      }
    },
    {
      "cell_type": "code",
      "source": [],
      "metadata": {
        "id": "R8mbYIxFYNbh"
      },
      "execution_count": null,
      "outputs": []
    }
  ]
}