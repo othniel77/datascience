{
  "nbformat": 4,
  "nbformat_minor": 0,
  "metadata": {
    "colab": {
      "provenance": [],
      "authorship_tag": "ABX9TyMLeM6uHVReexa0No5Rny43",
      "include_colab_link": true
    },
    "kernelspec": {
      "name": "python3",
      "display_name": "Python 3"
    },
    "language_info": {
      "name": "python"
    }
  },
  "cells": [
    {
      "cell_type": "markdown",
      "metadata": {
        "id": "view-in-github",
        "colab_type": "text"
      },
      "source": [
        "<a href=\"https://colab.research.google.com/github/othniel77/datascience/blob/main/data_cleaning_et_imputation.ipynb\" target=\"_parent\"><img src=\"https://colab.research.google.com/assets/colab-badge.svg\" alt=\"Open In Colab\"/></a>"
      ]
    },
    {
      "cell_type": "code",
      "execution_count": null,
      "metadata": {
        "id": "q4AXN7dJKl4H"
      },
      "outputs": [],
      "source": [
        "import pandas as pd"
      ]
    },
    {
      "cell_type": "code",
      "source": [
        "from google.colab import files\n",
        "data_to_load = files.upload()"
      ],
      "metadata": {
        "colab": {
          "base_uri": "https://localhost:8080/",
          "height": 73
        },
        "id": "JjP9uSedK4vj",
        "outputId": "1b3f9951-3a69-4f5d-d5eb-3e58ab75ee44"
      },
      "execution_count": null,
      "outputs": [
        {
          "output_type": "display_data",
          "data": {
            "text/plain": [
              "<IPython.core.display.HTML object>"
            ],
            "text/html": [
              "\n",
              "     <input type=\"file\" id=\"files-831efd27-8d0a-4955-a18c-252f3dfc19c1\" name=\"files[]\" multiple disabled\n",
              "        style=\"border:none\" />\n",
              "     <output id=\"result-831efd27-8d0a-4955-a18c-252f3dfc19c1\">\n",
              "      Upload widget is only available when the cell has been executed in the\n",
              "      current browser session. Please rerun this cell to enable.\n",
              "      </output>\n",
              "      <script>// Copyright 2017 Google LLC\n",
              "//\n",
              "// Licensed under the Apache License, Version 2.0 (the \"License\");\n",
              "// you may not use this file except in compliance with the License.\n",
              "// You may obtain a copy of the License at\n",
              "//\n",
              "//      http://www.apache.org/licenses/LICENSE-2.0\n",
              "//\n",
              "// Unless required by applicable law or agreed to in writing, software\n",
              "// distributed under the License is distributed on an \"AS IS\" BASIS,\n",
              "// WITHOUT WARRANTIES OR CONDITIONS OF ANY KIND, either express or implied.\n",
              "// See the License for the specific language governing permissions and\n",
              "// limitations under the License.\n",
              "\n",
              "/**\n",
              " * @fileoverview Helpers for google.colab Python module.\n",
              " */\n",
              "(function(scope) {\n",
              "function span(text, styleAttributes = {}) {\n",
              "  const element = document.createElement('span');\n",
              "  element.textContent = text;\n",
              "  for (const key of Object.keys(styleAttributes)) {\n",
              "    element.style[key] = styleAttributes[key];\n",
              "  }\n",
              "  return element;\n",
              "}\n",
              "\n",
              "// Max number of bytes which will be uploaded at a time.\n",
              "const MAX_PAYLOAD_SIZE = 100 * 1024;\n",
              "\n",
              "function _uploadFiles(inputId, outputId) {\n",
              "  const steps = uploadFilesStep(inputId, outputId);\n",
              "  const outputElement = document.getElementById(outputId);\n",
              "  // Cache steps on the outputElement to make it available for the next call\n",
              "  // to uploadFilesContinue from Python.\n",
              "  outputElement.steps = steps;\n",
              "\n",
              "  return _uploadFilesContinue(outputId);\n",
              "}\n",
              "\n",
              "// This is roughly an async generator (not supported in the browser yet),\n",
              "// where there are multiple asynchronous steps and the Python side is going\n",
              "// to poll for completion of each step.\n",
              "// This uses a Promise to block the python side on completion of each step,\n",
              "// then passes the result of the previous step as the input to the next step.\n",
              "function _uploadFilesContinue(outputId) {\n",
              "  const outputElement = document.getElementById(outputId);\n",
              "  const steps = outputElement.steps;\n",
              "\n",
              "  const next = steps.next(outputElement.lastPromiseValue);\n",
              "  return Promise.resolve(next.value.promise).then((value) => {\n",
              "    // Cache the last promise value to make it available to the next\n",
              "    // step of the generator.\n",
              "    outputElement.lastPromiseValue = value;\n",
              "    return next.value.response;\n",
              "  });\n",
              "}\n",
              "\n",
              "/**\n",
              " * Generator function which is called between each async step of the upload\n",
              " * process.\n",
              " * @param {string} inputId Element ID of the input file picker element.\n",
              " * @param {string} outputId Element ID of the output display.\n",
              " * @return {!Iterable<!Object>} Iterable of next steps.\n",
              " */\n",
              "function* uploadFilesStep(inputId, outputId) {\n",
              "  const inputElement = document.getElementById(inputId);\n",
              "  inputElement.disabled = false;\n",
              "\n",
              "  const outputElement = document.getElementById(outputId);\n",
              "  outputElement.innerHTML = '';\n",
              "\n",
              "  const pickedPromise = new Promise((resolve) => {\n",
              "    inputElement.addEventListener('change', (e) => {\n",
              "      resolve(e.target.files);\n",
              "    });\n",
              "  });\n",
              "\n",
              "  const cancel = document.createElement('button');\n",
              "  inputElement.parentElement.appendChild(cancel);\n",
              "  cancel.textContent = 'Cancel upload';\n",
              "  const cancelPromise = new Promise((resolve) => {\n",
              "    cancel.onclick = () => {\n",
              "      resolve(null);\n",
              "    };\n",
              "  });\n",
              "\n",
              "  // Wait for the user to pick the files.\n",
              "  const files = yield {\n",
              "    promise: Promise.race([pickedPromise, cancelPromise]),\n",
              "    response: {\n",
              "      action: 'starting',\n",
              "    }\n",
              "  };\n",
              "\n",
              "  cancel.remove();\n",
              "\n",
              "  // Disable the input element since further picks are not allowed.\n",
              "  inputElement.disabled = true;\n",
              "\n",
              "  if (!files) {\n",
              "    return {\n",
              "      response: {\n",
              "        action: 'complete',\n",
              "      }\n",
              "    };\n",
              "  }\n",
              "\n",
              "  for (const file of files) {\n",
              "    const li = document.createElement('li');\n",
              "    li.append(span(file.name, {fontWeight: 'bold'}));\n",
              "    li.append(span(\n",
              "        `(${file.type || 'n/a'}) - ${file.size} bytes, ` +\n",
              "        `last modified: ${\n",
              "            file.lastModifiedDate ? file.lastModifiedDate.toLocaleDateString() :\n",
              "                                    'n/a'} - `));\n",
              "    const percent = span('0% done');\n",
              "    li.appendChild(percent);\n",
              "\n",
              "    outputElement.appendChild(li);\n",
              "\n",
              "    const fileDataPromise = new Promise((resolve) => {\n",
              "      const reader = new FileReader();\n",
              "      reader.onload = (e) => {\n",
              "        resolve(e.target.result);\n",
              "      };\n",
              "      reader.readAsArrayBuffer(file);\n",
              "    });\n",
              "    // Wait for the data to be ready.\n",
              "    let fileData = yield {\n",
              "      promise: fileDataPromise,\n",
              "      response: {\n",
              "        action: 'continue',\n",
              "      }\n",
              "    };\n",
              "\n",
              "    // Use a chunked sending to avoid message size limits. See b/62115660.\n",
              "    let position = 0;\n",
              "    do {\n",
              "      const length = Math.min(fileData.byteLength - position, MAX_PAYLOAD_SIZE);\n",
              "      const chunk = new Uint8Array(fileData, position, length);\n",
              "      position += length;\n",
              "\n",
              "      const base64 = btoa(String.fromCharCode.apply(null, chunk));\n",
              "      yield {\n",
              "        response: {\n",
              "          action: 'append',\n",
              "          file: file.name,\n",
              "          data: base64,\n",
              "        },\n",
              "      };\n",
              "\n",
              "      let percentDone = fileData.byteLength === 0 ?\n",
              "          100 :\n",
              "          Math.round((position / fileData.byteLength) * 100);\n",
              "      percent.textContent = `${percentDone}% done`;\n",
              "\n",
              "    } while (position < fileData.byteLength);\n",
              "  }\n",
              "\n",
              "  // All done.\n",
              "  yield {\n",
              "    response: {\n",
              "      action: 'complete',\n",
              "    }\n",
              "  };\n",
              "}\n",
              "\n",
              "scope.google = scope.google || {};\n",
              "scope.google.colab = scope.google.colab || {};\n",
              "scope.google.colab._files = {\n",
              "  _uploadFiles,\n",
              "  _uploadFilesContinue,\n",
              "};\n",
              "})(self);\n",
              "</script> "
            ]
          },
          "metadata": {}
        },
        {
          "output_type": "stream",
          "name": "stdout",
          "text": [
            "Saving divorce.csv to divorce.csv\n"
          ]
        }
      ]
    },
    {
      "cell_type": "code",
      "source": [
        "planes = pd.read_csv('/content/planes.csv')\n",
        "print(planes.head())"
      ],
      "metadata": {
        "colab": {
          "base_uri": "https://localhost:8080/"
        },
        "id": "c3dWBYOaLYeK",
        "outputId": "1730925d-4ab2-40c6-fec3-3421be1c6931"
      },
      "execution_count": null,
      "outputs": [
        {
          "output_type": "stream",
          "name": "stdout",
          "text": [
            "       Airline Date_of_Journey    Source Destination                  Route  \\\n",
            "0  Jet Airways       9/06/2019     Delhi      Cochin  DEL → LKO → BOM → COK   \n",
            "1       IndiGo      12/05/2019   Kolkata    Banglore        CCU → NAG → BLR   \n",
            "2       IndiGo      01/03/2019  Banglore   New Delhi        BLR → NAG → DEL   \n",
            "3     SpiceJet      24/06/2019   Kolkata    Banglore              CCU → BLR   \n",
            "4  Jet Airways      12/03/2019  Banglore   New Delhi        BLR → BOM → DEL   \n",
            "\n",
            "  Dep_Time  Arrival_Time Duration Total_Stops              Additional_Info  \\\n",
            "0    09:25  04:25 10 Jun      19h     2 stops                      No info   \n",
            "1    18:05         23:30   5h 25m      1 stop                      No info   \n",
            "2    16:50         21:35   4h 45m      1 stop                      No info   \n",
            "3    09:00         11:25   2h 25m    non-stop                      No info   \n",
            "4    18:55  10:25 13 Mar  15h 30m      1 stop  In-flight meal not included   \n",
            "\n",
            "     Price  \n",
            "0  13882.0  \n",
            "1   6218.0  \n",
            "2  13302.0  \n",
            "3   3873.0  \n",
            "4  11087.0  \n"
          ]
        }
      ]
    },
    {
      "cell_type": "code",
      "source": [
        "planes.info()"
      ],
      "metadata": {
        "colab": {
          "base_uri": "https://localhost:8080/"
        },
        "id": "AYQRB-LALnDR",
        "outputId": "de6cecbb-511b-4438-8fbe-57e22c79e992"
      },
      "execution_count": null,
      "outputs": [
        {
          "output_type": "stream",
          "name": "stdout",
          "text": [
            "<class 'pandas.core.frame.DataFrame'>\n",
            "RangeIndex: 10660 entries, 0 to 10659\n",
            "Data columns (total 11 columns):\n",
            " #   Column           Non-Null Count  Dtype  \n",
            "---  ------           --------------  -----  \n",
            " 0   Airline          10233 non-null  object \n",
            " 1   Date_of_Journey  10338 non-null  object \n",
            " 2   Source           10473 non-null  object \n",
            " 3   Destination      10313 non-null  object \n",
            " 4   Route            10404 non-null  object \n",
            " 5   Dep_Time         10400 non-null  object \n",
            " 6   Arrival_Time     10466 non-null  object \n",
            " 7   Duration         10446 non-null  object \n",
            " 8   Total_Stops      10448 non-null  object \n",
            " 9   Additional_Info  10071 non-null  object \n",
            " 10  Price            10044 non-null  float64\n",
            "dtypes: float64(1), object(10)\n",
            "memory usage: 916.2+ KB\n"
          ]
        }
      ]
    },
    {
      "cell_type": "markdown",
      "source": [
        "##2.2.1 **Dealing with missing data**"
      ],
      "metadata": {
        "id": "UJTkFZBAMNUA"
      }
    },
    {
      "cell_type": "code",
      "source": [
        "# Count the number of missing values in each column\n",
        "print(planes.isna().sum())"
      ],
      "metadata": {
        "colab": {
          "base_uri": "https://localhost:8080/"
        },
        "id": "C5k1eQsMLYTe",
        "outputId": "45853e29-92fc-4c7f-9ad3-056df2b13659"
      },
      "execution_count": null,
      "outputs": [
        {
          "output_type": "stream",
          "name": "stdout",
          "text": [
            "Airline            427\n",
            "Date_of_Journey    322\n",
            "Source             187\n",
            "Destination        347\n",
            "Route              256\n",
            "Dep_Time           260\n",
            "Arrival_Time       194\n",
            "Duration           214\n",
            "Total_Stops        212\n",
            "Additional_Info    589\n",
            "Price              616\n",
            "dtype: int64\n"
          ]
        }
      ]
    },
    {
      "cell_type": "code",
      "source": [
        "# Find the five percent threshold\n",
        "threshold = len(planes) * 0.05\n",
        "# Create a filter\n",
        "cols_to_drop = planes.columns[planes.isna().sum() <= threshold]\n",
        "\n",
        "# Drop missing values for columns below the threshold\n",
        "planes.dropna(subset=cols_to_drop, inplace=True)\n",
        "\n",
        "print(planes.isna().sum())"
      ],
      "metadata": {
        "colab": {
          "base_uri": "https://localhost:8080/"
        },
        "id": "1jK0xK4cL-Xs",
        "outputId": "ff4bffc7-f3f7-4d58-acb4-56451d3ba6a6"
      },
      "execution_count": null,
      "outputs": [
        {
          "output_type": "stream",
          "name": "stdout",
          "text": [
            "Airline              0\n",
            "Date_of_Journey      0\n",
            "Source               0\n",
            "Destination          0\n",
            "Route                0\n",
            "Dep_Time             0\n",
            "Arrival_Time         0\n",
            "Duration             0\n",
            "Total_Stops          0\n",
            "Additional_Info    300\n",
            "Price              368\n",
            "dtype: int64\n"
          ]
        }
      ]
    },
    {
      "cell_type": "markdown",
      "source": [
        "By creating a missing values threshold and using it to filter columns, you've managed to remove missing values from all columns except for \"Additional_Info\" and \"Price\""
      ],
      "metadata": {
        "id": "9DplkfwNMnjQ"
      }
    },
    {
      "cell_type": "code",
      "source": [
        "# Check the values of the Additional_Info column\n",
        "print(planes.value_counts([\"Additional_Info\"]))"
      ],
      "metadata": {
        "colab": {
          "base_uri": "https://localhost:8080/"
        },
        "id": "kIJ2b16KNKK3",
        "outputId": "4b663738-5086-4ebd-ded9-599e0d3de871"
      },
      "execution_count": null,
      "outputs": [
        {
          "output_type": "stream",
          "name": "stdout",
          "text": [
            "Additional_Info             \n",
            "No info                         6399\n",
            "In-flight meal not included     1525\n",
            "No check-in baggage included     258\n",
            "1 Long layover                    14\n",
            "Change airports                    7\n",
            "No Info                            2\n",
            "2 Long layover                     1\n",
            "Business class                     1\n",
            "Red-eye flight                     1\n",
            "dtype: int64\n"
          ]
        }
      ]
    },
    {
      "cell_type": "code",
      "source": [
        "import matplotlib.pyplot as plt\n",
        "import seaborn as sns"
      ],
      "metadata": {
        "id": "vpu7s1jnNgQV"
      },
      "execution_count": null,
      "outputs": []
    },
    {
      "cell_type": "code",
      "source": [
        "# Create a box plot of Price by Airline\n",
        "sns.boxplot(data=planes, x=\"Airline\", y=\"Price\")\n",
        "\n",
        "plt.show()"
      ],
      "metadata": {
        "colab": {
          "base_uri": "https://localhost:8080/",
          "height": 449
        },
        "id": "ac2mljp-NeO_",
        "outputId": "3b389587-fa34-42e0-9622-7fe01018c0d5"
      },
      "execution_count": null,
      "outputs": [
        {
          "output_type": "display_data",
          "data": {
            "text/plain": [
              "<Figure size 640x480 with 1 Axes>"
            ],
            "image/png": "[encoded data removed]"
          },
          "metadata": {}
        }
      ]
    },
    {
      "cell_type": "markdown",
      "source": [
        "### 2.2.2. **Imputing missing plane prices**"
      ],
      "metadata": {
        "id": "k9h2gOyJN7rK"
      }
    },
    {
      "cell_type": "code",
      "source": [
        "# Calculate median plane ticket prices by Airline\n",
        "airline_prices = planes.groupby(\"Airline\")[\"Price\"].median()\n",
        "\n",
        "print(airline_prices)"
      ],
      "metadata": {
        "colab": {
          "base_uri": "https://localhost:8080/"
        },
        "id": "Aj1BnaUpODay",
        "outputId": "01c313b4-3d41-4d2d-b0ce-caa9cf03c374"
      },
      "execution_count": null,
      "outputs": [
        {
          "output_type": "stream",
          "name": "stdout",
          "text": [
            "Airline\n",
            "Air Asia              5192.0\n",
            "Air India             9443.0\n",
            "GoAir                 5003.5\n",
            "IndiGo                5054.0\n",
            "Jet Airways          11507.0\n",
            "Multiple carriers    10197.0\n",
            "SpiceJet              3873.0\n",
            "Vistara               8028.0\n",
            "Name: Price, dtype: float64\n"
          ]
        }
      ]
    },
    {
      "cell_type": "code",
      "source": [
        "# Convert to a dictionary\n",
        "prices_dict = airline_prices.to_dict()\n",
        "\n",
        "# Map the dictionary to missing values of Price by Airline\n",
        "planes[\"Price\"] = planes[\"Price\"].fillna(planes[\"Airline\"].map(prices_dict))\n",
        "\n",
        "# Check for missing values\n",
        "print(planes.isna().sum())"
      ],
      "metadata": {
        "colab": {
          "base_uri": "https://localhost:8080/"
        },
        "id": "3ypWc76dOQVy",
        "outputId": "942ec54b-3950-4354-b8b7-ebb40b3b8b91"
      },
      "execution_count": null,
      "outputs": [
        {
          "output_type": "stream",
          "name": "stdout",
          "text": [
            "Airline              0\n",
            "Date_of_Journey      0\n",
            "Source               0\n",
            "Destination          0\n",
            "Route                0\n",
            "Dep_Time             0\n",
            "Arrival_Time         0\n",
            "Duration             0\n",
            "Total_Stops          0\n",
            "Additional_Info    300\n",
            "Price                0\n",
            "dtype: int64\n"
          ]
        }
      ]
    },
    {
      "cell_type": "markdown",
      "source": [
        "##  2.2.3. **Finding the number of unique values**"
      ],
      "metadata": {
        "id": "KOarVOHPPosm"
      }
    },
    {
      "cell_type": "code",
      "source": [
        "# Filter the DataFrame for object columns\n",
        "non_numeric = planes.select_dtypes(\"object\")\n",
        "\n",
        "# Loop through columns\n",
        "for col in non_numeric.columns:\n",
        "\n",
        "  # Print the number of unique values\n",
        "  print(f\"Number of unique values in {col} column: \", non_numeric[col].nunique())"
      ],
      "metadata": {
        "colab": {
          "base_uri": "https://localhost:8080/"
        },
        "id": "W4yDcgiqPnyv",
        "outputId": "02e999b6-3281-4861-a457-a55816565ade"
      },
      "execution_count": null,
      "outputs": [
        {
          "output_type": "stream",
          "name": "stdout",
          "text": [
            "Number of unique values in Airline column:  8\n",
            "Number of unique values in Date_of_Journey column:  44\n",
            "Number of unique values in Source column:  5\n",
            "Number of unique values in Destination column:  6\n",
            "Number of unique values in Route column:  122\n",
            "Number of unique values in Dep_Time column:  218\n",
            "Number of unique values in Arrival_Time column:  1220\n",
            "Number of unique values in Duration column:  362\n",
            "Number of unique values in Total_Stops column:  5\n",
            "Number of unique values in Additional_Info column:  9\n"
          ]
        }
      ]
    },
    {
      "cell_type": "markdown",
      "source": [
        "Interestingly, \"Duration\" is currently an object column whereas it should be a numeric column, and has 362 unique values! Let's find out more about this column."
      ],
      "metadata": {
        "id": "e7sF_LhbQJS3"
      }
    },
    {
      "cell_type": "markdown",
      "source": [
        "### 2.2.4. **Flight duration categories**"
      ],
      "metadata": {
        "id": "lujAlwv_QqfD"
      }
    },
    {
      "cell_type": "code",
      "source": [
        "# Create a list of categories\n",
        "flight_categories = [\"Short-haul\", \"Medium\",\"Long-haul\"]\n",
        "# Create short_flights\n",
        "short_flights = \"^0h|^1h|^2h|^3h|^4h\"\n",
        "\n",
        "# Create medium_flights\n",
        "medium_flights = \"^5h|^6h|^7h|^8h|^9h\"\n",
        "\n",
        "# Create long_flights\n",
        "long_flights = \"10h|11h|12h|13h|14h|15h|16h\"\n"
      ],
      "metadata": {
        "id": "vQuUklxSQaDh"
      },
      "execution_count": null,
      "outputs": []
    },
    {
      "cell_type": "code",
      "source": [
        "import numpy as np"
      ],
      "metadata": {
        "id": "6J337pxLREY-"
      },
      "execution_count": null,
      "outputs": []
    },
    {
      "cell_type": "code",
      "source": [
        "# Create conditions for values in flight_categories to be created\n",
        "conditions = [\n",
        "    (planes[\"Duration\"].str.contains(short_flights)),\n",
        "    (planes[\"Duration\"].str.contains(medium_flights)),\n",
        "    (planes[\"Duration\"].str.contains(long_flights))\n",
        "]\n",
        "\n",
        "# Apply the conditions list to the flight_categories\n",
        "planes[\"Duration_Category\"] = np.select(conditions,\n",
        "                                        flight_categories,\n",
        "                                        default=\"Extreme duration\")\n",
        "\n",
        "# Plot the counts of each category\n",
        "sns.countplot(data=planes, x=\"Duration_Category\")\n",
        "plt.show()"
      ],
      "metadata": {
        "colab": {
          "base_uri": "https://localhost:8080/",
          "height": 450
        },
        "id": "cK-W1TCURBUU",
        "outputId": "4499491d-24f7-41cf-8113-0365287e258a"
      },
      "execution_count": null,
      "outputs": [
        {
          "output_type": "display_data",
          "data": {
            "text/plain": [
              "<Figure size 640x480 with 1 Axes>"
            ],
            "image/png": "[encoded data removed]"
          },
          "metadata": {}
        }
      ]
    },
    {
      "cell_type": "markdown",
      "source": [
        "It's clear that the majority of flights are short-haul, and virtually none are longer than 16 hours!"
      ],
      "metadata": {
        "id": "dsUC6xC-RcxR"
      }
    },
    {
      "cell_type": "code",
      "source": [
        "# Preview the column\n",
        "print(planes[\"Duration\"].head())"
      ],
      "metadata": {
        "colab": {
          "base_uri": "https://localhost:8080/"
        },
        "id": "enkLKRF6Rd29",
        "outputId": "e5715a56-a942-4818-d259-a273688a807b"
      },
      "execution_count": null,
      "outputs": [
        {
          "output_type": "stream",
          "name": "stdout",
          "text": [
            "0        19h\n",
            "1     5h 25m\n",
            "2     4h 45m\n",
            "3     2h 25m\n",
            "4    15h 30m\n",
            "Name: Duration, dtype: object\n"
          ]
        }
      ]
    },
    {
      "cell_type": "code",
      "source": [
        "# Remove the string character\n",
        "#planes[\"Duration\"] = planes[\"Duration\"].str.replace(\"h\",\"\")\n",
        "\n",
        "\n",
        "# Convert to float data type\n",
        "#planes[\"Duration\"] = planes[\"Duration\"].astype(float)\n",
        "# Plot a histogram\n",
        "sns.histplot(data=planes,x='Duration')\n",
        "plt.show()"
      ],
      "metadata": {
        "colab": {
          "base_uri": "https://localhost:8080/",
          "height": 449
        },
        "id": "ynydDTB_RuIG",
        "outputId": "d5a589cc-6118-47f5-9c3d-c784e6232afb"
      },
      "execution_count": null,
      "outputs": [
        {
          "output_type": "display_data",
          "data": {
            "text/plain": [
              "<Figure size 640x480 with 1 Axes>"
            ],
            "image/png": "[encoded data removed]"
          },
          "metadata": {}
        }
      ]
    },
    {
      "cell_type": "markdown",
      "source": [
        "## **Adding descriptive statistics : the use lambda**"
      ],
      "metadata": {
        "id": "azrPlBijTnSa"
      }
    },
    {
      "cell_type": "code",
      "source": [
        "# Price standard deviation by Airline\n",
        "planes[\"airline_price_st_dev\"] = planes.groupby(\"Airline\")[\"Price\"].transform(lambda x: x.std())\n",
        "\n",
        "print(planes[[\"Airline\", \"airline_price_st_dev\"]].value_counts())"
      ],
      "metadata": {
        "colab": {
          "base_uri": "https://localhost:8080/"
        },
        "id": "-peMMjwwTjHL",
        "outputId": "d31f9f50-e605-45ef-9a51-69014efc964d"
      },
      "execution_count": null,
      "outputs": [
        {
          "output_type": "stream",
          "name": "stdout",
          "text": [
            "Airline            airline_price_st_dev\n",
            "Jet Airways        4159.846432             3082\n",
            "IndiGo             2245.529140             1632\n",
            "Air India          3692.609285             1399\n",
            "Multiple carriers  3558.323763              959\n",
            "SpiceJet           1798.900648              653\n",
            "Vistara            2888.915498              376\n",
            "Air Asia           1979.826234              260\n",
            "GoAir              2764.926625              147\n",
            "dtype: int64\n"
          ]
        }
      ]
    },
    {
      "cell_type": "code",
      "source": [
        "# Median Duration by Airline\n",
        "planes[\"airline_median_duration\"] = planes.groupby(\"Airline\")[\"Price\"].transform(lambda x: x.median())\n",
        "\n",
        "print(planes[[\"Airline\",\"airline_median_duration\"]].value_counts())"
      ],
      "metadata": {
        "colab": {
          "base_uri": "https://localhost:8080/"
        },
        "id": "nX0Yh8VLUZvv",
        "outputId": "16d4eed9-6106-43a9-c469-36e8341b0132"
      },
      "execution_count": null,
      "outputs": [
        {
          "output_type": "stream",
          "name": "stdout",
          "text": [
            "Airline            airline_median_duration\n",
            "Jet Airways        11507.0                    3082\n",
            "IndiGo             5054.0                     1632\n",
            "Air India          9443.0                     1399\n",
            "Multiple carriers  10197.0                     959\n",
            "SpiceJet           3873.0                      653\n",
            "Vistara            8028.0                      376\n",
            "Air Asia           5192.0                      260\n",
            "GoAir              5003.5                      147\n",
            "dtype: int64\n"
          ]
        }
      ]
    },
    {
      "cell_type": "code",
      "source": [
        "# Mean Price by Destination\n",
        "planes[\"price_destination_mean\"] = planes.groupby(\"Destination\")[\"Price\"].transform(lambda x: x.mean())\n",
        "\n",
        "print(planes[[\"Destination\",\"price_destination_mean\"]].value_counts())"
      ],
      "metadata": {
        "colab": {
          "base_uri": "https://localhost:8080/"
        },
        "id": "0GvOLQqjUuUr",
        "outputId": "0a354d3b-3316-4eb0-ce23-3e72f9204998"
      },
      "execution_count": null,
      "outputs": [
        {
          "output_type": "stream",
          "name": "stdout",
          "text": [
            "Destination  price_destination_mean\n",
            "Cochin       10473.585927              3631\n",
            "Banglore     9093.622872               2291\n",
            "Delhi        5248.541082                998\n",
            "New Delhi    11579.306944               720\n",
            "Hyderabad    5190.274021                562\n",
            "Kolkata      4907.156863                306\n",
            "dtype: int64\n"
          ]
        }
      ]
    },
    {
      "cell_type": "markdown",
      "source": [
        "Looks like Jet Airways has the largest standard deviation in price, Air India has the largest median duration, and New Delhi, on average, is the most expensive destination."
      ],
      "metadata": {
        "id": "pEz1eFiXU44O"
      }
    },
    {
      "cell_type": "markdown",
      "source": [
        "## 2.2.4. **Identifying outliers**"
      ],
      "metadata": {
        "id": "nwGYeUlnVK4p"
      }
    },
    {
      "cell_type": "code",
      "source": [
        "# Plot a histogram of flight prices\n",
        "sns.histplot(data=planes,x=\"Price\")\n",
        "plt.show()"
      ],
      "metadata": {
        "colab": {
          "base_uri": "https://localhost:8080/",
          "height": 449
        },
        "id": "VNP9zEJzU6fi",
        "outputId": "f4b47b8f-91ac-4089-85de-bde62a61a825"
      },
      "execution_count": null,
      "outputs": [
        {
          "output_type": "display_data",
          "data": {
            "text/plain": [
              "<Figure size 640x480 with 1 Axes>"
            ],
            "image/png": "[encoded data removed]"
          },
          "metadata": {}
        }
      ]
    },
    {
      "cell_type": "code",
      "source": [
        "# Display descriptive statistics for flight duration\n",
        "print(planes[\"Duration\"].describe())"
      ],
      "metadata": {
        "colab": {
          "base_uri": "https://localhost:8080/"
        },
        "id": "Yz64xOTtVg5w",
        "outputId": "a8d47510-e263-4266-d4c2-a06faae94528"
      },
      "execution_count": null,
      "outputs": [
        {
          "output_type": "stream",
          "name": "stdout",
          "text": [
            "count       8508\n",
            "unique       362\n",
            "top       2h 50m\n",
            "freq         425\n",
            "Name: Duration, dtype: object\n"
          ]
        }
      ]
    },
    {
      "cell_type": "markdown",
      "source": [
        "## 2.2.4. **Removing outliers**"
      ],
      "metadata": {
        "id": "Vvjf4tERVub3"
      }
    },
    {
      "cell_type": "code",
      "source": [
        "# Find the 75th and 25th percentiles\n",
        "price_seventy_fifth = planes[\"Price\"].quantile(0.75)\n",
        "price_twenty_fifth = planes[\"Price\"].quantile(0.25)"
      ],
      "metadata": {
        "id": "1uUlOmzfV2Ge"
      },
      "execution_count": null,
      "outputs": []
    },
    {
      "cell_type": "code",
      "source": [
        "# Find the 75th and 25th percentiles\n",
        "price_upper_perc = planes[\"Price\"].quantile(0.75)\n",
        "price_lower_perc = planes[\"Price\"].quantile(0.25)\n",
        "\n",
        "# Calculate iqr\n",
        "prices_iqr = price_upper_perc - price_lower_perc\n"
      ],
      "metadata": {
        "id": "IIQv9X_TV-u_"
      },
      "execution_count": null,
      "outputs": []
    },
    {
      "cell_type": "code",
      "source": [
        "# Find the 75th and 25th percentiles\n",
        "price_seventy_fifth = planes[\"Price\"].quantile(0.75)\n",
        "price_twenty_fifth = planes[\"Price\"].quantile(0.25)\n",
        "\n",
        "# Calculate iqr\n",
        "prices_iqr = price_seventy_fifth - price_twenty_fifth\n",
        "\n",
        "# Calculate the thresholds\n",
        "upper = price_seventy_fifth + (1.5 * prices_iqr)\n",
        "lower = price_twenty_fifth - (1.5 * prices_iqr)"
      ],
      "metadata": {
        "id": "_Om9zeCHWMKW"
      },
      "execution_count": null,
      "outputs": []
    },
    {
      "cell_type": "code",
      "source": [
        "# Subset the data\n",
        "planes = planes[(planes[\"Price\"] > lower) & (planes[\"Price\"] < upper)]\n",
        "\n",
        "print(planes[\"Price\"].describe())"
      ],
      "metadata": {
        "colab": {
          "base_uri": "https://localhost:8080/"
        },
        "id": "elLTjuTZWPhp",
        "outputId": "d52aff36-515e-4d0e-f574-d1c730392044"
      },
      "execution_count": null,
      "outputs": [
        {
          "output_type": "stream",
          "name": "stdout",
          "text": [
            "count     8438.000000\n",
            "mean      8877.466046\n",
            "std       4001.838236\n",
            "min       1759.000000\n",
            "25%       5224.000000\n",
            "50%       8372.000000\n",
            "75%      12121.000000\n",
            "max      22270.000000\n",
            "Name: Price, dtype: float64\n"
          ]
        }
      ]
    },
    {
      "cell_type": "markdown",
      "source": [
        "Originally the dataset had a maximum price of almost 55000, but the output of planes.describe() shows the maximum has been reduced to around 23000, reflecting a less skewed distribution for analysis!"
      ],
      "metadata": {
        "id": "UZCFkPqAX-6p"
      }
    },
    {
      "cell_type": "code",
      "source": [],
      "metadata": {
        "id": "kDDyRCKZYAgQ"
      },
      "execution_count": null,
      "outputs": []
    }
  ]
}