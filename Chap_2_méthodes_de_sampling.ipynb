{
  "nbformat": 4,
  "nbformat_minor": 0,
  "metadata": {
    "colab": {
      "provenance": [],
      "authorship_tag": "ABX9TyMCDn/m1+P+KzEVsgkdF6xz",
      "include_colab_link": true
    },
    "kernelspec": {
      "name": "python3",
      "display_name": "Python 3"
    },
    "language_info": {
      "name": "python"
    }
  },
  "cells": [
    {
      "cell_type": "markdown",
      "metadata": {
        "id": "view-in-github",
        "colab_type": "text"
      },
      "source": [
        "<a href=\"https://colab.research.google.com/github/othniel77/datascience/blob/main/Chap_2_m%C3%A9thodes_de_sampling.ipynb\" target=\"_parent\"><img src=\"https://colab.research.google.com/assets/colab-badge.svg\" alt=\"Open In Colab\"/></a>"
      ]
    },
    {
      "cell_type": "code",
      "execution_count": null,
      "metadata": {
        "id": "eFJF4omHo3PZ"
      },
      "outputs": [],
      "source": [
        "import pandas as pd"
      ]
    },
    {
      "cell_type": "code",
      "source": [
        "from google.colab import files\n",
        "data_to_load = files.upload()"
      ],
      "metadata": {
        "colab": {
          "base_uri": "https://localhost:8080/",
          "height": 73
        },
        "id": "gRxdsGxHpc-f",
        "outputId": "1677cfe4-708e-4a8e-cb3f-9fa2cd94fe48"
      },
      "execution_count": null,
      "outputs": [
        {
          "output_type": "display_data",
          "data": {
            "text/plain": [
              "<IPython.core.display.HTML object>"
            ],
            "text/html": [
              "\n",
              "     <input type=\"file\" id=\"files-1a00eeda-426a-4247-bcd1-074f505e78ae\" name=\"files[]\" multiple disabled\n",
              "        style=\"border:none\" />\n",
              "     <output id=\"result-1a00eeda-426a-4247-bcd1-074f505e78ae\">\n",
              "      Upload widget is only available when the cell has been executed in the\n",
              "      current browser session. Please rerun this cell to enable.\n",
              "      </output>\n",
              "      <script>// Copyright 2017 Google LLC\n",
              "//\n",
              "// Licensed under the Apache License, Version 2.0 (the \"License\");\n",
              "// you may not use this file except in compliance with the License.\n",
              "// You may obtain a copy of the License at\n",
              "//\n",
              "//      http://www.apache.org/licenses/LICENSE-2.0\n",
              "//\n",
              "// Unless required by applicable law or agreed to in writing, software\n",
              "// distributed under the License is distributed on an \"AS IS\" BASIS,\n",
              "// WITHOUT WARRANTIES OR CONDITIONS OF ANY KIND, either express or implied.\n",
              "// See the License for the specific language governing permissions and\n",
              "// limitations under the License.\n",
              "\n",
              "/**\n",
              " * @fileoverview Helpers for google.colab Python module.\n",
              " */\n",
              "(function(scope) {\n",
              "function span(text, styleAttributes = {}) {\n",
              "  const element = document.createElement('span');\n",
              "  element.textContent = text;\n",
              "  for (const key of Object.keys(styleAttributes)) {\n",
              "    element.style[key] = styleAttributes[key];\n",
              "  }\n",
              "  return element;\n",
              "}\n",
              "\n",
              "// Max number of bytes which will be uploaded at a time.\n",
              "const MAX_PAYLOAD_SIZE = 100 * 1024;\n",
              "\n",
              "function _uploadFiles(inputId, outputId) {\n",
              "  const steps = uploadFilesStep(inputId, outputId);\n",
              "  const outputElement = document.getElementById(outputId);\n",
              "  // Cache steps on the outputElement to make it available for the next call\n",
              "  // to uploadFilesContinue from Python.\n",
              "  outputElement.steps = steps;\n",
              "\n",
              "  return _uploadFilesContinue(outputId);\n",
              "}\n",
              "\n",
              "// This is roughly an async generator (not supported in the browser yet),\n",
              "// where there are multiple asynchronous steps and the Python side is going\n",
              "// to poll for completion of each step.\n",
              "// This uses a Promise to block the python side on completion of each step,\n",
              "// then passes the result of the previous step as the input to the next step.\n",
              "function _uploadFilesContinue(outputId) {\n",
              "  const outputElement = document.getElementById(outputId);\n",
              "  const steps = outputElement.steps;\n",
              "\n",
              "  const next = steps.next(outputElement.lastPromiseValue);\n",
              "  return Promise.resolve(next.value.promise).then((value) => {\n",
              "    // Cache the last promise value to make it available to the next\n",
              "    // step of the generator.\n",
              "    outputElement.lastPromiseValue = value;\n",
              "    return next.value.response;\n",
              "  });\n",
              "}\n",
              "\n",
              "/**\n",
              " * Generator function which is called between each async step of the upload\n",
              " * process.\n",
              " * @param {string} inputId Element ID of the input file picker element.\n",
              " * @param {string} outputId Element ID of the output display.\n",
              " * @return {!Iterable<!Object>} Iterable of next steps.\n",
              " */\n",
              "function* uploadFilesStep(inputId, outputId) {\n",
              "  const inputElement = document.getElementById(inputId);\n",
              "  inputElement.disabled = false;\n",
              "\n",
              "  const outputElement = document.getElementById(outputId);\n",
              "  outputElement.innerHTML = '';\n",
              "\n",
              "  const pickedPromise = new Promise((resolve) => {\n",
              "    inputElement.addEventListener('change', (e) => {\n",
              "      resolve(e.target.files);\n",
              "    });\n",
              "  });\n",
              "\n",
              "  const cancel = document.createElement('button');\n",
              "  inputElement.parentElement.appendChild(cancel);\n",
              "  cancel.textContent = 'Cancel upload';\n",
              "  const cancelPromise = new Promise((resolve) => {\n",
              "    cancel.onclick = () => {\n",
              "      resolve(null);\n",
              "    };\n",
              "  });\n",
              "\n",
              "  // Wait for the user to pick the files.\n",
              "  const files = yield {\n",
              "    promise: Promise.race([pickedPromise, cancelPromise]),\n",
              "    response: {\n",
              "      action: 'starting',\n",
              "    }\n",
              "  };\n",
              "\n",
              "  cancel.remove();\n",
              "\n",
              "  // Disable the input element since further picks are not allowed.\n",
              "  inputElement.disabled = true;\n",
              "\n",
              "  if (!files) {\n",
              "    return {\n",
              "      response: {\n",
              "        action: 'complete',\n",
              "      }\n",
              "    };\n",
              "  }\n",
              "\n",
              "  for (const file of files) {\n",
              "    const li = document.createElement('li');\n",
              "    li.append(span(file.name, {fontWeight: 'bold'}));\n",
              "    li.append(span(\n",
              "        `(${file.type || 'n/a'}) - ${file.size} bytes, ` +\n",
              "        `last modified: ${\n",
              "            file.lastModifiedDate ? file.lastModifiedDate.toLocaleDateString() :\n",
              "                                    'n/a'} - `));\n",
              "    const percent = span('0% done');\n",
              "    li.appendChild(percent);\n",
              "\n",
              "    outputElement.appendChild(li);\n",
              "\n",
              "    const fileDataPromise = new Promise((resolve) => {\n",
              "      const reader = new FileReader();\n",
              "      reader.onload = (e) => {\n",
              "        resolve(e.target.result);\n",
              "      };\n",
              "      reader.readAsArrayBuffer(file);\n",
              "    });\n",
              "    // Wait for the data to be ready.\n",
              "    let fileData = yield {\n",
              "      promise: fileDataPromise,\n",
              "      response: {\n",
              "        action: 'continue',\n",
              "      }\n",
              "    };\n",
              "\n",
              "    // Use a chunked sending to avoid message size limits. See b/62115660.\n",
              "    let position = 0;\n",
              "    do {\n",
              "      const length = Math.min(fileData.byteLength - position, MAX_PAYLOAD_SIZE);\n",
              "      const chunk = new Uint8Array(fileData, position, length);\n",
              "      position += length;\n",
              "\n",
              "      const base64 = btoa(String.fromCharCode.apply(null, chunk));\n",
              "      yield {\n",
              "        response: {\n",
              "          action: 'append',\n",
              "          file: file.name,\n",
              "          data: base64,\n",
              "        },\n",
              "      };\n",
              "\n",
              "      let percentDone = fileData.byteLength === 0 ?\n",
              "          100 :\n",
              "          Math.round((position / fileData.byteLength) * 100);\n",
              "      percent.textContent = `${percentDone}% done`;\n",
              "\n",
              "    } while (position < fileData.byteLength);\n",
              "  }\n",
              "\n",
              "  // All done.\n",
              "  yield {\n",
              "    response: {\n",
              "      action: 'complete',\n",
              "    }\n",
              "  };\n",
              "}\n",
              "\n",
              "scope.google = scope.google || {};\n",
              "scope.google.colab = scope.google.colab || {};\n",
              "scope.google.colab._files = {\n",
              "  _uploadFiles,\n",
              "  _uploadFilesContinue,\n",
              "};\n",
              "})(self);\n",
              "</script> "
            ]
          },
          "metadata": {}
        },
        {
          "output_type": "stream",
          "name": "stdout",
          "text": [
            "Saving coffee_ratings_full.feather to coffee_ratings_full.feather\n"
          ]
        }
      ]
    },
    {
      "cell_type": "code",
      "source": [
        "coffee_ratings = pd.read_feather('/content/coffee_ratings_full.feather')\n",
        "print(coffee_ratings.describe)"
      ],
      "metadata": {
        "colab": {
          "base_uri": "https://localhost:8080/"
        },
        "id": "xhImkNAApsCY",
        "outputId": "ba3e3195-ea03-4ece-f254-7d19c9907b3e"
      },
      "execution_count": null,
      "outputs": [
        {
          "output_type": "stream",
          "name": "stdout",
          "text": [
            "<bound method NDFrame.describe of       total_cup_points  species                     owner country_of_origin  \\\n",
            "0                90.58  Arabica                 metad plc          Ethiopia   \n",
            "1                89.92  Arabica                 metad plc          Ethiopia   \n",
            "2                89.75  Arabica  grounds for health admin         Guatemala   \n",
            "3                89.00  Arabica       yidnekachew dabessa          Ethiopia   \n",
            "4                88.83  Arabica                 metad plc          Ethiopia   \n",
            "...                ...      ...                       ...               ...   \n",
            "1333             78.75  Robusta               luis robles           Ecuador   \n",
            "1334             78.08  Robusta               luis robles           Ecuador   \n",
            "1335             77.17  Robusta               james moore     United States   \n",
            "1336             75.08  Robusta             cafe politico             India   \n",
            "1337             73.75  Robusta             cafe politico           Vietnam   \n",
            "\n",
            "                                     farm_name lot_number            mill  \\\n",
            "0                                    metad plc       None       metad plc   \n",
            "1                                    metad plc       None       metad plc   \n",
            "2     san marcos barrancas \"san cristobal cuch       None            None   \n",
            "3        yidnekachew dabessa coffee plantation       None         wolensu   \n",
            "4                                    metad plc       None       metad plc   \n",
            "...                                        ...        ...             ...   \n",
            "1333                                 robustasa   Lavado 1     our own lab   \n",
            "1334                                 robustasa   Lavado 3  own laboratory   \n",
            "1335                           fazenda cazengo       None    cafe cazengo   \n",
            "1336                                      None       None            None   \n",
            "1337                                      None       None            None   \n",
            "\n",
            "             ico_number                                company       altitude  \\\n",
            "0             2014/2015      metad agricultural developmet plc      1950-2200   \n",
            "1             2014/2015      metad agricultural developmet plc      1950-2200   \n",
            "2                  None                                   None  1600 - 1800 m   \n",
            "3                  None  yidnekachew debessa coffee plantation      1800-2200   \n",
            "4             2014/2015      metad agricultural developmet plc      1950-2200   \n",
            "...                 ...                                    ...            ...   \n",
            "1333               None                              robustasa           None   \n",
            "1334               None                              robustasa             40   \n",
            "1335               None                global opportunity fund     795 meters   \n",
            "1336  14-1118-2014-0087                          cafe politico           None   \n",
            "1337                n/a                          cafe politico           None   \n",
            "\n",
            "      ...       color category_two_defects           expiration  \\\n",
            "0     ...       Green                  0.0      April 3rd, 2016   \n",
            "1     ...       Green                  1.0      April 3rd, 2016   \n",
            "2     ...        None                  0.0       May 31st, 2011   \n",
            "3     ...       Green                  2.0     March 25th, 2016   \n",
            "4     ...       Green                  2.0      April 3rd, 2016   \n",
            "...   ...         ...                  ...                  ...   \n",
            "1333  ...  Blue-Green                  1.0   January 18th, 2017   \n",
            "1334  ...  Blue-Green                  0.0   January 18th, 2017   \n",
            "1335  ...        None                  6.0  December 23rd, 2015   \n",
            "1336  ...       Green                  1.0    August 25th, 2015   \n",
            "1337  ...        None                  9.0    August 25th, 2015   \n",
            "\n",
            "                      certification_body  \\\n",
            "0     METAD Agricultural Development plc   \n",
            "1     METAD Agricultural Development plc   \n",
            "2           Specialty Coffee Association   \n",
            "3     METAD Agricultural Development plc   \n",
            "4     METAD Agricultural Development plc   \n",
            "...                                  ...   \n",
            "1333        Specialty Coffee Association   \n",
            "1334        Specialty Coffee Association   \n",
            "1335        Specialty Coffee Association   \n",
            "1336        Specialty Coffee Association   \n",
            "1337        Specialty Coffee Association   \n",
            "\n",
            "                         certification_address  \\\n",
            "0     309fcf77415a3661ae83e027f7e5f05dad786e44   \n",
            "1     309fcf77415a3661ae83e027f7e5f05dad786e44   \n",
            "2     36d0d00a3724338ba7937c52a378d085f2172daa   \n",
            "3     309fcf77415a3661ae83e027f7e5f05dad786e44   \n",
            "4     309fcf77415a3661ae83e027f7e5f05dad786e44   \n",
            "...                                        ...   \n",
            "1333  ff7c18ad303d4b603ac3f8cff7e611ffc735e720   \n",
            "1334  ff7c18ad303d4b603ac3f8cff7e611ffc735e720   \n",
            "1335  ff7c18ad303d4b603ac3f8cff7e611ffc735e720   \n",
            "1336  ff7c18ad303d4b603ac3f8cff7e611ffc735e720   \n",
            "1337  ff7c18ad303d4b603ac3f8cff7e611ffc735e720   \n",
            "\n",
            "                         certification_contact unit_of_measurement  \\\n",
            "0     19fef5a731de2db57d16da10287413f5f99bc2dd                   m   \n",
            "1     19fef5a731de2db57d16da10287413f5f99bc2dd                   m   \n",
            "2     0878a7d4b9d35ddbf0fe2ce69a2062cceb45a660                   m   \n",
            "3     19fef5a731de2db57d16da10287413f5f99bc2dd                   m   \n",
            "4     19fef5a731de2db57d16da10287413f5f99bc2dd                   m   \n",
            "...                                        ...                 ...   \n",
            "1333  352d0cf7f3e9be14dad7df644ad65efc27605ae2                   m   \n",
            "1334  352d0cf7f3e9be14dad7df644ad65efc27605ae2                   m   \n",
            "1335  352d0cf7f3e9be14dad7df644ad65efc27605ae2                   m   \n",
            "1336  352d0cf7f3e9be14dad7df644ad65efc27605ae2                   m   \n",
            "1337  352d0cf7f3e9be14dad7df644ad65efc27605ae2                   m   \n",
            "\n",
            "     altitude_low_meters altitude_high_meters altitude_mean_meters  \n",
            "0                 1950.0               2200.0               2075.0  \n",
            "1                 1950.0               2200.0               2075.0  \n",
            "2                 1600.0               1800.0               1700.0  \n",
            "3                 1800.0               2200.0               2000.0  \n",
            "4                 1950.0               2200.0               2075.0  \n",
            "...                  ...                  ...                  ...  \n",
            "1333                 NaN                  NaN                  NaN  \n",
            "1334                40.0                 40.0                 40.0  \n",
            "1335               795.0                795.0                795.0  \n",
            "1336                 NaN                  NaN                  NaN  \n",
            "1337                 NaN                  NaN                  NaN  \n",
            "\n",
            "[1338 rows x 43 columns]>\n"
          ]
        }
      ]
    },
    {
      "cell_type": "markdown",
      "source": [
        "## **échantillonage aléatoire simple et systématique**"
      ],
      "metadata": {
        "id": "UBxwRTmvp0dk"
      }
    },
    {
      "cell_type": "markdown",
      "source": [
        "### **échantillonage aléatoire simple du café**"
      ],
      "metadata": {
        "id": "cPKlq7X0qEQm"
      }
    },
    {
      "cell_type": "code",
      "source": [
        "coffee_ratings.sample(n=5, random_state=19000113)"
      ],
      "metadata": {
        "colab": {
          "base_uri": "https://localhost:8080/",
          "height": 411
        },
        "id": "trHKmF3dp8aZ",
        "outputId": "b1ee2cd2-6421-494f-c247-516e9c72a9bc"
      },
      "execution_count": null,
      "outputs": [
        {
          "output_type": "execute_result",
          "data": {
            "text/plain": [
              "     total_cup_points  species                           owner  \\\n",
              "437             83.25  Arabica  exportadora de cafe condor s.a   \n",
              "285             83.83  Arabica                 ipanema coffees   \n",
              "784             82.08  Arabica                   cafe politico   \n",
              "648             82.58  Arabica  exportadora de cafe condor s.a   \n",
              "155             84.58  Arabica  exportadora de cafe condor s.a   \n",
              "\n",
              "    country_of_origin          farm_name lot_number  \\\n",
              "437          Colombia               None       None   \n",
              "285            Brazil  fazenda rio verde       None   \n",
              "784          Colombia               None       None   \n",
              "648          Colombia               None       None   \n",
              "155          Colombia            various       None   \n",
              "\n",
              "                                      mill     ico_number  \\\n",
              "437  trilladora bonanza - armenia quindioa      3-68-0205   \n",
              "285                        ipanema coffees  002/4177/0121   \n",
              "784                                   None      3-59-1656   \n",
              "648                    trilladora boananza      3-68-0140   \n",
              "155                    trilladora boananza      3-68-0005   \n",
              "\n",
              "                            company       altitude  ...  color  \\\n",
              "437                            None  1600-1800msnm  ...   None   \n",
              "285                 ipanema coffees           1260  ...  Green   \n",
              "784                   cafe politico           None  ...  Green   \n",
              "648  exportadora de cafe condor s.a      1750 msnm  ...  Green   \n",
              "155  exportadora de cafe condor s.a      1800 msnm  ...  Green   \n",
              "\n",
              "    category_two_defects            expiration            certification_body  \\\n",
              "437                  0.0       June 13th, 2012                      Almacafé   \n",
              "285                  0.0   December 26th, 2014  Specialty Coffee Association   \n",
              "784                  0.0  September 12th, 2015  Specialty Coffee Association   \n",
              "648                  0.0   February 27th, 2014                      Almacafé   \n",
              "155                  6.0     October 9th, 2013                      Almacafé   \n",
              "\n",
              "                        certification_address  \\\n",
              "437  e493c36c2d076bf273064f7ac23ad562af257a25   \n",
              "285  36d0d00a3724338ba7937c52a378d085f2172daa   \n",
              "784  36d0d00a3724338ba7937c52a378d085f2172daa   \n",
              "648  e493c36c2d076bf273064f7ac23ad562af257a25   \n",
              "155  e493c36c2d076bf273064f7ac23ad562af257a25   \n",
              "\n",
              "                        certification_contact unit_of_measurement  \\\n",
              "437  70d3c0c26f89e00fdae6fb39ff54f0d2eb1c38ab                   m   \n",
              "285  0878a7d4b9d35ddbf0fe2ce69a2062cceb45a660                   m   \n",
              "784  0878a7d4b9d35ddbf0fe2ce69a2062cceb45a660                   m   \n",
              "648  70d3c0c26f89e00fdae6fb39ff54f0d2eb1c38ab                   m   \n",
              "155  70d3c0c26f89e00fdae6fb39ff54f0d2eb1c38ab                   m   \n",
              "\n",
              "    altitude_low_meters altitude_high_meters altitude_mean_meters  \n",
              "437              1600.0               1800.0               1700.0  \n",
              "285              1260.0               1260.0               1260.0  \n",
              "784                 NaN                  NaN                  NaN  \n",
              "648              1750.0               1750.0               1750.0  \n",
              "155              1800.0               1800.0               1800.0  \n",
              "\n",
              "[5 rows x 43 columns]"
            ],
            "text/html": [
              "\n",
              "  <div id=\"df-1276831d-871b-4981-8cc4-b3df7736e12e\" class=\"colab-df-container\">\n",
              "    <div>\n",
              "<style scoped>\n",
              "    .dataframe tbody tr th:only-of-type {\n",
              "        vertical-align: middle;\n",
              "    }\n",
              "\n",
              "    .dataframe tbody tr th {\n",
              "        vertical-align: top;\n",
              "    }\n",
              "\n",
              "    .dataframe thead th {\n",
              "        text-align: right;\n",
              "    }\n",
              "</style>\n",
              "<table border=\"1\" class=\"dataframe\">\n",
              "  <thead>\n",
              "    <tr style=\"text-align: right;\">\n",
              "      <th></th>\n",
              "      <th>total_cup_points</th>\n",
              "      <th>species</th>\n",
              "      <th>owner</th>\n",
              "      <th>country_of_origin</th>\n",
              "      <th>farm_name</th>\n",
              "      <th>lot_number</th>\n",
              "      <th>mill</th>\n",
              "      <th>ico_number</th>\n",
              "      <th>company</th>\n",
              "      <th>altitude</th>\n",
              "      <th>...</th>\n",
              "      <th>color</th>\n",
              "      <th>category_two_defects</th>\n",
              "      <th>expiration</th>\n",
              "      <th>certification_body</th>\n",
              "      <th>certification_address</th>\n",
              "      <th>certification_contact</th>\n",
              "      <th>unit_of_measurement</th>\n",
              "      <th>altitude_low_meters</th>\n",
              "      <th>altitude_high_meters</th>\n",
              "      <th>altitude_mean_meters</th>\n",
              "    </tr>\n",
              "  </thead>\n",
              "  <tbody>\n",
              "    <tr>\n",
              "      <th>437</th>\n",
              "      <td>83.25</td>\n",
              "      <td>Arabica</td>\n",
              "      <td>exportadora de cafe condor s.a</td>\n",
              "      <td>Colombia</td>\n",
              "      <td>None</td>\n",
              "      <td>None</td>\n",
              "      <td>trilladora bonanza - armenia quindioa</td>\n",
              "      <td>3-68-0205</td>\n",
              "      <td>None</td>\n",
              "      <td>1600-1800msnm</td>\n",
              "      <td>...</td>\n",
              "      <td>None</td>\n",
              "      <td>0.0</td>\n",
              "      <td>June 13th, 2012</td>\n",
              "      <td>Almacafé</td>\n",
              "      <td>e493c36c2d076bf273064f7ac23ad562af257a25</td>\n",
              "      <td>70d3c0c26f89e00fdae6fb39ff54f0d2eb1c38ab</td>\n",
              "      <td>m</td>\n",
              "      <td>1600.0</td>\n",
              "      <td>1800.0</td>\n",
              "      <td>1700.0</td>\n",
              "    </tr>\n",
              "    <tr>\n",
              "      <th>285</th>\n",
              "      <td>83.83</td>\n",
              "      <td>Arabica</td>\n",
              "      <td>ipanema coffees</td>\n",
              "      <td>Brazil</td>\n",
              "      <td>fazenda rio verde</td>\n",
              "      <td>None</td>\n",
              "      <td>ipanema coffees</td>\n",
              "      <td>002/4177/0121</td>\n",
              "      <td>ipanema coffees</td>\n",
              "      <td>1260</td>\n",
              "      <td>...</td>\n",
              "      <td>Green</td>\n",
              "      <td>0.0</td>\n",
              "      <td>December 26th, 2014</td>\n",
              "      <td>Specialty Coffee Association</td>\n",
              "      <td>36d0d00a3724338ba7937c52a378d085f2172daa</td>\n",
              "      <td>0878a7d4b9d35ddbf0fe2ce69a2062cceb45a660</td>\n",
              "      <td>m</td>\n",
              "      <td>1260.0</td>\n",
              "      <td>1260.0</td>\n",
              "      <td>1260.0</td>\n",
              "    </tr>\n",
              "    <tr>\n",
              "      <th>784</th>\n",
              "      <td>82.08</td>\n",
              "      <td>Arabica</td>\n",
              "      <td>cafe politico</td>\n",
              "      <td>Colombia</td>\n",
              "      <td>None</td>\n",
              "      <td>None</td>\n",
              "      <td>None</td>\n",
              "      <td>3-59-1656</td>\n",
              "      <td>cafe politico</td>\n",
              "      <td>None</td>\n",
              "      <td>...</td>\n",
              "      <td>Green</td>\n",
              "      <td>0.0</td>\n",
              "      <td>September 12th, 2015</td>\n",
              "      <td>Specialty Coffee Association</td>\n",
              "      <td>36d0d00a3724338ba7937c52a378d085f2172daa</td>\n",
              "      <td>0878a7d4b9d35ddbf0fe2ce69a2062cceb45a660</td>\n",
              "      <td>m</td>\n",
              "      <td>NaN</td>\n",
              "      <td>NaN</td>\n",
              "      <td>NaN</td>\n",
              "    </tr>\n",
              "    <tr>\n",
              "      <th>648</th>\n",
              "      <td>82.58</td>\n",
              "      <td>Arabica</td>\n",
              "      <td>exportadora de cafe condor s.a</td>\n",
              "      <td>Colombia</td>\n",
              "      <td>None</td>\n",
              "      <td>None</td>\n",
              "      <td>trilladora boananza</td>\n",
              "      <td>3-68-0140</td>\n",
              "      <td>exportadora de cafe condor s.a</td>\n",
              "      <td>1750 msnm</td>\n",
              "      <td>...</td>\n",
              "      <td>Green</td>\n",
              "      <td>0.0</td>\n",
              "      <td>February 27th, 2014</td>\n",
              "      <td>Almacafé</td>\n",
              "      <td>e493c36c2d076bf273064f7ac23ad562af257a25</td>\n",
              "      <td>70d3c0c26f89e00fdae6fb39ff54f0d2eb1c38ab</td>\n",
              "      <td>m</td>\n",
              "      <td>1750.0</td>\n",
              "      <td>1750.0</td>\n",
              "      <td>1750.0</td>\n",
              "    </tr>\n",
              "    <tr>\n",
              "      <th>155</th>\n",
              "      <td>84.58</td>\n",
              "      <td>Arabica</td>\n",
              "      <td>exportadora de cafe condor s.a</td>\n",
              "      <td>Colombia</td>\n",
              "      <td>various</td>\n",
              "      <td>None</td>\n",
              "      <td>trilladora boananza</td>\n",
              "      <td>3-68-0005</td>\n",
              "      <td>exportadora de cafe condor s.a</td>\n",
              "      <td>1800 msnm</td>\n",
              "      <td>...</td>\n",
              "      <td>Green</td>\n",
              "      <td>6.0</td>\n",
              "      <td>October 9th, 2013</td>\n",
              "      <td>Almacafé</td>\n",
              "      <td>e493c36c2d076bf273064f7ac23ad562af257a25</td>\n",
              "      <td>70d3c0c26f89e00fdae6fb39ff54f0d2eb1c38ab</td>\n",
              "      <td>m</td>\n",
              "      <td>1800.0</td>\n",
              "      <td>1800.0</td>\n",
              "      <td>1800.0</td>\n",
              "    </tr>\n",
              "  </tbody>\n",
              "</table>\n",
              "<p>5 rows × 43 columns</p>\n",
              "</div>\n",
              "    <div class=\"colab-df-buttons\">\n",
              "\n",
              "  <div class=\"colab-df-container\">\n",
              "    <button class=\"colab-df-convert\" onclick=\"convertToInteractive('df-1276831d-871b-4981-8cc4-b3df7736e12e')\"\n",
              "            title=\"Convert this dataframe to an interactive table.\"\n",
              "            style=\"display:none;\">\n",
              "\n",
              "  <svg xmlns=\"http://www.w3.org/2000/svg\" height=\"24px\" viewBox=\"0 -960 960 960\">\n",
              "    <path d=\"M120-120v-720h720v720H120Zm60-500h600v-160H180v160Zm220 220h160v-160H400v160Zm0 220h160v-160H400v160ZM180-400h160v-160H180v160Zm440 0h160v-160H620v160ZM180-180h160v-160H180v160Zm440 0h160v-160H620v160Z\"/>\n",
              "  </svg>\n",
              "    </button>\n",
              "\n",
              "  <style>\n",
              "    .colab-df-container {\n",
              "      display:flex;\n",
              "      gap: 12px;\n",
              "    }\n",
              "\n",
              "    .colab-df-convert {\n",
              "      background-color: #E8F0FE;\n",
              "      border: none;\n",
              "      border-radius: 50%;\n",
              "      cursor: pointer;\n",
              "      display: none;\n",
              "      fill: #1967D2;\n",
              "      height: 32px;\n",
              "      padding: 0 0 0 0;\n",
              "      width: 32px;\n",
              "    }\n",
              "\n",
              "    .colab-df-convert:hover {\n",
              "      background-color: #E2EBFA;\n",
              "      box-shadow: 0px 1px 2px rgba(60, 64, 67, 0.3), 0px 1px 3px 1px rgba(60, 64, 67, 0.15);\n",
              "      fill: #174EA6;\n",
              "    }\n",
              "\n",
              "    .colab-df-buttons div {\n",
              "      margin-bottom: 4px;\n",
              "    }\n",
              "\n",
              "    [theme=dark] .colab-df-convert {\n",
              "      background-color: #3B4455;\n",
              "      fill: #D2E3FC;\n",
              "    }\n",
              "\n",
              "    [theme=dark] .colab-df-convert:hover {\n",
              "      background-color: #434B5C;\n",
              "      box-shadow: 0px 1px 3px 1px rgba(0, 0, 0, 0.15);\n",
              "      filter: drop-shadow(0px 1px 2px rgba(0, 0, 0, 0.3));\n",
              "      fill: #FFFFFF;\n",
              "    }\n",
              "  </style>\n",
              "\n",
              "    <script>\n",
              "      const buttonEl =\n",
              "        document.querySelector('#df-1276831d-871b-4981-8cc4-b3df7736e12e button.colab-df-convert');\n",
              "      buttonEl.style.display =\n",
              "        google.colab.kernel.accessAllowed ? 'block' : 'none';\n",
              "\n",
              "      async function convertToInteractive(key) {\n",
              "        const element = document.querySelector('#df-1276831d-871b-4981-8cc4-b3df7736e12e');\n",
              "        const dataTable =\n",
              "          await google.colab.kernel.invokeFunction('convertToInteractive',\n",
              "                                                    [key], {});\n",
              "        if (!dataTable) return;\n",
              "\n",
              "        const docLinkHtml = 'Like what you see? Visit the ' +\n",
              "          '<a target=\"_blank\" href=https://colab.research.google.com/notebooks/data_table.ipynb>data table notebook</a>'\n",
              "          + ' to learn more about interactive tables.';\n",
              "        element.innerHTML = '';\n",
              "        dataTable['output_type'] = 'display_data';\n",
              "        await google.colab.output.renderOutput(dataTable, element);\n",
              "        const docLink = document.createElement('div');\n",
              "        docLink.innerHTML = docLinkHtml;\n",
              "        element.appendChild(docLink);\n",
              "      }\n",
              "    </script>\n",
              "  </div>\n",
              "\n",
              "\n",
              "<div id=\"df-203698db-16a9-47dc-a57a-78f9574de49a\">\n",
              "  <button class=\"colab-df-quickchart\" onclick=\"quickchart('df-203698db-16a9-47dc-a57a-78f9574de49a')\"\n",
              "            title=\"Suggest charts\"\n",
              "            style=\"display:none;\">\n",
              "\n",
              "<svg xmlns=\"http://www.w3.org/2000/svg\" height=\"24px\"viewBox=\"0 0 24 24\"\n",
              "     width=\"24px\">\n",
              "    <g>\n",
              "        <path d=\"M19 3H5c-1.1 0-2 .9-2 2v14c0 1.1.9 2 2 2h14c1.1 0 2-.9 2-2V5c0-1.1-.9-2-2-2zM9 17H7v-7h2v7zm4 0h-2V7h2v10zm4 0h-2v-4h2v4z\"/>\n",
              "    </g>\n",
              "</svg>\n",
              "  </button>\n",
              "\n",
              "<style>\n",
              "  .colab-df-quickchart {\n",
              "      --bg-color: #E8F0FE;\n",
              "      --fill-color: #1967D2;\n",
              "      --hover-bg-color: #E2EBFA;\n",
              "      --hover-fill-color: #174EA6;\n",
              "      --disabled-fill-color: #AAA;\n",
              "      --disabled-bg-color: #DDD;\n",
              "  }\n",
              "\n",
              "  [theme=dark] .colab-df-quickchart {\n",
              "      --bg-color: #3B4455;\n",
              "      --fill-color: #D2E3FC;\n",
              "      --hover-bg-color: #434B5C;\n",
              "      --hover-fill-color: #FFFFFF;\n",
              "      --disabled-bg-color: #3B4455;\n",
              "      --disabled-fill-color: #666;\n",
              "  }\n",
              "\n",
              "  .colab-df-quickchart {\n",
              "    background-color: var(--bg-color);\n",
              "    border: none;\n",
              "    border-radius: 50%;\n",
              "    cursor: pointer;\n",
              "    display: none;\n",
              "    fill: var(--fill-color);\n",
              "    height: 32px;\n",
              "    padding: 0;\n",
              "    width: 32px;\n",
              "  }\n",
              "\n",
              "  .colab-df-quickchart:hover {\n",
              "    background-color: var(--hover-bg-color);\n",
              "    box-shadow: 0 1px 2px rgba(60, 64, 67, 0.3), 0 1px 3px 1px rgba(60, 64, 67, 0.15);\n",
              "    fill: var(--button-hover-fill-color);\n",
              "  }\n",
              "\n",
              "  .colab-df-quickchart-complete:disabled,\n",
              "  .colab-df-quickchart-complete:disabled:hover {\n",
              "    background-color: var(--disabled-bg-color);\n",
              "    fill: var(--disabled-fill-color);\n",
              "    box-shadow: none;\n",
              "  }\n",
              "\n",
              "  .colab-df-spinner {\n",
              "    border: 2px solid var(--fill-color);\n",
              "    border-color: transparent;\n",
              "    border-bottom-color: var(--fill-color);\n",
              "    animation:\n",
              "      spin 1s steps(1) infinite;\n",
              "  }\n",
              "\n",
              "  @keyframes spin {\n",
              "    0% {\n",
              "      border-color: transparent;\n",
              "      border-bottom-color: var(--fill-color);\n",
              "      border-left-color: var(--fill-color);\n",
              "    }\n",
              "    20% {\n",
              "      border-color: transparent;\n",
              "      border-left-color: var(--fill-color);\n",
              "      border-top-color: var(--fill-color);\n",
              "    }\n",
              "    30% {\n",
              "      border-color: transparent;\n",
              "      border-left-color: var(--fill-color);\n",
              "      border-top-color: var(--fill-color);\n",
              "      border-right-color: var(--fill-color);\n",
              "    }\n",
              "    40% {\n",
              "      border-color: transparent;\n",
              "      border-right-color: var(--fill-color);\n",
              "      border-top-color: var(--fill-color);\n",
              "    }\n",
              "    60% {\n",
              "      border-color: transparent;\n",
              "      border-right-color: var(--fill-color);\n",
              "    }\n",
              "    80% {\n",
              "      border-color: transparent;\n",
              "      border-right-color: var(--fill-color);\n",
              "      border-bottom-color: var(--fill-color);\n",
              "    }\n",
              "    90% {\n",
              "      border-color: transparent;\n",
              "      border-bottom-color: var(--fill-color);\n",
              "    }\n",
              "  }\n",
              "</style>\n",
              "\n",
              "  <script>\n",
              "    async function quickchart(key) {\n",
              "      const quickchartButtonEl =\n",
              "        document.querySelector('#' + key + ' button');\n",
              "      quickchartButtonEl.disabled = true;  // To prevent multiple clicks.\n",
              "      quickchartButtonEl.classList.add('colab-df-spinner');\n",
              "      try {\n",
              "        const charts = await google.colab.kernel.invokeFunction(\n",
              "            'suggestCharts', [key], {});\n",
              "      } catch (error) {\n",
              "        console.error('Error during call to suggestCharts:', error);\n",
              "      }\n",
              "      quickchartButtonEl.classList.remove('colab-df-spinner');\n",
              "      quickchartButtonEl.classList.add('colab-df-quickchart-complete');\n",
              "    }\n",
              "    (() => {\n",
              "      let quickchartButtonEl =\n",
              "        document.querySelector('#df-203698db-16a9-47dc-a57a-78f9574de49a button');\n",
              "      quickchartButtonEl.style.display =\n",
              "        google.colab.kernel.accessAllowed ? 'block' : 'none';\n",
              "    })();\n",
              "  </script>\n",
              "</div>\n",
              "    </div>\n",
              "  </div>\n"
            ]
          },
          "metadata": {},
          "execution_count": 34
        }
      ]
    },
    {
      "cell_type": "markdown",
      "source": [
        "### **Échantillonnage systématique : définition de l'intervalle**"
      ],
      "metadata": {
        "id": "xwuG6mMbrIWe"
      }
    },
    {
      "cell_type": "code",
      "source": [
        "sample_size = 5\n",
        "# Len donne le nombre de lignes et d'observations\n",
        "pop_size = len(coffee_ratings)\n",
        "print(pop_size)"
      ],
      "metadata": {
        "colab": {
          "base_uri": "https://localhost:8080/"
        },
        "id": "Q9aXd3rzrP8Q",
        "outputId": "bcd7962f-0ad7-41d7-8946-906532cdd343"
      },
      "execution_count": null,
      "outputs": [
        {
          "output_type": "stream",
          "name": "stdout",
          "text": [
            "1338\n"
          ]
        }
      ]
    },
    {
      "cell_type": "code",
      "source": [
        "# l'intervalle est le quotient entre pop_size et sample_size\n",
        "interval = pop_size // sample_size\n",
        "print(interval)"
      ],
      "metadata": {
        "colab": {
          "base_uri": "https://localhost:8080/"
        },
        "id": "e2ndAiZgr0J9",
        "outputId": "56e47ddc-15f9-474d-9651-ea7108d4ba2f"
      },
      "execution_count": null,
      "outputs": [
        {
          "output_type": "stream",
          "name": "stdout",
          "text": [
            "267\n"
          ]
        }
      ]
    },
    {
      "cell_type": "markdown",
      "source": [
        "### **Échantillonnage systématique - sélection des lignes**"
      ],
      "metadata": {
        "id": "E-MDBvcssb5f"
      }
    },
    {
      "cell_type": "code",
      "source": [
        "coffee_ratings.iloc[::interval]"
      ],
      "metadata": {
        "colab": {
          "base_uri": "https://localhost:8080/",
          "height": 564
        },
        "id": "R91FdtWOsVfI",
        "outputId": "11b1ccc7-bcec-4430-ae0f-136ae3213f4e"
      },
      "execution_count": null,
      "outputs": [
        {
          "output_type": "execute_result",
          "data": {
            "text/plain": [
              "      total_cup_points  species                             owner  \\\n",
              "0                90.58  Arabica                         metad plc   \n",
              "267              83.92  Arabica  federacion nacional de cafeteros   \n",
              "534              82.92  Arabica      consejo salvadoreño del café   \n",
              "801              82.00  Arabica            lin, che-hao krude 林哲豪   \n",
              "1068             80.50  Arabica          cqi taiwan icp cqi台灣合作夥伴   \n",
              "1335             77.17  Robusta                       james moore   \n",
              "\n",
              "     country_of_origin                                     farm_name  \\\n",
              "0             Ethiopia                                     metad plc   \n",
              "267           Colombia                                          None   \n",
              "534        El Salvador                                santa josefita   \n",
              "801             Taiwan  you siang coffee farmtainan, taiwan 台灣台南優香咖啡   \n",
              "1068            Taiwan                                           王秋金   \n",
              "1335     United States                               fazenda cazengo   \n",
              "\n",
              "     lot_number                                          mill  ico_number  \\\n",
              "0          None                                     metad plc   2014/2015   \n",
              "267        None                                          None     01-1969   \n",
              "534       1-198                          beneficio cuzcachapa  09-030-273   \n",
              "801        None  you siang coffee farmtainan, taiwan 台灣台南優香咖啡      Taiwan   \n",
              "1068          1                                           non        None   \n",
              "1335       None                                  cafe cazengo        None   \n",
              "\n",
              "                                company    altitude  ...       color  \\\n",
              "0     metad agricultural developmet plc   1950-2200  ...       Green   \n",
              "267    federacion nacional de cafeteros        None  ...        None   \n",
              "534       soc. coop. cuzcachapa de r.l.        1350  ...       Green   \n",
              "801               red on tree co., ltd.        600m  ...       Green   \n",
              "1068                                王秋金          50  ...  Blue-Green   \n",
              "1335            global opportunity fund  795 meters  ...        None   \n",
              "\n",
              "     category_two_defects           expiration  \\\n",
              "0                     0.0      April 3rd, 2016   \n",
              "267                   1.0     March 11th, 2016   \n",
              "534                   1.0    August 28th, 2018   \n",
              "801                   0.0      July 22nd, 2015   \n",
              "1068                  0.0   December 8th, 2018   \n",
              "1335                  6.0  December 23rd, 2015   \n",
              "\n",
              "                      certification_body  \\\n",
              "0     METAD Agricultural Development plc   \n",
              "267                             Almacafé   \n",
              "534            Salvadoran Coffee Council   \n",
              "801         Specialty Coffee Association   \n",
              "1068        Blossom Valley International   \n",
              "1335        Specialty Coffee Association   \n",
              "\n",
              "                         certification_address  \\\n",
              "0     309fcf77415a3661ae83e027f7e5f05dad786e44   \n",
              "267   e493c36c2d076bf273064f7ac23ad562af257a25   \n",
              "534   3d4987e3b91399dbb3938b5bdf53893b6ef45be1   \n",
              "801   36d0d00a3724338ba7937c52a378d085f2172daa   \n",
              "1068  fc45352eee499d8470cf94c9827922fb745bf815   \n",
              "1335  ff7c18ad303d4b603ac3f8cff7e611ffc735e720   \n",
              "\n",
              "                         certification_contact unit_of_measurement  \\\n",
              "0     19fef5a731de2db57d16da10287413f5f99bc2dd                   m   \n",
              "267   70d3c0c26f89e00fdae6fb39ff54f0d2eb1c38ab                   m   \n",
              "534   27b21e368fb8291cbea02c60623fe6c98f84524d                   m   \n",
              "801   0878a7d4b9d35ddbf0fe2ce69a2062cceb45a660                   m   \n",
              "1068  de73fc9412358b523d3a641501e542f31d2668b0                   m   \n",
              "1335  352d0cf7f3e9be14dad7df644ad65efc27605ae2                   m   \n",
              "\n",
              "     altitude_low_meters altitude_high_meters altitude_mean_meters  \n",
              "0                 1950.0               2200.0               2075.0  \n",
              "267                  NaN                  NaN                  NaN  \n",
              "534               1350.0               1350.0               1350.0  \n",
              "801                600.0                600.0                600.0  \n",
              "1068                50.0                 50.0                 50.0  \n",
              "1335               795.0                795.0                795.0  \n",
              "\n",
              "[6 rows x 43 columns]"
            ],
            "text/html": [
              "\n",
              "  <div id=\"df-a82394ee-bb4b-4a7c-aee3-031ec2d46b8f\" class=\"colab-df-container\">\n",
              "    <div>\n",
              "<style scoped>\n",
              "    .dataframe tbody tr th:only-of-type {\n",
              "        vertical-align: middle;\n",
              "    }\n",
              "\n",
              "    .dataframe tbody tr th {\n",
              "        vertical-align: top;\n",
              "    }\n",
              "\n",
              "    .dataframe thead th {\n",
              "        text-align: right;\n",
              "    }\n",
              "</style>\n",
              "<table border=\"1\" class=\"dataframe\">\n",
              "  <thead>\n",
              "    <tr style=\"text-align: right;\">\n",
              "      <th></th>\n",
              "      <th>total_cup_points</th>\n",
              "      <th>species</th>\n",
              "      <th>owner</th>\n",
              "      <th>country_of_origin</th>\n",
              "      <th>farm_name</th>\n",
              "      <th>lot_number</th>\n",
              "      <th>mill</th>\n",
              "      <th>ico_number</th>\n",
              "      <th>company</th>\n",
              "      <th>altitude</th>\n",
              "      <th>...</th>\n",
              "      <th>color</th>\n",
              "      <th>category_two_defects</th>\n",
              "      <th>expiration</th>\n",
              "      <th>certification_body</th>\n",
              "      <th>certification_address</th>\n",
              "      <th>certification_contact</th>\n",
              "      <th>unit_of_measurement</th>\n",
              "      <th>altitude_low_meters</th>\n",
              "      <th>altitude_high_meters</th>\n",
              "      <th>altitude_mean_meters</th>\n",
              "    </tr>\n",
              "  </thead>\n",
              "  <tbody>\n",
              "    <tr>\n",
              "      <th>0</th>\n",
              "      <td>90.58</td>\n",
              "      <td>Arabica</td>\n",
              "      <td>metad plc</td>\n",
              "      <td>Ethiopia</td>\n",
              "      <td>metad plc</td>\n",
              "      <td>None</td>\n",
              "      <td>metad plc</td>\n",
              "      <td>2014/2015</td>\n",
              "      <td>metad agricultural developmet plc</td>\n",
              "      <td>1950-2200</td>\n",
              "      <td>...</td>\n",
              "      <td>Green</td>\n",
              "      <td>0.0</td>\n",
              "      <td>April 3rd, 2016</td>\n",
              "      <td>METAD Agricultural Development plc</td>\n",
              "      <td>309fcf77415a3661ae83e027f7e5f05dad786e44</td>\n",
              "      <td>19fef5a731de2db57d16da10287413f5f99bc2dd</td>\n",
              "      <td>m</td>\n",
              "      <td>1950.0</td>\n",
              "      <td>2200.0</td>\n",
              "      <td>2075.0</td>\n",
              "    </tr>\n",
              "    <tr>\n",
              "      <th>267</th>\n",
              "      <td>83.92</td>\n",
              "      <td>Arabica</td>\n",
              "      <td>federacion nacional de cafeteros</td>\n",
              "      <td>Colombia</td>\n",
              "      <td>None</td>\n",
              "      <td>None</td>\n",
              "      <td>None</td>\n",
              "      <td>01-1969</td>\n",
              "      <td>federacion nacional de cafeteros</td>\n",
              "      <td>None</td>\n",
              "      <td>...</td>\n",
              "      <td>None</td>\n",
              "      <td>1.0</td>\n",
              "      <td>March 11th, 2016</td>\n",
              "      <td>Almacafé</td>\n",
              "      <td>e493c36c2d076bf273064f7ac23ad562af257a25</td>\n",
              "      <td>70d3c0c26f89e00fdae6fb39ff54f0d2eb1c38ab</td>\n",
              "      <td>m</td>\n",
              "      <td>NaN</td>\n",
              "      <td>NaN</td>\n",
              "      <td>NaN</td>\n",
              "    </tr>\n",
              "    <tr>\n",
              "      <th>534</th>\n",
              "      <td>82.92</td>\n",
              "      <td>Arabica</td>\n",
              "      <td>consejo salvadoreño del café</td>\n",
              "      <td>El Salvador</td>\n",
              "      <td>santa josefita</td>\n",
              "      <td>1-198</td>\n",
              "      <td>beneficio cuzcachapa</td>\n",
              "      <td>09-030-273</td>\n",
              "      <td>soc. coop. cuzcachapa de r.l.</td>\n",
              "      <td>1350</td>\n",
              "      <td>...</td>\n",
              "      <td>Green</td>\n",
              "      <td>1.0</td>\n",
              "      <td>August 28th, 2018</td>\n",
              "      <td>Salvadoran Coffee Council</td>\n",
              "      <td>3d4987e3b91399dbb3938b5bdf53893b6ef45be1</td>\n",
              "      <td>27b21e368fb8291cbea02c60623fe6c98f84524d</td>\n",
              "      <td>m</td>\n",
              "      <td>1350.0</td>\n",
              "      <td>1350.0</td>\n",
              "      <td>1350.0</td>\n",
              "    </tr>\n",
              "    <tr>\n",
              "      <th>801</th>\n",
              "      <td>82.00</td>\n",
              "      <td>Arabica</td>\n",
              "      <td>lin, che-hao krude 林哲豪</td>\n",
              "      <td>Taiwan</td>\n",
              "      <td>you siang coffee farmtainan, taiwan 台灣台南優香咖啡</td>\n",
              "      <td>None</td>\n",
              "      <td>you siang coffee farmtainan, taiwan 台灣台南優香咖啡</td>\n",
              "      <td>Taiwan</td>\n",
              "      <td>red on tree co., ltd.</td>\n",
              "      <td>600m</td>\n",
              "      <td>...</td>\n",
              "      <td>Green</td>\n",
              "      <td>0.0</td>\n",
              "      <td>July 22nd, 2015</td>\n",
              "      <td>Specialty Coffee Association</td>\n",
              "      <td>36d0d00a3724338ba7937c52a378d085f2172daa</td>\n",
              "      <td>0878a7d4b9d35ddbf0fe2ce69a2062cceb45a660</td>\n",
              "      <td>m</td>\n",
              "      <td>600.0</td>\n",
              "      <td>600.0</td>\n",
              "      <td>600.0</td>\n",
              "    </tr>\n",
              "    <tr>\n",
              "      <th>1068</th>\n",
              "      <td>80.50</td>\n",
              "      <td>Arabica</td>\n",
              "      <td>cqi taiwan icp cqi台灣合作夥伴</td>\n",
              "      <td>Taiwan</td>\n",
              "      <td>王秋金</td>\n",
              "      <td>1</td>\n",
              "      <td>non</td>\n",
              "      <td>None</td>\n",
              "      <td>王秋金</td>\n",
              "      <td>50</td>\n",
              "      <td>...</td>\n",
              "      <td>Blue-Green</td>\n",
              "      <td>0.0</td>\n",
              "      <td>December 8th, 2018</td>\n",
              "      <td>Blossom Valley International</td>\n",
              "      <td>fc45352eee499d8470cf94c9827922fb745bf815</td>\n",
              "      <td>de73fc9412358b523d3a641501e542f31d2668b0</td>\n",
              "      <td>m</td>\n",
              "      <td>50.0</td>\n",
              "      <td>50.0</td>\n",
              "      <td>50.0</td>\n",
              "    </tr>\n",
              "    <tr>\n",
              "      <th>1335</th>\n",
              "      <td>77.17</td>\n",
              "      <td>Robusta</td>\n",
              "      <td>james moore</td>\n",
              "      <td>United States</td>\n",
              "      <td>fazenda cazengo</td>\n",
              "      <td>None</td>\n",
              "      <td>cafe cazengo</td>\n",
              "      <td>None</td>\n",
              "      <td>global opportunity fund</td>\n",
              "      <td>795 meters</td>\n",
              "      <td>...</td>\n",
              "      <td>None</td>\n",
              "      <td>6.0</td>\n",
              "      <td>December 23rd, 2015</td>\n",
              "      <td>Specialty Coffee Association</td>\n",
              "      <td>ff7c18ad303d4b603ac3f8cff7e611ffc735e720</td>\n",
              "      <td>352d0cf7f3e9be14dad7df644ad65efc27605ae2</td>\n",
              "      <td>m</td>\n",
              "      <td>795.0</td>\n",
              "      <td>795.0</td>\n",
              "      <td>795.0</td>\n",
              "    </tr>\n",
              "  </tbody>\n",
              "</table>\n",
              "<p>6 rows × 43 columns</p>\n",
              "</div>\n",
              "    <div class=\"colab-df-buttons\">\n",
              "\n",
              "  <div class=\"colab-df-container\">\n",
              "    <button class=\"colab-df-convert\" onclick=\"convertToInteractive('df-a82394ee-bb4b-4a7c-aee3-031ec2d46b8f')\"\n",
              "            title=\"Convert this dataframe to an interactive table.\"\n",
              "            style=\"display:none;\">\n",
              "\n",
              "  <svg xmlns=\"http://www.w3.org/2000/svg\" height=\"24px\" viewBox=\"0 -960 960 960\">\n",
              "    <path d=\"M120-120v-720h720v720H120Zm60-500h600v-160H180v160Zm220 220h160v-160H400v160Zm0 220h160v-160H400v160ZM180-400h160v-160H180v160Zm440 0h160v-160H620v160ZM180-180h160v-160H180v160Zm440 0h160v-160H620v160Z\"/>\n",
              "  </svg>\n",
              "    </button>\n",
              "\n",
              "  <style>\n",
              "    .colab-df-container {\n",
              "      display:flex;\n",
              "      gap: 12px;\n",
              "    }\n",
              "\n",
              "    .colab-df-convert {\n",
              "      background-color: #E8F0FE;\n",
              "      border: none;\n",
              "      border-radius: 50%;\n",
              "      cursor: pointer;\n",
              "      display: none;\n",
              "      fill: #1967D2;\n",
              "      height: 32px;\n",
              "      padding: 0 0 0 0;\n",
              "      width: 32px;\n",
              "    }\n",
              "\n",
              "    .colab-df-convert:hover {\n",
              "      background-color: #E2EBFA;\n",
              "      box-shadow: 0px 1px 2px rgba(60, 64, 67, 0.3), 0px 1px 3px 1px rgba(60, 64, 67, 0.15);\n",
              "      fill: #174EA6;\n",
              "    }\n",
              "\n",
              "    .colab-df-buttons div {\n",
              "      margin-bottom: 4px;\n",
              "    }\n",
              "\n",
              "    [theme=dark] .colab-df-convert {\n",
              "      background-color: #3B4455;\n",
              "      fill: #D2E3FC;\n",
              "    }\n",
              "\n",
              "    [theme=dark] .colab-df-convert:hover {\n",
              "      background-color: #434B5C;\n",
              "      box-shadow: 0px 1px 3px 1px rgba(0, 0, 0, 0.15);\n",
              "      filter: drop-shadow(0px 1px 2px rgba(0, 0, 0, 0.3));\n",
              "      fill: #FFFFFF;\n",
              "    }\n",
              "  </style>\n",
              "\n",
              "    <script>\n",
              "      const buttonEl =\n",
              "        document.querySelector('#df-a82394ee-bb4b-4a7c-aee3-031ec2d46b8f button.colab-df-convert');\n",
              "      buttonEl.style.display =\n",
              "        google.colab.kernel.accessAllowed ? 'block' : 'none';\n",
              "\n",
              "      async function convertToInteractive(key) {\n",
              "        const element = document.querySelector('#df-a82394ee-bb4b-4a7c-aee3-031ec2d46b8f');\n",
              "        const dataTable =\n",
              "          await google.colab.kernel.invokeFunction('convertToInteractive',\n",
              "                                                    [key], {});\n",
              "        if (!dataTable) return;\n",
              "\n",
              "        const docLinkHtml = 'Like what you see? Visit the ' +\n",
              "          '<a target=\"_blank\" href=https://colab.research.google.com/notebooks/data_table.ipynb>data table notebook</a>'\n",
              "          + ' to learn more about interactive tables.';\n",
              "        element.innerHTML = '';\n",
              "        dataTable['output_type'] = 'display_data';\n",
              "        await google.colab.output.renderOutput(dataTable, element);\n",
              "        const docLink = document.createElement('div');\n",
              "        docLink.innerHTML = docLinkHtml;\n",
              "        element.appendChild(docLink);\n",
              "      }\n",
              "    </script>\n",
              "  </div>\n",
              "\n",
              "\n",
              "<div id=\"df-eade1e7f-e067-418d-9ab0-2e8e5bc2e628\">\n",
              "  <button class=\"colab-df-quickchart\" onclick=\"quickchart('df-eade1e7f-e067-418d-9ab0-2e8e5bc2e628')\"\n",
              "            title=\"Suggest charts\"\n",
              "            style=\"display:none;\">\n",
              "\n",
              "<svg xmlns=\"http://www.w3.org/2000/svg\" height=\"24px\"viewBox=\"0 0 24 24\"\n",
              "     width=\"24px\">\n",
              "    <g>\n",
              "        <path d=\"M19 3H5c-1.1 0-2 .9-2 2v14c0 1.1.9 2 2 2h14c1.1 0 2-.9 2-2V5c0-1.1-.9-2-2-2zM9 17H7v-7h2v7zm4 0h-2V7h2v10zm4 0h-2v-4h2v4z\"/>\n",
              "    </g>\n",
              "</svg>\n",
              "  </button>\n",
              "\n",
              "<style>\n",
              "  .colab-df-quickchart {\n",
              "      --bg-color: #E8F0FE;\n",
              "      --fill-color: #1967D2;\n",
              "      --hover-bg-color: #E2EBFA;\n",
              "      --hover-fill-color: #174EA6;\n",
              "      --disabled-fill-color: #AAA;\n",
              "      --disabled-bg-color: #DDD;\n",
              "  }\n",
              "\n",
              "  [theme=dark] .colab-df-quickchart {\n",
              "      --bg-color: #3B4455;\n",
              "      --fill-color: #D2E3FC;\n",
              "      --hover-bg-color: #434B5C;\n",
              "      --hover-fill-color: #FFFFFF;\n",
              "      --disabled-bg-color: #3B4455;\n",
              "      --disabled-fill-color: #666;\n",
              "  }\n",
              "\n",
              "  .colab-df-quickchart {\n",
              "    background-color: var(--bg-color);\n",
              "    border: none;\n",
              "    border-radius: 50%;\n",
              "    cursor: pointer;\n",
              "    display: none;\n",
              "    fill: var(--fill-color);\n",
              "    height: 32px;\n",
              "    padding: 0;\n",
              "    width: 32px;\n",
              "  }\n",
              "\n",
              "  .colab-df-quickchart:hover {\n",
              "    background-color: var(--hover-bg-color);\n",
              "    box-shadow: 0 1px 2px rgba(60, 64, 67, 0.3), 0 1px 3px 1px rgba(60, 64, 67, 0.15);\n",
              "    fill: var(--button-hover-fill-color);\n",
              "  }\n",
              "\n",
              "  .colab-df-quickchart-complete:disabled,\n",
              "  .colab-df-quickchart-complete:disabled:hover {\n",
              "    background-color: var(--disabled-bg-color);\n",
              "    fill: var(--disabled-fill-color);\n",
              "    box-shadow: none;\n",
              "  }\n",
              "\n",
              "  .colab-df-spinner {\n",
              "    border: 2px solid var(--fill-color);\n",
              "    border-color: transparent;\n",
              "    border-bottom-color: var(--fill-color);\n",
              "    animation:\n",
              "      spin 1s steps(1) infinite;\n",
              "  }\n",
              "\n",
              "  @keyframes spin {\n",
              "    0% {\n",
              "      border-color: transparent;\n",
              "      border-bottom-color: var(--fill-color);\n",
              "      border-left-color: var(--fill-color);\n",
              "    }\n",
              "    20% {\n",
              "      border-color: transparent;\n",
              "      border-left-color: var(--fill-color);\n",
              "      border-top-color: var(--fill-color);\n",
              "    }\n",
              "    30% {\n",
              "      border-color: transparent;\n",
              "      border-left-color: var(--fill-color);\n",
              "      border-top-color: var(--fill-color);\n",
              "      border-right-color: var(--fill-color);\n",
              "    }\n",
              "    40% {\n",
              "      border-color: transparent;\n",
              "      border-right-color: var(--fill-color);\n",
              "      border-top-color: var(--fill-color);\n",
              "    }\n",
              "    60% {\n",
              "      border-color: transparent;\n",
              "      border-right-color: var(--fill-color);\n",
              "    }\n",
              "    80% {\n",
              "      border-color: transparent;\n",
              "      border-right-color: var(--fill-color);\n",
              "      border-bottom-color: var(--fill-color);\n",
              "    }\n",
              "    90% {\n",
              "      border-color: transparent;\n",
              "      border-bottom-color: var(--fill-color);\n",
              "    }\n",
              "  }\n",
              "</style>\n",
              "\n",
              "  <script>\n",
              "    async function quickchart(key) {\n",
              "      const quickchartButtonEl =\n",
              "        document.querySelector('#' + key + ' button');\n",
              "      quickchartButtonEl.disabled = true;  // To prevent multiple clicks.\n",
              "      quickchartButtonEl.classList.add('colab-df-spinner');\n",
              "      try {\n",
              "        const charts = await google.colab.kernel.invokeFunction(\n",
              "            'suggestCharts', [key], {});\n",
              "      } catch (error) {\n",
              "        console.error('Error during call to suggestCharts:', error);\n",
              "      }\n",
              "      quickchartButtonEl.classList.remove('colab-df-spinner');\n",
              "      quickchartButtonEl.classList.add('colab-df-quickchart-complete');\n",
              "    }\n",
              "    (() => {\n",
              "      let quickchartButtonEl =\n",
              "        document.querySelector('#df-eade1e7f-e067-418d-9ab0-2e8e5bc2e628 button');\n",
              "      quickchartButtonEl.style.display =\n",
              "        google.colab.kernel.accessAllowed ? 'block' : 'none';\n",
              "    })();\n",
              "  </script>\n",
              "</div>\n",
              "    </div>\n",
              "  </div>\n"
            ]
          },
          "metadata": {},
          "execution_count": 37
        }
      ]
    },
    {
      "cell_type": "markdown",
      "source": [
        "La séléction des lignes permet d'avoir les 6 lignes avec à chaque fois une intervalle de 267"
      ],
      "metadata": {
        "id": "v-7HocL1s4Aj"
      }
    },
    {
      "cell_type": "markdown",
      "source": [
        "### **Le problème de l’échantillonnage systématique**"
      ],
      "metadata": {
        "id": "HqxclHOZtXcD"
      }
    },
    {
      "cell_type": "code",
      "source": [
        "import matplotlib.pyplot as plt"
      ],
      "metadata": {
        "id": "kxgwAle4tuDf"
      },
      "execution_count": null,
      "outputs": []
    },
    {
      "cell_type": "code",
      "source": [
        "coffee_ratings_with_id = coffee_ratings.reset_index()\n",
        "coffee_ratings_with_id.plot(x=\"index\", y=\"aftertaste\", kind=\"scatter\")\n",
        "plt.show()\n"
      ],
      "metadata": {
        "colab": {
          "base_uri": "https://localhost:8080/",
          "height": 449
        },
        "id": "NrK5u0kdtPXw",
        "outputId": "8287054c-a763-432a-e4b8-bca2960815a0"
      },
      "execution_count": null,
      "outputs": [
        {
          "output_type": "display_data",
          "data": {
            "text/plain": [
              "<Figure size 640x480 with 1 Axes>"
            ],
            "image/png": "[encoded data removed]"
          },
          "metadata": {}
        }
      ]
    },
    {
      "cell_type": "markdown",
      "source": [
        "L'échantillonnage systématique n'est sûr que si nous ne voyons pas de tendance dans ce nuage de points"
      ],
      "metadata": {
        "id": "amtpkQ2muAJc"
      }
    },
    {
      "cell_type": "markdown",
      "source": [
        "### **Sécuriser l’échantillonnage systématique**"
      ],
      "metadata": {
        "id": "nLObV-vwuMf0"
      }
    },
    {
      "cell_type": "code",
      "source": [
        "shuffled = coffee_ratings.sample(frac=1)\n",
        "shuffled = shuffled.reset_index(drop=True).reset_index()\n",
        "shuffled.plot(x=\"index\", y=\"aftertaste\", kind=\"scatter\")\n",
        "plt.show()\n"
      ],
      "metadata": {
        "colab": {
          "base_uri": "https://localhost:8080/",
          "height": 449
        },
        "id": "TE4QQcRLuHkc",
        "outputId": "e8f4b382-4596-46d2-ece2-a2e06863f708"
      },
      "execution_count": null,
      "outputs": [
        {
          "output_type": "display_data",
          "data": {
            "text/plain": [
              "<Figure size 640x480 with 1 Axes>"
            ],
            "image/png": "[encoded data removed]"
          },
          "metadata": {}
        }
      ]
    },
    {
      "cell_type": "markdown",
      "source": [
        "Le brassage des lignes + l'échantillonnage systématique est identique à l'échantillonnage aléatoire simple\n"
      ],
      "metadata": {
        "id": "Wq4SJCeJuuDn"
      }
    },
    {
      "cell_type": "markdown",
      "source": [
        "# **échantillonage stratifié et aléatoire pondéré**"
      ],
      "metadata": {
        "id": "1-ycjuK_vIey"
      }
    },
    {
      "cell_type": "markdown",
      "source": [
        "### **café par Pays**"
      ],
      "metadata": {
        "id": "4ZOu6ICevZ67"
      }
    },
    {
      "cell_type": "code",
      "source": [
        "top_counts = coffee_ratings['country_of_origin'].value_counts()\n",
        "top_counts.head(6)\n"
      ],
      "metadata": {
        "colab": {
          "base_uri": "https://localhost:8080/"
        },
        "id": "oPhFH8Nzuy35",
        "outputId": "b4fb5e02-d059-42ec-d8e6-8acbd6189bfb"
      },
      "execution_count": null,
      "outputs": [
        {
          "output_type": "execute_result",
          "data": {
            "text/plain": [
              "Mexico                    236\n",
              "Colombia                  183\n",
              "Guatemala                 181\n",
              "Brazil                    132\n",
              "Taiwan                     75\n",
              "United States (Hawaii)     73\n",
              "Name: country_of_origin, dtype: int64"
            ]
          },
          "metadata": {},
          "execution_count": 41
        }
      ]
    },
    {
      "cell_type": "markdown",
      "source": [
        "L'ensemble de données répertorie Hawaï et Taiwan comme pays pour plus de commodité, car ce sont des régions productrices de café remarquables."
      ],
      "metadata": {
        "id": "Yf_VoZiwvu5R"
      }
    },
    {
      "cell_type": "markdown",
      "source": [
        "## **Filtrage pour 6 pays**"
      ],
      "metadata": {
        "id": "WbI7V1Ofv2ES"
      }
    },
    {
      "cell_type": "code",
      "source": [
        "top_counted_countries = [\"Mexico\",\"Colombia\",\"Guatemala\",\"Brazil\",\"Taiwan\",\"United States (Hawaii)\"]\n",
        "top_counted_subset = coffee_ratings['country_of_origin'].isin(top_counted_countries)\n",
        "coffee_ratings_top = coffee_ratings[top_counted_subset]\n"
      ],
      "metadata": {
        "id": "aljtvq-4vxxJ"
      },
      "execution_count": null,
      "outputs": []
    },
    {
      "cell_type": "markdown",
      "source": [
        "## **Décomptes d'un échantillon aléatoire simple**\n"
      ],
      "metadata": {
        "id": "_fQ5BkOew8n7"
      }
    },
    {
      "cell_type": "markdown",
      "source": [
        "## **Comparer les proportions**"
      ],
      "metadata": {
        "id": "obuApmadx1z1"
      }
    },
    {
      "cell_type": "markdown",
      "source": [
        "### **10% de l'Échantillon aléatoire simple**"
      ],
      "metadata": {
        "id": "nhznryOdyBPR"
      }
    },
    {
      "cell_type": "code",
      "source": [
        "coffee_ratings_samp = coffee_ratings_top.sample(frac=0.1, random_state=2021)\n",
        "coffee_ratings_samp['country_of_origin'].value_counts(normalize=True)"
      ],
      "metadata": {
        "colab": {
          "base_uri": "https://localhost:8080/"
        },
        "id": "upZFX88cxB7L",
        "outputId": "ceb1160e-4c56-4d26-dfcf-02a2f85d4891"
      },
      "execution_count": null,
      "outputs": [
        {
          "output_type": "execute_result",
          "data": {
            "text/plain": [
              "Mexico                    0.250000\n",
              "Guatemala                 0.204545\n",
              "Colombia                  0.181818\n",
              "Brazil                    0.181818\n",
              "United States (Hawaii)    0.102273\n",
              "Taiwan                    0.079545\n",
              "Name: country_of_origin, dtype: float64"
            ]
          },
          "metadata": {},
          "execution_count": 43
        }
      ]
    },
    {
      "cell_type": "markdown",
      "source": [
        "## **La proportion de la population**"
      ],
      "metadata": {
        "id": "JX6KJ20Wy5lO"
      }
    },
    {
      "cell_type": "code",
      "source": [
        "coffee_ratings_top['country_of_origin'].value_counts(normalize=True)\n"
      ],
      "metadata": {
        "colab": {
          "base_uri": "https://localhost:8080/"
        },
        "id": "-vSNWUmvyZDg",
        "outputId": "4f6d1cd6-31c5-4bad-8648-aceeada74364"
      },
      "execution_count": null,
      "outputs": [
        {
          "output_type": "execute_result",
          "data": {
            "text/plain": [
              "Mexico                    0.268182\n",
              "Colombia                  0.207955\n",
              "Guatemala                 0.205682\n",
              "Brazil                    0.150000\n",
              "Taiwan                    0.085227\n",
              "United States (Hawaii)    0.082955\n",
              "Name: country_of_origin, dtype: float64"
            ]
          },
          "metadata": {},
          "execution_count": 44
        }
      ]
    },
    {
      "cell_type": "markdown",
      "source": [
        "## **La proportion de l' Échantillonnage stratifié**"
      ],
      "metadata": {
        "id": "0yLAZ2w6zPZ7"
      }
    },
    {
      "cell_type": "code",
      "source": [
        "coffee_ratings_strat = coffee_ratings_top.groupby(\"country_of_origin\").sample(frac=0.1, random_state=2021)\n",
        "coffee_ratings_strat['country_of_origin'].value_counts(normalize=True)"
      ],
      "metadata": {
        "colab": {
          "base_uri": "https://localhost:8080/"
        },
        "id": "ggGhNz-ozX7H",
        "outputId": "2a8d352a-03b8-43de-d3b5-02eba9516ced"
      },
      "execution_count": null,
      "outputs": [
        {
          "output_type": "execute_result",
          "data": {
            "text/plain": [
              "Mexico                    0.272727\n",
              "Colombia                  0.204545\n",
              "Guatemala                 0.204545\n",
              "Brazil                    0.147727\n",
              "Taiwan                    0.090909\n",
              "United States (Hawaii)    0.079545\n",
              "Name: country_of_origin, dtype: float64"
            ]
          },
          "metadata": {},
          "execution_count": 45
        }
      ]
    },
    {
      "cell_type": "markdown",
      "source": [
        "## **Échantillonnage stratifié à nombres égaux**"
      ],
      "metadata": {
        "id": "QA5gHZ6O0Svo"
      }
    },
    {
      "cell_type": "code",
      "source": [
        "coffee_ratings_eq = coffee_ratings_top.groupby(\"country_of_origin\").sample(n=15, random_state=2021)\n",
        "coffee_ratings_eq['country_of_origin'].value_counts(normalize=True)"
      ],
      "metadata": {
        "colab": {
          "base_uri": "https://localhost:8080/"
        },
        "id": "d_c5tKBP0bfX",
        "outputId": "5937368b-20e0-4356-8449-f7f44fdaf137"
      },
      "execution_count": null,
      "outputs": [
        {
          "output_type": "execute_result",
          "data": {
            "text/plain": [
              "Brazil                    0.166667\n",
              "Colombia                  0.166667\n",
              "Guatemala                 0.166667\n",
              "Mexico                    0.166667\n",
              "Taiwan                    0.166667\n",
              "United States (Hawaii)    0.166667\n",
              "Name: country_of_origin, dtype: float64"
            ]
          },
          "metadata": {},
          "execution_count": 46
        }
      ]
    },
    {
      "cell_type": "markdown",
      "source": [
        "## **Échantillonnage aléatoire pondéré**"
      ],
      "metadata": {
        "id": "bsl8tkks08tr"
      }
    },
    {
      "cell_type": "markdown",
      "source": [
        "Spécifier des poids pour ajuster la probabilité relative qu'une ligne soit échantillonnée"
      ],
      "metadata": {
        "id": "K8eSHlwU1XNX"
      }
    },
    {
      "cell_type": "code",
      "source": [
        "import numpy as np\n",
        "\n",
        "coffee_ratings_weight = coffee_ratings_top\n",
        "condition = coffee_ratings_weight['country_of_origin'] == \"Taiwan\"\n"
      ],
      "metadata": {
        "id": "tIO5RY4z1bvK"
      },
      "execution_count": null,
      "outputs": []
    },
    {
      "cell_type": "code",
      "source": [
        "coffee_ratings_weight['weight'] = np.where(condition, 2, 1)\n"
      ],
      "metadata": {
        "colab": {
          "base_uri": "https://localhost:8080/"
        },
        "id": "irdAV7lB18bQ",
        "outputId": "db20f9cb-fe75-470e-ecdf-6a901f029029"
      },
      "execution_count": null,
      "outputs": [
        {
          "output_type": "stream",
          "name": "stderr",
          "text": [
            "<ipython-input-48-f45e57c74173>:1: SettingWithCopyWarning: \n",
            "A value is trying to be set on a copy of a slice from a DataFrame.\n",
            "Try using .loc[row_indexer,col_indexer] = value instead\n",
            "\n",
            "See the caveats in the documentation: https://pandas.pydata.org/pandas-docs/stable/user_guide/indexing.html#returning-a-view-versus-a-copy\n",
            "  coffee_ratings_weight['weight'] = np.where(condition, 2, 1)\n"
          ]
        }
      ]
    },
    {
      "cell_type": "code",
      "source": [
        "coffee_ratings_weight = coffee_ratings_weight.sample(frac=0.1, weights=\"weight\")\n"
      ],
      "metadata": {
        "id": "KHrL3-h52HYx"
      },
      "execution_count": null,
      "outputs": []
    },
    {
      "cell_type": "markdown",
      "source": [
        "## **Résultats de l'échantillonnage aléatoire pondéré**"
      ],
      "metadata": {
        "id": "7wq4H04u2X84"
      }
    },
    {
      "cell_type": "markdown",
      "source": [
        "Échantillon pondéré à 10 % :"
      ],
      "metadata": {
        "id": "C60wGK7l2fb9"
      }
    },
    {
      "cell_type": "code",
      "source": [
        "coffee_ratings_weight['country_of_origin'].value_counts(normalize=True)\n"
      ],
      "metadata": {
        "colab": {
          "base_uri": "https://localhost:8080/"
        },
        "id": "-BVClUEy2eoY",
        "outputId": "4ac46a8c-86c9-4237-94b5-4299a95d7447"
      },
      "execution_count": null,
      "outputs": [
        {
          "output_type": "execute_result",
          "data": {
            "text/plain": [
              "Mexico                    0.250000\n",
              "Guatemala                 0.193182\n",
              "Colombia                  0.193182\n",
              "Brazil                    0.159091\n",
              "United States (Hawaii)    0.113636\n",
              "Taiwan                    0.090909\n",
              "Name: country_of_origin, dtype: float64"
            ]
          },
          "metadata": {},
          "execution_count": 50
        }
      ]
    },
    {
      "cell_type": "markdown",
      "source": [
        "# **Échantillonnage en grappes(en cluster)**"
      ],
      "metadata": {
        "id": "WYRzyDHW3Pi8"
      }
    },
    {
      "cell_type": "markdown",
      "source": [
        "## **Échantillonnage stratifié vs échantillonnage en grappes**\n",
        "### **Échantillonnage stratifié**\n",
        "Diviser la population en sous-groupes\n",
        "\n",
        "Utiliser un échantillonnage aléatoire simple sur chaque sous-groupe\n",
        "### **Échantillonnage en grappes**\n",
        "Utiliser un échantillonnage aléatoire simple pour sélectionner certains sous-groupes\n",
        "\n",
        "Utiliser un échantillonnage aléatoire simple uniquement sur ces sous-groupes"
      ],
      "metadata": {
        "id": "CvFoXgmS3fbc"
      }
    },
    {
      "cell_type": "markdown",
      "source": [
        "## **variété de café**"
      ],
      "metadata": {
        "id": "oNCMkUb84TGo"
      }
    },
    {
      "cell_type": "code",
      "source": [
        "varieties_pop = list(coffee_ratings['variety'].unique())\n",
        "varieties_pop"
      ],
      "metadata": {
        "colab": {
          "base_uri": "https://localhost:8080/"
        },
        "id": "l3X9LFL43Wc6",
        "outputId": "5f86d151-6a39-47a4-a7cf-de068185f374"
      },
      "execution_count": null,
      "outputs": [
        {
          "output_type": "execute_result",
          "data": {
            "text/plain": [
              "[None,\n",
              " 'Other',\n",
              " 'Bourbon',\n",
              " 'Catimor',\n",
              " 'Ethiopian Yirgacheffe',\n",
              " 'Caturra',\n",
              " 'SL14',\n",
              " 'Sumatra',\n",
              " 'SL34',\n",
              " 'Hawaiian Kona',\n",
              " 'Yellow Bourbon',\n",
              " 'SL28',\n",
              " 'Gesha',\n",
              " 'Catuai',\n",
              " 'Pacamara',\n",
              " 'Typica',\n",
              " 'Sumatra Lintong',\n",
              " 'Mundo Novo',\n",
              " 'Java',\n",
              " 'Peaberry',\n",
              " 'Pacas',\n",
              " 'Mandheling',\n",
              " 'Ruiru 11',\n",
              " 'Arusha',\n",
              " 'Ethiopian Heirlooms',\n",
              " 'Moka Peaberry',\n",
              " 'Sulawesi',\n",
              " 'Blue Mountain',\n",
              " 'Marigojipe',\n",
              " 'Pache Comun']"
            ]
          },
          "metadata": {},
          "execution_count": 51
        }
      ]
    },
    {
      "cell_type": "markdown",
      "source": [
        "## **Étape 1 : échantillonnage par sous-groupes**\n"
      ],
      "metadata": {
        "id": "Ql2V4q3c42wC"
      }
    },
    {
      "cell_type": "code",
      "source": [
        "import random\n",
        "varieties_samp = random.sample(varieties_pop, k=3)\n",
        "varieties_samp"
      ],
      "metadata": {
        "colab": {
          "base_uri": "https://localhost:8080/"
        },
        "id": "yKbCa32j4PB7",
        "outputId": "807807a0-33fb-4d7d-8b79-8a48bb968b5b"
      },
      "execution_count": null,
      "outputs": [
        {
          "output_type": "execute_result",
          "data": {
            "text/plain": [
              "['SL14', 'Mandheling', 'Catimor']"
            ]
          },
          "metadata": {},
          "execution_count": 52
        }
      ]
    },
    {
      "cell_type": "markdown",
      "source": [
        "##**Étape 2 : échantillonner chaque groupe**"
      ],
      "metadata": {
        "id": "RgzZr7zk5byf"
      }
    },
    {
      "cell_type": "code",
      "source": [
        "variety_condition = coffee_ratings['variety'].isin(varieties_samp)\n",
        "coffee_ratings_cluster = coffee_ratings[variety_condition]\n"
      ],
      "metadata": {
        "id": "CkkKFZol5VmT"
      },
      "execution_count": null,
      "outputs": []
    },
    {
      "cell_type": "code",
      "source": [
        "#coffee_ratings_cluster['variety'] = coffee_ratings_cluster['variety'].cat.remove_unused_categories()\n",
        "#coffee_ratings_cluster.groupby(\"variety\").sample(n=5, random_state=2021)\n"
      ],
      "metadata": {
        "id": "uswVIMR654XA"
      },
      "execution_count": null,
      "outputs": []
    },
    {
      "cell_type": "markdown",
      "source": [
        "## **Échantillonnage à plusieurs degrés**\n",
        "L'échantillonnage en grappes est un type d'échantillonnage à plusieurs degrés\n",
        "## Peut avoir > 2 étapes\n",
        "Par exemple, les enquêtes à l'échelle nationale peuvent échantillonner des États, des comtés, des villes et des quartiers."
      ],
      "metadata": {
        "id": "WfhAet7_76Gm"
      }
    },
    {
      "cell_type": "markdown",
      "source": [
        "## **méthodes d'échantillonnage Comparant**"
      ],
      "metadata": {
        "id": "waP9PBcc8RGR"
      }
    },
    {
      "cell_type": "markdown",
      "source": [
        "## **Revue des techniques d'échantillonnage - configuration**\n"
      ],
      "metadata": {
        "id": "EuJUgTac9Fw9"
      }
    },
    {
      "cell_type": "code",
      "source": [
        "top_counted_countries = [\"Mexico\",\"Colombia\",\"Guatemala\",\"Brazil\",\"Taiwan\",\"United States (Hawaii)\"]\n",
        "subset_condition = coffee_ratings['country_of_origin'].isin(top_counted_countries)\n",
        "coffee_ratings_top = coffee_ratings[subset_condition]\n",
        "coffee_ratings_top.shape"
      ],
      "metadata": {
        "colab": {
          "base_uri": "https://localhost:8080/"
        },
        "id": "npLM45qz8EnS",
        "outputId": "eaf1f425-512f-421e-857c-3491f03c7c54"
      },
      "execution_count": null,
      "outputs": [
        {
          "output_type": "execute_result",
          "data": {
            "text/plain": [
              "(880, 43)"
            ]
          },
          "metadata": {},
          "execution_count": 57
        }
      ]
    },
    {
      "cell_type": "markdown",
      "source": [
        "## **Examen de l'échantillonnage aléatoire simple**"
      ],
      "metadata": {
        "id": "EJKwCXT49N3h"
      }
    },
    {
      "cell_type": "code",
      "source": [
        "coffee_ratings_srs = coffee_ratings_top.sample(frac=1/3, random_state=2021)\n",
        "coffee_ratings_srs.shape\n"
      ],
      "metadata": {
        "colab": {
          "base_uri": "https://localhost:8080/"
        },
        "id": "iETdwDbw9VMg",
        "outputId": "acc28528-1ec4-4db4-9a09-e7761bd556e3"
      },
      "execution_count": null,
      "outputs": [
        {
          "output_type": "execute_result",
          "data": {
            "text/plain": [
              "(293, 43)"
            ]
          },
          "metadata": {},
          "execution_count": 58
        }
      ]
    },
    {
      "cell_type": "markdown",
      "source": [
        "## **Examen de l'échantillonnage stratifié**"
      ],
      "metadata": {
        "id": "AVC__fo997p3"
      }
    },
    {
      "cell_type": "code",
      "source": [
        "coffee_ratings_strat = coffee_ratings_top.groupby(\"country_of_origin\").sample(frac=1/3, random_state=2021)\n",
        "coffee_ratings_strat.shape\n"
      ],
      "metadata": {
        "colab": {
          "base_uri": "https://localhost:8080/"
        },
        "id": "HlFCbvz69-gO",
        "outputId": "835f8fc7-efe0-431a-8fc2-30e240902932"
      },
      "execution_count": null,
      "outputs": [
        {
          "output_type": "execute_result",
          "data": {
            "text/plain": [
              "(293, 43)"
            ]
          },
          "metadata": {},
          "execution_count": 59
        }
      ]
    },
    {
      "cell_type": "markdown",
      "source": [
        "## **Examen de l'échantillonnage en grappes**"
      ],
      "metadata": {
        "id": "x_fBpEZM-dP0"
      }
    },
    {
      "cell_type": "code",
      "source": [
        "import random\n",
        "top_countries_samp = random.sample(top_counted_countries, k=2)\n",
        "top_condition = coffee_ratings_top['country_of_origin'].isin(top_countries_samp)\n",
        "coffee_ratings_cluster = coffee_ratings_top[top_condition]\n",
        "coffee_ratings_cluster['country_of_origin'] = coffee_ratings_cluster['country_of_origin'].cat.remove_unused_categories()\n",
        "coffee_ratings_clust = coffee_ratings_cluster.groupby(\"country_of_origin\").sample(n=len(coffee_ratings_top) // 6)"
      ],
      "metadata": {
        "colab": {
          "base_uri": "https://localhost:8080/",
          "height": 373
        },
        "id": "_smmORhY-f5u",
        "outputId": "a8571e59-5645-4c57-a9be-da29050eaccb"
      },
      "execution_count": null,
      "outputs": [
        {
          "output_type": "error",
          "ename": "AttributeError",
          "evalue": "Can only use .cat accessor with a 'category' dtype",
          "traceback": [
            "\u001b[0;31m---------------------------------------------------------------------------\u001b[0m",
            "\u001b[0;31mAttributeError\u001b[0m                            Traceback (most recent call last)",
            "\u001b[0;32m<ipython-input-60-a4bbc38eefa2>\u001b[0m in \u001b[0;36m<cell line: 5>\u001b[0;34m()\u001b[0m\n\u001b[1;32m      3\u001b[0m \u001b[0mtop_condition\u001b[0m \u001b[0;34m=\u001b[0m \u001b[0mcoffee_ratings_top\u001b[0m\u001b[0;34m[\u001b[0m\u001b[0;34m'country_of_origin'\u001b[0m\u001b[0;34m]\u001b[0m\u001b[0;34m.\u001b[0m\u001b[0misin\u001b[0m\u001b[0;34m(\u001b[0m\u001b[0mtop_countries_samp\u001b[0m\u001b[0;34m)\u001b[0m\u001b[0;34m\u001b[0m\u001b[0;34m\u001b[0m\u001b[0m\n\u001b[1;32m      4\u001b[0m \u001b[0mcoffee_ratings_cluster\u001b[0m \u001b[0;34m=\u001b[0m \u001b[0mcoffee_ratings_top\u001b[0m\u001b[0;34m[\u001b[0m\u001b[0mtop_condition\u001b[0m\u001b[0;34m]\u001b[0m\u001b[0;34m\u001b[0m\u001b[0;34m\u001b[0m\u001b[0m\n\u001b[0;32m----> 5\u001b[0;31m \u001b[0mcoffee_ratings_cluster\u001b[0m\u001b[0;34m[\u001b[0m\u001b[0;34m'country_of_origin'\u001b[0m\u001b[0;34m]\u001b[0m \u001b[0;34m=\u001b[0m \u001b[0mcoffee_ratings_cluster\u001b[0m\u001b[0;34m[\u001b[0m\u001b[0;34m'country_of_origin'\u001b[0m\u001b[0;34m]\u001b[0m\u001b[0;34m.\u001b[0m\u001b[0mcat\u001b[0m\u001b[0;34m.\u001b[0m\u001b[0mremove_unused_categories\u001b[0m\u001b[0;34m(\u001b[0m\u001b[0;34m)\u001b[0m\u001b[0;34m\u001b[0m\u001b[0;34m\u001b[0m\u001b[0m\n\u001b[0m\u001b[1;32m      6\u001b[0m \u001b[0mcoffee_ratings_clust\u001b[0m \u001b[0;34m=\u001b[0m \u001b[0mcoffee_ratings_cluster\u001b[0m\u001b[0;34m.\u001b[0m\u001b[0mgroupby\u001b[0m\u001b[0;34m(\u001b[0m\u001b[0;34m\"country_of_origin\"\u001b[0m\u001b[0;34m)\u001b[0m\u001b[0;34m.\u001b[0m\u001b[0msample\u001b[0m\u001b[0;34m(\u001b[0m\u001b[0mn\u001b[0m\u001b[0;34m=\u001b[0m\u001b[0mlen\u001b[0m\u001b[0;34m(\u001b[0m\u001b[0mcoffee_ratings_top\u001b[0m\u001b[0;34m)\u001b[0m \u001b[0;34m//\u001b[0m \u001b[0;36m6\u001b[0m\u001b[0;34m)\u001b[0m\u001b[0;34m\u001b[0m\u001b[0;34m\u001b[0m\u001b[0m\n",
            "\u001b[0;32m/usr/local/lib/python3.10/dist-packages/pandas/core/generic.py\u001b[0m in \u001b[0;36m__getattr__\u001b[0;34m(self, name)\u001b[0m\n\u001b[1;32m   5900\u001b[0m         ):\n\u001b[1;32m   5901\u001b[0m             \u001b[0;32mreturn\u001b[0m \u001b[0mself\u001b[0m\u001b[0;34m[\u001b[0m\u001b[0mname\u001b[0m\u001b[0;34m]\u001b[0m\u001b[0;34m\u001b[0m\u001b[0;34m\u001b[0m\u001b[0m\n\u001b[0;32m-> 5902\u001b[0;31m         \u001b[0;32mreturn\u001b[0m \u001b[0mobject\u001b[0m\u001b[0;34m.\u001b[0m\u001b[0m__getattribute__\u001b[0m\u001b[0;34m(\u001b[0m\u001b[0mself\u001b[0m\u001b[0;34m,\u001b[0m \u001b[0mname\u001b[0m\u001b[0;34m)\u001b[0m\u001b[0;34m\u001b[0m\u001b[0;34m\u001b[0m\u001b[0m\n\u001b[0m\u001b[1;32m   5903\u001b[0m \u001b[0;34m\u001b[0m\u001b[0m\n\u001b[1;32m   5904\u001b[0m     \u001b[0;32mdef\u001b[0m \u001b[0m__setattr__\u001b[0m\u001b[0;34m(\u001b[0m\u001b[0mself\u001b[0m\u001b[0;34m,\u001b[0m \u001b[0mname\u001b[0m\u001b[0;34m:\u001b[0m \u001b[0mstr\u001b[0m\u001b[0;34m,\u001b[0m \u001b[0mvalue\u001b[0m\u001b[0;34m)\u001b[0m \u001b[0;34m->\u001b[0m \u001b[0;32mNone\u001b[0m\u001b[0;34m:\u001b[0m\u001b[0;34m\u001b[0m\u001b[0;34m\u001b[0m\u001b[0m\n",
            "\u001b[0;32m/usr/local/lib/python3.10/dist-packages/pandas/core/accessor.py\u001b[0m in \u001b[0;36m__get__\u001b[0;34m(self, obj, cls)\u001b[0m\n\u001b[1;32m    180\u001b[0m             \u001b[0;31m# we're accessing the attribute of the class, i.e., Dataset.geo\u001b[0m\u001b[0;34m\u001b[0m\u001b[0;34m\u001b[0m\u001b[0m\n\u001b[1;32m    181\u001b[0m             \u001b[0;32mreturn\u001b[0m \u001b[0mself\u001b[0m\u001b[0;34m.\u001b[0m\u001b[0m_accessor\u001b[0m\u001b[0;34m\u001b[0m\u001b[0;34m\u001b[0m\u001b[0m\n\u001b[0;32m--> 182\u001b[0;31m         \u001b[0maccessor_obj\u001b[0m \u001b[0;34m=\u001b[0m \u001b[0mself\u001b[0m\u001b[0;34m.\u001b[0m\u001b[0m_accessor\u001b[0m\u001b[0;34m(\u001b[0m\u001b[0mobj\u001b[0m\u001b[0;34m)\u001b[0m\u001b[0;34m\u001b[0m\u001b[0;34m\u001b[0m\u001b[0m\n\u001b[0m\u001b[1;32m    183\u001b[0m         \u001b[0;31m# Replace the property with the accessor object. Inspired by:\u001b[0m\u001b[0;34m\u001b[0m\u001b[0;34m\u001b[0m\u001b[0m\n\u001b[1;32m    184\u001b[0m         \u001b[0;31m# https://www.pydanny.com/cached-property.html\u001b[0m\u001b[0;34m\u001b[0m\u001b[0;34m\u001b[0m\u001b[0m\n",
            "\u001b[0;32m/usr/local/lib/python3.10/dist-packages/pandas/core/arrays/categorical.py\u001b[0m in \u001b[0;36m__init__\u001b[0;34m(self, data)\u001b[0m\n\u001b[1;32m   2847\u001b[0m \u001b[0;34m\u001b[0m\u001b[0m\n\u001b[1;32m   2848\u001b[0m     \u001b[0;32mdef\u001b[0m \u001b[0m__init__\u001b[0m\u001b[0;34m(\u001b[0m\u001b[0mself\u001b[0m\u001b[0;34m,\u001b[0m \u001b[0mdata\u001b[0m\u001b[0;34m)\u001b[0m \u001b[0;34m->\u001b[0m \u001b[0;32mNone\u001b[0m\u001b[0;34m:\u001b[0m\u001b[0;34m\u001b[0m\u001b[0;34m\u001b[0m\u001b[0m\n\u001b[0;32m-> 2849\u001b[0;31m         \u001b[0mself\u001b[0m\u001b[0;34m.\u001b[0m\u001b[0m_validate\u001b[0m\u001b[0;34m(\u001b[0m\u001b[0mdata\u001b[0m\u001b[0;34m)\u001b[0m\u001b[0;34m\u001b[0m\u001b[0;34m\u001b[0m\u001b[0m\n\u001b[0m\u001b[1;32m   2850\u001b[0m         \u001b[0mself\u001b[0m\u001b[0;34m.\u001b[0m\u001b[0m_parent\u001b[0m \u001b[0;34m=\u001b[0m \u001b[0mdata\u001b[0m\u001b[0;34m.\u001b[0m\u001b[0mvalues\u001b[0m\u001b[0;34m\u001b[0m\u001b[0;34m\u001b[0m\u001b[0m\n\u001b[1;32m   2851\u001b[0m         \u001b[0mself\u001b[0m\u001b[0;34m.\u001b[0m\u001b[0m_index\u001b[0m \u001b[0;34m=\u001b[0m \u001b[0mdata\u001b[0m\u001b[0;34m.\u001b[0m\u001b[0mindex\u001b[0m\u001b[0;34m\u001b[0m\u001b[0;34m\u001b[0m\u001b[0m\n",
            "\u001b[0;32m/usr/local/lib/python3.10/dist-packages/pandas/core/arrays/categorical.py\u001b[0m in \u001b[0;36m_validate\u001b[0;34m(data)\u001b[0m\n\u001b[1;32m   2856\u001b[0m     \u001b[0;32mdef\u001b[0m \u001b[0m_validate\u001b[0m\u001b[0;34m(\u001b[0m\u001b[0mdata\u001b[0m\u001b[0;34m)\u001b[0m\u001b[0;34m:\u001b[0m\u001b[0;34m\u001b[0m\u001b[0;34m\u001b[0m\u001b[0m\n\u001b[1;32m   2857\u001b[0m         \u001b[0;32mif\u001b[0m \u001b[0;32mnot\u001b[0m \u001b[0mis_categorical_dtype\u001b[0m\u001b[0;34m(\u001b[0m\u001b[0mdata\u001b[0m\u001b[0;34m.\u001b[0m\u001b[0mdtype\u001b[0m\u001b[0;34m)\u001b[0m\u001b[0;34m:\u001b[0m\u001b[0;34m\u001b[0m\u001b[0;34m\u001b[0m\u001b[0m\n\u001b[0;32m-> 2858\u001b[0;31m             \u001b[0;32mraise\u001b[0m \u001b[0mAttributeError\u001b[0m\u001b[0;34m(\u001b[0m\u001b[0;34m\"Can only use .cat accessor with a 'category' dtype\"\u001b[0m\u001b[0;34m)\u001b[0m\u001b[0;34m\u001b[0m\u001b[0;34m\u001b[0m\u001b[0m\n\u001b[0m\u001b[1;32m   2859\u001b[0m \u001b[0;34m\u001b[0m\u001b[0m\n\u001b[1;32m   2860\u001b[0m     \u001b[0;32mdef\u001b[0m \u001b[0m_delegate_property_get\u001b[0m\u001b[0;34m(\u001b[0m\u001b[0mself\u001b[0m\u001b[0;34m,\u001b[0m \u001b[0mname\u001b[0m\u001b[0;34m)\u001b[0m\u001b[0;34m:\u001b[0m\u001b[0;34m\u001b[0m\u001b[0;34m\u001b[0m\u001b[0m\n",
            "\u001b[0;31mAttributeError\u001b[0m: Can only use .cat accessor with a 'category' dtype"
          ]
        }
      ]
    },
    {
      "cell_type": "code",
      "source": [
        "coffee_ratings_clust.shape"
      ],
      "metadata": {
        "colab": {
          "base_uri": "https://localhost:8080/",
          "height": 175
        },
        "id": "pN6G2KIB_xlK",
        "outputId": "4664edeb-f595-4647-f9f0-fcf967e7ca87"
      },
      "execution_count": null,
      "outputs": [
        {
          "output_type": "error",
          "ename": "NameError",
          "evalue": "name 'coffee_ratings_clust' is not defined",
          "traceback": [
            "\u001b[0;31m---------------------------------------------------------------------------\u001b[0m",
            "\u001b[0;31mNameError\u001b[0m                                 Traceback (most recent call last)",
            "\u001b[0;32m<ipython-input-61-804b2e5ff499>\u001b[0m in \u001b[0;36m<cell line: 1>\u001b[0;34m()\u001b[0m\n\u001b[0;32m----> 1\u001b[0;31m \u001b[0mcoffee_ratings_clust\u001b[0m\u001b[0;34m.\u001b[0m\u001b[0mshape\u001b[0m\u001b[0;34m\u001b[0m\u001b[0;34m\u001b[0m\u001b[0m\n\u001b[0m",
            "\u001b[0;31mNameError\u001b[0m: name 'coffee_ratings_clust' is not defined"
          ]
        }
      ]
    },
    {
      "cell_type": "markdown",
      "source": [
        "## **Calcul des points moyens de coupe**"
      ],
      "metadata": {
        "id": "S9pCIAbCAEYY"
      }
    },
    {
      "cell_type": "markdown",
      "source": [
        "## **La population**"
      ],
      "metadata": {
        "id": "9DoeURHMAMZz"
      }
    },
    {
      "cell_type": "code",
      "source": [
        "coffee_ratings_top['total_cup_points'].mean()\n"
      ],
      "metadata": {
        "colab": {
          "base_uri": "https://localhost:8080/"
        },
        "id": "avu1kTfdARlG",
        "outputId": "beacd3dc-7fb5-4a98-e1f0-07fce172a049"
      },
      "execution_count": null,
      "outputs": [
        {
          "output_type": "execute_result",
          "data": {
            "text/plain": [
              "81.94700000000002"
            ]
          },
          "metadata": {},
          "execution_count": 62
        }
      ]
    },
    {
      "cell_type": "markdown",
      "source": [
        "## **échantillonage aléatoire simple**"
      ],
      "metadata": {
        "id": "y_xGUPqLAiLO"
      }
    },
    {
      "cell_type": "code",
      "source": [
        "coffee_ratings_srs['total_cup_points'].mean()\n"
      ],
      "metadata": {
        "colab": {
          "base_uri": "https://localhost:8080/"
        },
        "id": "eDKx3cbMAoGM",
        "outputId": "b089bf71-4a51-49ff-cc9f-f93a12e54566"
      },
      "execution_count": null,
      "outputs": [
        {
          "output_type": "execute_result",
          "data": {
            "text/plain": [
              "81.91331058020478"
            ]
          },
          "metadata": {},
          "execution_count": 63
        }
      ]
    },
    {
      "cell_type": "markdown",
      "source": [
        "## **Échantillon stratifié**"
      ],
      "metadata": {
        "id": "FmE_lvtgBHuO"
      }
    },
    {
      "cell_type": "code",
      "source": [
        "coffee_ratings_strat['total_cup_points'].mean()\n"
      ],
      "metadata": {
        "colab": {
          "base_uri": "https://localhost:8080/"
        },
        "id": "1p2igygcBMdx",
        "outputId": "f579fa87-7ea5-4666-fcfe-a292d6325f83"
      },
      "execution_count": null,
      "outputs": [
        {
          "output_type": "execute_result",
          "data": {
            "text/plain": [
              "81.92566552901025"
            ]
          },
          "metadata": {},
          "execution_count": 64
        }
      ]
    },
    {
      "cell_type": "markdown",
      "source": [
        "# **Moyenne des points de coupe par pays : échantillon aléatoire simple**\n"
      ],
      "metadata": {
        "id": "Vpb03Gb_Bpvt"
      }
    },
    {
      "cell_type": "markdown",
      "source": [
        "### **Population:**"
      ],
      "metadata": {
        "id": "Y1uM-Q6LCIM-"
      }
    },
    {
      "cell_type": "code",
      "source": [
        "coffee_ratings_top.groupby(\"country_of_origin\")['total_cup_points'].mean()"
      ],
      "metadata": {
        "colab": {
          "base_uri": "https://localhost:8080/"
        },
        "id": "XvHkswy6B05x",
        "outputId": "20214b8f-79c7-4d11-c11f-2eb1fbf6bce7"
      },
      "execution_count": null,
      "outputs": [
        {
          "output_type": "execute_result",
          "data": {
            "text/plain": [
              "country_of_origin\n",
              "Brazil                    82.405909\n",
              "Colombia                  83.106557\n",
              "Guatemala                 81.846575\n",
              "Mexico                    80.890085\n",
              "Taiwan                    82.001333\n",
              "United States (Hawaii)    81.820411\n",
              "Name: total_cup_points, dtype: float64"
            ]
          },
          "metadata": {},
          "execution_count": 65
        }
      ]
    },
    {
      "cell_type": "markdown",
      "source": [
        "### **Échantillon aléatoire simple :**"
      ],
      "metadata": {
        "id": "ZA6W-B7tChth"
      }
    },
    {
      "cell_type": "code",
      "source": [
        "coffee_ratings_srs.groupby(\"country_of_origin\")['total_cup_points'].mean()"
      ],
      "metadata": {
        "colab": {
          "base_uri": "https://localhost:8080/"
        },
        "id": "cgWYwyFRClxg",
        "outputId": "d7774cc8-b2d5-46a2-cbec-4cfad7097c86"
      },
      "execution_count": null,
      "outputs": [
        {
          "output_type": "execute_result",
          "data": {
            "text/plain": [
              "country_of_origin\n",
              "Brazil                    82.251875\n",
              "Colombia                  82.961014\n",
              "Guatemala                 81.392917\n",
              "Mexico                    81.152000\n",
              "Taiwan                    81.957391\n",
              "United States (Hawaii)    81.766400\n",
              "Name: total_cup_points, dtype: float64"
            ]
          },
          "metadata": {},
          "execution_count": 66
        }
      ]
    },
    {
      "cell_type": "markdown",
      "source": [
        "## **Points de coupe moyens par pays : stratifié**"
      ],
      "metadata": {
        "id": "cT2AiEuhC3Rf"
      }
    },
    {
      "cell_type": "markdown",
      "source": [
        "### **Population:**"
      ],
      "metadata": {
        "id": "7hGlLbOYC6Kv"
      }
    },
    {
      "cell_type": "code",
      "source": [
        "coffee_ratings_top.groupby(\"country_of_origin\")['total_cup_points'].mean()"
      ],
      "metadata": {
        "colab": {
          "base_uri": "https://localhost:8080/"
        },
        "id": "pbXvTOLzDBV9",
        "outputId": "95285c1d-91c2-44e1-9183-609267477f92"
      },
      "execution_count": null,
      "outputs": [
        {
          "output_type": "execute_result",
          "data": {
            "text/plain": [
              "country_of_origin\n",
              "Brazil                    82.405909\n",
              "Colombia                  83.106557\n",
              "Guatemala                 81.846575\n",
              "Mexico                    80.890085\n",
              "Taiwan                    82.001333\n",
              "United States (Hawaii)    81.820411\n",
              "Name: total_cup_points, dtype: float64"
            ]
          },
          "metadata": {},
          "execution_count": 67
        }
      ]
    },
    {
      "cell_type": "markdown",
      "source": [
        "### **Échantillon stratifié :**\n"
      ],
      "metadata": {
        "id": "M6OXwag3DSWE"
      }
    },
    {
      "cell_type": "code",
      "source": [
        "coffee_ratings_strat.groupby(\"country_of_origin\")['total_cup_points'].mean()"
      ],
      "metadata": {
        "colab": {
          "base_uri": "https://localhost:8080/"
        },
        "id": "RTMcThQ4DU6v",
        "outputId": "00a2d6cb-71d6-4415-8965-ff90af4625c5"
      },
      "execution_count": null,
      "outputs": [
        {
          "output_type": "execute_result",
          "data": {
            "text/plain": [
              "country_of_origin\n",
              "Brazil                    82.499773\n",
              "Colombia                  83.288197\n",
              "Guatemala                 81.727667\n",
              "Mexico                    80.994684\n",
              "Taiwan                    81.846800\n",
              "United States (Hawaii)    81.051667\n",
              "Name: total_cup_points, dtype: float64"
            ]
          },
          "metadata": {},
          "execution_count": 68
        }
      ]
    }
  ]
}