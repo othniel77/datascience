{
  "nbformat": 4,
  "nbformat_minor": 0,
  "metadata": {
    "colab": {
      "provenance": [],
      "authorship_tag": "ABX9TyOHXpKAO+8bVeTrxRB4WdQm",
      "include_colab_link": true
    },
    "kernelspec": {
      "name": "python3",
      "display_name": "Python 3"
    },
    "language_info": {
      "name": "python"
    }
  },
  "cells": [
    {
      "cell_type": "markdown",
      "metadata": {
        "id": "view-in-github",
        "colab_type": "text"
      },
      "source": [
        "<a href=\"https://colab.research.google.com/github/othniel77/datascience/blob/main/Transformer_un_dataframe.ipynb\" target=\"_parent\"><img src=\"https://colab.research.google.com/assets/colab-badge.svg\" alt=\"Open In Colab\"/></a>"
      ]
    },
    {
      "cell_type": "code",
      "execution_count": null,
      "metadata": {
        "id": "kWUyYQQmqyaJ"
      },
      "outputs": [],
      "source": [
        "import pandas as pd"
      ]
    },
    {
      "cell_type": "code",
      "source": [
        "from google.colab import files\n",
        "data_to_load = files.upload()"
      ],
      "metadata": {
        "colab": {
          "base_uri": "https://localhost:8080/",
          "height": 73
        },
        "id": "Sag1VwYbq2zB",
        "outputId": "a787f915-5da4-451f-e39d-90e099c0d819"
      },
      "execution_count": null,
      "outputs": [
        {
          "output_type": "display_data",
          "data": {
            "text/plain": [
              "<IPython.core.display.HTML object>"
            ],
            "text/html": [
              "\n",
              "     <input type=\"file\" id=\"files-f9cf96f4-a133-429a-a103-4f72b264f77a\" name=\"files[]\" multiple disabled\n",
              "        style=\"border:none\" />\n",
              "     <output id=\"result-f9cf96f4-a133-429a-a103-4f72b264f77a\">\n",
              "      Upload widget is only available when the cell has been executed in the\n",
              "      current browser session. Please rerun this cell to enable.\n",
              "      </output>\n",
              "      <script>// Copyright 2017 Google LLC\n",
              "//\n",
              "// Licensed under the Apache License, Version 2.0 (the \"License\");\n",
              "// you may not use this file except in compliance with the License.\n",
              "// You may obtain a copy of the License at\n",
              "//\n",
              "//      http://www.apache.org/licenses/LICENSE-2.0\n",
              "//\n",
              "// Unless required by applicable law or agreed to in writing, software\n",
              "// distributed under the License is distributed on an \"AS IS\" BASIS,\n",
              "// WITHOUT WARRANTIES OR CONDITIONS OF ANY KIND, either express or implied.\n",
              "// See the License for the specific language governing permissions and\n",
              "// limitations under the License.\n",
              "\n",
              "/**\n",
              " * @fileoverview Helpers for google.colab Python module.\n",
              " */\n",
              "(function(scope) {\n",
              "function span(text, styleAttributes = {}) {\n",
              "  const element = document.createElement('span');\n",
              "  element.textContent = text;\n",
              "  for (const key of Object.keys(styleAttributes)) {\n",
              "    element.style[key] = styleAttributes[key];\n",
              "  }\n",
              "  return element;\n",
              "}\n",
              "\n",
              "// Max number of bytes which will be uploaded at a time.\n",
              "const MAX_PAYLOAD_SIZE = 100 * 1024;\n",
              "\n",
              "function _uploadFiles(inputId, outputId) {\n",
              "  const steps = uploadFilesStep(inputId, outputId);\n",
              "  const outputElement = document.getElementById(outputId);\n",
              "  // Cache steps on the outputElement to make it available for the next call\n",
              "  // to uploadFilesContinue from Python.\n",
              "  outputElement.steps = steps;\n",
              "\n",
              "  return _uploadFilesContinue(outputId);\n",
              "}\n",
              "\n",
              "// This is roughly an async generator (not supported in the browser yet),\n",
              "// where there are multiple asynchronous steps and the Python side is going\n",
              "// to poll for completion of each step.\n",
              "// This uses a Promise to block the python side on completion of each step,\n",
              "// then passes the result of the previous step as the input to the next step.\n",
              "function _uploadFilesContinue(outputId) {\n",
              "  const outputElement = document.getElementById(outputId);\n",
              "  const steps = outputElement.steps;\n",
              "\n",
              "  const next = steps.next(outputElement.lastPromiseValue);\n",
              "  return Promise.resolve(next.value.promise).then((value) => {\n",
              "    // Cache the last promise value to make it available to the next\n",
              "    // step of the generator.\n",
              "    outputElement.lastPromiseValue = value;\n",
              "    return next.value.response;\n",
              "  });\n",
              "}\n",
              "\n",
              "/**\n",
              " * Generator function which is called between each async step of the upload\n",
              " * process.\n",
              " * @param {string} inputId Element ID of the input file picker element.\n",
              " * @param {string} outputId Element ID of the output display.\n",
              " * @return {!Iterable<!Object>} Iterable of next steps.\n",
              " */\n",
              "function* uploadFilesStep(inputId, outputId) {\n",
              "  const inputElement = document.getElementById(inputId);\n",
              "  inputElement.disabled = false;\n",
              "\n",
              "  const outputElement = document.getElementById(outputId);\n",
              "  outputElement.innerHTML = '';\n",
              "\n",
              "  const pickedPromise = new Promise((resolve) => {\n",
              "    inputElement.addEventListener('change', (e) => {\n",
              "      resolve(e.target.files);\n",
              "    });\n",
              "  });\n",
              "\n",
              "  const cancel = document.createElement('button');\n",
              "  inputElement.parentElement.appendChild(cancel);\n",
              "  cancel.textContent = 'Cancel upload';\n",
              "  const cancelPromise = new Promise((resolve) => {\n",
              "    cancel.onclick = () => {\n",
              "      resolve(null);\n",
              "    };\n",
              "  });\n",
              "\n",
              "  // Wait for the user to pick the files.\n",
              "  const files = yield {\n",
              "    promise: Promise.race([pickedPromise, cancelPromise]),\n",
              "    response: {\n",
              "      action: 'starting',\n",
              "    }\n",
              "  };\n",
              "\n",
              "  cancel.remove();\n",
              "\n",
              "  // Disable the input element since further picks are not allowed.\n",
              "  inputElement.disabled = true;\n",
              "\n",
              "  if (!files) {\n",
              "    return {\n",
              "      response: {\n",
              "        action: 'complete',\n",
              "      }\n",
              "    };\n",
              "  }\n",
              "\n",
              "  for (const file of files) {\n",
              "    const li = document.createElement('li');\n",
              "    li.append(span(file.name, {fontWeight: 'bold'}));\n",
              "    li.append(span(\n",
              "        `(${file.type || 'n/a'}) - ${file.size} bytes, ` +\n",
              "        `last modified: ${\n",
              "            file.lastModifiedDate ? file.lastModifiedDate.toLocaleDateString() :\n",
              "                                    'n/a'} - `));\n",
              "    const percent = span('0% done');\n",
              "    li.appendChild(percent);\n",
              "\n",
              "    outputElement.appendChild(li);\n",
              "\n",
              "    const fileDataPromise = new Promise((resolve) => {\n",
              "      const reader = new FileReader();\n",
              "      reader.onload = (e) => {\n",
              "        resolve(e.target.result);\n",
              "      };\n",
              "      reader.readAsArrayBuffer(file);\n",
              "    });\n",
              "    // Wait for the data to be ready.\n",
              "    let fileData = yield {\n",
              "      promise: fileDataPromise,\n",
              "      response: {\n",
              "        action: 'continue',\n",
              "      }\n",
              "    };\n",
              "\n",
              "    // Use a chunked sending to avoid message size limits. See b/62115660.\n",
              "    let position = 0;\n",
              "    do {\n",
              "      const length = Math.min(fileData.byteLength - position, MAX_PAYLOAD_SIZE);\n",
              "      const chunk = new Uint8Array(fileData, position, length);\n",
              "      position += length;\n",
              "\n",
              "      const base64 = btoa(String.fromCharCode.apply(null, chunk));\n",
              "      yield {\n",
              "        response: {\n",
              "          action: 'append',\n",
              "          file: file.name,\n",
              "          data: base64,\n",
              "        },\n",
              "      };\n",
              "\n",
              "      let percentDone = fileData.byteLength === 0 ?\n",
              "          100 :\n",
              "          Math.round((position / fileData.byteLength) * 100);\n",
              "      percent.textContent = `${percentDone}% done`;\n",
              "\n",
              "    } while (position < fileData.byteLength);\n",
              "  }\n",
              "\n",
              "  // All done.\n",
              "  yield {\n",
              "    response: {\n",
              "      action: 'complete',\n",
              "    }\n",
              "  };\n",
              "}\n",
              "\n",
              "scope.google = scope.google || {};\n",
              "scope.google.colab = scope.google.colab || {};\n",
              "scope.google.colab._files = {\n",
              "  _uploadFiles,\n",
              "  _uploadFilesContinue,\n",
              "};\n",
              "})(self);\n",
              "</script> "
            ]
          },
          "metadata": {}
        },
        {
          "output_type": "stream",
          "name": "stdout",
          "text": [
            "Saving homelessness.csv to homelessness.csv\n"
          ]
        }
      ]
    },
    {
      "cell_type": "markdown",
      "source": [
        "##**pandas DataFrames**"
      ],
      "metadata": {
        "id": "3o9hIVh0rKGW"
      }
    },
    {
      "cell_type": "code",
      "source": [
        "homelessness = pd.read_csv('/content/homelessness.csv')\n",
        "print(homelessness.head())"
      ],
      "metadata": {
        "colab": {
          "base_uri": "https://localhost:8080/"
        },
        "id": "dQMLx4OtrN-D",
        "outputId": "f9bbef66-94d2-4c71-df27-8ad36b647334"
      },
      "execution_count": null,
      "outputs": [
        {
          "output_type": "stream",
          "name": "stdout",
          "text": [
            "   Unnamed: 0              region       state  individuals  family_members  \\\n",
            "0           0  East South Central     Alabama       2570.0           864.0   \n",
            "1           1             Pacific      Alaska       1434.0           582.0   \n",
            "2           2            Mountain     Arizona       7259.0          2606.0   \n",
            "3           3  West South Central    Arkansas       2280.0           432.0   \n",
            "4           4             Pacific  California     109008.0         20964.0   \n",
            "\n",
            "   state_pop  \n",
            "0    4887681  \n",
            "1     735139  \n",
            "2    7158024  \n",
            "3    3009733  \n",
            "4   39461588  \n"
          ]
        }
      ]
    },
    {
      "cell_type": "code",
      "source": [
        "print(homelessness.info())"
      ],
      "metadata": {
        "colab": {
          "base_uri": "https://localhost:8080/"
        },
        "id": "1xR15oZCrOkU",
        "outputId": "d187e99a-b6c4-407e-90c4-5911b498f145"
      },
      "execution_count": null,
      "outputs": [
        {
          "output_type": "stream",
          "name": "stdout",
          "text": [
            "<class 'pandas.core.frame.DataFrame'>\n",
            "RangeIndex: 51 entries, 0 to 50\n",
            "Data columns (total 6 columns):\n",
            " #   Column          Non-Null Count  Dtype  \n",
            "---  ------          --------------  -----  \n",
            " 0   Unnamed: 0      51 non-null     int64  \n",
            " 1   region          51 non-null     object \n",
            " 2   state           51 non-null     object \n",
            " 3   individuals     51 non-null     float64\n",
            " 4   family_members  51 non-null     float64\n",
            " 5   state_pop       51 non-null     int64  \n",
            "dtypes: float64(2), int64(2), object(2)\n",
            "memory usage: 2.5+ KB\n",
            "None\n"
          ]
        }
      ]
    },
    {
      "cell_type": "code",
      "source": [
        "print(homelessness.shape)"
      ],
      "metadata": {
        "colab": {
          "base_uri": "https://localhost:8080/"
        },
        "id": "3lj3NpZ_rwl1",
        "outputId": "4efc237e-600d-4f13-9e0b-8b3281f1a0fb"
      },
      "execution_count": null,
      "outputs": [
        {
          "output_type": "stream",
          "name": "stdout",
          "text": [
            "(51, 6)\n"
          ]
        }
      ]
    },
    {
      "cell_type": "code",
      "source": [
        "print(homelessness.describe())"
      ],
      "metadata": {
        "colab": {
          "base_uri": "https://localhost:8080/"
        },
        "id": "kgDDJcuHr6EF",
        "outputId": "5d294fc2-1db7-4538-f09c-5a7258adc214"
      },
      "execution_count": null,
      "outputs": [
        {
          "output_type": "stream",
          "name": "stdout",
          "text": [
            "       Unnamed: 0    individuals  family_members     state_pop\n",
            "count   51.000000      51.000000       51.000000  5.100000e+01\n",
            "mean    25.000000    7225.784314     3504.882353  6.405637e+06\n",
            "std     14.866069   15991.025083     7805.411811  7.327258e+06\n",
            "min      0.000000     434.000000       75.000000  5.776010e+05\n",
            "25%     12.500000    1446.500000      592.000000  1.777414e+06\n",
            "50%     25.000000    3082.000000     1482.000000  4.461153e+06\n",
            "75%     37.500000    6781.500000     3196.000000  7.340946e+06\n",
            "max     50.000000  109008.000000    52070.000000  3.946159e+07\n"
          ]
        }
      ]
    },
    {
      "cell_type": "markdown",
      "source": [
        "Vous pouvez voir que le nombre moyen de sans-abri dans chaque État est d’environ 7226"
      ],
      "metadata": {
        "id": "07QbSu8HsMaC"
      }
    },
    {
      "cell_type": "code",
      "source": [
        "homelessness.values"
      ],
      "metadata": {
        "colab": {
          "base_uri": "https://localhost:8080/"
        },
        "id": "8RS0yVrYsJeS",
        "outputId": "7efbb9b3-9c5d-410e-b7ee-8a980533e94d"
      },
      "execution_count": null,
      "outputs": [
        {
          "output_type": "execute_result",
          "data": {
            "text/plain": [
              "array([[0, 'East South Central', 'Alabama', 2570.0, 864.0, 4887681],\n",
              "       [1, 'Pacific', 'Alaska', 1434.0, 582.0, 735139],\n",
              "       [2, 'Mountain', 'Arizona', 7259.0, 2606.0, 7158024],\n",
              "       [3, 'West South Central', 'Arkansas', 2280.0, 432.0, 3009733],\n",
              "       [4, 'Pacific', 'California', 109008.0, 20964.0, 39461588],\n",
              "       [5, 'Mountain', 'Colorado', 7607.0, 3250.0, 5691287],\n",
              "       [6, 'New England', 'Connecticut', 2280.0, 1696.0, 3571520],\n",
              "       [7, 'South Atlantic', 'Delaware', 708.0, 374.0, 965479],\n",
              "       [8, 'South Atlantic', 'District of Columbia', 3770.0, 3134.0,\n",
              "        701547],\n",
              "       [9, 'South Atlantic', 'Florida', 21443.0, 9587.0, 21244317],\n",
              "       [10, 'South Atlantic', 'Georgia', 6943.0, 2556.0, 10511131],\n",
              "       [11, 'Pacific', 'Hawaii', 4131.0, 2399.0, 1420593],\n",
              "       [12, 'Mountain', 'Idaho', 1297.0, 715.0, 1750536],\n",
              "       [13, 'East North Central', 'Illinois', 6752.0, 3891.0, 12723071],\n",
              "       [14, 'East North Central', 'Indiana', 3776.0, 1482.0, 6695497],\n",
              "       [15, 'West North Central', 'Iowa', 1711.0, 1038.0, 3148618],\n",
              "       [16, 'West North Central', 'Kansas', 1443.0, 773.0, 2911359],\n",
              "       [17, 'East South Central', 'Kentucky', 2735.0, 953.0, 4461153],\n",
              "       [18, 'West South Central', 'Louisiana', 2540.0, 519.0, 4659690],\n",
              "       [19, 'New England', 'Maine', 1450.0, 1066.0, 1339057],\n",
              "       [20, 'South Atlantic', 'Maryland', 4914.0, 2230.0, 6035802],\n",
              "       [21, 'New England', 'Massachusetts', 6811.0, 13257.0, 6882635],\n",
              "       [22, 'East North Central', 'Michigan', 5209.0, 3142.0, 9984072],\n",
              "       [23, 'West North Central', 'Minnesota', 3993.0, 3250.0, 5606249],\n",
              "       [24, 'East South Central', 'Mississippi', 1024.0, 328.0, 2981020],\n",
              "       [25, 'West North Central', 'Missouri', 3776.0, 2107.0, 6121623],\n",
              "       [26, 'Mountain', 'Montana', 983.0, 422.0, 1060665],\n",
              "       [27, 'West North Central', 'Nebraska', 1745.0, 676.0, 1925614],\n",
              "       [28, 'Mountain', 'Nevada', 7058.0, 486.0, 3027341],\n",
              "       [29, 'New England', 'New Hampshire', 835.0, 615.0, 1353465],\n",
              "       [30, 'Mid-Atlantic', 'New Jersey', 6048.0, 3350.0, 8886025],\n",
              "       [31, 'Mountain', 'New Mexico', 1949.0, 602.0, 2092741],\n",
              "       [32, 'Mid-Atlantic', 'New York', 39827.0, 52070.0, 19530351],\n",
              "       [33, 'South Atlantic', 'North Carolina', 6451.0, 2817.0, 10381615],\n",
              "       [34, 'West North Central', 'North Dakota', 467.0, 75.0, 758080],\n",
              "       [35, 'East North Central', 'Ohio', 6929.0, 3320.0, 11676341],\n",
              "       [36, 'West South Central', 'Oklahoma', 2823.0, 1048.0, 3940235],\n",
              "       [37, 'Pacific', 'Oregon', 11139.0, 3337.0, 4181886],\n",
              "       [38, 'Mid-Atlantic', 'Pennsylvania', 8163.0, 5349.0, 12800922],\n",
              "       [39, 'New England', 'Rhode Island', 747.0, 354.0, 1058287],\n",
              "       [40, 'South Atlantic', 'South Carolina', 3082.0, 851.0, 5084156],\n",
              "       [41, 'West North Central', 'South Dakota', 836.0, 323.0, 878698],\n",
              "       [42, 'East South Central', 'Tennessee', 6139.0, 1744.0, 6771631],\n",
              "       [43, 'West South Central', 'Texas', 19199.0, 6111.0, 28628666],\n",
              "       [44, 'Mountain', 'Utah', 1904.0, 972.0, 3153550],\n",
              "       [45, 'New England', 'Vermont', 780.0, 511.0, 624358],\n",
              "       [46, 'South Atlantic', 'Virginia', 3928.0, 2047.0, 8501286],\n",
              "       [47, 'Pacific', 'Washington', 16424.0, 5880.0, 7523869],\n",
              "       [48, 'South Atlantic', 'West Virginia', 1021.0, 222.0, 1804291],\n",
              "       [49, 'East North Central', 'Wisconsin', 2740.0, 2167.0, 5807406],\n",
              "       [50, 'Mountain', 'Wyoming', 434.0, 205.0, 577601]], dtype=object)"
            ]
          },
          "metadata": {},
          "execution_count": 7
        }
      ]
    },
    {
      "cell_type": "markdown",
      "source": [
        "## **Composants d'un DataFrame : .columns et .index**"
      ],
      "metadata": {
        "id": "yK6LQ50usxup"
      }
    },
    {
      "cell_type": "code",
      "source": [
        "homelessness.columns"
      ],
      "metadata": {
        "colab": {
          "base_uri": "https://localhost:8080/"
        },
        "id": "IBITtCxjslRu",
        "outputId": "069d5e10-888f-47e0-d112-1df3f06885f6"
      },
      "execution_count": null,
      "outputs": [
        {
          "output_type": "execute_result",
          "data": {
            "text/plain": [
              "Index(['Unnamed: 0', 'region', 'state', 'individuals', 'family_members',\n",
              "       'state_pop'],\n",
              "      dtype='object')"
            ]
          },
          "metadata": {},
          "execution_count": 8
        }
      ]
    },
    {
      "cell_type": "code",
      "source": [
        "homelessness.index"
      ],
      "metadata": {
        "colab": {
          "base_uri": "https://localhost:8080/"
        },
        "id": "OijUEaoCs2qj",
        "outputId": "3837ab27-93c2-4023-f2c4-82f32e8d5627"
      },
      "execution_count": null,
      "outputs": [
        {
          "output_type": "execute_result",
          "data": {
            "text/plain": [
              "RangeIndex(start=0, stop=51, step=1)"
            ]
          },
          "metadata": {},
          "execution_count": 10
        }
      ]
    },
    {
      "cell_type": "markdown",
      "source": [
        "# **Tri et sous-ensemble**"
      ],
      "metadata": {
        "id": "6A2vc2tltKJE"
      }
    },
    {
      "cell_type": "markdown",
      "source": [
        "# **Tri**"
      ],
      "metadata": {
        "id": "fCdUo1G7tVC6"
      }
    },
    {
      "cell_type": "code",
      "source": [
        "homelessness_ind =homelessness.sort_values(\"individuals\")\n",
        "print(homelessness_ind.head())"
      ],
      "metadata": {
        "colab": {
          "base_uri": "https://localhost:8080/"
        },
        "id": "drZ7Yog6tOjm",
        "outputId": "04298dd6-c1e3-4c20-e386-1ea3166ed2c4"
      },
      "execution_count": null,
      "outputs": [
        {
          "output_type": "stream",
          "name": "stdout",
          "text": [
            "    Unnamed: 0              region         state  individuals  family_members  \\\n",
            "50          50            Mountain       Wyoming        434.0           205.0   \n",
            "34          34  West North Central  North Dakota        467.0            75.0   \n",
            "7            7      South Atlantic      Delaware        708.0           374.0   \n",
            "39          39         New England  Rhode Island        747.0           354.0   \n",
            "45          45         New England       Vermont        780.0           511.0   \n",
            "\n",
            "    state_pop  \n",
            "50     577601  \n",
            "34     758080  \n",
            "7      965479  \n",
            "39    1058287  \n",
            "45     624358  \n"
          ]
        }
      ]
    },
    {
      "cell_type": "markdown",
      "source": [
        "# **Tri par ordre décroissant**"
      ],
      "metadata": {
        "id": "z-ifA-QAtu2m"
      }
    },
    {
      "cell_type": "code",
      "source": [
        "homelessness_fam = homelessness.sort_values(\"family_members\",ascending = False)\n",
        "print(homelessness_fam.head())"
      ],
      "metadata": {
        "colab": {
          "base_uri": "https://localhost:8080/"
        },
        "id": "6l-UA1JGtw7F",
        "outputId": "90a8f172-a4c9-4327-83eb-b33daa6bfb02"
      },
      "execution_count": null,
      "outputs": [
        {
          "output_type": "stream",
          "name": "stdout",
          "text": [
            "    Unnamed: 0              region          state  individuals  \\\n",
            "32          32        Mid-Atlantic       New York      39827.0   \n",
            "4            4             Pacific     California     109008.0   \n",
            "21          21         New England  Massachusetts       6811.0   \n",
            "9            9      South Atlantic        Florida      21443.0   \n",
            "43          43  West South Central          Texas      19199.0   \n",
            "\n",
            "    family_members  state_pop  \n",
            "32         52070.0   19530351  \n",
            "4          20964.0   39461588  \n",
            "21         13257.0    6882635  \n",
            "9           9587.0   21244317  \n",
            "43          6111.0   28628666  \n"
          ]
        }
      ]
    },
    {
      "cell_type": "markdown",
      "source": [
        "# **Tri par plusieurs variables**"
      ],
      "metadata": {
        "id": "-LJUrPLNuDxr"
      }
    },
    {
      "cell_type": "code",
      "source": [
        "homelessness_reg_fam = homelessness.sort_values([\"region\",\"family_members\"],ascending =[True,False])\n",
        "print(homelessness_reg_fam.head())"
      ],
      "metadata": {
        "colab": {
          "base_uri": "https://localhost:8080/"
        },
        "id": "Y2s6lmL8uGrW",
        "outputId": "fb0cc4f7-6be5-44cd-cfdf-0d0f2d09915a"
      },
      "execution_count": null,
      "outputs": [
        {
          "output_type": "stream",
          "name": "stdout",
          "text": [
            "    Unnamed: 0              region      state  individuals  family_members  \\\n",
            "13          13  East North Central   Illinois       6752.0          3891.0   \n",
            "35          35  East North Central       Ohio       6929.0          3320.0   \n",
            "22          22  East North Central   Michigan       5209.0          3142.0   \n",
            "49          49  East North Central  Wisconsin       2740.0          2167.0   \n",
            "14          14  East North Central    Indiana       3776.0          1482.0   \n",
            "\n",
            "    state_pop  \n",
            "13   12723071  \n",
            "35   11676341  \n",
            "22    9984072  \n",
            "49    5807406  \n",
            "14    6695497  \n"
          ]
        }
      ]
    },
    {
      "cell_type": "markdown",
      "source": [
        "# **Colonnes de sous-ensemble**"
      ],
      "metadata": {
        "id": "4TAGzBu-urGw"
      }
    },
    {
      "cell_type": "code",
      "source": [
        "individuals = homelessness[\"individuals\"]\n",
        "print(individuals.head())"
      ],
      "metadata": {
        "colab": {
          "base_uri": "https://localhost:8080/"
        },
        "id": "wHVB_8EQut4U",
        "outputId": "760f968a-98c5-4801-feaa-dd191996f0d0"
      },
      "execution_count": null,
      "outputs": [
        {
          "output_type": "stream",
          "name": "stdout",
          "text": [
            "0      2570.0\n",
            "1      1434.0\n",
            "2      7259.0\n",
            "3      2280.0\n",
            "4    109008.0\n",
            "Name: individuals, dtype: float64\n"
          ]
        }
      ]
    },
    {
      "cell_type": "markdown",
      "source": [
        "# **Sous-ensemble de plusieurs colonnes**"
      ],
      "metadata": {
        "id": "5FCartlfvC9z"
      }
    },
    {
      "cell_type": "code",
      "source": [
        "state_fam = homelessness[[\"state\",\"family_members\"]]\n",
        "print(state_fam.head())"
      ],
      "metadata": {
        "colab": {
          "base_uri": "https://localhost:8080/"
        },
        "id": "Y8_DBz3bvF-f",
        "outputId": "29cb4358-a02d-4413-a94a-bc2c5ee1691c"
      },
      "execution_count": null,
      "outputs": [
        {
          "output_type": "stream",
          "name": "stdout",
          "text": [
            "        state  family_members\n",
            "0     Alabama           864.0\n",
            "1      Alaska           582.0\n",
            "2     Arizona          2606.0\n",
            "3    Arkansas           432.0\n",
            "4  California         20964.0\n"
          ]
        }
      ]
    },
    {
      "cell_type": "code",
      "source": [
        "ind_state = homelessness[[\"individuals\",\"state\"]]\n",
        "print(ind_state.head())"
      ],
      "metadata": {
        "colab": {
          "base_uri": "https://localhost:8080/"
        },
        "id": "gqJa1pZvvT3q",
        "outputId": "c780b72c-ad08-4202-e88d-9979828e752b"
      },
      "execution_count": null,
      "outputs": [
        {
          "output_type": "stream",
          "name": "stdout",
          "text": [
            "   individuals       state\n",
            "0       2570.0     Alabama\n",
            "1       1434.0      Alaska\n",
            "2       7259.0     Arizona\n",
            "3       2280.0    Arkansas\n",
            "4     109008.0  California\n"
          ]
        }
      ]
    },
    {
      "cell_type": "markdown",
      "source": [
        "# **Lignes de sous-ensemble**"
      ],
      "metadata": {
        "id": "OkNuCEvyvpLK"
      }
    },
    {
      "cell_type": "code",
      "source": [
        "ind_gt_10k = homelessness[homelessness[\"individuals\"]>10000]\n",
        "print(ind_gt_10k)"
      ],
      "metadata": {
        "colab": {
          "base_uri": "https://localhost:8080/"
        },
        "id": "Dfvj9rp9vtBL",
        "outputId": "3f63d6ea-c64c-4ca9-eb61-ab02a5c68607"
      },
      "execution_count": null,
      "outputs": [
        {
          "output_type": "stream",
          "name": "stdout",
          "text": [
            "    Unnamed: 0              region       state  individuals  family_members  \\\n",
            "4            4             Pacific  California     109008.0         20964.0   \n",
            "9            9      South Atlantic     Florida      21443.0          9587.0   \n",
            "32          32        Mid-Atlantic    New York      39827.0         52070.0   \n",
            "37          37             Pacific      Oregon      11139.0          3337.0   \n",
            "43          43  West South Central       Texas      19199.0          6111.0   \n",
            "47          47             Pacific  Washington      16424.0          5880.0   \n",
            "\n",
            "    state_pop  \n",
            "4    39461588  \n",
            "9    21244317  \n",
            "32   19530351  \n",
            "37    4181886  \n",
            "43   28628666  \n",
            "47    7523869  \n"
          ]
        }
      ]
    },
    {
      "cell_type": "code",
      "source": [
        "mountain_reg = homelessness[homelessness[\"region\"]==\"Mountain\"]\n",
        "print(mountain_reg)"
      ],
      "metadata": {
        "colab": {
          "base_uri": "https://localhost:8080/"
        },
        "id": "47p1ZD7xv82Y",
        "outputId": "f41055a5-714b-400f-d171-9d52d0a22175"
      },
      "execution_count": null,
      "outputs": [
        {
          "output_type": "stream",
          "name": "stdout",
          "text": [
            "    Unnamed: 0    region       state  individuals  family_members  state_pop\n",
            "2            2  Mountain     Arizona       7259.0          2606.0    7158024\n",
            "5            5  Mountain    Colorado       7607.0          3250.0    5691287\n",
            "12          12  Mountain       Idaho       1297.0           715.0    1750536\n",
            "26          26  Mountain     Montana        983.0           422.0    1060665\n",
            "28          28  Mountain      Nevada       7058.0           486.0    3027341\n",
            "31          31  Mountain  New Mexico       1949.0           602.0    2092741\n",
            "44          44  Mountain        Utah       1904.0           972.0    3153550\n",
            "50          50  Mountain     Wyoming        434.0           205.0     577601\n"
          ]
        }
      ]
    },
    {
      "cell_type": "markdown",
      "source": [
        "## **Sous-ensemble basé sur plusieurs conditions**"
      ],
      "metadata": {
        "id": "RiLTqM0rw9E-"
      }
    },
    {
      "cell_type": "code",
      "source": [
        "fam_lt_1k_pac = homelessness[(homelessness[\"family_members\"]<1000)& (homelessness[\"region\"]==\"Pacific\")]\n",
        "print(fam_lt_1k_pac)"
      ],
      "metadata": {
        "colab": {
          "base_uri": "https://localhost:8080/"
        },
        "id": "xLE6VGZEwWgu",
        "outputId": "6f9985e9-5dfd-47e1-af7b-a42100fb80e9"
      },
      "execution_count": null,
      "outputs": [
        {
          "output_type": "stream",
          "name": "stdout",
          "text": [
            "   Unnamed: 0   region   state  individuals  family_members  state_pop\n",
            "1           1  Pacific  Alaska       1434.0           582.0     735139\n"
          ]
        }
      ]
    },
    {
      "cell_type": "code",
      "source": [
        "south_mid_atlantic = homelessness[(homelessness[\"region\"]==\"South Atlantic\")|(homelessness[\"region\"]==\"Mid-Atlantic\")]\n",
        "print(south_mid_atlantic)"
      ],
      "metadata": {
        "colab": {
          "base_uri": "https://localhost:8080/"
        },
        "id": "j9_nZIMXwmdh",
        "outputId": "a4a10a48-0416-483c-83bb-2d1bb004f1dc"
      },
      "execution_count": null,
      "outputs": [
        {
          "output_type": "stream",
          "name": "stdout",
          "text": [
            "    Unnamed: 0          region                 state  individuals  \\\n",
            "7            7  South Atlantic              Delaware        708.0   \n",
            "8            8  South Atlantic  District of Columbia       3770.0   \n",
            "9            9  South Atlantic               Florida      21443.0   \n",
            "10          10  South Atlantic               Georgia       6943.0   \n",
            "20          20  South Atlantic              Maryland       4914.0   \n",
            "30          30    Mid-Atlantic            New Jersey       6048.0   \n",
            "32          32    Mid-Atlantic              New York      39827.0   \n",
            "33          33  South Atlantic        North Carolina       6451.0   \n",
            "38          38    Mid-Atlantic          Pennsylvania       8163.0   \n",
            "40          40  South Atlantic        South Carolina       3082.0   \n",
            "46          46  South Atlantic              Virginia       3928.0   \n",
            "48          48  South Atlantic         West Virginia       1021.0   \n",
            "\n",
            "    family_members  state_pop  \n",
            "7            374.0     965479  \n",
            "8           3134.0     701547  \n",
            "9           9587.0   21244317  \n",
            "10          2556.0   10511131  \n",
            "20          2230.0    6035802  \n",
            "30          3350.0    8886025  \n",
            "32         52070.0   19530351  \n",
            "33          2817.0   10381615  \n",
            "38          5349.0   12800922  \n",
            "40           851.0    5084156  \n",
            "46          2047.0    8501286  \n",
            "48           222.0    1804291  \n"
          ]
        }
      ]
    },
    {
      "cell_type": "markdown",
      "source": [
        "## **Sous-ensemble utilisant .isin()**\n"
      ],
      "metadata": {
        "id": "zYvsKy5GxFSi"
      }
    },
    {
      "cell_type": "code",
      "source": [
        "canu = [\"California\", \"Arizona\", \"Nevada\", \"Utah\"]\n",
        "mojave_homelessness = homelessness[homelessness[\"state\"].isin(canu)]\n",
        "print(mojave_homelessness)"
      ],
      "metadata": {
        "colab": {
          "base_uri": "https://localhost:8080/"
        },
        "id": "Rxg6LcfHxHpp",
        "outputId": "f5cf753b-37a4-4a31-a8bb-580f3c59a6e2"
      },
      "execution_count": null,
      "outputs": [
        {
          "output_type": "stream",
          "name": "stdout",
          "text": [
            "    Unnamed: 0    region       state  individuals  family_members  state_pop\n",
            "2            2  Mountain     Arizona       7259.0          2606.0    7158024\n",
            "4            4   Pacific  California     109008.0         20964.0   39461588\n",
            "28          28  Mountain      Nevada       7058.0           486.0    3027341\n",
            "44          44  Mountain        Utah       1904.0           972.0    3153550\n"
          ]
        }
      ]
    },
    {
      "cell_type": "markdown",
      "source": [
        "## **Ajout de nouvelles colonnes**"
      ],
      "metadata": {
        "id": "MPKUpxnrx19s"
      }
    },
    {
      "cell_type": "code",
      "source": [
        "homelessness[\"total\"]= homelessness[\"individuals\"]+homelessness[\"family_members\"]\n",
        "homelessness[\"p_individuals\"]= homelessness[\"individuals\"]/homelessness[\"total\"]\n",
        "print(homelessness)"
      ],
      "metadata": {
        "colab": {
          "base_uri": "https://localhost:8080/"
        },
        "id": "_3G54Y1Mx4c3",
        "outputId": "3e55eaf6-0156-41a3-d59d-d4c444a7d135"
      },
      "execution_count": null,
      "outputs": [
        {
          "output_type": "stream",
          "name": "stdout",
          "text": [
            "    Unnamed: 0              region                 state  individuals  \\\n",
            "0            0  East South Central               Alabama       2570.0   \n",
            "1            1             Pacific                Alaska       1434.0   \n",
            "2            2            Mountain               Arizona       7259.0   \n",
            "3            3  West South Central              Arkansas       2280.0   \n",
            "4            4             Pacific            California     109008.0   \n",
            "5            5            Mountain              Colorado       7607.0   \n",
            "6            6         New England           Connecticut       2280.0   \n",
            "7            7      South Atlantic              Delaware        708.0   \n",
            "8            8      South Atlantic  District of Columbia       3770.0   \n",
            "9            9      South Atlantic               Florida      21443.0   \n",
            "10          10      South Atlantic               Georgia       6943.0   \n",
            "11          11             Pacific                Hawaii       4131.0   \n",
            "12          12            Mountain                 Idaho       1297.0   \n",
            "13          13  East North Central              Illinois       6752.0   \n",
            "14          14  East North Central               Indiana       3776.0   \n",
            "15          15  West North Central                  Iowa       1711.0   \n",
            "16          16  West North Central                Kansas       1443.0   \n",
            "17          17  East South Central              Kentucky       2735.0   \n",
            "18          18  West South Central             Louisiana       2540.0   \n",
            "19          19         New England                 Maine       1450.0   \n",
            "20          20      South Atlantic              Maryland       4914.0   \n",
            "21          21         New England         Massachusetts       6811.0   \n",
            "22          22  East North Central              Michigan       5209.0   \n",
            "23          23  West North Central             Minnesota       3993.0   \n",
            "24          24  East South Central           Mississippi       1024.0   \n",
            "25          25  West North Central              Missouri       3776.0   \n",
            "26          26            Mountain               Montana        983.0   \n",
            "27          27  West North Central              Nebraska       1745.0   \n",
            "28          28            Mountain                Nevada       7058.0   \n",
            "29          29         New England         New Hampshire        835.0   \n",
            "30          30        Mid-Atlantic            New Jersey       6048.0   \n",
            "31          31            Mountain            New Mexico       1949.0   \n",
            "32          32        Mid-Atlantic              New York      39827.0   \n",
            "33          33      South Atlantic        North Carolina       6451.0   \n",
            "34          34  West North Central          North Dakota        467.0   \n",
            "35          35  East North Central                  Ohio       6929.0   \n",
            "36          36  West South Central              Oklahoma       2823.0   \n",
            "37          37             Pacific                Oregon      11139.0   \n",
            "38          38        Mid-Atlantic          Pennsylvania       8163.0   \n",
            "39          39         New England          Rhode Island        747.0   \n",
            "40          40      South Atlantic        South Carolina       3082.0   \n",
            "41          41  West North Central          South Dakota        836.0   \n",
            "42          42  East South Central             Tennessee       6139.0   \n",
            "43          43  West South Central                 Texas      19199.0   \n",
            "44          44            Mountain                  Utah       1904.0   \n",
            "45          45         New England               Vermont        780.0   \n",
            "46          46      South Atlantic              Virginia       3928.0   \n",
            "47          47             Pacific            Washington      16424.0   \n",
            "48          48      South Atlantic         West Virginia       1021.0   \n",
            "49          49  East North Central             Wisconsin       2740.0   \n",
            "50          50            Mountain               Wyoming        434.0   \n",
            "\n",
            "    family_members  state_pop     total  p_individuals  \n",
            "0            864.0    4887681    3434.0       0.748398  \n",
            "1            582.0     735139    2016.0       0.711310  \n",
            "2           2606.0    7158024    9865.0       0.735834  \n",
            "3            432.0    3009733    2712.0       0.840708  \n",
            "4          20964.0   39461588  129972.0       0.838704  \n",
            "5           3250.0    5691287   10857.0       0.700654  \n",
            "6           1696.0    3571520    3976.0       0.573441  \n",
            "7            374.0     965479    1082.0       0.654344  \n",
            "8           3134.0     701547    6904.0       0.546060  \n",
            "9           9587.0   21244317   31030.0       0.691041  \n",
            "10          2556.0   10511131    9499.0       0.730919  \n",
            "11          2399.0    1420593    6530.0       0.632619  \n",
            "12           715.0    1750536    2012.0       0.644632  \n",
            "13          3891.0   12723071   10643.0       0.634408  \n",
            "14          1482.0    6695497    5258.0       0.718144  \n",
            "15          1038.0    3148618    2749.0       0.622408  \n",
            "16           773.0    2911359    2216.0       0.651173  \n",
            "17           953.0    4461153    3688.0       0.741594  \n",
            "18           519.0    4659690    3059.0       0.830337  \n",
            "19          1066.0    1339057    2516.0       0.576312  \n",
            "20          2230.0    6035802    7144.0       0.687850  \n",
            "21         13257.0    6882635   20068.0       0.339396  \n",
            "22          3142.0    9984072    8351.0       0.623758  \n",
            "23          3250.0    5606249    7243.0       0.551291  \n",
            "24           328.0    2981020    1352.0       0.757396  \n",
            "25          2107.0    6121623    5883.0       0.641849  \n",
            "26           422.0    1060665    1405.0       0.699644  \n",
            "27           676.0    1925614    2421.0       0.720777  \n",
            "28           486.0    3027341    7544.0       0.935578  \n",
            "29           615.0    1353465    1450.0       0.575862  \n",
            "30          3350.0    8886025    9398.0       0.643541  \n",
            "31           602.0    2092741    2551.0       0.764014  \n",
            "32         52070.0   19530351   91897.0       0.433387  \n",
            "33          2817.0   10381615    9268.0       0.696051  \n",
            "34            75.0     758080     542.0       0.861624  \n",
            "35          3320.0   11676341   10249.0       0.676066  \n",
            "36          1048.0    3940235    3871.0       0.729269  \n",
            "37          3337.0    4181886   14476.0       0.769481  \n",
            "38          5349.0   12800922   13512.0       0.604130  \n",
            "39           354.0    1058287    1101.0       0.678474  \n",
            "40           851.0    5084156    3933.0       0.783626  \n",
            "41           323.0     878698    1159.0       0.721311  \n",
            "42          1744.0    6771631    7883.0       0.778764  \n",
            "43          6111.0   28628666   25310.0       0.758554  \n",
            "44           972.0    3153550    2876.0       0.662031  \n",
            "45           511.0     624358    1291.0       0.604183  \n",
            "46          2047.0    8501286    5975.0       0.657406  \n",
            "47          5880.0    7523869   22304.0       0.736370  \n",
            "48           222.0    1804291    1243.0       0.821400  \n",
            "49          2167.0    5807406    4907.0       0.558386  \n",
            "50           205.0     577601     639.0       0.679186  \n"
          ]
        }
      ]
    },
    {
      "cell_type": "code",
      "source": [
        "homelessness[\"indiv_per_10k\"] = 10000 * homelessness[\"individuals\"] / homelessness[\"state_pop\"]\n",
        "high_homelessness = homelessness[homelessness[\"indiv_per_10k\"]>20]\n",
        "high_homelessness_srt = high_homelessness.sort_values(\"indiv_per_10k\",ascending = False)\n",
        "result = high_homelessness_srt[[\"state\",\"indiv_per_10k\"]]\n",
        "print(result)\n"
      ],
      "metadata": {
        "colab": {
          "base_uri": "https://localhost:8080/"
        },
        "id": "DGnvV0rpya0I",
        "outputId": "95d6e366-9b6b-4782-c5c3-38c638675421"
      },
      "execution_count": null,
      "outputs": [
        {
          "output_type": "stream",
          "name": "stdout",
          "text": [
            "                   state  indiv_per_10k\n",
            "8   District of Columbia      53.738381\n",
            "11                Hawaii      29.079406\n",
            "4             California      27.623825\n",
            "37                Oregon      26.636307\n",
            "28                Nevada      23.314189\n",
            "47            Washington      21.829195\n",
            "32              New York      20.392363\n"
          ]
        }
      ]
    }
  ]
}