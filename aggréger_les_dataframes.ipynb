{
  "nbformat": 4,
  "nbformat_minor": 0,
  "metadata": {
    "colab": {
      "provenance": [],
      "authorship_tag": "ABX9TyOwLvJycv22Jcty7UdwhRN/",
      "include_colab_link": true
    },
    "kernelspec": {
      "name": "python3",
      "display_name": "Python 3"
    },
    "language_info": {
      "name": "python"
    }
  },
  "cells": [
    {
      "cell_type": "markdown",
      "metadata": {
        "id": "view-in-github",
        "colab_type": "text"
      },
      "source": [
        "<a href=\"https://colab.research.google.com/github/othniel77/datascience/blob/main/aggr%C3%A9ger_les_dataframes.ipynb\" target=\"_parent\"><img src=\"https://colab.research.google.com/assets/colab-badge.svg\" alt=\"Open In Colab\"/></a>"
      ]
    },
    {
      "cell_type": "code",
      "execution_count": null,
      "metadata": {
        "id": "ORPbplfbz3uM"
      },
      "outputs": [],
      "source": [
        "import pandas as pd"
      ]
    },
    {
      "cell_type": "code",
      "source": [
        "from google.colab import files\n",
        "data_to_load = files.upload()"
      ],
      "metadata": {
        "colab": {
          "base_uri": "https://localhost:8080/",
          "height": 73
        },
        "id": "cf-LUwwI1Ok3",
        "outputId": "f0686235-750a-47e1-8f8c-022fdf7f72a5"
      },
      "execution_count": null,
      "outputs": [
        {
          "output_type": "display_data",
          "data": {
            "text/plain": [
              "<IPython.core.display.HTML object>"
            ],
            "text/html": [
              "\n",
              "     <input type=\"file\" id=\"files-9d6218ce-dbc0-4a6b-ad58-95093a6fc0b7\" name=\"files[]\" multiple disabled\n",
              "        style=\"border:none\" />\n",
              "     <output id=\"result-9d6218ce-dbc0-4a6b-ad58-95093a6fc0b7\">\n",
              "      Upload widget is only available when the cell has been executed in the\n",
              "      current browser session. Please rerun this cell to enable.\n",
              "      </output>\n",
              "      <script>// Copyright 2017 Google LLC\n",
              "//\n",
              "// Licensed under the Apache License, Version 2.0 (the \"License\");\n",
              "// you may not use this file except in compliance with the License.\n",
              "// You may obtain a copy of the License at\n",
              "//\n",
              "//      http://www.apache.org/licenses/LICENSE-2.0\n",
              "//\n",
              "// Unless required by applicable law or agreed to in writing, software\n",
              "// distributed under the License is distributed on an \"AS IS\" BASIS,\n",
              "// WITHOUT WARRANTIES OR CONDITIONS OF ANY KIND, either express or implied.\n",
              "// See the License for the specific language governing permissions and\n",
              "// limitations under the License.\n",
              "\n",
              "/**\n",
              " * @fileoverview Helpers for google.colab Python module.\n",
              " */\n",
              "(function(scope) {\n",
              "function span(text, styleAttributes = {}) {\n",
              "  const element = document.createElement('span');\n",
              "  element.textContent = text;\n",
              "  for (const key of Object.keys(styleAttributes)) {\n",
              "    element.style[key] = styleAttributes[key];\n",
              "  }\n",
              "  return element;\n",
              "}\n",
              "\n",
              "// Max number of bytes which will be uploaded at a time.\n",
              "const MAX_PAYLOAD_SIZE = 100 * 1024;\n",
              "\n",
              "function _uploadFiles(inputId, outputId) {\n",
              "  const steps = uploadFilesStep(inputId, outputId);\n",
              "  const outputElement = document.getElementById(outputId);\n",
              "  // Cache steps on the outputElement to make it available for the next call\n",
              "  // to uploadFilesContinue from Python.\n",
              "  outputElement.steps = steps;\n",
              "\n",
              "  return _uploadFilesContinue(outputId);\n",
              "}\n",
              "\n",
              "// This is roughly an async generator (not supported in the browser yet),\n",
              "// where there are multiple asynchronous steps and the Python side is going\n",
              "// to poll for completion of each step.\n",
              "// This uses a Promise to block the python side on completion of each step,\n",
              "// then passes the result of the previous step as the input to the next step.\n",
              "function _uploadFilesContinue(outputId) {\n",
              "  const outputElement = document.getElementById(outputId);\n",
              "  const steps = outputElement.steps;\n",
              "\n",
              "  const next = steps.next(outputElement.lastPromiseValue);\n",
              "  return Promise.resolve(next.value.promise).then((value) => {\n",
              "    // Cache the last promise value to make it available to the next\n",
              "    // step of the generator.\n",
              "    outputElement.lastPromiseValue = value;\n",
              "    return next.value.response;\n",
              "  });\n",
              "}\n",
              "\n",
              "/**\n",
              " * Generator function which is called between each async step of the upload\n",
              " * process.\n",
              " * @param {string} inputId Element ID of the input file picker element.\n",
              " * @param {string} outputId Element ID of the output display.\n",
              " * @return {!Iterable<!Object>} Iterable of next steps.\n",
              " */\n",
              "function* uploadFilesStep(inputId, outputId) {\n",
              "  const inputElement = document.getElementById(inputId);\n",
              "  inputElement.disabled = false;\n",
              "\n",
              "  const outputElement = document.getElementById(outputId);\n",
              "  outputElement.innerHTML = '';\n",
              "\n",
              "  const pickedPromise = new Promise((resolve) => {\n",
              "    inputElement.addEventListener('change', (e) => {\n",
              "      resolve(e.target.files);\n",
              "    });\n",
              "  });\n",
              "\n",
              "  const cancel = document.createElement('button');\n",
              "  inputElement.parentElement.appendChild(cancel);\n",
              "  cancel.textContent = 'Cancel upload';\n",
              "  const cancelPromise = new Promise((resolve) => {\n",
              "    cancel.onclick = () => {\n",
              "      resolve(null);\n",
              "    };\n",
              "  });\n",
              "\n",
              "  // Wait for the user to pick the files.\n",
              "  const files = yield {\n",
              "    promise: Promise.race([pickedPromise, cancelPromise]),\n",
              "    response: {\n",
              "      action: 'starting',\n",
              "    }\n",
              "  };\n",
              "\n",
              "  cancel.remove();\n",
              "\n",
              "  // Disable the input element since further picks are not allowed.\n",
              "  inputElement.disabled = true;\n",
              "\n",
              "  if (!files) {\n",
              "    return {\n",
              "      response: {\n",
              "        action: 'complete',\n",
              "      }\n",
              "    };\n",
              "  }\n",
              "\n",
              "  for (const file of files) {\n",
              "    const li = document.createElement('li');\n",
              "    li.append(span(file.name, {fontWeight: 'bold'}));\n",
              "    li.append(span(\n",
              "        `(${file.type || 'n/a'}) - ${file.size} bytes, ` +\n",
              "        `last modified: ${\n",
              "            file.lastModifiedDate ? file.lastModifiedDate.toLocaleDateString() :\n",
              "                                    'n/a'} - `));\n",
              "    const percent = span('0% done');\n",
              "    li.appendChild(percent);\n",
              "\n",
              "    outputElement.appendChild(li);\n",
              "\n",
              "    const fileDataPromise = new Promise((resolve) => {\n",
              "      const reader = new FileReader();\n",
              "      reader.onload = (e) => {\n",
              "        resolve(e.target.result);\n",
              "      };\n",
              "      reader.readAsArrayBuffer(file);\n",
              "    });\n",
              "    // Wait for the data to be ready.\n",
              "    let fileData = yield {\n",
              "      promise: fileDataPromise,\n",
              "      response: {\n",
              "        action: 'continue',\n",
              "      }\n",
              "    };\n",
              "\n",
              "    // Use a chunked sending to avoid message size limits. See b/62115660.\n",
              "    let position = 0;\n",
              "    do {\n",
              "      const length = Math.min(fileData.byteLength - position, MAX_PAYLOAD_SIZE);\n",
              "      const chunk = new Uint8Array(fileData, position, length);\n",
              "      position += length;\n",
              "\n",
              "      const base64 = btoa(String.fromCharCode.apply(null, chunk));\n",
              "      yield {\n",
              "        response: {\n",
              "          action: 'append',\n",
              "          file: file.name,\n",
              "          data: base64,\n",
              "        },\n",
              "      };\n",
              "\n",
              "      let percentDone = fileData.byteLength === 0 ?\n",
              "          100 :\n",
              "          Math.round((position / fileData.byteLength) * 100);\n",
              "      percent.textContent = `${percentDone}% done`;\n",
              "\n",
              "    } while (position < fileData.byteLength);\n",
              "  }\n",
              "\n",
              "  // All done.\n",
              "  yield {\n",
              "    response: {\n",
              "      action: 'complete',\n",
              "    }\n",
              "  };\n",
              "}\n",
              "\n",
              "scope.google = scope.google || {};\n",
              "scope.google.colab = scope.google.colab || {};\n",
              "scope.google.colab._files = {\n",
              "  _uploadFiles,\n",
              "  _uploadFilesContinue,\n",
              "};\n",
              "})(self);\n",
              "</script> "
            ]
          },
          "metadata": {}
        },
        {
          "output_type": "stream",
          "name": "stdout",
          "text": [
            "Saving sales_subset.csv to sales_subset.csv\n"
          ]
        }
      ]
    },
    {
      "cell_type": "markdown",
      "source": [
        "# **Statistiques récapitulatives**"
      ],
      "metadata": {
        "id": "awO_0Bu41s6p"
      }
    },
    {
      "cell_type": "markdown",
      "source": [
        "# **Résumer des données numériques**"
      ],
      "metadata": {
        "id": "KQu7g_I414pt"
      }
    },
    {
      "cell_type": "code",
      "source": [
        "sales = pd.read_csv('/content/sales_subset.csv')\n",
        "print(sales.head())"
      ],
      "metadata": {
        "colab": {
          "base_uri": "https://localhost:8080/"
        },
        "id": "Phz_L1fN2Cs6",
        "outputId": "48cefd48-667f-429a-b13d-8f9d93b7b399"
      },
      "execution_count": null,
      "outputs": [
        {
          "output_type": "stream",
          "name": "stdout",
          "text": [
            "   Unnamed: 0  store type  department        date  weekly_sales  is_holiday  \\\n",
            "0           0      1    A           1  2010-02-05      24924.50       False   \n",
            "1           1      1    A           1  2010-03-05      21827.90       False   \n",
            "2           2      1    A           1  2010-04-02      57258.43       False   \n",
            "3           3      1    A           1  2010-05-07      17413.94       False   \n",
            "4           4      1    A           1  2010-06-04      17558.09       False   \n",
            "\n",
            "   temperature_c  fuel_price_usd_per_l  unemployment  \n",
            "0       5.727778              0.679451         8.106  \n",
            "1       8.055556              0.693452         8.106  \n",
            "2      16.816667              0.718284         7.808  \n",
            "3      22.527778              0.748928         7.808  \n",
            "4      27.050000              0.714586         7.808  \n"
          ]
        }
      ]
    },
    {
      "cell_type": "code",
      "source": [
        "print(sales[\"weekly_sales\"].mean())\n",
        "print(sales[\"weekly_sales\"].median())"
      ],
      "metadata": {
        "colab": {
          "base_uri": "https://localhost:8080/"
        },
        "id": "Gv0VMSFy1zO2",
        "outputId": "65703e36-3bcf-4800-f290-0418265ead05"
      },
      "execution_count": null,
      "outputs": [
        {
          "output_type": "stream",
          "name": "stdout",
          "text": [
            "23843.95014850566\n",
            "12049.064999999999\n"
          ]
        }
      ]
    },
    {
      "cell_type": "markdown",
      "source": [
        "# **Résumer les dates**\n"
      ],
      "metadata": {
        "id": "gOQoqnNb2iDA"
      }
    },
    {
      "cell_type": "code",
      "source": [
        "print(sales[\"date\"].max())"
      ],
      "metadata": {
        "colab": {
          "base_uri": "https://localhost:8080/"
        },
        "id": "pFLwraS02nP3",
        "outputId": "bd416fe8-2665-4dd4-9a27-a25c26dda0b1"
      },
      "execution_count": null,
      "outputs": [
        {
          "output_type": "stream",
          "name": "stdout",
          "text": [
            "2012-10-26\n"
          ]
        }
      ]
    },
    {
      "cell_type": "code",
      "source": [
        "print(sales[\"date\"].min())"
      ],
      "metadata": {
        "colab": {
          "base_uri": "https://localhost:8080/"
        },
        "id": "C-ZSHKfY2r1U",
        "outputId": "55e257f0-0dc9-4572-f4e8-1bd50ebe381c"
      },
      "execution_count": null,
      "outputs": [
        {
          "output_type": "stream",
          "name": "stdout",
          "text": [
            "2010-02-05\n"
          ]
        }
      ]
    },
    {
      "cell_type": "markdown",
      "source": [
        "# **La méthode .agg()**"
      ],
      "metadata": {
        "id": "-m2zphSJ3AsT"
      }
    },
    {
      "cell_type": "code",
      "source": [
        "def iqr(column):\n",
        "    return column.quantile(0.75) - column.quantile(0.25)\n",
        "\n"
      ],
      "metadata": {
        "id": "xaDSOik43DSn"
      },
      "execution_count": null,
      "outputs": []
    },
    {
      "cell_type": "code",
      "source": [
        "print(sales[\"temperature_c\"].agg(iqr))"
      ],
      "metadata": {
        "colab": {
          "base_uri": "https://localhost:8080/"
        },
        "id": "eWKC2gFG3ImJ",
        "outputId": "8f1df97a-8411-4424-972f-e63339005d74"
      },
      "execution_count": null,
      "outputs": [
        {
          "output_type": "stream",
          "name": "stdout",
          "text": [
            "16.583333333333336\n"
          ]
        }
      ]
    },
    {
      "cell_type": "code",
      "source": [
        "def iqr(column):\n",
        "    return column.quantile(0.75) - column.quantile(0.25)\n",
        "\n",
        "print(sales[[\"temperature_c\", \"fuel_price_usd_per_l\", \"unemployment\"]].agg(iqr))"
      ],
      "metadata": {
        "colab": {
          "base_uri": "https://localhost:8080/"
        },
        "id": "-yL4TEfp3Sz5",
        "outputId": "e53d1864-4ba6-44b7-ec5a-8ab90b1cde31"
      },
      "execution_count": null,
      "outputs": [
        {
          "output_type": "stream",
          "name": "stdout",
          "text": [
            "temperature_c           16.583333\n",
            "fuel_price_usd_per_l     0.073176\n",
            "unemployment             0.565000\n",
            "dtype: float64\n"
          ]
        }
      ]
    },
    {
      "cell_type": "code",
      "source": [
        "import numpy as np\n"
      ],
      "metadata": {
        "id": "KJ1vLm2u3gUh"
      },
      "execution_count": null,
      "outputs": []
    },
    {
      "cell_type": "code",
      "source": [
        "print(sales[[\"temperature_c\", \"fuel_price_usd_per_l\", \"unemployment\"]].agg([iqr,np.median]))\n"
      ],
      "metadata": {
        "colab": {
          "base_uri": "https://localhost:8080/"
        },
        "id": "TgajnRm33imx",
        "outputId": "af4be3a6-8ca4-40a8-e8ff-6296158f7213"
      },
      "execution_count": null,
      "outputs": [
        {
          "output_type": "stream",
          "name": "stdout",
          "text": [
            "        temperature_c  fuel_price_usd_per_l  unemployment\n",
            "iqr         16.583333              0.073176         0.565\n",
            "median      16.966667              0.743381         8.099\n"
          ]
        }
      ]
    },
    {
      "cell_type": "markdown",
      "source": [
        "# **Statistique cumulée**"
      ],
      "metadata": {
        "id": "GH9nRD_U385O"
      }
    },
    {
      "cell_type": "code",
      "source": [
        "sales = sales.sort_values(\"date\")\n",
        "sales[\"cum_weekly_sales\"] = sales[\"weekly_sales\"].cumsum()\n",
        "sales[\"cum_max_sales\"]=sales[\"weekly_sales\"].cummax()\n",
        "print(sales[[\"date\", \"weekly_sales\", \"cum_weekly_sales\", \"cum_max_sales\"]])"
      ],
      "metadata": {
        "colab": {
          "base_uri": "https://localhost:8080/"
        },
        "id": "2c7PFq394Cyc",
        "outputId": "19a6773c-fb89-44c5-bac5-769c2ef1d1ed"
      },
      "execution_count": null,
      "outputs": [
        {
          "output_type": "stream",
          "name": "stdout",
          "text": [
            "             date  weekly_sales  cum_weekly_sales  cum_max_sales\n",
            "0      2010-02-05      24924.50      2.492450e+04       24924.50\n",
            "6437   2010-02-05      38597.52      6.352202e+04       38597.52\n",
            "1249   2010-02-05       3840.21      6.736223e+04       38597.52\n",
            "6449   2010-02-05      17590.59      8.495282e+04       38597.52\n",
            "6461   2010-02-05       4929.87      8.988269e+04       38597.52\n",
            "...           ...           ...               ...            ...\n",
            "3592   2012-10-05        440.00      2.568932e+08      293966.05\n",
            "8108   2012-10-05        660.00      2.568938e+08      293966.05\n",
            "10773  2012-10-05        915.00      2.568947e+08      293966.05\n",
            "6257   2012-10-12          3.00      2.568947e+08      293966.05\n",
            "3384   2012-10-26        -21.63      2.568947e+08      293966.05\n",
            "\n",
            "[10774 rows x 4 columns]\n"
          ]
        }
      ]
    },
    {
      "cell_type": "markdown",
      "source": [
        "# **compter le nombre**"
      ],
      "metadata": {
        "id": "MTN0FRbr5499"
      }
    },
    {
      "cell_type": "markdown",
      "source": [
        "### **Énlever les doublons**"
      ],
      "metadata": {
        "id": "Vb1vLED36HHy"
      }
    },
    {
      "cell_type": "code",
      "source": [
        "store_types = sales.drop_duplicates(subset=[\"store\",\"type\"])\n",
        "print(store_types.head())"
      ],
      "metadata": {
        "colab": {
          "base_uri": "https://localhost:8080/"
        },
        "id": "yv1aFWh75_Sd",
        "outputId": "a8f10d2f-fcaa-44de-ffa2-3cd4bf279d61"
      },
      "execution_count": null,
      "outputs": [
        {
          "output_type": "stream",
          "name": "stdout",
          "text": [
            "      Unnamed: 0  store type  department        date  weekly_sales  \\\n",
            "0              0      1    A           1  2010-02-05      24924.50   \n",
            "6437        6437     19    A          13  2010-02-05      38597.52   \n",
            "1249        1249      2    A          31  2010-02-05       3840.21   \n",
            "6237        6237     14    A          95  2010-02-05     213042.66   \n",
            "7993        7993     20    A          90  2010-02-05     114164.32   \n",
            "\n",
            "      is_holiday  temperature_c  fuel_price_usd_per_l  unemployment  \\\n",
            "0          False       5.727778              0.679451         8.106   \n",
            "6437       False      -6.133333              0.780365         8.350   \n",
            "1249       False       4.550000              0.679451         8.324   \n",
            "6237       False      -2.605556              0.735455         8.992   \n",
            "7993       False      -3.377778              0.735455         8.187   \n",
            "\n",
            "      cum_weekly_sales  cum_max_sales  \n",
            "0             24924.50       24924.50  \n",
            "6437          63522.02       38597.52  \n",
            "1249          67362.23       38597.52  \n",
            "6237         472284.96      213042.66  \n",
            "7993        3995058.21      293966.05  \n"
          ]
        }
      ]
    },
    {
      "cell_type": "code",
      "source": [
        "store_depts = sales.drop_duplicates(subset=[\"store\",\"department\"])\n",
        "print(store_depts.head())"
      ],
      "metadata": {
        "colab": {
          "base_uri": "https://localhost:8080/"
        },
        "id": "EVa8u7PW6fym",
        "outputId": "ac180786-d909-4edd-c29f-63fa25529bb8"
      },
      "execution_count": null,
      "outputs": [
        {
          "output_type": "stream",
          "name": "stdout",
          "text": [
            "      Unnamed: 0  store type  department        date  weekly_sales  \\\n",
            "0              0      1    A           1  2010-02-05      24924.50   \n",
            "6437        6437     19    A          13  2010-02-05      38597.52   \n",
            "1249        1249      2    A          31  2010-02-05       3840.21   \n",
            "6449        6449     19    A          14  2010-02-05      17590.59   \n",
            "6461        6461     19    A          16  2010-02-05       4929.87   \n",
            "\n",
            "      is_holiday  temperature_c  fuel_price_usd_per_l  unemployment  \\\n",
            "0          False       5.727778              0.679451         8.106   \n",
            "6437       False      -6.133333              0.780365         8.350   \n",
            "1249       False       4.550000              0.679451         8.324   \n",
            "6449       False      -6.133333              0.780365         8.350   \n",
            "6461       False      -6.133333              0.780365         8.350   \n",
            "\n",
            "      cum_weekly_sales  cum_max_sales  \n",
            "0             24924.50       24924.50  \n",
            "6437          63522.02       38597.52  \n",
            "1249          67362.23       38597.52  \n",
            "6449          84952.82       38597.52  \n",
            "6461          89882.69       38597.52  \n"
          ]
        }
      ]
    },
    {
      "cell_type": "code",
      "source": [
        "holiday_dates = sales[sales[\"is_holiday\"]].drop_duplicates(subset=\"date\")\n",
        "print(holiday_dates.head())"
      ],
      "metadata": {
        "colab": {
          "base_uri": "https://localhost:8080/"
        },
        "id": "-2f0aMUE6v6U",
        "outputId": "1d0af2c2-d59c-4cbb-a4cc-dabb530b07af"
      },
      "execution_count": null,
      "outputs": [
        {
          "output_type": "stream",
          "name": "stdout",
          "text": [
            "      Unnamed: 0  store type  department        date  weekly_sales  \\\n",
            "5198        5198     13    A          78  2010-02-12         12.00   \n",
            "5606        5606     14    A          18  2010-09-10          1.94   \n",
            "6810        6810     19    A          47  2010-12-31       -449.00   \n",
            "6820        6820     19    A          48  2011-09-09        197.00   \n",
            "4295        4295     10    B          77  2011-11-25       1590.00   \n",
            "\n",
            "      is_holiday  temperature_c  fuel_price_usd_per_l  unemployment  \\\n",
            "5198        True       0.644444              0.705604         8.316   \n",
            "5606        True      21.594444              0.713001         8.743   \n",
            "6810        True      -1.861111              0.881278         8.067   \n",
            "6820        True      20.155556              1.038197         7.806   \n",
            "4295        True      15.933333              0.993287         7.874   \n",
            "\n",
            "      cum_weekly_sales  cum_max_sales  \n",
            "5198      2.283538e+07      293966.05  \n",
            "5606      1.754083e+08      293966.05  \n",
            "6810      2.377379e+08      293966.05  \n",
            "6820      2.568424e+08      293966.05  \n",
            "4295      2.568458e+08      293966.05  \n"
          ]
        }
      ]
    },
    {
      "cell_type": "markdown",
      "source": [
        "après avoir supprimé les doublons, nous pouvons compter les nombres"
      ],
      "metadata": {
        "id": "6WWHfzzt7NXL"
      }
    },
    {
      "cell_type": "code",
      "source": [
        "store_counts = store_types[\"type\"].value_counts()\n",
        "print(store_counts)"
      ],
      "metadata": {
        "colab": {
          "base_uri": "https://localhost:8080/"
        },
        "id": "a3sAF0XM7Z32",
        "outputId": "858d1102-bed2-4832-f540-61c50676a8d9"
      },
      "execution_count": null,
      "outputs": [
        {
          "output_type": "stream",
          "name": "stdout",
          "text": [
            "A    11\n",
            "B     1\n",
            "Name: type, dtype: int64\n"
          ]
        }
      ]
    },
    {
      "cell_type": "code",
      "source": [
        "store_props = store_types[\"type\"].value_counts(normalize= True)\n",
        "print(store_props)"
      ],
      "metadata": {
        "colab": {
          "base_uri": "https://localhost:8080/"
        },
        "id": "kq7ln_C57d9M",
        "outputId": "f614abed-a7f4-49a5-88db-66fe474ab29a"
      },
      "execution_count": null,
      "outputs": [
        {
          "output_type": "stream",
          "name": "stdout",
          "text": [
            "A    0.916667\n",
            "B    0.083333\n",
            "Name: type, dtype: float64\n"
          ]
        }
      ]
    },
    {
      "cell_type": "code",
      "source": [
        "dept_counts_sorted = store_depts[\"department\"].value_counts(sort=True)\n",
        "print(dept_counts_sorted)"
      ],
      "metadata": {
        "colab": {
          "base_uri": "https://localhost:8080/"
        },
        "id": "UtZ_Hq0n7inC",
        "outputId": "9712da36-96ab-4c81-eac9-c007d7ef13c0"
      },
      "execution_count": null,
      "outputs": [
        {
          "output_type": "stream",
          "name": "stdout",
          "text": [
            "1     12\n",
            "40    12\n",
            "38    12\n",
            "46    12\n",
            "45    12\n",
            "      ..\n",
            "37    10\n",
            "48     8\n",
            "50     6\n",
            "39     4\n",
            "43     2\n",
            "Name: department, Length: 80, dtype: int64\n"
          ]
        }
      ]
    },
    {
      "cell_type": "markdown",
      "source": [
        "## **Proportions**"
      ],
      "metadata": {
        "id": "ih9c34bh8HLl"
      }
    },
    {
      "cell_type": "code",
      "source": [
        "dept_props_sorted = store_depts[\"department\"].value_counts(sort=True, normalize=True)\n",
        "print(dept_props_sorted)"
      ],
      "metadata": {
        "colab": {
          "base_uri": "https://localhost:8080/"
        },
        "id": "MyxvJVEm7yHZ",
        "outputId": "9ecc2644-9666-48f3-bb1c-92f44a6becdb"
      },
      "execution_count": null,
      "outputs": [
        {
          "output_type": "stream",
          "name": "stdout",
          "text": [
            "1     0.012917\n",
            "40    0.012917\n",
            "38    0.012917\n",
            "46    0.012917\n",
            "45    0.012917\n",
            "        ...   \n",
            "37    0.010764\n",
            "48    0.008611\n",
            "50    0.006459\n",
            "39    0.004306\n",
            "43    0.002153\n",
            "Name: department, Length: 80, dtype: float64\n"
          ]
        }
      ]
    },
    {
      "cell_type": "markdown",
      "source": [
        "Il semble que seulement 43 départements n’existent dans deux magasins."
      ],
      "metadata": {
        "id": "girKJq6a8VkS"
      }
    },
    {
      "cell_type": "markdown",
      "source": [
        "## **Quel pourcentage des ventes a eu lieu dans chaque type de magasin ?**"
      ],
      "metadata": {
        "id": "G1F7qMQu8vwX"
      }
    },
    {
      "cell_type": "code",
      "source": [
        "sales_all = sales[\"weekly_sales\"].sum()\n",
        "sales_A = sales[sales[\"type\"] == \"A\"][\"weekly_sales\"].sum()\n",
        "sales_B = sales[sales[\"type\"]==\"B\"][\"weekly_sales\"].sum()\n",
        "sales_C = sales[sales[\"type\"]==\"C\"][\"weekly_sales\"].sum()\n",
        "sales_propn_by_type = [sales_A,sales_B, sales_C] / sales_all\n",
        "print(sales_propn_by_type)"
      ],
      "metadata": {
        "colab": {
          "base_uri": "https://localhost:8080/"
        },
        "id": "xFtzHMCF8Kk0",
        "outputId": "63723175-686a-4260-b289-2d2395ceefbf"
      },
      "execution_count": null,
      "outputs": [
        {
          "output_type": "stream",
          "name": "stdout",
          "text": [
            "[0.9097747 0.0902253 0.       ]\n"
          ]
        }
      ]
    },
    {
      "cell_type": "markdown",
      "source": [
        "Environ 91 % des ventes ont eu lieu dans des magasins de type A, 9 % dans des magasins de type B, et il n’y a pas de registres de ventes pour les magasins de type C."
      ],
      "metadata": {
        "id": "EZWsIcnp9a-A"
      }
    },
    {
      "cell_type": "code",
      "source": [
        "sales_by_type = sales.groupby(\"type\")[\"weekly_sales\"].sum()\n",
        "sales_propn_by_type = sales_by_type / sum(sales_by_type)\n",
        "print(sales_propn_by_type)"
      ],
      "metadata": {
        "colab": {
          "base_uri": "https://localhost:8080/"
        },
        "id": "syfTY46v9dgO",
        "outputId": "1eb1bbe1-4d30-484d-a297-96f4ae9cc984"
      },
      "execution_count": null,
      "outputs": [
        {
          "output_type": "stream",
          "name": "stdout",
          "text": [
            "type\n",
            "A    0.909775\n",
            "B    0.090225\n",
            "Name: weekly_sales, dtype: float64\n"
          ]
        }
      ]
    },
    {
      "cell_type": "code",
      "source": [
        "sales_by_type_is_holiday = sales.groupby([\"type\",\"is_holiday\"])[\"weekly_sales\"].sum()\n",
        "print(sales_by_type_is_holiday)"
      ],
      "metadata": {
        "colab": {
          "base_uri": "https://localhost:8080/"
        },
        "id": "n7_PzR7i94Em",
        "outputId": "8fd5ed62-a940-499c-ca28-63621f39525a"
      },
      "execution_count": null,
      "outputs": [
        {
          "output_type": "stream",
          "name": "stdout",
          "text": [
            "type  is_holiday\n",
            "A     False         2.336927e+08\n",
            "      True          2.360181e+04\n",
            "B     False         2.317678e+07\n",
            "      True          1.621410e+03\n",
            "Name: weekly_sales, dtype: float64\n"
          ]
        }
      ]
    },
    {
      "cell_type": "markdown",
      "source": [
        "# **Plusieurs descriptions groupés**"
      ],
      "metadata": {
        "id": "KWf1xQ5s-V-_"
      }
    },
    {
      "cell_type": "code",
      "source": [
        "import numpy as np"
      ],
      "metadata": {
        "id": "XeWl3TLv-cmC"
      },
      "execution_count": null,
      "outputs": []
    },
    {
      "cell_type": "code",
      "source": [
        "sales_stats = sales.groupby(\"type\")[\"weekly_sales\"].agg([min,max,np.mean,np.median])\n",
        "print(sales_stats)"
      ],
      "metadata": {
        "colab": {
          "base_uri": "https://localhost:8080/"
        },
        "id": "3cFMcdB0-gVX",
        "outputId": "67142a0d-73cb-41ac-e8ef-99463246f043"
      },
      "execution_count": null,
      "outputs": [
        {
          "output_type": "stream",
          "name": "stdout",
          "text": [
            "         min        max          mean    median\n",
            "type                                           \n",
            "A    -1098.0  293966.05  23674.667242  11943.92\n",
            "B     -798.0  232558.51  25696.678370  13336.08\n"
          ]
        }
      ]
    },
    {
      "cell_type": "code",
      "source": [
        "unemp_fuel_stats = sales.groupby(\"type\")[[\"unemployment\",\"fuel_price_usd_per_l\"]].agg([min,max,np.mean,np.median])\n",
        "print(unemp_fuel_stats)"
      ],
      "metadata": {
        "colab": {
          "base_uri": "https://localhost:8080/"
        },
        "id": "db5YO7ML-prD",
        "outputId": "359ea7d9-f09c-4d88-dad4-4ecd6c4c0feb"
      },
      "execution_count": null,
      "outputs": [
        {
          "output_type": "stream",
          "name": "stdout",
          "text": [
            "     unemployment                         fuel_price_usd_per_l            \\\n",
            "              min    max      mean median                  min       max   \n",
            "type                                                                       \n",
            "A           3.879  8.992  7.972611  8.067             0.664129  1.107410   \n",
            "B           7.170  9.765  9.279323  9.199             0.760023  1.107674   \n",
            "\n",
            "                          \n",
            "          mean    median  \n",
            "type                      \n",
            "A     0.744619  0.735455  \n",
            "B     0.805858  0.803348  \n"
          ]
        }
      ]
    },
    {
      "cell_type": "markdown",
      "source": [
        "# **Tableaux croisés dynamiques**"
      ],
      "metadata": {
        "id": "K1c2eQt0_DAR"
      }
    },
    {
      "cell_type": "code",
      "source": [
        "mean_sales_by_type = sales.pivot_table(values = \"weekly_sales\",index = \"type\")\n",
        "print(mean_sales_by_type)"
      ],
      "metadata": {
        "colab": {
          "base_uri": "https://localhost:8080/"
        },
        "id": "5qQK844B_Fs5",
        "outputId": "864ad0a5-27c7-44fd-99ae-be0064fa5239"
      },
      "execution_count": null,
      "outputs": [
        {
          "output_type": "stream",
          "name": "stdout",
          "text": [
            "      weekly_sales\n",
            "type              \n",
            "A     23674.667242\n",
            "B     25696.678370\n"
          ]
        }
      ]
    },
    {
      "cell_type": "code",
      "source": [
        "import numpy as np"
      ],
      "metadata": {
        "id": "HXeIWBlL_iqE"
      },
      "execution_count": null,
      "outputs": []
    },
    {
      "cell_type": "code",
      "source": [
        "mean_med_sales_by_type = sales.pivot_table(values = \"weekly_sales\",index =\"type\",aggfunc = [np.mean,np.median])\n",
        "print(mean_med_sales_by_type)"
      ],
      "metadata": {
        "colab": {
          "base_uri": "https://localhost:8080/"
        },
        "id": "s7VSpDQs_j-a",
        "outputId": "6ef8e26d-5e0d-4c7c-d064-49310e380c4f"
      },
      "execution_count": null,
      "outputs": [
        {
          "output_type": "stream",
          "name": "stdout",
          "text": [
            "              mean       median\n",
            "      weekly_sales weekly_sales\n",
            "type                           \n",
            "A     23674.667242     11943.92\n",
            "B     25696.678370     13336.08\n"
          ]
        }
      ]
    },
    {
      "cell_type": "markdown",
      "source": [
        "## **Pivoter sur deux variables**"
      ],
      "metadata": {
        "id": "iFBnMu8h_64a"
      }
    },
    {
      "cell_type": "code",
      "source": [
        "mean_sales_by_type_holiday = sales.pivot_table(values=\"weekly_sales\",index =\"type\",columns = \"is_holiday\" )\n",
        "print(mean_sales_by_type_holiday)"
      ],
      "metadata": {
        "colab": {
          "base_uri": "https://localhost:8080/"
        },
        "id": "vmy4gmiL_9rn",
        "outputId": "e06c0189-95f0-4d93-9cca-0b33ebe0c6ab"
      },
      "execution_count": null,
      "outputs": [
        {
          "output_type": "stream",
          "name": "stdout",
          "text": [
            "is_holiday         False      True \n",
            "type                               \n",
            "A           23768.583523  590.04525\n",
            "B           25751.980533  810.70500\n"
          ]
        }
      ]
    },
    {
      "cell_type": "markdown",
      "source": [
        "Les tableaux croisés dynamiques(pivot.table) sont une autre façon de faire la même chose qu’un regroupement(groupby) par ,puis récapitulatif."
      ],
      "metadata": {
        "id": "Dj9FrWMHAflB"
      }
    },
    {
      "cell_type": "markdown",
      "source": [
        "### **Renseignez les valeurs manquantes et additionnez les valeurs à l’aide de tableaux croisés dynamiques**"
      ],
      "metadata": {
        "id": "PaxNLpeTA0gu"
      }
    },
    {
      "cell_type": "code",
      "source": [
        "print(sales.pivot_table(values = \"weekly_sales\",index = \"department\",columns =\"type\",fill_value = 0))"
      ],
      "metadata": {
        "colab": {
          "base_uri": "https://localhost:8080/"
        },
        "id": "olBM_8R8At3q",
        "outputId": "b6c57ae3-9ac7-4567-99a0-6402f9d618c7"
      },
      "execution_count": null,
      "outputs": [
        {
          "output_type": "stream",
          "name": "stdout",
          "text": [
            "type                    A              B\n",
            "department                              \n",
            "1            30961.725379   44050.626667\n",
            "2            67600.158788  112958.526667\n",
            "3            17160.002955   30580.655000\n",
            "4            44285.399091   51219.654167\n",
            "5            34821.011364   63236.875000\n",
            "...                   ...            ...\n",
            "95          123933.787121   77082.102500\n",
            "96           21367.042857    9528.538333\n",
            "97           28471.266970    5828.873333\n",
            "98           12875.423182     217.428333\n",
            "99             379.123659       0.000000\n",
            "\n",
            "[80 rows x 2 columns]\n"
          ]
        }
      ]
    },
    {
      "cell_type": "code",
      "source": [
        "print(sales.pivot_table(values=\"weekly_sales\", index=\"department\", columns=\"type\", fill_value = 0,margins = True))"
      ],
      "metadata": {
        "colab": {
          "base_uri": "https://localhost:8080/"
        },
        "id": "SLFF38RFBLiF",
        "outputId": "4e1bd9fc-923e-40a4-e0ad-6b5e4c08d0a3"
      },
      "execution_count": null,
      "outputs": [
        {
          "output_type": "stream",
          "name": "stdout",
          "text": [
            "type                   A              B           All\n",
            "department                                           \n",
            "1           30961.725379   44050.626667  32052.467153\n",
            "2           67600.158788  112958.526667  71380.022778\n",
            "3           17160.002955   30580.655000  18278.390625\n",
            "4           44285.399091   51219.654167  44863.253681\n",
            "5           34821.011364   63236.875000  37189.000000\n",
            "...                  ...            ...           ...\n",
            "96          21367.042857    9528.538333  20337.607681\n",
            "97          28471.266970    5828.873333  26584.400833\n",
            "98          12875.423182     217.428333  11820.590278\n",
            "99            379.123659       0.000000    379.123659\n",
            "All         23674.667242   25696.678370  23843.950149\n",
            "\n",
            "[81 rows x 3 columns]\n"
          ]
        }
      ]
    },
    {
      "cell_type": "markdown",
      "source": [
        "Vous disposez désormais de compétences de tableau croisé dynamique qui peuvent vous aider à calculer des résumés à plusieurs niveaux groupés dans une seule ligne de code. Notez la subtilité de la valeur des marges ici. La colonne « Tous » renvoie une moyenne globale pour chaque département, et non (A+B)/2. (A+B)/2 serait une moyenne des moyennes, plutôt qu’une moyenne globale par département !"
      ],
      "metadata": {
        "id": "8MhjJ1heBnzg"
      }
    },
    {
      "cell_type": "code",
      "source": [],
      "metadata": {
        "id": "q_ylvVVDBpaI"
      },
      "execution_count": null,
      "outputs": []
    },
    {
      "cell_type": "markdown",
      "source": [],
      "metadata": {
        "id": "NAi5g1Id6fbK"
      }
    }
  ]
}