{
  "nbformat": 4,
  "nbformat_minor": 0,
  "metadata": {
    "colab": {
      "provenance": [],
      "authorship_tag": "ABX9TyPB9LVadMaoYIc7xgNrBSqW",
      "include_colab_link": true
    },
    "kernelspec": {
      "name": "python3",
      "display_name": "Python 3"
    },
    "language_info": {
      "name": "python"
    }
  },
  "cells": [
    {
      "cell_type": "markdown",
      "metadata": {
        "id": "view-in-github",
        "colab_type": "text"
      },
      "source": [
        "<a href=\"https://colab.research.google.com/github/othniel77/datascience/blob/main/slicing_et_indexer_les_dataframes.ipynb\" target=\"_parent\"><img src=\"https://colab.research.google.com/assets/colab-badge.svg\" alt=\"Open In Colab\"/></a>"
      ]
    },
    {
      "cell_type": "code",
      "execution_count": null,
      "metadata": {
        "id": "3qsnEyeye820"
      },
      "outputs": [],
      "source": [
        "import pandas as pd"
      ]
    },
    {
      "cell_type": "code",
      "source": [
        "from google.colab import files\n",
        "data_to_load = files.upload()"
      ],
      "metadata": {
        "colab": {
          "base_uri": "https://localhost:8080/",
          "height": 73
        },
        "id": "vqPIc8Z8fPrG",
        "outputId": "923ec0df-c8c7-4316-a602-d6ffa79bd681"
      },
      "execution_count": null,
      "outputs": [
        {
          "output_type": "display_data",
          "data": {
            "text/plain": [
              "<IPython.core.display.HTML object>"
            ],
            "text/html": [
              "\n",
              "     <input type=\"file\" id=\"files-223195df-3967-4b42-bdc7-b321252f4be8\" name=\"files[]\" multiple disabled\n",
              "        style=\"border:none\" />\n",
              "     <output id=\"result-223195df-3967-4b42-bdc7-b321252f4be8\">\n",
              "      Upload widget is only available when the cell has been executed in the\n",
              "      current browser session. Please rerun this cell to enable.\n",
              "      </output>\n",
              "      <script>// Copyright 2017 Google LLC\n",
              "//\n",
              "// Licensed under the Apache License, Version 2.0 (the \"License\");\n",
              "// you may not use this file except in compliance with the License.\n",
              "// You may obtain a copy of the License at\n",
              "//\n",
              "//      http://www.apache.org/licenses/LICENSE-2.0\n",
              "//\n",
              "// Unless required by applicable law or agreed to in writing, software\n",
              "// distributed under the License is distributed on an \"AS IS\" BASIS,\n",
              "// WITHOUT WARRANTIES OR CONDITIONS OF ANY KIND, either express or implied.\n",
              "// See the License for the specific language governing permissions and\n",
              "// limitations under the License.\n",
              "\n",
              "/**\n",
              " * @fileoverview Helpers for google.colab Python module.\n",
              " */\n",
              "(function(scope) {\n",
              "function span(text, styleAttributes = {}) {\n",
              "  const element = document.createElement('span');\n",
              "  element.textContent = text;\n",
              "  for (const key of Object.keys(styleAttributes)) {\n",
              "    element.style[key] = styleAttributes[key];\n",
              "  }\n",
              "  return element;\n",
              "}\n",
              "\n",
              "// Max number of bytes which will be uploaded at a time.\n",
              "const MAX_PAYLOAD_SIZE = 100 * 1024;\n",
              "\n",
              "function _uploadFiles(inputId, outputId) {\n",
              "  const steps = uploadFilesStep(inputId, outputId);\n",
              "  const outputElement = document.getElementById(outputId);\n",
              "  // Cache steps on the outputElement to make it available for the next call\n",
              "  // to uploadFilesContinue from Python.\n",
              "  outputElement.steps = steps;\n",
              "\n",
              "  return _uploadFilesContinue(outputId);\n",
              "}\n",
              "\n",
              "// This is roughly an async generator (not supported in the browser yet),\n",
              "// where there are multiple asynchronous steps and the Python side is going\n",
              "// to poll for completion of each step.\n",
              "// This uses a Promise to block the python side on completion of each step,\n",
              "// then passes the result of the previous step as the input to the next step.\n",
              "function _uploadFilesContinue(outputId) {\n",
              "  const outputElement = document.getElementById(outputId);\n",
              "  const steps = outputElement.steps;\n",
              "\n",
              "  const next = steps.next(outputElement.lastPromiseValue);\n",
              "  return Promise.resolve(next.value.promise).then((value) => {\n",
              "    // Cache the last promise value to make it available to the next\n",
              "    // step of the generator.\n",
              "    outputElement.lastPromiseValue = value;\n",
              "    return next.value.response;\n",
              "  });\n",
              "}\n",
              "\n",
              "/**\n",
              " * Generator function which is called between each async step of the upload\n",
              " * process.\n",
              " * @param {string} inputId Element ID of the input file picker element.\n",
              " * @param {string} outputId Element ID of the output display.\n",
              " * @return {!Iterable<!Object>} Iterable of next steps.\n",
              " */\n",
              "function* uploadFilesStep(inputId, outputId) {\n",
              "  const inputElement = document.getElementById(inputId);\n",
              "  inputElement.disabled = false;\n",
              "\n",
              "  const outputElement = document.getElementById(outputId);\n",
              "  outputElement.innerHTML = '';\n",
              "\n",
              "  const pickedPromise = new Promise((resolve) => {\n",
              "    inputElement.addEventListener('change', (e) => {\n",
              "      resolve(e.target.files);\n",
              "    });\n",
              "  });\n",
              "\n",
              "  const cancel = document.createElement('button');\n",
              "  inputElement.parentElement.appendChild(cancel);\n",
              "  cancel.textContent = 'Cancel upload';\n",
              "  const cancelPromise = new Promise((resolve) => {\n",
              "    cancel.onclick = () => {\n",
              "      resolve(null);\n",
              "    };\n",
              "  });\n",
              "\n",
              "  // Wait for the user to pick the files.\n",
              "  const files = yield {\n",
              "    promise: Promise.race([pickedPromise, cancelPromise]),\n",
              "    response: {\n",
              "      action: 'starting',\n",
              "    }\n",
              "  };\n",
              "\n",
              "  cancel.remove();\n",
              "\n",
              "  // Disable the input element since further picks are not allowed.\n",
              "  inputElement.disabled = true;\n",
              "\n",
              "  if (!files) {\n",
              "    return {\n",
              "      response: {\n",
              "        action: 'complete',\n",
              "      }\n",
              "    };\n",
              "  }\n",
              "\n",
              "  for (const file of files) {\n",
              "    const li = document.createElement('li');\n",
              "    li.append(span(file.name, {fontWeight: 'bold'}));\n",
              "    li.append(span(\n",
              "        `(${file.type || 'n/a'}) - ${file.size} bytes, ` +\n",
              "        `last modified: ${\n",
              "            file.lastModifiedDate ? file.lastModifiedDate.toLocaleDateString() :\n",
              "                                    'n/a'} - `));\n",
              "    const percent = span('0% done');\n",
              "    li.appendChild(percent);\n",
              "\n",
              "    outputElement.appendChild(li);\n",
              "\n",
              "    const fileDataPromise = new Promise((resolve) => {\n",
              "      const reader = new FileReader();\n",
              "      reader.onload = (e) => {\n",
              "        resolve(e.target.result);\n",
              "      };\n",
              "      reader.readAsArrayBuffer(file);\n",
              "    });\n",
              "    // Wait for the data to be ready.\n",
              "    let fileData = yield {\n",
              "      promise: fileDataPromise,\n",
              "      response: {\n",
              "        action: 'continue',\n",
              "      }\n",
              "    };\n",
              "\n",
              "    // Use a chunked sending to avoid message size limits. See b/62115660.\n",
              "    let position = 0;\n",
              "    do {\n",
              "      const length = Math.min(fileData.byteLength - position, MAX_PAYLOAD_SIZE);\n",
              "      const chunk = new Uint8Array(fileData, position, length);\n",
              "      position += length;\n",
              "\n",
              "      const base64 = btoa(String.fromCharCode.apply(null, chunk));\n",
              "      yield {\n",
              "        response: {\n",
              "          action: 'append',\n",
              "          file: file.name,\n",
              "          data: base64,\n",
              "        },\n",
              "      };\n",
              "\n",
              "      let percentDone = fileData.byteLength === 0 ?\n",
              "          100 :\n",
              "          Math.round((position / fileData.byteLength) * 100);\n",
              "      percent.textContent = `${percentDone}% done`;\n",
              "\n",
              "    } while (position < fileData.byteLength);\n",
              "  }\n",
              "\n",
              "  // All done.\n",
              "  yield {\n",
              "    response: {\n",
              "      action: 'complete',\n",
              "    }\n",
              "  };\n",
              "}\n",
              "\n",
              "scope.google = scope.google || {};\n",
              "scope.google.colab = scope.google.colab || {};\n",
              "scope.google.colab._files = {\n",
              "  _uploadFiles,\n",
              "  _uploadFilesContinue,\n",
              "};\n",
              "})(self);\n",
              "</script> "
            ]
          },
          "metadata": {}
        },
        {
          "output_type": "stream",
          "name": "stdout",
          "text": [
            "Saving temperatures.csv to temperatures (1).csv\n"
          ]
        }
      ]
    },
    {
      "cell_type": "markdown",
      "source": [
        "# **explication de l'Index**"
      ],
      "metadata": {
        "id": "SKHFR_dRgrC2"
      }
    },
    {
      "cell_type": "code",
      "source": [
        "temperatures = pd.read_csv('/content/temperatures.csv',parse_dates=[\"date\"])\n",
        "print(temperatures.head())"
      ],
      "metadata": {
        "colab": {
          "base_uri": "https://localhost:8080/"
        },
        "id": "TLeVI2PJgBay",
        "outputId": "e1d356c1-04be-4b1d-bea9-cc5532aa9b2d"
      },
      "execution_count": null,
      "outputs": [
        {
          "output_type": "stream",
          "name": "stdout",
          "text": [
            "   Unnamed: 0       date     city        country  avg_temp_c\n",
            "0           0 2000-01-01  Abidjan  Côte D'Ivoire      27.293\n",
            "1           1 2000-02-01  Abidjan  Côte D'Ivoire      27.685\n",
            "2           2 2000-03-01  Abidjan  Côte D'Ivoire      29.061\n",
            "3           3 2000-04-01  Abidjan  Côte D'Ivoire      28.162\n",
            "4           4 2000-05-01  Abidjan  Côte D'Ivoire      27.547\n"
          ]
        }
      ]
    },
    {
      "cell_type": "code",
      "source": [
        "temperatures_ind = temperatures.set_index(\"city\")\n",
        "print(temperatures_ind)"
      ],
      "metadata": {
        "colab": {
          "base_uri": "https://localhost:8080/"
        },
        "id": "fEgej9G_f7mE",
        "outputId": "07987ad5-cce6-4a18-d7eb-3780309c89c7"
      },
      "execution_count": null,
      "outputs": [
        {
          "output_type": "stream",
          "name": "stdout",
          "text": [
            "         Unnamed: 0       date        country  avg_temp_c\n",
            "city                                                     \n",
            "Abidjan           0 2000-01-01  Côte D'Ivoire      27.293\n",
            "Abidjan           1 2000-02-01  Côte D'Ivoire      27.685\n",
            "Abidjan           2 2000-03-01  Côte D'Ivoire      29.061\n",
            "Abidjan           3 2000-04-01  Côte D'Ivoire      28.162\n",
            "Abidjan           4 2000-05-01  Côte D'Ivoire      27.547\n",
            "...             ...        ...            ...         ...\n",
            "Xian          16495 2013-05-01          China      18.979\n",
            "Xian          16496 2013-06-01          China      23.522\n",
            "Xian          16497 2013-07-01          China      25.251\n",
            "Xian          16498 2013-08-01          China      24.528\n",
            "Xian          16499 2013-09-01          China         NaN\n",
            "\n",
            "[16500 rows x 4 columns]\n"
          ]
        }
      ]
    },
    {
      "cell_type": "code",
      "source": [
        "print(temperatures_ind.reset_index())"
      ],
      "metadata": {
        "colab": {
          "base_uri": "https://localhost:8080/"
        },
        "id": "qZYGaXqVgmjo",
        "outputId": "96d834d9-33db-4f57-f3d1-f4bdd3913123"
      },
      "execution_count": null,
      "outputs": [
        {
          "output_type": "stream",
          "name": "stdout",
          "text": [
            "          city  Unnamed: 0       date        country  avg_temp_c\n",
            "0      Abidjan           0 2000-01-01  Côte D'Ivoire      27.293\n",
            "1      Abidjan           1 2000-02-01  Côte D'Ivoire      27.685\n",
            "2      Abidjan           2 2000-03-01  Côte D'Ivoire      29.061\n",
            "3      Abidjan           3 2000-04-01  Côte D'Ivoire      28.162\n",
            "4      Abidjan           4 2000-05-01  Côte D'Ivoire      27.547\n",
            "...        ...         ...        ...            ...         ...\n",
            "16495     Xian       16495 2013-05-01          China      18.979\n",
            "16496     Xian       16496 2013-06-01          China      23.522\n",
            "16497     Xian       16497 2013-07-01          China      25.251\n",
            "16498     Xian       16498 2013-08-01          China      24.528\n",
            "16499     Xian       16499 2013-09-01          China         NaN\n",
            "\n",
            "[16500 rows x 5 columns]\n"
          ]
        }
      ]
    },
    {
      "cell_type": "markdown",
      "source": [
        "## **Supprimer un index**"
      ],
      "metadata": {
        "id": "1uS5rgjhh56S"
      }
    },
    {
      "cell_type": "code",
      "source": [
        "print(temperatures_ind.reset_index(drop= True))"
      ],
      "metadata": {
        "colab": {
          "base_uri": "https://localhost:8080/"
        },
        "id": "jbrsNe-jhVtz",
        "outputId": "6076da26-b7aa-4117-9200-ec6ea8bf8eed"
      },
      "execution_count": null,
      "outputs": [
        {
          "output_type": "stream",
          "name": "stdout",
          "text": [
            "       Unnamed: 0       date        country  avg_temp_c\n",
            "0               0 2000-01-01  Côte D'Ivoire      27.293\n",
            "1               1 2000-02-01  Côte D'Ivoire      27.685\n",
            "2               2 2000-03-01  Côte D'Ivoire      29.061\n",
            "3               3 2000-04-01  Côte D'Ivoire      28.162\n",
            "4               4 2000-05-01  Côte D'Ivoire      27.547\n",
            "...           ...        ...            ...         ...\n",
            "16495       16495 2013-05-01          China      18.979\n",
            "16496       16496 2013-06-01          China      23.522\n",
            "16497       16497 2013-07-01          China      25.251\n",
            "16498       16498 2013-08-01          China      24.528\n",
            "16499       16499 2013-09-01          China         NaN\n",
            "\n",
            "[16500 rows x 4 columns]\n"
          ]
        }
      ]
    },
    {
      "cell_type": "markdown",
      "source": [
        "## **Sous-ensemble sur les valeurs d'index dupliquées**"
      ],
      "metadata": {
        "id": "gjDSs1FjiJAh"
      }
    },
    {
      "cell_type": "code",
      "source": [
        "cities = [\"Moscow\", \"Saint Petersburg\"]\n",
        "print(temperatures[temperatures[\"city\"].isin([\"Moscow\",\"Saint Petersburg\"])])\n"
      ],
      "metadata": {
        "colab": {
          "base_uri": "https://localhost:8080/"
        },
        "id": "7jSIgo-LiVbC",
        "outputId": "b2ddc7a3-de69-4adb-be89-41c3fe52896b"
      },
      "execution_count": null,
      "outputs": [
        {
          "output_type": "stream",
          "name": "stdout",
          "text": [
            "       Unnamed: 0       date              city country  avg_temp_c\n",
            "10725       10725 2000-01-01            Moscow  Russia      -7.313\n",
            "10726       10726 2000-02-01            Moscow  Russia      -3.551\n",
            "10727       10727 2000-03-01            Moscow  Russia      -1.661\n",
            "10728       10728 2000-04-01            Moscow  Russia      10.096\n",
            "10729       10729 2000-05-01            Moscow  Russia      10.357\n",
            "...           ...        ...               ...     ...         ...\n",
            "13360       13360 2013-05-01  Saint Petersburg  Russia      12.355\n",
            "13361       13361 2013-06-01  Saint Petersburg  Russia      17.185\n",
            "13362       13362 2013-07-01  Saint Petersburg  Russia      17.234\n",
            "13363       13363 2013-08-01  Saint Petersburg  Russia      17.153\n",
            "13364       13364 2013-09-01  Saint Petersburg  Russia         NaN\n",
            "\n",
            "[330 rows x 5 columns]\n"
          ]
        }
      ]
    },
    {
      "cell_type": "code",
      "source": [
        "print(temperatures_ind.loc[[\"Moscow\",\"Saint Petersburg\"]])"
      ],
      "metadata": {
        "colab": {
          "base_uri": "https://localhost:8080/"
        },
        "id": "A41uwm0oifYU",
        "outputId": "8bca1f61-c924-48f7-8e00-31b0a0137a2f"
      },
      "execution_count": null,
      "outputs": [
        {
          "output_type": "stream",
          "name": "stdout",
          "text": [
            "                  Unnamed: 0       date country  avg_temp_c\n",
            "city                                                       \n",
            "Moscow                 10725 2000-01-01  Russia      -7.313\n",
            "Moscow                 10726 2000-02-01  Russia      -3.551\n",
            "Moscow                 10727 2000-03-01  Russia      -1.661\n",
            "Moscow                 10728 2000-04-01  Russia      10.096\n",
            "Moscow                 10729 2000-05-01  Russia      10.357\n",
            "...                      ...        ...     ...         ...\n",
            "Saint Petersburg       13360 2013-05-01  Russia      12.355\n",
            "Saint Petersburg       13361 2013-06-01  Russia      17.185\n",
            "Saint Petersburg       13362 2013-07-01  Russia      17.234\n",
            "Saint Petersburg       13363 2013-08-01  Russia      17.153\n",
            "Saint Petersburg       13364 2013-09-01  Russia         NaN\n",
            "\n",
            "[330 rows x 4 columns]\n"
          ]
        }
      ]
    },
    {
      "cell_type": "code",
      "source": [
        "temperatures_ind = temperatures.set_index([\"country\", \"city\"])\n",
        "rows_to_keep = [(\"Brazil\", \"Rio De Janeiro\"), (\"Pakistan\", \"Lahore\")]\n",
        "print(temperatures_ind.loc[rows_to_keep])"
      ],
      "metadata": {
        "colab": {
          "base_uri": "https://localhost:8080/"
        },
        "id": "vgmnU9CCjaqs",
        "outputId": "0302fcdd-cff8-4658-e724-0029ea4ac932"
      },
      "execution_count": null,
      "outputs": [
        {
          "output_type": "stream",
          "name": "stdout",
          "text": [
            "                         Unnamed: 0       date  avg_temp_c\n",
            "country  city                                             \n",
            "Brazil   Rio De Janeiro       12540 2000-01-01      25.974\n",
            "         Rio De Janeiro       12541 2000-02-01      26.699\n",
            "         Rio De Janeiro       12542 2000-03-01      26.270\n",
            "         Rio De Janeiro       12543 2000-04-01      25.750\n",
            "         Rio De Janeiro       12544 2000-05-01      24.356\n",
            "...                             ...        ...         ...\n",
            "Pakistan Lahore                8575 2013-05-01      33.457\n",
            "         Lahore                8576 2013-06-01      34.456\n",
            "         Lahore                8577 2013-07-01      33.279\n",
            "         Lahore                8578 2013-08-01      31.511\n",
            "         Lahore                8579 2013-09-01         NaN\n",
            "\n",
            "[330 rows x 3 columns]\n"
          ]
        }
      ]
    },
    {
      "cell_type": "markdown",
      "source": [
        "# **Tri par valeurs d'index**"
      ],
      "metadata": {
        "id": "XnlNQRUIjxav"
      }
    },
    {
      "cell_type": "code",
      "source": [
        "print(temperatures_ind.sort_index())\n",
        "print(temperatures_ind.sort_index(level=\"city\"))\n",
        "print(temperatures_ind.sort_index(level=[\"country\", \"city\"], ascending = [True, False]))"
      ],
      "metadata": {
        "colab": {
          "base_uri": "https://localhost:8080/"
        },
        "id": "TLtQnUpPj0_v",
        "outputId": "939b3e88-1686-4154-effa-59b07996adce"
      },
      "execution_count": null,
      "outputs": [
        {
          "output_type": "stream",
          "name": "stdout",
          "text": [
            "                    Unnamed: 0       date  avg_temp_c\n",
            "country     city                                     \n",
            "Afghanistan Kabul         7260 2000-01-01       3.326\n",
            "            Kabul         7261 2000-02-01       3.454\n",
            "            Kabul         7262 2000-03-01       9.612\n",
            "            Kabul         7263 2000-04-01      17.925\n",
            "            Kabul         7264 2000-05-01      24.658\n",
            "...                        ...        ...         ...\n",
            "Zimbabwe    Harare        5605 2013-05-01      18.298\n",
            "            Harare        5606 2013-06-01      17.020\n",
            "            Harare        5607 2013-07-01      16.299\n",
            "            Harare        5608 2013-08-01      19.232\n",
            "            Harare        5609 2013-09-01         NaN\n",
            "\n",
            "[16500 rows x 3 columns]\n",
            "                       Unnamed: 0       date  avg_temp_c\n",
            "country       city                                      \n",
            "Côte D'Ivoire Abidjan           0 2000-01-01      27.293\n",
            "              Abidjan           1 2000-02-01      27.685\n",
            "              Abidjan           2 2000-03-01      29.061\n",
            "              Abidjan           3 2000-04-01      28.162\n",
            "              Abidjan           4 2000-05-01      27.547\n",
            "...                           ...        ...         ...\n",
            "China         Xian          16495 2013-05-01      18.979\n",
            "              Xian          16496 2013-06-01      23.522\n",
            "              Xian          16497 2013-07-01      25.251\n",
            "              Xian          16498 2013-08-01      24.528\n",
            "              Xian          16499 2013-09-01         NaN\n",
            "\n",
            "[16500 rows x 3 columns]\n",
            "                    Unnamed: 0       date  avg_temp_c\n",
            "country     city                                     \n",
            "Afghanistan Kabul         7260 2000-01-01       3.326\n",
            "            Kabul         7261 2000-02-01       3.454\n",
            "            Kabul         7262 2000-03-01       9.612\n",
            "            Kabul         7263 2000-04-01      17.925\n",
            "            Kabul         7264 2000-05-01      24.658\n",
            "...                        ...        ...         ...\n",
            "Zimbabwe    Harare        5605 2013-05-01      18.298\n",
            "            Harare        5606 2013-06-01      17.020\n",
            "            Harare        5607 2013-07-01      16.299\n",
            "            Harare        5608 2013-08-01      19.232\n",
            "            Harare        5609 2013-09-01         NaN\n",
            "\n",
            "[16500 rows x 3 columns]\n"
          ]
        }
      ]
    },
    {
      "cell_type": "markdown",
      "source": [
        "# **Trancher et sous-ensemble avec .loc et .iloc**"
      ],
      "metadata": {
        "id": "Ab1MLDTDkf2v"
      }
    },
    {
      "cell_type": "code",
      "source": [
        "temperatures_srt = temperatures_ind.sort_index()\n",
        "print(temperatures_srt.loc[\"Pakistan\":\"Russia\"])\n",
        "print(temperatures_srt.loc[\"Lahore\":\"Moscow\"])\n",
        "print(temperatures_srt.loc[(\"Pakistan\", \"Lahore\"):(\"Russia\", \"Moscow\")])"
      ],
      "metadata": {
        "colab": {
          "base_uri": "https://localhost:8080/"
        },
        "id": "OK3Wyhuzkxe7",
        "outputId": "f1c08487-b272-4c63-cb6c-396f09b7688a"
      },
      "execution_count": null,
      "outputs": [
        {
          "output_type": "stream",
          "name": "stdout",
          "text": [
            "                           Unnamed: 0       date  avg_temp_c\n",
            "country  city                                               \n",
            "Pakistan Faisalabad              4785 2000-01-01      12.792\n",
            "         Faisalabad              4786 2000-02-01      14.339\n",
            "         Faisalabad              4787 2000-03-01      20.309\n",
            "         Faisalabad              4788 2000-04-01      29.072\n",
            "         Faisalabad              4789 2000-05-01      34.845\n",
            "...                               ...        ...         ...\n",
            "Russia   Saint Petersburg       13360 2013-05-01      12.355\n",
            "         Saint Petersburg       13361 2013-06-01      17.185\n",
            "         Saint Petersburg       13362 2013-07-01      17.234\n",
            "         Saint Petersburg       13363 2013-08-01      17.153\n",
            "         Saint Petersburg       13364 2013-09-01         NaN\n",
            "\n",
            "[1155 rows x 3 columns]\n",
            "                    Unnamed: 0       date  avg_temp_c\n",
            "country city                                         \n",
            "Mexico  Mexico           10230 2000-01-01      12.694\n",
            "        Mexico           10231 2000-02-01      14.677\n",
            "        Mexico           10232 2000-03-01      17.376\n",
            "        Mexico           10233 2000-04-01      18.294\n",
            "        Mexico           10234 2000-05-01      18.562\n",
            "...                        ...        ...         ...\n",
            "Morocco Casablanca        3130 2013-05-01      19.217\n",
            "        Casablanca        3131 2013-06-01      23.649\n",
            "        Casablanca        3132 2013-07-01      27.488\n",
            "        Casablanca        3133 2013-08-01      27.952\n",
            "        Casablanca        3134 2013-09-01         NaN\n",
            "\n",
            "[330 rows x 3 columns]\n",
            "                 Unnamed: 0       date  avg_temp_c\n",
            "country  city                                     \n",
            "Pakistan Lahore        8415 2000-01-01      12.792\n",
            "         Lahore        8416 2000-02-01      14.339\n",
            "         Lahore        8417 2000-03-01      20.309\n",
            "         Lahore        8418 2000-04-01      29.072\n",
            "         Lahore        8419 2000-05-01      34.845\n",
            "...                     ...        ...         ...\n",
            "Russia   Moscow       10885 2013-05-01      16.152\n",
            "         Moscow       10886 2013-06-01      18.718\n",
            "         Moscow       10887 2013-07-01      18.136\n",
            "         Moscow       10888 2013-08-01      17.485\n",
            "         Moscow       10889 2013-09-01         NaN\n",
            "\n",
            "[660 rows x 3 columns]\n"
          ]
        }
      ]
    },
    {
      "cell_type": "code",
      "source": [
        "print(temperatures_srt.loc[(\"India\", \"Hyderabad\"):(\"Iraq\", \"Baghdad\")])\n",
        "print(temperatures_srt.loc[:, \"date\":\"avg_temp_c\"])\n",
        "print(temperatures_srt.loc[(\"India\", \"Hyderabad\"):(\"Iraq\", \"Baghdad\"), \"date\":\"avg_temp_c\"])"
      ],
      "metadata": {
        "colab": {
          "base_uri": "https://localhost:8080/"
        },
        "id": "q-xmBUhAneRg",
        "outputId": "8c8da98b-3da1-4b6d-845d-97e6525b6fdb"
      },
      "execution_count": null,
      "outputs": [
        {
          "output_type": "stream",
          "name": "stdout",
          "text": [
            "                   Unnamed: 0       date  avg_temp_c\n",
            "country city                                        \n",
            "India   Hyderabad        5940 2000-01-01      23.779\n",
            "        Hyderabad        5941 2000-02-01      25.826\n",
            "        Hyderabad        5942 2000-03-01      28.821\n",
            "        Hyderabad        5943 2000-04-01      32.698\n",
            "        Hyderabad        5944 2000-05-01      32.438\n",
            "...                       ...        ...         ...\n",
            "Iraq    Baghdad          1150 2013-05-01      28.673\n",
            "        Baghdad          1151 2013-06-01      33.803\n",
            "        Baghdad          1152 2013-07-01      36.392\n",
            "        Baghdad          1153 2013-08-01      35.463\n",
            "        Baghdad          1154 2013-09-01         NaN\n",
            "\n",
            "[2145 rows x 3 columns]\n",
            "                         date  avg_temp_c\n",
            "country     city                         \n",
            "Afghanistan Kabul  2000-01-01       3.326\n",
            "            Kabul  2000-02-01       3.454\n",
            "            Kabul  2000-03-01       9.612\n",
            "            Kabul  2000-04-01      17.925\n",
            "            Kabul  2000-05-01      24.658\n",
            "...                       ...         ...\n",
            "Zimbabwe    Harare 2013-05-01      18.298\n",
            "            Harare 2013-06-01      17.020\n",
            "            Harare 2013-07-01      16.299\n",
            "            Harare 2013-08-01      19.232\n",
            "            Harare 2013-09-01         NaN\n",
            "\n",
            "[16500 rows x 2 columns]\n",
            "                        date  avg_temp_c\n",
            "country city                            \n",
            "India   Hyderabad 2000-01-01      23.779\n",
            "        Hyderabad 2000-02-01      25.826\n",
            "        Hyderabad 2000-03-01      28.821\n",
            "        Hyderabad 2000-04-01      32.698\n",
            "        Hyderabad 2000-05-01      32.438\n",
            "...                      ...         ...\n",
            "Iraq    Baghdad   2013-05-01      28.673\n",
            "        Baghdad   2013-06-01      33.803\n",
            "        Baghdad   2013-07-01      36.392\n",
            "        Baghdad   2013-08-01      35.463\n",
            "        Baghdad   2013-09-01         NaN\n",
            "\n",
            "[2145 rows x 2 columns]\n"
          ]
        }
      ]
    },
    {
      "cell_type": "markdown",
      "source": [
        "## **Découpage par dates**"
      ],
      "metadata": {
        "id": "v-e2aQoFoGar"
      }
    },
    {
      "cell_type": "code",
      "source": [
        "temperatures_bool = temperatures[(temperatures[\"date\"] >= \"2010-01-01\") & (temperatures[\"date\"] <= \"2011-12-31\")]\n",
        "print(temperatures_bool)\n"
      ],
      "metadata": {
        "colab": {
          "base_uri": "https://localhost:8080/"
        },
        "id": "skxrAPqWn4ss",
        "outputId": "118c67aa-b475-4256-c79c-6209db52e642"
      },
      "execution_count": null,
      "outputs": [
        {
          "output_type": "stream",
          "name": "stdout",
          "text": [
            "       Unnamed: 0       date     city        country  avg_temp_c\n",
            "120           120 2010-01-01  Abidjan  Côte D'Ivoire      28.270\n",
            "121           121 2010-02-01  Abidjan  Côte D'Ivoire      29.262\n",
            "122           122 2010-03-01  Abidjan  Côte D'Ivoire      29.596\n",
            "123           123 2010-04-01  Abidjan  Côte D'Ivoire      29.068\n",
            "124           124 2010-05-01  Abidjan  Côte D'Ivoire      28.258\n",
            "...           ...        ...      ...            ...         ...\n",
            "16474       16474 2011-08-01     Xian          China      23.069\n",
            "16475       16475 2011-09-01     Xian          China      16.775\n",
            "16476       16476 2011-10-01     Xian          China      12.587\n",
            "16477       16477 2011-11-01     Xian          China       7.543\n",
            "16478       16478 2011-12-01     Xian          China      -0.490\n",
            "\n",
            "[2400 rows x 5 columns]\n"
          ]
        }
      ]
    },
    {
      "cell_type": "code",
      "source": [
        "temperatures_ind = temperatures.set_index(\"date\").sort_index()\n",
        "print(temperatures_ind.loc[\"2010\":\"2011\"])\n",
        "print(temperatures_ind.loc[\"2010-08\":\"2011-02\"])"
      ],
      "metadata": {
        "colab": {
          "base_uri": "https://localhost:8080/"
        },
        "id": "xaiTMhaYoROQ",
        "outputId": "9ee3eead-b064-4f79-817b-9fde9d6d7730"
      },
      "execution_count": null,
      "outputs": [
        {
          "output_type": "stream",
          "name": "stdout",
          "text": [
            "            Unnamed: 0        city    country  avg_temp_c\n",
            "date                                                     \n",
            "2010-01-01        4905  Faisalabad   Pakistan      11.810\n",
            "2010-01-01       10185   Melbourne  Australia      20.016\n",
            "2010-01-01        3750   Chongqing      China       7.921\n",
            "2010-01-01       13155   São Paulo     Brazil      23.738\n",
            "2010-01-01        5400   Guangzhou      China      14.136\n",
            "...                ...         ...        ...         ...\n",
            "2011-12-01       11033      Nagoya      Japan       6.476\n",
            "2011-12-01        6083   Hyderabad      India      23.613\n",
            "2011-12-01        2783        Cali   Colombia      21.559\n",
            "2011-12-01        8888        Lima       Peru      18.293\n",
            "2011-12-01        1463     Bangkok   Thailand      25.021\n",
            "\n",
            "[2400 rows x 4 columns]\n",
            "            Unnamed: 0      city        country  avg_temp_c\n",
            "date                                                       \n",
            "2010-08-01        2602  Calcutta          India      30.226\n",
            "2010-08-01       12337      Pune          India      24.941\n",
            "2010-08-01        6562     Izmir         Turkey      28.352\n",
            "2010-08-01       15637   Tianjin          China      25.543\n",
            "2010-08-01        9862    Manila    Philippines      27.101\n",
            "...                ...       ...            ...         ...\n",
            "2011-02-01        7393     Kabul    Afghanistan       3.914\n",
            "2011-02-01        3598   Chicago  United States       0.276\n",
            "2011-02-01         628    Aleppo          Syria       8.246\n",
            "2011-02-01        4423     Delhi          India      18.136\n",
            "2011-02-01       12508   Rangoon          Burma      26.631\n",
            "\n",
            "[700 rows x 4 columns]\n"
          ]
        }
      ]
    },
    {
      "cell_type": "markdown",
      "source": [
        "## **Sous-ensemble par numéro de ligne/colonne**"
      ],
      "metadata": {
        "id": "MrETgdvEowIC"
      }
    },
    {
      "cell_type": "code",
      "source": [
        "print(temperatures.iloc[22, 1])\n",
        "print(temperatures.iloc[:5])\n",
        "print(temperatures.iloc[:, 2:4])\n",
        "print(temperatures.iloc[:5, 2:4])"
      ],
      "metadata": {
        "colab": {
          "base_uri": "https://localhost:8080/"
        },
        "id": "q3n4KXQaoqkb",
        "outputId": "6e6b3455-9168-48af-e142-04e1faab005e"
      },
      "execution_count": null,
      "outputs": [
        {
          "output_type": "stream",
          "name": "stdout",
          "text": [
            "2001-11-01 00:00:00\n",
            "   Unnamed: 0       date     city        country  avg_temp_c\n",
            "0           0 2000-01-01  Abidjan  Côte D'Ivoire      27.293\n",
            "1           1 2000-02-01  Abidjan  Côte D'Ivoire      27.685\n",
            "2           2 2000-03-01  Abidjan  Côte D'Ivoire      29.061\n",
            "3           3 2000-04-01  Abidjan  Côte D'Ivoire      28.162\n",
            "4           4 2000-05-01  Abidjan  Côte D'Ivoire      27.547\n",
            "          city        country\n",
            "0      Abidjan  Côte D'Ivoire\n",
            "1      Abidjan  Côte D'Ivoire\n",
            "2      Abidjan  Côte D'Ivoire\n",
            "3      Abidjan  Côte D'Ivoire\n",
            "4      Abidjan  Côte D'Ivoire\n",
            "...        ...            ...\n",
            "16495     Xian          China\n",
            "16496     Xian          China\n",
            "16497     Xian          China\n",
            "16498     Xian          China\n",
            "16499     Xian          China\n",
            "\n",
            "[16500 rows x 2 columns]\n",
            "      city        country\n",
            "0  Abidjan  Côte D'Ivoire\n",
            "1  Abidjan  Côte D'Ivoire\n",
            "2  Abidjan  Côte D'Ivoire\n",
            "3  Abidjan  Côte D'Ivoire\n",
            "4  Abidjan  Côte D'Ivoire\n"
          ]
        }
      ]
    },
    {
      "cell_type": "code",
      "source": [
        "temperatures.info()"
      ],
      "metadata": {
        "colab": {
          "base_uri": "https://localhost:8080/"
        },
        "id": "VNNVjtUOqQrr",
        "outputId": "ff654218-cfce-401f-fe52-01b37c21f219"
      },
      "execution_count": null,
      "outputs": [
        {
          "output_type": "stream",
          "name": "stdout",
          "text": [
            "<class 'pandas.core.frame.DataFrame'>\n",
            "RangeIndex: 16500 entries, 0 to 16499\n",
            "Data columns (total 5 columns):\n",
            " #   Column      Non-Null Count  Dtype         \n",
            "---  ------      --------------  -----         \n",
            " 0   Unnamed: 0  16500 non-null  int64         \n",
            " 1   date        16500 non-null  datetime64[ns]\n",
            " 2   city        16500 non-null  object        \n",
            " 3   country     16500 non-null  object        \n",
            " 4   avg_temp_c  16407 non-null  float64       \n",
            "dtypes: datetime64[ns](1), float64(1), int64(1), object(2)\n",
            "memory usage: 644.7+ KB\n"
          ]
        }
      ]
    },
    {
      "cell_type": "code",
      "source": [
        "temperatures[\"year\"] = temperatures[\"date\"].dt.year\n",
        "temp_by_country_city_vs_year = temperatures.pivot_table(\"avg_temp_c\", index = [\"country\", \"city\"], columns = \"year\")\n",
        "print(temp_by_country_city_vs_year)"
      ],
      "metadata": {
        "colab": {
          "base_uri": "https://localhost:8080/"
        },
        "id": "8QpuFoNzpK3W",
        "outputId": "a68ac00f-9191-4c03-efc4-201eee7b1d75"
      },
      "execution_count": null,
      "outputs": [
        {
          "output_type": "stream",
          "name": "stdout",
          "text": [
            "year                                 2000       2001       2002       2003  \\\n",
            "country       city                                                           \n",
            "Afghanistan   Kabul             15.822667  15.847917  15.714583  15.132583   \n",
            "Angola        Luanda            24.410333  24.427083  24.790917  24.867167   \n",
            "Australia     Melbourne         14.320083  14.180000  14.075833  13.985583   \n",
            "              Sydney            17.567417  17.854500  17.733833  17.592333   \n",
            "Bangladesh    Dhaka             25.905250  25.931250  26.095000  25.927417   \n",
            "...                                   ...        ...        ...        ...   \n",
            "United States Chicago           11.089667  11.703083  11.532083  10.481583   \n",
            "              Los Angeles       16.643333  16.466250  16.430250  16.944667   \n",
            "              New York           9.969083  10.931000  11.252167   9.836000   \n",
            "Vietnam       Ho Chi Minh City  27.588917  27.831750  28.064750  27.827667   \n",
            "Zimbabwe      Harare            20.283667  20.861000  21.079333  20.889167   \n",
            "\n",
            "year                                 2004       2005       2006       2007  \\\n",
            "country       city                                                           \n",
            "Afghanistan   Kabul             16.128417  14.847500  15.798500  15.518000   \n",
            "Angola        Luanda            24.216167  24.414583  24.138417  24.241583   \n",
            "Australia     Melbourne         13.742083  14.378500  13.991083  14.991833   \n",
            "              Sydney            17.869667  18.028083  17.749500  18.020833   \n",
            "Bangladesh    Dhaka             26.136083  26.193333  26.440417  25.951333   \n",
            "...                                   ...        ...        ...        ...   \n",
            "United States Chicago           10.943417  11.583833  11.870500  11.448333   \n",
            "              Los Angeles       16.552833  16.431417  16.623083  16.699917   \n",
            "              New York          10.389500  10.681417  11.519250  10.627333   \n",
            "Vietnam       Ho Chi Minh City  27.686583  27.884000  28.044000  27.866667   \n",
            "Zimbabwe      Harare            20.307667  21.487417  20.699750  20.746250   \n",
            "\n",
            "year                                 2008       2009       2010       2011  \\\n",
            "country       city                                                           \n",
            "Afghanistan   Kabul             15.479250  15.093333  15.676000  15.812167   \n",
            "Angola        Luanda            24.266333  24.325083  24.440250  24.150750   \n",
            "Australia     Melbourne         14.110583  14.647417  14.231667  14.190917   \n",
            "              Sydney            17.321083  18.175833  17.999000  17.713333   \n",
            "Bangladesh    Dhaka             26.004500  26.535583  26.648167  25.803250   \n",
            "...                                   ...        ...        ...        ...   \n",
            "United States Chicago           10.242417  10.298333  11.815917  11.214250   \n",
            "              Los Angeles       17.014750  16.677000  15.887000  15.874833   \n",
            "              New York          10.641667  10.141833  11.357583  11.272250   \n",
            "Vietnam       Ho Chi Minh City  27.611417  27.853333  28.281750  27.675417   \n",
            "Zimbabwe      Harare            20.680500  20.523833  21.165833  20.781750   \n",
            "\n",
            "year                                 2012       2013  \n",
            "country       city                                    \n",
            "Afghanistan   Kabul             14.510333  16.206125  \n",
            "Angola        Luanda            24.240083  24.553875  \n",
            "Australia     Melbourne         14.268667  14.741500  \n",
            "              Sydney            17.474333  18.089750  \n",
            "Bangladesh    Dhaka             26.283583  26.587000  \n",
            "...                                   ...        ...  \n",
            "United States Chicago           12.821250  11.586889  \n",
            "              Los Angeles       17.089583  18.120667  \n",
            "              New York          11.971500  12.163889  \n",
            "Vietnam       Ho Chi Minh City  28.248750  28.455000  \n",
            "Zimbabwe      Harare            20.523333  19.756500  \n",
            "\n",
            "[100 rows x 14 columns]\n"
          ]
        }
      ]
    },
    {
      "cell_type": "code",
      "source": [
        "temp_by_country_city_vs_year.loc[\"Egypt\":\"India\"]\n",
        "temp_by_country_city_vs_year.loc[(\"Egypt\", \"Cairo\"):(\"India\", \"Delhi\")]\n",
        "temp_by_country_city_vs_year.loc[(\"Egypt\", \"Cairo\"):(\"India\", \"Delhi\"), \"2005\":\"2010\"]"
      ],
      "metadata": {
        "colab": {
          "base_uri": "https://localhost:8080/",
          "height": 394
        },
        "id": "pjib09corFIV",
        "outputId": "1a69deb7-0c2f-478b-d0ac-89d0c7bbb60c"
      },
      "execution_count": null,
      "outputs": [
        {
          "output_type": "execute_result",
          "data": {
            "text/plain": [
              "year                       2005       2006       2007       2008       2009  \\\n",
              "country  city                                                                 \n",
              "Egypt    Cairo        22.006500  22.050000  22.361000  22.644500  22.625000   \n",
              "         Gizeh        22.006500  22.050000  22.361000  22.644500  22.625000   \n",
              "Ethiopia Addis Abeba  18.312833  18.427083  18.142583  18.165000  18.765333   \n",
              "France   Paris        11.552917  11.788500  11.750833  11.278250  11.464083   \n",
              "Germany  Berlin        9.919083  10.545333  10.883167  10.657750  10.062500   \n",
              "India    Ahmadabad    26.828083  27.282833  27.511167  27.048500  28.095833   \n",
              "         Bangalore    25.476500  25.418250  25.464333  25.352583  25.725750   \n",
              "         Bombay       27.035750  27.381500  27.634667  27.177750  27.844500   \n",
              "         Calcutta     26.729167  26.986250  26.584583  26.522333  27.153250   \n",
              "         Delhi        25.716083  26.365917  26.145667  25.675000  26.554250   \n",
              "\n",
              "year                       2010  \n",
              "country  city                    \n",
              "Egypt    Cairo        23.718250  \n",
              "         Gizeh        23.718250  \n",
              "Ethiopia Addis Abeba  18.298250  \n",
              "France   Paris        10.409833  \n",
              "Germany  Berlin        8.606833  \n",
              "India    Ahmadabad    28.017833  \n",
              "         Bangalore    25.705250  \n",
              "         Bombay       27.765417  \n",
              "         Calcutta     27.288833  \n",
              "         Delhi        26.520250  "
            ],
            "text/html": [
              "\n",
              "  <div id=\"df-16ea7ac4-89a6-4e86-9a8d-ab14a14f0036\" class=\"colab-df-container\">\n",
              "    <div>\n",
              "<style scoped>\n",
              "    .dataframe tbody tr th:only-of-type {\n",
              "        vertical-align: middle;\n",
              "    }\n",
              "\n",
              "    .dataframe tbody tr th {\n",
              "        vertical-align: top;\n",
              "    }\n",
              "\n",
              "    .dataframe thead th {\n",
              "        text-align: right;\n",
              "    }\n",
              "</style>\n",
              "<table border=\"1\" class=\"dataframe\">\n",
              "  <thead>\n",
              "    <tr style=\"text-align: right;\">\n",
              "      <th></th>\n",
              "      <th>year</th>\n",
              "      <th>2005</th>\n",
              "      <th>2006</th>\n",
              "      <th>2007</th>\n",
              "      <th>2008</th>\n",
              "      <th>2009</th>\n",
              "      <th>2010</th>\n",
              "    </tr>\n",
              "    <tr>\n",
              "      <th>country</th>\n",
              "      <th>city</th>\n",
              "      <th></th>\n",
              "      <th></th>\n",
              "      <th></th>\n",
              "      <th></th>\n",
              "      <th></th>\n",
              "      <th></th>\n",
              "    </tr>\n",
              "  </thead>\n",
              "  <tbody>\n",
              "    <tr>\n",
              "      <th rowspan=\"2\" valign=\"top\">Egypt</th>\n",
              "      <th>Cairo</th>\n",
              "      <td>22.006500</td>\n",
              "      <td>22.050000</td>\n",
              "      <td>22.361000</td>\n",
              "      <td>22.644500</td>\n",
              "      <td>22.625000</td>\n",
              "      <td>23.718250</td>\n",
              "    </tr>\n",
              "    <tr>\n",
              "      <th>Gizeh</th>\n",
              "      <td>22.006500</td>\n",
              "      <td>22.050000</td>\n",
              "      <td>22.361000</td>\n",
              "      <td>22.644500</td>\n",
              "      <td>22.625000</td>\n",
              "      <td>23.718250</td>\n",
              "    </tr>\n",
              "    <tr>\n",
              "      <th>Ethiopia</th>\n",
              "      <th>Addis Abeba</th>\n",
              "      <td>18.312833</td>\n",
              "      <td>18.427083</td>\n",
              "      <td>18.142583</td>\n",
              "      <td>18.165000</td>\n",
              "      <td>18.765333</td>\n",
              "      <td>18.298250</td>\n",
              "    </tr>\n",
              "    <tr>\n",
              "      <th>France</th>\n",
              "      <th>Paris</th>\n",
              "      <td>11.552917</td>\n",
              "      <td>11.788500</td>\n",
              "      <td>11.750833</td>\n",
              "      <td>11.278250</td>\n",
              "      <td>11.464083</td>\n",
              "      <td>10.409833</td>\n",
              "    </tr>\n",
              "    <tr>\n",
              "      <th>Germany</th>\n",
              "      <th>Berlin</th>\n",
              "      <td>9.919083</td>\n",
              "      <td>10.545333</td>\n",
              "      <td>10.883167</td>\n",
              "      <td>10.657750</td>\n",
              "      <td>10.062500</td>\n",
              "      <td>8.606833</td>\n",
              "    </tr>\n",
              "    <tr>\n",
              "      <th rowspan=\"5\" valign=\"top\">India</th>\n",
              "      <th>Ahmadabad</th>\n",
              "      <td>26.828083</td>\n",
              "      <td>27.282833</td>\n",
              "      <td>27.511167</td>\n",
              "      <td>27.048500</td>\n",
              "      <td>28.095833</td>\n",
              "      <td>28.017833</td>\n",
              "    </tr>\n",
              "    <tr>\n",
              "      <th>Bangalore</th>\n",
              "      <td>25.476500</td>\n",
              "      <td>25.418250</td>\n",
              "      <td>25.464333</td>\n",
              "      <td>25.352583</td>\n",
              "      <td>25.725750</td>\n",
              "      <td>25.705250</td>\n",
              "    </tr>\n",
              "    <tr>\n",
              "      <th>Bombay</th>\n",
              "      <td>27.035750</td>\n",
              "      <td>27.381500</td>\n",
              "      <td>27.634667</td>\n",
              "      <td>27.177750</td>\n",
              "      <td>27.844500</td>\n",
              "      <td>27.765417</td>\n",
              "    </tr>\n",
              "    <tr>\n",
              "      <th>Calcutta</th>\n",
              "      <td>26.729167</td>\n",
              "      <td>26.986250</td>\n",
              "      <td>26.584583</td>\n",
              "      <td>26.522333</td>\n",
              "      <td>27.153250</td>\n",
              "      <td>27.288833</td>\n",
              "    </tr>\n",
              "    <tr>\n",
              "      <th>Delhi</th>\n",
              "      <td>25.716083</td>\n",
              "      <td>26.365917</td>\n",
              "      <td>26.145667</td>\n",
              "      <td>25.675000</td>\n",
              "      <td>26.554250</td>\n",
              "      <td>26.520250</td>\n",
              "    </tr>\n",
              "  </tbody>\n",
              "</table>\n",
              "</div>\n",
              "    <div class=\"colab-df-buttons\">\n",
              "\n",
              "  <div class=\"colab-df-container\">\n",
              "    <button class=\"colab-df-convert\" onclick=\"convertToInteractive('df-16ea7ac4-89a6-4e86-9a8d-ab14a14f0036')\"\n",
              "            title=\"Convert this dataframe to an interactive table.\"\n",
              "            style=\"display:none;\">\n",
              "\n",
              "  <svg xmlns=\"http://www.w3.org/2000/svg\" height=\"24px\" viewBox=\"0 -960 960 960\">\n",
              "    <path d=\"M120-120v-720h720v720H120Zm60-500h600v-160H180v160Zm220 220h160v-160H400v160Zm0 220h160v-160H400v160ZM180-400h160v-160H180v160Zm440 0h160v-160H620v160ZM180-180h160v-160H180v160Zm440 0h160v-160H620v160Z\"/>\n",
              "  </svg>\n",
              "    </button>\n",
              "\n",
              "  <style>\n",
              "    .colab-df-container {\n",
              "      display:flex;\n",
              "      gap: 12px;\n",
              "    }\n",
              "\n",
              "    .colab-df-convert {\n",
              "      background-color: #E8F0FE;\n",
              "      border: none;\n",
              "      border-radius: 50%;\n",
              "      cursor: pointer;\n",
              "      display: none;\n",
              "      fill: #1967D2;\n",
              "      height: 32px;\n",
              "      padding: 0 0 0 0;\n",
              "      width: 32px;\n",
              "    }\n",
              "\n",
              "    .colab-df-convert:hover {\n",
              "      background-color: #E2EBFA;\n",
              "      box-shadow: 0px 1px 2px rgba(60, 64, 67, 0.3), 0px 1px 3px 1px rgba(60, 64, 67, 0.15);\n",
              "      fill: #174EA6;\n",
              "    }\n",
              "\n",
              "    .colab-df-buttons div {\n",
              "      margin-bottom: 4px;\n",
              "    }\n",
              "\n",
              "    [theme=dark] .colab-df-convert {\n",
              "      background-color: #3B4455;\n",
              "      fill: #D2E3FC;\n",
              "    }\n",
              "\n",
              "    [theme=dark] .colab-df-convert:hover {\n",
              "      background-color: #434B5C;\n",
              "      box-shadow: 0px 1px 3px 1px rgba(0, 0, 0, 0.15);\n",
              "      filter: drop-shadow(0px 1px 2px rgba(0, 0, 0, 0.3));\n",
              "      fill: #FFFFFF;\n",
              "    }\n",
              "  </style>\n",
              "\n",
              "    <script>\n",
              "      const buttonEl =\n",
              "        document.querySelector('#df-16ea7ac4-89a6-4e86-9a8d-ab14a14f0036 button.colab-df-convert');\n",
              "      buttonEl.style.display =\n",
              "        google.colab.kernel.accessAllowed ? 'block' : 'none';\n",
              "\n",
              "      async function convertToInteractive(key) {\n",
              "        const element = document.querySelector('#df-16ea7ac4-89a6-4e86-9a8d-ab14a14f0036');\n",
              "        const dataTable =\n",
              "          await google.colab.kernel.invokeFunction('convertToInteractive',\n",
              "                                                    [key], {});\n",
              "        if (!dataTable) return;\n",
              "\n",
              "        const docLinkHtml = 'Like what you see? Visit the ' +\n",
              "          '<a target=\"_blank\" href=https://colab.research.google.com/notebooks/data_table.ipynb>data table notebook</a>'\n",
              "          + ' to learn more about interactive tables.';\n",
              "        element.innerHTML = '';\n",
              "        dataTable['output_type'] = 'display_data';\n",
              "        await google.colab.output.renderOutput(dataTable, element);\n",
              "        const docLink = document.createElement('div');\n",
              "        docLink.innerHTML = docLinkHtml;\n",
              "        element.appendChild(docLink);\n",
              "      }\n",
              "    </script>\n",
              "  </div>\n",
              "\n",
              "\n",
              "<div id=\"df-7f2cfe68-16d5-45e6-9897-3cfadabafa84\">\n",
              "  <button class=\"colab-df-quickchart\" onclick=\"quickchart('df-7f2cfe68-16d5-45e6-9897-3cfadabafa84')\"\n",
              "            title=\"Suggest charts\"\n",
              "            style=\"display:none;\">\n",
              "\n",
              "<svg xmlns=\"http://www.w3.org/2000/svg\" height=\"24px\"viewBox=\"0 0 24 24\"\n",
              "     width=\"24px\">\n",
              "    <g>\n",
              "        <path d=\"M19 3H5c-1.1 0-2 .9-2 2v14c0 1.1.9 2 2 2h14c1.1 0 2-.9 2-2V5c0-1.1-.9-2-2-2zM9 17H7v-7h2v7zm4 0h-2V7h2v10zm4 0h-2v-4h2v4z\"/>\n",
              "    </g>\n",
              "</svg>\n",
              "  </button>\n",
              "\n",
              "<style>\n",
              "  .colab-df-quickchart {\n",
              "      --bg-color: #E8F0FE;\n",
              "      --fill-color: #1967D2;\n",
              "      --hover-bg-color: #E2EBFA;\n",
              "      --hover-fill-color: #174EA6;\n",
              "      --disabled-fill-color: #AAA;\n",
              "      --disabled-bg-color: #DDD;\n",
              "  }\n",
              "\n",
              "  [theme=dark] .colab-df-quickchart {\n",
              "      --bg-color: #3B4455;\n",
              "      --fill-color: #D2E3FC;\n",
              "      --hover-bg-color: #434B5C;\n",
              "      --hover-fill-color: #FFFFFF;\n",
              "      --disabled-bg-color: #3B4455;\n",
              "      --disabled-fill-color: #666;\n",
              "  }\n",
              "\n",
              "  .colab-df-quickchart {\n",
              "    background-color: var(--bg-color);\n",
              "    border: none;\n",
              "    border-radius: 50%;\n",
              "    cursor: pointer;\n",
              "    display: none;\n",
              "    fill: var(--fill-color);\n",
              "    height: 32px;\n",
              "    padding: 0;\n",
              "    width: 32px;\n",
              "  }\n",
              "\n",
              "  .colab-df-quickchart:hover {\n",
              "    background-color: var(--hover-bg-color);\n",
              "    box-shadow: 0 1px 2px rgba(60, 64, 67, 0.3), 0 1px 3px 1px rgba(60, 64, 67, 0.15);\n",
              "    fill: var(--button-hover-fill-color);\n",
              "  }\n",
              "\n",
              "  .colab-df-quickchart-complete:disabled,\n",
              "  .colab-df-quickchart-complete:disabled:hover {\n",
              "    background-color: var(--disabled-bg-color);\n",
              "    fill: var(--disabled-fill-color);\n",
              "    box-shadow: none;\n",
              "  }\n",
              "\n",
              "  .colab-df-spinner {\n",
              "    border: 2px solid var(--fill-color);\n",
              "    border-color: transparent;\n",
              "    border-bottom-color: var(--fill-color);\n",
              "    animation:\n",
              "      spin 1s steps(1) infinite;\n",
              "  }\n",
              "\n",
              "  @keyframes spin {\n",
              "    0% {\n",
              "      border-color: transparent;\n",
              "      border-bottom-color: var(--fill-color);\n",
              "      border-left-color: var(--fill-color);\n",
              "    }\n",
              "    20% {\n",
              "      border-color: transparent;\n",
              "      border-left-color: var(--fill-color);\n",
              "      border-top-color: var(--fill-color);\n",
              "    }\n",
              "    30% {\n",
              "      border-color: transparent;\n",
              "      border-left-color: var(--fill-color);\n",
              "      border-top-color: var(--fill-color);\n",
              "      border-right-color: var(--fill-color);\n",
              "    }\n",
              "    40% {\n",
              "      border-color: transparent;\n",
              "      border-right-color: var(--fill-color);\n",
              "      border-top-color: var(--fill-color);\n",
              "    }\n",
              "    60% {\n",
              "      border-color: transparent;\n",
              "      border-right-color: var(--fill-color);\n",
              "    }\n",
              "    80% {\n",
              "      border-color: transparent;\n",
              "      border-right-color: var(--fill-color);\n",
              "      border-bottom-color: var(--fill-color);\n",
              "    }\n",
              "    90% {\n",
              "      border-color: transparent;\n",
              "      border-bottom-color: var(--fill-color);\n",
              "    }\n",
              "  }\n",
              "</style>\n",
              "\n",
              "  <script>\n",
              "    async function quickchart(key) {\n",
              "      const quickchartButtonEl =\n",
              "        document.querySelector('#' + key + ' button');\n",
              "      quickchartButtonEl.disabled = true;  // To prevent multiple clicks.\n",
              "      quickchartButtonEl.classList.add('colab-df-spinner');\n",
              "      try {\n",
              "        const charts = await google.colab.kernel.invokeFunction(\n",
              "            'suggestCharts', [key], {});\n",
              "      } catch (error) {\n",
              "        console.error('Error during call to suggestCharts:', error);\n",
              "      }\n",
              "      quickchartButtonEl.classList.remove('colab-df-spinner');\n",
              "      quickchartButtonEl.classList.add('colab-df-quickchart-complete');\n",
              "    }\n",
              "    (() => {\n",
              "      let quickchartButtonEl =\n",
              "        document.querySelector('#df-7f2cfe68-16d5-45e6-9897-3cfadabafa84 button');\n",
              "      quickchartButtonEl.style.display =\n",
              "        google.colab.kernel.accessAllowed ? 'block' : 'none';\n",
              "    })();\n",
              "  </script>\n",
              "</div>\n",
              "    </div>\n",
              "  </div>\n"
            ]
          },
          "metadata": {},
          "execution_count": 41
        }
      ]
    },
    {
      "cell_type": "code",
      "source": [
        "mean_temp_by_year = temp_by_country_city_vs_year.mean()\n",
        "print(mean_temp_by_year[mean_temp_by_year == mean_temp_by_year.max()])\n",
        "mean_temp_by_city = temp_by_country_city_vs_year.mean(axis=\"columns\")\n",
        "print(mean_temp_by_city[mean_temp_by_city == mean_temp_by_city.min()])"
      ],
      "metadata": {
        "colab": {
          "base_uri": "https://localhost:8080/"
        },
        "id": "_iqVGWfQrUks",
        "outputId": "93d90224-a713-479a-fe7e-bea1c3a494a2"
      },
      "execution_count": null,
      "outputs": [
        {
          "output_type": "stream",
          "name": "stdout",
          "text": [
            "year\n",
            "2013    20.312285\n",
            "dtype: float64\n",
            "country  city  \n",
            "China    Harbin    4.876551\n",
            "dtype: float64\n"
          ]
        }
      ]
    }
  ]
}