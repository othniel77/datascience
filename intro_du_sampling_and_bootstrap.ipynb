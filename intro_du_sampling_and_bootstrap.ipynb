{
  "nbformat": 4,
  "nbformat_minor": 0,
  "metadata": {
    "colab": {
      "provenance": [],
      "authorship_tag": "ABX9TyOkvmFs86ZV/hjXPWN6he83",
      "include_colab_link": true
    },
    "kernelspec": {
      "name": "python3",
      "display_name": "Python 3"
    },
    "language_info": {
      "name": "python"
    }
  },
  "cells": [
    {
      "cell_type": "markdown",
      "metadata": {
        "id": "view-in-github",
        "colab_type": "text"
      },
      "source": [
        "<a href=\"https://colab.research.google.com/github/othniel77/datascience/blob/main/intro_du_sampling_and_bootstrap.ipynb\" target=\"_parent\"><img src=\"https://colab.research.google.com/assets/colab-badge.svg\" alt=\"Open In Colab\"/></a>"
      ]
    },
    {
      "cell_type": "code",
      "execution_count": null,
      "metadata": {
        "id": "pAKq1J3PczI7"
      },
      "outputs": [],
      "source": [
        "import pandas as pd"
      ]
    },
    {
      "cell_type": "code",
      "source": [
        "from google.colab import files\n",
        "data_to_load = files.upload()"
      ],
      "metadata": {
        "colab": {
          "base_uri": "https://localhost:8080/",
          "height": 73
        },
        "id": "7-ACtCnLc7Bo",
        "outputId": "fa5ac5b1-ddb2-45cd-fa75-07caa76a6a32"
      },
      "execution_count": null,
      "outputs": [
        {
          "output_type": "display_data",
          "data": {
            "text/plain": [
              "<IPython.core.display.HTML object>"
            ],
            "text/html": [
              "\n",
              "     <input type=\"file\" id=\"files-998c03b2-a512-404a-8baa-074dec4bd1f5\" name=\"files[]\" multiple disabled\n",
              "        style=\"border:none\" />\n",
              "     <output id=\"result-998c03b2-a512-404a-8baa-074dec4bd1f5\">\n",
              "      Upload widget is only available when the cell has been executed in the\n",
              "      current browser session. Please rerun this cell to enable.\n",
              "      </output>\n",
              "      <script>// Copyright 2017 Google LLC\n",
              "//\n",
              "// Licensed under the Apache License, Version 2.0 (the \"License\");\n",
              "// you may not use this file except in compliance with the License.\n",
              "// You may obtain a copy of the License at\n",
              "//\n",
              "//      http://www.apache.org/licenses/LICENSE-2.0\n",
              "//\n",
              "// Unless required by applicable law or agreed to in writing, software\n",
              "// distributed under the License is distributed on an \"AS IS\" BASIS,\n",
              "// WITHOUT WARRANTIES OR CONDITIONS OF ANY KIND, either express or implied.\n",
              "// See the License for the specific language governing permissions and\n",
              "// limitations under the License.\n",
              "\n",
              "/**\n",
              " * @fileoverview Helpers for google.colab Python module.\n",
              " */\n",
              "(function(scope) {\n",
              "function span(text, styleAttributes = {}) {\n",
              "  const element = document.createElement('span');\n",
              "  element.textContent = text;\n",
              "  for (const key of Object.keys(styleAttributes)) {\n",
              "    element.style[key] = styleAttributes[key];\n",
              "  }\n",
              "  return element;\n",
              "}\n",
              "\n",
              "// Max number of bytes which will be uploaded at a time.\n",
              "const MAX_PAYLOAD_SIZE = 100 * 1024;\n",
              "\n",
              "function _uploadFiles(inputId, outputId) {\n",
              "  const steps = uploadFilesStep(inputId, outputId);\n",
              "  const outputElement = document.getElementById(outputId);\n",
              "  // Cache steps on the outputElement to make it available for the next call\n",
              "  // to uploadFilesContinue from Python.\n",
              "  outputElement.steps = steps;\n",
              "\n",
              "  return _uploadFilesContinue(outputId);\n",
              "}\n",
              "\n",
              "// This is roughly an async generator (not supported in the browser yet),\n",
              "// where there are multiple asynchronous steps and the Python side is going\n",
              "// to poll for completion of each step.\n",
              "// This uses a Promise to block the python side on completion of each step,\n",
              "// then passes the result of the previous step as the input to the next step.\n",
              "function _uploadFilesContinue(outputId) {\n",
              "  const outputElement = document.getElementById(outputId);\n",
              "  const steps = outputElement.steps;\n",
              "\n",
              "  const next = steps.next(outputElement.lastPromiseValue);\n",
              "  return Promise.resolve(next.value.promise).then((value) => {\n",
              "    // Cache the last promise value to make it available to the next\n",
              "    // step of the generator.\n",
              "    outputElement.lastPromiseValue = value;\n",
              "    return next.value.response;\n",
              "  });\n",
              "}\n",
              "\n",
              "/**\n",
              " * Generator function which is called between each async step of the upload\n",
              " * process.\n",
              " * @param {string} inputId Element ID of the input file picker element.\n",
              " * @param {string} outputId Element ID of the output display.\n",
              " * @return {!Iterable<!Object>} Iterable of next steps.\n",
              " */\n",
              "function* uploadFilesStep(inputId, outputId) {\n",
              "  const inputElement = document.getElementById(inputId);\n",
              "  inputElement.disabled = false;\n",
              "\n",
              "  const outputElement = document.getElementById(outputId);\n",
              "  outputElement.innerHTML = '';\n",
              "\n",
              "  const pickedPromise = new Promise((resolve) => {\n",
              "    inputElement.addEventListener('change', (e) => {\n",
              "      resolve(e.target.files);\n",
              "    });\n",
              "  });\n",
              "\n",
              "  const cancel = document.createElement('button');\n",
              "  inputElement.parentElement.appendChild(cancel);\n",
              "  cancel.textContent = 'Cancel upload';\n",
              "  const cancelPromise = new Promise((resolve) => {\n",
              "    cancel.onclick = () => {\n",
              "      resolve(null);\n",
              "    };\n",
              "  });\n",
              "\n",
              "  // Wait for the user to pick the files.\n",
              "  const files = yield {\n",
              "    promise: Promise.race([pickedPromise, cancelPromise]),\n",
              "    response: {\n",
              "      action: 'starting',\n",
              "    }\n",
              "  };\n",
              "\n",
              "  cancel.remove();\n",
              "\n",
              "  // Disable the input element since further picks are not allowed.\n",
              "  inputElement.disabled = true;\n",
              "\n",
              "  if (!files) {\n",
              "    return {\n",
              "      response: {\n",
              "        action: 'complete',\n",
              "      }\n",
              "    };\n",
              "  }\n",
              "\n",
              "  for (const file of files) {\n",
              "    const li = document.createElement('li');\n",
              "    li.append(span(file.name, {fontWeight: 'bold'}));\n",
              "    li.append(span(\n",
              "        `(${file.type || 'n/a'}) - ${file.size} bytes, ` +\n",
              "        `last modified: ${\n",
              "            file.lastModifiedDate ? file.lastModifiedDate.toLocaleDateString() :\n",
              "                                    'n/a'} - `));\n",
              "    const percent = span('0% done');\n",
              "    li.appendChild(percent);\n",
              "\n",
              "    outputElement.appendChild(li);\n",
              "\n",
              "    const fileDataPromise = new Promise((resolve) => {\n",
              "      const reader = new FileReader();\n",
              "      reader.onload = (e) => {\n",
              "        resolve(e.target.result);\n",
              "      };\n",
              "      reader.readAsArrayBuffer(file);\n",
              "    });\n",
              "    // Wait for the data to be ready.\n",
              "    let fileData = yield {\n",
              "      promise: fileDataPromise,\n",
              "      response: {\n",
              "        action: 'continue',\n",
              "      }\n",
              "    };\n",
              "\n",
              "    // Use a chunked sending to avoid message size limits. See b/62115660.\n",
              "    let position = 0;\n",
              "    do {\n",
              "      const length = Math.min(fileData.byteLength - position, MAX_PAYLOAD_SIZE);\n",
              "      const chunk = new Uint8Array(fileData, position, length);\n",
              "      position += length;\n",
              "\n",
              "      const base64 = btoa(String.fromCharCode.apply(null, chunk));\n",
              "      yield {\n",
              "        response: {\n",
              "          action: 'append',\n",
              "          file: file.name,\n",
              "          data: base64,\n",
              "        },\n",
              "      };\n",
              "\n",
              "      let percentDone = fileData.byteLength === 0 ?\n",
              "          100 :\n",
              "          Math.round((position / fileData.byteLength) * 100);\n",
              "      percent.textContent = `${percentDone}% done`;\n",
              "\n",
              "    } while (position < fileData.byteLength);\n",
              "  }\n",
              "\n",
              "  // All done.\n",
              "  yield {\n",
              "    response: {\n",
              "      action: 'complete',\n",
              "    }\n",
              "  };\n",
              "}\n",
              "\n",
              "scope.google = scope.google || {};\n",
              "scope.google.colab = scope.google.colab || {};\n",
              "scope.google.colab._files = {\n",
              "  _uploadFiles,\n",
              "  _uploadFilesContinue,\n",
              "};\n",
              "})(self);\n",
              "</script> "
            ]
          },
          "metadata": {}
        },
        {
          "output_type": "stream",
          "name": "stdout",
          "text": [
            "Saving spotify_2000_2020.feather to spotify_2000_2020.feather\n"
          ]
        }
      ]
    },
    {
      "cell_type": "code",
      "source": [
        " spotify_population = pd.read_feather('/content/spotify_2000_2020.feather')\n",
        " print(spotify_population.head())"
      ],
      "metadata": {
        "colab": {
          "base_uri": "https://localhost:8080/"
        },
        "id": "nwkdVk8-dJXc",
        "outputId": "a129a62c-36a6-4a5a-bff4-9351b42e4d83"
      },
      "execution_count": null,
      "outputs": [
        {
          "output_type": "stream",
          "name": "stdout",
          "text": [
            "   acousticness          artists  danceability  duration_ms  duration_minutes  \\\n",
            "0       0.97200  ['David Bauer']         0.567     313293.0          5.221550   \n",
            "1       0.32100   ['Etta James']         0.821     360240.0          6.004000   \n",
            "2       0.00659    ['Quasimoto']         0.706     202507.0          3.375117   \n",
            "3       0.00390  ['Millencolin']         0.368     173360.0          2.889333   \n",
            "4       0.12200   ['Steve Chou']         0.501     344200.0          5.736667   \n",
            "\n",
            "   energy  explicit                      id  instrumentalness   key  liveness  \\\n",
            "0   0.227       0.0  0w0D8H1ubRerCXHWYJkinO          0.601000  10.0     0.110   \n",
            "1   0.418       0.0  4JVeqfE2tpi7Pv63LJZtPh          0.000372   9.0     0.222   \n",
            "2   0.602       1.0  5pxtdhLAi0RTh1gNqhGMNA          0.000138  11.0     0.400   \n",
            "3   0.977       0.0  3jRsoe4Vkxa4BMYqGHX8L0          0.000000  11.0     0.350   \n",
            "4   0.511       0.0  4mronxcllhfyhBRqyZi8kU          0.000000   7.0     0.279   \n",
            "\n",
            "   loudness  mode                   name  popularity release_date  \\\n",
            "0   -13.441   1.0      Shout to the Lord        47.0         2000   \n",
            "1    -9.841   0.0               Miss You        51.0   2000-12-12   \n",
            "2    -8.306   0.0              Real Eyes        44.0   2000-06-13   \n",
            "3    -2.757   0.0  Penguins & Polarbears        52.0   2000-02-22   \n",
            "4    -9.836   0.0                     黃昏        53.0   2000-12-25   \n",
            "\n",
            "   speechiness    tempo  valence    year  \n",
            "0       0.0290  136.123   0.0396  2000.0  \n",
            "1       0.0407  117.382   0.8030  2000.0  \n",
            "2       0.3420   89.692   0.4790  2000.0  \n",
            "3       0.1270  165.889   0.5480  2000.0  \n",
            "4       0.0291   78.045   0.1130  2000.0  \n"
          ]
        }
      ]
    },
    {
      "cell_type": "code",
      "source": [
        "spotify_population.info()"
      ],
      "metadata": {
        "colab": {
          "base_uri": "https://localhost:8080/"
        },
        "id": "rNH0w-YodIoG",
        "outputId": "f311d04e-33bc-4020-ab88-5e5b26e7f70a"
      },
      "execution_count": null,
      "outputs": [
        {
          "output_type": "stream",
          "name": "stdout",
          "text": [
            "<class 'pandas.core.frame.DataFrame'>\n",
            "RangeIndex: 41656 entries, 0 to 41655\n",
            "Data columns (total 20 columns):\n",
            " #   Column            Non-Null Count  Dtype  \n",
            "---  ------            --------------  -----  \n",
            " 0   acousticness      41656 non-null  float64\n",
            " 1   artists           41656 non-null  object \n",
            " 2   danceability      41656 non-null  float64\n",
            " 3   duration_ms       41656 non-null  float64\n",
            " 4   duration_minutes  41656 non-null  float64\n",
            " 5   energy            41656 non-null  float64\n",
            " 6   explicit          41656 non-null  float64\n",
            " 7   id                41656 non-null  object \n",
            " 8   instrumentalness  41656 non-null  float64\n",
            " 9   key               41656 non-null  float64\n",
            " 10  liveness          41656 non-null  float64\n",
            " 11  loudness          41656 non-null  float64\n",
            " 12  mode              41656 non-null  float64\n",
            " 13  name              41656 non-null  object \n",
            " 14  popularity        41656 non-null  float64\n",
            " 15  release_date      41656 non-null  object \n",
            " 16  speechiness       41656 non-null  float64\n",
            " 17  tempo             41656 non-null  float64\n",
            " 18  valence           41656 non-null  float64\n",
            " 19  year              41656 non-null  float64\n",
            "dtypes: float64(16), object(4)\n",
            "memory usage: 6.4+ MB\n"
          ]
        }
      ]
    },
    {
      "cell_type": "code",
      "source": [
        "spotify_population.describe"
      ],
      "metadata": {
        "colab": {
          "base_uri": "https://localhost:8080/"
        },
        "id": "OhL4_bcddIiU",
        "outputId": "9bbc8d48-2b56-473d-f45f-a5b9c5b752e4"
      },
      "execution_count": null,
      "outputs": [
        {
          "output_type": "execute_result",
          "data": {
            "text/plain": [
              "<bound method NDFrame.describe of        acousticness                             artists  danceability  \\\n",
              "0           0.97200                     ['David Bauer']         0.567   \n",
              "1           0.32100                      ['Etta James']         0.821   \n",
              "2           0.00659                       ['Quasimoto']         0.706   \n",
              "3           0.00390                     ['Millencolin']         0.368   \n",
              "4           0.12200                      ['Steve Chou']         0.501   \n",
              "...             ...                                 ...           ...   \n",
              "41651       0.17300              ['DripReport', 'Tyga']         0.875   \n",
              "41652       0.01670  ['Leon Bridges', 'Terrace Martin']         0.719   \n",
              "41653       0.53800               ['Kygo', 'Oh Wonder']         0.514   \n",
              "41654       0.07140       ['Cash Cash', 'Andy Grammer']         0.646   \n",
              "41655       0.10900                  ['Ingrid Andress']         0.512   \n",
              "\n",
              "       duration_ms  duration_minutes  energy  explicit  \\\n",
              "0         313293.0          5.221550   0.227       0.0   \n",
              "1         360240.0          6.004000   0.418       0.0   \n",
              "2         202507.0          3.375117   0.602       1.0   \n",
              "3         173360.0          2.889333   0.977       0.0   \n",
              "4         344200.0          5.736667   0.511       0.0   \n",
              "...            ...               ...     ...       ...   \n",
              "41651     163800.0          2.730000   0.443       1.0   \n",
              "41652     167468.0          2.791133   0.385       0.0   \n",
              "41653     180700.0          3.011667   0.539       0.0   \n",
              "41654     167308.0          2.788467   0.761       0.0   \n",
              "41655     214787.0          3.579783   0.428       0.0   \n",
              "\n",
              "                           id  instrumentalness   key  liveness  loudness  \\\n",
              "0      0w0D8H1ubRerCXHWYJkinO          0.601000  10.0    0.1100   -13.441   \n",
              "1      4JVeqfE2tpi7Pv63LJZtPh          0.000372   9.0    0.2220    -9.841   \n",
              "2      5pxtdhLAi0RTh1gNqhGMNA          0.000138  11.0    0.4000    -8.306   \n",
              "3      3jRsoe4Vkxa4BMYqGHX8L0          0.000000  11.0    0.3500    -2.757   \n",
              "4      4mronxcllhfyhBRqyZi8kU          0.000000   7.0    0.2790    -9.836   \n",
              "...                       ...               ...   ...       ...       ...   \n",
              "41651  4KppkflX7I3vJQk7urOJaS          0.000032   1.0    0.0891    -7.461   \n",
              "41652  1ehhGlTvjtHo2e4xJFB0SZ          0.031300   8.0    0.1110   -10.907   \n",
              "41653  52eycxprLhK3lPcRLbQiVk          0.002330   7.0    0.1080    -9.332   \n",
              "41654  3wYOGJYD31sLRmBgCvWxa4          0.000000   1.0    0.2220    -2.557   \n",
              "41655  60RFlt48hm0l4Fu0JoccOl          0.000000   0.0    0.1050    -7.387   \n",
              "\n",
              "       mode                            name  popularity release_date  \\\n",
              "0       1.0               Shout to the Lord        47.0         2000   \n",
              "1       0.0                        Miss You        51.0   2000-12-12   \n",
              "2       0.0                       Real Eyes        44.0   2000-06-13   \n",
              "3       0.0           Penguins & Polarbears        52.0   2000-02-22   \n",
              "4       0.0                              黃昏        53.0   2000-12-25   \n",
              "...     ...                             ...         ...          ...   \n",
              "41651   1.0   Skechers (feat. Tyga) - Remix        75.0   2020-05-15   \n",
              "41652   1.0  Sweeter (feat. Terrace Martin)        64.0   2020-06-08   \n",
              "41653   1.0                How Would I Know        70.0   2020-05-29   \n",
              "41654   1.0                     I Found You        70.0   2020-02-28   \n",
              "41655   1.0           More Hearts Than Mine        65.0   2020-03-27   \n",
              "\n",
              "       speechiness    tempo  valence    year  \n",
              "0           0.0290  136.123   0.0396  2000.0  \n",
              "1           0.0407  117.382   0.8030  2000.0  \n",
              "2           0.3420   89.692   0.4790  2000.0  \n",
              "3           0.1270  165.889   0.5480  2000.0  \n",
              "4           0.0291   78.045   0.1130  2000.0  \n",
              "...            ...      ...      ...     ...  \n",
              "41651       0.1430  100.012   0.3060  2020.0  \n",
              "41652       0.0403  128.000   0.2700  2020.0  \n",
              "41653       0.1050  123.700   0.1530  2020.0  \n",
              "41654       0.0385  129.916   0.4720  2020.0  \n",
              "41655       0.0271   80.588   0.3660  2020.0  \n",
              "\n",
              "[41656 rows x 20 columns]>"
            ]
          },
          "metadata": {},
          "execution_count": 5
        }
      ]
    },
    {
      "cell_type": "code",
      "source": [
        "# Sample 1000 rows from spotify_population\n",
        "spotify_sample = spotify_population.sample(n=1000)\n",
        "\n",
        "# Print the sample\n",
        "print(spotify_sample)"
      ],
      "metadata": {
        "colab": {
          "base_uri": "https://localhost:8080/"
        },
        "id": "tHyzXmnZdIeJ",
        "outputId": "0b4fbc63-6819-482a-f13c-d3c408e4e3d1"
      },
      "execution_count": null,
      "outputs": [
        {
          "output_type": "stream",
          "name": "stdout",
          "text": [
            "       acousticness                       artists  danceability  duration_ms  \\\n",
            "724        0.051900            ['Hannah Montana']        0.6280     188467.0   \n",
            "37196      0.162000             ['Morgan Wallen']        0.6160     199840.0   \n",
            "22144      0.004460  ['Katy Perry', 'Snoop Dogg']        0.7910     234653.0   \n",
            "38346      0.154000         ['Montez de Durango']        0.7460     171311.0   \n",
            "994        0.866000      ['Jónsi', 'Alex Somers']        0.0637     560653.0   \n",
            "...             ...                           ...           ...          ...   \n",
            "10044      0.119000    ['A Boogie Wit da Hoodie']        0.8700     186456.0   \n",
            "25697      0.044800        ['South Park Mexican']        0.8420     344960.0   \n",
            "1432       0.180000             ['August Alsina']        0.4760     277827.0   \n",
            "8772       0.000506            ['The Mars Volta']        0.3080     425960.0   \n",
            "26984      0.038800    ['YNW Melly', '9lokknine']        0.9320     176640.0   \n",
            "\n",
            "       duration_minutes  energy  explicit                      id  \\\n",
            "724            3.141117   0.941       0.0  1pEc2SNzgGvbmvcapQ566n   \n",
            "37196          3.330667   0.835       0.0  2woGHWgrFfjXAgdUsitbqr   \n",
            "22144          3.910883   0.754       0.0  6tS3XVuOyu10897O3ae7bi   \n",
            "38346          2.855183   0.503       0.0  3XEa1S87xn5CBTJISxF3Fa   \n",
            "994            9.344217   0.249       0.0  29Ty3LznXDPiuf4Q681MEI   \n",
            "...                 ...     ...       ...                     ...   \n",
            "10044          3.107600   0.484       1.0  0KfgfxTnqfX4IfhVDpPYTd   \n",
            "25697          5.749333   0.615       1.0  5q2MjTDby29ZOEigCVV28a   \n",
            "1432           4.630450   0.718       1.0  3083fDw5aGcjzB5FMauzrH   \n",
            "8772           7.099333   0.993       0.0  1hWw1UGI5GuowixFmunO9y   \n",
            "26984          2.944000   0.547       1.0  29ZXwWOOLz9t5fa3eT3i7T   \n",
            "\n",
            "       instrumentalness  key  liveness  loudness  mode  \\\n",
            "724            0.000000  0.0    0.5190    -3.305   1.0   \n",
            "37196          0.000000  7.0    0.0977    -4.277   1.0   \n",
            "22144          0.000000  0.0    0.1630    -3.729   1.0   \n",
            "38346          0.000000  0.0    0.0995    -7.524   0.0   \n",
            "994            0.974000  7.0    0.0930   -16.187   1.0   \n",
            "...                 ...  ...       ...       ...   ...   \n",
            "10044          0.000000  1.0    0.1940   -12.323   0.0   \n",
            "25697          0.000009  1.0    0.1170    -4.445   0.0   \n",
            "1432           0.000000  2.0    0.0694    -7.407   1.0   \n",
            "8772           0.036500  9.0    0.6860    -2.726   1.0   \n",
            "26984          0.000000  0.0    0.0924    -7.787   0.0   \n",
            "\n",
            "                          name  popularity release_date  speechiness    tempo  \\\n",
            "724    Life's What You Make It        48.0   2007-01-01       0.0508  143.999   \n",
            "37196               Happy Hour        63.0   2018-04-27       0.0354   97.960   \n",
            "22144         California Gurls        73.0   2012-03-12       0.0569  125.014   \n",
            "38346                   Espero        51.0   2008-10-21       0.0514   90.057   \n",
            "994                  Happiness        45.0   2009-07-20       0.0429   67.693   \n",
            "...                        ...         ...          ...          ...      ...   \n",
            "10044     Not a Regular Person        55.0   2016-06-29       0.3660  139.993   \n",
            "25697               In My Hood        55.0   2006-10-03       0.1460  144.748   \n",
            "1432                 Porn Star        54.0   2014-01-01       0.0704  112.172   \n",
            "8772     Drunkship Of Lanterns        42.0   2003-01-01       0.2870  115.721   \n",
            "26984  223's (feat. 9lokknine)        75.0   2019-11-22       0.3330   94.998   \n",
            "\n",
            "       valence    year  \n",
            "724     0.8500  2007.0  \n",
            "37196   0.8000  2018.0  \n",
            "22144   0.4250  2012.0  \n",
            "38346   0.8820  2008.0  \n",
            "994     0.0372  2009.0  \n",
            "...        ...     ...  \n",
            "10044   0.3200  2016.0  \n",
            "25697   0.6690  2006.0  \n",
            "1432    0.5980  2014.0  \n",
            "8772    0.1130  2003.0  \n",
            "26984   0.6950  2019.0  \n",
            "\n",
            "[1000 rows x 20 columns]\n"
          ]
        }
      ]
    },
    {
      "cell_type": "code",
      "source": [
        "# Calculate the mean duration in mins from spotify_population\n",
        "mean_dur_pop =spotify_population['duration_minutes'].mean()\n",
        "\n",
        "# Calculate the mean duration in mins from spotify_sample\n",
        "mean_dur_samp = spotify_sample['duration_minutes'].mean()\n",
        "\n",
        "# Print the means\n",
        "print(mean_dur_pop)\n",
        "print(mean_dur_samp)"
      ],
      "metadata": {
        "colab": {
          "base_uri": "https://localhost:8080/"
        },
        "id": "DRcejVrgeTTM",
        "outputId": "c8ee2ee4-c5e7-487d-f507-eee1244c1003"
      },
      "execution_count": null,
      "outputs": [
        {
          "output_type": "stream",
          "name": "stdout",
          "text": [
            "3.8521519140900073\n",
            "3.8300350499999998\n"
          ]
        }
      ]
    },
    {
      "cell_type": "markdown",
      "source": [
        "the mean song duration in the sample is similar, but not identical to the mean song duration in the whole population."
      ],
      "metadata": {
        "id": "kHQ6nPoBeduZ"
      }
    },
    {
      "cell_type": "code",
      "source": [
        "# Create a pandas Series from the loudness column of spotify_population\n",
        "loudness_pop = spotify_population['loudness']\n",
        "print(loudness_pop.describe)"
      ],
      "metadata": {
        "colab": {
          "base_uri": "https://localhost:8080/"
        },
        "id": "EqQMJFBHeete",
        "outputId": "727ba162-41d2-4822-a323-c482e2a50a2e"
      },
      "execution_count": null,
      "outputs": [
        {
          "output_type": "stream",
          "name": "stdout",
          "text": [
            "<bound method NDFrame.describe of 0       -13.441\n",
            "1        -9.841\n",
            "2        -8.306\n",
            "3        -2.757\n",
            "4        -9.836\n",
            "          ...  \n",
            "41651    -7.461\n",
            "41652   -10.907\n",
            "41653    -9.332\n",
            "41654    -2.557\n",
            "41655    -7.387\n",
            "Name: loudness, Length: 41656, dtype: float64>\n"
          ]
        }
      ]
    },
    {
      "cell_type": "code",
      "source": [
        "# Sample 100 values of loudness_pop\n",
        "loudness_samp = loudness_pop.sample(n=100)\n",
        "\n",
        "print(loudness_samp)"
      ],
      "metadata": {
        "colab": {
          "base_uri": "https://localhost:8080/"
        },
        "id": "i9Thh8a4e27s",
        "outputId": "e3090255-93ad-4f07-a50f-0ec7f2681d04"
      },
      "execution_count": null,
      "outputs": [
        {
          "output_type": "stream",
          "name": "stdout",
          "text": [
            "38322    -2.298\n",
            "9930     -6.972\n",
            "9155    -13.078\n",
            "16546    -3.665\n",
            "2959    -11.913\n",
            "          ...  \n",
            "38155    -2.622\n",
            "31426   -11.126\n",
            "10211    -5.803\n",
            "28724    -7.667\n",
            "23345    -3.726\n",
            "Name: loudness, Length: 100, dtype: float64\n"
          ]
        }
      ]
    },
    {
      "cell_type": "code",
      "source": [
        "import numpy as np"
      ],
      "metadata": {
        "id": "PtD_UAEufKMm"
      },
      "execution_count": null,
      "outputs": []
    },
    {
      "cell_type": "code",
      "source": [
        "# Calculate the mean of loudness_pop\n",
        "mean_loudness_pop = np.mean(loudness_pop)\n",
        "\n",
        "# Calculate the mean of loudness_samp\n",
        "mean_loudness_samp = np.mean(loudness_samp)\n",
        "\n",
        "print(mean_loudness_pop)\n",
        "print(mean_loudness_samp)"
      ],
      "metadata": {
        "colab": {
          "base_uri": "https://localhost:8080/"
        },
        "id": "7N4LeRWbfEqo",
        "outputId": "699e738b-90ad-4540-d6ad-cd54a2200d6f"
      },
      "execution_count": null,
      "outputs": [
        {
          "output_type": "stream",
          "name": "stdout",
          "text": [
            "-7.366856851353947\n",
            "-7.43399\n"
          ]
        }
      ]
    },
    {
      "cell_type": "markdown",
      "source": [
        "the calculated value (the mean) is close but not identical in each case"
      ],
      "metadata": {
        "id": "nYrQZYWEfVBM"
      }
    },
    {
      "cell_type": "code",
      "source": [
        "import matplotlib.pyplot as plt"
      ],
      "metadata": {
        "id": "hGsaIICcfhhR"
      },
      "execution_count": null,
      "outputs": []
    },
    {
      "cell_type": "code",
      "source": [
        "# Visualize the distribution of acousticness with a histogram\n",
        "spotify_population['acousticness'].hist(bins=np.arange(0, 1.01, 0.01))\n",
        "plt.show()"
      ],
      "metadata": {
        "colab": {
          "base_uri": "https://localhost:8080/",
          "height": 430
        },
        "id": "1NFemNxBfVs7",
        "outputId": "abadb712-40ad-4b56-e3a0-d540b0fbf334"
      },
      "execution_count": null,
      "outputs": [
        {
          "output_type": "display_data",
          "data": {
            "text/plain": [
              "<Figure size 640x480 with 1 Axes>"
            ],
            "image/png": "[encoded data removed]"
          },
          "metadata": {}
        }
      ]
    },
    {
      "cell_type": "code",
      "source": [
        "# Visualize the distribution of duration_minutes as a histogram\n",
        "spotify_population['duration_minutes'].hist(bins=np.arange(0,15.5,0.5))\n",
        "plt.show()"
      ],
      "metadata": {
        "colab": {
          "base_uri": "https://localhost:8080/",
          "height": 430
        },
        "id": "jbskkEWffnBJ",
        "outputId": "742d3552-ea6d-41ee-b876-0cc2ec799ab9"
      },
      "execution_count": null,
      "outputs": [
        {
          "output_type": "display_data",
          "data": {
            "text/plain": [
              "<Figure size 640x480 with 1 Axes>"
            ],
            "image/png": "[encoded data removed]"
          },
          "metadata": {}
        }
      ]
    },
    {
      "cell_type": "markdown",
      "source": [
        "The duration values in the sample show a similar distribution to those in the whole population, so the results are generalizable."
      ],
      "metadata": {
        "id": "kDokLmwJgZUu"
      }
    },
    {
      "cell_type": "markdown",
      "source": [
        "Generate 5000 numbers from a uniform distribution, setting the parameters low to -3 and high to 3"
      ],
      "metadata": {
        "id": "qeG7_neFgpeI"
      }
    },
    {
      "cell_type": "code",
      "source": [
        "# Generate random numbers from a Uniform(-3, 3)\n",
        "uniforms = np.random.uniform(low=-3,high=3,size=5000)\n",
        "\n",
        "# Print uniforms\n",
        "print(uniforms)"
      ],
      "metadata": {
        "colab": {
          "base_uri": "https://localhost:8080/"
        },
        "id": "0vaRY8npgaKk",
        "outputId": "f84cc4a1-77e9-4391-a1ab-52cad40447ed"
      },
      "execution_count": null,
      "outputs": [
        {
          "output_type": "stream",
          "name": "stdout",
          "text": [
            "[-0.13610196 -1.3746853   2.70162562 ... -0.73018921 -2.76165987\n",
            "  0.68401019]\n"
          ]
        }
      ]
    },
    {
      "cell_type": "markdown",
      "source": [
        "Generate 5000 numbers from a normal distribution, setting the parameters loc to 5 and scale to 2."
      ],
      "metadata": {
        "id": "oA8X0nsYg3Vi"
      }
    },
    {
      "cell_type": "code",
      "source": [
        "# Generate random numbers from a Normal(5, 2)\n",
        "normals = np.random.normal(loc=5, scale=2, size=5000)\n",
        "\n",
        "# Print normals\n",
        "print(normals)"
      ],
      "metadata": {
        "colab": {
          "base_uri": "https://localhost:8080/"
        },
        "id": "8yFIFdNyg9wT",
        "outputId": "daa836a1-2717-4044-b88b-2b9264fbeec7"
      },
      "execution_count": null,
      "outputs": [
        {
          "output_type": "stream",
          "name": "stdout",
          "text": [
            "[2.62472437 3.72693626 5.45478625 ... 4.96857266 6.31544539 5.01861074]\n"
          ]
        }
      ]
    },
    {
      "cell_type": "code",
      "source": [
        "# Generate random numbers from a Uniform(-3, 3)\n",
        "uniforms = np.random.uniform(low=-3, high=3, size=5000)\n",
        "\n",
        "# Plot a histogram of uniform values, binwidth 0.25\n",
        "plt.hist(uniforms, bins=np.arange(-3, 3.25, 0.25))\n",
        "plt.show()"
      ],
      "metadata": {
        "colab": {
          "base_uri": "https://localhost:8080/",
          "height": 434
        },
        "id": "jX5cMlHPhQqp",
        "outputId": "9d711fd6-e4d8-4beb-ade1-c8f4bf7e538f"
      },
      "execution_count": null,
      "outputs": [
        {
          "output_type": "display_data",
          "data": {
            "text/plain": [
              "<Figure size 640x480 with 1 Axes>"
            ],
            "image/png": "[encoded data removed]"
          },
          "metadata": {}
        }
      ]
    },
    {
      "cell_type": "code",
      "source": [
        "# Generate random numbers from a Normal(5, 2)\n",
        "normals = np.random.normal(loc=5, scale=2, size=5000)\n",
        "\n",
        "# Plot a histogram of normal values, binwidth 0.5\n",
        "plt.hist(normals,bins=np.arange(-2,13.5,0.5))\n",
        "plt.show()"
      ],
      "metadata": {
        "colab": {
          "base_uri": "https://localhost:8080/",
          "height": 430
        },
        "id": "C6MMd9_6hlqw",
        "outputId": "99d4b00f-6b79-4af5-cfc1-c3ef7f743b2e"
      },
      "execution_count": null,
      "outputs": [
        {
          "output_type": "display_data",
          "data": {
            "text/plain": [
              "<Figure size 640x480 with 1 Axes>"
            ],
            "image/png": "[encoded data removed]"
          },
          "metadata": {}
        }
      ]
    },
    {
      "cell_type": "markdown",
      "source": [
        "the histograms almost take the flat and bell curve shapes of the uniform and normal distributions, but there is a bit of random noise."
      ],
      "metadata": {
        "id": "L0RBNeI8hsI7"
      }
    },
    {
      "cell_type": "markdown",
      "source": [
        "# **Chap 4 : Bootstrap distributions**"
      ],
      "metadata": {
        "id": "f_YUl5ZGa51q"
      }
    },
    {
      "cell_type": "code",
      "source": [
        "# Generate 1 bootstrap resample\n",
        "spotify_1_resample = spotify_sample.sample(frac=1,replace=True)\n",
        "\n",
        "# Print the resample\n",
        "print(spotify_1_resample)"
      ],
      "metadata": {
        "id": "InEX1NZ2hzvf",
        "colab": {
          "base_uri": "https://localhost:8080/"
        },
        "outputId": "93e8a426-3028-4dc9-fcfd-1bd1274385ac"
      },
      "execution_count": null,
      "outputs": [
        {
          "output_type": "stream",
          "name": "stdout",
          "text": [
            "       acousticness                           artists  danceability  \\\n",
            "32860      0.000048             ['A Day To Remember']         0.409   \n",
            "11978      0.645000                     ['Liza Anne']         0.437   \n",
            "4167       0.611000               ['Parker McCollum']         0.486   \n",
            "7734       0.119000  ['Teyana Taylor', 'Chris Brown']         0.597   \n",
            "13960      0.015500                 ['Macross 82-99']         0.559   \n",
            "...             ...                               ...           ...   \n",
            "17911      0.009990          ['Tyler James Williams']         0.625   \n",
            "22285      0.056100                  ['Taylor Swift']         0.648   \n",
            "35147      0.056700                       ['Big Boi']         0.849   \n",
            "8655       0.459000               ['Banda Cuisillos']         0.560   \n",
            "28805      0.083700                     ['Ayo & Teo']         0.804   \n",
            "\n",
            "       duration_ms  duration_minutes  energy  explicit  \\\n",
            "32860     200677.0          3.344617   0.992       0.0   \n",
            "11978     219000.0          3.650000   0.301       0.0   \n",
            "4167      226438.0          3.773967   0.443       0.0   \n",
            "7734      252667.0          4.211117   0.564       1.0   \n",
            "13960     150261.0          2.504350   0.905       0.0   \n",
            "...            ...               ...     ...       ...   \n",
            "17911     156293.0          2.604883   0.797       0.0   \n",
            "22285     219200.0          3.653333   0.785       0.0   \n",
            "35147     241898.0          4.031633   0.823       1.0   \n",
            "8655      243080.0          4.051333   0.670       0.0   \n",
            "28805     238587.0          3.976450   0.886       0.0   \n",
            "\n",
            "                           id  instrumentalness  key  liveness  loudness  \\\n",
            "32860  3HhaSocKwTptze7PySNZlW          0.000002  3.0    0.1000    -2.803   \n",
            "11978  22uyZjmZR0DX8FyrIwQl35          0.000000  0.0    0.1170    -8.519   \n",
            "4167   13bXmY0acm51KkgEdhCm1n          0.000002  4.0    0.0981    -6.791   \n",
            "7734   3MPC4VgnsdlTEua8QntLab          0.000000  1.0    0.2290    -6.968   \n",
            "13960  76YGvWy36ftupwff9SCl7J          0.002830  6.0    0.3160    -5.362   \n",
            "...                       ...               ...  ...       ...       ...   \n",
            "17911  5Tc0hVbq00r8tyVTaEj0G1          0.000000  7.0    0.2120    -5.090   \n",
            "22285  5xTtaWoae3wi06K5WfVUUH          0.000000  7.0    0.1480    -5.414   \n",
            "35147  2Bb3mu3lfUrcRoTi3IcvQc          0.000000  4.0    0.0855    -4.563   \n",
            "8655   1uIRnK9Ob4l0yuMapU8QoL          0.000004  2.0    0.1550    -6.040   \n",
            "28805  0pSBuHjILhNEo55xK1zrRt          0.000000  1.0    0.2660    -2.512   \n",
            "\n",
            "       mode              name  popularity release_date  speechiness    tempo  \\\n",
            "32860   0.0          Paranoia        64.0   2016-09-02       0.1080  149.859   \n",
            "11978   1.0       1,000 Years        54.0   2014-02-04       0.0384  126.016   \n",
            "4167    1.0     Like A Cowboy        62.0   2020-04-10       0.0340  125.159   \n",
            "7734    1.0    Do Not Disturb        52.0   2014-11-04       0.2300  135.920   \n",
            "13960   0.0       『82.99 F.M』        52.0   2014-05-07       0.1500  114.830   \n",
            "...     ...               ...         ...          ...          ...      ...   \n",
            "17911   1.0  You Belong To Me        43.0   2012-06-12       0.0340   96.008   \n",
            "22285   1.0      Shake It Off        70.0   2014-10-27       0.1650  160.020   \n",
            "35147   1.0         All Night        66.0   2017-06-16       0.0441  135.929   \n",
            "8655    1.0   No Voy A Llorar        46.0   2002-10-10       0.0293  148.025   \n",
            "28805   1.0             Rolex        74.0   2017-03-15       0.0400  144.946   \n",
            "\n",
            "       valence    year  \n",
            "32860    0.344  2016.0  \n",
            "11978    0.203  2014.0  \n",
            "4167     0.215  2020.0  \n",
            "7734     0.233  2014.0  \n",
            "13960    0.822  2014.0  \n",
            "...        ...     ...  \n",
            "17911    0.378  2012.0  \n",
            "22285    0.943  2014.0  \n",
            "35147    0.846  2017.0  \n",
            "8655     0.524  2002.0  \n",
            "28805    0.789  2017.0  \n",
            "\n",
            "[1000 rows x 20 columns]\n"
          ]
        }
      ]
    },
    {
      "cell_type": "code",
      "source": [
        "# Generate 1 bootstrap resample\n",
        "spotify_1_resample = spotify_sample.sample(frac=1, replace=True)\n",
        "\n",
        "# Calculate of the danceability column of spotify_1_resample\n",
        "mean_danceability_1 = np.mean(spotify_1_resample['danceability'])\n",
        "\n",
        "# Print the result\n",
        "print(mean_danceability_1)"
      ],
      "metadata": {
        "colab": {
          "base_uri": "https://localhost:8080/"
        },
        "id": "85TQBHCobJ-8",
        "outputId": "773878e9-5b0e-4060-d4b6-737de6e73b11"
      },
      "execution_count": null,
      "outputs": [
        {
          "output_type": "stream",
          "name": "stdout",
          "text": [
            "0.5937251\n"
          ]
        }
      ]
    },
    {
      "cell_type": "code",
      "source": [
        "# Replicate this 1000 times\n",
        "mean_danceability_1000 = []\n",
        "for i in range(1000):\n",
        "\tmean_danceability_1000.append(\n",
        "        np.mean(spotify_sample.sample(frac=1, replace=True)['danceability'])\n",
        "\t)\n",
        "\n",
        "# Print the result\n",
        "print(mean_danceability_1000)"
      ],
      "metadata": {
        "colab": {
          "base_uri": "https://localhost:8080/"
        },
        "id": "irk3pZJVbTn2",
        "outputId": "45a8ca32-c42a-4af5-e1d2-c6569fe68a52"
      },
      "execution_count": null,
      "outputs": [
        {
          "output_type": "stream",
          "name": "stdout",
          "text": [
            "[0.5987085, 0.6033723999999999, 0.5922314000000001, 0.5915064, 0.5861961000000001, 0.5914777000000001, 0.5914557, 0.5994717, 0.5971642999999999, 0.5925969999999999, 0.59884, 0.5886233999999999, 0.5897718, 0.5977374, 0.5984547, 0.5937655000000001, 0.5943278000000001, 0.5796866, 0.5860650000000001, 0.5948435999999999, 0.6031429999999999, 0.5889474, 0.5949332, 0.5959975, 0.5960475000000001, 0.5833073, 0.598259, 0.5895661999999999, 0.5893160000000001, 0.5939727, 0.598052, 0.592263, 0.6049473000000001, 0.6029580999999999, 0.5962205, 0.5974226000000001, 0.5899167, 0.6020391999999999, 0.5947820999999999, 0.5998791, 0.5923144, 0.5983197, 0.6023077, 0.5903927, 0.5853273999999999, 0.5942454, 0.5958853000000001, 0.5860277, 0.6001512999999999, 0.5963280999999999, 0.5980553, 0.5917555, 0.5968906999999999, 0.5860227, 0.5940059999999999, 0.5911004000000001, 0.6076521, 0.5937391, 0.598191, 0.5964350999999999, 0.5957467, 0.5937937, 0.5940926999999999, 0.5898612000000001, 0.5912107, 0.5928087999999999, 0.5938053999999999, 0.5871902999999999, 0.5870808, 0.5907103, 0.596303, 0.5951223, 0.5967161, 0.5910245, 0.5826653, 0.6003973000000001, 0.5883254, 0.6034538, 0.5956896, 0.58925, 0.5965942, 0.5940211999999999, 0.5985331, 0.5915617, 0.5944871, 0.5888151, 0.5890472, 0.5852656999999999, 0.5894222, 0.6015432000000001, 0.5915206000000001, 0.6029661, 0.5939841000000001, 0.5953928, 0.6022979, 0.5805592, 0.5942584, 0.5846908, 0.593423, 0.6063213000000001, 0.5942264, 0.5878787, 0.5938914999999999, 0.6002036000000001, 0.5953791000000002, 0.5931058, 0.5959382999999999, 0.5867485, 0.5921917, 0.5981219999999999, 0.5951243999999999, 0.5931084, 0.5794709, 0.5919565, 0.5943667, 0.5979494, 0.6001187, 0.5983816, 0.6032191, 0.5960283, 0.5911183999999999, 0.5842538999999999, 0.5925722000000001, 0.5864457, 0.5865847, 0.6026104, 0.5883098, 0.5907041, 0.5991889, 0.5863704000000001, 0.5910501, 0.5931687, 0.5910402999999999, 0.5864113, 0.6027985, 0.6016460000000001, 0.5899327000000001, 0.5894347, 0.5870922000000001, 0.58941, 0.5911874, 0.5833007, 0.5907504, 0.5948561, 0.5829982, 0.5927555999999999, 0.5950387, 0.6019197, 0.6038239000000001, 0.5882757000000001, 0.5888787, 0.5968585999999999, 0.5912653, 0.5929200000000001, 0.599394, 0.6011356999999999, 0.5958695, 0.6009429000000001, 0.6052464, 0.5962420999999999, 0.6005407, 0.5928653999999999, 0.5945421, 0.5908127, 0.5966556000000001, 0.5907314, 0.5973687, 0.5940807, 0.6042376999999999, 0.5848203, 0.596078, 0.6022076999999999, 0.586553, 0.6015705, 0.5903225, 0.5948635, 0.599846, 0.5900267, 0.6040057000000001, 0.5933491, 0.5864205, 0.5964267, 0.5860869, 0.5849464000000001, 0.5913629000000001, 0.5943101000000001, 0.5994045, 0.5929072999999999, 0.5961656000000001, 0.599896, 0.6035204, 0.6040840000000001, 0.5867960000000001, 0.597379, 0.601067, 0.5894657, 0.5965643, 0.5899211, 0.5962777, 0.5910303, 0.5987737, 0.6052768, 0.6040837000000001, 0.5889801, 0.5934072, 0.5918254, 0.6094863, 0.595937, 0.5978858, 0.5950994000000001, 0.5948901000000001, 0.5893173999999999, 0.5931046999999999, 0.6027861, 0.5977390999999999, 0.5966013, 0.59119, 0.5927863, 0.6005223999999999, 0.597785, 0.6019260000000001, 0.5883427, 0.5913551, 0.5969596999999999, 0.5989564, 0.5965864, 0.5910576000000001, 0.5905781000000001, 0.5955594, 0.6021503, 0.5898898, 0.5916117000000001, 0.5978551, 0.6014483, 0.5969285, 0.5859435999999999, 0.604392, 0.6019374000000001, 0.5904961, 0.6049893, 0.5889485, 0.5856172000000001, 0.5869213, 0.6015912, 0.5846032999999999, 0.5905138999999999, 0.5976457000000001, 0.5938597, 0.5987218000000001, 0.5896478999999999, 0.5896901, 0.5934557, 0.5978236, 0.5965245, 0.5955644, 0.5852635, 0.5902254, 0.5954321, 0.5930137, 0.6002808, 0.5974227000000001, 0.6017357999999999, 0.5914433, 0.5944050999999999, 0.5950981, 0.5977128, 0.5992413, 0.6030418, 0.59217, 0.5941387, 0.6024013, 0.5997121, 0.598467, 0.5875509999999999, 0.5931621, 0.6074416, 0.583582, 0.5922477, 0.5973354, 0.5882512, 0.59599, 0.6056959999999999, 0.5910866000000001, 0.6016256, 0.5888580999999999, 0.5929184000000001, 0.5776523, 0.6020192999999999, 0.5972354, 0.5950816999999999, 0.5912533000000001, 0.5969200000000001, 0.5924277, 0.608206, 0.5962282, 0.5958318999999999, 0.5983160000000001, 0.5898475000000001, 0.5896796999999999, 0.593279, 0.5931034, 0.6028783, 0.591739, 0.5848598999999999, 0.5946098999999999, 0.5956071000000001, 0.6026477, 0.592748, 0.5880257, 0.592772, 0.5915798, 0.5878501, 0.5996664999999999, 0.6032473, 0.5929749999999999, 0.5888872, 0.5867391, 0.5976314, 0.5968017, 0.5938659000000001, 0.6013598, 0.5908523999999999, 0.5897123000000002, 0.5858777000000001, 0.5902103999999999, 0.5945494, 0.5949117, 0.592532, 0.5933263999999999, 0.5934448, 0.6022394999999999, 0.5893931, 0.5868034, 0.589299, 0.591986, 0.5979554, 0.5989354000000001, 0.6000468, 0.5910188, 0.5971124, 0.5970168, 0.5938553999999999, 0.5926744, 0.5991738, 0.5881888000000001, 0.5900536999999999, 0.597951, 0.5976081, 0.5955064, 0.5942213000000001, 0.6002884, 0.6008044, 0.5851102, 0.5899331999999999, 0.5921174000000001, 0.5970033, 0.5952062000000001, 0.5899948, 0.5890110999999999, 0.5936525, 0.5999061, 0.5848548000000001, 0.595961, 0.5918204, 0.5963731, 0.5900113, 0.5969507, 0.599841, 0.6011688000000001, 0.5999407, 0.5978283, 0.5953034, 0.5988591, 0.592558, 0.5915533000000001, 0.5958451, 0.5879011000000001, 0.5961504, 0.5905007000000001, 0.5918314, 0.5987033999999999, 0.5990073, 0.595618, 0.5812991, 0.5929197, 0.5843425999999999, 0.5905982000000001, 0.5868127000000001, 0.5967021, 0.5988947, 0.5966011, 0.5882788000000001, 0.6003087, 0.5993361, 0.5876307, 0.5943944, 0.5861280000000001, 0.5998697000000001, 0.6071918000000001, 0.5981204, 0.5976031, 0.5812039, 0.602072, 0.5936443, 0.5869460000000002, 0.584632, 0.6015843, 0.5957528, 0.5962586, 0.5989013, 0.5842952, 0.5961308, 0.5881107999999999, 0.5878797, 0.5920799999999999, 0.5945901, 0.5882126, 0.5959574, 0.594722, 0.5924778, 0.5893316, 0.6015061, 0.5892627, 0.5962242999999999, 0.5900544, 0.5864558, 0.5991584, 0.5990424000000001, 0.5892746, 0.5898782999999999, 0.6034997000000001, 0.5884389, 0.6030014, 0.5892471, 0.5948301, 0.58269, 0.5940196999999999, 0.6001171000000001, 0.5978247999999999, 0.6044578, 0.5983957000000001, 0.5980591, 0.5877634, 0.5881605, 0.6065756999999999, 0.5895798999999999, 0.5841238, 0.5949441, 0.6051449999999999, 0.5935537000000001, 0.5954073999999999, 0.5942591, 0.5951150000000001, 0.5884093, 0.5979040999999999, 0.5994027, 0.5991263999999998, 0.5845880999999999, 0.5984655, 0.6062787, 0.5849829999999999, 0.5926288, 0.5939054, 0.5871838, 0.5907208, 0.5944537, 0.6004418, 0.5995353, 0.5877494, 0.6018254, 0.59797, 0.6026218000000001, 0.5967781, 0.5979133, 0.6042057, 0.6066087, 0.5953978000000001, 0.5948546, 0.5904531, 0.590758, 0.5944559999999999, 0.5816742999999999, 0.5926317, 0.597821, 0.5991650999999999, 0.5946673, 0.5869826, 0.5956119999999999, 0.5885601, 0.5929461000000001, 0.5944828, 0.5916011, 0.5948430000000001, 0.5901217, 0.6020620999999999, 0.5971652999999999, 0.5835020999999999, 0.5928942, 0.5870323, 0.5947546, 0.5903931, 0.5932464, 0.5977761, 0.5995617, 0.5898081, 0.5909697, 0.5921792, 0.5972174, 0.5945068, 0.5875741000000001, 0.5985087, 0.591602, 0.587026, 0.5980857, 0.5942609999999999, 0.5847251, 0.5937431, 0.6042053999999999, 0.5941674, 0.5884482000000001, 0.592205, 0.5837664, 0.5988487, 0.5962935, 0.5885951, 0.5903137, 0.5920412, 0.5992546, 0.585037, 0.5998640000000001, 0.5855016000000001, 0.5872908, 0.5965870999999999, 0.6049797000000001, 0.5904975, 0.601226, 0.5967919999999999, 0.5960843, 0.5969208, 0.5903653999999999, 0.6009185, 0.5927864999999999, 0.5989574, 0.5947417, 0.5994495000000001, 0.5975526, 0.5913731, 0.5977553, 0.6027382, 0.594694, 0.5968068000000001, 0.5907705999999999, 0.5980231, 0.5933533999999999, 0.5927913000000001, 0.6014972000000001, 0.5896726, 0.5967894000000001, 0.5972164, 0.5951807, 0.5913167, 0.5883515, 0.6030424000000001, 0.594026, 0.60027, 0.5902062, 0.5980173, 0.5941138000000001, 0.588444, 0.5996790999999999, 0.5910204, 0.5979547, 0.583525, 0.5890998, 0.5982248, 0.6006609999999999, 0.5980478, 0.597548, 0.5897988000000001, 0.5842463, 0.5903647000000001, 0.6030420000000001, 0.5967897000000001, 0.598262, 0.5947574, 0.5931333999999999, 0.5887330999999999, 0.5855416, 0.5783151, 0.5970238000000001, 0.5927342, 0.6061559999999999, 0.5825319000000001, 0.5888798000000001, 0.5880358000000001, 0.5991867, 0.5954354000000001, 0.6055597, 0.59749, 0.5928969999999999, 0.5906802999999999, 0.5954421, 0.5918703000000001, 0.5907943999999999, 0.5969907000000001, 0.5959083000000001, 0.5989213999999999, 0.5947043, 0.5906972, 0.5994713, 0.5973972, 0.6034428000000001, 0.5973282000000001, 0.5859481000000001, 0.5934218000000001, 0.5884903, 0.5925450000000001, 0.596207, 0.5901518, 0.600383, 0.5869248, 0.5878136999999999, 0.5974633999999999, 0.6004200000000001, 0.5955997, 0.5976260999999999, 0.5850721000000001, 0.5946717, 0.5942388000000001, 0.5899913999999999, 0.5981917000000001, 0.5940918, 0.598358, 0.5910425, 0.5870539000000001, 0.5892324, 0.5901791000000001, 0.6001763999999999, 0.5935498, 0.60623, 0.5946684, 0.5861434, 0.5982417, 0.5966797, 0.5981464000000001, 0.5900443, 0.589857, 0.6047457999999999, 0.5989441, 0.5991650999999999, 0.5920643999999999, 0.5980386999999999, 0.6040041, 0.5921763, 0.5956547000000001, 0.5982546999999999, 0.5918617, 0.5892537, 0.5858995, 0.5943501999999999, 0.593034, 0.5904257, 0.5950907, 0.5959426999999999, 0.5919107, 0.5905837, 0.5953336999999999, 0.5917694, 0.5948156, 0.5845768, 0.596701, 0.5930564, 0.5959121000000001, 0.5926247000000001, 0.6005308, 0.6062026, 0.5943066, 0.5882894, 0.592326, 0.5907729999999999, 0.5936414999999999, 0.5940408, 0.589985, 0.5943151, 0.5923331, 0.594567, 0.5966777, 0.5919114, 0.5917397000000001, 0.596154, 0.5854511, 0.5953091, 0.6023854000000001, 0.5924157, 0.5869207000000001, 0.6002897, 0.5936112, 0.5828397, 0.5962882999999999, 0.608544, 0.5905103, 0.5957008, 0.5920413, 0.5904542, 0.599951, 0.5958147, 0.5876015, 0.5929764, 0.5921118, 0.5944538, 0.5927187, 0.5996773999999999, 0.5912208000000001, 0.6013223000000001, 0.5920594000000001, 0.586383, 0.5941152999999999, 0.5904011, 0.6017477000000001, 0.5981219999999999, 0.5885064, 0.587384, 0.5979789999999999, 0.5901449, 0.5936781000000001, 0.5849997, 0.5909591000000001, 0.5967027, 0.5896177, 0.5980962, 0.5975735999999999, 0.5963833999999999, 0.5881139000000001, 0.5995845, 0.5924781, 0.5930327999999999, 0.5864767, 0.6000040000000001, 0.5852183, 0.5942597, 0.5937681, 0.5903528, 0.5918066, 0.5894141, 0.5927624, 0.5904377, 0.5954575, 0.603279, 0.5986551, 0.5997135000000001, 0.5914516999999999, 0.5945357, 0.5883506, 0.5914484, 0.5938823999999999, 0.5996535000000001, 0.6012284, 0.5984714000000001, 0.591164, 0.5862598, 0.5987068, 0.6003097000000001, 0.6045560000000001, 0.6024287, 0.5945311000000001, 0.599125, 0.5859935000000001, 0.5973075999999999, 0.6007686999999999, 0.5956737000000001, 0.5974223, 0.5924404999999999, 0.5882153000000001, 0.5912911000000001, 0.592918, 0.6040765, 0.5943691, 0.5982095, 0.5893338, 0.5889337, 0.5897294999999999, 0.5941728000000001, 0.5941776999999999, 0.5981025999999999, 0.6004683, 0.5949181, 0.5968853000000001, 0.5923194, 0.5916891000000001, 0.5847296999999999, 0.5942697, 0.5903976, 0.5833479, 0.5872734000000001, 0.5934881000000001, 0.5949678, 0.5879300999999999, 0.5975554, 0.585431, 0.5946893, 0.5920308, 0.5928968, 0.5923223000000001, 0.5988007, 0.6032714, 0.5923860999999999, 0.5907937, 0.5929298000000001, 0.5929263000000001, 0.5977355999999999, 0.5920930000000001, 0.5903823, 0.5924057, 0.5911094, 0.5827453, 0.586695, 0.5862604, 0.5934630999999999, 0.5873662, 0.5967718, 0.5993821, 0.5834417, 0.6021971, 0.5911905000000001, 0.5966750999999999, 0.5859072, 0.5971422, 0.5916423999999999, 0.603865, 0.5989312999999999, 0.5918928000000001, 0.5947762, 0.6018405, 0.5846241, 0.5931676, 0.5957353, 0.5883733999999999, 0.5991575, 0.5904704, 0.5852845, 0.5901834, 0.5836538, 0.5947994999999999, 0.600784, 0.5917214000000001, 0.5982149, 0.5875511999999999, 0.5965471, 0.5803214, 0.5947764999999999, 0.5852752, 0.5905597, 0.5863351, 0.5910871, 0.5865049000000001, 0.5966891000000001, 0.5903393000000001, 0.5983918000000001, 0.594628, 0.5922397, 0.5956118, 0.5905157999999999, 0.5975867, 0.6017560000000001, 0.602163, 0.5865225000000001, 0.5976750999999999, 0.6021840999999999, 0.5973189999999999, 0.5885477, 0.5917213, 0.6021408, 0.593158, 0.5969292, 0.595009, 0.5905252000000001, 0.5969924, 0.5881467, 0.5901857, 0.6035367, 0.5983882, 0.5972474, 0.588407, 0.5945883000000001, 0.5970015000000001, 0.601842, 0.5942464, 0.5890667, 0.587418, 0.5992777, 0.600088, 0.5938421, 0.5913874000000001, 0.5927503999999999, 0.5934444000000001, 0.5869444, 0.5915573, 0.600431, 0.5828555000000001, 0.5908964, 0.5905328, 0.5928920000000001, 0.6007505, 0.5976624, 0.606905, 0.5804379000000002, 0.5958888, 0.5909476, 0.6016904999999999, 0.5904033, 0.5967823, 0.5853087, 0.5969786, 0.5831897999999999, 0.5972791, 0.6022465, 0.5868308, 0.5813465000000001, 0.5980583, 0.5941371999999999, 0.5901117, 0.5969321, 0.5968796999999999, 0.5945044, 0.5946667, 0.5961367, 0.5933394, 0.5934507, 0.5965207, 0.5979527, 0.5928604000000001, 0.5914313999999999, 0.5973431, 0.5911471, 0.6005967000000001, 0.5885416, 0.5885544, 0.5963857, 0.5916184000000001, 0.6053782999999999, 0.5931306999999999, 0.5947356, 0.5889034000000001, 0.5947321, 0.5934231, 0.6030363000000001, 0.5935954, 0.5886038000000001, 0.5961322, 0.5959388, 0.5942862999999999, 0.6003770999999999, 0.5874167, 0.5912585, 0.5863995, 0.5863697, 0.6140643, 0.5939347, 0.5956557, 0.601423, 0.5956818, 0.5933307, 0.5812612, 0.5994077999999999, 0.5923974000000001, 0.5849025, 0.5912344, 0.5958204, 0.5947473, 0.5965451, 0.5974851, 0.602103, 0.5885081, 0.5813354, 0.5985238, 0.5945281, 0.6033317, 0.600604, 0.6011203, 0.5900815, 0.5939814, 0.592485, 0.5879554, 0.6031850000000001, 0.5942016999999999, 0.5921752, 0.6046246, 0.591931, 0.5986131, 0.6004788000000001, 0.600018, 0.5957809999999999, 0.5954832, 0.5983428000000001, 0.5912341, 0.5821976999999999, 0.5967288000000001, 0.5884674, 0.599923, 0.5958767]\n"
          ]
        }
      ]
    },
    {
      "cell_type": "code",
      "source": [
        "# Replicate this 1000 times\n",
        "mean_danceability_1000 = []\n",
        "for i in range(1000):\n",
        "\tmean_danceability_1000.append(\n",
        "        np.mean(spotify_sample.sample(frac=1, replace=True)['danceability'])\n",
        "\t)\n",
        "\n",
        "# Draw a histogram of the resample means\n",
        "plt.hist(mean_danceability_1000)\n",
        "plt.show()"
      ],
      "metadata": {
        "colab": {
          "base_uri": "https://localhost:8080/",
          "height": 430
        },
        "id": "UyxCwFubbbSV",
        "outputId": "dc51829e-40af-4a63-d401-4055a7c21cfb"
      },
      "execution_count": null,
      "outputs": [
        {
          "output_type": "display_data",
          "data": {
            "text/plain": [
              "<Figure size 640x480 with 1 Axes>"
            ],
            "image/png": "[encoded data removed]"
          },
          "metadata": {}
        }
      ]
    },
    {
      "cell_type": "markdown",
      "source": [
        "From the smaller sample of Spotify songs, we can estimate the mean danceability statistic in the population. Since we have a distribution of statistics, we can even quantify how accurate our estimate is."
      ],
      "metadata": {
        "id": "RynhsaR_blL1"
      }
    },
    {
      "cell_type": "code",
      "source": [
        "mean_popularity_2000_samp = []\n",
        "\n",
        "# Generate a sampling distribution of 2000 replicates\n",
        "for i in range(2000):\n",
        "    mean_popularity_2000_samp.append(\n",
        "    \t# Sample 500 rows and calculate the mean popularity\n",
        "    \tnp.mean(spotify_population.sample(n=500,replace=False)['popularity'])\n",
        "    )\n",
        "\n",
        "# Print the sampling distribution results\n",
        "print(mean_popularity_2000_samp)"
      ],
      "metadata": {
        "colab": {
          "base_uri": "https://localhost:8080/"
        },
        "id": "vWwOJtN-bdkR",
        "outputId": "022b6a35-33d0-47b6-a848-eadd280c378a"
      },
      "execution_count": null,
      "outputs": [
        {
          "output_type": "stream",
          "name": "stdout",
          "text": [
            "[54.764, 54.492, 55.8, 53.83, 54.64, 54.444, 54.75, 54.566, 54.496, 54.238, 55.062, 54.844, 56.078, 54.546, 55.378, 54.52, 54.166, 54.206, 54.826, 53.884, 55.122, 54.72, 55.108, 54.986, 54.088, 54.908, 54.97, 55.438, 54.71, 54.604, 55.14, 54.566, 55.026, 55.426, 55.138, 55.98, 54.93, 54.952, 55.662, 54.776, 55.68, 54.846, 55.418, 55.314, 54.818, 55.23, 54.672, 54.4, 53.538, 54.766, 55.366, 55.118, 54.28, 55.842, 55.468, 54.43, 53.754, 55.448, 55.16, 54.4, 54.978, 55.442, 54.45, 55.152, 55.09, 54.644, 54.698, 55.086, 55.054, 55.316, 54.376, 54.898, 55.332, 54.434, 54.884, 54.396, 55.208, 55.47, 54.894, 54.22, 55.452, 55.446, 55.526, 55.074, 54.926, 55.618, 55.162, 55.16, 54.81, 54.524, 55.068, 54.904, 55.286, 54.876, 54.956, 54.638, 54.828, 54.71, 54.764, 54.902, 54.754, 55.042, 55.088, 54.49, 55.092, 54.696, 54.89, 54.894, 54.974, 55.08, 55.288, 54.312, 55.09, 54.414, 55.61, 54.534, 55.202, 54.828, 55.236, 53.83, 54.438, 55.428, 54.986, 55.046, 55.752, 54.108, 53.966, 54.814, 54.882, 55.576, 55.03, 55.564, 55.558, 54.952, 54.89, 54.82, 54.436, 54.436, 53.98, 55.314, 54.926, 55.754, 54.722, 54.638, 55.374, 54.87, 54.376, 56.03, 55.004, 54.152, 54.8, 54.428, 55.234, 53.904, 55.576, 54.832, 53.376, 55.1, 53.944, 54.606, 55.072, 54.952, 55.994, 53.998, 54.77, 54.182, 54.894, 55.524, 54.89, 55.2, 55.708, 54.782, 55.094, 54.214, 54.32, 53.892, 54.148, 54.786, 54.668, 54.62, 54.89, 54.884, 54.526, 54.84, 54.73, 55.236, 55.956, 54.85, 55.65, 54.664, 55.07, 55.44, 55.364, 55.2, 54.97, 55.874, 54.454, 54.448, 54.692, 54.446, 55.04, 54.85, 54.886, 54.542, 55.052, 55.0, 54.33, 55.596, 54.166, 54.886, 55.862, 54.616, 55.948, 54.644, 54.9, 54.952, 55.042, 55.306, 54.488, 54.652, 54.034, 54.682, 53.556, 54.844, 55.136, 55.082, 55.214, 55.744, 54.812, 54.662, 55.832, 54.516, 54.412, 54.344, 55.118, 54.928, 54.288, 54.874, 54.346, 54.984, 54.468, 54.64, 54.714, 54.824, 54.808, 56.158, 55.018, 55.216, 55.316, 55.382, 55.242, 55.054, 54.892, 53.876, 54.81, 54.408, 55.478, 55.25, 54.414, 54.718, 54.678, 54.242, 54.688, 54.514, 54.848, 54.374, 54.982, 54.542, 55.294, 55.746, 55.114, 53.654, 55.756, 55.352, 54.634, 55.302, 54.906, 54.24, 54.422, 55.028, 54.732, 54.212, 54.56, 54.956, 55.822, 54.844, 55.268, 54.544, 54.632, 55.38, 54.216, 54.42, 55.146, 55.0, 54.076, 55.186, 54.872, 54.316, 54.878, 54.624, 54.628, 54.268, 54.896, 54.862, 54.906, 54.906, 55.506, 54.458, 54.49, 54.512, 54.998, 54.74, 55.054, 55.942, 55.342, 55.318, 54.658, 55.87, 54.402, 55.006, 55.428, 54.802, 55.09, 54.712, 54.634, 54.814, 55.328, 55.446, 55.326, 54.464, 55.274, 54.686, 55.016, 54.888, 54.858, 54.652, 54.702, 54.46, 54.018, 54.398, 54.798, 55.008, 54.754, 54.526, 54.682, 53.512, 54.788, 54.006, 55.562, 53.922, 54.392, 54.576, 54.856, 54.856, 55.476, 55.438, 55.312, 54.648, 55.082, 55.802, 54.494, 54.908, 54.532, 54.502, 54.386, 54.386, 55.312, 54.644, 54.988, 55.068, 55.294, 55.124, 54.37, 54.288, 55.008, 54.074, 55.088, 55.824, 54.754, 54.348, 54.674, 54.718, 54.488, 55.108, 54.222, 55.288, 54.188, 54.564, 55.336, 55.31, 54.902, 54.274, 54.19, 54.56, 54.314, 56.038, 54.864, 54.692, 55.544, 55.262, 54.684, 55.362, 54.978, 54.97, 54.854, 54.59, 54.788, 55.05, 54.686, 54.156, 55.104, 54.972, 54.802, 55.05, 55.018, 55.43, 54.038, 55.072, 54.812, 54.38, 55.586, 55.032, 55.53, 54.194, 54.53, 53.546, 55.432, 54.928, 55.924, 54.606, 55.206, 54.844, 54.872, 55.168, 54.952, 54.986, 55.344, 55.314, 54.282, 55.518, 54.37, 54.49, 53.81, 54.662, 53.738, 54.386, 55.154, 55.102, 56.016, 54.858, 54.668, 54.264, 54.636, 54.172, 54.664, 54.114, 55.25, 55.03, 55.756, 55.238, 53.718, 53.646, 55.176, 55.418, 55.278, 54.932, 54.16, 54.706, 55.228, 55.188, 55.942, 56.05, 55.342, 55.424, 55.554, 54.116, 55.038, 55.18, 55.258, 53.146, 54.916, 54.274, 54.606, 54.334, 54.784, 55.476, 54.198, 53.852, 54.094, 54.356, 55.398, 54.538, 55.782, 54.354, 55.154, 55.002, 54.886, 54.992, 55.168, 54.862, 54.768, 54.168, 55.352, 55.14, 54.362, 55.002, 54.882, 55.222, 55.038, 55.08, 54.614, 55.022, 53.934, 54.788, 54.212, 54.52, 54.764, 54.208, 54.854, 54.516, 54.652, 54.594, 54.368, 54.758, 54.788, 54.718, 54.342, 54.974, 55.496, 55.396, 55.114, 55.39, 54.358, 54.85, 54.902, 54.636, 54.906, 55.152, 55.236, 53.692, 54.908, 55.38, 54.796, 55.54, 55.964, 54.282, 55.458, 55.15, 54.156, 54.672, 54.102, 54.36, 54.684, 55.55, 55.058, 54.948, 54.508, 55.218, 56.092, 54.446, 54.584, 54.96, 54.57, 56.274, 53.974, 54.602, 55.792, 54.732, 55.208, 54.99, 54.802, 54.096, 54.986, 54.802, 54.362, 55.004, 54.154, 55.318, 55.036, 53.69, 54.77, 53.972, 54.884, 55.386, 55.144, 55.008, 54.766, 55.176, 54.812, 54.786, 54.704, 54.724, 54.786, 55.33, 55.114, 53.75, 54.792, 54.452, 54.486, 54.296, 54.71, 54.32, 54.726, 54.008, 55.57, 53.96, 55.392, 53.98, 53.86, 55.936, 55.174, 55.294, 54.718, 55.576, 54.588, 54.704, 54.976, 54.706, 54.242, 55.538, 54.328, 54.728, 54.994, 54.366, 54.762, 55.2, 55.326, 54.088, 55.412, 54.506, 54.978, 55.34, 55.818, 55.184, 54.992, 54.798, 54.94, 55.276, 54.154, 55.076, 53.906, 55.288, 54.648, 54.86, 54.708, 54.664, 54.6, 55.228, 54.756, 54.572, 54.89, 55.714, 54.604, 54.85, 54.652, 55.434, 54.888, 53.854, 54.734, 55.616, 54.254, 55.576, 55.318, 54.886, 54.484, 55.228, 54.816, 55.426, 54.5, 54.536, 54.922, 55.436, 55.022, 54.094, 54.646, 55.858, 55.236, 55.09, 55.534, 54.868, 54.328, 54.96, 54.798, 54.772, 55.366, 54.638, 55.12, 55.178, 55.774, 55.812, 54.444, 55.746, 54.446, 54.458, 53.836, 54.694, 54.956, 54.892, 55.276, 55.164, 55.134, 54.942, 54.972, 55.062, 54.776, 55.036, 55.838, 54.438, 55.07, 54.798, 54.83, 53.556, 53.704, 55.42, 54.002, 55.594, 54.402, 54.382, 54.904, 54.612, 54.568, 54.038, 55.146, 55.49, 54.54, 55.308, 54.584, 55.49, 55.092, 54.59, 54.404, 55.564, 54.96, 54.292, 54.272, 54.404, 55.066, 54.226, 54.578, 55.384, 55.396, 54.35, 54.116, 54.472, 55.476, 55.18, 54.844, 55.0, 53.87, 54.576, 54.816, 55.242, 54.638, 54.792, 54.48, 54.91, 54.82, 55.314, 55.2, 55.364, 55.016, 54.934, 55.638, 54.424, 54.886, 55.158, 54.312, 55.28, 54.574, 54.342, 54.41, 55.032, 54.512, 54.99, 54.242, 54.506, 55.334, 55.05, 54.558, 56.128, 55.766, 55.01, 55.886, 54.542, 54.75, 54.228, 54.484, 54.944, 54.85, 55.304, 54.88, 54.888, 55.488, 55.0, 55.194, 55.674, 55.718, 55.002, 53.998, 54.658, 55.436, 54.414, 55.726, 54.618, 54.364, 54.778, 54.58, 54.718, 54.882, 54.756, 55.178, 55.192, 54.48, 54.91, 54.882, 54.896, 54.702, 54.892, 54.422, 54.684, 54.1, 54.914, 54.268, 55.108, 55.246, 54.798, 55.04, 54.816, 54.75, 54.94, 54.164, 55.282, 54.136, 54.648, 55.196, 54.91, 55.28, 55.118, 54.83, 54.386, 54.68, 54.49, 55.926, 54.098, 54.796, 54.544, 54.848, 54.502, 55.16, 54.896, 54.558, 55.476, 54.532, 54.446, 54.61, 55.032, 54.174, 55.184, 54.328, 54.38, 53.954, 54.548, 55.56, 54.734, 54.396, 54.684, 54.326, 54.232, 54.126, 54.818, 54.438, 54.236, 54.752, 55.588, 53.856, 54.27, 55.33, 54.934, 55.016, 53.914, 54.532, 54.488, 54.782, 55.362, 56.316, 54.934, 54.86, 55.242, 55.542, 54.908, 55.844, 54.374, 54.004, 55.642, 54.882, 55.13, 55.334, 54.326, 54.85, 54.424, 54.932, 55.278, 54.708, 54.718, 55.07, 54.374, 54.346, 55.04, 54.892, 54.528, 54.432, 52.664, 55.156, 55.644, 54.922, 54.608, 55.776, 55.578, 54.878, 54.204, 55.13, 54.352, 55.252, 55.198, 54.632, 55.03, 54.162, 53.78, 55.29, 54.432, 54.848, 55.066, 54.972, 54.794, 54.874, 54.76, 54.982, 54.842, 54.61, 55.408, 55.522, 55.034, 54.918, 55.548, 54.41, 54.35, 54.958, 54.5, 54.884, 55.606, 55.11, 54.48, 54.552, 54.492, 55.312, 54.756, 54.556, 53.108, 54.476, 55.59, 53.972, 54.628, 54.944, 53.894, 54.582, 55.162, 54.716, 55.302, 54.296, 54.734, 55.294, 54.622, 55.346, 54.97, 54.276, 54.328, 54.38, 54.286, 55.41, 54.806, 54.826, 55.984, 55.142, 54.874, 54.834, 54.64, 55.33, 54.212, 55.48, 55.008, 55.158, 54.31, 54.886, 54.858, 54.216, 55.134, 54.758, 53.832, 55.21, 54.102, 55.238, 54.824, 55.388, 55.502, 54.758, 54.25, 54.704, 54.34, 55.064, 54.388, 54.354, 54.424, 54.444, 54.428, 55.26, 55.404, 55.034, 55.782, 55.274, 54.872, 54.864, 54.0, 53.848, 54.85, 54.88, 54.08, 55.08, 54.914, 54.768, 55.606, 54.42, 55.084, 54.914, 54.972, 54.784, 54.236, 54.678, 54.362, 54.354, 54.07, 55.026, 55.396, 55.286, 55.142, 54.984, 54.534, 54.336, 55.362, 54.25, 54.87, 54.956, 54.736, 53.882, 55.116, 54.822, 54.984, 54.768, 54.614, 54.84, 54.838, 54.752, 54.318, 54.562, 55.218, 54.566, 54.214, 54.732, 54.576, 55.398, 54.708, 53.882, 55.294, 54.486, 54.86, 56.35, 55.404, 55.076, 54.388, 55.198, 54.518, 55.58, 55.202, 54.938, 54.592, 54.594, 55.512, 55.606, 54.816, 54.87, 55.454, 54.558, 54.998, 55.126, 54.42, 55.042, 54.966, 54.834, 56.182, 55.704, 54.368, 54.854, 54.926, 54.954, 55.116, 55.926, 54.214, 55.502, 54.758, 54.868, 55.444, 55.328, 55.382, 55.104, 54.918, 54.962, 54.842, 54.14, 55.018, 54.896, 54.504, 54.738, 53.758, 54.882, 54.9, 54.18, 54.216, 55.428, 53.704, 54.564, 54.164, 54.71, 54.666, 54.652, 55.012, 55.206, 54.096, 54.888, 54.758, 54.75, 55.418, 54.884, 54.808, 53.598, 54.814, 54.832, 55.2, 54.554, 54.182, 55.452, 54.572, 54.988, 54.886, 54.698, 55.756, 54.41, 55.164, 55.292, 54.61, 54.996, 55.37, 54.302, 54.84, 54.77, 55.044, 55.16, 53.984, 54.74, 55.014, 54.524, 55.068, 54.818, 54.49, 55.158, 54.854, 55.136, 55.33, 55.0, 54.808, 53.874, 54.558, 55.638, 54.508, 55.554, 54.992, 55.002, 54.712, 55.078, 53.936, 54.35, 54.834, 54.012, 54.698, 54.198, 55.19, 55.04, 55.396, 54.754, 54.168, 55.166, 55.476, 54.746, 55.13, 54.474, 54.562, 54.788, 54.758, 54.556, 55.156, 54.384, 54.56, 54.868, 55.468, 54.364, 54.586, 54.114, 54.808, 55.456, 55.068, 55.33, 55.148, 54.37, 54.778, 55.232, 55.342, 54.894, 55.418, 54.978, 54.788, 54.856, 54.298, 55.222, 54.942, 55.678, 54.45, 55.324, 55.104, 54.508, 55.858, 55.186, 55.232, 54.768, 55.146, 56.074, 55.466, 54.918, 55.378, 55.456, 54.908, 54.66, 55.506, 55.396, 54.498, 54.904, 54.316, 54.454, 55.186, 54.788, 54.744, 54.864, 54.896, 55.204, 55.82, 55.004, 54.594, 55.23, 54.766, 54.91, 54.66, 54.374, 54.254, 54.462, 54.388, 54.944, 54.89, 55.24, 55.172, 54.706, 54.64, 55.162, 55.664, 54.554, 55.064, 54.112, 54.786, 55.51, 54.526, 54.186, 54.584, 54.428, 54.372, 54.91, 54.682, 54.84, 54.7, 54.384, 54.968, 55.084, 54.962, 54.524, 54.768, 54.992, 55.728, 54.782, 55.32, 56.082, 54.852, 54.7, 55.662, 53.8, 54.874, 54.274, 54.944, 55.074, 54.588, 54.792, 55.458, 55.064, 55.502, 54.122, 54.88, 54.382, 54.346, 54.922, 55.37, 55.002, 54.11, 54.536, 55.036, 54.878, 55.438, 54.09, 54.584, 55.368, 55.844, 54.908, 55.346, 54.872, 54.62, 54.51, 55.192, 54.976, 54.532, 54.956, 54.756, 55.468, 55.136, 54.568, 54.76, 55.302, 55.212, 54.682, 55.436, 54.824, 55.26, 54.134, 54.702, 55.136, 54.472, 54.316, 54.746, 54.954, 53.618, 55.116, 55.072, 54.886, 55.104, 55.104, 55.204, 54.698, 54.464, 54.7, 55.358, 55.622, 54.87, 55.346, 54.608, 54.982, 54.64, 54.558, 55.026, 55.426, 54.666, 54.012, 55.054, 54.7, 55.296, 54.646, 54.444, 55.512, 54.45, 54.346, 54.376, 55.918, 54.262, 54.402, 55.156, 54.632, 54.608, 55.23, 54.89, 54.61, 54.528, 55.372, 54.626, 54.598, 54.854, 54.232, 55.326, 54.578, 54.152, 55.13, 54.264, 54.92, 55.27, 55.188, 54.976, 55.51, 55.108, 55.33, 55.302, 54.608, 55.8, 54.756, 54.422, 54.482, 54.056, 54.552, 54.482, 55.092, 54.788, 54.654, 53.68, 54.114, 54.024, 55.18, 54.1, 54.472, 54.306, 54.76, 54.278, 54.44, 55.014, 54.854, 55.194, 54.288, 54.77, 55.922, 54.822, 54.202, 55.448, 55.448, 54.316, 55.052, 54.99, 55.032, 54.108, 54.382, 55.444, 54.986, 55.11, 54.996, 55.32, 55.242, 54.872, 55.338, 54.348, 54.81, 54.924, 54.334, 54.944, 54.37, 53.816, 55.714, 55.378, 54.5, 54.68, 55.164, 54.726, 54.58, 54.828, 54.786, 54.57, 54.63, 55.052, 55.558, 54.754, 55.838, 54.388, 54.406, 54.448, 55.19, 55.408, 55.046, 54.536, 55.458, 55.164, 54.314, 54.074, 54.574, 55.404, 54.462, 55.122, 54.74, 54.404, 54.622, 54.518, 55.014, 55.1, 54.942, 54.978, 54.182, 55.16, 55.154, 54.856, 55.248, 55.488, 55.24, 55.034, 54.756, 54.46, 55.42, 55.294, 55.028, 55.976, 54.306, 55.842, 54.546, 55.29, 54.864, 55.256, 55.014, 54.64, 55.232, 55.308, 55.386, 53.742, 54.892, 54.614, 54.866, 54.99, 54.698, 55.992, 55.02, 54.398, 54.254, 54.796, 55.502, 55.142, 54.838, 54.52, 54.842, 54.568, 55.226, 55.256, 55.682, 55.142, 54.138, 54.284, 55.022, 55.952, 54.806, 54.614, 54.882, 54.85, 55.89, 55.52, 54.336, 55.236, 55.078, 54.496, 55.37, 54.124, 54.298, 54.714, 54.508, 55.26, 55.014, 55.146, 54.956, 54.664, 54.474, 54.778, 54.094, 54.63, 55.44, 54.54, 54.662, 54.116, 54.444, 55.476, 55.058, 54.462, 55.18, 54.286, 55.472, 55.462, 54.704, 54.494, 54.372, 55.014, 55.236, 55.292, 54.728, 54.522, 54.508, 55.578, 55.128, 54.3, 53.872, 55.462, 54.58, 54.594, 54.704, 53.97, 54.082, 55.014, 55.07, 54.112, 54.674, 54.406, 54.406, 54.224, 55.566, 54.938, 54.754, 55.446, 54.002, 55.052, 54.286, 54.12, 55.244, 54.7, 55.314, 55.428, 54.322, 55.222, 53.796, 55.422, 55.668, 54.592, 54.582, 54.778, 54.772, 55.644, 55.026, 54.686, 54.818, 55.992, 55.334, 55.05, 54.88, 54.802, 54.59, 54.852, 55.058, 55.384, 53.916, 55.268, 54.756, 54.398, 54.622, 55.238, 55.366, 54.206, 54.554, 55.0, 54.402, 55.32, 54.926, 54.52, 55.648, 54.934, 54.252, 54.838, 56.352, 55.602, 55.178, 54.662, 54.676, 55.242, 55.336, 54.442, 54.23, 55.026, 55.422, 54.702, 54.808, 54.228, 54.242, 55.178, 55.054, 55.022, 55.868, 54.204, 55.57, 54.712, 53.398, 55.198, 55.224, 55.2, 55.742, 54.484, 55.406, 55.324, 55.898, 54.586, 55.308, 54.738, 54.734, 55.28, 55.068, 55.254, 54.338, 54.9, 55.2, 55.234, 54.272, 54.24, 55.434, 54.156, 55.984, 54.876, 55.2, 55.112, 54.49, 54.836, 54.76, 54.886, 54.73, 55.064, 55.206, 54.662, 54.458, 54.634, 55.21, 55.064, 55.84, 54.184, 54.814, 53.988, 55.212, 55.524, 54.998, 54.232, 54.602, 55.614, 55.262, 54.95, 54.912, 54.344, 55.586, 54.89, 54.86, 54.542, 54.746, 54.768, 55.552, 54.806, 55.116, 55.124, 54.55, 55.062, 55.42, 54.526, 54.8, 54.952, 55.018, 55.772, 54.756, 54.482, 54.974, 55.122, 54.726, 54.784, 54.21, 54.682, 55.12, 55.096, 54.306, 55.148, 53.386, 55.086, 55.414, 55.936, 54.882, 54.986, 55.856, 55.024, 55.188, 54.58, 55.068, 54.756, 55.058, 54.756, 54.242, 55.492, 54.322, 55.242, 54.56, 54.926, 55.012, 54.698, 55.002, 55.318, 55.078, 55.18, 54.584, 54.88, 55.056, 54.642, 54.674, 54.556, 54.624, 54.854, 55.448, 54.166, 54.96, 54.78, 54.568, 54.55, 54.69, 54.424, 55.144, 54.366, 55.12, 55.396, 54.474, 54.896, 54.948, 54.536, 54.49, 55.082, 55.04, 53.708, 54.876, 55.554, 55.118, 54.45, 54.97, 56.672, 55.116, 55.516, 54.908, 55.856, 54.78, 53.932, 55.012, 54.498, 55.104, 54.358, 54.142, 55.204, 56.316, 55.512, 53.382, 54.73, 55.048, 54.944, 55.09, 54.724, 54.572, 54.814, 54.638, 54.254, 55.044, 53.938, 54.83, 54.702, 55.202, 55.026, 55.346, 54.844, 55.366, 55.834, 53.81, 54.756, 54.474, 54.632, 54.268, 54.784, 54.584, 55.212, 54.962, 54.942, 54.536, 54.686, 54.624, 55.008, 54.826, 54.94, 54.866, 55.152, 54.722, 56.162, 54.956, 55.326, 55.07, 55.486, 54.172, 54.384, 55.02, 55.538, 55.594, 55.78, 54.744, 55.038, 53.986, 55.442, 54.142, 55.434, 54.944, 54.048, 55.792, 55.274, 54.774, 55.632, 54.23, 53.84, 55.58, 55.016, 55.146, 54.876, 54.104, 54.572, 54.056, 54.874, 54.862, 54.822, 54.408, 55.46, 55.136, 55.474, 55.628, 54.966, 55.212, 54.218, 54.744, 55.016, 54.8, 54.82, 54.664, 54.01, 55.214, 54.374, 54.078, 55.046, 55.472, 54.626, 54.608, 54.346, 55.204, 54.204, 54.654, 54.768, 54.57, 55.414, 55.174, 55.066, 54.15, 55.116, 55.494, 53.784, 53.694, 54.276, 54.838, 54.834, 54.794, 55.438, 54.672, 55.4, 54.274, 54.496, 54.954, 54.75, 55.37, 54.626, 55.99, 55.694, 55.524, 54.792, 54.372, 55.708, 55.402, 53.784, 54.87, 54.214, 55.082, 54.784, 55.326, 55.196, 55.102, 54.878, 54.636, 55.258, 54.662, 55.228, 54.472, 53.682, 55.254, 55.414]\n"
          ]
        }
      ]
    },
    {
      "cell_type": "code",
      "source": [
        "mean_popularity_2000_boot = []\n",
        "\n",
        "# Generate a bootstrap distribution of 2000 replicates\n",
        "for i in range(2000):\n",
        "    mean_popularity_2000_boot.append(\n",
        "    \t# Resample 500 rows and calculate the mean popularity\n",
        "    \tspotify_sample.sample(n=500, replace=True)['popularity'].mean()\n",
        "    )\n",
        "\n",
        "# Print the bootstrap distribution results\n",
        "print(mean_popularity_2000_boot)"
      ],
      "metadata": {
        "colab": {
          "base_uri": "https://localhost:8080/"
        },
        "id": "ZC9Qw3akb684",
        "outputId": "f08ca038-acfb-4f33-da9c-3e856c6e2e41"
      },
      "execution_count": null,
      "outputs": [
        {
          "output_type": "stream",
          "name": "stdout",
          "text": [
            "[54.734, 55.568, 54.31, 54.074, 55.536, 54.254, 55.162, 54.978, 55.062, 55.538, 54.712, 54.754, 55.554, 55.142, 54.486, 54.95, 55.46, 54.062, 54.374, 54.476, 54.698, 54.742, 55.096, 55.22, 55.002, 54.824, 55.032, 54.854, 54.786, 55.182, 54.042, 54.086, 54.924, 54.816, 55.106, 54.414, 54.594, 54.602, 54.426, 54.616, 54.958, 54.764, 54.5, 55.38, 55.102, 54.778, 54.458, 55.636, 54.834, 54.076, 54.604, 54.474, 54.108, 55.798, 55.06, 55.18, 54.746, 55.196, 54.274, 55.528, 54.536, 53.62, 54.782, 54.668, 54.796, 55.534, 54.546, 55.31, 54.718, 55.568, 54.668, 54.242, 54.704, 55.218, 55.576, 54.634, 54.69, 54.276, 55.148, 53.976, 54.084, 54.816, 54.534, 55.004, 54.52, 54.614, 54.76, 54.238, 53.824, 54.896, 55.506, 54.642, 54.552, 54.9, 54.262, 54.54, 55.146, 55.478, 54.544, 55.272, 55.444, 55.13, 54.882, 55.382, 55.102, 54.874, 55.248, 54.944, 54.088, 54.45, 54.862, 54.96, 55.134, 55.558, 54.486, 54.926, 55.194, 54.34, 54.538, 54.826, 54.168, 54.512, 54.37, 55.3, 54.686, 54.792, 53.8, 54.974, 54.602, 54.608, 54.594, 55.202, 55.36, 54.62, 54.18, 55.558, 54.666, 55.15, 54.362, 54.516, 53.896, 54.162, 55.012, 54.352, 54.796, 54.314, 54.98, 55.534, 55.094, 54.754, 54.9, 55.038, 54.518, 54.44, 54.884, 54.6, 55.498, 55.192, 54.846, 54.73, 54.406, 55.458, 54.912, 55.056, 55.344, 54.554, 54.418, 54.474, 55.154, 54.832, 54.44, 54.086, 53.652, 55.412, 54.838, 55.43, 54.532, 55.44, 54.6, 55.102, 54.796, 55.012, 54.51, 54.898, 55.15, 54.478, 55.61, 54.444, 55.078, 55.026, 55.14, 54.596, 55.022, 54.654, 53.87, 55.12, 54.782, 55.382, 54.756, 54.548, 54.488, 54.478, 54.686, 54.424, 54.086, 55.272, 54.546, 55.824, 54.704, 55.314, 54.078, 54.34, 55.578, 54.61, 54.552, 54.08, 54.136, 55.114, 55.128, 54.306, 54.838, 55.134, 55.018, 56.136, 53.786, 54.3, 54.946, 54.866, 54.604, 54.508, 54.984, 54.698, 55.014, 54.496, 54.4, 54.924, 54.838, 54.238, 54.278, 54.924, 54.708, 54.442, 54.808, 55.106, 54.574, 54.316, 55.44, 54.396, 54.482, 55.258, 54.658, 54.936, 55.78, 54.42, 55.056, 55.002, 55.026, 54.52, 55.12, 55.052, 55.296, 54.99, 54.898, 54.426, 55.296, 53.892, 54.424, 54.598, 54.9, 55.622, 55.132, 54.066, 55.154, 54.354, 54.152, 55.112, 55.462, 54.528, 54.75, 54.726, 54.534, 54.404, 55.264, 54.514, 54.958, 54.514, 55.474, 54.008, 54.1, 55.512, 54.986, 55.022, 54.53, 54.3, 54.97, 54.956, 55.038, 54.844, 55.61, 54.96, 54.59, 54.294, 54.422, 55.694, 54.916, 54.926, 55.056, 55.304, 54.626, 54.766, 54.62, 54.606, 55.208, 53.816, 54.172, 54.572, 54.476, 55.362, 54.484, 55.052, 54.086, 53.952, 54.792, 54.954, 54.582, 54.39, 54.612, 54.506, 54.276, 53.676, 54.836, 55.352, 55.218, 54.83, 54.638, 55.084, 55.128, 54.486, 55.186, 54.838, 54.696, 54.238, 55.322, 54.396, 54.926, 54.846, 54.08, 53.824, 54.818, 56.06, 54.088, 55.49, 55.008, 54.414, 53.822, 55.126, 55.138, 54.464, 54.922, 55.154, 55.46, 54.846, 53.53, 55.712, 54.71, 54.53, 54.252, 54.21, 53.914, 54.802, 54.378, 55.12, 55.574, 54.716, 55.316, 54.922, 54.69, 54.162, 54.844, 54.974, 54.136, 54.552, 55.556, 54.432, 54.354, 55.428, 55.298, 55.066, 54.57, 54.706, 54.562, 54.558, 55.458, 55.008, 54.504, 54.796, 55.042, 54.684, 54.862, 55.156, 53.648, 55.688, 53.99, 54.526, 54.186, 55.158, 55.45, 54.274, 54.616, 55.508, 55.096, 55.152, 54.48, 54.142, 54.766, 54.71, 54.544, 55.314, 54.718, 54.884, 55.31, 54.744, 54.094, 55.138, 54.444, 54.092, 54.696, 55.152, 55.24, 54.658, 54.282, 54.262, 54.204, 54.918, 54.432, 54.772, 54.944, 55.152, 54.476, 54.086, 55.178, 54.332, 54.468, 55.354, 55.018, 55.146, 54.794, 55.108, 53.666, 54.162, 55.318, 54.93, 54.518, 54.422, 55.242, 54.638, 54.776, 54.954, 55.462, 54.61, 55.206, 54.326, 55.122, 54.738, 54.61, 54.654, 55.794, 55.802, 54.326, 54.99, 54.858, 54.388, 55.148, 53.732, 54.642, 55.07, 54.786, 54.826, 54.62, 54.362, 54.706, 54.846, 54.736, 54.69, 54.404, 55.526, 55.154, 54.74, 53.42, 55.544, 55.864, 54.512, 54.714, 54.682, 54.09, 55.302, 54.794, 54.624, 55.21, 55.322, 55.636, 55.556, 54.692, 55.772, 55.15, 55.212, 54.532, 55.242, 54.866, 55.436, 53.396, 54.48, 55.188, 54.97, 55.59, 55.242, 54.18, 55.354, 54.552, 54.412, 54.64, 54.03, 55.268, 55.342, 55.09, 53.94, 54.144, 55.106, 55.066, 54.942, 55.148, 55.146, 54.574, 55.062, 54.98, 55.056, 55.41, 55.33, 54.898, 55.06, 54.106, 53.53, 54.834, 55.044, 54.786, 54.956, 55.612, 55.03, 54.968, 54.406, 54.91, 54.58, 54.444, 54.74, 54.942, 53.994, 54.83, 54.6, 54.316, 54.362, 55.184, 54.184, 54.216, 54.642, 54.262, 55.068, 54.474, 54.486, 55.18, 55.71, 54.832, 55.03, 55.5, 55.322, 55.106, 54.798, 54.582, 54.168, 55.59, 54.32, 55.11, 54.63, 54.958, 53.998, 54.762, 54.686, 55.892, 55.24, 54.364, 54.484, 55.654, 54.602, 54.968, 54.56, 54.616, 53.716, 54.57, 55.178, 54.81, 53.976, 54.946, 54.718, 55.142, 54.874, 54.09, 54.394, 55.694, 55.552, 55.0, 54.396, 53.52, 54.664, 54.994, 55.676, 54.766, 54.758, 55.192, 55.116, 54.736, 54.03, 55.442, 55.464, 55.696, 55.158, 53.664, 54.64, 54.344, 54.77, 55.59, 55.506, 54.322, 54.174, 55.296, 55.108, 53.976, 55.96, 54.658, 55.16, 54.286, 55.158, 55.33, 54.864, 54.23, 53.964, 54.354, 54.446, 54.162, 54.73, 55.448, 55.352, 54.93, 55.682, 55.234, 55.136, 54.816, 54.904, 54.82, 54.202, 54.61, 55.012, 53.67, 55.54, 54.734, 54.51, 55.644, 54.278, 54.278, 55.284, 55.082, 54.392, 55.518, 55.234, 55.332, 54.402, 54.572, 54.45, 55.028, 54.744, 55.446, 54.994, 54.96, 54.476, 55.128, 54.794, 54.92, 54.87, 54.934, 54.746, 54.612, 54.772, 55.648, 54.478, 54.534, 54.644, 55.118, 54.726, 54.56, 54.1, 54.452, 54.802, 54.15, 54.144, 54.306, 54.08, 55.346, 55.27, 54.67, 54.976, 54.96, 54.952, 54.364, 54.99, 55.252, 53.88, 55.584, 55.214, 55.162, 54.002, 54.648, 54.1, 54.71, 54.966, 55.022, 54.808, 54.694, 54.044, 54.706, 54.646, 54.722, 55.856, 55.824, 54.046, 54.546, 55.312, 54.502, 54.922, 54.652, 55.484, 54.28, 54.852, 55.136, 54.602, 55.308, 54.2, 54.13, 54.902, 55.214, 55.252, 53.898, 54.404, 54.35, 54.726, 55.936, 54.862, 55.356, 55.426, 55.1, 54.484, 54.548, 54.806, 54.764, 55.052, 54.99, 54.844, 54.556, 54.288, 55.086, 54.696, 54.636, 55.296, 54.986, 54.686, 54.788, 54.062, 54.198, 54.348, 54.85, 54.818, 54.1, 54.208, 54.996, 55.356, 53.572, 55.196, 55.628, 55.592, 54.774, 54.742, 55.366, 54.854, 54.892, 55.696, 54.7, 54.854, 54.878, 54.568, 54.318, 54.884, 54.814, 55.89, 55.394, 55.112, 54.422, 55.14, 55.588, 55.248, 54.884, 53.786, 54.298, 54.86, 54.492, 55.108, 53.686, 54.714, 55.426, 54.404, 54.62, 55.004, 53.674, 54.068, 55.202, 54.006, 53.984, 55.178, 55.32, 55.222, 55.52, 54.558, 55.556, 55.494, 54.62, 54.446, 55.088, 55.002, 55.36, 55.136, 54.238, 54.734, 54.832, 54.36, 55.154, 54.832, 54.684, 55.364, 54.658, 55.586, 54.68, 55.028, 54.656, 54.686, 54.628, 53.954, 55.8, 54.87, 55.124, 54.428, 54.67, 54.048, 55.138, 55.326, 53.712, 54.308, 54.926, 55.07, 55.138, 54.954, 54.596, 54.874, 55.088, 54.42, 54.452, 54.61, 55.002, 53.944, 54.758, 55.244, 54.84, 54.872, 54.528, 55.97, 54.824, 54.17, 54.508, 54.142, 54.534, 53.884, 54.448, 54.506, 54.224, 54.528, 55.07, 54.148, 54.566, 53.692, 54.128, 54.604, 54.354, 54.478, 54.072, 54.678, 53.658, 55.03, 54.206, 54.776, 55.564, 54.45, 55.562, 54.566, 54.62, 55.414, 55.866, 54.68, 54.952, 54.14, 54.42, 55.324, 54.106, 55.016, 53.624, 54.6, 55.152, 54.99, 54.738, 54.844, 54.894, 55.684, 55.332, 54.668, 55.176, 55.408, 55.244, 54.538, 55.36, 54.434, 54.374, 54.698, 54.708, 55.446, 54.374, 54.616, 53.714, 54.866, 54.08, 55.064, 54.204, 54.886, 54.306, 54.418, 55.566, 55.31, 54.786, 54.474, 54.742, 54.762, 54.482, 54.836, 54.404, 54.35, 55.138, 56.014, 55.194, 54.948, 55.42, 54.656, 54.04, 54.896, 55.09, 55.42, 54.494, 55.006, 54.526, 55.228, 55.042, 53.266, 56.264, 54.172, 55.072, 53.962, 55.168, 53.978, 55.462, 54.248, 53.888, 54.85, 54.734, 54.814, 54.87, 54.398, 54.308, 54.178, 55.03, 55.852, 55.328, 55.064, 54.82, 55.776, 55.038, 55.2, 55.098, 54.5, 55.018, 54.26, 54.94, 55.008, 53.878, 54.504, 54.246, 54.232, 55.172, 55.232, 55.182, 55.066, 54.858, 54.854, 54.246, 55.062, 55.114, 54.438, 54.534, 54.478, 54.994, 54.958, 55.038, 54.65, 53.93, 55.102, 55.26, 54.724, 55.062, 55.512, 54.554, 54.85, 54.956, 55.866, 54.246, 54.982, 54.854, 54.796, 54.844, 55.508, 54.49, 54.018, 54.404, 54.372, 55.264, 55.044, 54.566, 54.796, 54.144, 54.188, 54.876, 54.204, 54.618, 54.474, 55.904, 54.786, 55.418, 55.032, 54.474, 55.544, 54.19, 54.646, 55.06, 54.776, 54.29, 53.258, 55.116, 55.738, 54.996, 53.58, 54.432, 54.804, 55.89, 54.946, 54.76, 54.898, 54.69, 54.374, 54.334, 55.458, 55.308, 54.036, 54.96, 54.836, 55.07, 55.192, 54.564, 54.858, 54.514, 54.426, 54.592, 53.764, 54.65, 54.54, 55.146, 53.994, 54.842, 54.678, 54.596, 54.896, 54.542, 55.272, 54.908, 54.056, 54.944, 54.358, 55.73, 54.022, 55.246, 55.044, 55.21, 54.346, 54.898, 54.468, 54.37, 54.478, 54.886, 54.878, 55.226, 54.848, 54.972, 54.802, 55.256, 53.954, 55.052, 54.154, 54.542, 55.392, 54.844, 54.72, 55.46, 54.926, 54.322, 54.014, 54.398, 54.33, 54.748, 55.138, 55.366, 54.152, 55.22, 54.13, 55.264, 54.238, 54.746, 55.1, 55.262, 55.854, 55.734, 54.358, 55.756, 54.64, 55.38, 54.824, 53.704, 54.95, 55.106, 54.174, 55.054, 54.926, 55.302, 54.182, 54.288, 55.61, 55.01, 54.742, 54.852, 54.906, 55.454, 55.192, 54.592, 55.51, 53.992, 55.244, 54.066, 54.87, 56.288, 54.696, 54.352, 54.992, 55.348, 53.222, 55.48, 54.094, 54.594, 54.38, 54.926, 54.514, 54.536, 53.968, 54.564, 54.428, 55.192, 54.926, 55.132, 55.16, 54.516, 55.11, 55.154, 54.92, 54.562, 54.462, 55.558, 54.76, 55.328, 54.07, 54.45, 54.014, 55.33, 54.916, 54.86, 53.758, 54.846, 55.38, 54.016, 55.342, 54.374, 54.354, 54.724, 54.85, 54.77, 54.894, 54.338, 55.062, 55.598, 54.83, 54.61, 55.382, 54.684, 55.46, 54.988, 54.69, 54.878, 54.982, 55.136, 54.396, 54.42, 54.576, 55.13, 54.138, 54.726, 54.302, 55.55, 55.166, 54.332, 54.842, 55.188, 54.608, 54.704, 55.446, 54.458, 54.956, 55.23, 54.418, 55.236, 53.236, 54.792, 54.476, 54.386, 54.15, 54.894, 54.506, 54.788, 54.714, 55.06, 54.718, 54.584, 54.132, 55.46, 55.166, 54.58, 54.956, 54.702, 55.15, 54.37, 55.034, 54.98, 54.048, 55.184, 53.694, 54.76, 54.504, 55.088, 55.078, 54.61, 54.094, 55.348, 55.51, 54.828, 55.248, 54.654, 54.344, 53.806, 53.828, 55.822, 55.532, 55.146, 54.62, 53.938, 53.89, 54.812, 54.966, 54.82, 54.676, 54.128, 54.87, 54.874, 54.636, 55.678, 54.598, 55.238, 54.932, 54.598, 54.586, 55.27, 54.908, 54.414, 55.094, 54.192, 55.692, 54.408, 54.112, 54.532, 54.724, 54.448, 55.238, 54.556, 54.676, 54.602, 54.688, 54.748, 54.764, 55.75, 54.274, 55.252, 55.386, 54.454, 53.876, 54.592, 54.3, 54.78, 54.936, 54.586, 54.066, 55.464, 54.71, 54.88, 55.34, 53.906, 54.804, 54.792, 54.84, 54.446, 55.128, 54.596, 55.488, 54.91, 54.556, 53.64, 54.318, 54.616, 55.288, 54.532, 54.234, 54.888, 55.35, 55.378, 54.506, 53.872, 54.876, 54.262, 54.932, 54.726, 54.386, 54.354, 55.844, 54.97, 54.966, 54.748, 55.766, 55.032, 54.358, 54.266, 54.714, 54.814, 55.426, 55.118, 53.464, 54.702, 55.152, 55.988, 53.788, 55.288, 54.524, 54.01, 54.922, 55.67, 55.866, 54.496, 54.052, 55.112, 55.382, 55.938, 54.566, 54.04, 54.67, 54.722, 54.22, 55.658, 55.15, 55.254, 54.52, 53.964, 55.516, 54.408, 54.066, 54.632, 55.156, 54.298, 55.22, 56.046, 54.452, 54.508, 55.02, 55.066, 54.662, 55.316, 54.436, 54.98, 54.456, 54.874, 54.45, 54.708, 54.822, 55.494, 54.232, 55.214, 54.458, 54.832, 54.472, 55.03, 54.514, 54.834, 54.636, 54.818, 54.23, 55.05, 56.142, 55.064, 54.324, 55.378, 54.616, 54.042, 55.272, 55.248, 54.316, 54.762, 55.162, 54.95, 53.622, 54.736, 54.626, 55.916, 55.112, 55.386, 55.748, 55.578, 55.574, 54.914, 55.654, 55.366, 54.472, 55.296, 55.41, 54.77, 54.552, 54.336, 54.27, 54.806, 55.086, 54.646, 54.914, 54.774, 53.666, 55.178, 53.986, 55.32, 55.198, 54.958, 54.864, 54.154, 53.616, 54.52, 54.386, 54.76, 55.704, 55.306, 55.308, 53.614, 55.066, 54.524, 54.772, 53.846, 55.114, 54.864, 54.89, 54.852, 55.07, 55.08, 54.662, 54.374, 54.882, 55.006, 55.156, 55.762, 54.608, 55.176, 54.024, 53.982, 55.476, 54.738, 54.39, 53.886, 54.824, 55.496, 53.978, 54.824, 54.9, 54.47, 54.362, 55.23, 55.848, 53.832, 55.026, 53.49, 55.378, 54.578, 56.332, 54.468, 54.718, 55.02, 54.622, 54.776, 55.052, 54.988, 55.16, 53.568, 54.026, 54.54, 54.746, 54.1, 55.32, 55.464, 54.458, 55.094, 54.606, 54.32, 55.956, 53.938, 55.03, 55.2, 55.326, 55.194, 54.464, 54.346, 56.192, 55.15, 54.966, 54.966, 54.258, 54.234, 55.226, 55.044, 54.826, 54.992, 55.384, 54.908, 54.266, 54.076, 55.666, 54.742, 55.702, 54.126, 54.096, 53.82, 55.026, 54.514, 55.066, 54.472, 55.588, 55.052, 55.038, 54.062, 55.94, 55.554, 54.526, 54.838, 54.992, 54.658, 54.144, 54.638, 54.464, 54.256, 54.466, 55.606, 55.168, 55.302, 53.884, 55.574, 54.788, 55.116, 53.646, 55.318, 54.336, 54.614, 54.742, 54.908, 54.75, 54.92, 53.948, 54.812, 54.284, 55.51, 55.572, 55.164, 55.968, 55.18, 54.78, 54.008, 55.276, 55.02, 55.14, 55.664, 55.748, 55.128, 54.724, 55.204, 54.796, 53.832, 54.542, 54.61, 54.216, 54.572, 54.67, 55.438, 54.592, 54.206, 54.47, 54.594, 54.38, 55.228, 54.67, 54.662, 54.17, 54.958, 54.444, 54.736, 55.198, 53.982, 54.322, 56.074, 55.488, 55.456, 54.252, 54.104, 54.774, 54.292, 55.074, 53.812, 54.754, 54.35, 54.204, 54.808, 54.584, 54.766, 55.398, 54.542, 54.62, 54.712, 55.68, 54.904, 54.796, 54.58, 55.518, 53.96, 55.18, 54.814, 55.868, 55.434, 55.096, 55.218, 55.044, 55.622, 55.396, 54.544, 54.098, 55.336, 55.36, 54.506, 54.886, 54.316, 55.938, 54.762, 54.158, 54.9, 55.05, 54.922, 54.254, 54.618, 55.32, 55.07, 54.754, 54.53, 55.598, 54.144, 54.79, 55.678, 55.166, 54.534, 54.456, 55.016, 55.526, 55.672, 55.37, 54.238, 55.342, 54.342, 55.882, 55.926, 55.49, 55.264, 54.94, 55.03, 54.936, 56.16, 55.646, 54.6, 54.496, 55.392, 55.224, 53.576, 55.226, 55.518, 55.89, 54.958, 55.488, 55.602, 55.568, 54.59, 53.842, 54.282, 54.73, 54.674, 55.05, 55.062, 54.47, 54.204, 54.916, 54.91, 55.112, 54.53, 54.826, 55.012, 54.742, 54.314, 54.684, 54.864, 55.392, 54.68, 54.002, 55.718, 54.708, 53.93, 55.71, 54.15, 54.654, 54.864, 54.494, 55.272, 53.754, 55.012, 55.23, 54.246, 54.57, 55.0, 54.898, 54.618, 55.61, 55.006, 55.384, 55.24, 55.234, 55.188, 54.74, 53.682, 53.896, 55.358, 54.184, 54.158, 55.2, 54.552, 54.804, 55.426, 53.986, 54.64, 54.462, 55.024, 54.672, 54.68, 56.028, 54.99, 55.422, 54.122, 54.124, 55.702, 54.846, 55.056, 54.482, 54.586, 55.44, 54.836, 55.204, 54.674, 54.732, 54.546, 54.044, 54.544, 54.276, 55.726, 54.502, 54.494, 54.512, 54.454, 54.372, 54.778, 55.2, 56.024, 55.164, 54.73, 53.604, 54.842, 55.048, 54.87, 54.64, 54.314, 54.974, 54.044, 55.428, 54.76, 54.398, 55.576, 55.232, 55.594, 54.572, 54.842, 54.064, 54.818, 54.306, 55.278, 55.746, 54.532, 55.25, 54.952, 55.164, 55.23, 55.098, 54.74, 54.426, 55.542, 55.032, 54.184, 54.798, 55.092, 54.342, 54.998, 54.938, 54.436, 54.392, 54.996, 54.634, 54.76, 56.05, 53.892, 54.39, 55.778, 54.884, 55.368, 54.624, 55.106, 54.614, 55.558, 53.644, 55.332, 54.782, 54.948, 55.126, 54.47, 55.532, 55.246, 54.45, 54.304, 54.638, 55.156, 55.354, 53.562, 55.348, 54.944, 55.708, 55.014, 54.242, 54.742, 53.908, 54.56, 54.968, 54.954, 54.25, 54.23, 55.088, 55.908, 54.918, 55.15, 55.268, 54.612, 55.354, 54.9, 55.49, 53.316, 55.228, 54.974, 53.822, 55.442, 54.842, 55.172, 54.75, 54.678, 53.814, 54.936, 54.25, 55.214, 55.22, 54.86, 55.116, 54.884, 54.994, 54.65, 55.042, 54.66, 54.76, 53.834, 54.652, 54.724, 54.654, 54.908, 55.536, 55.19, 54.778, 55.294, 53.802, 54.432, 55.084, 54.976, 54.578, 55.008, 54.656, 54.642, 54.426, 55.064, 54.79, 54.914, 55.148, 53.672, 53.944, 54.776, 55.5, 55.69, 55.012, 55.142, 54.226, 54.886, 55.21, 55.152, 55.182, 53.738, 55.438, 54.738, 54.626, 54.074, 55.13, 54.356, 54.404, 55.42, 54.708, 53.952, 54.188, 54.288, 54.966, 54.76, 55.442, 55.002, 55.066]\n"
          ]
        }
      ]
    },
    {
      "cell_type": "markdown",
      "source": [
        "The sampling distribution and bootstrap distribution are closely related"
      ],
      "metadata": {
        "id": "-WdISrfccDa6"
      }
    },
    {
      "cell_type": "code",
      "source": [
        "sampling_distribution = mean_popularity_2000_samp\n",
        "bootstrap_distribution = mean_popularity_2000_boot"
      ],
      "metadata": {
        "id": "moHXthk6dQGK"
      },
      "execution_count": null,
      "outputs": []
    },
    {
      "cell_type": "code",
      "source": [
        "# Calculate the population mean popularity\n",
        "pop_mean = spotify_population['popularity'].mean()\n",
        "\n",
        "# Calculate the original sample mean popularity\n",
        "samp_mean = spotify_sample['popularity'].mean()\n",
        "\n",
        "# Calculate the sampling dist'n estimate of mean popularity\n",
        "samp_distn_mean =np.mean(sampling_distribution)\n",
        "\n",
        "# Calculate the bootstrap dist'n estimate of mean popularity\n",
        "boot_distn_mean = np.mean(bootstrap_distribution)\n",
        "\n",
        "# Print the means\n",
        "print([pop_mean, samp_mean, samp_distn_mean, boot_distn_mean])"
      ],
      "metadata": {
        "colab": {
          "base_uri": "https://localhost:8080/"
        },
        "id": "Z3yZ3t_eb9k8",
        "outputId": "46617cef-a765-496f-a188-1f65517926b5"
      },
      "execution_count": null,
      "outputs": [
        {
          "output_type": "stream",
          "name": "stdout",
          "text": [
            "[54.837142308430955, 54.795, 54.855675000000005, 54.798052000000006]\n"
          ]
        }
      ]
    },
    {
      "cell_type": "markdown",
      "source": [
        "The sampling distribution mean can be used to estimate the population mean, but that is not the case with the bootstrap distribution."
      ],
      "metadata": {
        "id": "M__d5JojdvAF"
      }
    },
    {
      "cell_type": "code",
      "source": [
        "# Calculate the population std dev popularity\n",
        "pop_sd = spotify_population['popularity'].std(ddof=0)\n",
        "\n",
        "# Calculate the original sample std dev popularity\n",
        "samp_sd = spotify_sample['popularity'].std()\n",
        "\n",
        "# Calculate the sampling dist'n estimate of std dev popularity\n",
        "samp_distn_sd = np.std(sampling_distribution, ddof=1) * np.sqrt(500)\n",
        "\n",
        "# Calculate the bootstrap dist'n estimate of std dev popularity\n",
        "boot_distn_sd = np.std(bootstrap_distribution, ddof=1) * np.sqrt(500)\n",
        "\n",
        "# Print the standard deviations\n",
        "print([pop_sd, samp_sd, samp_distn_sd, boot_distn_sd])"
      ],
      "metadata": {
        "colab": {
          "base_uri": "https://localhost:8080/"
        },
        "id": "ZoPf4sGrdv7l",
        "outputId": "64dbbb70-3ed0-4590-a2c6-1de7d7e5370b"
      },
      "execution_count": null,
      "outputs": [
        {
          "output_type": "stream",
          "name": "stdout",
          "text": [
            "[10.880065274257536, 11.41942986222948, 10.98969311968867, 11.337729874509874]\n"
          ]
        }
      ]
    },
    {
      "cell_type": "markdown",
      "source": [
        "This is an important property of the bootstrap distribution. When you don't have all the values from the population or the ability to sample multiple times, you can use bootstrapping to get a good estimate of the population standard deviation."
      ],
      "metadata": {
        "id": "7ilxzBGLeNrh"
      }
    },
    {
      "cell_type": "markdown",
      "source": [
        "## **Calculating confidence intervals**"
      ],
      "metadata": {
        "id": "5YL3zaAwev0f"
      }
    },
    {
      "cell_type": "code",
      "source": [
        "# Generate a 95% confidence interval using the quantile method\n",
        "lower_quant = np.quantile(bootstrap_distribution,0.025)\n",
        "upper_quant = np.quantile(bootstrap_distribution,0.975)\n",
        "\n",
        "# Print quantile method confidence interval\n",
        "print((lower_quant, upper_quant))"
      ],
      "metadata": {
        "colab": {
          "base_uri": "https://localhost:8080/"
        },
        "id": "HhoO3nbSetET",
        "outputId": "b1b829c4-96ce-4ff0-df6b-89d6d493b519"
      },
      "execution_count": null,
      "outputs": [
        {
          "output_type": "stream",
          "name": "stdout",
          "text": [
            "(53.786, 55.77805)\n"
          ]
        }
      ]
    },
    {
      "cell_type": "code",
      "source": [
        "from scipy.stats import norm"
      ],
      "metadata": {
        "id": "4y4AVhn2fIaQ"
      },
      "execution_count": null,
      "outputs": []
    },
    {
      "cell_type": "code",
      "source": [
        "# Find the mean and std dev of the bootstrap distribution\n",
        "point_estimate =np.mean(bootstrap_distribution)\n",
        "standard_error =np.std(bootstrap_distribution,ddof=1)\n",
        "# Find the lower limit of the confidence interval\n",
        "lower_se = norm.ppf(0.025,loc=point_estimate, scale=standard_error)\n",
        "\n",
        "# Find the upper limit of the confidence interval\n",
        "upper_se = norm.ppf(0.975,loc=point_estimate, scale=standard_error)\n",
        "\n",
        "\n",
        "# Print standard error method confidence interval\n",
        "print((lower_se, upper_se))"
      ],
      "metadata": {
        "colab": {
          "base_uri": "https://localhost:8080/"
        },
        "id": "p9CjRGHre7Lh",
        "outputId": "89d0f111-b823-41ce-a6af-fdb802cacbb7"
      },
      "execution_count": null,
      "outputs": [
        {
          "output_type": "stream",
          "name": "stdout",
          "text": [
            "(53.80427442060237, 55.79182957939764)\n"
          ]
        }
      ]
    },
    {
      "cell_type": "markdown",
      "source": [
        "The standard error method for calculating the confidence interval assumes that the bootstrap distribution is normal."
      ],
      "metadata": {
        "id": "0a_6i3EPfhus"
      }
    },
    {
      "cell_type": "code",
      "source": [],
      "metadata": {
        "id": "Z0v0Q85jfimB"
      },
      "execution_count": null,
      "outputs": []
    }
  ]
}