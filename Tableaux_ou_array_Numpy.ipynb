{
  "nbformat": 4,
  "nbformat_minor": 0,
  "metadata": {
    "colab": {
      "provenance": [],
      "authorship_tag": "ABX9TyMRSKr1i3lu31EyVqrByn+k",
      "include_colab_link": true
    },
    "kernelspec": {
      "name": "python3",
      "display_name": "Python 3"
    },
    "language_info": {
      "name": "python"
    }
  },
  "cells": [
    {
      "cell_type": "markdown",
      "metadata": {
        "id": "view-in-github",
        "colab_type": "text"
      },
      "source": [
        "<a href=\"https://colab.research.google.com/github/othniel77/datascience/blob/main/Tableaux_ou_array_Numpy.ipynb\" target=\"_parent\"><img src=\"https://colab.research.google.com/assets/colab-badge.svg\" alt=\"Open In Colab\"/></a>"
      ]
    },
    {
      "cell_type": "code",
      "execution_count": 1,
      "metadata": {
        "id": "FUzCaNvs0yef"
      },
      "outputs": [],
      "source": [
        "import numpy as np"
      ]
    },
    {
      "cell_type": "code",
      "source": [
        "# créons une liste python\n",
        "my_list = [1,2,3]"
      ],
      "metadata": {
        "id": "_XbRZFko1BAS"
      },
      "execution_count": 2,
      "outputs": []
    },
    {
      "cell_type": "code",
      "source": [
        "# nous voulons savoir le type de notre liste qui est une list\n",
        "type(my_list)"
      ],
      "metadata": {
        "colab": {
          "base_uri": "https://localhost:8080/"
        },
        "id": "DkOtl4Ue1OVd",
        "outputId": "e59f1d17-91d5-42d6-8a91-6c0c52a5c076"
      },
      "execution_count": 3,
      "outputs": [
        {
          "output_type": "execute_result",
          "data": {
            "text/plain": [
              "list"
            ]
          },
          "metadata": {},
          "execution_count": 3
        }
      ]
    },
    {
      "cell_type": "code",
      "source": [
        "# pour transformer cette liste en tableau numpy, on fait\n",
        "np.array(my_list)\n",
        "# nous remarquerons une sortie différente mais qui ne change en rien notre liste d'origine ,qui est notre liste standard, notre liste Python"
      ],
      "metadata": {
        "colab": {
          "base_uri": "https://localhost:8080/"
        },
        "id": "pU4aXMUs1dOd",
        "outputId": "75f426f2-225b-48d1-96b9-d4c2d13f44c0"
      },
      "execution_count": 4,
      "outputs": [
        {
          "output_type": "execute_result",
          "data": {
            "text/plain": [
              "array([1, 2, 3])"
            ]
          },
          "metadata": {},
          "execution_count": 4
        }
      ]
    },
    {
      "cell_type": "code",
      "source": [
        "# Assignons une variable pour sauvegarder notre tableau\n",
        "my_arr = np.array(my_list)\n",
        "my_arr\n",
        "# nous obtiendrons le meme résultat que précédement et si on cherche le type, nous obtenons un type numpy\n"
      ],
      "metadata": {
        "colab": {
          "base_uri": "https://localhost:8080/"
        },
        "id": "umXGfBHZ2EkO",
        "outputId": "c7ddf599-87d9-45c0-b0f0-11ce06284ae8"
      },
      "execution_count": 6,
      "outputs": [
        {
          "output_type": "execute_result",
          "data": {
            "text/plain": [
              "array([1, 2, 3])"
            ]
          },
          "metadata": {},
          "execution_count": 6
        }
      ]
    },
    {
      "cell_type": "code",
      "source": [],
      "metadata": {
        "id": "1lAGcRJT2_gT"
      },
      "execution_count": null,
      "outputs": []
    },
    {
      "cell_type": "code",
      "source": [
        "# nous obtenons aussi ndarray pour n dimension\n",
        "type(my_arr)"
      ],
      "metadata": {
        "colab": {
          "base_uri": "https://localhost:8080/"
        },
        "id": "1h8iQem02zTp",
        "outputId": "b03c124e-3f42-41c0-beed-d7d41f491b85"
      },
      "execution_count": 7,
      "outputs": [
        {
          "output_type": "execute_result",
          "data": {
            "text/plain": [
              "numpy.ndarray"
            ]
          },
          "metadata": {},
          "execution_count": 7
        }
      ]
    },
    {
      "cell_type": "code",
      "source": [
        "# créons une liste de liste ou une liste imbriqué en Python\n",
        "my_matrix = [[1,2,3],[4,5,6],[7,8,9]]\n",
        "my_matrix\n",
        "# nous trouvons une liste standard Python dans lequel on trouve trois listes python qui contiennent chacune trois élements\n",
        "# qu'est ce qui se produit quand on passe la liste imbriqué dans la fonction numpy"
      ],
      "metadata": {
        "colab": {
          "base_uri": "https://localhost:8080/"
        },
        "id": "G4DsBRb83LW3",
        "outputId": "0e52394d-a9bd-4049-b65c-46c0af9648b0"
      },
      "execution_count": 8,
      "outputs": [
        {
          "output_type": "execute_result",
          "data": {
            "text/plain": [
              "[[1, 2, 3], [4, 5, 6], [7, 8, 9]]"
            ]
          },
          "metadata": {},
          "execution_count": 8
        }
      ]
    },
    {
      "cell_type": "code",
      "source": [
        "np.array(my_matrix)\n",
        "# nous notons que numpy sait déja que c'est une tableau de dimension 2, en effet trois lignes pour trois colonnes, cela va etre une des idées clés de numpy\n",
        "# cette idée clé est de manipuler les données et appliquer des fonctions sur des dataset bidimensionnels"
      ],
      "metadata": {
        "colab": {
          "base_uri": "https://localhost:8080/"
        },
        "id": "6UuChrSF4Xnm",
        "outputId": "a04640ea-8fac-460c-afd7-47efbee3a798"
      },
      "execution_count": 9,
      "outputs": [
        {
          "output_type": "execute_result",
          "data": {
            "text/plain": [
              "array([[1, 2, 3],\n",
              "       [4, 5, 6],\n",
              "       [7, 8, 9]])"
            ]
          },
          "metadata": {},
          "execution_count": 9
        }
      ]
    },
    {
      "cell_type": "code",
      "source": [
        "# regardons certains fonctions numpy, une des plus utiles np.arange équivalent de la fonction range de python avec des parametre start,step,stop\n",
        "np.arange(0,10)\n",
        "# cela démarre à 0 et va à 10 non inclus soit de 0 à 9\n",
        "\n"
      ],
      "metadata": {
        "colab": {
          "base_uri": "https://localhost:8080/"
        },
        "id": "7Jp00UD25cvk",
        "outputId": "727150a5-fee8-4fab-b653-dc3f78c8341f"
      },
      "execution_count": 10,
      "outputs": [
        {
          "output_type": "execute_result",
          "data": {
            "text/plain": [
              "array([0, 1, 2, 3, 4, 5, 6, 7, 8, 9])"
            ]
          },
          "metadata": {},
          "execution_count": 10
        }
      ]
    },
    {
      "cell_type": "code",
      "source": [
        "# ajouter la valeur step , ici 2 càd qui démarre à la valeur 0 et qui va à une valeur + 2\n",
        "np.arange(0,10,2)\n",
        "# la liste s'arrete à 8 car la fonction n'inclut pas 10"
      ],
      "metadata": {
        "colab": {
          "base_uri": "https://localhost:8080/"
        },
        "id": "_Z0wl6h96pbt",
        "outputId": "6178969c-f15a-4394-f39b-b0dbe8497c8d"
      },
      "execution_count": 11,
      "outputs": [
        {
          "output_type": "execute_result",
          "data": {
            "text/plain": [
              "array([0, 2, 4, 6, 8])"
            ]
          },
          "metadata": {},
          "execution_count": 11
        }
      ]
    },
    {
      "cell_type": "code",
      "source": [
        "# un autre exemple\n",
        "np.arange(0,101,2)"
      ],
      "metadata": {
        "colab": {
          "base_uri": "https://localhost:8080/"
        },
        "id": "e-KuVjMJ7Gfg",
        "outputId": "d29be019-bed4-4883-c19e-cd4b660169cc"
      },
      "execution_count": 12,
      "outputs": [
        {
          "output_type": "execute_result",
          "data": {
            "text/plain": [
              "array([  0,   2,   4,   6,   8,  10,  12,  14,  16,  18,  20,  22,  24,\n",
              "        26,  28,  30,  32,  34,  36,  38,  40,  42,  44,  46,  48,  50,\n",
              "        52,  54,  56,  58,  60,  62,  64,  66,  68,  70,  72,  74,  76,\n",
              "        78,  80,  82,  84,  86,  88,  90,  92,  94,  96,  98, 100])"
            ]
          },
          "metadata": {},
          "execution_count": 12
        }
      ]
    },
    {
      "cell_type": "code",
      "source": [
        "np.arange(0,101,20)"
      ],
      "metadata": {
        "colab": {
          "base_uri": "https://localhost:8080/"
        },
        "id": "JfpoDSki7MU-",
        "outputId": "68bad05b-8e8a-4760-f704-a6ce07579a6f"
      },
      "execution_count": 13,
      "outputs": [
        {
          "output_type": "execute_result",
          "data": {
            "text/plain": [
              "array([  0,  20,  40,  60,  80, 100])"
            ]
          },
          "metadata": {},
          "execution_count": 13
        }
      ]
    },
    {
      "cell_type": "code",
      "source": [
        "# il est souvent besoin de créer de gros dataset de 0 et 1, lorsqu'on veut créer des dataset réel.on utilise np.zerosn qui demande shape(vecteur de 0 shape)\n",
        "np.zeros(5)\n",
        "# nous obtenons un vecteur de 5 zéros car le shape est 5.les 0 sont des nombres décimaux mais numpy retient les nombre avant la virgule"
      ],
      "metadata": {
        "colab": {
          "base_uri": "https://localhost:8080/"
        },
        "id": "QOm1nd087Tcr",
        "outputId": "3d67ae29-0c53-4e22-8cf5-285817b4bcf6"
      },
      "execution_count": 14,
      "outputs": [
        {
          "output_type": "execute_result",
          "data": {
            "text/plain": [
              "array([0., 0., 0., 0., 0.])"
            ]
          },
          "metadata": {},
          "execution_count": 14
        }
      ]
    },
    {
      "cell_type": "code",
      "source": [
        "# faisons un tuple de shape\n",
        "np.zeros((5,5))\n",
        "# le premier nombre est le nombre de lignes et le deuxime le nombre de colonnes"
      ],
      "metadata": {
        "colab": {
          "base_uri": "https://localhost:8080/"
        },
        "id": "TOLIuQm88VHi",
        "outputId": "ecd829dc-5e86-4022-95af-6b9056d73b41"
      },
      "execution_count": 15,
      "outputs": [
        {
          "output_type": "execute_result",
          "data": {
            "text/plain": [
              "array([[0., 0., 0., 0., 0.],\n",
              "       [0., 0., 0., 0., 0.],\n",
              "       [0., 0., 0., 0., 0.],\n",
              "       [0., 0., 0., 0., 0.],\n",
              "       [0., 0., 0., 0., 0.]])"
            ]
          },
          "metadata": {},
          "execution_count": 15
        }
      ]
    },
    {
      "cell_type": "code",
      "source": [
        "# changeons pour avoir 2 lignes , pour avoir un tuple de 5\n",
        "np.zeros((2,5))"
      ],
      "metadata": {
        "colab": {
          "base_uri": "https://localhost:8080/"
        },
        "id": "nUdd4FI08zO8",
        "outputId": "72f578f2-afc7-4af3-a601-d4ff8a9b86c6"
      },
      "execution_count": 16,
      "outputs": [
        {
          "output_type": "execute_result",
          "data": {
            "text/plain": [
              "array([[0., 0., 0., 0., 0.],\n",
              "       [0., 0., 0., 0., 0.]])"
            ]
          },
          "metadata": {},
          "execution_count": 16
        }
      ]
    },
    {
      "cell_type": "code",
      "source": [
        "# nous avons une autre fonction pour les 1\n",
        "np.ones((4,4))\n",
        "# 4 lignes et 4 colonnes"
      ],
      "metadata": {
        "colab": {
          "base_uri": "https://localhost:8080/"
        },
        "id": "Ik-W9xBh8_ev",
        "outputId": "d1c5ee4c-ce6b-49b8-948d-11e7e6aceb46"
      },
      "execution_count": 17,
      "outputs": [
        {
          "output_type": "execute_result",
          "data": {
            "text/plain": [
              "array([[1., 1., 1., 1.],\n",
              "       [1., 1., 1., 1.],\n",
              "       [1., 1., 1., 1.],\n",
              "       [1., 1., 1., 1.]])"
            ]
          },
          "metadata": {},
          "execution_count": 17
        }
      ]
    },
    {
      "cell_type": "code",
      "source": [
        "# un tuple avec autant de 1\n",
        "np.ones(5)"
      ],
      "metadata": {
        "colab": {
          "base_uri": "https://localhost:8080/"
        },
        "id": "hBh3IDix9djG",
        "outputId": "28f65cc6-251b-4584-f762-8738c598e42f"
      },
      "execution_count": 18,
      "outputs": [
        {
          "output_type": "execute_result",
          "data": {
            "text/plain": [
              "array([1., 1., 1., 1., 1.])"
            ]
          },
          "metadata": {},
          "execution_count": 18
        }
      ]
    },
    {
      "cell_type": "code",
      "source": [
        "# une autre fonction est linspace avec le point de départ start et d'arrivée stop, et le nombre qu'on veut. ici stop est inclus car endpoint = true par défaut\n",
        "np.linspace(0,10,3)\n",
        "# ici je demande à nympy de me donner trois nombre linéairement et régulièremet espacé entre 0 et 10."
      ],
      "metadata": {
        "colab": {
          "base_uri": "https://localhost:8080/"
        },
        "id": "kIshOO7x9zIT",
        "outputId": "65a79e38-eba8-417a-ac66-f5a735c9efa0"
      },
      "execution_count": 19,
      "outputs": [
        {
          "output_type": "execute_result",
          "data": {
            "text/plain": [
              "array([ 0.,  5., 10.])"
            ]
          },
          "metadata": {},
          "execution_count": 19
        }
      ]
    },
    {
      "cell_type": "code",
      "source": [
        "# on peut étendre cette espace de 3  à 11 et avoir 11 membres linérairement espacé\n",
        "np.linspace(0,10,11)\n",
        "# on peut avoir des valeurs virgules si on veut d'autre nombre entre start et stop"
      ],
      "metadata": {
        "colab": {
          "base_uri": "https://localhost:8080/"
        },
        "id": "QQCJ38RR-zs2",
        "outputId": "990622f1-df86-453e-a3ea-328ebd278846"
      },
      "execution_count": 21,
      "outputs": [
        {
          "output_type": "execute_result",
          "data": {
            "text/plain": [
              "array([ 0.,  1.,  2.,  3.,  4.,  5.,  6.,  7.,  8.,  9., 10.])"
            ]
          },
          "metadata": {},
          "execution_count": 21
        }
      ]
    },
    {
      "cell_type": "code",
      "source": [
        "np.linspace(0,10,10)"
      ],
      "metadata": {
        "colab": {
          "base_uri": "https://localhost:8080/"
        },
        "id": "JN7e-GG7_h7w",
        "outputId": "54f68068-38ac-40ad-b82d-e18e4ce019e8"
      },
      "execution_count": 22,
      "outputs": [
        {
          "output_type": "execute_result",
          "data": {
            "text/plain": [
              "array([ 0.        ,  1.11111111,  2.22222222,  3.33333333,  4.44444444,\n",
              "        5.55555556,  6.66666667,  7.77777778,  8.88888889, 10.        ])"
            ]
          },
          "metadata": {},
          "execution_count": 22
        }
      ]
    },
    {
      "cell_type": "code",
      "source": [
        "len(np.linspace(0,10,11))"
      ],
      "metadata": {
        "colab": {
          "base_uri": "https://localhost:8080/"
        },
        "id": "3c0ljW8y_lcj",
        "outputId": "15eafcdb-620f-4149-9db2-6166a0720309"
      },
      "execution_count": 23,
      "outputs": [
        {
          "output_type": "execute_result",
          "data": {
            "text/plain": [
              "11"
            ]
          },
          "metadata": {},
          "execution_count": 23
        }
      ]
    },
    {
      "cell_type": "code",
      "source": [
        "# regardons une autre fonction eye, qui crée une matrice identité et on met un seul nombre car une matrice identité est une matrice carrée\n",
        "np.eye(5)"
      ],
      "metadata": {
        "colab": {
          "base_uri": "https://localhost:8080/"
        },
        "id": "IxwEfu92_pg4",
        "outputId": "98849f35-8c70-40d8-87d5-1f374613b67b"
      },
      "execution_count": 24,
      "outputs": [
        {
          "output_type": "execute_result",
          "data": {
            "text/plain": [
              "array([[1., 0., 0., 0., 0.],\n",
              "       [0., 1., 0., 0., 0.],\n",
              "       [0., 0., 1., 0., 0.],\n",
              "       [0., 0., 0., 1., 0.],\n",
              "       [0., 0., 0., 0., 1.]])"
            ]
          },
          "metadata": {},
          "execution_count": 24
        }
      ]
    },
    {
      "cell_type": "code",
      "source": [
        "# comment nous pouvons créer des distributions des données aléatoires\n",
        "# il y a une tonne de fonctions (des lois statistiques) pour les données aléatoires\n",
        "# la première fonction que nous allons apprendre est la fonction rand\n",
        "np.random.rand(1)\n",
        "# échantillon aléatoire avec une distribution uniforme avec une distribution de (0,1)\n",
        "# on va avoir des nombres autour de 0 et 1"
      ],
      "metadata": {
        "colab": {
          "base_uri": "https://localhost:8080/"
        },
        "id": "JXgrcW-bAYzE",
        "outputId": "185c6ea8-cd61-48ef-b072-adf49438db36"
      },
      "execution_count": 26,
      "outputs": [
        {
          "output_type": "execute_result",
          "data": {
            "text/plain": [
              "array([0.21325618])"
            ]
          },
          "metadata": {},
          "execution_count": 26
        }
      ]
    },
    {
      "cell_type": "code",
      "source": [
        "# on peut aussi créer des tuples avec des lignes et des colonnes\n",
        "np.random.rand(5,6)\n",
        "# ici 5 lignes et 6 colonnes"
      ],
      "metadata": {
        "colab": {
          "base_uri": "https://localhost:8080/"
        },
        "id": "OSzkenw8B8zh",
        "outputId": "652c9545-fb07-4085-ca42-42ad181471e3"
      },
      "execution_count": 27,
      "outputs": [
        {
          "output_type": "execute_result",
          "data": {
            "text/plain": [
              "array([[0.49657039, 0.682247  , 0.32156092, 0.59402699, 0.18978357,\n",
              "        0.92987064],\n",
              "       [0.22125731, 0.3033857 , 0.59841693, 0.17354012, 0.94609536,\n",
              "        0.6179196 ],\n",
              "       [0.63083762, 0.60843546, 0.98375169, 0.90563824, 0.70120947,\n",
              "        0.01658504],\n",
              "       [0.8639683 , 0.76032858, 0.52150446, 0.16725983, 0.64317561,\n",
              "        0.80856149],\n",
              "       [0.66206228, 0.58274582, 0.74919174, 0.31461711, 0.12248884,\n",
              "        0.18900788]])"
            ]
          },
          "metadata": {},
          "execution_count": 27
        }
      ]
    },
    {
      "cell_type": "code",
      "source": [
        "# Dans le monde physique qui nous entoure beaucoup utilise de la distribution normale\n",
        "np.random.randn(10)\n",
        "# on a randn pour avoir une distribution normale standard avec une moyenne de 0 et une variance de 1\n",
        "# puisque la moyenne est 0, on peut avoir des nombres négatives\n",
        "# très similaires avec la fonction rand"
      ],
      "metadata": {
        "colab": {
          "base_uri": "https://localhost:8080/"
        },
        "id": "_Lj6u2ZSCWw7",
        "outputId": "2b0b0a10-cf8e-4691-fd31-672bd8ae82c1"
      },
      "execution_count": 28,
      "outputs": [
        {
          "output_type": "execute_result",
          "data": {
            "text/plain": [
              "array([-0.12424828,  0.22340079, -1.38829832,  0.04033143, -0.85139328,\n",
              "        0.2441    , -0.30163861, -0.5644225 ,  0.68220845,  0.26160616])"
            ]
          },
          "metadata": {},
          "execution_count": 28
        }
      ]
    },
    {
      "cell_type": "code",
      "source": [
        "np.random.randn(2,3)"
      ],
      "metadata": {
        "colab": {
          "base_uri": "https://localhost:8080/"
        },
        "id": "YHRE8CwUDXNJ",
        "outputId": "6c12fb3f-5dbb-44ab-fef3-792591265c5a"
      },
      "execution_count": 29,
      "outputs": [
        {
          "output_type": "execute_result",
          "data": {
            "text/plain": [
              "array([[-1.00431132,  1.50835179,  0.52137687],\n",
              "       [-0.47716016,  0.41484207, -0.69057075]])"
            ]
          },
          "metadata": {},
          "execution_count": 29
        }
      ]
    },
    {
      "cell_type": "code",
      "source": [
        "# une autre fonction est randint qui retourne les entiers aléatoires avec des seuils (inféreiurs et supérieurs)\n",
        "# ceci retourne des entiers aléatoires compris entre ces deux seuils uniformement, ces entiers ont la meme probabilité de sortir\n",
        "# on a un troisième argument  qui est size, et cela retourne size entier aléatoire\n",
        "np.random.randint(0,101,5)\n",
        "# ici nous aurons 5 entiers aléatoires"
      ],
      "metadata": {
        "colab": {
          "base_uri": "https://localhost:8080/"
        },
        "id": "Kw6I9njFDtd5",
        "outputId": "5cc3e42f-f55f-45fe-8e53-700d5200da4d"
      },
      "execution_count": 30,
      "outputs": [
        {
          "output_type": "execute_result",
          "data": {
            "text/plain": [
              "array([73, 17, 63,  0, 50])"
            ]
          },
          "metadata": {},
          "execution_count": 30
        }
      ]
    },
    {
      "cell_type": "code",
      "source": [
        "# on peut avoir des tableaux avec des tuples avec lignes et des colonnes\n",
        "np.random.randint(0,101,(4,5))\n"
      ],
      "metadata": {
        "colab": {
          "base_uri": "https://localhost:8080/"
        },
        "id": "Oy9P_RyCFH_w",
        "outputId": "1a0affe9-7600-4415-c703-6e3758216842"
      },
      "execution_count": 31,
      "outputs": [
        {
          "output_type": "execute_result",
          "data": {
            "text/plain": [
              "array([[81, 69, 53, 80, 27],\n",
              "       [15, 39, 38,  7, 68],\n",
              "       [11, 19, 42, 55, 96],\n",
              "       [58, 45, 15, 40, 38]])"
            ]
          },
          "metadata": {},
          "execution_count": 31
        }
      ]
    },
    {
      "cell_type": "code",
      "source": [
        "# avoir l'age de dix personnes aléatoires\n",
        "np.random.randint(0,101,10)"
      ],
      "metadata": {
        "colab": {
          "base_uri": "https://localhost:8080/"
        },
        "id": "rO0rrXPPFc0h",
        "outputId": "5cb2706a-8056-436d-b497-ed52dc64ab58"
      },
      "execution_count": 32,
      "outputs": [
        {
          "output_type": "execute_result",
          "data": {
            "text/plain": [
              "array([27, 86, 22, 77, 25, 62,  6, 67, 72,  4])"
            ]
          },
          "metadata": {},
          "execution_count": 32
        }
      ]
    },
    {
      "cell_type": "code",
      "source": [
        "# on peut fixer le nombre seed , ici on mettra 42 qui fait réference à l'explorateur Douglas\n",
        "# et puis il faut determiner dans la meme cellule , la fonction rand.\n",
        "# il faut impérativement le faire sur la meme cellule sinon, elle va pas s'éxécuter\n",
        "np.random.seed(42)\n",
        "np.random.rand(4)\n",
        "# 4 nombres aléatoires comprise entre 0 et 1\n",
        "# le nombre de seed n'est pas important , on peut mettre 1, 101, 4 mais ce qui est important ce que les deux lignes vont les memes nombres aléatoires à chaque fois."
      ],
      "metadata": {
        "colab": {
          "base_uri": "https://localhost:8080/"
        },
        "id": "OUSc_AT_F2FN",
        "outputId": "4f960772-9b42-4bb7-f9e2-2f17fa7ec96c"
      },
      "execution_count": 33,
      "outputs": [
        {
          "output_type": "execute_result",
          "data": {
            "text/plain": [
              "array([0.37454012, 0.95071431, 0.73199394, 0.59865848])"
            ]
          },
          "metadata": {},
          "execution_count": 33
        }
      ]
    },
    {
      "cell_type": "code",
      "source": [
        "# nous allons voir la fonction reshape qui permet de reformater un tableau numpy\n",
        "arr = np.arange(0,25)\n",
        "arr"
      ],
      "metadata": {
        "colab": {
          "base_uri": "https://localhost:8080/"
        },
        "id": "Xne-kT3vHy3S",
        "outputId": "b9741117-bf71-4ea9-ceeb-11f198856bf9"
      },
      "execution_count": 34,
      "outputs": [
        {
          "output_type": "execute_result",
          "data": {
            "text/plain": [
              "array([ 0,  1,  2,  3,  4,  5,  6,  7,  8,  9, 10, 11, 12, 13, 14, 15, 16,\n",
              "       17, 18, 19, 20, 21, 22, 23, 24])"
            ]
          },
          "metadata": {},
          "execution_count": 34
        }
      ]
    },
    {
      "cell_type": "code",
      "source": [
        "# nous voulons les memes nombres mais dans un schéma différents\n",
        "arr.reshape(5,5)"
      ],
      "metadata": {
        "colab": {
          "base_uri": "https://localhost:8080/"
        },
        "id": "EaGSkDnZIEqy",
        "outputId": "eb7cf120-b65e-47da-8d36-b75a8f1306a5"
      },
      "execution_count": 35,
      "outputs": [
        {
          "output_type": "execute_result",
          "data": {
            "text/plain": [
              "array([[ 0,  1,  2,  3,  4],\n",
              "       [ 5,  6,  7,  8,  9],\n",
              "       [10, 11, 12, 13, 14],\n",
              "       [15, 16, 17, 18, 19],\n",
              "       [20, 21, 22, 23, 24]])"
            ]
          },
          "metadata": {},
          "execution_count": 35
        }
      ]
    },
    {
      "cell_type": "code",
      "source": [
        "# certains appels de méthodes utiles\n",
        "ranarr = np.random.randint(0,101,10)\n",
        "ranarr\n",
        "# cherchons la valeur max de ce tableau et la valeur min du tableau"
      ],
      "metadata": {
        "colab": {
          "base_uri": "https://localhost:8080/"
        },
        "id": "xdTysf3LIdc6",
        "outputId": "d038330f-4fb9-4669-9294-5cf0b19f5edf"
      },
      "execution_count": 36,
      "outputs": [
        {
          "output_type": "execute_result",
          "data": {
            "text/plain": [
              "array([82, 86, 74, 74, 87, 99, 23,  2, 21, 52])"
            ]
          },
          "metadata": {},
          "execution_count": 36
        }
      ]
    },
    {
      "cell_type": "code",
      "source": [
        "ranarr.max()"
      ],
      "metadata": {
        "colab": {
          "base_uri": "https://localhost:8080/"
        },
        "id": "-b4jotF8JMYE",
        "outputId": "bdfb79a4-bdc7-4e51-cf03-9c4c67456312"
      },
      "execution_count": 37,
      "outputs": [
        {
          "output_type": "execute_result",
          "data": {
            "text/plain": [
              "99"
            ]
          },
          "metadata": {},
          "execution_count": 37
        }
      ]
    },
    {
      "cell_type": "code",
      "source": [
        "ranarr.min()"
      ],
      "metadata": {
        "colab": {
          "base_uri": "https://localhost:8080/"
        },
        "id": "YKHg2idPJQd5",
        "outputId": "7f0d693a-13d6-49bb-b1b3-be19e6994cc7"
      },
      "execution_count": 38,
      "outputs": [
        {
          "output_type": "execute_result",
          "data": {
            "text/plain": [
              "2"
            ]
          },
          "metadata": {},
          "execution_count": 38
        }
      ]
    },
    {
      "cell_type": "code",
      "source": [
        "#l'emplacement des index pour la valeur max et la valeur min avec argmax et argmin\n",
        "ranarr.argmax()"
      ],
      "metadata": {
        "colab": {
          "base_uri": "https://localhost:8080/"
        },
        "id": "0hklo1SYJW6I",
        "outputId": "4a70391f-a682-4534-8cf9-f6be1cbd9751"
      },
      "execution_count": 39,
      "outputs": [
        {
          "output_type": "execute_result",
          "data": {
            "text/plain": [
              "5"
            ]
          },
          "metadata": {},
          "execution_count": 39
        }
      ]
    },
    {
      "cell_type": "code",
      "source": [
        "ranarr.argmin()"
      ],
      "metadata": {
        "colab": {
          "base_uri": "https://localhost:8080/"
        },
        "id": "IaLSQi6VJnPS",
        "outputId": "a1b44613-8fb9-466b-a529-703fcc247d5c"
      },
      "execution_count": 40,
      "outputs": [
        {
          "output_type": "execute_result",
          "data": {
            "text/plain": [
              "7"
            ]
          },
          "metadata": {},
          "execution_count": 40
        }
      ]
    },
    {
      "cell_type": "code",
      "source": [
        "# on peut aussi appeler le type de donnée avec dtype sans parenthèse\n",
        "ranarr.dtype\n",
        "# cela donne aussi le nombre de bytes 32 ou 64"
      ],
      "metadata": {
        "colab": {
          "base_uri": "https://localhost:8080/"
        },
        "id": "kYkzhrWuJ3Uk",
        "outputId": "519acc64-f50b-454c-fe04-0cd62149d654"
      },
      "execution_count": 41,
      "outputs": [
        {
          "output_type": "execute_result",
          "data": {
            "text/plain": [
              "dtype('int64')"
            ]
          },
          "metadata": {},
          "execution_count": 41
        }
      ]
    },
    {
      "cell_type": "code",
      "source": [
        "arr"
      ],
      "metadata": {
        "colab": {
          "base_uri": "https://localhost:8080/"
        },
        "id": "YuGxWK-hKYgl",
        "outputId": "38d862cf-0aab-4862-c40a-44a6046e40e5"
      },
      "execution_count": 42,
      "outputs": [
        {
          "output_type": "execute_result",
          "data": {
            "text/plain": [
              "array([ 0,  1,  2,  3,  4,  5,  6,  7,  8,  9, 10, 11, 12, 13, 14, 15, 16,\n",
              "       17, 18, 19, 20, 21, 22, 23, 24])"
            ]
          },
          "metadata": {},
          "execution_count": 42
        }
      ]
    },
    {
      "cell_type": "code",
      "source": [
        "# on va utiliser l'attribut shape (car sans paranthèse) différent d'une méthode reshape()\n",
        "arr.shape"
      ],
      "metadata": {
        "colab": {
          "base_uri": "https://localhost:8080/"
        },
        "id": "e784ErV9Ka1v",
        "outputId": "e11a6d3f-7d14-4e2d-f1ed-3986fdaf7246"
      },
      "execution_count": 43,
      "outputs": [
        {
          "output_type": "execute_result",
          "data": {
            "text/plain": [
              "(25,)"
            ]
          },
          "metadata": {},
          "execution_count": 43
        }
      ]
    },
    {
      "cell_type": "code",
      "source": [
        "arr = arr.reshape(5,5)\n",
        "arr"
      ],
      "metadata": {
        "colab": {
          "base_uri": "https://localhost:8080/"
        },
        "id": "FhapgBb3KwHO",
        "outputId": "6dd570eb-b640-4ae6-a839-a9d1424f7d81"
      },
      "execution_count": 45,
      "outputs": [
        {
          "output_type": "execute_result",
          "data": {
            "text/plain": [
              "array([[ 0,  1,  2,  3,  4],\n",
              "       [ 5,  6,  7,  8,  9],\n",
              "       [10, 11, 12, 13, 14],\n",
              "       [15, 16, 17, 18, 19],\n",
              "       [20, 21, 22, 23, 24]])"
            ]
          },
          "metadata": {},
          "execution_count": 45
        }
      ]
    },
    {
      "cell_type": "code",
      "source": [
        "# on peut vérifier le résultat de la forme actuelle\n",
        "arr.shape"
      ],
      "metadata": {
        "colab": {
          "base_uri": "https://localhost:8080/"
        },
        "id": "i_XYZumkLWES",
        "outputId": "56f3de37-da5c-48ed-8b5b-690e0f4eeed2"
      },
      "execution_count": 46,
      "outputs": [
        {
          "output_type": "execute_result",
          "data": {
            "text/plain": [
              "(5, 5)"
            ]
          },
          "metadata": {},
          "execution_count": 46
        }
      ]
    },
    {
      "cell_type": "code",
      "source": [
        "# le resultat de arr.shape est tres différent de arr.reshape(1,25) et arr.reshape(25,1)\n",
        "arr.reshape(25,1)"
      ],
      "metadata": {
        "colab": {
          "base_uri": "https://localhost:8080/"
        },
        "id": "WupzwSnSLuHt",
        "outputId": "63e84f1e-3a9b-4aa9-d207-d5dc40b5ae4f"
      },
      "execution_count": 47,
      "outputs": [
        {
          "output_type": "execute_result",
          "data": {
            "text/plain": [
              "array([[ 0],\n",
              "       [ 1],\n",
              "       [ 2],\n",
              "       [ 3],\n",
              "       [ 4],\n",
              "       [ 5],\n",
              "       [ 6],\n",
              "       [ 7],\n",
              "       [ 8],\n",
              "       [ 9],\n",
              "       [10],\n",
              "       [11],\n",
              "       [12],\n",
              "       [13],\n",
              "       [14],\n",
              "       [15],\n",
              "       [16],\n",
              "       [17],\n",
              "       [18],\n",
              "       [19],\n",
              "       [20],\n",
              "       [21],\n",
              "       [22],\n",
              "       [23],\n",
              "       [24]])"
            ]
          },
          "metadata": {},
          "execution_count": 47
        }
      ]
    },
    {
      "cell_type": "code",
      "source": [
        "# ici on aura une double crochet, ici on a un vecteur à deux dimensions alors que le premier est un vecteur à un seul dimension.\n",
        "arr.reshape(1,25)"
      ],
      "metadata": {
        "colab": {
          "base_uri": "https://localhost:8080/"
        },
        "id": "LV6elWSbMJCi",
        "outputId": "696e8f0d-d74c-4786-bfb1-e6f6228fe599"
      },
      "execution_count": 48,
      "outputs": [
        {
          "output_type": "execute_result",
          "data": {
            "text/plain": [
              "array([[ 0,  1,  2,  3,  4,  5,  6,  7,  8,  9, 10, 11, 12, 13, 14, 15,\n",
              "        16, 17, 18, 19, 20, 21, 22, 23, 24]])"
            ]
          },
          "metadata": {},
          "execution_count": 48
        }
      ]
    }
  ]
}