{
  "nbformat": 4,
  "nbformat_minor": 0,
  "metadata": {
    "colab": {
      "provenance": [],
      "authorship_tag": "ABX9TyOHSPZpQXGetPK12C+Nix3w",
      "include_colab_link": true
    },
    "kernelspec": {
      "name": "python3",
      "display_name": "Python 3"
    },
    "language_info": {
      "name": "python"
    }
  },
  "cells": [
    {
      "cell_type": "markdown",
      "metadata": {
        "id": "view-in-github",
        "colab_type": "text"
      },
      "source": [
        "<a href=\"https://colab.research.google.com/github/othniel77/datascience/blob/main/distributions_et_le_th%C3%A9or%C3%A8me_centrale_limite.ipynb\" target=\"_parent\"><img src=\"https://colab.research.google.com/assets/colab-badge.svg\" alt=\"Open In Colab\"/></a>"
      ]
    },
    {
      "cell_type": "code",
      "execution_count": null,
      "metadata": {
        "id": "01bwFEHvZasv"
      },
      "outputs": [],
      "source": [
        "import pandas as pd"
      ]
    },
    {
      "cell_type": "code",
      "source": [
        "from google.colab import files\n",
        "data_to_load = files.upload()"
      ],
      "metadata": {
        "colab": {
          "base_uri": "https://localhost:8080/",
          "height": 73
        },
        "id": "n1WPAflCZevA",
        "outputId": "c9f3ad80-f986-48d6-c846-0f27e1c9177d"
      },
      "execution_count": null,
      "outputs": [
        {
          "output_type": "display_data",
          "data": {
            "text/plain": [
              "<IPython.core.display.HTML object>"
            ],
            "text/html": [
              "\n",
              "     <input type=\"file\" id=\"files-d060bd8f-ece8-4747-81d0-60d48896b450\" name=\"files[]\" multiple disabled\n",
              "        style=\"border:none\" />\n",
              "     <output id=\"result-d060bd8f-ece8-4747-81d0-60d48896b450\">\n",
              "      Upload widget is only available when the cell has been executed in the\n",
              "      current browser session. Please rerun this cell to enable.\n",
              "      </output>\n",
              "      <script>// Copyright 2017 Google LLC\n",
              "//\n",
              "// Licensed under the Apache License, Version 2.0 (the \"License\");\n",
              "// you may not use this file except in compliance with the License.\n",
              "// You may obtain a copy of the License at\n",
              "//\n",
              "//      http://www.apache.org/licenses/LICENSE-2.0\n",
              "//\n",
              "// Unless required by applicable law or agreed to in writing, software\n",
              "// distributed under the License is distributed on an \"AS IS\" BASIS,\n",
              "// WITHOUT WARRANTIES OR CONDITIONS OF ANY KIND, either express or implied.\n",
              "// See the License for the specific language governing permissions and\n",
              "// limitations under the License.\n",
              "\n",
              "/**\n",
              " * @fileoverview Helpers for google.colab Python module.\n",
              " */\n",
              "(function(scope) {\n",
              "function span(text, styleAttributes = {}) {\n",
              "  const element = document.createElement('span');\n",
              "  element.textContent = text;\n",
              "  for (const key of Object.keys(styleAttributes)) {\n",
              "    element.style[key] = styleAttributes[key];\n",
              "  }\n",
              "  return element;\n",
              "}\n",
              "\n",
              "// Max number of bytes which will be uploaded at a time.\n",
              "const MAX_PAYLOAD_SIZE = 100 * 1024;\n",
              "\n",
              "function _uploadFiles(inputId, outputId) {\n",
              "  const steps = uploadFilesStep(inputId, outputId);\n",
              "  const outputElement = document.getElementById(outputId);\n",
              "  // Cache steps on the outputElement to make it available for the next call\n",
              "  // to uploadFilesContinue from Python.\n",
              "  outputElement.steps = steps;\n",
              "\n",
              "  return _uploadFilesContinue(outputId);\n",
              "}\n",
              "\n",
              "// This is roughly an async generator (not supported in the browser yet),\n",
              "// where there are multiple asynchronous steps and the Python side is going\n",
              "// to poll for completion of each step.\n",
              "// This uses a Promise to block the python side on completion of each step,\n",
              "// then passes the result of the previous step as the input to the next step.\n",
              "function _uploadFilesContinue(outputId) {\n",
              "  const outputElement = document.getElementById(outputId);\n",
              "  const steps = outputElement.steps;\n",
              "\n",
              "  const next = steps.next(outputElement.lastPromiseValue);\n",
              "  return Promise.resolve(next.value.promise).then((value) => {\n",
              "    // Cache the last promise value to make it available to the next\n",
              "    // step of the generator.\n",
              "    outputElement.lastPromiseValue = value;\n",
              "    return next.value.response;\n",
              "  });\n",
              "}\n",
              "\n",
              "/**\n",
              " * Generator function which is called between each async step of the upload\n",
              " * process.\n",
              " * @param {string} inputId Element ID of the input file picker element.\n",
              " * @param {string} outputId Element ID of the output display.\n",
              " * @return {!Iterable<!Object>} Iterable of next steps.\n",
              " */\n",
              "function* uploadFilesStep(inputId, outputId) {\n",
              "  const inputElement = document.getElementById(inputId);\n",
              "  inputElement.disabled = false;\n",
              "\n",
              "  const outputElement = document.getElementById(outputId);\n",
              "  outputElement.innerHTML = '';\n",
              "\n",
              "  const pickedPromise = new Promise((resolve) => {\n",
              "    inputElement.addEventListener('change', (e) => {\n",
              "      resolve(e.target.files);\n",
              "    });\n",
              "  });\n",
              "\n",
              "  const cancel = document.createElement('button');\n",
              "  inputElement.parentElement.appendChild(cancel);\n",
              "  cancel.textContent = 'Cancel upload';\n",
              "  const cancelPromise = new Promise((resolve) => {\n",
              "    cancel.onclick = () => {\n",
              "      resolve(null);\n",
              "    };\n",
              "  });\n",
              "\n",
              "  // Wait for the user to pick the files.\n",
              "  const files = yield {\n",
              "    promise: Promise.race([pickedPromise, cancelPromise]),\n",
              "    response: {\n",
              "      action: 'starting',\n",
              "    }\n",
              "  };\n",
              "\n",
              "  cancel.remove();\n",
              "\n",
              "  // Disable the input element since further picks are not allowed.\n",
              "  inputElement.disabled = true;\n",
              "\n",
              "  if (!files) {\n",
              "    return {\n",
              "      response: {\n",
              "        action: 'complete',\n",
              "      }\n",
              "    };\n",
              "  }\n",
              "\n",
              "  for (const file of files) {\n",
              "    const li = document.createElement('li');\n",
              "    li.append(span(file.name, {fontWeight: 'bold'}));\n",
              "    li.append(span(\n",
              "        `(${file.type || 'n/a'}) - ${file.size} bytes, ` +\n",
              "        `last modified: ${\n",
              "            file.lastModifiedDate ? file.lastModifiedDate.toLocaleDateString() :\n",
              "                                    'n/a'} - `));\n",
              "    const percent = span('0% done');\n",
              "    li.appendChild(percent);\n",
              "\n",
              "    outputElement.appendChild(li);\n",
              "\n",
              "    const fileDataPromise = new Promise((resolve) => {\n",
              "      const reader = new FileReader();\n",
              "      reader.onload = (e) => {\n",
              "        resolve(e.target.result);\n",
              "      };\n",
              "      reader.readAsArrayBuffer(file);\n",
              "    });\n",
              "    // Wait for the data to be ready.\n",
              "    let fileData = yield {\n",
              "      promise: fileDataPromise,\n",
              "      response: {\n",
              "        action: 'continue',\n",
              "      }\n",
              "    };\n",
              "\n",
              "    // Use a chunked sending to avoid message size limits. See b/62115660.\n",
              "    let position = 0;\n",
              "    do {\n",
              "      const length = Math.min(fileData.byteLength - position, MAX_PAYLOAD_SIZE);\n",
              "      const chunk = new Uint8Array(fileData, position, length);\n",
              "      position += length;\n",
              "\n",
              "      const base64 = btoa(String.fromCharCode.apply(null, chunk));\n",
              "      yield {\n",
              "        response: {\n",
              "          action: 'append',\n",
              "          file: file.name,\n",
              "          data: base64,\n",
              "        },\n",
              "      };\n",
              "\n",
              "      let percentDone = fileData.byteLength === 0 ?\n",
              "          100 :\n",
              "          Math.round((position / fileData.byteLength) * 100);\n",
              "      percent.textContent = `${percentDone}% done`;\n",
              "\n",
              "    } while (position < fileData.byteLength);\n",
              "  }\n",
              "\n",
              "  // All done.\n",
              "  yield {\n",
              "    response: {\n",
              "      action: 'complete',\n",
              "    }\n",
              "  };\n",
              "}\n",
              "\n",
              "scope.google = scope.google || {};\n",
              "scope.google.colab = scope.google.colab || {};\n",
              "scope.google.colab._files = {\n",
              "  _uploadFiles,\n",
              "  _uploadFilesContinue,\n",
              "};\n",
              "})(self);\n",
              "</script> "
            ]
          },
          "metadata": {}
        },
        {
          "output_type": "stream",
          "name": "stdout",
          "text": [
            "Saving amir_deals.csv to amir_deals.csv\n"
          ]
        }
      ]
    },
    {
      "cell_type": "code",
      "source": [
        "amir_deals = pd.read_csv('/content/amir_deals.csv')\n",
        "print(amir_deals.head())"
      ],
      "metadata": {
        "colab": {
          "base_uri": "https://localhost:8080/"
        },
        "id": "QSa3qQicZzoo",
        "outputId": "59af4670-0187-4b2b-e8a9-e6bd76e22258"
      },
      "execution_count": null,
      "outputs": [
        {
          "output_type": "stream",
          "name": "stdout",
          "text": [
            "   Unnamed: 0    product   client status   amount  num_users\n",
            "0           1  Product F  Current    Won  7389.52         19\n",
            "1           2  Product C      New    Won  4493.01         43\n",
            "2           3  Product B      New    Won  5738.09         87\n",
            "3           4  Product I  Current    Won  2591.24         83\n",
            "4           5  Product E  Current    Won  6622.97         17\n"
          ]
        }
      ]
    },
    {
      "cell_type": "code",
      "source": [
        "amir_deals.info()"
      ],
      "metadata": {
        "colab": {
          "base_uri": "https://localhost:8080/"
        },
        "id": "f2z6jKglZzW9",
        "outputId": "d964d049-bfa4-4b07-c6ce-23f820f038c3"
      },
      "execution_count": null,
      "outputs": [
        {
          "output_type": "stream",
          "name": "stdout",
          "text": [
            "<class 'pandas.core.frame.DataFrame'>\n",
            "RangeIndex: 178 entries, 0 to 177\n",
            "Data columns (total 6 columns):\n",
            " #   Column      Non-Null Count  Dtype  \n",
            "---  ------      --------------  -----  \n",
            " 0   Unnamed: 0  178 non-null    int64  \n",
            " 1   product     178 non-null    object \n",
            " 2   client      178 non-null    object \n",
            " 3   status      178 non-null    object \n",
            " 4   amount      178 non-null    float64\n",
            " 5   num_users   178 non-null    int64  \n",
            "dtypes: float64(1), int64(2), object(3)\n",
            "memory usage: 8.5+ KB\n"
          ]
        }
      ]
    },
    {
      "cell_type": "code",
      "source": [
        "import matplotlib.pyplot as plt"
      ],
      "metadata": {
        "id": "n_CUBs2XZzKB"
      },
      "execution_count": null,
      "outputs": []
    },
    {
      "cell_type": "code",
      "source": [
        "# Histogram of amount with 10 bins and show plot\n",
        "amir_deals['amount'].hist(bins = 10)\n",
        "plt.show()"
      ],
      "metadata": {
        "colab": {
          "base_uri": "https://localhost:8080/",
          "height": 430
        },
        "id": "Pg3Pa91AZwas",
        "outputId": "a662e51c-3ebc-4953-8608-cb7431940513"
      },
      "execution_count": null,
      "outputs": [
        {
          "output_type": "display_data",
          "data": {
            "text/plain": [
              "<Figure size 640x480 with 1 Axes>"
            ],
            "image/png": "[encoded data removed]"
          },
          "metadata": {}
        }
      ]
    },
    {
      "cell_type": "markdown",
      "source": [
        "# **Probabilities from the normal distribution**\n",
        "\n",
        "What's the probability of Amir closing a deal worth less than $7500?\n",
        "\n",
        " follow a normal distribution with a mean of 5000 dollars and a standard deviation of 2000 dollars"
      ],
      "metadata": {
        "id": "xi7oxmJ4an-S"
      }
    },
    {
      "cell_type": "code",
      "source": [
        "# Import uniform from scipy.stats\n",
        "from scipy.stats import norm"
      ],
      "metadata": {
        "id": "Fodwa3kCbLi7"
      },
      "execution_count": null,
      "outputs": []
    },
    {
      "cell_type": "code",
      "source": [
        "# Probability of deal < 7500\n",
        "prob_less_7500 = norm.cdf(7500,5000,2000)\n",
        "\n",
        "print(prob_less_7500)"
      ],
      "metadata": {
        "colab": {
          "base_uri": "https://localhost:8080/"
        },
        "id": "6dk7uCthasCo",
        "outputId": "85a5886d-cf2a-4786-907d-aff68fea9587"
      },
      "execution_count": null,
      "outputs": [
        {
          "output_type": "stream",
          "name": "stdout",
          "text": [
            "0.8943502263331446\n"
          ]
        }
      ]
    },
    {
      "cell_type": "markdown",
      "source": [
        "What's the probability of Amir closing a deal worth more than $1000?"
      ],
      "metadata": {
        "id": "0d0HRQe2bX0-"
      }
    },
    {
      "cell_type": "code",
      "source": [
        "# Probability of deal > 1000\n",
        "prob_over_1000 = 1-norm.cdf(1000,5000,2000)\n",
        "\n",
        "print(prob_over_1000)"
      ],
      "metadata": {
        "colab": {
          "base_uri": "https://localhost:8080/"
        },
        "id": "1E2TA6GVbZqu",
        "outputId": "e6ec258d-af7f-4ccb-90c9-dbb27baba76b"
      },
      "execution_count": null,
      "outputs": [
        {
          "output_type": "stream",
          "name": "stdout",
          "text": [
            "0.9772498680518208\n"
          ]
        }
      ]
    },
    {
      "cell_type": "markdown",
      "source": [
        "What's the probability of Amir closing a deal worth between $3000  and $7000 ?"
      ],
      "metadata": {
        "id": "KPP1JV8SbjBz"
      }
    },
    {
      "cell_type": "code",
      "source": [
        "# Probability of deal between 3000 and 7000\n",
        "prob_3000_to_7000 = norm.cdf(7000,5000,2000) - norm.cdf(3000,5000,2000)\n",
        "\n",
        "print(prob_3000_to_7000)"
      ],
      "metadata": {
        "colab": {
          "base_uri": "https://localhost:8080/"
        },
        "id": "SZqZv2wUbm7s",
        "outputId": "8e32c985-a818-4f96-c4bc-1750827c878c"
      },
      "execution_count": null,
      "outputs": [
        {
          "output_type": "stream",
          "name": "stdout",
          "text": [
            "0.6826894921370859\n"
          ]
        }
      ]
    },
    {
      "cell_type": "markdown",
      "source": [
        "What amount will 25% of Amir's sales be less than?"
      ],
      "metadata": {
        "id": "vSqHZnGnb5nn"
      }
    },
    {
      "cell_type": "code",
      "source": [
        "# Calculate amount that 25% of deals will be less than\n",
        "pct_25 = norm.ppf(0.25,5000,2000)\n",
        "\n",
        "print(pct_25)"
      ],
      "metadata": {
        "colab": {
          "base_uri": "https://localhost:8080/"
        },
        "id": "JT2n8wGubkXU",
        "outputId": "006ea320-a919-4273-f32c-49899b377a32"
      },
      "execution_count": null,
      "outputs": [
        {
          "output_type": "stream",
          "name": "stdout",
          "text": [
            "3651.0204996078364\n"
          ]
        }
      ]
    },
    {
      "cell_type": "markdown",
      "source": [
        "You know that you can count on Amir 75% (1-0.25) of the time to make a sale worth at least $3651.02. This information could be useful in making company-wide sales projections."
      ],
      "metadata": {
        "id": "3T9goUiXcQB5"
      }
    },
    {
      "cell_type": "markdown",
      "source": [
        "# **Simulating sales under new market conditions**\n",
        "\n",
        "The company's financial analyst is predicting that next quarter, the worth of each sale will increase by 20% and the volatility, or standard deviation, of each sale's worth will increase by 30%. To see what Amir's sales might look like next quarter under these new market conditions, you'll simulate new sales amounts using the normal distribution"
      ],
      "metadata": {
        "id": "ZEiaUbDtdbkM"
      }
    },
    {
      "cell_type": "code",
      "source": [
        "# Calculate new average amount\n",
        "new_mean = 5000 * 1.2\n",
        "\n",
        "# Calculate new standard deviation\n",
        "new_sd = 2000 * 1.3\n",
        "\n",
        "# Simulate 36 new sales\n",
        "new_sales = norm.rvs(new_mean, new_sd, size=36)\n",
        "\n",
        "# Create histogram and show\n",
        "plt.hist(new_sales)\n",
        "plt.show()"
      ],
      "metadata": {
        "colab": {
          "base_uri": "https://localhost:8080/",
          "height": 430
        },
        "id": "yB0z0G8Od5al",
        "outputId": "29d879c5-b797-4cd5-9bf2-648c272cef0c"
      },
      "execution_count": null,
      "outputs": [
        {
          "output_type": "display_data",
          "data": {
            "text/plain": [
              "<Figure size 640x480 with 1 Axes>"
            ],
            "image/png": "[encoded data removed]"
          },
          "metadata": {}
        }
      ]
    },
    {
      "cell_type": "markdown",
      "source": [
        "# **la limite centrale en action**"
      ],
      "metadata": {
        "id": "r17vOyHTeyVT"
      }
    },
    {
      "cell_type": "code",
      "source": [
        "# Create a histogram of num_users and show\n",
        "amir_deals['num_users'].hist()\n",
        "plt.show()"
      ],
      "metadata": {
        "colab": {
          "base_uri": "https://localhost:8080/",
          "height": 430
        },
        "id": "DzW7963EcsFd",
        "outputId": "62e45aa5-eb35-4d6a-bbef-c8f02b7633a1"
      },
      "execution_count": null,
      "outputs": [
        {
          "output_type": "display_data",
          "data": {
            "text/plain": [
              "<Figure size 640x480 with 1 Axes>"
            ],
            "image/png": "[encoded data removed]"
          },
          "metadata": {}
        }
      ]
    },
    {
      "cell_type": "code",
      "source": [
        "import numpy as np\n",
        "\n",
        "# Set seed to 104\n",
        "np.random.seed(104)\n",
        "\n",
        "# Sample 20 num_users with replacement from amir_deals\n",
        "samp_20 = amir_deals['num_users'].sample(20,replace = True)\n",
        "\n",
        "# Take mean of samp_20\n",
        "print(np.mean(samp_20))"
      ],
      "metadata": {
        "colab": {
          "base_uri": "https://localhost:8080/"
        },
        "id": "J6oy0WI5fJ53",
        "outputId": "2685d4f0-7089-4757-c345-7f0b4ee3c639"
      },
      "execution_count": null,
      "outputs": [
        {
          "output_type": "stream",
          "name": "stdout",
          "text": [
            "32.0\n"
          ]
        }
      ]
    },
    {
      "cell_type": "markdown",
      "source": [
        "Repeat this 100 times using a for loop and store as sample_means. This will take 100 different samples and calculate the mean of each."
      ],
      "metadata": {
        "id": "HQ-fnzOAfgCY"
      }
    },
    {
      "cell_type": "code",
      "source": [
        "sample_means = []\n",
        "# Loop 100 times\n",
        "for i in range(100):\n",
        "  # Take sample of 20 num_users\n",
        "  samp_20 = amir_deals['num_users'].sample(20, replace=True)\n",
        "  # Calculate mean of samp_20\n",
        "  samp_20_mean = np.mean(samp_20)\n",
        "  # Append samp_20_mean to sample_means\n",
        "  sample_means.append(np.mean(samp_20))\n",
        "\n",
        "print(sample_means)"
      ],
      "metadata": {
        "colab": {
          "base_uri": "https://localhost:8080/"
        },
        "id": "xb0XiidwfhdM",
        "outputId": "01eb3830-e3c2-4d8d-8ca3-90bdbde3ac21"
      },
      "execution_count": null,
      "outputs": [
        {
          "output_type": "stream",
          "name": "stdout",
          "text": [
            "[31.35, 45.05, 33.55, 38.15, 50.85, 31.85, 34.65, 36.25, 38.9, 44.05, 35.45, 37.6, 37.95, 28.85, 33.3, 31.65, 45.5, 43.2, 24.4, 41.05, 37.2, 39.3, 29.45, 33.55, 45.3, 45.1, 30.95, 36.25, 37.65, 42.55, 34.55, 41.1, 36.9, 42.45, 38.45, 45.9, 42.7, 38.4, 32.55, 30.25, 38.0, 38.75, 49.3, 39.55, 49.05, 42.05, 41.0, 40.6, 58.25, 34.55, 51.2, 34.15, 36.95, 42.45, 41.85, 33.2, 36.15, 37.55, 34.2, 29.75, 42.35, 43.75, 29.0, 32.05, 31.65, 44.6, 30.85, 29.6, 37.7, 33.1, 36.35, 40.65, 45.7, 33.8, 40.1, 39.9, 33.5, 32.65, 32.85, 42.85, 35.4, 31.7, 32.0, 33.85, 36.6, 44.35, 39.9, 37.0, 37.3, 42.5, 38.35, 42.8, 44.55, 30.3, 50.45, 42.35, 40.65, 29.85, 39.3, 33.1]\n"
          ]
        }
      ]
    },
    {
      "cell_type": "code",
      "source": [
        "# Convert to Series and plot histogram\n",
        "sample_means_series = pd.Series(sample_means)\n",
        "sample_means_series.hist()\n",
        "# Show plot\n",
        "plt.show()"
      ],
      "metadata": {
        "colab": {
          "base_uri": "https://localhost:8080/",
          "height": 430
        },
        "id": "9S6g9kjMf6dw",
        "outputId": "9c0fe6e3-db61-4f5d-b72a-e29486f9e943"
      },
      "execution_count": null,
      "outputs": [
        {
          "output_type": "display_data",
          "data": {
            "text/plain": [
              "<Figure size 640x480 with 1 Axes>"
            ],
            "image/png": "[encoded data removed]"
          },
          "metadata": {}
        }
      ]
    },
    {
      "cell_type": "markdown",
      "source": [
        "You've just seen the central limit thorem at work. Even though the distribution of num_users is not normal, the distribution of its sample means resembles the normal distribution."
      ],
      "metadata": {
        "id": "0DtZfrnQgHfj"
      }
    },
    {
      "cell_type": "code",
      "source": [
        "# Set seed to 321\n",
        "np.random.seed(321)\n",
        "\n",
        "sample_means = []\n",
        "# Loop 30 times to take 30 means\n",
        "for i in range(30):\n",
        "  # Take sample of size 20 from num_users col of all_deals with replacement\n",
        "  cur_sample = amir_deals['num_users'].sample(20,replace = True)\n",
        "  # Take mean of cur_sample\n",
        "  cur_mean = np.mean(cur_sample)\n",
        "  # Append cur_mean to sample_means\n",
        "  sample_means.append(cur_mean)\n",
        "\n",
        "# Print mean of sample_means\n",
        "print(np.mean(sample_means))\n",
        "\n",
        "# Print mean of num_users in amir_deals\n",
        "print(np.mean(amir_deals['num_users']))"
      ],
      "metadata": {
        "colab": {
          "base_uri": "https://localhost:8080/"
        },
        "id": "KFKW-zVLgIzY",
        "outputId": "b576114b-b032-485c-a867-e1c1adfba307"
      },
      "execution_count": null,
      "outputs": [
        {
          "output_type": "stream",
          "name": "stdout",
          "text": [
            "38.821666666666665\n",
            "37.651685393258425\n"
          ]
        }
      ]
    },
    {
      "cell_type": "markdown",
      "source": [
        "Amir's average number of users is very close to the overall average, so it looks like he's meeting expectations. Make sure to note this in his performance review!"
      ],
      "metadata": {
        "id": "5da4EiNRgy2s"
      }
    },
    {
      "cell_type": "markdown",
      "source": [
        "# **Tracking lead responses**\n",
        "\n",
        "Your company uses sales software to keep track of new sales leads. It organizes them into a queue so that anyone can follow up on one when they have a bit of free time. Since the number of lead responses is a countable outcome over a period of time, this scenario corresponds to a Poisson distribution. On average, Amir responds to 4 leads each day"
      ],
      "metadata": {
        "id": "jU2z7LSNh_np"
      }
    },
    {
      "cell_type": "code",
      "source": [
        "# Import poisson from scipy.stats\n",
        "from scipy.stats import poisson\n",
        "\n",
        "# Probability of 5 responses\n",
        "prob_5 = poisson.pmf(5,4)\n",
        "\n",
        "print(prob_5)"
      ],
      "metadata": {
        "colab": {
          "base_uri": "https://localhost:8080/"
        },
        "id": "lFngDhQ8hDJA",
        "outputId": "6aadc5ba-ba70-4122-de9f-8399843c542f"
      },
      "execution_count": null,
      "outputs": [
        {
          "output_type": "stream",
          "name": "stdout",
          "text": [
            "0.1562934518505317\n"
          ]
        }
      ]
    },
    {
      "cell_type": "markdown",
      "source": [
        "Amir's coworker responds to an average of 5.5 leads per day. What is the probability that she answers 5 leads in a day?"
      ],
      "metadata": {
        "id": "ABMDb16PimL-"
      }
    },
    {
      "cell_type": "code",
      "source": [
        "# Probability of 5 responses\n",
        "prob_coworker = poisson.pmf(5,5.5)\n",
        "\n",
        "print(prob_coworker)"
      ],
      "metadata": {
        "colab": {
          "base_uri": "https://localhost:8080/"
        },
        "id": "aTu_o6J_inxq",
        "outputId": "3adb4477-46f4-40cf-aa13-a9768570b59a"
      },
      "execution_count": null,
      "outputs": [
        {
          "output_type": "stream",
          "name": "stdout",
          "text": [
            "0.17140068409793663\n"
          ]
        }
      ]
    },
    {
      "cell_type": "markdown",
      "source": [
        "What's the probability that Amir responds to 2 or fewer leads in a day?"
      ],
      "metadata": {
        "id": "O-TGHxwRi7bl"
      }
    },
    {
      "cell_type": "code",
      "source": [
        "# Probability of 2 or fewer responses\n",
        "prob_2_or_less = poisson.cdf(2,4)\n",
        "\n",
        "print(prob_2_or_less)"
      ],
      "metadata": {
        "colab": {
          "base_uri": "https://localhost:8080/"
        },
        "id": "Hr2j-BRWi2rO",
        "outputId": "3aabf761-9146-47ba-85bd-cbd3cdaae1f7"
      },
      "execution_count": null,
      "outputs": [
        {
          "output_type": "stream",
          "name": "stdout",
          "text": [
            "0.23810330555354436\n"
          ]
        }
      ]
    },
    {
      "cell_type": "markdown",
      "source": [
        "What's the probability that Amir responds to more than 10 leads in a day?"
      ],
      "metadata": {
        "id": "UphHd5UljSpg"
      }
    },
    {
      "cell_type": "code",
      "source": [
        "# Probability of > 10 responses\n",
        "prob_over_10 = 1 - poisson.cdf(10,4)\n",
        "\n",
        "print(prob_over_10)"
      ],
      "metadata": {
        "colab": {
          "base_uri": "https://localhost:8080/"
        },
        "id": "Z97KAqH8jFzF",
        "outputId": "aa9e08ec-52bc-47af-b412-9c0b9951ceba"
      },
      "execution_count": null,
      "outputs": [
        {
          "output_type": "stream",
          "name": "stdout",
          "text": [
            "0.0028397661205137315\n"
          ]
        }
      ]
    },
    {
      "cell_type": "markdown",
      "source": [
        "# **Modeling time between leads**\n",
        "\n",
        "To further evaluate Amir's performance, you want to know how much time it takes him to respond to a lead after he opens it. On average, he responds to 1 request every 2.5 hours."
      ],
      "metadata": {
        "id": "sM0HL03UjlOG"
      }
    },
    {
      "cell_type": "markdown",
      "source": [
        "What's the probability it takes Amir less than an hour to respond to a lead?"
      ],
      "metadata": {
        "id": "G1TUW26oj6V8"
      }
    },
    {
      "cell_type": "code",
      "source": [
        "# Import expon from scipy.stats\n",
        "from scipy.stats import expon\n",
        "\n",
        "# Print probability response takes < 1 hour\n",
        "print(expon.cdf(1, scale=2.5))"
      ],
      "metadata": {
        "colab": {
          "base_uri": "https://localhost:8080/"
        },
        "id": "_7AgS3IQj1yV",
        "outputId": "28c8a57a-2bfd-4367-98da-ea8e8a3fd693"
      },
      "execution_count": null,
      "outputs": [
        {
          "output_type": "stream",
          "name": "stdout",
          "text": [
            "0.3296799539643607\n"
          ]
        }
      ]
    },
    {
      "cell_type": "markdown",
      "source": [
        "What's the probability it takes Amir more than 4 hours to respond to a lead?"
      ],
      "metadata": {
        "id": "-kHK0xYgkTI7"
      }
    },
    {
      "cell_type": "code",
      "source": [
        "# Print probability response takes > 4 hours\n",
        "print(1 - expon.cdf(4,scale = 2.5))"
      ],
      "metadata": {
        "colab": {
          "base_uri": "https://localhost:8080/"
        },
        "id": "zbKZPo2WkbZb",
        "outputId": "e4490bc1-294f-4f37-8401-ebb5a43c01d8"
      },
      "execution_count": null,
      "outputs": [
        {
          "output_type": "stream",
          "name": "stdout",
          "text": [
            "0.20189651799465536\n"
          ]
        }
      ]
    },
    {
      "cell_type": "markdown",
      "source": [
        "What's the probability it takes Amir 3-4 hours to respond to a lead?"
      ],
      "metadata": {
        "id": "OlVZHlTykqjR"
      }
    },
    {
      "cell_type": "code",
      "source": [
        "# Print probability response takes 3-4 hours\n",
        "print(expon.cdf(4,scale=2.5) - expon.cdf(3,scale=2.5))"
      ],
      "metadata": {
        "colab": {
          "base_uri": "https://localhost:8080/"
        },
        "id": "8Et9rNRYksYI",
        "outputId": "b2abebde-48e6-46c5-dcff-317bb47c256a"
      },
      "execution_count": null,
      "outputs": [
        {
          "output_type": "stream",
          "name": "stdout",
          "text": [
            "0.09929769391754684\n"
          ]
        }
      ]
    },
    {
      "cell_type": "markdown",
      "source": [
        "### ***There's only about a 20% chance it will take Amir more than 4 hours to respond, so he's pretty speedy in his responses.***"
      ],
      "metadata": {
        "id": "tNhEiyFJk_KL"
      }
    },
    {
      "cell_type": "code",
      "source": [],
      "metadata": {
        "id": "m1IDM3W7lF1O"
      },
      "execution_count": null,
      "outputs": []
    }
  ]
}