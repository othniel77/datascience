{
  "nbformat": 4,
  "nbformat_minor": 0,
  "metadata": {
    "colab": {
      "provenance": [],
      "authorship_tag": "ABX9TyMrrUe/h0BEm9WyqF0x8o9G",
      "include_colab_link": true
    },
    "kernelspec": {
      "name": "python3",
      "display_name": "Python 3"
    },
    "language_info": {
      "name": "python"
    }
  },
  "cells": [
    {
      "cell_type": "markdown",
      "metadata": {
        "id": "view-in-github",
        "colab_type": "text"
      },
      "source": [
        "<a href=\"https://colab.research.google.com/github/othniel77/datascience/blob/main/Series_partie_1.ipynb\" target=\"_parent\"><img src=\"https://colab.research.google.com/assets/colab-badge.svg\" alt=\"Open In Colab\"/></a>"
      ]
    },
    {
      "cell_type": "code",
      "execution_count": 1,
      "metadata": {
        "id": "UVkNoqmVdSVl"
      },
      "outputs": [],
      "source": [
        "import numpy as np\n",
        "import pandas as pd"
      ]
    },
    {
      "cell_type": "code",
      "source": [
        "# trouvons série grace à la librairie pandas pd avec Series et S en majuscule absolument\n",
        "# créer une liste d'index étiqueté ou labelissé des noms des pays\n",
        "my_index = ['USA','Canada','Mexico']"
      ],
      "metadata": {
        "id": "q2KESxWxeaa-"
      },
      "execution_count": 2,
      "outputs": []
    },
    {
      "cell_type": "code",
      "source": [
        "# créons une liste de valeur pour les données qui correspond aux dates d'independance\n",
        "my_data = [1776,1867,1821]"
      ],
      "metadata": {
        "id": "BG3VbLY0fUrI"
      },
      "execution_count": 3,
      "outputs": []
    },
    {
      "cell_type": "code",
      "source": [
        "# créons une série\n",
        "my_ser = pd.Series(data = my_data)\n",
        "my_ser\n",
        "# python convertit notre liste à une série\n",
        "# la série prend automatiquement l'index numérique 0,1,2"
      ],
      "metadata": {
        "colab": {
          "base_uri": "https://localhost:8080/"
        },
        "id": "I6WIjoDhfr1g",
        "outputId": "676874de-ad12-4544-c3b2-be6670682c5a"
      },
      "execution_count": 4,
      "outputs": [
        {
          "output_type": "execute_result",
          "data": {
            "text/plain": [
              "0    1776\n",
              "1    1867\n",
              "2    1821\n",
              "dtype: int64"
            ]
          },
          "metadata": {},
          "execution_count": 4
        }
      ]
    },
    {
      "cell_type": "code",
      "source": [
        "# nous allons changer l'index en mettant la liste my_index à la place de l'index numérique\n",
        "my_ser = pd.Series(data = my_data, index = my_index)\n",
        "my_ser\n",
        "# ces nouveaux index sont des index nominatifs ou index vec un label"
      ],
      "metadata": {
        "colab": {
          "base_uri": "https://localhost:8080/"
        },
        "id": "NVYUKoLlgsyC",
        "outputId": "8295abb2-06b9-4edb-c4b1-40675962db14"
      },
      "execution_count": 5,
      "outputs": [
        {
          "output_type": "execute_result",
          "data": {
            "text/plain": [
              "USA       1776\n",
              "Canada    1867\n",
              "Mexico    1821\n",
              "dtype: int64"
            ]
          },
          "metadata": {},
          "execution_count": 5
        }
      ]
    },
    {
      "cell_type": "code",
      "source": [
        "my_ser[0]\n",
        "# ceci renvoie la première valeur"
      ],
      "metadata": {
        "colab": {
          "base_uri": "https://localhost:8080/"
        },
        "id": "2Sy86u2xhTXH",
        "outputId": "d892c629-b888-4108-d4cc-e9e324ba9f71"
      },
      "execution_count": 6,
      "outputs": [
        {
          "output_type": "execute_result",
          "data": {
            "text/plain": [
              "1776"
            ]
          },
          "metadata": {},
          "execution_count": 6
        }
      ]
    },
    {
      "cell_type": "code",
      "source": [
        "my_ser['USA']"
      ],
      "metadata": {
        "colab": {
          "base_uri": "https://localhost:8080/"
        },
        "id": "YwwrDeMdhfYs",
        "outputId": "8f4b9e68-420c-4165-fb86-da92757e1218"
      },
      "execution_count": 7,
      "outputs": [
        {
          "output_type": "execute_result",
          "data": {
            "text/plain": [
              "1776"
            ]
          },
          "metadata": {},
          "execution_count": 7
        }
      ]
    },
    {
      "cell_type": "code",
      "source": [
        "# on peut réecrire la série en gardant l'ordre comme suit et obtenir le meme résultat\n",
        "my_ser = pd.Series(my_data,my_index)\n",
        "my_ser"
      ],
      "metadata": {
        "colab": {
          "base_uri": "https://localhost:8080/"
        },
        "id": "yptqaEZ5h071",
        "outputId": "0c4203e8-c8e5-4f28-c00f-dcff80828b31"
      },
      "execution_count": 8,
      "outputs": [
        {
          "output_type": "execute_result",
          "data": {
            "text/plain": [
              "USA       1776\n",
              "Canada    1867\n",
              "Mexico    1821\n",
              "dtype: int64"
            ]
          },
          "metadata": {},
          "execution_count": 8
        }
      ]
    },
    {
      "cell_type": "code",
      "source": [
        "# créons une série à partir d'un dictionnaire\n",
        "ages = {'Sam':5,'frank':10,'Spike':7}"
      ],
      "metadata": {
        "id": "4gSlI46FiV_H"
      },
      "execution_count": 9,
      "outputs": []
    },
    {
      "cell_type": "code",
      "source": [
        "# pandas est suffisement intelligent pour prendre les clés (Sam,frank et spike) en index et afficher aussi les valeurs\n",
        "pd.Series(ages)\n",
        "# cela nous aide à facilement organiser les données"
      ],
      "metadata": {
        "colab": {
          "base_uri": "https://localhost:8080/"
        },
        "id": "xxIooAA4iwuy",
        "outputId": "af5489e5-4b40-43c2-894b-08328ff8298c"
      },
      "execution_count": 10,
      "outputs": [
        {
          "output_type": "execute_result",
          "data": {
            "text/plain": [
              "Sam       5\n",
              "frank    10\n",
              "Spike     7\n",
              "dtype: int64"
            ]
          },
          "metadata": {},
          "execution_count": 10
        }
      ]
    },
    {
      "cell_type": "code",
      "source": [
        "# Données de ventes (inventés) pour les 1er(q1) et 2e (q2) trimestres pour une entreprise mondiale\n",
        "q1 = {'Japan': 80, 'China': 450, 'India': 200, 'USA': 250}\n",
        "q2 = {'Brazil': 100,'China': 500, 'India': 210,'USA': 260}"
      ],
      "metadata": {
        "id": "2GtFdC8M4AsW"
      },
      "execution_count": 11,
      "outputs": []
    },
    {
      "cell_type": "code",
      "source": [
        "# pour trouver la série q1\n",
        "sales_q1 = pd.Series(q1)\n",
        "sales_q1\n",
        "# ainsi notre compagnie a réalisé pour le première semestre au japon,la vente de 80 produits"
      ],
      "metadata": {
        "colab": {
          "base_uri": "https://localhost:8080/"
        },
        "id": "9hkFlRto4cau",
        "outputId": "885682dd-a022-4415-b8b8-9b7c08392fde"
      },
      "execution_count": 13,
      "outputs": [
        {
          "output_type": "execute_result",
          "data": {
            "text/plain": [
              "Japan     80\n",
              "China    450\n",
              "India    200\n",
              "USA      250\n",
              "dtype: int64"
            ]
          },
          "metadata": {},
          "execution_count": 13
        }
      ]
    },
    {
      "cell_type": "code",
      "source": [
        "sales_q2 = pd.Series(q2)\n",
        "sales_q2\n",
        "# La compagnie a connu une hausse dans ces ventes en chine, passant de 450 au q1 à 500 au q2"
      ],
      "metadata": {
        "colab": {
          "base_uri": "https://localhost:8080/"
        },
        "id": "RfCo1PVr47at",
        "outputId": "1158f45c-11d0-4485-f744-45e72f151bac"
      },
      "execution_count": 14,
      "outputs": [
        {
          "output_type": "execute_result",
          "data": {
            "text/plain": [
              "Brazil    100\n",
              "China     500\n",
              "India     210\n",
              "USA       260\n",
              "dtype: int64"
            ]
          },
          "metadata": {},
          "execution_count": 14
        }
      ]
    },
    {
      "cell_type": "code",
      "source": [
        "# cherchons la vente du japon au 1er trimestre\n",
        "sales_q1['Japan']"
      ],
      "metadata": {
        "colab": {
          "base_uri": "https://localhost:8080/"
        },
        "id": "hTlx-wsF5uWS",
        "outputId": "714058d8-0674-428d-9283-94373a29063c"
      },
      "execution_count": 15,
      "outputs": [
        {
          "output_type": "execute_result",
          "data": {
            "text/plain": [
              "80"
            ]
          },
          "metadata": {},
          "execution_count": 15
        }
      ]
    },
    {
      "cell_type": "code",
      "source": [
        "# ou en se réferent de l'index numérique\n",
        "sales_q1[0]"
      ],
      "metadata": {
        "colab": {
          "base_uri": "https://localhost:8080/"
        },
        "id": "ioXGEbXN5-qt",
        "outputId": "2b428692-ff64-48bb-beb6-68670c2413ba"
      },
      "execution_count": 16,
      "outputs": [
        {
          "output_type": "execute_result",
          "data": {
            "text/plain": [
              "80"
            ]
          },
          "metadata": {},
          "execution_count": 16
        }
      ]
    },
    {
      "cell_type": "code",
      "source": [
        "# comment avoir l'objet index dans l'ordre\n",
        "sales_q1.keys()"
      ],
      "metadata": {
        "colab": {
          "base_uri": "https://localhost:8080/"
        },
        "id": "A8NxP9Zm6vv3",
        "outputId": "54124201-ca78-477b-85c0-497efed6edde"
      },
      "execution_count": 17,
      "outputs": [
        {
          "output_type": "execute_result",
          "data": {
            "text/plain": [
              "Index(['Japan', 'China', 'India', 'USA'], dtype='object')"
            ]
          },
          "metadata": {},
          "execution_count": 17
        }
      ]
    },
    {
      "cell_type": "code",
      "source": [
        "# abordons les séries sur numpy\n",
        "np.array([1,2])*2"
      ],
      "metadata": {
        "colab": {
          "base_uri": "https://localhost:8080/"
        },
        "id": "Q4gFpCQe7SEn",
        "outputId": "7ddb8841-5911-41eb-8ceb-0586e83a1b0b"
      },
      "execution_count": 18,
      "outputs": [
        {
          "output_type": "execute_result",
          "data": {
            "text/plain": [
              "array([2, 4])"
            ]
          },
          "metadata": {},
          "execution_count": 18
        }
      ]
    },
    {
      "cell_type": "code",
      "source": [
        "# utilisons notre objet numpy sales_q1 avec la multiplication\n",
        "sales_q1*2\n",
        "# nous obtenons le nombre de vente dans chaque pays multiplie par 2"
      ],
      "metadata": {
        "colab": {
          "base_uri": "https://localhost:8080/"
        },
        "id": "QuqGyyWN7gnB",
        "outputId": "b7932602-ec75-4617-d2ba-aa0eee67aaf0"
      },
      "execution_count": 19,
      "outputs": [
        {
          "output_type": "execute_result",
          "data": {
            "text/plain": [
              "Japan    160\n",
              "China    900\n",
              "India    400\n",
              "USA      500\n",
              "dtype: int64"
            ]
          },
          "metadata": {},
          "execution_count": 19
        }
      ]
    },
    {
      "cell_type": "code",
      "source": [
        "# nous pouvons diviser la série par 100\n",
        "sales_q1 / 100"
      ],
      "metadata": {
        "colab": {
          "base_uri": "https://localhost:8080/"
        },
        "id": "syDVO5mv76Co",
        "outputId": "40e3490a-7271-4651-aefb-8b5df0e1b29c"
      },
      "execution_count": 20,
      "outputs": [
        {
          "output_type": "execute_result",
          "data": {
            "text/plain": [
              "Japan    0.8\n",
              "China    4.5\n",
              "India    2.0\n",
              "USA      2.5\n",
              "dtype: float64"
            ]
          },
          "metadata": {},
          "execution_count": 20
        }
      ]
    },
    {
      "cell_type": "code",
      "source": [
        "# essayons de faire la somme des ventes de deux trimestres ou du semestre\n",
        "sales_q1 + sales_q2\n",
        "# nous avons Nan sur Brazil et Japan"
      ],
      "metadata": {
        "colab": {
          "base_uri": "https://localhost:8080/"
        },
        "id": "sPMGJYUd8dw8",
        "outputId": "afa83f81-54f2-4411-e55b-cb78b3fef77d"
      },
      "execution_count": 21,
      "outputs": [
        {
          "output_type": "execute_result",
          "data": {
            "text/plain": [
              "Brazil      NaN\n",
              "China     950.0\n",
              "India     410.0\n",
              "Japan       NaN\n",
              "USA       510.0\n",
              "dtype: float64"
            ]
          },
          "metadata": {},
          "execution_count": 21
        }
      ]
    },
    {
      "cell_type": "code",
      "source": [
        "# Pour enlever les Nan du japon et Brazil, nous utilisons add et ajoutons fill_value = 0 pour remplacer les valeurs NAn par 0\n",
        "sales_q1.add(sales_q2,fill_value=0)\n",
        "# nous obtenons les valeurs attendues"
      ],
      "metadata": {
        "colab": {
          "base_uri": "https://localhost:8080/"
        },
        "id": "wVMuaitf9cRl",
        "outputId": "d1ed1dd5-9b90-4c91-8a62-662c28277ec4"
      },
      "execution_count": 22,
      "outputs": [
        {
          "output_type": "execute_result",
          "data": {
            "text/plain": [
              "Brazil    100.0\n",
              "China     950.0\n",
              "India     410.0\n",
              "Japan      80.0\n",
              "USA       510.0\n",
              "dtype: float64"
            ]
          },
          "metadata": {},
          "execution_count": 22
        }
      ]
    }
  ]
}