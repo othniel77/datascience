{
  "nbformat": 4,
  "nbformat_minor": 0,
  "metadata": {
    "colab": {
      "provenance": [],
      "authorship_tag": "ABX9TyOJLqfwExMXMRPrZdNzqxuO",
      "include_colab_link": true
    },
    "kernelspec": {
      "name": "python3",
      "display_name": "Python 3"
    },
    "language_info": {
      "name": "python"
    }
  },
  "cells": [
    {
      "cell_type": "markdown",
      "metadata": {
        "id": "view-in-github",
        "colab_type": "text"
      },
      "source": [
        "<a href=\"https://colab.research.google.com/github/othniel77/datascience/blob/main/intro_EDA.ipynb\" target=\"_parent\"><img src=\"https://colab.research.google.com/assets/colab-badge.svg\" alt=\"Open In Colab\"/></a>"
      ]
    },
    {
      "cell_type": "code",
      "execution_count": null,
      "metadata": {
        "id": "EH5BYw9HFGgo"
      },
      "outputs": [],
      "source": [
        "import pandas as pd"
      ]
    },
    {
      "cell_type": "code",
      "source": [
        "from google.colab import files\n",
        "data_to_load = files.upload()"
      ],
      "metadata": {
        "colab": {
          "base_uri": "https://localhost:8080/",
          "height": 73
        },
        "id": "eQZRu5NEFNdL",
        "outputId": "eaacf2c1-4ecc-47fb-d359-251072689a3c"
      },
      "execution_count": null,
      "outputs": [
        {
          "output_type": "display_data",
          "data": {
            "text/plain": [
              "<IPython.core.display.HTML object>"
            ],
            "text/html": [
              "\n",
              "     <input type=\"file\" id=\"files-e629dfbb-c7e9-4c0f-8455-384b3d0987b0\" name=\"files[]\" multiple disabled\n",
              "        style=\"border:none\" />\n",
              "     <output id=\"result-e629dfbb-c7e9-4c0f-8455-384b3d0987b0\">\n",
              "      Upload widget is only available when the cell has been executed in the\n",
              "      current browser session. Please rerun this cell to enable.\n",
              "      </output>\n",
              "      <script>// Copyright 2017 Google LLC\n",
              "//\n",
              "// Licensed under the Apache License, Version 2.0 (the \"License\");\n",
              "// you may not use this file except in compliance with the License.\n",
              "// You may obtain a copy of the License at\n",
              "//\n",
              "//      http://www.apache.org/licenses/LICENSE-2.0\n",
              "//\n",
              "// Unless required by applicable law or agreed to in writing, software\n",
              "// distributed under the License is distributed on an \"AS IS\" BASIS,\n",
              "// WITHOUT WARRANTIES OR CONDITIONS OF ANY KIND, either express or implied.\n",
              "// See the License for the specific language governing permissions and\n",
              "// limitations under the License.\n",
              "\n",
              "/**\n",
              " * @fileoverview Helpers for google.colab Python module.\n",
              " */\n",
              "(function(scope) {\n",
              "function span(text, styleAttributes = {}) {\n",
              "  const element = document.createElement('span');\n",
              "  element.textContent = text;\n",
              "  for (const key of Object.keys(styleAttributes)) {\n",
              "    element.style[key] = styleAttributes[key];\n",
              "  }\n",
              "  return element;\n",
              "}\n",
              "\n",
              "// Max number of bytes which will be uploaded at a time.\n",
              "const MAX_PAYLOAD_SIZE = 100 * 1024;\n",
              "\n",
              "function _uploadFiles(inputId, outputId) {\n",
              "  const steps = uploadFilesStep(inputId, outputId);\n",
              "  const outputElement = document.getElementById(outputId);\n",
              "  // Cache steps on the outputElement to make it available for the next call\n",
              "  // to uploadFilesContinue from Python.\n",
              "  outputElement.steps = steps;\n",
              "\n",
              "  return _uploadFilesContinue(outputId);\n",
              "}\n",
              "\n",
              "// This is roughly an async generator (not supported in the browser yet),\n",
              "// where there are multiple asynchronous steps and the Python side is going\n",
              "// to poll for completion of each step.\n",
              "// This uses a Promise to block the python side on completion of each step,\n",
              "// then passes the result of the previous step as the input to the next step.\n",
              "function _uploadFilesContinue(outputId) {\n",
              "  const outputElement = document.getElementById(outputId);\n",
              "  const steps = outputElement.steps;\n",
              "\n",
              "  const next = steps.next(outputElement.lastPromiseValue);\n",
              "  return Promise.resolve(next.value.promise).then((value) => {\n",
              "    // Cache the last promise value to make it available to the next\n",
              "    // step of the generator.\n",
              "    outputElement.lastPromiseValue = value;\n",
              "    return next.value.response;\n",
              "  });\n",
              "}\n",
              "\n",
              "/**\n",
              " * Generator function which is called between each async step of the upload\n",
              " * process.\n",
              " * @param {string} inputId Element ID of the input file picker element.\n",
              " * @param {string} outputId Element ID of the output display.\n",
              " * @return {!Iterable<!Object>} Iterable of next steps.\n",
              " */\n",
              "function* uploadFilesStep(inputId, outputId) {\n",
              "  const inputElement = document.getElementById(inputId);\n",
              "  inputElement.disabled = false;\n",
              "\n",
              "  const outputElement = document.getElementById(outputId);\n",
              "  outputElement.innerHTML = '';\n",
              "\n",
              "  const pickedPromise = new Promise((resolve) => {\n",
              "    inputElement.addEventListener('change', (e) => {\n",
              "      resolve(e.target.files);\n",
              "    });\n",
              "  });\n",
              "\n",
              "  const cancel = document.createElement('button');\n",
              "  inputElement.parentElement.appendChild(cancel);\n",
              "  cancel.textContent = 'Cancel upload';\n",
              "  const cancelPromise = new Promise((resolve) => {\n",
              "    cancel.onclick = () => {\n",
              "      resolve(null);\n",
              "    };\n",
              "  });\n",
              "\n",
              "  // Wait for the user to pick the files.\n",
              "  const files = yield {\n",
              "    promise: Promise.race([pickedPromise, cancelPromise]),\n",
              "    response: {\n",
              "      action: 'starting',\n",
              "    }\n",
              "  };\n",
              "\n",
              "  cancel.remove();\n",
              "\n",
              "  // Disable the input element since further picks are not allowed.\n",
              "  inputElement.disabled = true;\n",
              "\n",
              "  if (!files) {\n",
              "    return {\n",
              "      response: {\n",
              "        action: 'complete',\n",
              "      }\n",
              "    };\n",
              "  }\n",
              "\n",
              "  for (const file of files) {\n",
              "    const li = document.createElement('li');\n",
              "    li.append(span(file.name, {fontWeight: 'bold'}));\n",
              "    li.append(span(\n",
              "        `(${file.type || 'n/a'}) - ${file.size} bytes, ` +\n",
              "        `last modified: ${\n",
              "            file.lastModifiedDate ? file.lastModifiedDate.toLocaleDateString() :\n",
              "                                    'n/a'} - `));\n",
              "    const percent = span('0% done');\n",
              "    li.appendChild(percent);\n",
              "\n",
              "    outputElement.appendChild(li);\n",
              "\n",
              "    const fileDataPromise = new Promise((resolve) => {\n",
              "      const reader = new FileReader();\n",
              "      reader.onload = (e) => {\n",
              "        resolve(e.target.result);\n",
              "      };\n",
              "      reader.readAsArrayBuffer(file);\n",
              "    });\n",
              "    // Wait for the data to be ready.\n",
              "    let fileData = yield {\n",
              "      promise: fileDataPromise,\n",
              "      response: {\n",
              "        action: 'continue',\n",
              "      }\n",
              "    };\n",
              "\n",
              "    // Use a chunked sending to avoid message size limits. See b/62115660.\n",
              "    let position = 0;\n",
              "    do {\n",
              "      const length = Math.min(fileData.byteLength - position, MAX_PAYLOAD_SIZE);\n",
              "      const chunk = new Uint8Array(fileData, position, length);\n",
              "      position += length;\n",
              "\n",
              "      const base64 = btoa(String.fromCharCode.apply(null, chunk));\n",
              "      yield {\n",
              "        response: {\n",
              "          action: 'append',\n",
              "          file: file.name,\n",
              "          data: base64,\n",
              "        },\n",
              "      };\n",
              "\n",
              "      let percentDone = fileData.byteLength === 0 ?\n",
              "          100 :\n",
              "          Math.round((position / fileData.byteLength) * 100);\n",
              "      percent.textContent = `${percentDone}% done`;\n",
              "\n",
              "    } while (position < fileData.byteLength);\n",
              "  }\n",
              "\n",
              "  // All done.\n",
              "  yield {\n",
              "    response: {\n",
              "      action: 'complete',\n",
              "    }\n",
              "  };\n",
              "}\n",
              "\n",
              "scope.google = scope.google || {};\n",
              "scope.google.colab = scope.google.colab || {};\n",
              "scope.google.colab._files = {\n",
              "  _uploadFiles,\n",
              "  _uploadFilesContinue,\n",
              "};\n",
              "})(self);\n",
              "</script> "
            ]
          },
          "metadata": {}
        },
        {
          "output_type": "stream",
          "name": "stdout",
          "text": [
            "Saving clean_unemployment.csv to clean_unemployment.csv\n"
          ]
        }
      ]
    },
    {
      "cell_type": "code",
      "source": [
        "unemployment = pd.read_csv('/content/clean_unemployment.csv')\n",
        "print(unemployment.head())"
      ],
      "metadata": {
        "colab": {
          "base_uri": "https://localhost:8080/"
        },
        "id": "-AKrPitnFYqP",
        "outputId": "e50878e0-e77b-4c42-afa3-66a8f5fd2289"
      },
      "execution_count": null,
      "outputs": [
        {
          "output_type": "stream",
          "name": "stdout",
          "text": [
            "  country_code          country_name      continent   2010   2011   2012  \\\n",
            "0          AFG           Afghanistan           Asia  11.35  11.05  11.34   \n",
            "1          AGO                Angola         Africa   9.43   7.36   7.35   \n",
            "2          ALB               Albania         Europe  14.09  13.48  13.38   \n",
            "3          ARE  United Arab Emirates           Asia   2.48   2.30   2.18   \n",
            "4          ARG             Argentina  South America   7.71   7.18   7.22   \n",
            "\n",
            "    2013   2014   2015   2016   2017   2018   2019   2020   2021  \n",
            "0  11.19  11.14  11.13  11.16  11.18  11.15  11.22  11.71  13.28  \n",
            "1   7.37   7.37   7.39   7.41   7.41   7.42   7.42   8.33   8.53  \n",
            "2  15.87  18.05  17.19  15.42  13.62  12.30  11.47  13.33  11.82  \n",
            "3   2.04   1.91   1.77   1.64   2.46   2.35   2.23   3.19   3.36  \n",
            "4   7.10   7.27   7.52   8.11   8.35   9.22   9.84  11.46  10.90  \n"
          ]
        }
      ]
    },
    {
      "cell_type": "code",
      "source": [
        "# Print a summary of non-missing values and data types in the unemployment DataFrame\n",
        "print(unemployment.info())"
      ],
      "metadata": {
        "colab": {
          "base_uri": "https://localhost:8080/"
        },
        "id": "1Io1TeWaFYiK",
        "outputId": "745dd63b-112b-469f-dc6d-b42a6e84e81e"
      },
      "execution_count": null,
      "outputs": [
        {
          "output_type": "stream",
          "name": "stdout",
          "text": [
            "<class 'pandas.core.frame.DataFrame'>\n",
            "RangeIndex: 182 entries, 0 to 181\n",
            "Data columns (total 15 columns):\n",
            " #   Column        Non-Null Count  Dtype  \n",
            "---  ------        --------------  -----  \n",
            " 0   country_code  182 non-null    object \n",
            " 1   country_name  182 non-null    object \n",
            " 2   continent     177 non-null    object \n",
            " 3   2010          182 non-null    float64\n",
            " 4   2011          182 non-null    float64\n",
            " 5   2012          182 non-null    float64\n",
            " 6   2013          182 non-null    float64\n",
            " 7   2014          182 non-null    float64\n",
            " 8   2015          182 non-null    float64\n",
            " 9   2016          182 non-null    float64\n",
            " 10  2017          182 non-null    float64\n",
            " 11  2018          182 non-null    float64\n",
            " 12  2019          182 non-null    float64\n",
            " 13  2020          182 non-null    float64\n",
            " 14  2021          182 non-null    float64\n",
            "dtypes: float64(12), object(3)\n",
            "memory usage: 21.5+ KB\n",
            "None\n"
          ]
        }
      ]
    },
    {
      "cell_type": "code",
      "source": [
        "# Print summary statistics for numerical columns in unemployment\n",
        "print(unemployment.describe())"
      ],
      "metadata": {
        "colab": {
          "base_uri": "https://localhost:8080/"
        },
        "id": "qFalyf2WFXMs",
        "outputId": "7c58d651-f9c3-4af2-c9bb-c34eaabaab2d"
      },
      "execution_count": null,
      "outputs": [
        {
          "output_type": "stream",
          "name": "stdout",
          "text": [
            "             2010        2011        2012        2013        2014        2015  \\\n",
            "count  182.000000  182.000000  182.000000  182.000000  182.000000  182.000000   \n",
            "mean     8.409286    8.315440    8.317967    8.344780    8.179670    8.058901   \n",
            "std      6.248887    6.266795    6.367270    6.416041    6.284241    6.161170   \n",
            "min      0.450000    0.320000    0.480000    0.250000    0.200000    0.170000   \n",
            "25%      4.015000    3.775000    3.742500    3.692500    3.625000    3.662500   \n",
            "50%      6.965000    6.805000    6.690000    6.395000    6.450000    6.170000   \n",
            "75%     10.957500   11.045000   11.285000   11.310000   10.695000   10.215000   \n",
            "max     32.020000   31.380000   31.020000   29.000000   28.030000   27.690000   \n",
            "\n",
            "             2016        2017        2018        2019        2020        2021  \n",
            "count  182.000000  182.000000  182.000000  182.000000  182.000000  182.000000  \n",
            "mean     7.925879    7.668626    7.426429    7.243736    8.420934    8.390879  \n",
            "std      6.045439    5.902152    5.818915    5.696573    6.040915    6.067192  \n",
            "min      0.150000    0.140000    0.110000    0.100000    0.210000    0.260000  \n",
            "25%      3.800000    3.690000    3.625000    3.487500    4.285000    4.335000  \n",
            "50%      5.925000    5.650000    5.375000    5.240000    6.695000    6.425000  \n",
            "75%     10.245000   10.315000    9.257500    9.445000   11.155000   10.840000  \n",
            "max     26.540000   27.040000   26.910000   28.470000   29.220000   33.560000  \n"
          ]
        }
      ]
    },
    {
      "cell_type": "code",
      "source": [
        "# Count the values associated with each continent in unemployment\n",
        "print(unemployment[\"continent\"].value_counts())"
      ],
      "metadata": {
        "colab": {
          "base_uri": "https://localhost:8080/"
        },
        "id": "lPRuGquLGKJ3",
        "outputId": "4435cc89-e220-484e-bae8-8b811c252916"
      },
      "execution_count": null,
      "outputs": [
        {
          "output_type": "stream",
          "name": "stdout",
          "text": [
            "Africa           53\n",
            "Asia             47\n",
            "Europe           39\n",
            "North America    18\n",
            "South America    12\n",
            "Oceania           8\n",
            "Name: continent, dtype: int64\n"
          ]
        }
      ]
    },
    {
      "cell_type": "markdown",
      "source": [
        "Did you know that there are 23 countries in North America, which includes countries in the Caribbean and Central America? You may have noticed that North America has 18 data points in the unemployment DataFrame, so we are missing information on a few of the countries from our dataset."
      ],
      "metadata": {
        "id": "EmmLLoieGTfs"
      }
    },
    {
      "cell_type": "code",
      "source": [
        "# Import the required visualization libraries\n",
        "import seaborn as sns\n",
        "import matplotlib.pyplot as plt\n",
        "\n",
        "# Create a histogram of 2021 unemployment; show a full percent in each bin\n",
        "sns.histplot(data=unemployment,x=\"2021\",binwidth=1)\n",
        "plt.show()"
      ],
      "metadata": {
        "colab": {
          "base_uri": "https://localhost:8080/",
          "height": 449
        },
        "id": "ui11Jdz1GVO9",
        "outputId": "f5b5f38c-696a-48ea-f822-f9f65d89213e"
      },
      "execution_count": null,
      "outputs": [
        {
          "output_type": "display_data",
          "data": {
            "text/plain": [
              "<Figure size 640x480 with 1 Axes>"
            ],
            "image/png": "[encoded data removed]"
          },
          "metadata": {}
        }
      ]
    },
    {
      "cell_type": "markdown",
      "source": [
        "it looks like 2021 unemployment hovered around 3% to 8% for most countries in the dataset, but a few countries experienced very high unemployment of 20% to 35%."
      ],
      "metadata": {
        "id": "cyqpl4uHGocB"
      }
    },
    {
      "cell_type": "markdown",
      "source": [
        "# **Validating continent**"
      ],
      "metadata": {
        "id": "mlpdN1vsHM8W"
      }
    },
    {
      "cell_type": "code",
      "source": [
        "# Define a Series describing whether each continent is outside of Oceania\n",
        "not_oceania = ~unemployment[\"continent\"].isin([\"Oceania\"])\n",
        "\n",
        "# Print unemployment without records related to countries in Oceania\n",
        "print(unemployment[not_oceania])"
      ],
      "metadata": {
        "colab": {
          "base_uri": "https://localhost:8080/"
        },
        "id": "B8RAyufIGpT4",
        "outputId": "f1df9bd7-9c72-4591-ed83-da80a26e3ec4"
      },
      "execution_count": null,
      "outputs": [
        {
          "output_type": "stream",
          "name": "stdout",
          "text": [
            "    country_code          country_name      continent   2010   2011   2012  \\\n",
            "0            AFG           Afghanistan           Asia  11.35  11.05  11.34   \n",
            "1            AGO                Angola         Africa   9.43   7.36   7.35   \n",
            "2            ALB               Albania         Europe  14.09  13.48  13.38   \n",
            "3            ARE  United Arab Emirates           Asia   2.48   2.30   2.18   \n",
            "4            ARG             Argentina  South America   7.71   7.18   7.22   \n",
            "..           ...                   ...            ...    ...    ...    ...   \n",
            "175          VNM               Vietnam           Asia   1.11   1.00   1.03   \n",
            "178          YEM           Yemen, Rep.           Asia  12.83  13.23  13.17   \n",
            "179          ZAF          South Africa         Africa  24.68  24.64  24.73   \n",
            "180          ZMB                Zambia         Africa  13.19  10.55   7.85   \n",
            "181          ZWE              Zimbabwe         Africa   5.21   5.37   5.15   \n",
            "\n",
            "      2013   2014   2015   2016   2017   2018   2019   2020   2021  \n",
            "0    11.19  11.14  11.13  11.16  11.18  11.15  11.22  11.71  13.28  \n",
            "1     7.37   7.37   7.39   7.41   7.41   7.42   7.42   8.33   8.53  \n",
            "2    15.87  18.05  17.19  15.42  13.62  12.30  11.47  13.33  11.82  \n",
            "3     2.04   1.91   1.77   1.64   2.46   2.35   2.23   3.19   3.36  \n",
            "4     7.10   7.27   7.52   8.11   8.35   9.22   9.84  11.46  10.90  \n",
            "..     ...    ...    ...    ...    ...    ...    ...    ...    ...  \n",
            "175   1.32   1.26   1.85   1.85   1.87   1.16   2.04   2.39   2.17  \n",
            "178  13.27  13.47  13.77  13.43  13.30  13.15  13.06  13.39  13.57  \n",
            "179  24.56  24.89  25.15  26.54  27.04  26.91  28.47  29.22  33.56  \n",
            "180   8.61   9.36  10.13  10.87  11.63  12.01  12.52  12.85  13.03  \n",
            "181   4.98   4.77   4.78   4.79   4.78   4.80   4.83   5.35   5.17  \n",
            "\n",
            "[174 rows x 15 columns]\n"
          ]
        }
      ]
    },
    {
      "cell_type": "markdown",
      "source": [
        "You validated categorical data and used your .isin() validation to then exclude data that you weren't interested in! Filtering out data that you don't need at the start of your EDA process is a great way to organize yourself for the exploration yet to come."
      ],
      "metadata": {
        "id": "ziUwOQsRHkWx"
      }
    },
    {
      "cell_type": "code",
      "source": [
        "# Print the minimum and maximum unemployment rates during 2021\n",
        "print(unemployment[\"2021\"].min(), unemployment[\"2021\"].max())\n",
        "\n",
        "# Create a boxplot of 2021 unemployment rates, broken down by continent\n",
        "sns.boxplot(data=unemployment,x=\"2021\", y=\"continent\")\n",
        "plt.show()"
      ],
      "metadata": {
        "colab": {
          "base_uri": "https://localhost:8080/",
          "height": 466
        },
        "id": "CCIuoO-aHnBi",
        "outputId": "482b479a-ba52-46f9-90dc-bf24a5149771"
      },
      "execution_count": null,
      "outputs": [
        {
          "output_type": "stream",
          "name": "stdout",
          "text": [
            "0.26 33.56\n"
          ]
        },
        {
          "output_type": "display_data",
          "data": {
            "text/plain": [
              "<Figure size 640x480 with 1 Axes>"
            ],
            "image/png": "[encoded data removed]"
          },
          "metadata": {}
        }
      ]
    },
    {
      "cell_type": "markdown",
      "source": [
        "Notice how different the ranges in unemployment are between continents. For example, Africa's 50th percentile is lower than that of North America, but the range is much wider."
      ],
      "metadata": {
        "id": "LeRC5Tn6IMRe"
      }
    },
    {
      "cell_type": "markdown",
      "source": [
        "# **Data summarization**"
      ],
      "metadata": {
        "id": "Hc0LY2B0IU-D"
      }
    },
    {
      "cell_type": "code",
      "source": [
        "# Print the mean and standard deviation of rates by year\n",
        "print(unemployment.agg([\"mean\",\"std\"]))"
      ],
      "metadata": {
        "colab": {
          "base_uri": "https://localhost:8080/"
        },
        "id": "GDQL1s4kIOib",
        "outputId": "216ff4d9-bee4-4d19-b473-624185684351"
      },
      "execution_count": null,
      "outputs": [
        {
          "output_type": "stream",
          "name": "stdout",
          "text": [
            "          2010      2011      2012      2013      2014      2015      2016  \\\n",
            "mean  8.409286  8.315440  8.317967  8.344780  8.179670  8.058901  7.925879   \n",
            "std   6.248887  6.266795  6.367270  6.416041  6.284241  6.161170  6.045439   \n",
            "\n",
            "          2017      2018      2019      2020      2021  \n",
            "mean  7.668626  7.426429  7.243736  8.420934  8.390879  \n",
            "std   5.902152  5.818915  5.696573  6.040915  6.067192  \n"
          ]
        },
        {
          "output_type": "stream",
          "name": "stderr",
          "text": [
            "<ipython-input-11-67b250622a2d>:2: FutureWarning: ['country_code', 'country_name', 'continent'] did not aggregate successfully. If any error is raised this will raise in a future version of pandas. Drop these columns/ops to avoid this warning.\n",
            "  print(unemployment.agg([\"mean\",\"std\"]))\n"
          ]
        }
      ]
    },
    {
      "cell_type": "code",
      "source": [
        "# Print yearly mean and standard deviation grouped by continent\n",
        "print(unemployment.groupby(\"continent\").agg([\"mean\",\"std\"]))"
      ],
      "metadata": {
        "colab": {
          "base_uri": "https://localhost:8080/"
        },
        "id": "i7_D0-VdIjEH",
        "outputId": "25e587ed-b7f2-4c3d-b547-31b56fb2fe77"
      },
      "execution_count": null,
      "outputs": [
        {
          "output_type": "stream",
          "name": "stdout",
          "text": [
            "                    2010                 2011                 2012            \\\n",
            "                    mean       std       mean       std       mean       std   \n",
            "continent                                                                      \n",
            "Africa          9.343585  7.411259   9.369245  7.401556   9.240755  7.264542   \n",
            "Asia            6.240638  5.146175   5.942128  4.779575   5.835319  4.756904   \n",
            "Europe         11.008205  6.392063  10.947949  6.539538  11.325641  7.003527   \n",
            "North America   8.663333  5.115805   8.563333  5.377041   8.448889  5.495819   \n",
            "Oceania         3.622500  2.054721   3.647500  2.008466   4.103750  2.723118   \n",
            "South America   6.870833  2.807058   6.518333  2.801577   6.410833  2.936508   \n",
            "\n",
            "                    2013                 2014            ...      2017  \\\n",
            "                    mean       std       mean       std  ...      mean   \n",
            "continent                                                ...             \n",
            "Africa          9.132453  7.309285   9.121321  7.291359  ...  9.284528   \n",
            "Asia            5.852128  4.668405   5.853191  4.681301  ...  6.171277   \n",
            "Europe         11.466667  6.969209  10.971282  6.759765  ...  8.359744   \n",
            "North America   8.840556  6.081829   8.512222  5.801927  ...  7.391111   \n",
            "Oceania         3.980000  2.640119   3.976250  2.659205  ...  3.872500   \n",
            "South America   6.335000  2.808780   6.347500  2.834332  ...  7.281667   \n",
            "\n",
            "                             2018                2019                 2020  \\\n",
            "                    std      mean       std      mean       std       mean   \n",
            "continent                                                                    \n",
            "Africa         7.407620  9.237925  7.358425  9.264340  7.455293  10.307736   \n",
            "Asia           5.277201  6.090213  5.409128  5.949149  5.254008   7.012340   \n",
            "Europe         5.177845  7.427436  4.738206  6.764359  4.124734   7.470513   \n",
            "North America  5.326446  7.281111  5.253180  7.095000  4.770490   9.297778   \n",
            "Oceania        2.492834  3.851250  2.455893  3.773750  2.369068   4.273750   \n",
            "South America  3.398994  7.496667  3.408856  7.719167  3.379845  10.275000   \n",
            "\n",
            "                              2021            \n",
            "                    std       mean       std  \n",
            "continent                                     \n",
            "Africa         7.928166  10.473585  8.131636  \n",
            "Asia           5.699609   6.906170  5.414745  \n",
            "Europe         4.071218   7.414872  3.947825  \n",
            "North America  4.963045   9.155000  5.076482  \n",
            "Oceania        2.617490   4.280000  2.671522  \n",
            "South America  3.411263   9.924167  3.611624  \n",
            "\n",
            "[6 rows x 24 columns]\n"
          ]
        },
        {
          "output_type": "stream",
          "name": "stderr",
          "text": [
            "<ipython-input-12-0def77e347eb>:2: FutureWarning: ['country_code', 'country_name'] did not aggregate successfully. If any error is raised this will raise in a future version of pandas. Drop these columns/ops to avoid this warning.\n",
            "  print(unemployment.groupby(\"continent\").agg([\"mean\",\"std\"]))\n"
          ]
        }
      ]
    },
    {
      "cell_type": "markdown",
      "source": [
        "This data is well-summarized, but it's a little long. What if you wanted to focus on a summary for just one year and make it more readable?"
      ],
      "metadata": {
        "id": "TvkOGhSWJAxU"
      }
    },
    {
      "cell_type": "code",
      "source": [
        "continent_summary = unemployment.groupby(\"continent\").agg(\n",
        "    # Create the mean_rate_2021 column\n",
        "    mean_rate_2021 = (\"2021\",\"mean\"),\n",
        "    # Create the std_rate_2021 column\n",
        "    std_rate_2021 = (\"2021\",\"std\"),\n",
        ")\n",
        "print(continent_summary)"
      ],
      "metadata": {
        "colab": {
          "base_uri": "https://localhost:8080/"
        },
        "id": "K-sCl8__JBxA",
        "outputId": "a90a96db-ba2b-4988-aefa-e46814a624a4"
      },
      "execution_count": null,
      "outputs": [
        {
          "output_type": "stream",
          "name": "stdout",
          "text": [
            "               mean_rate_2021  std_rate_2021\n",
            "continent                                   \n",
            "Africa              10.473585       8.131636\n",
            "Asia                 6.906170       5.414745\n",
            "Europe               7.414872       3.947825\n",
            "North America        9.155000       5.076482\n",
            "Oceania              4.280000       2.671522\n",
            "South America        9.924167       3.611624\n"
          ]
        }
      ]
    },
    {
      "cell_type": "markdown",
      "source": [
        "Average 2021 unemployment varied widely by continent, and so did the unemployment within those continents."
      ],
      "metadata": {
        "id": "2Vc5zJ8VJhCd"
      }
    },
    {
      "cell_type": "code",
      "source": [
        "# Create a bar plot of continents and their average unemployment\n",
        "sns.barplot(data=unemployment,x=\"continent\",y=\"2021\")\n",
        "plt.show()"
      ],
      "metadata": {
        "colab": {
          "base_uri": "https://localhost:8080/",
          "height": 449
        },
        "id": "3fauD3cTJv9U",
        "outputId": "7f77ea4c-de6c-43df-bd08-4484ea528675"
      },
      "execution_count": null,
      "outputs": [
        {
          "output_type": "display_data",
          "data": {
            "text/plain": [
              "<Figure size 640x480 with 1 Axes>"
            ],
            "image/png": "[encoded data removed]"
          },
          "metadata": {}
        }
      ]
    },
    {
      "cell_type": "markdown",
      "source": [
        "Way to go. While Europe has higher average unemployment than Asia, it also has a smaller confidence interval for that average, so the average value is more reliable."
      ],
      "metadata": {
        "id": "bLWgmXB0KRxc"
      }
    },
    {
      "cell_type": "code",
      "source": [],
      "metadata": {
        "id": "T3TrIBOyKTgS"
      },
      "execution_count": null,
      "outputs": []
    }
  ]
}