{
  "nbformat": 4,
  "nbformat_minor": 0,
  "metadata": {
    "colab": {
      "provenance": [],
      "authorship_tag": "ABX9TyPfUzlRijsH8OxT3/2oQtQR",
      "include_colab_link": true
    },
    "kernelspec": {
      "name": "python3",
      "display_name": "Python 3"
    },
    "language_info": {
      "name": "python"
    }
  },
  "cells": [
    {
      "cell_type": "markdown",
      "metadata": {
        "id": "view-in-github",
        "colab_type": "text"
      },
      "source": [
        "<a href=\"https://colab.research.google.com/github/othniel77/datascience/blob/main/Distribution_de_l'%C3%A9chantillonage.ipynb\" target=\"_parent\"><img src=\"https://colab.research.google.com/assets/colab-badge.svg\" alt=\"Open In Colab\"/></a>"
      ]
    },
    {
      "cell_type": "code",
      "execution_count": null,
      "metadata": {
        "id": "VdTh-luzsiq1"
      },
      "outputs": [],
      "source": [
        "import pandas as pd"
      ]
    },
    {
      "cell_type": "code",
      "source": [
        "from google.colab import files\n",
        "data_to_load = files.upload()"
      ],
      "metadata": {
        "colab": {
          "base_uri": "https://localhost:8080/",
          "height": 73
        },
        "id": "3nKp8iLPstsM",
        "outputId": "e66a139c-5426-43a3-ffc4-74f51642e19c"
      },
      "execution_count": null,
      "outputs": [
        {
          "output_type": "display_data",
          "data": {
            "text/plain": [
              "<IPython.core.display.HTML object>"
            ],
            "text/html": [
              "\n",
              "     <input type=\"file\" id=\"files-ce285ddb-5a9c-4339-99c7-4bcd0387ab3e\" name=\"files[]\" multiple disabled\n",
              "        style=\"border:none\" />\n",
              "     <output id=\"result-ce285ddb-5a9c-4339-99c7-4bcd0387ab3e\">\n",
              "      Upload widget is only available when the cell has been executed in the\n",
              "      current browser session. Please rerun this cell to enable.\n",
              "      </output>\n",
              "      <script>// Copyright 2017 Google LLC\n",
              "//\n",
              "// Licensed under the Apache License, Version 2.0 (the \"License\");\n",
              "// you may not use this file except in compliance with the License.\n",
              "// You may obtain a copy of the License at\n",
              "//\n",
              "//      http://www.apache.org/licenses/LICENSE-2.0\n",
              "//\n",
              "// Unless required by applicable law or agreed to in writing, software\n",
              "// distributed under the License is distributed on an \"AS IS\" BASIS,\n",
              "// WITHOUT WARRANTIES OR CONDITIONS OF ANY KIND, either express or implied.\n",
              "// See the License for the specific language governing permissions and\n",
              "// limitations under the License.\n",
              "\n",
              "/**\n",
              " * @fileoverview Helpers for google.colab Python module.\n",
              " */\n",
              "(function(scope) {\n",
              "function span(text, styleAttributes = {}) {\n",
              "  const element = document.createElement('span');\n",
              "  element.textContent = text;\n",
              "  for (const key of Object.keys(styleAttributes)) {\n",
              "    element.style[key] = styleAttributes[key];\n",
              "  }\n",
              "  return element;\n",
              "}\n",
              "\n",
              "// Max number of bytes which will be uploaded at a time.\n",
              "const MAX_PAYLOAD_SIZE = 100 * 1024;\n",
              "\n",
              "function _uploadFiles(inputId, outputId) {\n",
              "  const steps = uploadFilesStep(inputId, outputId);\n",
              "  const outputElement = document.getElementById(outputId);\n",
              "  // Cache steps on the outputElement to make it available for the next call\n",
              "  // to uploadFilesContinue from Python.\n",
              "  outputElement.steps = steps;\n",
              "\n",
              "  return _uploadFilesContinue(outputId);\n",
              "}\n",
              "\n",
              "// This is roughly an async generator (not supported in the browser yet),\n",
              "// where there are multiple asynchronous steps and the Python side is going\n",
              "// to poll for completion of each step.\n",
              "// This uses a Promise to block the python side on completion of each step,\n",
              "// then passes the result of the previous step as the input to the next step.\n",
              "function _uploadFilesContinue(outputId) {\n",
              "  const outputElement = document.getElementById(outputId);\n",
              "  const steps = outputElement.steps;\n",
              "\n",
              "  const next = steps.next(outputElement.lastPromiseValue);\n",
              "  return Promise.resolve(next.value.promise).then((value) => {\n",
              "    // Cache the last promise value to make it available to the next\n",
              "    // step of the generator.\n",
              "    outputElement.lastPromiseValue = value;\n",
              "    return next.value.response;\n",
              "  });\n",
              "}\n",
              "\n",
              "/**\n",
              " * Generator function which is called between each async step of the upload\n",
              " * process.\n",
              " * @param {string} inputId Element ID of the input file picker element.\n",
              " * @param {string} outputId Element ID of the output display.\n",
              " * @return {!Iterable<!Object>} Iterable of next steps.\n",
              " */\n",
              "function* uploadFilesStep(inputId, outputId) {\n",
              "  const inputElement = document.getElementById(inputId);\n",
              "  inputElement.disabled = false;\n",
              "\n",
              "  const outputElement = document.getElementById(outputId);\n",
              "  outputElement.innerHTML = '';\n",
              "\n",
              "  const pickedPromise = new Promise((resolve) => {\n",
              "    inputElement.addEventListener('change', (e) => {\n",
              "      resolve(e.target.files);\n",
              "    });\n",
              "  });\n",
              "\n",
              "  const cancel = document.createElement('button');\n",
              "  inputElement.parentElement.appendChild(cancel);\n",
              "  cancel.textContent = 'Cancel upload';\n",
              "  const cancelPromise = new Promise((resolve) => {\n",
              "    cancel.onclick = () => {\n",
              "      resolve(null);\n",
              "    };\n",
              "  });\n",
              "\n",
              "  // Wait for the user to pick the files.\n",
              "  const files = yield {\n",
              "    promise: Promise.race([pickedPromise, cancelPromise]),\n",
              "    response: {\n",
              "      action: 'starting',\n",
              "    }\n",
              "  };\n",
              "\n",
              "  cancel.remove();\n",
              "\n",
              "  // Disable the input element since further picks are not allowed.\n",
              "  inputElement.disabled = true;\n",
              "\n",
              "  if (!files) {\n",
              "    return {\n",
              "      response: {\n",
              "        action: 'complete',\n",
              "      }\n",
              "    };\n",
              "  }\n",
              "\n",
              "  for (const file of files) {\n",
              "    const li = document.createElement('li');\n",
              "    li.append(span(file.name, {fontWeight: 'bold'}));\n",
              "    li.append(span(\n",
              "        `(${file.type || 'n/a'}) - ${file.size} bytes, ` +\n",
              "        `last modified: ${\n",
              "            file.lastModifiedDate ? file.lastModifiedDate.toLocaleDateString() :\n",
              "                                    'n/a'} - `));\n",
              "    const percent = span('0% done');\n",
              "    li.appendChild(percent);\n",
              "\n",
              "    outputElement.appendChild(li);\n",
              "\n",
              "    const fileDataPromise = new Promise((resolve) => {\n",
              "      const reader = new FileReader();\n",
              "      reader.onload = (e) => {\n",
              "        resolve(e.target.result);\n",
              "      };\n",
              "      reader.readAsArrayBuffer(file);\n",
              "    });\n",
              "    // Wait for the data to be ready.\n",
              "    let fileData = yield {\n",
              "      promise: fileDataPromise,\n",
              "      response: {\n",
              "        action: 'continue',\n",
              "      }\n",
              "    };\n",
              "\n",
              "    // Use a chunked sending to avoid message size limits. See b/62115660.\n",
              "    let position = 0;\n",
              "    do {\n",
              "      const length = Math.min(fileData.byteLength - position, MAX_PAYLOAD_SIZE);\n",
              "      const chunk = new Uint8Array(fileData, position, length);\n",
              "      position += length;\n",
              "\n",
              "      const base64 = btoa(String.fromCharCode.apply(null, chunk));\n",
              "      yield {\n",
              "        response: {\n",
              "          action: 'append',\n",
              "          file: file.name,\n",
              "          data: base64,\n",
              "        },\n",
              "      };\n",
              "\n",
              "      let percentDone = fileData.byteLength === 0 ?\n",
              "          100 :\n",
              "          Math.round((position / fileData.byteLength) * 100);\n",
              "      percent.textContent = `${percentDone}% done`;\n",
              "\n",
              "    } while (position < fileData.byteLength);\n",
              "  }\n",
              "\n",
              "  // All done.\n",
              "  yield {\n",
              "    response: {\n",
              "      action: 'complete',\n",
              "    }\n",
              "  };\n",
              "}\n",
              "\n",
              "scope.google = scope.google || {};\n",
              "scope.google.colab = scope.google.colab || {};\n",
              "scope.google.colab._files = {\n",
              "  _uploadFiles,\n",
              "  _uploadFilesContinue,\n",
              "};\n",
              "})(self);\n",
              "</script> "
            ]
          },
          "metadata": {}
        },
        {
          "output_type": "stream",
          "name": "stdout",
          "text": [
            "Saving coffee_ratings_full.feather to coffee_ratings_full.feather\n"
          ]
        }
      ]
    },
    {
      "cell_type": "markdown",
      "source": [
        "# **Erreur relative des estimations ponctuelles**"
      ],
      "metadata": {
        "id": "NQGuuWyEtIW5"
      }
    },
    {
      "cell_type": "markdown",
      "source": [
        "## **La taille de l'échantillon est le nombre de lignes**"
      ],
      "metadata": {
        "id": "i1aPluOKtVYY"
      }
    },
    {
      "cell_type": "code",
      "source": [
        "coffee_ratings = pd.read_feather('/content/coffee_ratings_full.feather')"
      ],
      "metadata": {
        "id": "OVY3hbWUtpbM"
      },
      "execution_count": null,
      "outputs": []
    },
    {
      "cell_type": "markdown",
      "source": [
        "### **échantillon aléatoire simple**"
      ],
      "metadata": {
        "id": "EvrY6jwYtiBg"
      }
    },
    {
      "cell_type": "code",
      "source": [
        "len(coffee_ratings.sample(n=300))"
      ],
      "metadata": {
        "colab": {
          "base_uri": "https://localhost:8080/"
        },
        "id": "zllaPcpttPnF",
        "outputId": "28312b8d-b9ce-400e-f84e-36772ce5d566"
      },
      "execution_count": null,
      "outputs": [
        {
          "output_type": "execute_result",
          "data": {
            "text/plain": [
              "300"
            ]
          },
          "metadata": {},
          "execution_count": 5
        }
      ]
    },
    {
      "cell_type": "markdown",
      "source": [
        "### **l'échantillon aléatoire simple(25% de la population)**"
      ],
      "metadata": {
        "id": "JIGq6MkCuTq0"
      }
    },
    {
      "cell_type": "code",
      "source": [
        "len(coffee_ratings.sample(frac=0.25))\n"
      ],
      "metadata": {
        "colab": {
          "base_uri": "https://localhost:8080/"
        },
        "id": "arze_qYVudZH",
        "outputId": "f9c2d3b8-6e8d-48f8-8506-3e5760117fec"
      },
      "execution_count": null,
      "outputs": [
        {
          "output_type": "execute_result",
          "data": {
            "text/plain": [
              "334"
            ]
          },
          "metadata": {},
          "execution_count": 4
        }
      ]
    },
    {
      "cell_type": "markdown",
      "source": [
        "## **Différentes tailles de l'échantillon**"
      ],
      "metadata": {
        "id": "Q7zCjIGJu2DL"
      }
    },
    {
      "cell_type": "code",
      "source": [
        "coffee_ratings['total_cup_points'].mean()\n"
      ],
      "metadata": {
        "colab": {
          "base_uri": "https://localhost:8080/"
        },
        "id": "1H16X8J5u6jN",
        "outputId": "84022097-9a2b-4ad6-be94-587e9d7ab7ce"
      },
      "execution_count": null,
      "outputs": [
        {
          "output_type": "execute_result",
          "data": {
            "text/plain": [
              "82.15120328849028"
            ]
          },
          "metadata": {},
          "execution_count": 6
        }
      ]
    },
    {
      "cell_type": "code",
      "source": [
        "coffee_ratings.sample(n=10)['total_cup_points'].mean()"
      ],
      "metadata": {
        "colab": {
          "base_uri": "https://localhost:8080/"
        },
        "id": "mgPB3s4tvHS2",
        "outputId": "cf43d26a-cd99-4e08-ce62-e6ef9ead94c1"
      },
      "execution_count": null,
      "outputs": [
        {
          "output_type": "execute_result",
          "data": {
            "text/plain": [
              "81.85900000000001"
            ]
          },
          "metadata": {},
          "execution_count": 7
        }
      ]
    },
    {
      "cell_type": "code",
      "source": [
        "coffee_ratings.sample(n=100)['total_cup_points'].mean()"
      ],
      "metadata": {
        "colab": {
          "base_uri": "https://localhost:8080/"
        },
        "id": "zV-7hKhyvNZI",
        "outputId": "7c3acd7c-39ec-48b3-9225-6d918c7ddd94"
      },
      "execution_count": null,
      "outputs": [
        {
          "output_type": "execute_result",
          "data": {
            "text/plain": [
              "81.87960000000001"
            ]
          },
          "metadata": {},
          "execution_count": 8
        }
      ]
    },
    {
      "cell_type": "code",
      "source": [
        "coffee_ratings.sample(n=1000)['total_cup_points'].mean()\n"
      ],
      "metadata": {
        "colab": {
          "base_uri": "https://localhost:8080/"
        },
        "id": "0_gM63VgvZpq",
        "outputId": "de81a162-1114-4d1a-8d6d-0afaaa522a5d"
      },
      "execution_count": null,
      "outputs": [
        {
          "output_type": "execute_result",
          "data": {
            "text/plain": [
              "82.16349000000001"
            ]
          },
          "metadata": {},
          "execution_count": 9
        }
      ]
    },
    {
      "cell_type": "markdown",
      "source": [
        "# **Erreurs relatives**"
      ],
      "metadata": {
        "id": "-Y5Y1wrpvvVY"
      }
    },
    {
      "cell_type": "markdown",
      "source": [
        "## Paramètre de la population :\n"
      ],
      "metadata": {
        "id": "8FujasXCv1Ib"
      }
    },
    {
      "cell_type": "code",
      "source": [
        "population_mean = coffee_ratings['total_cup_points'].mean()"
      ],
      "metadata": {
        "id": "ZhqLmTO2v74u"
      },
      "execution_count": null,
      "outputs": []
    },
    {
      "cell_type": "markdown",
      "source": [
        "## Estimation ponctuelle :\n"
      ],
      "metadata": {
        "id": "35TT4Q_ZwLws"
      }
    },
    {
      "cell_type": "code",
      "source": [
        "sample_size = 1000"
      ],
      "metadata": {
        "id": "8AdFhIZzwlqe"
      },
      "execution_count": null,
      "outputs": []
    },
    {
      "cell_type": "code",
      "source": [
        "sample_mean = coffee_ratings.sample(n=sample_size)['total_cup_points'].mean()"
      ],
      "metadata": {
        "id": "DeY-b6dswNri"
      },
      "execution_count": null,
      "outputs": []
    },
    {
      "cell_type": "markdown",
      "source": [
        "## Erreur relative en pourcentage :\n"
      ],
      "metadata": {
        "id": "c1gpFdFPwwA7"
      }
    },
    {
      "cell_type": "code",
      "source": [
        "rel_error_pct = 100 * abs(population_mean-sample_mean) / population_mean\n",
        "rel_error_pct\n"
      ],
      "metadata": {
        "colab": {
          "base_uri": "https://localhost:8080/"
        },
        "id": "tmATAKqfwsQc",
        "outputId": "2fe19385-52df-4ceb-f0cf-28d08d816f41"
      },
      "execution_count": null,
      "outputs": [
        {
          "output_type": "execute_result",
          "data": {
            "text/plain": [
              "0.0046174472660500425"
            ]
          },
          "metadata": {},
          "execution_count": 23
        }
      ]
    },
    {
      "cell_type": "markdown",
      "source": [
        "## **Erreur relative par rapport à la taille de l'échantillon**"
      ],
      "metadata": {
        "id": "f3MwSa7rxFnw"
      }
    },
    {
      "cell_type": "code",
      "source": [
        "import matplotlib.pyplot as plt\n",
        "#errors.plot(x=\"sample_size\",y=\"relative_error\",kind=\"line\")\n",
        "#plt.show()"
      ],
      "metadata": {
        "id": "u91yp230xNcK"
      },
      "execution_count": null,
      "outputs": []
    },
    {
      "cell_type": "markdown",
      "source": [],
      "metadata": {
        "id": "Ta0CFjOTyXGG"
      }
    },
    {
      "cell_type": "markdown",
      "source": [
        "# **Créer une distribution de l'échantillon**\n"
      ],
      "metadata": {
        "id": "668Nd6k4ygdr"
      }
    },
    {
      "cell_type": "markdown",
      "source": [
        "### **Même code, réponse différente**"
      ],
      "metadata": {
        "id": "6eUk2-CCy4Fk"
      }
    },
    {
      "cell_type": "code",
      "source": [
        "coffee_ratings.sample(n=30)['total_cup_points'].mean()"
      ],
      "metadata": {
        "colab": {
          "base_uri": "https://localhost:8080/"
        },
        "id": "P9GpFiUpyuNi",
        "outputId": "1f8c061e-b1ea-43f2-fbed-f9340b2471ef"
      },
      "execution_count": null,
      "outputs": [
        {
          "output_type": "execute_result",
          "data": {
            "text/plain": [
              "81.79933333333334"
            ]
          },
          "metadata": {},
          "execution_count": 15
        }
      ]
    },
    {
      "cell_type": "code",
      "source": [
        "coffee_ratings.sample(n=30)['total_cup_points'].mean()"
      ],
      "metadata": {
        "colab": {
          "base_uri": "https://localhost:8080/"
        },
        "id": "-wNa61JDzBYL",
        "outputId": "9483668d-4cb3-4f8f-e72c-aaac987be210"
      },
      "execution_count": null,
      "outputs": [
        {
          "output_type": "execute_result",
          "data": {
            "text/plain": [
              "82.79633333333335"
            ]
          },
          "metadata": {},
          "execution_count": 16
        }
      ]
    },
    {
      "cell_type": "code",
      "source": [
        "coffee_ratings.sample(n=30)['total_cup_points'].mean()"
      ],
      "metadata": {
        "colab": {
          "base_uri": "https://localhost:8080/"
        },
        "id": "DlzIBkTBzEis",
        "outputId": "df3ace49-9ec7-45d2-f2d2-d6e195ee6334"
      },
      "execution_count": null,
      "outputs": [
        {
          "output_type": "execute_result",
          "data": {
            "text/plain": [
              "82.484"
            ]
          },
          "metadata": {},
          "execution_count": 17
        }
      ]
    },
    {
      "cell_type": "code",
      "source": [
        "coffee_ratings.sample(n=30)['total_cup_points'].mean()"
      ],
      "metadata": {
        "colab": {
          "base_uri": "https://localhost:8080/"
        },
        "id": "CWQ_9E23zGAy",
        "outputId": "7afb5262-663b-4526-9dee-7e97bf4f7446"
      },
      "execution_count": null,
      "outputs": [
        {
          "output_type": "execute_result",
          "data": {
            "text/plain": [
              "81.79566666666668"
            ]
          },
          "metadata": {},
          "execution_count": 18
        }
      ]
    },
    {
      "cell_type": "markdown",
      "source": [
        "### **Même code, 1000 fois**"
      ],
      "metadata": {
        "id": "_5K-vX3dzNvw"
      }
    },
    {
      "cell_type": "code",
      "source": [
        "mean_cup_points_1000 = []\n",
        "for i in range(1000):\n",
        "    mean_cup_points_1000.append(\n",
        "        coffee_ratings.sample(n=30)['total_cup_points'].mean())\n",
        "print(mean_cup_points_1000)"
      ],
      "metadata": {
        "colab": {
          "base_uri": "https://localhost:8080/"
        },
        "id": "UkbDs9FszRtS",
        "outputId": "f75b559b-46a3-4593-cd3e-a50b1b7831dc"
      },
      "execution_count": null,
      "outputs": [
        {
          "output_type": "stream",
          "name": "stdout",
          "text": [
            "[82.57066666666668, 82.542, 81.11999999999999, 82.28299999999999, 81.36200000000002, 82.12266666666666, 82.69166666666666, 82.58833333333332, 81.52600000000001, 81.223, 82.27, 82.00533333333333, 82.19800000000002, 81.992, 81.92766666666667, 82.11566666666667, 82.125, 81.98366666666668, 81.536, 81.70833333333333, 82.16066666666666, 82.35633333333334, 82.32866666666668, 82.28066666666668, 82.986, 82.88833333333332, 82.45333333333335, 82.54766666666666, 82.387, 82.20700000000002, 81.72233333333334, 81.35366666666667, 82.30633333333334, 81.91366666666666, 81.63366666666666, 82.24233333333333, 83.114, 82.90833333333333, 82.43900000000001, 81.959, 81.31733333333334, 81.56533333333333, 81.911, 82.19133333333333, 81.89166666666665, 82.39733333333334, 82.44200000000001, 81.95866666666667, 81.38666666666668, 82.07266666666666, 81.93066666666667, 81.12733333333334, 82.26366666666667, 82.327, 82.74933333333333, 82.662, 81.87366666666667, 83.09433333333332, 82.51466666666667, 82.06400000000001, 82.52766666666666, 82.70066666666666, 82.48733333333334, 81.56566666666667, 81.59666666666665, 82.14933333333332, 82.025, 82.395, 81.664, 81.48700000000001, 81.81133333333334, 82.42266666666667, 81.589, 83.162, 82.77633333333333, 82.469, 81.91366666666666, 81.807, 81.94000000000001, 82.49166666666666, 81.99533333333335, 82.55833333333334, 82.542, 82.79433333333333, 83.04266666666668, 82.42800000000001, 82.22, 81.90900000000002, 81.52533333333334, 81.47266666666668, 82.31133333333334, 82.01899999999999, 82.39533333333334, 82.47833333333334, 82.55833333333334, 82.10333333333334, 82.58566666666665, 82.533, 82.15233333333332, 82.67433333333332, 82.47766666666666, 81.93066666666667, 81.95866666666667, 81.55299999999998, 82.05, 82.72800000000001, 82.77533333333332, 82.45533333333333, 82.99066666666666, 81.97466666666666, 82.77833333333335, 81.8, 80.93066666666667, 81.54400000000001, 81.97166666666666, 81.81433333333332, 82.15566666666668, 82.26466666666667, 81.64166666666667, 81.47766666666666, 82.405, 81.48700000000001, 81.85866666666668, 80.94466666666666, 81.73400000000001, 82.47800000000001, 81.37233333333333, 82.00299999999999, 82.248, 82.18366666666667, 81.51633333333332, 82.461, 81.91733333333333, 82.74399999999999, 82.25566666666667, 82.14966666666666, 81.38866666666667, 82.15633333333334, 82.16166666666668, 81.17533333333334, 82.36866666666667, 82.17766666666667, 81.81700000000001, 81.625, 82.38166666666667, 81.63633333333333, 82.75066666666666, 82.34733333333334, 82.08866666666667, 81.27833333333334, 81.96766666666667, 82.35866666666668, 82.80833333333334, 82.39733333333334, 82.80066666666667, 82.60366666666667, 82.00033333333334, 82.48700000000001, 82.09966666666666, 83.17033333333333, 82.76666666666667, 81.703, 82.65533333333333, 81.32533333333335, 81.23466666666667, 81.956, 81.892, 82.55600000000001, 80.77999999999999, 82.23666666666666, 81.05300000000001, 83.10866666666668, 83.347, 82.71133333333334, 82.10333333333332, 82.22000000000001, 82.48566666666667, 82.22566666666667, 82.19766666666666, 80.944, 81.68599999999999, 81.70533333333334, 82.062, 82.03066666666668, 82.653, 81.73033333333335, 80.98299999999999, 82.86466666666666, 81.87166666666667, 82.08566666666665, 81.59766666666665, 81.58566666666665, 82.05333333333334, 81.48966666666666, 82.56966666666668, 82.39033333333333, 82.47266666666668, 81.99533333333333, 82.00800000000001, 82.4, 82.32300000000001, 82.13633333333334, 82.21199999999999, 82.54933333333334, 82.33333333333333, 82.65433333333334, 81.17233333333334, 82.31133333333334, 82.18299999999999, 80.96033333333334, 82.75233333333334, 82.411, 81.06066666666666, 81.60866666666668, 81.46133333333334, 81.87733333333334, 82.425, 82.40933333333334, 81.54500000000002, 82.60833333333333, 82.18333333333334, 82.29766666666667, 83.13266666666665, 81.89733333333334, 82.09200000000001, 82.19733333333333, 82.02233333333334, 82.583, 82.14166666666667, 82.51666666666667, 81.92, 82.26133333333334, 82.195, 82.00033333333334, 82.164, 82.00566666666667, 82.603, 81.31566666666666, 81.98666666666666, 82.095, 82.36566666666666, 82.289, 82.49666666666667, 82.49466666666667, 82.03466666666667, 83.003, 82.49133333333333, 82.90066666666667, 81.2, 82.89933333333333, 82.034, 82.15, 82.23166666666667, 82.123, 82.58633333333334, 82.88033333333333, 82.09233333333333, 81.90866666666668, 81.82199999999999, 81.41933333333333, 82.38333333333331, 82.21933333333332, 82.30933333333334, 81.97800000000001, 82.73366666666668, 82.74766666666667, 82.10566666666665, 82.78666666666666, 82.33966666666667, 82.57766666666666, 82.11666666666666, 82.292, 82.50366666666667, 81.48033333333333, 82.31099999999999, 82.75500000000001, 82.06099999999999, 82.61666666666666, 81.96933333333332, 81.937, 81.86733333333333, 81.64566666666668, 82.53066666666668, 81.94500000000001, 82.09166666666667, 81.69533333333334, 82.05933333333334, 81.96433333333334, 82.58066666666667, 81.96233333333335, 82.21633333333332, 81.30633333333334, 82.19733333333333, 82.59200000000001, 82.18866666666666, 82.51700000000001, 81.43333333333334, 82.18299999999999, 82.267, 82.234, 82.34433333333332, 80.43066666666667, 82.58066666666667, 81.77833333333334, 81.54733333333334, 82.91133333333333, 81.906, 81.47533333333334, 82.69666666666666, 82.21933333333332, 81.35400000000001, 81.813, 82.64866666666667, 81.79, 81.94733333333333, 81.86833333333333, 82.019, 81.30566666666667, 82.331, 82.26133333333334, 81.69500000000001, 82.21666666666667, 82.80300000000001, 82.79433333333334, 81.867, 82.17833333333334, 81.96966666666665, 83.42733333333334, 82.06666666666666, 82.3, 82.27633333333333, 81.68333333333334, 82.41633333333334, 82.91233333333335, 81.659, 82.44433333333333, 81.80866666666667, 81.86066666666667, 82.41366666666666, 82.922, 82.68866666666666, 81.94233333333335, 82.26966666666665, 83.278, 81.792, 81.62433333333334, 82.22733333333333, 82.62233333333333, 83.06700000000001, 81.531, 81.88333333333334, 82.71633333333334, 82.837, 81.76566666666666, 81.85033333333334, 82.39233333333333, 82.00833333333334, 82.17533333333334, 82.01966666666667, 82.85900000000001, 82.981, 81.964, 82.039, 82.00466666666668, 82.27766666666666, 81.42000000000002, 82.68366666666665, 82.33066666666667, 82.32266666666668, 81.97766666666666, 81.661, 82.36566666666667, 81.82199999999999, 81.56133333333334, 82.53933333333335, 81.27, 81.87266666666666, 82.49466666666667, 82.07233333333333, 82.18433333333334, 82.06666666666666, 81.55866666666667, 82.56166666666668, 82.25233333333333, 81.492, 81.73666666666668, 82.00633333333333, 82.07833333333333, 82.03333333333333, 82.431, 81.83833333333334, 82.16866666666665, 82.44433333333333, 81.94966666666666, 82.162, 81.95866666666666, 82.39633333333333, 82.42233333333334, 82.10566666666666, 82.69933333333333, 82.20033333333335, 82.16233333333335, 82.622, 82.45033333333335, 82.27233333333334, 81.63033333333333, 82.89466666666667, 81.86366666666666, 82.23066666666666, 82.11966666666667, 82.37266666666667, 82.45266666666666, 81.23466666666667, 81.88566666666665, 82.49566666666668, 82.02266666666668, 81.52766666666666, 82.486, 82.00233333333334, 81.95033333333335, 82.28933333333335, 82.253, 82.384, 82.33699999999999, 81.47800000000001, 82.39766666666668, 82.398, 80.56400000000001, 81.153, 82.362, 81.00933333333334, 82.55833333333334, 83.13866666666667, 81.76633333333332, 82.166, 81.34933333333333, 82.019, 82.264, 82.1, 81.72800000000001, 82.13666666666667, 81.83733333333333, 81.98366666666668, 83.37466666666667, 81.78033333333333, 82.13899999999998, 82.64699999999999, 82.24466666666667, 82.87833333333333, 81.62833333333333, 80.95033333333332, 82.49166666666666, 82.26666666666667, 82.46966666666667, 81.58866666666667, 81.20866666666667, 81.742, 82.453, 82.42166666666667, 82.07233333333333, 82.38866666666668, 81.77999999999999, 80.703, 82.68033333333332, 82.12433333333334, 82.22800000000001, 82.23566666666666, 82.24733333333334, 82.31466666666667, 82.58666666666667, 82.38666666666667, 82.881, 82.55300000000001, 82.284, 82.06633333333333, 82.45266666666666, 81.22266666666668, 82.23, 82.92133333333332, 82.403, 82.628, 82.41033333333333, 82.53066666666668, 81.81733333333334, 81.73100000000001, 82.421, 82.67233333333334, 83.05866666666667, 81.48366666666666, 82.825, 82.52133333333333, 81.80266666666667, 82.59400000000001, 82.18333333333332, 82.24533333333332, 82.17533333333334, 81.80366666666667, 81.90533333333333, 81.19466666666668, 82.36233333333334, 81.9, 81.79400000000001, 81.77766666666666, 81.74800000000002, 81.73299999999999, 81.94433333333333, 81.961, 81.164, 82.13300000000001, 81.872, 81.33866666666667, 82.60066666666667, 82.77733333333332, 81.99966666666666, 81.786, 82.60333333333334, 83.09733333333334, 82.22399999999998, 81.90199999999999, 82.54233333333333, 82.35033333333334, 82.46466666666667, 81.83133333333333, 81.38366666666667, 81.95000000000002, 81.74433333333333, 81.39633333333333, 81.59200000000001, 81.45266666666666, 81.85033333333334, 81.87566666666666, 82.35533333333333, 82.067, 82.28033333333333, 81.98933333333333, 82.52533333333332, 82.15533333333333, 82.29733333333334, 81.16133333333333, 82.39233333333333, 82.30033333333334, 81.10233333333333, 82.825, 81.36066666666666, 81.65833333333333, 82.90533333333333, 82.11933333333333, 82.675, 81.24499999999999, 82.44699999999999, 82.747, 82.61433333333335, 82.04166666666667, 81.98566666666666, 82.0, 82.75266666666667, 82.25600000000001, 81.88366666666667, 81.91966666666667, 82.58266666666665, 82.278, 81.96433333333334, 81.95533333333333, 82.66933333333333, 82.04166666666667, 82.11633333333333, 82.26700000000001, 81.13966666666667, 82.16133333333333, 82.15000000000002, 82.87866666666667, 81.80033333333334, 81.364, 82.79233333333333, 81.61733333333335, 82.60866666666668, 81.92833333333333, 82.03366666666668, 82.69533333333334, 82.10333333333334, 82.85, 82.06666666666666, 82.90533333333333, 83.09266666666666, 82.03766666666667, 81.94399999999999, 81.92433333333332, 82.55866666666667, 81.92533333333334, 82.60866666666668, 83.02366666666668, 81.75366666666667, 81.28066666666668, 81.96433333333334, 81.925, 82.597, 82.04966666666665, 82.68366666666667, 81.95466666666667, 82.14766666666667, 82.633, 82.22833333333334, 82.06133333333334, 81.61933333333333, 82.32233333333333, 82.48633333333333, 82.01566666666666, 82.17866666666667, 81.58666666666667, 82.23, 81.96633333333332, 82.18666666666668, 82.31166666666668, 81.99133333333334, 82.05300000000001, 81.74766666666666, 81.64800000000001, 81.59466666666667, 82.34933333333332, 82.14500000000001, 82.53433333333334, 82.17800000000001, 81.12533333333334, 82.59566666666666, 82.15833333333333, 82.59466666666667, 82.909, 82.50033333333333, 82.37566666666667, 81.60799999999999, 82.13333333333334, 81.97999999999999, 81.173, 81.96700000000001, 81.93366666666665, 82.13366666666667, 82.27766666666668, 82.40266666666666, 81.80266666666667, 82.70033333333335, 82.86166666666668, 82.79666666666667, 82.45066666666666, 83.247, 82.222, 82.72633333333333, 81.30566666666667, 82.46666666666665, 81.24166666666666, 82.359, 82.516, 81.78833333333333, 81.76333333333332, 81.99433333333333, 82.347, 82.88166666666667, 82.04166666666667, 82.206, 82.38633333333334, 81.73299999999999, 82.63566666666667, 81.80033333333334, 81.91100000000002, 82.456, 81.99966666666666, 82.30833333333334, 81.84633333333333, 82.003, 82.2, 82.28366666666666, 81.53933333333335, 82.46966666666667, 82.60600000000001, 82.484, 82.132, 82.59200000000001, 81.53366666666668, 82.61133333333332, 82.55833333333334, 81.681, 80.883, 82.80833333333334, 82.43599999999999, 81.93933333333334, 82.10533333333333, 82.25233333333334, 82.13633333333334, 82.687, 82.66433333333335, 82.039, 82.18366666666667, 83.30866666666667, 81.61366666666666, 81.71666666666667, 82.35533333333333, 82.78333333333333, 82.19733333333333, 82.59166666666667, 81.89366666666666, 82.467, 82.17733333333332, 82.246, 81.709, 82.27466666666668, 82.23766666666667, 82.333, 82.27166666666666, 82.16133333333333, 82.40033333333334, 81.57000000000001, 81.74133333333333, 82.78833333333334, 83.36766666666666, 81.94466666666668, 82.31433333333334, 82.212, 82.08066666666667, 81.83566666666665, 82.13333333333334, 82.92533333333334, 81.62333333333335, 82.49833333333332, 81.78099999999999, 82.18299999999999, 83.02766666666666, 82.368, 82.18933333333334, 82.80066666666669, 82.01700000000001, 81.895, 81.61099999999998, 82.53833333333334, 82.086, 81.70833333333333, 82.63933333333334, 81.67166666666665, 82.344, 82.40566666666668, 82.83133333333333, 81.07766666666666, 81.56500000000001, 82.07, 82.134, 82.10300000000001, 81.43266666666666, 82.64166666666667, 82.06833333333333, 82.214, 82.59166666666667, 82.28966666666666, 81.80566666666665, 82.54766666666667, 82.236, 82.04233333333333, 83.00866666666667, 81.869, 82.391, 82.15633333333334, 82.07833333333335, 81.85233333333332, 81.91133333333333, 83.07233333333333, 82.10333333333332, 82.16833333333334, 82.275, 82.44533333333334, 81.23033333333333, 81.82033333333334, 81.94233333333335, 81.581, 82.544, 81.39133333333332, 82.34133333333334, 82.19733333333333, 81.96966666666667, 80.56633333333333, 81.33633333333334, 82.34200000000001, 82.41933333333333, 81.96566666666668, 82.06700000000001, 82.64466666666667, 81.96866666666665, 82.19733333333333, 81.43666666666668, 82.73366666666666, 82.40933333333334, 82.44233333333334, 82.50066666666666, 82.48333333333333, 82.43066666666667, 82.12999999999998, 81.364, 82.273, 82.55199999999999, 83.15566666666668, 82.806, 81.89633333333333, 81.24166666666666, 82.57499999999999, 82.8, 82.91666666666667, 82.298, 82.22233333333334, 82.19166666666666, 82.60266666666666, 82.672, 82.389, 82.66433333333335, 82.236, 82.19066666666666, 81.65566666666668, 82.34500000000001, 82.29666666666667, 82.46266666666666, 81.81366666666666, 81.61066666666666, 83.08300000000001, 82.12533333333334, 82.68833333333332, 81.89766666666668, 81.97200000000001, 82.28333333333333, 81.65266666666666, 82.30566666666667, 82.27833333333334, 81.95566666666667, 82.14166666666667, 82.16633333333334, 82.389, 81.28299999999999, 82.76066666666665, 81.60066666666668, 82.28033333333333, 82.069, 82.325, 81.459, 81.54199999999999, 82.72833333333334, 83.04766666666667, 82.05266666666667, 82.91066666666666, 81.87533333333333, 82.167, 82.292, 82.111, 81.31433333333332, 82.32433333333333, 82.68100000000001, 82.45, 82.35, 82.23633333333332, 81.58433333333333, 81.57766666666666, 81.172, 82.501, 82.16166666666668, 82.60266666666666, 82.80766666666665, 81.791, 82.387, 82.78033333333333, 82.08933333333334, 81.95566666666667, 82.26700000000001, 83.25333333333333, 82.10300000000001, 82.387, 82.30266666666667, 82.31299999999997, 82.4, 82.148, 82.37466666666667, 81.63633333333334, 82.66066666666666, 82.86766666666668, 82.35066666666667, 81.248, 82.48333333333333, 81.91733333333335, 81.73333333333333, 81.55300000000001, 82.29666666666667, 80.953, 82.925, 82.92166666666665, 81.75266666666667, 82.94166666666666, 82.17733333333334, 82.81099999999999, 81.85833333333333, 82.72566666666667, 82.90833333333333, 82.08700000000002, 81.144, 81.85566666666665, 82.02533333333334, 81.708, 81.85900000000001, 81.768, 81.28666666666668, 81.91033333333333, 82.33866666666667, 81.36466666666666, 82.15233333333332, 81.94166666666666, 82.331, 81.82466666666666, 81.73100000000001, 82.65266666666666, 82.32199999999999, 82.47566666666667, 82.297, 82.32533333333332, 82.45833333333333, 82.19366666666666, 82.42766666666667, 81.62766666666667, 81.92900000000002, 81.289, 82.37766666666667, 82.16433333333333, 80.90033333333334, 81.68966666666667, 83.31700000000001, 83.15, 81.99266666666668, 82.27966666666666, 82.231, 82.45066666666666, 82.06166666666668, 82.50600000000001, 82.36933333333333, 82.24933333333333, 82.20033333333335, 82.59433333333332, 82.19166666666666, 81.95266666666666, 81.49466666666667, 82.53266666666667, 81.817, 82.619, 82.27000000000001, 82.764, 81.88066666666667, 81.61166666666668, 81.82866666666668, 80.85666666666667, 82.38066666666667, 81.33666666666666, 82.28366666666668, 82.64933333333335, 82.35566666666666, 82.25833333333334, 82.66233333333335, 81.75266666666667, 81.887, 82.25566666666667, 82.41966666666667, 82.807, 82.19533333333334, 81.05866666666667, 81.325, 82.51966666666667, 82.95833333333333, 82.103, 81.89566666666664, 82.26066666666667, 81.97233333333334, 82.03333333333333, 82.42866666666667, 82.51933333333334, 82.10300000000001, 82.627, 81.99533333333333, 81.88366666666667, 82.075, 82.37733333333333, 81.15866666666666, 81.98366666666668, 82.50866666666666, 82.14166666666667, 82.289, 82.27233333333334, 82.28033333333335, 82.378, 82.622, 82.664, 82.15033333333334, 81.584, 82.49733333333333, 82.02833333333335, 82.08999999999999, 82.60266666666666, 82.06433333333332, 82.82000000000001, 82.208, 82.73866666666666, 81.64500000000001, 82.19966666666666]\n"
          ]
        }
      ]
    },
    {
      "cell_type": "markdown",
      "source": [
        "## **Répartition des moyennes de l'échantillon pour la taille 30**"
      ],
      "metadata": {
        "id": "is0OhTpnzxCV"
      }
    },
    {
      "cell_type": "code",
      "source": [
        "import matplotlib.pyplot as plt\n",
        "plt.hist(mean_cup_points_1000, bins=30)\n",
        "plt.show()"
      ],
      "metadata": {
        "colab": {
          "base_uri": "https://localhost:8080/",
          "height": 430
        },
        "id": "qly8Qp2dzzcO",
        "outputId": "57eb774c-9a61-4dc2-9d23-414fe0be0f97"
      },
      "execution_count": null,
      "outputs": [
        {
          "output_type": "display_data",
          "data": {
            "text/plain": [
              "<Figure size 640x480 with 1 Axes>"
            ],
            "image/png": "[encoded data removed]"
          },
          "metadata": {}
        }
      ]
    },
    {
      "cell_type": "markdown",
      "source": [
        "La distribution de l'échantillonnage est une distribution de\n",
        "répétitions des estimations ponctuelles.\n"
      ],
      "metadata": {
        "id": "v7HzTXNC0Szd"
      }
    },
    {
      "cell_type": "markdown",
      "source": [
        "#**Erreurs types et le théorème de la limite centrale**\n"
      ],
      "metadata": {
        "id": "V00h89wA0oMF"
      }
    },
    {
      "cell_type": "markdown",
      "source": [
        "# **Conséquences du théorème central limite**\n",
        "\n",
        "Les moyennes des échantillons indépendants ont environ **distributions normales.**\n",
        "\n",
        "À mesure que la taille de l’échantillon augmente,\n",
        "\n",
        "- La distribution des moyennes devient plus proche d’être normalement distribué.\n",
        "\n",
        "- La largeur de la distribution d'échantillonnage devient plus étroit."
      ],
      "metadata": {
        "id": "LkCQWR-o1uCd"
      }
    },
    {
      "cell_type": "markdown",
      "source": [
        "## **Moyenne de la répartition de la population et de l'échantillonnage**"
      ],
      "metadata": {
        "id": "1Dlg7l412ODw"
      }
    },
    {
      "cell_type": "code",
      "source": [
        "coffee_ratings['total_cup_points'].mean()"
      ],
      "metadata": {
        "colab": {
          "base_uri": "https://localhost:8080/"
        },
        "id": "O1R-s9JD2HRO",
        "outputId": "0f3c1804-81f1-40f2-e0bd-9135e4d5c1df"
      },
      "execution_count": null,
      "outputs": [
        {
          "output_type": "execute_result",
          "data": {
            "text/plain": [
              "82.15120328849028"
            ]
          },
          "metadata": {},
          "execution_count": 21
        }
      ]
    },
    {
      "cell_type": "markdown",
      "source": [
        "## **Écarts types de la population et de la distribution d’échantillonnage**"
      ],
      "metadata": {
        "id": "h2V6bCRF2jQC"
      }
    },
    {
      "cell_type": "code",
      "source": [
        "coffee_ratings['total_cup_points'].std(ddof=0)\n"
      ],
      "metadata": {
        "colab": {
          "base_uri": "https://localhost:8080/"
        },
        "id": "EJmPg8t60fId",
        "outputId": "998249e7-15d8-407f-e9ab-4fb63fff7ae5"
      },
      "execution_count": null,
      "outputs": [
        {
          "output_type": "execute_result",
          "data": {
            "text/plain": [
              "2.685858187306438"
            ]
          },
          "metadata": {},
          "execution_count": 22
        }
      ]
    },
    {
      "cell_type": "markdown",
      "source": [
        "Spécifier ddof=0 en appelant .std()sur la population\n",
        "\n",
        "Spécifier ddof=1 en appelant np.std()sur l'échantillon ou les distributions de l'échantillonnage"
      ],
      "metadata": {
        "id": "cVFkTIrA2x8k"
      }
    },
    {
      "cell_type": "markdown",
      "source": [
        "## **Erreur standard**\n",
        "\n",
        " Écart type de la distribution d'échantillonnage\n",
        "\n",
        " Un outil important pour comprendre la variabilité de l’échantillonnage"
      ],
      "metadata": {
        "id": "al76hwFV3iGZ"
      }
    },
    {
      "cell_type": "code",
      "source": [],
      "metadata": {
        "id": "uhT9_ZiP3Nj8"
      },
      "execution_count": null,
      "outputs": []
    }
  ]
}